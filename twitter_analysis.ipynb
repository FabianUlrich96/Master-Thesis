{
 "cells": [
  {
   "cell_type": "code",
   "execution_count": 39,
   "id": "f53a8594",
   "metadata": {},
   "outputs": [],
   "source": [
    "from keybert import KeyBERT\n",
    "import pandas as pd\n",
    "from vaderSentiment.vaderSentiment import SentimentIntensityAnalyzer\n",
    "import matplotlib.pyplot as plt\n",
    "import seaborn as sns\n",
    "sns.set_theme(palette=\"pastel\")"
   ]
  },
  {
   "cell_type": "code",
   "execution_count": 3,
   "id": "0a3ba071",
   "metadata": {},
   "outputs": [],
   "source": [
    "work_dir = \"D:/OneDrive - Otto-Friedrich-Universität Bamberg/Master/Masterarbeit/Data\""
   ]
  },
  {
   "cell_type": "code",
   "execution_count": 13,
   "id": "12c60d88",
   "metadata": {},
   "outputs": [],
   "source": [
    "tweets_df = pd.read_csv(work_dir + \"/Twitter/all_tweets.csv\")"
   ]
  },
  {
   "cell_type": "code",
   "execution_count": 14,
   "id": "e3fc4480",
   "metadata": {},
   "outputs": [
    {
     "name": "stdout",
     "output_type": "stream",
     "text": [
      "(48278, 5)\n"
     ]
    }
   ],
   "source": [
    "print(tweets_df.shape)"
   ]
  },
  {
   "cell_type": "code",
   "execution_count": 15,
   "id": "a74e9e07",
   "metadata": {},
   "outputs": [],
   "source": [
    "tweets_df['date'] = pd.to_datetime(tweets_df['date'], errors='coerce')\n"
   ]
  },
  {
   "cell_type": "code",
   "execution_count": 21,
   "id": "82c74af4",
   "metadata": {},
   "outputs": [],
   "source": [
    "tweets_df = tweets_df[(tweets_df['date'] > \"2020-07-08\")]\n",
    "\n"
   ]
  },
  {
   "cell_type": "code",
   "execution_count": 25,
   "id": "adf4cd05",
   "metadata": {},
   "outputs": [
    {
     "name": "stdout",
     "output_type": "stream",
     "text": [
      "(22452, 5)\n",
      "0        @kkklawitter @EggMarkus @sepp_reitberger Das e...\n",
      "1        amperio GmbH: mobileeee und amperio starten la...\n",
      "2        Zur Ladeinfrastruktur für Elektrofahrzeuge geh...\n",
      "3        @chris_pyak @JRehborn @HerrPhteven Dazu noch n...\n",
      "4        @Mingiam10 @kkklawitter Mein Punkt ist ja der ...\n",
      "                               ...                        \n",
      "22447    Ich hasse es: Defekter HPC-Lader der @EnBW in ...\n",
      "22448    Lego-Klavier, Elektro-Ladesäule, Motor-Boot, M...\n",
      "22449    Lego-Klavier, Elektro-Ladesäule, Motor-Boot, M...\n",
      "22450    @thestanceman1 Hat er ja Recht. Das ist innova...\n",
      "22451    Deutsche: wir wollen schnelles, zeitgemäßes In...\n",
      "Name: tweet, Length: 22452, dtype: object\n"
     ]
    }
   ],
   "source": [
    "print(tweets_df.shape)\n",
    "print(tweets_df[\"tweet\"])"
   ]
  },
  {
   "cell_type": "code",
   "execution_count": 27,
   "id": "5bbb9737",
   "metadata": {},
   "outputs": [],
   "source": [
    "# calculate Tweet sentiment\n",
    "\n",
    "analyzer = SentimentIntensityAnalyzer()\n",
    "def calculate_sentiment(dataframe):\n",
    "    utf_encoded = dataframe[\"tweet\"].encode('utf-16', 'surrogatepass').decode('utf-16')\n",
    "    vs = analyzer.polarity_scores(utf_encoded)\n",
    "    neg_list.append(vs[\"neg\"])\n",
    "    neu_list.append(vs[\"neu\"])\n",
    "    pos_list.append(vs[\"pos\"])\n",
    "    com_list.append(vs[\"compound\"])\n",
    "    return dataframe"
   ]
  },
  {
   "cell_type": "code",
   "execution_count": 28,
   "id": "a52f7303",
   "metadata": {},
   "outputs": [],
   "source": [
    "neg_list = []\n",
    "neu_list = []\n",
    "pos_list = []\n",
    "com_list = []\n",
    "tweets_df = tweets_df.apply(lambda x: calculate_sentiment(x), axis=1)"
   ]
  },
  {
   "cell_type": "code",
   "execution_count": 29,
   "id": "07bf033d",
   "metadata": {},
   "outputs": [],
   "source": [
    "tweets_df[\"negative\"] = neg_list\n",
    "tweets_df[\"neutral\"] = neu_list\n",
    "tweets_df[\"positive\"] = pos_list\n",
    "tweets_df[\"compound\"] = com_list"
   ]
  },
  {
   "cell_type": "code",
   "execution_count": 30,
   "id": "78556904",
   "metadata": {},
   "outputs": [
    {
     "name": "stdout",
     "output_type": "stream",
     "text": [
      "       Unnamed: 0                      date             user  \\\n",
      "0               0 2022-04-26 08:44:26+00:00   ReinerKurzmann   \n",
      "1               1 2022-04-26 08:44:03+00:00  na_presseportal   \n",
      "2               2 2022-04-26 08:40:02+00:00     SmartHomeEU1   \n",
      "3               3 2022-04-26 08:32:54+00:00       EPhisoloph   \n",
      "4               4 2022-04-26 08:26:51+00:00           Amie42   \n",
      "...           ...                       ...              ...   \n",
      "22447       22447 2020-08-07 08:20:57+00:00      c_schwarzer   \n",
      "22448       22448 2020-08-07 07:48:32+00:00      FAZ_Technik   \n",
      "22449       22449 2020-08-07 07:48:32+00:00          FAZ_NET   \n",
      "22450       22450 2020-08-07 05:52:55+00:00      HMitterwald   \n",
      "22451       22451 2020-08-07 05:44:34+00:00    thestanceman1   \n",
      "\n",
      "                                                   tweet  \\\n",
      "0      @kkklawitter @EggMarkus @sepp_reitberger Das e...   \n",
      "1      amperio GmbH: mobileeee und amperio starten la...   \n",
      "2      Zur Ladeinfrastruktur für Elektrofahrzeuge geh...   \n",
      "3      @chris_pyak @JRehborn @HerrPhteven Dazu noch n...   \n",
      "4      @Mingiam10 @kkklawitter Mein Punkt ist ja der ...   \n",
      "...                                                  ...   \n",
      "22447  Ich hasse es: Defekter HPC-Lader der @EnBW in ...   \n",
      "22448  Lego-Klavier, Elektro-Ladesäule, Motor-Boot, M...   \n",
      "22449  Lego-Klavier, Elektro-Ladesäule, Motor-Boot, M...   \n",
      "22450  @thestanceman1 Hat er ja Recht. Das ist innova...   \n",
      "22451  Deutsche: wir wollen schnelles, zeitgemäßes In...   \n",
      "\n",
      "                                                     url  negative  neutral  \\\n",
      "0      https://twitter.com/ReinerKurzmann/status/1518...     0.154    0.846   \n",
      "1      https://twitter.com/na_presseportal/status/151...     0.000    1.000   \n",
      "2      https://twitter.com/SmartHomeEU1/status/151887...     0.000    1.000   \n",
      "3      https://twitter.com/EPhisoloph/status/15188707...     0.000    1.000   \n",
      "4      https://twitter.com/Amie42/status/151886919943...     0.178    0.822   \n",
      "...                                                  ...       ...      ...   \n",
      "22447  https://twitter.com/c_schwarzer/status/1291650...     0.000    1.000   \n",
      "22448  https://twitter.com/FAZ_Technik/status/1291642...     0.000    1.000   \n",
      "22449  https://twitter.com/FAZ_NET/status/12916423651...     0.000    1.000   \n",
      "22450  https://twitter.com/HMitterwald/status/1291613...     0.085    0.852   \n",
      "22451  https://twitter.com/thestanceman1/status/12916...     0.000    0.736   \n",
      "\n",
      "       positive  compound  \n",
      "0         0.000   -0.8316  \n",
      "1         0.000    0.0000  \n",
      "2         0.000    0.0000  \n",
      "3         0.000    0.0000  \n",
      "4         0.000   -0.8316  \n",
      "...         ...       ...  \n",
      "22447     0.000    0.0000  \n",
      "22448     0.000    0.0000  \n",
      "22449     0.000    0.0000  \n",
      "22450     0.063   -0.2500  \n",
      "22451     0.264    0.7793  \n",
      "\n",
      "[22452 rows x 9 columns]\n"
     ]
    }
   ],
   "source": [
    "print(tweets_df)"
   ]
  },
  {
   "cell_type": "code",
   "execution_count": 31,
   "id": "142de78f",
   "metadata": {},
   "outputs": [],
   "source": [
    "def assign_sentiment(row):\n",
    "    float_compound = float(row['compound'])\n",
    "    if float_compound >= 0.05:\n",
    "        val = 'Positive'\n",
    "    elif float_compound <= -0.05:\n",
    "        val = 'Negative'\n",
    "    else:\n",
    "        val = 'Neutral'\n",
    "    return val"
   ]
  },
  {
   "cell_type": "code",
   "execution_count": 32,
   "id": "a7d55b82",
   "metadata": {},
   "outputs": [],
   "source": [
    "tweets_df['sentiment'] = tweets_df.apply(assign_sentiment, axis=1)"
   ]
  },
  {
   "cell_type": "code",
   "execution_count": 33,
   "id": "0a2ba115",
   "metadata": {},
   "outputs": [
    {
     "name": "stdout",
     "output_type": "stream",
     "text": [
      "       Unnamed: 0                      date             user  \\\n",
      "0               0 2022-04-26 08:44:26+00:00   ReinerKurzmann   \n",
      "1               1 2022-04-26 08:44:03+00:00  na_presseportal   \n",
      "2               2 2022-04-26 08:40:02+00:00     SmartHomeEU1   \n",
      "3               3 2022-04-26 08:32:54+00:00       EPhisoloph   \n",
      "4               4 2022-04-26 08:26:51+00:00           Amie42   \n",
      "...           ...                       ...              ...   \n",
      "22447       22447 2020-08-07 08:20:57+00:00      c_schwarzer   \n",
      "22448       22448 2020-08-07 07:48:32+00:00      FAZ_Technik   \n",
      "22449       22449 2020-08-07 07:48:32+00:00          FAZ_NET   \n",
      "22450       22450 2020-08-07 05:52:55+00:00      HMitterwald   \n",
      "22451       22451 2020-08-07 05:44:34+00:00    thestanceman1   \n",
      "\n",
      "                                                   tweet  \\\n",
      "0      @kkklawitter @EggMarkus @sepp_reitberger Das e...   \n",
      "1      amperio GmbH: mobileeee und amperio starten la...   \n",
      "2      Zur Ladeinfrastruktur für Elektrofahrzeuge geh...   \n",
      "3      @chris_pyak @JRehborn @HerrPhteven Dazu noch n...   \n",
      "4      @Mingiam10 @kkklawitter Mein Punkt ist ja der ...   \n",
      "...                                                  ...   \n",
      "22447  Ich hasse es: Defekter HPC-Lader der @EnBW in ...   \n",
      "22448  Lego-Klavier, Elektro-Ladesäule, Motor-Boot, M...   \n",
      "22449  Lego-Klavier, Elektro-Ladesäule, Motor-Boot, M...   \n",
      "22450  @thestanceman1 Hat er ja Recht. Das ist innova...   \n",
      "22451  Deutsche: wir wollen schnelles, zeitgemäßes In...   \n",
      "\n",
      "                                                     url  negative  neutral  \\\n",
      "0      https://twitter.com/ReinerKurzmann/status/1518...     0.154    0.846   \n",
      "1      https://twitter.com/na_presseportal/status/151...     0.000    1.000   \n",
      "2      https://twitter.com/SmartHomeEU1/status/151887...     0.000    1.000   \n",
      "3      https://twitter.com/EPhisoloph/status/15188707...     0.000    1.000   \n",
      "4      https://twitter.com/Amie42/status/151886919943...     0.178    0.822   \n",
      "...                                                  ...       ...      ...   \n",
      "22447  https://twitter.com/c_schwarzer/status/1291650...     0.000    1.000   \n",
      "22448  https://twitter.com/FAZ_Technik/status/1291642...     0.000    1.000   \n",
      "22449  https://twitter.com/FAZ_NET/status/12916423651...     0.000    1.000   \n",
      "22450  https://twitter.com/HMitterwald/status/1291613...     0.085    0.852   \n",
      "22451  https://twitter.com/thestanceman1/status/12916...     0.000    0.736   \n",
      "\n",
      "       positive  compound sentiment  \n",
      "0         0.000   -0.8316  Negative  \n",
      "1         0.000    0.0000   Neutral  \n",
      "2         0.000    0.0000   Neutral  \n",
      "3         0.000    0.0000   Neutral  \n",
      "4         0.000   -0.8316  Negative  \n",
      "...         ...       ...       ...  \n",
      "22447     0.000    0.0000   Neutral  \n",
      "22448     0.000    0.0000   Neutral  \n",
      "22449     0.000    0.0000   Neutral  \n",
      "22450     0.063   -0.2500  Negative  \n",
      "22451     0.264    0.7793  Positive  \n",
      "\n",
      "[22452 rows x 10 columns]\n"
     ]
    }
   ],
   "source": [
    "print(tweets_df)"
   ]
  },
  {
   "cell_type": "code",
   "execution_count": 35,
   "id": "2f5180ed",
   "metadata": {},
   "outputs": [],
   "source": [
    "tweet_sentiment = tweets_df.groupby(['sentiment']).size()\n",
    "\n",
    "positive = tweet_sentiment['Positive']\n",
    "neutral = tweet_sentiment['Neutral']\n",
    "negative = tweet_sentiment['Negative']\n",
    "\n",
    "labels = ['Positive', 'Neutral', 'Negative' ]\n",
    "sentiment_count = [positive, neutral, negative]"
   ]
  },
  {
   "cell_type": "code",
   "execution_count": 40,
   "id": "86d2f711",
   "metadata": {},
   "outputs": [
    {
     "data": {
      "image/png": "[encoded data removed]",
      "text/plain": [
       "<Figure size 432x288 with 1 Axes>"
      ]
     },
     "metadata": {},
     "output_type": "display_data"
    }
   ],
   "source": [
    "plt.pie(sentiment_count, labels = labels, autopct='%.0f%%')\n",
    "plt.show()"
   ]
  },
  {
   "cell_type": "code",
   "execution_count": 45,
   "id": "bf5167e9",
   "metadata": {},
   "outputs": [],
   "source": [
    "def get_keywords(dataframe):\n",
    "    text = dataframe[\"tweet\"].encode('utf-16', 'surrogatepass').decode('utf-16')\n",
    "    kw_model = KeyBERT(model='paraphrase-multilingual-MiniLM-L12-v2')\n",
    "    keywords_bert = kw_model.extract_keywords(text,\n",
    "                                     keyphrase_ngram_range=(1, 3),\n",
    "                                     highlight=False,\n",
    "                                     top_n=10)\n",
    "\n",
    "    keywords = list(dict(keywords_bert).keys())\n",
    "    \n",
    "    keyword_list.append(keywords)"
   ]
  },
  {
   "cell_type": "code",
   "execution_count": null,
   "id": "fc8a9d7d",
   "metadata": {},
   "outputs": [],
   "source": [
    "keyword_list = []\n",
    "tweets_df = tweets_df.apply(lambda x: get_keywords(x), axis=1)"
   ]
  },
  {
   "cell_type": "code",
   "execution_count": null,
   "id": "91443ab6",
   "metadata": {},
   "outputs": [],
   "source": [
    "tweets_df[\"keywords\"] = keyword_list"
   ]
  }
 ],
 "metadata": {
  "kernelspec": {
   "display_name": "Python 3 (ipykernel)",
   "language": "python",
   "name": "python3"
  },
  "language_info": {
   "codemirror_mode": {
    "name": "ipython",
    "version": 3
   },
   "file_extension": ".py",
   "mimetype": "text/x-python",
   "name": "python",
   "nbconvert_exporter": "python",
   "pygments_lexer": "ipython3",
   "version": "3.9.7"
  }
 },
 "nbformat": 4,
 "nbformat_minor": 5
}
