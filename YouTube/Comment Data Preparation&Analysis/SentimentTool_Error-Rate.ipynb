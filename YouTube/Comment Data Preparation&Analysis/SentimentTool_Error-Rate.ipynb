{
 "cells": [
  {
   "cell_type": "code",
   "execution_count": 2,
   "id": "523e4cef",
   "metadata": {},
   "outputs": [],
   "source": [
    "from vaderSentiment.vaderSentiment import SentimentIntensityAnalyzer\n",
    "analyser = SentimentIntensityAnalyzer()"
   ]
  },
  {
   "cell_type": "code",
   "execution_count": 3,
   "id": "d8c4601d",
   "metadata": {},
   "outputs": [],
   "source": [
    "import pandas as pd\n",
    "df = pd.read_csv('datasets/spam_or_ham_and_sentiment_version1.csv')\n"
   ]
  },
  {
   "cell_type": "code",
   "execution_count": 4,
   "id": "43bf054d",
   "metadata": {},
   "outputs": [],
   "source": [
    "def vader_score(comment):\n",
    "    vader_score = analyser.polarity_scores(comment)\n",
    "    compount_score = vader_score['compound']\n",
    "    \n",
    "    return(compount_score)\n",
    "\n",
    "df['vader'] = df.apply(lambda row: vader_score(row['Comment']),axis=1)\n",
    "    \n",
    "\n"
   ]
  },
  {
   "cell_type": "code",
   "execution_count": 5,
   "id": "57290215",
   "metadata": {},
   "outputs": [
    {
     "data": {
      "text/plain": [
       "0       0.0000\n",
       "1      -0.3182\n",
       "2       0.3903\n",
       "3       0.0000\n",
       "4       0.2470\n",
       "         ...  \n",
       "4395    0.0000\n",
       "4396    0.0000\n",
       "4397    0.0000\n",
       "4398    0.6369\n",
       "4399    0.0772\n",
       "Name: vader, Length: 4400, dtype: float64"
      ]
     },
     "execution_count": 5,
     "metadata": {},
     "output_type": "execute_result"
    }
   ],
   "source": [
    "df['vader']"
   ]
  },
  {
   "cell_type": "code",
   "execution_count": 6,
   "id": "cfe86286",
   "metadata": {},
   "outputs": [],
   "source": [
    "def vader_class(score):\n",
    "    if score < -0.5:\n",
    "        return \"negative\"\n",
    "    if score > 0.5:\n",
    "        return \"positive\"\n",
    "    else:\n",
    "        return \"neutral\"\n",
    "\n",
    "df['vader_classified'] = df.apply(lambda row: vader_class(row['vader']),axis=1)"
   ]
  },
  {
   "cell_type": "code",
   "execution_count": 7,
   "id": "58ea5685",
   "metadata": {},
   "outputs": [
    {
     "data": {
      "text/plain": [
       "0        neutral\n",
       "1        neutral\n",
       "2        neutral\n",
       "3        neutral\n",
       "4        neutral\n",
       "          ...   \n",
       "4395     neutral\n",
       "4396     neutral\n",
       "4397     neutral\n",
       "4398    positive\n",
       "4399     neutral\n",
       "Name: vader_classified, Length: 4400, dtype: object"
      ]
     },
     "execution_count": 7,
     "metadata": {},
     "output_type": "execute_result"
    }
   ],
   "source": [
    "df['vader_classified']"
   ]
  },
  {
   "cell_type": "code",
   "execution_count": 8,
   "id": "4dc0bac1",
   "metadata": {},
   "outputs": [
    {
     "data": {
      "text/html": [
       "<div>\n",
       "<style scoped>\n",
       "    .dataframe tbody tr th:only-of-type {\n",
       "        vertical-align: middle;\n",
       "    }\n",
       "\n",
       "    .dataframe tbody tr th {\n",
       "        vertical-align: top;\n",
       "    }\n",
       "\n",
       "    .dataframe thead th {\n",
       "        text-align: right;\n",
       "    }\n",
       "</style>\n",
       "<table border=\"1\" class=\"dataframe\">\n",
       "  <thead>\n",
       "    <tr style=\"text-align: right;\">\n",
       "      <th>Predicted</th>\n",
       "      <th>negative</th>\n",
       "      <th>neutral</th>\n",
       "      <th>positive</th>\n",
       "    </tr>\n",
       "    <tr>\n",
       "      <th>Actual</th>\n",
       "      <th></th>\n",
       "      <th></th>\n",
       "      <th></th>\n",
       "    </tr>\n",
       "  </thead>\n",
       "  <tbody>\n",
       "    <tr>\n",
       "      <th>negative</th>\n",
       "      <td>383</td>\n",
       "      <td>520</td>\n",
       "      <td>64</td>\n",
       "    </tr>\n",
       "    <tr>\n",
       "      <th>neutral</th>\n",
       "      <td>175</td>\n",
       "      <td>2414</td>\n",
       "      <td>444</td>\n",
       "    </tr>\n",
       "    <tr>\n",
       "      <th>positive</th>\n",
       "      <td>9</td>\n",
       "      <td>159</td>\n",
       "      <td>232</td>\n",
       "    </tr>\n",
       "  </tbody>\n",
       "</table>\n",
       "</div>"
      ],
      "text/plain": [
       "Predicted  negative  neutral  positive\n",
       "Actual                                \n",
       "negative        383      520        64\n",
       "neutral         175     2414       444\n",
       "positive          9      159       232"
      ]
     },
     "execution_count": 8,
     "metadata": {},
     "output_type": "execute_result"
    }
   ],
   "source": [
    "actual = df['Sentiment']\n",
    "prediction = df['vader_classified']\n",
    "\n",
    "confusion_matrix = pd.crosstab(actual, prediction, rownames=['Actual'], colnames=['Predicted'])\n",
    "\n",
    "confusion_matrix"
   ]
  },
  {
   "cell_type": "code",
   "execution_count": 9,
   "id": "1b337daa",
   "metadata": {
    "scrolled": true
   },
   "outputs": [],
   "source": [
    "from sklearn.metrics import confusion_matrix\n",
    "a_neg, a_neu, a_pos = confusion_matrix(actual, prediction)\n",
    "\n",
    "true_neg = a_neg[0]\n",
    "\n",
    "false_neu = a_neg[1] + a_neu[1]\n",
    "\n",
    "false_pos = a_neg[2] + a_neu[2]\n",
    "\n",
    "false_neg = a_neu[0] + a_pos[0]\n",
    "\n",
    "true_neu = a_neu[1]\n",
    "\n",
    "true_pos = a_pos[2]"
   ]
  },
  {
   "cell_type": "code",
   "execution_count": 10,
   "id": "4a6f7910",
   "metadata": {},
   "outputs": [
    {
     "data": {
      "text/plain": [
       "2.0815217391304346"
      ]
     },
     "execution_count": 10,
     "metadata": {},
     "output_type": "execute_result"
    }
   ],
   "source": [
    "true_neg/false_neg"
   ]
  },
  {
   "cell_type": "code",
   "execution_count": 11,
   "id": "6ad9ad66",
   "metadata": {},
   "outputs": [
    {
     "data": {
      "text/plain": [
       "0.8227675528289026"
      ]
     },
     "execution_count": 11,
     "metadata": {},
     "output_type": "execute_result"
    }
   ],
   "source": [
    "true_neu/false_neu"
   ]
  },
  {
   "cell_type": "code",
   "execution_count": 12,
   "id": "5cee7b1e",
   "metadata": {},
   "outputs": [
    {
     "data": {
      "text/plain": [
       "0.4566929133858268"
      ]
     },
     "execution_count": 12,
     "metadata": {},
     "output_type": "execute_result"
    }
   ],
   "source": [
    "true_pos/false_pos"
   ]
  },
  {
   "cell_type": "code",
   "execution_count": 13,
   "id": "b0ac2177",
   "metadata": {},
   "outputs": [
    {
     "data": {
      "text/plain": [
       "0.8353557639271925"
      ]
     },
     "execution_count": 13,
     "metadata": {},
     "output_type": "execute_result"
    }
   ],
   "source": [
    "(true_pos + true_neu + true_neg) / (false_pos + false_neu + false_neg)"
   ]
  },
  {
   "cell_type": "code",
   "execution_count": 14,
   "id": "61daef0b",
   "metadata": {},
   "outputs": [],
   "source": [
    "from textblob import TextBlob"
   ]
  },
  {
   "cell_type": "code",
   "execution_count": 15,
   "id": "71839fe0",
   "metadata": {},
   "outputs": [],
   "source": [
    "def get_polarity(text):\n",
    "    return TextBlob(text).sentiment.polarity\n",
    "df['TextBlob_Polarity'] = df['Comment'].apply(get_polarity)"
   ]
  },
  {
   "cell_type": "code",
   "execution_count": 18,
   "id": "a3f6d0bc",
   "metadata": {},
   "outputs": [],
   "source": [
    "df['TextBlob-Sentiment_Type']=''\n",
    "df.loc[df.TextBlob_Polarity>0,'TextBlob-Sentiment_Type']='positive'\n",
    "df.loc[df.TextBlob_Polarity==0,'TextBlob-Sentiment_Type']='neutral'\n",
    "df.loc[df.TextBlob_Polarity<0,'TextBlob-Sentiment_Type']='negative'"
   ]
  },
  {
   "cell_type": "code",
   "execution_count": 19,
   "id": "e04656b8",
   "metadata": {},
   "outputs": [
    {
     "data": {
      "text/html": [
       "<div>\n",
       "<style scoped>\n",
       "    .dataframe tbody tr th:only-of-type {\n",
       "        vertical-align: middle;\n",
       "    }\n",
       "\n",
       "    .dataframe tbody tr th {\n",
       "        vertical-align: top;\n",
       "    }\n",
       "\n",
       "    .dataframe thead th {\n",
       "        text-align: right;\n",
       "    }\n",
       "</style>\n",
       "<table border=\"1\" class=\"dataframe\">\n",
       "  <thead>\n",
       "    <tr style=\"text-align: right;\">\n",
       "      <th></th>\n",
       "      <th>Comment</th>\n",
       "      <th>SpamHam</th>\n",
       "      <th>Sentiment</th>\n",
       "      <th>vader</th>\n",
       "      <th>vader_classified</th>\n",
       "      <th>TextBlob_Polarity</th>\n",
       "      <th>TextBlob-Sentiment_Type</th>\n",
       "    </tr>\n",
       "  </thead>\n",
       "  <tbody>\n",
       "    <tr>\n",
       "      <th>0</th>\n",
       "      <td>Imagine car size potholes on road.</td>\n",
       "      <td>ham</td>\n",
       "      <td>neutral</td>\n",
       "      <td>0.0000</td>\n",
       "      <td>neutral</td>\n",
       "      <td>0.0</td>\n",
       "      <td>neutral</td>\n",
       "    </tr>\n",
       "    <tr>\n",
       "      <th>1</th>\n",
       "      <td>This defeats the definition of cars</td>\n",
       "      <td>spam</td>\n",
       "      <td>neutral</td>\n",
       "      <td>-0.3182</td>\n",
       "      <td>neutral</td>\n",
       "      <td>0.0</td>\n",
       "      <td>neutral</td>\n",
       "    </tr>\n",
       "    <tr>\n",
       "      <th>2</th>\n",
       "      <td>When you realize the bottom of the earth is em...</td>\n",
       "      <td>spam</td>\n",
       "      <td>negative</td>\n",
       "      <td>0.3903</td>\n",
       "      <td>neutral</td>\n",
       "      <td>0.0</td>\n",
       "      <td>neutral</td>\n",
       "    </tr>\n",
       "    <tr>\n",
       "      <th>3</th>\n",
       "      <td>Hyperpod?</td>\n",
       "      <td>spam</td>\n",
       "      <td>neutral</td>\n",
       "      <td>0.0000</td>\n",
       "      <td>neutral</td>\n",
       "      <td>0.0</td>\n",
       "      <td>neutral</td>\n",
       "    </tr>\n",
       "    <tr>\n",
       "      <th>4</th>\n",
       "      <td>We have to learn this for a school project, so...</td>\n",
       "      <td>spam</td>\n",
       "      <td>negative</td>\n",
       "      <td>0.2470</td>\n",
       "      <td>neutral</td>\n",
       "      <td>-1.0</td>\n",
       "      <td>negative</td>\n",
       "    </tr>\n",
       "  </tbody>\n",
       "</table>\n",
       "</div>"
      ],
      "text/plain": [
       "                                             Comment SpamHam Sentiment  \\\n",
       "0                 Imagine car size potholes on road.     ham   neutral   \n",
       "1                This defeats the definition of cars    spam   neutral   \n",
       "2  When you realize the bottom of the earth is em...    spam  negative   \n",
       "3                                          Hyperpod?    spam   neutral   \n",
       "4  We have to learn this for a school project, so...    spam  negative   \n",
       "\n",
       "    vader vader_classified  TextBlob_Polarity TextBlob-Sentiment_Type  \n",
       "0  0.0000          neutral                0.0                 neutral  \n",
       "1 -0.3182          neutral                0.0                 neutral  \n",
       "2  0.3903          neutral                0.0                 neutral  \n",
       "3  0.0000          neutral                0.0                 neutral  \n",
       "4  0.2470          neutral               -1.0                negative  "
      ]
     },
     "execution_count": 19,
     "metadata": {},
     "output_type": "execute_result"
    }
   ],
   "source": [
    "df.head()"
   ]
  },
  {
   "cell_type": "code",
   "execution_count": 20,
   "id": "0c39e7a9",
   "metadata": {},
   "outputs": [
    {
     "data": {
      "text/html": [
       "<div>\n",
       "<style scoped>\n",
       "    .dataframe tbody tr th:only-of-type {\n",
       "        vertical-align: middle;\n",
       "    }\n",
       "\n",
       "    .dataframe tbody tr th {\n",
       "        vertical-align: top;\n",
       "    }\n",
       "\n",
       "    .dataframe thead th {\n",
       "        text-align: right;\n",
       "    }\n",
       "</style>\n",
       "<table border=\"1\" class=\"dataframe\">\n",
       "  <thead>\n",
       "    <tr style=\"text-align: right;\">\n",
       "      <th>Predicted</th>\n",
       "      <th>negative</th>\n",
       "      <th>neutral</th>\n",
       "      <th>positive</th>\n",
       "    </tr>\n",
       "    <tr>\n",
       "      <th>Actual</th>\n",
       "      <th></th>\n",
       "      <th></th>\n",
       "      <th></th>\n",
       "    </tr>\n",
       "  </thead>\n",
       "  <tbody>\n",
       "    <tr>\n",
       "      <th>negative</th>\n",
       "      <td>564</td>\n",
       "      <td>196</td>\n",
       "      <td>207</td>\n",
       "    </tr>\n",
       "    <tr>\n",
       "      <th>neutral</th>\n",
       "      <td>474</td>\n",
       "      <td>1520</td>\n",
       "      <td>1039</td>\n",
       "    </tr>\n",
       "    <tr>\n",
       "      <th>positive</th>\n",
       "      <td>17</td>\n",
       "      <td>64</td>\n",
       "      <td>319</td>\n",
       "    </tr>\n",
       "  </tbody>\n",
       "</table>\n",
       "</div>"
      ],
      "text/plain": [
       "Predicted  negative  neutral  positive\n",
       "Actual                                \n",
       "negative        564      196       207\n",
       "neutral         474     1520      1039\n",
       "positive         17       64       319"
      ]
     },
     "execution_count": 20,
     "metadata": {},
     "output_type": "execute_result"
    }
   ],
   "source": [
    "actual = df['Sentiment']\n",
    "prediction = df['TextBlob-Sentiment_Type']\n",
    "\n",
    "confusion_matrix = pd.crosstab(actual, prediction, rownames=['Actual'], colnames=['Predicted'])\n",
    "\n",
    "confusion_matrix"
   ]
  },
  {
   "cell_type": "code",
   "execution_count": 22,
   "id": "33180565",
   "metadata": {},
   "outputs": [],
   "source": [
    "from sklearn.metrics import confusion_matrix\n",
    "a_neg, a_neu, a_pos = confusion_matrix(actual, prediction)\n",
    "\n",
    "true_neg = a_neg[0]\n",
    "\n",
    "false_neu = a_neg[1] + a_neu[1]\n",
    "\n",
    "false_pos = a_neg[2] + a_neu[2]\n",
    "\n",
    "false_neg = a_neu[0] + a_pos[0]\n",
    "\n",
    "true_neu = a_neu[1]\n",
    "\n",
    "true_pos = a_pos[2]"
   ]
  },
  {
   "cell_type": "code",
   "execution_count": 23,
   "id": "bae8f3fa",
   "metadata": {},
   "outputs": [
    {
     "data": {
      "text/plain": [
       "1.1486761710794298"
      ]
     },
     "execution_count": 23,
     "metadata": {},
     "output_type": "execute_result"
    }
   ],
   "source": [
    "true_neg/false_neg"
   ]
  },
  {
   "cell_type": "code",
   "execution_count": 24,
   "id": "bca887f6",
   "metadata": {},
   "outputs": [
    {
     "data": {
      "text/plain": [
       "0.8857808857808858"
      ]
     },
     "execution_count": 24,
     "metadata": {},
     "output_type": "execute_result"
    }
   ],
   "source": [
    "true_neu/false_neu"
   ]
  },
  {
   "cell_type": "code",
   "execution_count": 25,
   "id": "17e27628",
   "metadata": {},
   "outputs": [
    {
     "data": {
      "text/plain": [
       "0.25601926163723915"
      ]
     },
     "execution_count": 25,
     "metadata": {},
     "output_type": "execute_result"
    }
   ],
   "source": [
    "true_pos/false_pos"
   ]
  },
  {
   "cell_type": "code",
   "execution_count": 26,
   "id": "bdae3b12",
   "metadata": {},
   "outputs": [
    {
     "data": {
      "text/plain": [
       "0.6959165942658557"
      ]
     },
     "execution_count": 26,
     "metadata": {},
     "output_type": "execute_result"
    }
   ],
   "source": [
    "(true_pos + true_neu + true_neg) / (false_pos + false_neu + false_neg)"
   ]
  },
  {
   "cell_type": "code",
   "execution_count": null,
   "id": "0f4e168b",
   "metadata": {},
   "outputs": [],
   "source": []
  }
 ],
 "metadata": {
  "kernelspec": {
   "display_name": "Python 3 (ipykernel)",
   "language": "python",
   "name": "python3"
  },
  "language_info": {
   "codemirror_mode": {
    "name": "ipython",
    "version": 3
   },
   "file_extension": ".py",
   "mimetype": "text/x-python",
   "name": "python",
   "nbconvert_exporter": "python",
   "pygments_lexer": "ipython3",
   "version": "3.9.7"
  }
 },
 "nbformat": 4,
 "nbformat_minor": 5
}
