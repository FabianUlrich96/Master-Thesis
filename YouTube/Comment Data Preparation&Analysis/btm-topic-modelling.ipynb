{
 "cells": [
  {
   "cell_type": "code",
   "execution_count": 1,
   "id": "62a0db12",
   "metadata": {},
   "outputs": [],
   "source": [
    "import pandas as pd\n",
    "import glob\n",
    "import bitermplus as btm\n",
    "import numpy as np\n",
    "import tmplot as tmp\n",
    "import time\n",
    "import matplotlib.pyplot as plt\n",
    "import re\n",
    "import seaborn as sns\n",
    "sns.set_theme(palette=\"pastel\")"
   ]
  },
  {
   "cell_type": "code",
   "execution_count": 2,
   "id": "54ee0dc7",
   "metadata": {},
   "outputs": [],
   "source": [
    "work_dir = \"C:/Users/fabia/OneDrive - Otto-Friedrich-Universität Bamberg/Master/Masterarbeit/Data/Video/labeled\""
   ]
  },
  {
   "cell_type": "code",
   "execution_count": 3,
   "id": "dfcd0d3b",
   "metadata": {},
   "outputs": [],
   "source": [
    "video_files = glob.glob(work_dir + \"/*.csv\") \n",
    "video_df = pd.concat((pd.read_csv(f, header = 0) for f in video_files))"
   ]
  },
  {
   "cell_type": "code",
   "execution_count": 4,
   "id": "1c89c6ae",
   "metadata": {},
   "outputs": [
    {
     "name": "stdout",
     "output_type": "stream",
     "text": [
      "    Unnamed: 0     video_id  \\\n",
      "1            1  vYzSzy6IwRI   \n",
      "3            3  Ad8knG-9l2A   \n",
      "5            5  SVyPVVXFpkU   \n",
      "9            9  z67yc8r2WNw   \n",
      "11          11  71SbVFBhaZk   \n",
      "\n",
      "                                                title          published_at  \\\n",
      "1   E-AUTO mit 100% WASSERKRAFT laden | Prototyp n...  2021-04-01T08:00:27Z   \n",
      "3   Breaking Elektro-News: Xiaomi plant Elektroaut...  2021-04-01T05:00:02Z   \n",
      "5   Model 3 Facelift (SR & LR): Analyse der Tests ...  2021-04-01T16:15:55Z   \n",
      "9   Probleme und Mängel an meinem Audi E-Tron, Upd...  2021-04-02T17:11:32Z   \n",
      "11  STAT E-STICS #12 | KIA EV6 und alle Elektroaut...  2021-04-02T15:30:01Z   \n",
      "\n",
      "                  channel_id  view_count  like_count  comment_count  job  id  \\\n",
      "1   UCaCaZ-vKtnMG2_FKmEePChQ      4217.0       493.0            193    0   0   \n",
      "3   UCsNdsFTTBj5jcRJSWeJ8-Xg      7432.0       613.0            129    0   0   \n",
      "5   UCasePAQ_q7tbUGybICCj4NQ      5530.0       342.0             88    0   0   \n",
      "9   UCddkvrnYqGRfODPMUQqisiw      6389.0       291.0             89    0   0   \n",
      "11  UCDDj2GWklzZ09X7R9OtsX3Q     38400.0       508.0             99    0   0   \n",
      "\n",
      "    valid  \n",
      "1   valid  \n",
      "3   valid  \n",
      "5   valid  \n",
      "9   valid  \n",
      "11  valid  \n",
      "(3783, 11)\n"
     ]
    }
   ],
   "source": [
    "# select only valid videos\n",
    "video_df = video_df[video_df[\"valid\"] == \"valid\"]\n",
    "print(video_df.head())\n",
    "print(video_df.shape)"
   ]
  },
  {
   "cell_type": "code",
   "execution_count": 5,
   "id": "4d932cf4",
   "metadata": {},
   "outputs": [],
   "source": [
    "# Remove punctuation\n",
    "video_df['title_processed'] = video_df['title'].map(lambda x: re.sub('[,\\.!?]', '', x))\n",
    "# Convert the titles to lowercase\n",
    "video_df['title_processed'] = video_df['title_processed'].map(lambda x: x.lower())\n",
    "\n",
    "video_titles = video_df['title_processed'].str.strip().tolist()\n",
    "\n",
    "# PREPROCESSING\n",
    "# Obtaining terms frequency in a sparse matrix and corpus vocabulary\n",
    "titles_X, titles_vocabulary, titles_vocab_dict = btm.get_words_freqs(video_titles)\n",
    "titles_tf = np.array(titles_X.sum(axis=0)).ravel()"
   ]
  },
  {
   "cell_type": "code",
   "execution_count": 6,
   "id": "a697823f",
   "metadata": {},
   "outputs": [],
   "source": [
    "# Vectorizing documents\n",
    "titles_docs_vec = btm.get_vectorized_docs(video_titles, titles_vocabulary)\n",
    "titles_docs_lens = list(map(len, titles_docs_vec))"
   ]
  },
  {
   "cell_type": "code",
   "execution_count": 7,
   "id": "5d5b4665",
   "metadata": {},
   "outputs": [],
   "source": [
    "# Generating title biterms\n",
    "title_biterms = btm.get_biterms(titles_docs_vec)"
   ]
  },
  {
   "cell_type": "code",
   "execution_count": 8,
   "id": "1e33ce12",
   "metadata": {},
   "outputs": [],
   "source": [
    "# Initializing and running titles model\n",
    "def btm_model(topics, alpha, beta):\n",
    "    titles_model = btm.BTM(\n",
    "        titles_X, titles_vocabulary, seed=12321, T=topics, M=5, alpha=alpha, beta=beta)\n",
    "    titles_model.fit(title_biterms, iterations=20)\n",
    "    titles_p_zd = titles_model.transform(titles_docs_vec)\n",
    "    \n",
    "    return titles_model\n",
    "\n",
    "def Average(l): \n",
    "    avg = sum(l) / len(l) \n",
    "    return avg"
   ]
  },
  {
   "cell_type": "code",
   "execution_count": 9,
   "id": "e1ebc57e",
   "metadata": {},
   "outputs": [
    {
     "name": "stderr",
     "output_type": "stream",
     "text": [
      "100%|█████████████████████████████████████████████████████████████████████████████████| 20/20 [00:00<00:00, 108.70it/s]\n",
      "100%|███████████████████████████████████████████████████████████████████████████| 3783/3783 [00:00<00:00, 38585.97it/s]\n",
      "100%|██████████████████████████████████████████████████████████████████████████████████| 20/20 [00:00<00:00, 93.02it/s]\n",
      "100%|███████████████████████████████████████████████████████████████████████████| 3783/3783 [00:00<00:00, 35343.05it/s]\n",
      "100%|██████████████████████████████████████████████████████████████████████████████████| 20/20 [00:00<00:00, 70.67it/s]\n",
      "100%|███████████████████████████████████████████████████████████████████████████| 3783/3783 [00:00<00:00, 28225.00it/s]\n",
      "100%|██████████████████████████████████████████████████████████████████████████████████| 20/20 [00:00<00:00, 69.68it/s]\n",
      "100%|███████████████████████████████████████████████████████████████████████████| 3783/3783 [00:00<00:00, 33171.56it/s]\n",
      "100%|██████████████████████████████████████████████████████████████████████████████████| 20/20 [00:00<00:00, 52.91it/s]\n",
      "100%|███████████████████████████████████████████████████████████████████████████| 3783/3783 [00:00<00:00, 33476.63it/s]\n",
      "100%|██████████████████████████████████████████████████████████████████████████████████| 20/20 [00:00<00:00, 53.71it/s]\n",
      "100%|███████████████████████████████████████████████████████████████████████████| 3783/3783 [00:00<00:00, 29547.25it/s]\n",
      "100%|██████████████████████████████████████████████████████████████████████████████████| 20/20 [00:00<00:00, 47.50it/s]\n",
      "100%|███████████████████████████████████████████████████████████████████████████| 3783/3783 [00:00<00:00, 28231.88it/s]\n",
      "100%|██████████████████████████████████████████████████████████████████████████████████| 20/20 [00:00<00:00, 42.20it/s]\n",
      "100%|███████████████████████████████████████████████████████████████████████████| 3783/3783 [00:00<00:00, 27414.56it/s]\n",
      "100%|██████████████████████████████████████████████████████████████████████████████████| 20/20 [00:00<00:00, 40.32it/s]\n",
      "100%|███████████████████████████████████████████████████████████████████████████| 3783/3783 [00:00<00:00, 31265.19it/s]\n",
      "100%|██████████████████████████████████████████████████████████████████████████████████| 20/20 [00:00<00:00, 35.40it/s]\n",
      "100%|███████████████████████████████████████████████████████████████████████████| 3783/3783 [00:00<00:00, 29099.76it/s]\n",
      "100%|██████████████████████████████████████████████████████████████████████████████████| 20/20 [00:00<00:00, 37.52it/s]\n",
      "100%|███████████████████████████████████████████████████████████████████████████| 3783/3783 [00:00<00:00, 28445.93it/s]\n",
      "100%|██████████████████████████████████████████████████████████████████████████████████| 20/20 [00:00<00:00, 36.90it/s]\n",
      "100%|███████████████████████████████████████████████████████████████████████████| 3783/3783 [00:00<00:00, 31007.66it/s]\n",
      "100%|██████████████████████████████████████████████████████████████████████████████████| 20/20 [00:00<00:00, 30.30it/s]\n",
      "100%|███████████████████████████████████████████████████████████████████████████| 3783/3783 [00:00<00:00, 24725.93it/s]\n"
     ]
    }
   ],
   "source": [
    "# Determening the number of topics by running the model with a fixed alpha = 0.01 and beta = 0.1\n",
    "coherence_list = []\n",
    "perplexity_list = []\n",
    "# Topics range\n",
    "min_topics = 2\n",
    "max_topics = 15\n",
    "step_size = 1\n",
    "topics_range = range(min_topics, max_topics, step_size)\n",
    "\n",
    "for k in topics_range:\n",
    "    # get the coherence score for the given parameters\n",
    "    model = btm_model(k, 0.1, 0.1)\n",
    "            \n",
    "    perplexity = model.perplexity_\n",
    "    coherence = model.coherence_\n",
    "    \n",
    "    coherence_list.append(Average(coherence))\n",
    "    perplexity_list.append(perplexity)"
   ]
  },
  {
   "cell_type": "code",
   "execution_count": 15,
   "id": "ca7d4e49",
   "metadata": {},
   "outputs": [
    {
     "data": {
      "image/png": "[encoded data removed]",
      "text/plain": [
       "<Figure size 432x288 with 1 Axes>"
      ]
     },
     "metadata": {},
     "output_type": "display_data"
    },
    {
     "name": "stdout",
     "output_type": "stream",
     "text": [
      "4 -18.52100110644131\n"
     ]
    }
   ],
   "source": [
    "ymax = max(coherence_list)\n",
    "ymax_string = str(ymax)\n",
    "xpos = coherence_list.index(ymax)\n",
    "xmax = topics_range[xpos]\n",
    "xmax_string = str(xmax)\n",
    "plt.plot(topics_range, coherence_list)\n",
    "plt.xlabel(\"Number of Topics\")\n",
    "plt.ylabel(\"Coherence Score\")\n",
    "plt.annotate(xmax_string + ' Topics' , xy=(xmax, ymax), xytext=(xmax, ymax+1),\n",
    "            arrowprops=dict(facecolor='black', shrink=0.22),\n",
    "            )\n",
    "plt.show()\n",
    "\n",
    "print(xmax, ymax)"
   ]
  },
  {
   "cell_type": "code",
   "execution_count": 17,
   "id": "9a4d2127",
   "metadata": {
    "scrolled": false
   },
   "outputs": [
    {
     "name": "stderr",
     "output_type": "stream",
     "text": [
      "100%|██████████████████████████████████████████████████████████████████████████████████| 20/20 [00:00<00:00, 77.21it/s]\n",
      "100%|███████████████████████████████████████████████████████████████████████████| 3783/3783 [00:00<00:00, 36030.61it/s]\n",
      "100%|██████████████████████████████████████████████████████████████████████████████████| 20/20 [00:00<00:00, 80.00it/s]\n",
      "100%|███████████████████████████████████████████████████████████████████████████| 3783/3783 [00:00<00:00, 31791.33it/s]\n",
      "100%|██████████████████████████████████████████████████████████████████████████████████| 20/20 [00:00<00:00, 67.34it/s]\n",
      "100%|███████████████████████████████████████████████████████████████████████████| 3783/3783 [00:00<00:00, 28879.33it/s]\n",
      "100%|██████████████████████████████████████████████████████████████████████████████████| 20/20 [00:00<00:00, 69.45it/s]\n",
      "100%|███████████████████████████████████████████████████████████████████████████| 3783/3783 [00:00<00:00, 31517.64it/s]\n",
      "100%|██████████████████████████████████████████████████████████████████████████████████| 20/20 [00:00<00:00, 68.73it/s]\n",
      "100%|███████████████████████████████████████████████████████████████████████████| 3783/3783 [00:00<00:00, 28444.24it/s]\n",
      "100%|██████████████████████████████████████████████████████████████████████████████████| 20/20 [00:00<00:00, 60.24it/s]\n",
      "100%|███████████████████████████████████████████████████████████████████████████| 3783/3783 [00:00<00:00, 33479.74it/s]\n",
      "100%|██████████████████████████████████████████████████████████████████████████████████| 20/20 [00:00<00:00, 72.73it/s]\n",
      "100%|███████████████████████████████████████████████████████████████████████████| 3783/3783 [00:00<00:00, 31517.58it/s]\n",
      "100%|██████████████████████████████████████████████████████████████████████████████████| 20/20 [00:00<00:00, 74.90it/s]\n",
      "100%|███████████████████████████████████████████████████████████████████████████| 3783/3783 [00:00<00:00, 31264.94it/s]\n",
      "100%|██████████████████████████████████████████████████████████████████████████████████| 20/20 [00:00<00:00, 72.20it/s]\n",
      "100%|███████████████████████████████████████████████████████████████████████████| 3783/3783 [00:00<00:00, 33479.17it/s]\n",
      "100%|██████████████████████████████████████████████████████████████████████████████████| 20/20 [00:00<00:00, 78.43it/s]\n",
      "100%|███████████████████████████████████████████████████████████████████████████| 3783/3783 [00:00<00:00, 32613.76it/s]\n",
      "100%|██████████████████████████████████████████████████████████████████████████████████| 20/20 [00:00<00:00, 77.21it/s]\n",
      "100%|███████████████████████████████████████████████████████████████████████████| 3783/3783 [00:00<00:00, 29317.09it/s]\n",
      "100%|██████████████████████████████████████████████████████████████████████████████████| 20/20 [00:00<00:00, 70.91it/s]\n",
      "100%|███████████████████████████████████████████████████████████████████████████| 3783/3783 [00:00<00:00, 32996.41it/s]\n",
      "100%|██████████████████████████████████████████████████████████████████████████████████| 20/20 [00:00<00:00, 71.93it/s]\n",
      "100%|███████████████████████████████████████████████████████████████████████████| 3783/3783 [00:00<00:00, 35357.23it/s]\n",
      "100%|██████████████████████████████████████████████████████████████████████████████████| 20/20 [00:00<00:00, 74.35it/s]\n",
      "100%|███████████████████████████████████████████████████████████████████████████| 3783/3783 [00:00<00:00, 32060.29it/s]\n",
      "100%|██████████████████████████████████████████████████████████████████████████████████| 20/20 [00:00<00:00, 71.17it/s]\n",
      "100%|███████████████████████████████████████████████████████████████████████████| 3783/3783 [00:00<00:00, 31526.41it/s]\n",
      "100%|██████████████████████████████████████████████████████████████████████████████████| 20/20 [00:00<00:00, 78.13it/s]\n",
      "100%|███████████████████████████████████████████████████████████████████████████| 3783/3783 [00:00<00:00, 32320.26it/s]\n"
     ]
    }
   ],
   "source": [
    "# Topic parameter \n",
    "k = 4\n",
    "# Alpha parameter\n",
    "alpha = list(np.arange(0.01, 1, 0.3))\n",
    "\n",
    "# Beta parameter\n",
    "beta = list(np.arange(0.01, 1, 0.3))\n",
    "\n",
    "model_results = {'Alpha': [],\n",
    "                 'Beta': [],\n",
    "                 'Coherence': [],\n",
    "                 'Perplexity': []\n",
    "                }\n",
    "\n",
    "\n",
    "# iterate through alpha values\n",
    "for a in alpha:\n",
    "    # iterare through beta values\n",
    "    for b in beta:\n",
    "        # get the coherence score for the given parameters\n",
    "        model = btm_model(k, a, b)\n",
    "            \n",
    "        perplexity = model.perplexity_\n",
    "        coherence = model.coherence_\n",
    "            \n",
    "        # Save the model results\n",
    "        model_results['Alpha'].append(a)\n",
    "        model_results['Beta'].append(b)\n",
    "        model_results['Coherence'].append(Average(coherence))\n",
    "        model_results['Perplexity'].append(perplexity)"
   ]
  },
  {
   "cell_type": "code",
   "execution_count": 18,
   "id": "94bdf3ec",
   "metadata": {},
   "outputs": [
    {
     "name": "stdout",
     "output_type": "stream",
     "text": [
      "    Alpha  Beta  Coherence  Perplexity\n",
      "0    0.01  0.01 -18.718847  960.896713\n",
      "1    0.01  0.31 -18.355997  827.588209\n",
      "2    0.01  0.61 -19.522770  829.657676\n",
      "3    0.01  0.91 -19.304843  839.430892\n",
      "4    0.31  0.01 -18.718847  960.896717\n",
      "5    0.31  0.31 -18.355997  827.588210\n",
      "6    0.31  0.61 -19.522770  829.657668\n",
      "7    0.31  0.91 -19.782582  839.507676\n",
      "8    0.61  0.01 -18.718847  960.895425\n",
      "9    0.61  0.31 -18.355997  827.588212\n",
      "10   0.61  0.61 -19.522770  829.657659\n",
      "11   0.61  0.91 -19.304843  839.491210\n",
      "12   0.91  0.01 -18.718847  960.895429\n",
      "13   0.91  0.31 -18.355997  827.587503\n",
      "14   0.91  0.61 -19.522770  829.657651\n",
      "15   0.91  0.91 -19.304843  839.661980\n"
     ]
    }
   ],
   "source": [
    "benchmark_df = pd.DataFrame(model_results)\n",
    "print(benchmark_df)\n",
    "\n",
    "benchmark_df.to_csv(\"benchmark.csv\", index=False)"
   ]
  },
  {
   "cell_type": "code",
   "execution_count": 19,
   "id": "d3c1b245",
   "metadata": {},
   "outputs": [
    {
     "name": "stderr",
     "output_type": "stream",
     "text": [
      "100%|██████████████████████████████████████████████████████████████████████████████████| 20/20 [00:00<00:00, 82.07it/s]\n",
      "100%|███████████████████████████████████████████████████████████████████████████| 3783/3783 [00:00<00:00, 35026.60it/s]\n"
     ]
    }
   ],
   "source": [
    "titles_model = btm.BTM(\n",
    "titles_X, titles_vocabulary, seed=12321, T=4, M=5, alpha=0.01, beta=0.31)\n",
    "titles_model.fit(title_biterms, iterations=20)\n",
    "titles_p_zd = titles_model.transform(titles_docs_vec)"
   ]
  },
  {
   "cell_type": "code",
   "execution_count": 20,
   "id": "97bc0025",
   "metadata": {},
   "outputs": [
    {
     "name": "stderr",
     "output_type": "stream",
     "text": [
      "100%|███████████████████████████████████████████████████████████████████████████| 3783/3783 [00:00<00:00, 31258.17it/s]\n"
     ]
    }
   ],
   "source": [
    "p_zd = titles_model.transform(titles_docs_vec)"
   ]
  },
  {
   "cell_type": "code",
   "execution_count": 21,
   "id": "7467cdb4",
   "metadata": {},
   "outputs": [],
   "source": [
    "words_topics_df = titles_model.df_words_topics_\n",
    "\n",
    "words_topics_0 = pd.DataFrame(words_topics_df[0])\n",
    "words_topics_0[\"word\"] = words_topics_df.index\n",
    "\n",
    "words_topics_1 = pd.DataFrame(words_topics_df[1])\n",
    "words_topics_1[\"word\"] = words_topics_df.index\n",
    "\n",
    "words_topics_2 = pd.DataFrame(words_topics_df[2])\n",
    "words_topics_2[\"word\"] = words_topics_df.index\n",
    "\n",
    "words_topics_3 = pd.DataFrame(words_topics_df[3])\n",
    "words_topics_3[\"word\"] = words_topics_df.index\n",
    "\n"
   ]
  },
  {
   "cell_type": "code",
   "execution_count": 25,
   "id": "cb2c4615",
   "metadata": {},
   "outputs": [
    {
     "name": "stdout",
     "output_type": "stream",
     "text": [
      "                    0         word\n",
      "test         0.032154         test\n",
      "review       0.023964       review\n",
      "der          0.022223          der\n",
      "im           0.021666           im\n",
      "mit          0.018144          mit\n",
      "fahrbericht  0.016838  fahrbericht\n",
      "vw           0.015977           vw\n",
      "reichweite   0.014661   reichweite\n",
      "2021         0.014530         2021\n",
      "und          0.014297          und\n"
     ]
    },
    {
     "data": {
      "text/plain": [
       "[Text(0.5, 0, 'Topic 1 Word Probabilities'), Text(0, 0.5, 'Words')]"
      ]
     },
     "execution_count": 25,
     "metadata": {},
     "output_type": "execute_result"
    },
    {
     "data": {
      "image/png": "[encoded data removed]",
      "text/plain": [
       "<Figure size 432x288 with 1 Axes>"
      ]
     },
     "metadata": {},
     "output_type": "display_data"
    }
   ],
   "source": [
    "top_0 = words_topics_0.nlargest(10, 0)\n",
    "\n",
    "print(top_0)\n",
    "ax = sns.barplot(x=0, y=\"word\", data=top_0)\n",
    "plt.xlim(0, 0.050)\n",
    "ax.set(xlabel='Topic 1 Word Probabilities', ylabel='Words')"
   ]
  },
  {
   "cell_type": "code",
   "execution_count": 26,
   "id": "46a31fd5",
   "metadata": {},
   "outputs": [
    {
     "name": "stdout",
     "output_type": "stream",
     "text": [
      "              1   word\n",
      "tesla  0.041765  tesla\n",
      "model  0.030048  model\n",
      "und    0.024381    und\n",
      "die    0.023267    die\n",
      "der    0.020586    der\n",
      "das    0.016074    das\n",
      "auto   0.014163   auto\n",
      "ist    0.011231    ist\n",
      "was    0.010673    was\n",
      "mit    0.010594    mit\n"
     ]
    },
    {
     "data": {
      "text/plain": [
       "[Text(0.5, 0, 'Topic 2 Word Probabilities'), Text(0, 0.5, 'Words')]"
      ]
     },
     "execution_count": 26,
     "metadata": {},
     "output_type": "execute_result"
    },
    {
     "data": {
      "image/png": "[encoded data removed]",
      "text/plain": [
       "<Figure size 432x288 with 1 Axes>"
      ]
     },
     "metadata": {},
     "output_type": "display_data"
    }
   ],
   "source": [
    "top_1 = words_topics_1.nlargest(10, 1)\n",
    "\n",
    "print(top_1)\n",
    "ax = sns.barplot(x=1, y=\"word\", data=top_1)\n",
    "plt.xlim(0, 0.050)\n",
    "ax.set(xlabel='Topic 2 Word Probabilities', ylabel='Words')"
   ]
  },
  {
   "cell_type": "code",
   "execution_count": 27,
   "id": "2f229ecf",
   "metadata": {},
   "outputs": [
    {
     "name": "stdout",
     "output_type": "stream",
     "text": [
      "                    2         word\n",
      "für          0.022796          für\n",
      "tesla        0.018800        tesla\n",
      "elektroauto  0.017351  elektroauto\n",
      "mit          0.017321          mit\n",
      "der          0.014555          der\n",
      "in           0.013955           in\n",
      "und          0.013428          und\n",
      "laden        0.012813        laden\n",
      "die          0.012623          die\n",
      "wallbox      0.011071      wallbox\n"
     ]
    },
    {
     "data": {
      "text/plain": [
       "[Text(0.5, 0, 'Topic 3 Word Probabilities'), Text(0, 0.5, 'Words')]"
      ]
     },
     "execution_count": 27,
     "metadata": {},
     "output_type": "execute_result"
    },
    {
     "data": {
      "image/png": "[encoded data removed]",
      "text/plain": [
       "<Figure size 432x288 with 1 Axes>"
      ]
     },
     "metadata": {},
     "output_type": "display_data"
    }
   ],
   "source": [
    "top_2 = words_topics_2.nlargest(10, 2)\n",
    "print(top_2)\n",
    "ax = sns.barplot(x=2, y=\"word\", data=top_2)\n",
    "plt.xlim(0, 0.050)\n",
    "ax.set(xlabel='Topic 3 Word Probabilities', ylabel='Words')"
   ]
  },
  {
   "cell_type": "code",
   "execution_count": 28,
   "id": "95762b3b",
   "metadata": {},
   "outputs": [
    {
     "name": "stdout",
     "output_type": "stream",
     "text": [
      "                    3         word\n",
      "elektroauto  0.028685  elektroauto\n",
      "mit          0.028224          mit\n",
      "tesla        0.025597        tesla\n",
      "im           0.023309           im\n",
      "der          0.021675          der\n",
      "model        0.020585        model\n",
      "und          0.015755          und\n",
      "id3          0.015730          id3\n",
      "vw           0.015537           vw\n",
      "wie          0.014931          wie\n"
     ]
    },
    {
     "data": {
      "text/plain": [
       "[Text(0.5, 0, 'Topic 4 Word Probabilities'), Text(0, 0.5, 'Words')]"
      ]
     },
     "execution_count": 28,
     "metadata": {},
     "output_type": "execute_result"
    },
    {
     "data": {
      "image/png": "[encoded data removed]",
      "text/plain": [
       "<Figure size 432x288 with 1 Axes>"
      ]
     },
     "metadata": {},
     "output_type": "display_data"
    }
   ],
   "source": [
    "top_3 = words_topics_3.nlargest(10, 3)\n",
    "print(top_3)\n",
    "ax = sns.barplot(x=3, y=\"word\", data=top_3)\n",
    "plt.xlim(0, 0.050)\n",
    "ax.set(xlabel='Topic 4 Word Probabilities', ylabel='Words')"
   ]
  },
  {
   "cell_type": "code",
   "execution_count": 29,
   "id": "cbde742a",
   "metadata": {},
   "outputs": [
    {
     "name": "stdout",
     "output_type": "stream",
     "text": [
      "   topic0 topic1       topic2       topic3\n",
      "0    test  tesla          für  elektroauto\n",
      "1  review  model        tesla          mit\n",
      "2     der    und  elektroauto        tesla\n",
      "3      im    die          mit           im\n",
      "4     mit    der          der          der\n",
      "                                              topic0  \\\n",
      "0  nissan ariya | weltpremiere: vollelektrischer ...   \n",
      "1  ⚡️⚡️⚡️ 2020 ds 3 crossback e-tense kaufberatun...   \n",
      "2  ⚡️⚡️⚡️ 2021 kia ev6 awd gt line - kaufberatung...   \n",
      "3  2022 mazda2 e-skyactiv-g 115 m hybrid sports-l...   \n",
      "4                         renault captur e-tech phev   \n",
      "\n",
      "                                              topic1  \\\n",
      "0                      umweltsünder e auto doku arte   \n",
      "1  android auto wireless nachrüsten | android aut...   \n",
      "2  anwalt klärt auf: wächtermodus / dashcam erlau...   \n",
      "3  dieses tesla zubehör brauchst du | tips tricks...   \n",
      "4      hoffe ihr gefällt mein e-auto 🥰  | daniel abt   \n",
      "\n",
      "                                              topic2  \\\n",
      "0                           11kw wallbox anschließen   \n",
      "1  ohne kfw förderung wallbox + installation + 24...   \n",
      "2  hausbau 2022: photovoltaik-pflicht trotz handw...   \n",
      "3  klage gegen enbw erfolgreich | gericht untersa...   \n",
      "4  breaking elektro-news: elektroauto zulassungen...   \n",
      "\n",
      "                                              topic3  \n",
      "0  elektroauto urlaub südfrankreich reisevlog pro...  \n",
      "1                      zoe | tschüss zoe - hallo zoe  \n",
      "2  im elektroauto nach st tropez & port grimaud c...  \n",
      "3  170 wissenschaftler entlarven co2-rechenfehler...  \n",
      "4  vw id3 schildererkennung entzaubert | praxiste...  \n"
     ]
    }
   ],
   "source": [
    "top_words = btm.get_top_topic_words(\n",
    "    titles_model,\n",
    "    words_num=100)\n",
    "\n",
    "\n",
    "top_words_df = pd.DataFrame(top_words)\n",
    "print(top_words_df.head())\n",
    "\n",
    "top_docs = btm.get_top_topic_docs(\n",
    "    video_df['title_processed'],\n",
    "    p_zd,\n",
    "    docs_num=3783,\n",
    "    topics_idx=[0,1,2,3])\n",
    "\n",
    "top_docs_df = pd.DataFrame(top_docs)\n",
    "print(top_docs_df.head())\n",
    "\n",
    "top_words_df.to_csv(\"top_words.csv\", index=False)"
   ]
  },
  {
   "cell_type": "code",
   "execution_count": 30,
   "id": "b3c408ea",
   "metadata": {},
   "outputs": [
    {
     "name": "stdout",
     "output_type": "stream",
     "text": [
      "                                           documents  label\n",
      "0  e-auto mit 100% wasserkraft laden | prototyp n...      2\n",
      "1  breaking elektro-news: xiaomi plant elektroaut...      2\n",
      "2  model 3 facelift (sr & lr): analyse der tests ...      1\n",
      "3  probleme und mängel an meinem audi e-tron upda...      3\n",
      "4  stat e-stics #12 | kia ev6 und alle elektroaut...      0\n"
     ]
    }
   ],
   "source": [
    "video_topics = btm.get_docs_top_topic(video_titles, titles_model.matrix_docs_topics_)\n",
    "\n",
    "print(video_topics.head())\n",
    "\n"
   ]
  },
  {
   "cell_type": "code",
   "execution_count": 31,
   "id": "e3f82538",
   "metadata": {
    "scrolled": false
   },
   "outputs": [
    {
     "name": "stdout",
     "output_type": "stream",
     "text": [
      "   topic     video_id                                              title  \\\n",
      "0      2  vYzSzy6IwRI  E-AUTO mit 100% WASSERKRAFT laden | Prototyp n...   \n",
      "1      2  Ad8knG-9l2A  Breaking Elektro-News: Xiaomi plant Elektroaut...   \n",
      "2      1  SVyPVVXFpkU  Model 3 Facelift (SR & LR): Analyse der Tests ...   \n",
      "3      3  z67yc8r2WNw  Probleme und Mängel an meinem Audi E-Tron, Upd...   \n",
      "4      0  71SbVFBhaZk  STAT E-STICS #12 | KIA EV6 und alle Elektroaut...   \n",
      "\n",
      "           published_at                channel_id  view_count  like_count  \\\n",
      "0  2021-04-01T08:00:27Z  UCaCaZ-vKtnMG2_FKmEePChQ      4217.0       493.0   \n",
      "1  2021-04-01T05:00:02Z  UCsNdsFTTBj5jcRJSWeJ8-Xg      7432.0       613.0   \n",
      "2  2021-04-01T16:15:55Z  UCasePAQ_q7tbUGybICCj4NQ      5530.0       342.0   \n",
      "3  2021-04-02T17:11:32Z  UCddkvrnYqGRfODPMUQqisiw      6389.0       291.0   \n",
      "4  2021-04-02T15:30:01Z  UCDDj2GWklzZ09X7R9OtsX3Q     38400.0       508.0   \n",
      "\n",
      "   comment_count  job  id  valid  \\\n",
      "0            193    0   0  valid   \n",
      "1            129    0   0  valid   \n",
      "2             88    0   0  valid   \n",
      "3             89    0   0  valid   \n",
      "4             99    0   0  valid   \n",
      "\n",
      "                                     title_processed  \n",
      "0  e-auto mit 100% wasserkraft laden | prototyp n...  \n",
      "1  breaking elektro-news: xiaomi plant elektroaut...  \n",
      "2  model 3 facelift (sr & lr): analyse der tests ...  \n",
      "3  probleme und mängel an meinem audi e-tron upda...  \n",
      "4  stat e-stics #12 | kia ev6 und alle elektroaut...  \n"
     ]
    }
   ],
   "source": [
    "merged_video = pd.merge(video_topics,video_df,left_on='documents',right_on='title_processed')\n",
    "merged_video = merged_video.drop(['documents', 'Unnamed: 0'], axis=1)\n",
    "merged_video = merged_video.rename(columns={\"label\": \"topic\"})\n",
    "\n",
    "\n",
    "print(merged_video.head())\n",
    "\n",
    "merged_video.to_csv(\"video_topics.csv\", index = False)\n"
   ]
  }
 ],
 "metadata": {
  "kernelspec": {
   "display_name": "Python 3 (ipykernel)",
   "language": "python",
   "name": "python3"
  },
  "language_info": {
   "codemirror_mode": {
    "name": "ipython",
    "version": 3
   },
   "file_extension": ".py",
   "mimetype": "text/x-python",
   "name": "python",
   "nbconvert_exporter": "python",
   "pygments_lexer": "ipython3",
   "version": "3.8.12"
  }
 },
 "nbformat": 4,
 "nbformat_minor": 5
}
