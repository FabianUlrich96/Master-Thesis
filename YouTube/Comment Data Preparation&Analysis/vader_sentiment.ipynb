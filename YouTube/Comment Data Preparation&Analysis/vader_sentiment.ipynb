{
 "cells": [
  {
   "cell_type": "code",
   "execution_count": 1,
   "id": "54cf11f4",
   "metadata": {},
   "outputs": [],
   "source": [
    "from vaderSentiment.vaderSentiment import SentimentIntensityAnalyzer\n",
    "import pandas as pd"
   ]
  },
  {
   "cell_type": "code",
   "execution_count": 2,
   "id": "41e6c7bf",
   "metadata": {},
   "outputs": [
    {
     "name": "stdout",
     "output_type": "stream",
     "text": [
      "   index  table_id     video_id  job page       date      author  likes  \\\n",
      "0      0     10061  kjwiFMxRotQ   85      2022-03-08  Car Maniac    437   \n",
      "1      1     10062  kjwiFMxRotQ   85      2022-03-08      Dennis      0   \n",
      "2      2     10063  kjwiFMxRotQ   85      2022-03-08   Karl Napp      1   \n",
      "3      3     10064  kjwiFMxRotQ   85      2022-03-08       Ed Sa      0   \n",
      "4      4     10065  kjwiFMxRotQ   85      2022-03-08  MetalJaska      0   \n",
      "\n",
      "    published     updated  reply_count                  comment_id  \\\n",
      "0  2022-02-25  2022-02-25          108  UgxrA7-S9AiWwCGK8nh4AaABAg   \n",
      "1  2022-03-08  2022-03-08            0  UgwlX0wQuL4vSc2dUu14AaABAg   \n",
      "2  2022-03-08  2022-03-08            0  UgwxGcXqAkDNrle96V54AaABAg   \n",
      "3  2022-03-08  2022-03-08            0  Ugzo6Qq8uCYpTJKGZFZ4AaABAg   \n",
      "4  2022-03-08  2022-03-08            0  UgyHMgEX65XJeuwXlBZ4AaABAg   \n",
      "\n",
      "                                             comment  \\\n",
      "0  <b>Liebe Freunde, die erste Spendensumme habe ...   \n",
      "1  Wie man in den Wald schreit… was denn für ein ...   \n",
      "2                   EQS = Embarrassing Quality Shit.   \n",
      "3  Erinnert mich an eine persönliche Geschichte d...   \n",
      "4  Ich kann dich gut verstehen. Vermutlich gibt e...   \n",
      "\n",
      "                                         translation label  \n",
      "0  Dear friends, I have already put the first don...   ham  \n",
      "1  How to scream into the forest... what kind of ...   ham  \n",
      "2                   EQS = Embarrassing Quality Shit.   ham  \n",
      "3  Reminds me of a personal story I had with a ma...   ham  \n",
      "4  I can understand you well. There is probably n...   ham  \n",
      "   index  table_id     video_id  job  \\\n",
      "0      0      8016  kjwiFMxRotQ   85   \n",
      "1      1      8017  kjwiFMxRotQ   85   \n",
      "2      3      8019  kjwiFMxRotQ   85   \n",
      "3      4      8020  kjwiFMxRotQ   85   \n",
      "4      5      8021  kjwiFMxRotQ   85   \n",
      "\n",
      "                                                page       date  \\\n",
      "0                                                    2022-03-08   \n",
      "1                                                    2022-03-08   \n",
      "2                                                    2022-03-08   \n",
      "3                                                    2022-03-08   \n",
      "4  QURTSl9pMEc3bkhaQXRqTXBTX2JlUmlkMzAyb1N0eDRaRF... 2022-03-08   \n",
      "\n",
      "                    parent_id            author  likes   published  \\\n",
      "0  UgxrA7-S9AiWwCGK8nh4AaABAg  Kokainarienv0gel      0  2022-03-06   \n",
      "1  UgxrA7-S9AiWwCGK8nh4AaABAg          Marcello      0  2022-03-04   \n",
      "2  UgxrA7-S9AiWwCGK8nh4AaABAg    Jens Schwarzer      0  2022-03-03   \n",
      "3  UgxrA7-S9AiWwCGK8nh4AaABAg     Reiner Müller      0  2022-03-03   \n",
      "4  Ugy-Vuw7tAqCOzx4_dF4AaABAg    Daniel Ludewig      1  2022-03-06   \n",
      "\n",
      "      updated                                            comment  \\\n",
      "0  2022-03-06  Bezüglich der Spenden, vorallem was Geld betri...   \n",
      "1  2022-03-04  @MasterMind187 richtig Kunde ist Kunde, daher ...   \n",
      "2  2022-03-03                  Gute Aktion - 100€ von mir dafür.   \n",
      "3  2022-03-03  Ich werde das Video in Intranet teilen, mal ge...   \n",
      "4  2022-03-06  @Car Maniac Ich kann Dich ja im Grundsatz vers...   \n",
      "\n",
      "                                         translation label  \n",
      "0  Regarding donations, especially money... the c...   ham  \n",
      "1  @MasterMind187 right Customer is customer, so ...   ham  \n",
      "2                Good action - 100 € from me for it.   ham  \n",
      "3  I will share the video on the intranet, curiou...   ham  \n",
      "4  @Car Maniac I can understand you in principle,...   ham  \n"
     ]
    }
   ],
   "source": [
    "# load datasets\n",
    "work_dir = \"C:/Users/fabia/OneDrive - Otto-Friedrich-Universität Bamberg/Master/Masterarbeit/Data/Comment\"\n",
    "\n",
    "comments_df = pd.read_json(work_dir + \"/comments_cleaned-ham.json\")\n",
    "replies_df = pd.read_json(work_dir + \"/replies_cleaned-ham.json\")\n",
    "\n",
    "print(comments_df.head())\n",
    "print(replies_df.head())"
   ]
  },
  {
   "cell_type": "code",
   "execution_count": 3,
   "id": "5e8ff410",
   "metadata": {},
   "outputs": [],
   "source": [
    "# calculate vader sentiment for each comment and reply in dataset\n",
    "analyzer = SentimentIntensityAnalyzer()\n",
    "def calculate_sentiment(dataframe):\n",
    "    utf_encoded = dataframe[\"translation\"].encode('utf-16', 'surrogatepass').decode('utf-16')\n",
    "    vs = analyzer.polarity_scores(utf_encoded)\n",
    "    neg_list.append(vs[\"neg\"])\n",
    "    neu_list.append(vs[\"neu\"])\n",
    "    pos_list.append(vs[\"pos\"])\n",
    "    com_list.append(vs[\"compound\"])\n",
    "    return dataframe"
   ]
  },
  {
   "cell_type": "code",
   "execution_count": 4,
   "id": "68104591",
   "metadata": {},
   "outputs": [],
   "source": [
    "neg_list = []\n",
    "neu_list = []\n",
    "pos_list = []\n",
    "com_list = []\n",
    "comments_df = comments_df.apply(lambda x: calculate_sentiment(x), axis=1)"
   ]
  },
  {
   "cell_type": "code",
   "execution_count": 5,
   "id": "bd5a0158",
   "metadata": {},
   "outputs": [],
   "source": [
    "comments_df[\"negative\"] = neg_list\n",
    "comments_df[\"neutral\"] = neu_list\n",
    "comments_df[\"positive\"] = pos_list\n",
    "comments_df[\"compound\"] = com_list"
   ]
  },
  {
   "cell_type": "code",
   "execution_count": 6,
   "id": "de806a25",
   "metadata": {},
   "outputs": [],
   "source": [
    "neg_list = []\n",
    "neu_list = []\n",
    "pos_list = []\n",
    "com_list = []\n",
    "replies_df = replies_df.apply(lambda x: calculate_sentiment(x), axis=1)"
   ]
  },
  {
   "cell_type": "code",
   "execution_count": 7,
   "id": "6d16eecc",
   "metadata": {},
   "outputs": [],
   "source": [
    "replies_df[\"negative\"] = neg_list\n",
    "replies_df[\"neutral\"] = neu_list\n",
    "replies_df[\"positive\"] = pos_list\n",
    "replies_df[\"compound\"] = com_list"
   ]
  },
  {
   "cell_type": "code",
   "execution_count": 8,
   "id": "d96ba610",
   "metadata": {},
   "outputs": [],
   "source": [
    "#save results to json\n",
    "comments_df.reset_index().to_json(\"comments_with-sentiment.json\", orient='records')\n",
    "replies_df.reset_index().to_json(\"replies_with-sentiment.json\", orient='records')"
   ]
  }
 ],
 "metadata": {
  "kernelspec": {
   "display_name": "Python 3 (ipykernel)",
   "language": "python",
   "name": "python3"
  },
  "language_info": {
   "codemirror_mode": {
    "name": "ipython",
    "version": 3
   },
   "file_extension": ".py",
   "mimetype": "text/x-python",
   "name": "python",
   "nbconvert_exporter": "python",
   "pygments_lexer": "ipython3",
   "version": "3.8.12"
  }
 },
 "nbformat": 4,
 "nbformat_minor": 5
}
