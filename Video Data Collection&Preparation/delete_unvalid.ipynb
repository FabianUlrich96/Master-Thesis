{
 "cells": [
  {
   "cell_type": "code",
   "execution_count": 1,
   "id": "d359a700",
   "metadata": {},
   "outputs": [],
   "source": [
    "import pandas as pd"
   ]
  },
  {
   "cell_type": "code",
   "execution_count": 8,
   "id": "7db5ccd9",
   "metadata": {},
   "outputs": [],
   "source": [
    "file = pd.read_csv(\"Juli_20-Total_with_information_labeled.csv\")"
   ]
  },
  {
   "cell_type": "code",
   "execution_count": 9,
   "id": "583326a2",
   "metadata": {},
   "outputs": [
    {
     "name": "stdout",
     "output_type": "stream",
     "text": [
      "     Unnamed: 0     video_id  \\\n",
      "2             2  7l3fREmEiuI   \n",
      "5             5  cOwoQ5JTxHM   \n",
      "11           11  L60hLi8KZbk   \n",
      "14           14  i3Ovee0gi6Q   \n",
      "15           15  GXG_OuYT1W4   \n",
      "..          ...          ...   \n",
      "477         477  vlPMp77Wt_4   \n",
      "479         479  gApx15HNlK4   \n",
      "482         482  2uc8WUHRxOU   \n",
      "491         491  oaHwpZF6Xm4   \n",
      "497         497  fHlRjjOFu-0   \n",
      "\n",
      "                                                 title          published_at  \\\n",
      "2    Im Audi Etron von Hamburg nach Leipzig in 9 St...  2020-07-01T09:30:00Z   \n",
      "5    Bloch reagiert auf Tesla Model Y Reichweitente...  2020-07-01T14:00:10Z   \n",
      "11   Der große Elektroauto-Schwindel | Bessere Zeit...  2020-07-02T20:43:06Z   \n",
      "14   Elektroauto kostenlos aufladen mit &Charge - E...  2020-07-02T19:00:11Z   \n",
      "15   Mit dem Elektro Hyundai schneller von Berlin n...  2020-07-02T09:30:06Z   \n",
      "..                                                 ...                   ...   \n",
      "477  37 Mrd. € schmutzige Subventionen I VW bleibt ...  2020-07-09T16:00:18Z   \n",
      "479  BEST OF Skoda Citigo e iV - Das 24.534 € Sonde...  2020-07-10T15:45:02Z   \n",
      "482  CORSA-E statt TESLA - eine Woche E-Opel Praxis...  2020-07-12T19:34:33Z   \n",
      "491  Elektroautos - setzen wir auf das falsche Pfer...  2020-07-21T18:34:54Z   \n",
      "497  VW ID.3 Das perfekte E-Auto? Erster Fahrberich...  2020-07-24T16:00:25Z   \n",
      "\n",
      "                   channel_id  view_count  like_count  comment_count  job  id  \\\n",
      "2    UCaCaZ-vKtnMG2_FKmEePChQ        5063       478.0            120    0   0   \n",
      "5    UCLINPbYQ9sy6qc-TqtBeVnw      211684      5571.0            826    0   0   \n",
      "11   UCPH3ZPeqWqRVZ_ef4vOZgSw      482332     17206.0           4747    0   0   \n",
      "14   UCBc0Mghy-6jhMXs3T7DluMg       11051       300.0             63    0   0   \n",
      "15   UCaCaZ-vKtnMG2_FKmEePChQ        8625       432.0            127    0   0   \n",
      "..                        ...         ...         ...            ...  ...  ..   \n",
      "477  UCSwRhu8CeHVXZlG1ExdjuTQ        8585       443.0            134    0   0   \n",
      "479  UCY6-ahhvT6YHuhnq8CEgHVw       67324       155.0             82    0   0   \n",
      "482  UCdPCrCxcLyL7DQGo3P6ZfUA       24779      2133.0            213    0   0   \n",
      "491  UCT5nXIRHzhRxwCY-_LH1SQA        1459        30.0             92    0   0   \n",
      "497  UCSwRhu8CeHVXZlG1ExdjuTQ      111832      2011.0            921    0   0   \n",
      "\n",
      "     valid  \n",
      "2    valid  \n",
      "5    valid  \n",
      "11   valid  \n",
      "14   valid  \n",
      "15   valid  \n",
      "..     ...  \n",
      "477  valid  \n",
      "479  valid  \n",
      "482  valid  \n",
      "491  valid  \n",
      "497  valid  \n",
      "\n",
      "[176 rows x 11 columns]\n"
     ]
    }
   ],
   "source": [
    "selected = file.loc[file['valid'] == 'valid']\n",
    "print(selected)\n"
   ]
  },
  {
   "cell_type": "code",
   "execution_count": 10,
   "id": "9f4c0df5",
   "metadata": {},
   "outputs": [
    {
     "name": "stdout",
     "output_type": "stream",
     "text": [
      "176\n"
     ]
    }
   ],
   "source": [
    "index = selected.index\n",
    "\n",
    "df_rows = len(index)\n",
    "\n",
    "selected = selected.drop(columns=['Unnamed: 0', 'title', 'published_at', 'channel_id', 'view_count', 'like_count', 'comment_count', 'valid'], axis=1)\n",
    "\n",
    "print(df_rows)\n",
    "selected.to_csv('Juli_20-Total_Cleaned.csv')"
   ]
  }
 ],
 "metadata": {
  "kernelspec": {
   "display_name": "Python 3 (ipykernel)",
   "language": "python",
   "name": "python3"
  },
  "language_info": {
   "codemirror_mode": {
    "name": "ipython",
    "version": 3
   },
   "file_extension": ".py",
   "mimetype": "text/x-python",
   "name": "python",
   "nbconvert_exporter": "python",
   "pygments_lexer": "ipython3",
   "version": "3.8.12"
  }
 },
 "nbformat": 4,
 "nbformat_minor": 5
}
