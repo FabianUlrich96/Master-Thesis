{
 "cells": [
  {
   "cell_type": "code",
   "execution_count": 28,
   "id": "0433a5aa",
   "metadata": {},
   "outputs": [],
   "source": [
    "from collections import Counter\n",
    "from itertools import combinations\n",
    "import pandas as pd"
   ]
  },
  {
   "cell_type": "code",
   "execution_count": 17,
   "id": "7492aeef",
   "metadata": {},
   "outputs": [],
   "source": [
    "work_dir = \"D:/OneDrive - Otto-Friedrich-Universität Bamberg/Master/Masterarbeit/Data\"\n",
    "tweets_df = pd.read_csv(work_dir + \"/Twitter/all_tweets.csv\")"
   ]
  },
  {
   "cell_type": "code",
   "execution_count": 18,
   "id": "d4c3715c",
   "metadata": {},
   "outputs": [],
   "source": [
    "joined_tweets = ', '.join(tweets_df.tweet)"
   ]
  },
  {
   "cell_type": "code",
   "execution_count": 24,
   "id": "084a6f1d",
   "metadata": {},
   "outputs": [
    {
     "name": "stdout",
     "output_type": "stream",
     "text": [
      "[('der', 27576), ('die', 23836), ('und', 21294), ('für', 17763), ('in', 16238), ('Ladeinfrastruktur', 15773), ('Ladesäule', 13704), ('ist', 11273), ('mit', 10865), ('von', 9320), ('das', 9190), ('an', 8931), ('eine', 8606), ('nicht', 8410), ('zu', 7886), ('den', 7813), ('es', 7006), ('-', 6965), ('auf', 6554), ('ein', 6484), ('auch', 6459), ('ich', 5564), ('im', 5501), ('Die', 5475), ('bei', 4817), ('#Ladeinfrastruktur', 4669), ('noch', 4133), ('man', 4097), ('dem', 3845), ('sich', 3832), ('Das', 3605), ('wird', 3502), ('als', 3440), ('zur', 3349), ('#Elektromobilität', 3338), ('nur', 3276), ('aber', 3255), ('einer', 3175), ('hat', 3123), ('sind', 2985), ('Ausbau', 2865), ('dass', 2854), ('wir', 2829), ('Ich', 2728), ('wenn', 2726), ('wie', 2666), ('zum', 2644), ('mehr', 2598), ('keine', 2564), ('um', 2520), ('so', 2508), ('werden', 2501), ('oder', 2488), ('am', 2466), ('dann', 2395), ('kann', 2323), ('Und', 2293), ('einen', 2245), ('des', 2239), ('gibt', 2177), ('Der', 2123), ('über', 2081), ('mal', 2067), ('da', 2051), ('Elektromobilität', 2001), ('bis', 1977), ('Ladeinfrastruktur.', 1911), ('muss', 1894), ('schon', 1860), ('&amp;', 1860), ('Sie', 1829), ('haben', 1796), ('vor', 1789), ('aus', 1750), ('beim', 1745), ('nach', 1688), ('ja', 1677), ('E-Autos', 1673), ('Es', 1633), ('#eMobility', 1616), ('Wir', 1611), ('Auto', 1610), ('einem', 1599), ('sie', 1596), ('In', 1459), ('immer', 1445), ('was', 1442), ('#emobility', 1430), ('jetzt', 1396), ('Mit', 1391), ('Wenn', 1378), ('Elektroautos', 1351), ('neue', 1329), ('|', 1329), ('mir', 1292), ('Strom', 1292), ('#Ladesäule', 1269), ('geht', 1260), ('ohne', 1230), ('Schneider', 1216)]\n"
     ]
    }
   ],
   "source": [
    "joined_tweets_split = joined_tweets.split()\n",
    "Counters_found = Counter(joined_tweets_split)\n",
    "most_occur = Counters_found.most_common(100)\n",
    "print(most_occur)"
   ]
  },
  {
   "cell_type": "code",
   "execution_count": 38,
   "id": "aac574ff",
   "metadata": {},
   "outputs": [],
   "source": [
    "def collect_pairs(lines):\n",
    "    pair_counter = Counter()\n",
    "    unique_tokens = sorted(set(lines))  # exclude duplicates in same line and sort to ensure one word is always before other\n",
    "    combos = combinations(unique_tokens, 2)\n",
    "    pair_counter += Counter(combos)\n",
    "    return pair_counter"
   ]
  },
  {
   "cell_type": "code",
   "execution_count": null,
   "id": "cedb570e",
   "metadata": {},
   "outputs": [],
   "source": [
    "pairs = collect_pairs(joined_tweets_split)\n",
    "print(pairs.most_common(10))"
   ]
  }
 ],
 "metadata": {
  "kernelspec": {
   "display_name": "Python 3 (ipykernel)",
   "language": "python",
   "name": "python3"
  },
  "language_info": {
   "codemirror_mode": {
    "name": "ipython",
    "version": 3
   },
   "file_extension": ".py",
   "mimetype": "text/x-python",
   "name": "python",
   "nbconvert_exporter": "python",
   "pygments_lexer": "ipython3",
   "version": "3.9.7"
  }
 },
 "nbformat": 4,
 "nbformat_minor": 5
}
