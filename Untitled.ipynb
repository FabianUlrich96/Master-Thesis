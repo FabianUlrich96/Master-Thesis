{
 "cells": [
  {
   "cell_type": "code",
   "execution_count": 2,
   "id": "0433a5aa",
   "metadata": {},
   "outputs": [],
   "source": [
    "from collections import Counter\n",
    "from itertools import combinations\n",
    "import pandas as pd\n",
    "import tweepy\n",
    "import requests\n",
    "import bitermplus as btm"
   ]
  },
  {
   "cell_type": "code",
   "execution_count": 23,
   "id": "7492aeef",
   "metadata": {},
   "outputs": [],
   "source": [
    "work_dir = \"C:/Users/fabia/OneDrive - Otto-Friedrich-Universität Bamberg/Master/Masterarbeit/Data\"\n",
    "tweets_df = pd.read_csv(work_dir + \"/Twitter/all_tweets.csv\")"
   ]
  },
  {
   "cell_type": "code",
   "execution_count": 24,
   "id": "d759ad75",
   "metadata": {},
   "outputs": [],
   "source": [
    "tweets_df['date'] = pd.to_datetime(tweets_df['date'], errors='coerce')\n",
    "tweets_df = tweets_df[(tweets_df['date'] > \"2020-07-08\")]"
   ]
  },
  {
   "cell_type": "code",
   "execution_count": 18,
   "id": "d4c3715c",
   "metadata": {},
   "outputs": [],
   "source": [
    "joined_tweets = ', '.join(tweets_df.tweet)"
   ]
  },
  {
   "cell_type": "code",
   "execution_count": 24,
   "id": "084a6f1d",
   "metadata": {},
   "outputs": [
    {
     "name": "stdout",
     "output_type": "stream",
     "text": [
      "[('der', 27576), ('die', 23836), ('und', 21294), ('für', 17763), ('in', 16238), ('Ladeinfrastruktur', 15773), ('Ladesäule', 13704), ('ist', 11273), ('mit', 10865), ('von', 9320), ('das', 9190), ('an', 8931), ('eine', 8606), ('nicht', 8410), ('zu', 7886), ('den', 7813), ('es', 7006), ('-', 6965), ('auf', 6554), ('ein', 6484), ('auch', 6459), ('ich', 5564), ('im', 5501), ('Die', 5475), ('bei', 4817), ('#Ladeinfrastruktur', 4669), ('noch', 4133), ('man', 4097), ('dem', 3845), ('sich', 3832), ('Das', 3605), ('wird', 3502), ('als', 3440), ('zur', 3349), ('#Elektromobilität', 3338), ('nur', 3276), ('aber', 3255), ('einer', 3175), ('hat', 3123), ('sind', 2985), ('Ausbau', 2865), ('dass', 2854), ('wir', 2829), ('Ich', 2728), ('wenn', 2726), ('wie', 2666), ('zum', 2644), ('mehr', 2598), ('keine', 2564), ('um', 2520), ('so', 2508), ('werden', 2501), ('oder', 2488), ('am', 2466), ('dann', 2395), ('kann', 2323), ('Und', 2293), ('einen', 2245), ('des', 2239), ('gibt', 2177), ('Der', 2123), ('über', 2081), ('mal', 2067), ('da', 2051), ('Elektromobilität', 2001), ('bis', 1977), ('Ladeinfrastruktur.', 1911), ('muss', 1894), ('schon', 1860), ('&amp;', 1860), ('Sie', 1829), ('haben', 1796), ('vor', 1789), ('aus', 1750), ('beim', 1745), ('nach', 1688), ('ja', 1677), ('E-Autos', 1673), ('Es', 1633), ('#eMobility', 1616), ('Wir', 1611), ('Auto', 1610), ('einem', 1599), ('sie', 1596), ('In', 1459), ('immer', 1445), ('was', 1442), ('#emobility', 1430), ('jetzt', 1396), ('Mit', 1391), ('Wenn', 1378), ('Elektroautos', 1351), ('neue', 1329), ('|', 1329), ('mir', 1292), ('Strom', 1292), ('#Ladesäule', 1269), ('geht', 1260), ('ohne', 1230), ('Schneider', 1216)]\n"
     ]
    }
   ],
   "source": [
    "joined_tweets_split = joined_tweets.split()\n",
    "Counters_found = Counter(joined_tweets_split)\n",
    "most_occur = Counters_found.most_common(100)\n",
    "print(most_occur)"
   ]
  },
  {
   "cell_type": "code",
   "execution_count": 38,
   "id": "aac574ff",
   "metadata": {},
   "outputs": [],
   "source": [
    "def collect_pairs(lines):\n",
    "    pair_counter = Counter()\n",
    "    unique_tokens = sorted(set(lines))  # exclude duplicates in same line and sort to ensure one word is always before other\n",
    "    combos = combinations(unique_tokens, 2)\n",
    "    pair_counter += Counter(combos)\n",
    "    return pair_counter"
   ]
  },
  {
   "cell_type": "code",
   "execution_count": null,
   "id": "cedb570e",
   "metadata": {},
   "outputs": [],
   "source": [
    "pairs = collect_pairs(joined_tweets_split)\n",
    "print(pairs.most_common(10))"
   ]
  },
  {
   "cell_type": "code",
   "execution_count": 60,
   "id": "9c757089",
   "metadata": {},
   "outputs": [
    {
     "name": "stdout",
     "output_type": "stream",
     "text": [
      "Systemwechsler\n",
      "DKPTPOSHHBR1EZZZ\n",
      "❌Fyouuuuouuu❌\n",
      "1406221467067588608\n",
      "Larthee\n",
      "125128089\n",
      "M H Hofmeister #Pro-Israel\n",
      "820909894782095360\n",
      "Freedom Presidente\n",
      "435622215\n",
      "Ebrima Jallow\n",
      "1464207106178166784\n",
      "Ra M\n",
      "742103363282731008\n",
      "❌Doxograf🗽☮️🛡️\n",
      "1417414352999796743\n",
      "Theloveinyou\n",
      "1167192102142402562\n",
      "Peter Schell\n",
      "2442589521\n",
      "Kean Morgan\n",
      "1498285113708269570\n",
      "Paşa Worldwide\n",
      "1375139509696929794\n",
      "KOBA 🇨🇺🇷🇺\n",
      "1471874596219596810\n",
      "Willy\n",
      "1263093009702359040\n",
      "Petra\n",
      "1327593311549464577\n",
      "Fabienne 🇺🇦❤️🇷🇺\n",
      "1472282989493116929\n",
      "Otto Kolonsz\n",
      "591162154\n",
      "Lupus07\n",
      "1381987522054610946\n",
      "Römer Rome\n",
      "897772314451947520\n",
      "FannySings\n",
      "1163213503093714945\n",
      "Sahnie💌\n",
      "1320289643607347200\n",
      "Flitzer 🇩🇪 🇷🇺\n",
      "90944050\n",
      "Michi #HeinerULTRAS 🤍(ewiger Azubi)\n",
      "1446889063\n",
      "KaOs\n",
      "1431903193852694529\n",
      "Tim ☀️\n",
      "1472112792018763787\n",
      "Volksanwalt\n",
      "1494037492756103173\n",
      "ToxicHead @Suspicious\n",
      "1415760986867437587\n",
      "Harald Baham\n",
      "1148853472273588224\n",
      "contra_Impfpflicht\n",
      "1466106977302503426\n",
      "Christof Vollrath\n",
      "14715249\n",
      "SalzinderSuppe\n",
      "1470751432504745993\n",
      "Freiheit-forever ohne Grüne/SPD\n",
      "1161739458359771137\n",
      "Rage against the Vaccine\n",
      "30941614\n",
      "Maxman - Licht am Ende des Tunnels\n",
      "79441534\n",
      "HansDampf\n",
      "957154283002179584\n",
      "Vincenza Cierro\n",
      "1465777750338420745\n",
      "Alles Wirdgut\n",
      "1396040277727531010\n",
      "Ronja Räubertochter\n",
      "1321447798592733184\n",
      "KeinsZwei 🇩🇪\n",
      "722814204713902080\n",
      "lumic\n",
      "398299381\n",
      "JL\n",
      "1428316895682367495\n",
      "Any Solace\n",
      "46082356\n",
      "Christian Trutz\n",
      "845624365911822337\n",
      "Free-Web\n",
      "226467514\n",
      "Roland S 🇩🇪🇩🇪I stand with @elonmusk\n",
      "1085943079104729088\n",
      "Hans-Peter Ziegler\n",
      "1467797203850829827\n"
     ]
    }
   ],
   "source": [
    "bearer_token = \"AAAAAAAAAAAAAAAAAAAAAOR%2BbwEAAAAASwiLtwOgXt%2FtG0EJIrLdaph2Xsw%3DspW7CHN0I6KBcjdy4BVvj75LpMAdgQ5l3DIkrcVWMFz8FLIHlz\"\n",
    "\n",
    "client = tweepy.Client(bearer_token, wait_on_rate_limit=True)\n",
    "\n",
    "\n",
    "user_names = [\"Systemwechsler\"]\n",
    "response = client.get_users(usernames=user_names)\n",
    "\n",
    "\n",
    "for user in response.data:\n",
    "    print(user)\n",
    "\n",
    "    user_id = user.id\n",
    "    \n",
    "#print(response.data)\n",
    "\n",
    "# By default, this endpoint/method returns 100 results\n",
    "# You can retrieve up to 1000 users by specifying max_results\n",
    "next_token = \"\"\n",
    "response = client.get_users_followers(user_id, max_results=100, pagination_token=None)\n",
    "                                      \n",
    "try:\n",
    "    next_token = response.meta[\"next_token\"]\n",
    "except:\n",
    "    next_token = None                                      \n",
    "\n",
    "while next_token != None:\n",
    "    print(next_token)\n",
    "    response = client.get_users_followers(user_id, max_results=100, pagination_token=next_token)\n",
    "    for user in response.data:\n",
    "        print(user[\"name\"])\n",
    "        print(user[\"id\"])\n",
    "\n",
    "    try:\n",
    "        next_token = response.meta[\"next_token\"]\n",
    "    except:\n",
    "        next_token = None\n",
    "\n",
    "\n",
    "#for data in response:\n",
    " #   print(type(data))\n",
    "    \n",
    "#print(response)"
   ]
  },
  {
   "cell_type": "code",
   "execution_count": 87,
   "id": "3b7c192a",
   "metadata": {},
   "outputs": [
    {
     "name": "stdout",
     "output_type": "stream",
     "text": [
      "1075\n",
      "{'following': False, 'id': '37979623', 'screen_name': 'Elektronews', 'name': 'Oskar Ohm', 'protected': False, 'followers_count': 1075, 'formatted_followers_count': '1,075 followers', 'age_gated': False}\n"
     ]
    }
   ],
   "source": [
    "\n",
    "request_link = \"https://cdn.syndication.twimg.com/widgets/followbutton/info.json?screen_names=Elektronews\"\n",
    "\n",
    "r = requests.get(request_link).json()\n",
    "print(r[0][\"followers_count\"])\n",
    "print(r[0])"
   ]
  },
  {
   "cell_type": "code",
   "execution_count": 25,
   "id": "706b391f",
   "metadata": {
    "scrolled": true
   },
   "outputs": [
    {
     "name": "stdout",
     "output_type": "stream",
     "text": [
      "['ReinerKurzmann' 'na_presseportal' 'SmartHomeEU1' ... 'J_Hildermeier'\n",
      " 'kamil2_0' 'MAZirke']\n",
      "                users  follower_count\n",
      "0      ReinerKurzmann           114.0\n",
      "1     na_presseportal          6640.0\n",
      "2        SmartHomeEU1           974.0\n",
      "3          EPhisoloph            11.0\n",
      "4              Amie42           600.0\n",
      "...               ...             ...\n",
      "9346       chaase1337             5.0\n",
      "9347     Stefan_Urbat          2000.0\n",
      "9348    J_Hildermeier           710.0\n",
      "9349         kamil2_0          1032.0\n",
      "9350          MAZirke           387.0\n",
      "\n",
      "[9351 rows x 2 columns]\n"
     ]
    }
   ],
   "source": [
    "unique_users = tweets_df[\"user\"].unique()\n",
    "\n",
    "print(unique_users)\n",
    "\n",
    "user_df = pd.DataFrame(unique_users, columns = ['users'])\n",
    "\n",
    "follower_count = []\n",
    "\n",
    "for user in unique_users:\n",
    "    str_user = str(user)\n",
    "    request_link = \"https://cdn.syndication.twimg.com/widgets/followbutton/info.json?screen_names=\"+str_user\n",
    "    \n",
    "    try:\n",
    "        request_result = requests.get(request_link).json()\n",
    "    except:\n",
    "        request_result = None\n",
    "    \n",
    "    try:\n",
    "        follower = request_result[0][\"followers_count\"]\n",
    "    except:\n",
    "        follower = None\n",
    "    \n",
    "    follower_count.append(follower)\n",
    "\n",
    "user_df[\"follower_count\"] = follower_count\n",
    "print(user_df)"
   ]
  },
  {
   "cell_type": "code",
   "execution_count": 26,
   "id": "4515ed82",
   "metadata": {},
   "outputs": [],
   "source": [
    "user_df.to_csv(\"twitter_user-20-22.csv\")"
   ]
  },
  {
   "cell_type": "code",
   "execution_count": 5,
   "id": "0a8cfa9a",
   "metadata": {},
   "outputs": [],
   "source": [
    "import bitermplus as btm"
   ]
  },
  {
   "cell_type": "code",
   "execution_count": 6,
   "id": "fef6d18b",
   "metadata": {},
   "outputs": [
    {
     "name": "stdout",
     "output_type": "stream",
     "text": [
      "['BTM', '__builtins__', '__cached__', '__doc__', '__file__', '__loader__', '__name__', '__package__', '__path__', '__spec__', '__version__', '_btm', '_metrics', '_util', 'coherence', 'entropy', 'get_biterms', 'get_top_topic_docs', 'get_top_topic_words', 'get_vectorized_docs', 'get_words_freqs', 'perplexity']\n"
     ]
    }
   ],
   "source": [
    "print(dir(btm))"
   ]
  }
 ],
 "metadata": {
  "kernelspec": {
   "display_name": "Python 3 (ipykernel)",
   "language": "python",
   "name": "python3"
  },
  "language_info": {
   "codemirror_mode": {
    "name": "ipython",
    "version": 3
   },
   "file_extension": ".py",
   "mimetype": "text/x-python",
   "name": "python",
   "nbconvert_exporter": "python",
   "pygments_lexer": "ipython3",
   "version": "3.9.7"
  }
 },
 "nbformat": 4,
 "nbformat_minor": 5
}
