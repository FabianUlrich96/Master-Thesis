{
 "cells": [
  {
   "cell_type": "code",
   "execution_count": 26,
   "id": "d359a700",
   "metadata": {},
   "outputs": [],
   "source": [
    "import pandas as pd"
   ]
  },
  {
   "cell_type": "code",
   "execution_count": 27,
   "id": "7db5ccd9",
   "metadata": {},
   "outputs": [],
   "source": [
    "file = pd.read_csv(\"January_22-Total_with_information_labeled.csv\")"
   ]
  },
  {
   "cell_type": "code",
   "execution_count": 28,
   "id": "583326a2",
   "metadata": {},
   "outputs": [
    {
     "name": "stdout",
     "output_type": "stream",
     "text": [
      "      Unnamed: 0     video_id  \\\n",
      "0              0  LOSgVjTVpAs   \n",
      "1              1  ofGhcrRErxo   \n",
      "2              2  hDXhsH8gS4c   \n",
      "3              3  qPVsQ_8BNew   \n",
      "4              4  h9ft3blCTPs   \n",
      "...          ...          ...   \n",
      "1347        1347  jM-X7XaSbTs   \n",
      "1350        1350  Fhv2pd-CqdM   \n",
      "1351        1351  -MIHh07GSLk   \n",
      "1354        1354  bBMftD3lmEE   \n",
      "1355        1355  r3K4l41b71g   \n",
      "\n",
      "                                                  title          published_at  \\\n",
      "0     Bagger, Motorräder, Trucks: Elektromobilität a...  2022-01-06T22:36:45Z   \n",
      "1            Die WAHRHEIT über ELEKTROAUTOS im WINTER 🥶  2022-01-06T14:49:45Z   \n",
      "2     Breaking Elektro-News: eAutos eilen von Rekord...  2022-01-06T06:00:11Z   \n",
      "3     Wintertest - MG ZS EV Facelift 2022 - Autobahn...  2022-01-06T15:00:35Z   \n",
      "4     Hocheffizienter Antrieb für E-Nutzfahrzeuge – ...  2022-01-06T14:00:18Z   \n",
      "...                                                 ...                   ...   \n",
      "1347  GTA 5 STORY MODE IS VERY EMOTIONAL | GTA V GAM...  2022-01-29T23:46:57Z   \n",
      "1350  CARA CHANG'E MEMBALIKAN KEADAAN || SATU TIM HA...  2022-01-30T05:34:19Z   \n",
      "1351  SENSI DA UMP!! 🚂🇹🇷MELHOR SENSIBILIDADE + DPI P...  2022-01-30T14:40:00Z   \n",
      "1354  mein NEUWAGEN hat einen Batterieschaden 1000km...  2022-01-31T18:26:01Z   \n",
      "1355                                 Prämie für E-Autos  2022-01-31T08:04:09Z   \n",
      "\n",
      "                    channel_id  view_count  like_count  comment_count  job  \\\n",
      "0     UCACdxU3VrJIJc7ujxtHWs1w         664        12.0              1    0   \n",
      "1     UC3rz4cx41jWj7shRBTetzkw       73232      3283.0            586    0   \n",
      "2     UCsNdsFTTBj5jcRJSWeJ8-Xg       12453       817.0            103    0   \n",
      "3     UCd5Jpd5473VPhNjdWMUP6tw       26325      1074.0            194    0   \n",
      "4     UC_vO01sSD25a73DhoaxtZTw        1416        59.0              2    0   \n",
      "...                        ...         ...         ...            ...  ...   \n",
      "1347  UCAKUUeo2HancU3kO-pjjCxQ          40         7.0              1    0   \n",
      "1350  UCyn1zS5C4n7JgSYYAIqnhzw         190        12.0              8    0   \n",
      "1351  UCfy1_Y59Uj9xbVXkYvpIL8g        2522       268.0             16    0   \n",
      "1354  UCkeQaTKHKmRnWmXnl0uIuSA      270475     19162.0           2313    0   \n",
      "1355  UCrv6s8qXw_NkM7OjUY3hXLQ          59         3.0              2    0   \n",
      "\n",
      "      id  valid  \n",
      "0      0  valid  \n",
      "1      0  valid  \n",
      "2      0  valid  \n",
      "3      0  valid  \n",
      "4      0  valid  \n",
      "...   ..    ...  \n",
      "1347   0  valid  \n",
      "1350   0  valid  \n",
      "1351   0  valid  \n",
      "1354   0  valid  \n",
      "1355   0  valid  \n",
      "\n",
      "[1160 rows x 11 columns]\n"
     ]
    }
   ],
   "source": [
    "selected = file.loc[file['valid'] == 'valid']\n",
    "print(selected)\n"
   ]
  },
  {
   "cell_type": "code",
   "execution_count": 29,
   "id": "9f4c0df5",
   "metadata": {},
   "outputs": [
    {
     "name": "stdout",
     "output_type": "stream",
     "text": [
      "1160\n"
     ]
    }
   ],
   "source": [
    "index = selected.index\n",
    "\n",
    "df_rows = len(index)\n",
    "\n",
    "selected = selected.drop(columns=['Unnamed: 0', 'title', 'published_at', 'channel_id', 'view_count', 'like_count', 'comment_count', 'valid'], axis=1)\n",
    "\n",
    "print(df_rows)\n",
    "selected.to_csv('January_22-Total_Cleaned.csv')"
   ]
  }
 ],
 "metadata": {
  "kernelspec": {
   "display_name": "Python 3 (ipykernel)",
   "language": "python",
   "name": "python3"
  },
  "language_info": {
   "codemirror_mode": {
    "name": "ipython",
    "version": 3
   },
   "file_extension": ".py",
   "mimetype": "text/x-python",
   "name": "python",
   "nbconvert_exporter": "python",
   "pygments_lexer": "ipython3",
   "version": "3.9.7"
  }
 },
 "nbformat": 4,
 "nbformat_minor": 5
}
