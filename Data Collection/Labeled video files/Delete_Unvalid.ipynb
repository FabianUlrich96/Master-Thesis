{
 "cells": [
  {
   "cell_type": "code",
   "execution_count": 1,
   "id": "d359a700",
   "metadata": {},
   "outputs": [],
   "source": [
    "import pandas as pd"
   ]
  },
  {
   "cell_type": "code",
   "execution_count": 2,
   "id": "7db5ccd9",
   "metadata": {},
   "outputs": [],
   "source": [
    "file = pd.read_csv(\"Nov_21-Total_with_information_labeled.csv\")"
   ]
  },
  {
   "cell_type": "code",
   "execution_count": 3,
   "id": "583326a2",
   "metadata": {},
   "outputs": [
    {
     "name": "stdout",
     "output_type": "stream",
     "text": [
      "     Unnamed: 0     video_id  \\\n",
      "0             0  vIBc5yVUOqI   \n",
      "1             1  WywQeRmFGTY   \n",
      "8             8  37cp7mVLnL4   \n",
      "9             9  1QnGBxcL1Vw   \n",
      "13           13  KrKpTcU9mVg   \n",
      "..          ...          ...   \n",
      "479         479  FtNK2QIA8p0   \n",
      "484         484  D2MctFutTH0   \n",
      "485         485  _8ranEuDjNc   \n",
      "487         487  D2q9QtNGV1U   \n",
      "515         515  qZhBgppDqHQ   \n",
      "\n",
      "                                                 title          published_at  \\\n",
      "0    Tesla Supercharger ab heute offen für alle El...  2021-11-01T16:30:05Z   \n",
      "1    TESLA Supercharger für alle: Es geht los! +++ ...  2021-11-01T16:00:15Z   \n",
      "8    Akku-Upgrade Tesla Model 3 offiziell +++ Zweit...  2021-11-02T16:00:02Z   \n",
      "9    Die Ladesäule MUSS funktionieren - elvah bewer...  2021-11-02T16:00:01Z   \n",
      "13   Tesla öffnet Supercharger! Fakten, Ausblick un...  2021-11-03T17:01:52Z   \n",
      "..                                                 ...                   ...   \n",
      "479  T&Etalk: E-Auto vs. Bus und Bahn - Individualm...  2021-11-07T20:32:33Z   \n",
      "484  Opel Rocks-e: 2€ auf 100km & Kaufpreis wie ÖPN...  2021-11-10T15:16:42Z   \n",
      "485  Photovoltaik - Hausspeicher - E-Auto - Wärmepu...  2021-11-10T18:30:11Z   \n",
      "487  ÖAMTC: \"Gewesslers E-Auto-Strategie führt zu S...  2021-11-11T18:30:20Z   \n",
      "515  Nach Elektro Horror Urlaubsfahrt: E-Auto Neuli...  2021-11-26T15:00:24Z   \n",
      "\n",
      "                   channel_id  view_count  like_count  comment_count  job  id  \\\n",
      "0    UCd5Jpd5473VPhNjdWMUP6tw       17896      1433.0            270    0   0   \n",
      "1    UCpPbcfwq0wOpWrC0gBs73tQ       23301      1115.0            193    0   0   \n",
      "8    UCpPbcfwq0wOpWrC0gBs73tQ       15182      1007.0             93    0   0   \n",
      "9    UCBc0Mghy-6jhMXs3T7DluMg        8490       404.0             90    0   0   \n",
      "13   UCgmB8S3f8-9dR8alVUZuZxQ      127854      5157.0           1214    0   0   \n",
      "..                        ...         ...         ...            ...  ...  ..   \n",
      "479  UCqQGYPEU7DiNA6bUUmehb8g        3750       174.0             58    0   0   \n",
      "484  UCiZnK4X73okItJqaCs2YDOQ      270268      8113.0           1952    0   0   \n",
      "485  UC-k-5F2j4CUzuwkx1QLRlpA        5866       303.0            180    0   0   \n",
      "487  UCyQpfuhftLvrmjxgEzVH78Q        3499        26.0             74    0   0   \n",
      "515  UCiZnK4X73okItJqaCs2YDOQ       90200      3763.0            631    0   0   \n",
      "\n",
      "     valid  \n",
      "0    valid  \n",
      "1    valid  \n",
      "8    valid  \n",
      "9    valid  \n",
      "13   valid  \n",
      "..     ...  \n",
      "479  valid  \n",
      "484  valid  \n",
      "485  valid  \n",
      "487  valid  \n",
      "515  valid  \n",
      "\n",
      "[176 rows x 11 columns]\n"
     ]
    }
   ],
   "source": [
    "selected = file.loc[file['valid'] == 'valid']\n",
    "print(selected)\n"
   ]
  },
  {
   "cell_type": "code",
   "execution_count": 4,
   "id": "9f4c0df5",
   "metadata": {},
   "outputs": [
    {
     "name": "stdout",
     "output_type": "stream",
     "text": [
      "176\n"
     ]
    }
   ],
   "source": [
    "index = selected.index\n",
    "\n",
    "df_rows = len(index)\n",
    "\n",
    "selected = selected.drop(columns=['Unnamed: 0', 'title', 'published_at', 'channel_id', 'view_count', 'like_count', 'comment_count', 'valid'], axis=1)\n",
    "\n",
    "print(df_rows)\n",
    "selected.to_csv('November_21-Total_Cleaned.csv')"
   ]
  }
 ],
 "metadata": {
  "kernelspec": {
   "display_name": "Python 3 (ipykernel)",
   "language": "python",
   "name": "python3"
  },
  "language_info": {
   "codemirror_mode": {
    "name": "ipython",
    "version": 3
   },
   "file_extension": ".py",
   "mimetype": "text/x-python",
   "name": "python",
   "nbconvert_exporter": "python",
   "pygments_lexer": "ipython3",
   "version": "3.9.7"
  }
 },
 "nbformat": 4,
 "nbformat_minor": 5
}
