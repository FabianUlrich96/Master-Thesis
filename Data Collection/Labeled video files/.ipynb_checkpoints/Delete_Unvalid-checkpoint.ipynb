{
 "cells": [
  {
   "cell_type": "code",
   "execution_count": 1,
   "id": "d359a700",
   "metadata": {},
   "outputs": [],
   "source": [
    "import pandas as pd"
   ]
  },
  {
   "cell_type": "code",
   "execution_count": 5,
   "id": "7db5ccd9",
   "metadata": {},
   "outputs": [],
   "source": [
    "file = pd.read_csv(\"February_22-Total_with_information_labeled.csv\")"
   ]
  },
  {
   "cell_type": "code",
   "execution_count": 6,
   "id": "583326a2",
   "metadata": {},
   "outputs": [
    {
     "name": "stdout",
     "output_type": "stream",
     "text": [
      "     Unnamed: 0     video_id  \\\n",
      "11         1233  kjwiFMxRotQ   \n",
      "42         1074  tlJHjxy6ilc   \n",
      "53          132  mMKzFXyxcbM   \n",
      "57         1176  mHJVhW2h220   \n",
      "62           39  sjvJ13totzY   \n",
      "..          ...          ...   \n",
      "714        1080  TTyN4Qbq1Js   \n",
      "717         412  2GU5RBXAbmQ   \n",
      "718         468  Wg5Gpi9ElvU   \n",
      "720        1011  9lQTLtdJZEk   \n",
      "722        1146  LSyjq7BcVb4   \n",
      "\n",
      "                                                 title          published_at  \\\n",
      "11   Mein Elektro-Mercedes Werkstatt Termin: DESAST...  2022-02-25T15:30:07Z   \n",
      "42   Nicht so schnell wie gedacht!: Tesla Model S P...  2022-02-20T17:15:03Z   \n",
      "53   Bin schockiert! Was ist eigentlich los mit E-A...  2022-02-11T17:29:35Z   \n",
      "57   Das Raumschiff | BMW iX | First Touch | Matthi...  2022-02-23T14:00:11Z   \n",
      "62   Tesla mit 20.000€ Akku Schaden - wie geht es w...  2022-02-02T19:12:09Z   \n",
      "..                                                 ...                   ...   \n",
      "714  Verbrauchsvergleich Tesla Model 3 SR+ (60kWh) ...  2022-02-20T11:32:10Z   \n",
      "717  TESLA: Model 3 aus Grünheide? Ein Zeitrahmen &...  2022-02-05T15:59:43Z   \n",
      "718  500 km Test - Vergleich Kosten und Zeit: TΞSLA...  2022-02-06T13:00:11Z   \n",
      "720        TESLA: Eine Variante des Model Y gestrichen  2022-02-18T16:00:11Z   \n",
      "722  Volvo C40 Test | 5 Vorteile gegenüber anderen ...  2022-02-22T14:30:05Z   \n",
      "\n",
      "                   channel_id  view_count  like_count  comment_count  job  id  \\\n",
      "11   UCiZnK4X73okItJqaCs2YDOQ      214027     16048.0           4224    0   0   \n",
      "42   UCLINPbYQ9sy6qc-TqtBeVnw      186683      4631.0           1473    0   0   \n",
      "53   UCiZnK4X73okItJqaCs2YDOQ      137955      4813.0           1258    0   0   \n",
      "57   UC8xqBQRIXKcnxU4yDu6X07A      219538      7077.0           1209    0   0   \n",
      "62   UCkeQaTKHKmRnWmXnl0uIuSA      223693     12336.0           1106    0   0   \n",
      "..                        ...         ...         ...            ...  ...  ..   \n",
      "714  UCQOnq7u47LRBgWXr1Xc-XWQ        4196       143.0             52    0   0   \n",
      "717  UCpPbcfwq0wOpWrC0gBs73tQ       16111       858.0             51    0   0   \n",
      "718  UC0wANY47B2CDa1_9ByPzz_A        5288       147.0             51    0   0   \n",
      "720  UCpPbcfwq0wOpWrC0gBs73tQ       16094       749.0             51    0   0   \n",
      "722  UCDDj2GWklzZ09X7R9OtsX3Q        5237       295.0             51    0   0   \n",
      "\n",
      "     valid  \n",
      "11   valid  \n",
      "42   valid  \n",
      "53   valid  \n",
      "57   valid  \n",
      "62   valid  \n",
      "..     ...  \n",
      "714  valid  \n",
      "717  valid  \n",
      "718  valid  \n",
      "720  valid  \n",
      "722  valid  \n",
      "\n",
      "[243 rows x 11 columns]\n"
     ]
    }
   ],
   "source": [
    "selected = file.loc[file['valid'] == 'valid']\n",
    "print(selected)\n"
   ]
  },
  {
   "cell_type": "code",
   "execution_count": 7,
   "id": "9f4c0df5",
   "metadata": {},
   "outputs": [
    {
     "name": "stdout",
     "output_type": "stream",
     "text": [
      "243\n"
     ]
    }
   ],
   "source": [
    "index = selected.index\n",
    "\n",
    "df_rows = len(index)\n",
    "\n",
    "selected = selected.drop(columns=['Unnamed: 0', 'title', 'published_at', 'channel_id', 'view_count', 'like_count', 'comment_count', 'valid'], axis=1)\n",
    "\n",
    "print(df_rows)\n",
    "selected.to_csv('February_22-Total_Cleaned.csv')"
   ]
  }
 ],
 "metadata": {
  "kernelspec": {
   "display_name": "Python 3 (ipykernel)",
   "language": "python",
   "name": "python3"
  },
  "language_info": {
   "codemirror_mode": {
    "name": "ipython",
    "version": 3
   },
   "file_extension": ".py",
   "mimetype": "text/x-python",
   "name": "python",
   "nbconvert_exporter": "python",
   "pygments_lexer": "ipython3",
   "version": "3.9.7"
  }
 },
 "nbformat": 4,
 "nbformat_minor": 5
}
