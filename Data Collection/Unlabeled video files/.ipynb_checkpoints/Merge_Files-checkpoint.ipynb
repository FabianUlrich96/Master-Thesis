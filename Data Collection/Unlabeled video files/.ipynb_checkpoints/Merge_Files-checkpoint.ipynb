{
 "cells": [
  {
   "cell_type": "code",
   "execution_count": 21,
   "id": "1f4c2186",
   "metadata": {},
   "outputs": [
    {
     "name": "stdout",
     "output_type": "stream",
     "text": [
      "Jun-21/Elektromobilität-June_21.csv\n",
      "Jun-21/Elektroauto-June_21.csv\n",
      "Jun-21/E-Auto-June_21.csv\n"
     ]
    }
   ],
   "source": [
    "import pandas as pd\n",
    "path = \"Jun-21/\"\n",
    "file_1 = path + \"Elektromobilität-June_21\" + \".csv\"\n",
    "file_2 = path + \"Elektroauto-June_21\" + \".csv\"\n",
    "file_3 = path + \"E-Auto-June_21\" + \".csv\"\n",
    "\n",
    "print(file_1)\n",
    "print(file_2)\n",
    "print(file_3)\n",
    "\n",
    "\n",
    "file_4 = None\n",
    "file_5 = None\n",
    "file_6 = None"
   ]
  },
  {
   "cell_type": "code",
   "execution_count": 22,
   "id": "89194efd",
   "metadata": {},
   "outputs": [
    {
     "name": "stdout",
     "output_type": "stream",
     "text": [
      "Empty DataFrame\n",
      "Columns: [id, video_id, kind, job, page, date]\n",
      "Index: []\n"
     ]
    }
   ],
   "source": [
    "if file_1:\n",
    "    df_1 = pd.read_csv(file_1)\n",
    "else:\n",
    "    df_1 = pd.DataFrame(columns=['id','video_id', 'kind', 'job', 'page', 'date'])\n",
    "\n",
    "if file_2:\n",
    "    df_2 = pd.read_csv(file_2)\n",
    "else:\n",
    "    df_2 = pd.DataFrame(columns=['id','video_id', 'kind', 'job', 'page', 'date'])\n",
    "\n",
    "if file_3:\n",
    "    df_3 = pd.read_csv(file_3)\n",
    "else:\n",
    "    df_3 = pd.DataFrame(columns=['id','video_id', 'kind', 'job', 'page', 'date'])\n",
    "\n",
    "    \n",
    "if file_4:\n",
    "    df_4 = pd.read_csv(file_4)\n",
    "else:\n",
    "    df_4 = pd.DataFrame(columns=['id','video_id', 'kind', 'job', 'page', 'date'])\n",
    "    \n",
    "if file_5:\n",
    "    df_5 = pd.read_csv(file_5)\n",
    "else:\n",
    "    df_5 = pd.DataFrame(columns=['id','video_id', 'kind', 'job', 'page', 'date'])\n",
    "    \n",
    "if file_6:\n",
    "    df_6 = pd.read_csv(file_6)\n",
    "else:\n",
    "    df_6 = pd.DataFrame(columns=['id','video_id', 'kind', 'job', 'page', 'date'])\n",
    "\n",
    "print(df_4)\n",
    "\n",
    "df_1 = df_1.drop(['id', 'kind', 'job', 'page', 'date'], axis=1)\n",
    "df_2 = df_2.drop(['id', 'kind', 'job', 'page', 'date'], axis=1)\n",
    "df_3 = df_3.drop(['id', 'kind', 'job', 'page', 'date'], axis=1)\n",
    "\n",
    "df_4 = df_4.drop(['id', 'kind', 'job', 'page', 'date'], axis=1)\n",
    "df_5 = df_5.drop(['id', 'kind', 'job', 'page', 'date'], axis=1)\n",
    "df_6 = df_6.drop(['id', 'kind', 'job', 'page', 'date'], axis=1)"
   ]
  },
  {
   "cell_type": "code",
   "execution_count": 23,
   "id": "285439d4",
   "metadata": {},
   "outputs": [
    {
     "name": "stdout",
     "output_type": "stream",
     "text": [
      "403\n",
      "386\n",
      "466\n",
      "0\n",
      "0\n",
      "0\n"
     ]
    }
   ],
   "source": [
    "index_1 = df_1.index\n",
    "index_2 = df_2.index\n",
    "index_3 = df_3.index\n",
    "index_4 = df_4.index\n",
    "index_5 = df_5.index\n",
    "index_6 = df_6.index\n",
    "\n",
    "df_1_rows = len(index_1)\n",
    "df_2_rows = len(index_2)\n",
    "df_3_rows = len(index_3)\n",
    "df_4_rows = len(index_4)\n",
    "df_5_rows = len(index_5)\n",
    "df_6_rows = len(index_6)\n",
    "\n",
    "print(df_1_rows)\n",
    "print(df_2_rows)\n",
    "print(df_3_rows)\n",
    "print(df_4_rows)\n",
    "print(df_5_rows)\n",
    "print(df_6_rows)"
   ]
  },
  {
   "cell_type": "code",
   "execution_count": 24,
   "id": "69a2e49a",
   "metadata": {},
   "outputs": [
    {
     "name": "stdout",
     "output_type": "stream",
     "text": [
      "1079\n"
     ]
    }
   ],
   "source": [
    "frames = [df_1, df_2, df_3, df_4, df_5, df_6]\n",
    "\n",
    "result = pd.concat(frames)\n",
    "\n",
    "result = result.drop_duplicates()\n",
    "\n",
    "index_result = result.index\n",
    "result_rows = len(index_result)\n",
    "print(result_rows)"
   ]
  },
  {
   "cell_type": "code",
   "execution_count": 25,
   "id": "349d2b08",
   "metadata": {},
   "outputs": [],
   "source": [
    "result.to_csv('June_21-Total.csv', index=False)"
   ]
  }
 ],
 "metadata": {
  "kernelspec": {
   "display_name": "Python 3 (ipykernel)",
   "language": "python",
   "name": "python3"
  },
  "language_info": {
   "codemirror_mode": {
    "name": "ipython",
    "version": 3
   },
   "file_extension": ".py",
   "mimetype": "text/x-python",
   "name": "python",
   "nbconvert_exporter": "python",
   "pygments_lexer": "ipython3",
   "version": "3.9.7"
  }
 },
 "nbformat": 4,
 "nbformat_minor": 5
}
