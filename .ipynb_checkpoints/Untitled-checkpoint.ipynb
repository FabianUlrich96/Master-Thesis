{
 "cells": [
  {
   "cell_type": "code",
   "execution_count": 4,
   "id": "0433a5aa",
   "metadata": {},
   "outputs": [],
   "source": [
    "from collections import Counter\n",
    "from itertools import combinations\n",
    "import pandas as pd\n",
    "import tweepy\n",
    "import requests"
   ]
  },
  {
   "cell_type": "code",
   "execution_count": 23,
   "id": "7492aeef",
   "metadata": {},
   "outputs": [],
   "source": [
    "work_dir = \"C:/Users/fabia/OneDrive - Otto-Friedrich-Universität Bamberg/Master/Masterarbeit/Data\"\n",
    "tweets_df = pd.read_csv(work_dir + \"/Twitter/all_tweets.csv\")"
   ]
  },
  {
   "cell_type": "code",
   "execution_count": 24,
   "id": "a8d38295",
   "metadata": {},
   "outputs": [],
   "source": [
    "tweets_df['date'] = pd.to_datetime(tweets_df['date'], errors='coerce')\n",
    "tweets_df = tweets_df[(tweets_df['date'] > \"2020-07-08\")]"
   ]
  },
  {
   "cell_type": "code",
   "execution_count": 18,
   "id": "d4c3715c",
   "metadata": {},
   "outputs": [],
   "source": [
    "joined_tweets = ', '.join(tweets_df.tweet)"
   ]
  },
  {
   "cell_type": "code",
   "execution_count": 24,
   "id": "084a6f1d",
   "metadata": {},
   "outputs": [
    {
     "name": "stdout",
     "output_type": "stream",
     "text": [
      "[('der', 27576), ('die', 23836), ('und', 21294), ('für', 17763), ('in', 16238), ('Ladeinfrastruktur', 15773), ('Ladesäule', 13704), ('ist', 11273), ('mit', 10865), ('von', 9320), ('das', 9190), ('an', 8931), ('eine', 8606), ('nicht', 8410), ('zu', 7886), ('den', 7813), ('es', 7006), ('-', 6965), ('auf', 6554), ('ein', 6484), ('auch', 6459), ('ich', 5564), ('im', 5501), ('Die', 5475), ('bei', 4817), ('#Ladeinfrastruktur', 4669), ('noch', 4133), ('man', 4097), ('dem', 3845), ('sich', 3832), ('Das', 3605), ('wird', 3502), ('als', 3440), ('zur', 3349), ('#Elektromobilität', 3338), ('nur', 3276), ('aber', 3255), ('einer', 3175), ('hat', 3123), ('sind', 2985), ('Ausbau', 2865), ('dass', 2854), ('wir', 2829), ('Ich', 2728), ('wenn', 2726), ('wie', 2666), ('zum', 2644), ('mehr', 2598), ('keine', 2564), ('um', 2520), ('so', 2508), ('werden', 2501), ('oder', 2488), ('am', 2466), ('dann', 2395), ('kann', 2323), ('Und', 2293), ('einen', 2245), ('des', 2239), ('gibt', 2177), ('Der', 2123), ('über', 2081), ('mal', 2067), ('da', 2051), ('Elektromobilität', 2001), ('bis', 1977), ('Ladeinfrastruktur.', 1911), ('muss', 1894), ('schon', 1860), ('&amp;', 1860), ('Sie', 1829), ('haben', 1796), ('vor', 1789), ('aus', 1750), ('beim', 1745), ('nach', 1688), ('ja', 1677), ('E-Autos', 1673), ('Es', 1633), ('#eMobility', 1616), ('Wir', 1611), ('Auto', 1610), ('einem', 1599), ('sie', 1596), ('In', 1459), ('immer', 1445), ('was', 1442), ('#emobility', 1430), ('jetzt', 1396), ('Mit', 1391), ('Wenn', 1378), ('Elektroautos', 1351), ('neue', 1329), ('|', 1329), ('mir', 1292), ('Strom', 1292), ('#Ladesäule', 1269), ('geht', 1260), ('ohne', 1230), ('Schneider', 1216)]\n"
     ]
    }
   ],
   "source": [
    "joined_tweets_split = joined_tweets.split()\n",
    "Counters_found = Counter(joined_tweets_split)\n",
    "most_occur = Counters_found.most_common(100)\n",
    "print(most_occur)"
   ]
  },
  {
   "cell_type": "code",
   "execution_count": 38,
   "id": "aac574ff",
   "metadata": {},
   "outputs": [],
   "source": [
    "def collect_pairs(lines):\n",
    "    pair_counter = Counter()\n",
    "    unique_tokens = sorted(set(lines))  # exclude duplicates in same line and sort to ensure one word is always before other\n",
    "    combos = combinations(unique_tokens, 2)\n",
    "    pair_counter += Counter(combos)\n",
    "    return pair_counter"
   ]
  },
  {
   "cell_type": "code",
   "execution_count": null,
   "id": "cedb570e",
   "metadata": {},
   "outputs": [],
   "source": [
    "pairs = collect_pairs(joined_tweets_split)\n",
    "print(pairs.most_common(10))"
   ]
  },
  {
   "cell_type": "code",
   "execution_count": 91,
   "id": "9c757089",
   "metadata": {},
   "outputs": [
    {
     "name": "stdout",
     "output_type": "stream",
     "text": [
      "elonmusk\n",
      "44196397\n",
      "geeksforgeeks\n",
      "57741058\n",
      "KOE1FOF8UO31GZZZ\n",
      "<class 'tweepy.client.Response'>\n"
     ]
    }
   ],
   "source": [
    "bearer_token = \"AAAAAAAAAAAAAAAAAAAAAOR%2BbwEAAAAASwiLtwOgXt%2FtG0EJIrLdaph2Xsw%3DspW7CHN0I6KBcjdy4BVvj75LpMAdgQ5l3DIkrcVWMFz8FLIHlz\"\n",
    "\n",
    "client = tweepy.Client(bearer_token, wait_on_rate_limit=True)\n",
    "\n",
    "\n",
    "user_names = [\"elonmusk\", \"geeksforgeeks\"]\n",
    "response = client.get_users(usernames=user_names, user_fields=[\"profile_image_url\"])\n",
    "\n",
    "\n",
    "for user in response.data:\n",
    "    print(user.id)\n",
    "    \n",
    "user_id = 2244994945\n",
    "\n",
    "#print(response.data)\n",
    "\n",
    "# By default, this endpoint/method returns 100 results\n",
    "# You can retrieve up to 1000 users by specifying max_results\n",
    "response = client.get_users_followers(user_id, max_results=1, pagination_token=None)\n",
    "print(response.meta[\"next_token\"])\n",
    "print(type(response))\n",
    "\n",
    "\n",
    "#for data in response:\n",
    " #   print(type(data))\n",
    "    \n",
    "#print(response)"
   ]
  },
  {
   "cell_type": "code",
   "execution_count": 87,
   "id": "3b7c192a",
   "metadata": {},
   "outputs": [
    {
     "name": "stdout",
     "output_type": "stream",
     "text": [
      "1075\n",
      "{'following': False, 'id': '37979623', 'screen_name': 'Elektronews', 'name': 'Oskar Ohm', 'protected': False, 'followers_count': 1075, 'formatted_followers_count': '1,075 followers', 'age_gated': False}\n"
     ]
    }
   ],
   "source": [
    "\n",
    "request_link = \"https://cdn.syndication.twimg.com/widgets/followbutton/info.json?screen_names=Elektronews\"\n",
    "\n",
    "r = requests.get(request_link).json()\n",
    "print(r[0][\"followers_count\"])\n",
    "print(r[0])"
   ]
  },
  {
   "cell_type": "code",
   "execution_count": null,
   "id": "8453e2bd",
   "metadata": {
    "scrolled": true
   },
   "outputs": [
    {
     "name": "stdout",
     "output_type": "stream",
     "text": [
      "['ReinerKurzmann' 'na_presseportal' 'SmartHomeEU1' ... 'J_Hildermeier'\n",
      " 'kamil2_0' 'MAZirke']\n"
     ]
    }
   ],
   "source": [
    "unique_users = tweets_df[\"user\"].unique()\n",
    "\n",
    "print(unique_users)\n",
    "\n",
    "user_df = pd.DataFrame(unique_users, columns = ['users'])\n",
    "\n",
    "follower_count = []\n",
    "\n",
    "for user in unique_users:\n",
    "    str_user = str(user)\n",
    "    request_link = \"https://cdn.syndication.twimg.com/widgets/followbutton/info.json?screen_names=\"+str_user\n",
    "    \n",
    "    try:\n",
    "        request_result = requests.get(request_link).json()\n",
    "    except:\n",
    "        request_result = None\n",
    "    \n",
    "    try:\n",
    "        follower = request_result[0][\"followers_count\"]\n",
    "    except:\n",
    "        follower = None\n",
    "    \n",
    "    follower_count.append(follower)\n",
    "\n",
    "user_df[\"follower_count\"] = follower_count\n",
    "print(user_df)"
   ]
  },
  {
   "cell_type": "code",
   "execution_count": null,
   "id": "fcbecd4e",
   "metadata": {},
   "outputs": [],
   "source": [
    "user_df.to_csv(\"twitter_user-20-22.csv\")"
   ]
  }
 ],
 "metadata": {
  "kernelspec": {
   "display_name": "Python 3 (ipykernel)",
   "language": "python",
   "name": "python3"
  },
  "language_info": {
   "codemirror_mode": {
    "name": "ipython",
    "version": 3
   },
   "file_extension": ".py",
   "mimetype": "text/x-python",
   "name": "python",
   "nbconvert_exporter": "python",
   "pygments_lexer": "ipython3",
   "version": "3.8.12"
  }
 },
 "nbformat": 4,
 "nbformat_minor": 5
}
