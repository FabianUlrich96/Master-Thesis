{
 "cells": [
  {
   "cell_type": "code",
   "execution_count": 143,
   "id": "f53a8594",
   "metadata": {},
   "outputs": [],
   "source": [
    "import pandas as pd\n",
    "from vaderSentiment.vaderSentiment import SentimentIntensityAnalyzer\n",
    "import matplotlib.pyplot as plt\n",
    "import seaborn as sns\n",
    "sns.set_theme(palette=\"pastel\")\n",
    "from collections import Counter\n",
    "from itertools import combinations\n",
    "import bitermplus as btm\n",
    "import tmplot as tmp\n",
    "import re\n",
    "import tweepy\n",
    "import requests\n",
    "import numpy as np"
   ]
  },
  {
   "cell_type": "code",
   "execution_count": 5,
   "id": "0a3ba071",
   "metadata": {},
   "outputs": [],
   "source": [
    "work_dir = \"C:/Users/fabia/OneDrive - Otto-Friedrich-Universität Bamberg/Master/Masterarbeit/Data\""
   ]
  },
  {
   "cell_type": "code",
   "execution_count": 6,
   "id": "12c60d88",
   "metadata": {},
   "outputs": [],
   "source": [
    "tweets_df = pd.read_csv(work_dir + \"/Twitter/all_tweets.csv\")"
   ]
  },
  {
   "cell_type": "code",
   "execution_count": 7,
   "id": "e3fc4480",
   "metadata": {},
   "outputs": [
    {
     "name": "stdout",
     "output_type": "stream",
     "text": [
      "(48278, 5)\n"
     ]
    }
   ],
   "source": [
    "print(tweets_df.shape)"
   ]
  },
  {
   "cell_type": "code",
   "execution_count": 8,
   "id": "a74e9e07",
   "metadata": {},
   "outputs": [],
   "source": [
    "tweets_df['date'] = pd.to_datetime(tweets_df['date'], errors='coerce')\n"
   ]
  },
  {
   "cell_type": "code",
   "execution_count": 9,
   "id": "82c74af4",
   "metadata": {},
   "outputs": [],
   "source": [
    "tweets_df = tweets_df[(tweets_df['date'] > \"2020-07-08\")]\n",
    "\n"
   ]
  },
  {
   "cell_type": "code",
   "execution_count": 10,
   "id": "adf4cd05",
   "metadata": {},
   "outputs": [
    {
     "name": "stdout",
     "output_type": "stream",
     "text": [
      "(23713, 5)\n",
      "0        @kkklawitter @EggMarkus @sepp_reitberger Das e...\n",
      "1        amperio GmbH: mobileeee und amperio starten la...\n",
      "2        Zur Ladeinfrastruktur für Elektrofahrzeuge geh...\n",
      "3        @chris_pyak @JRehborn @HerrPhteven Dazu noch n...\n",
      "4        @Mingiam10 @kkklawitter Mein Punkt ist ja der ...\n",
      "                               ...                        \n",
      "23708    @Solarfighter @BMWi_Bund @peteraltmaier @BAFA_...\n",
      "23709    @Solarfighter @peteraltmaier @BAFA_Bund Der Au...\n",
      "23710    #Tesla hat mit der Eröffnung des neuen #Superc...\n",
      "23711    @danjol_lupardo @Canstatt93 @Poveretto Das ist...\n",
      "23712    @BMWi_Bund @peteraltmaier @BAFA_Bund Weit und ...\n",
      "Name: tweet, Length: 23713, dtype: object\n"
     ]
    }
   ],
   "source": [
    "print(tweets_df.shape)\n",
    "print(tweets_df[\"tweet\"])"
   ]
  },
  {
   "cell_type": "code",
   "execution_count": 11,
   "id": "5bbb9737",
   "metadata": {},
   "outputs": [],
   "source": [
    "# calculate Tweet sentiment\n",
    "\n",
    "analyzer = SentimentIntensityAnalyzer()\n",
    "def calculate_sentiment(dataframe):\n",
    "    utf_encoded = dataframe[\"tweet\"].encode('utf-16', 'surrogatepass').decode('utf-16')\n",
    "    vs = analyzer.polarity_scores(utf_encoded)\n",
    "    neg_list.append(vs[\"neg\"])\n",
    "    neu_list.append(vs[\"neu\"])\n",
    "    pos_list.append(vs[\"pos\"])\n",
    "    com_list.append(vs[\"compound\"])\n",
    "    return dataframe"
   ]
  },
  {
   "cell_type": "code",
   "execution_count": 12,
   "id": "a52f7303",
   "metadata": {},
   "outputs": [],
   "source": [
    "neg_list = []\n",
    "neu_list = []\n",
    "pos_list = []\n",
    "com_list = []\n",
    "tweets_df = tweets_df.apply(lambda x: calculate_sentiment(x), axis=1)"
   ]
  },
  {
   "cell_type": "code",
   "execution_count": 13,
   "id": "07bf033d",
   "metadata": {},
   "outputs": [],
   "source": [
    "tweets_df[\"negative\"] = neg_list\n",
    "tweets_df[\"neutral\"] = neu_list\n",
    "tweets_df[\"positive\"] = pos_list\n",
    "tweets_df[\"compound\"] = com_list"
   ]
  },
  {
   "cell_type": "code",
   "execution_count": 14,
   "id": "78556904",
   "metadata": {},
   "outputs": [
    {
     "name": "stdout",
     "output_type": "stream",
     "text": [
      "       Unnamed: 0                      date             user  \\\n",
      "0               0 2022-04-26 08:44:26+00:00   ReinerKurzmann   \n",
      "1               1 2022-04-26 08:44:03+00:00  na_presseportal   \n",
      "2               2 2022-04-26 08:40:02+00:00     SmartHomeEU1   \n",
      "3               3 2022-04-26 08:32:54+00:00       EPhisoloph   \n",
      "4               4 2022-04-26 08:26:51+00:00           Amie42   \n",
      "...           ...                       ...              ...   \n",
      "23708       23708 2020-07-08 06:52:18+00:00    J_Hildermeier   \n",
      "23709       23709 2020-07-08 06:40:56+00:00             BMWK   \n",
      "23710       23710 2020-07-08 06:30:25+00:00     ElectriveNet   \n",
      "23711       23711 2020-07-08 04:29:36+00:00         kamil2_0   \n",
      "23712       23712 2020-07-08 04:23:03+00:00          MAZirke   \n",
      "\n",
      "                                                   tweet  \\\n",
      "0      @kkklawitter @EggMarkus @sepp_reitberger Das e...   \n",
      "1      amperio GmbH: mobileeee und amperio starten la...   \n",
      "2      Zur Ladeinfrastruktur für Elektrofahrzeuge geh...   \n",
      "3      @chris_pyak @JRehborn @HerrPhteven Dazu noch n...   \n",
      "4      @Mingiam10 @kkklawitter Mein Punkt ist ja der ...   \n",
      "...                                                  ...   \n",
      "23708  @Solarfighter @BMWi_Bund @peteraltmaier @BAFA_...   \n",
      "23709  @Solarfighter @peteraltmaier @BAFA_Bund Der Au...   \n",
      "23710  #Tesla hat mit der Eröffnung des neuen #Superc...   \n",
      "23711  @danjol_lupardo @Canstatt93 @Poveretto Das ist...   \n",
      "23712  @BMWi_Bund @peteraltmaier @BAFA_Bund Weit und ...   \n",
      "\n",
      "                                                     url  negative  neutral  \\\n",
      "0      https://twitter.com/ReinerKurzmann/status/1518...     0.154    0.846   \n",
      "1      https://twitter.com/na_presseportal/status/151...     0.000    1.000   \n",
      "2      https://twitter.com/SmartHomeEU1/status/151887...     0.000    1.000   \n",
      "3      https://twitter.com/EPhisoloph/status/15188707...     0.000    1.000   \n",
      "4      https://twitter.com/Amie42/status/151886919943...     0.178    0.822   \n",
      "...                                                  ...       ...      ...   \n",
      "23708  https://twitter.com/J_Hildermeier/status/12807...     0.000    1.000   \n",
      "23709  https://twitter.com/BMWK/status/12807537188126...     0.000    1.000   \n",
      "23710  https://twitter.com/ElectriveNet/status/128075...     0.157    0.843   \n",
      "23711  https://twitter.com/kamil2_0/status/1280720665...     0.087    0.913   \n",
      "23712  https://twitter.com/MAZirke/status/12807190175...     0.000    1.000   \n",
      "\n",
      "       positive  compound  \n",
      "0           0.0   -0.8316  \n",
      "1           0.0    0.0000  \n",
      "2           0.0    0.0000  \n",
      "3           0.0    0.0000  \n",
      "4           0.0   -0.8316  \n",
      "...         ...       ...  \n",
      "23708       0.0    0.0000  \n",
      "23709       0.0    0.0000  \n",
      "23710       0.0   -0.5994  \n",
      "23711       0.0   -0.5994  \n",
      "23712       0.0    0.0000  \n",
      "\n",
      "[23713 rows x 9 columns]\n"
     ]
    }
   ],
   "source": [
    "print(tweets_df)"
   ]
  },
  {
   "cell_type": "code",
   "execution_count": 15,
   "id": "142de78f",
   "metadata": {},
   "outputs": [],
   "source": [
    "def assign_sentiment(row):\n",
    "    float_compound = float(row['compound'])\n",
    "    if float_compound >= 0.05:\n",
    "        val = 'Positive'\n",
    "    elif float_compound <= -0.05:\n",
    "        val = 'Negative'\n",
    "    else:\n",
    "        val = 'Neutral'\n",
    "    return val"
   ]
  },
  {
   "cell_type": "code",
   "execution_count": 16,
   "id": "a7d55b82",
   "metadata": {},
   "outputs": [],
   "source": [
    "tweets_df['sentiment'] = tweets_df.apply(assign_sentiment, axis=1)"
   ]
  },
  {
   "cell_type": "code",
   "execution_count": 17,
   "id": "2f5180ed",
   "metadata": {},
   "outputs": [],
   "source": [
    "tweet_sentiment = tweets_df.groupby(['sentiment']).size()\n",
    "\n",
    "positive = tweet_sentiment['Positive']\n",
    "neutral = tweet_sentiment['Neutral']\n",
    "negative = tweet_sentiment['Negative']\n",
    "\n",
    "labels = ['Positive', 'Neutral', 'Negative' ]\n",
    "sentiment_count = [positive, neutral, negative]"
   ]
  },
  {
   "cell_type": "code",
   "execution_count": 18,
   "id": "86d2f711",
   "metadata": {},
   "outputs": [
    {
     "data": {
      "image/png": "[encoded data removed]",
      "text/plain": [
       "<Figure size 432x288 with 1 Axes>"
      ]
     },
     "metadata": {},
     "output_type": "display_data"
    }
   ],
   "source": [
    "plt.pie(sentiment_count, labels = labels, autopct='%.0f%%')\n",
    "plt.show()"
   ]
  },
  {
   "cell_type": "code",
   "execution_count": 19,
   "id": "3afaf415",
   "metadata": {},
   "outputs": [
    {
     "name": "stdout",
     "output_type": "stream",
     "text": [
      "0         ReinerKurzmann\n",
      "1        na_presseportal\n",
      "2           SmartHomeEU1\n",
      "3             EPhisoloph\n",
      "4                 Amie42\n",
      "              ...       \n",
      "23708      J_Hildermeier\n",
      "23709               BMWK\n",
      "23710       ElectriveNet\n",
      "23711           kamil2_0\n",
      "23712            MAZirke\n",
      "Name: user, Length: 23713, dtype: object\n"
     ]
    }
   ],
   "source": [
    "print(tweets_df[\"user\"])"
   ]
  },
  {
   "cell_type": "code",
   "execution_count": 20,
   "id": "6be0c221",
   "metadata": {},
   "outputs": [],
   "source": [
    "unique_users = tweets_df[\"user\"].unique()\n",
    "\n",
    "user_df = pd.DataFrame(unique_users, columns = ['users'])\n",
    "\n",
    "follower_count = []\n",
    "\n",
    "for user in unique_users:\n",
    "    str_user = str(user)\n",
    "    request_link = \"https://cdn.syndication.twimg.com/widgets/followbutton/info.json?screen_names=\"+str_user\n",
    "    \n",
    "    try:\n",
    "        request_result = requests.get(request_link).json()\n",
    "    except:\n",
    "        request_result = None\n",
    "    \n",
    "    try:\n",
    "        follower = int(request_result[0][\"followers_count\"])\n",
    "    except:\n",
    "        follower = None\n",
    "    \n",
    "    follower_count.append(follower)\n",
    "\n",
    "user_df[\"follower_count\"] = follower_count"
   ]
  },
  {
   "cell_type": "code",
   "execution_count": 21,
   "id": "7ec4c0f5",
   "metadata": {},
   "outputs": [
    {
     "name": "stdout",
     "output_type": "stream",
     "text": [
      "SmartHomeEU1    957\n",
      "ElectriveNet    688\n",
      "emobicon        453\n",
      "stang2k         197\n",
      "news_nowgmbh    132\n",
      "               ... \n",
      "optikfluffel      1\n",
      "tomul             1\n",
      "mitsuhiko         1\n",
      "sarfeld           1\n",
      "MAZirke           1\n",
      "Name: user, Length: 9351, dtype: int64\n"
     ]
    }
   ],
   "source": [
    "print(tweets_df['user'].value_counts())"
   ]
  },
  {
   "cell_type": "code",
   "execution_count": 23,
   "id": "cb1d5cbb",
   "metadata": {},
   "outputs": [
    {
     "name": "stdout",
     "output_type": "stream",
     "text": [
      "45192865.0\n"
     ]
    }
   ],
   "source": [
    "print(user_df['follower_count'].sum())"
   ]
  },
  {
   "cell_type": "code",
   "execution_count": 34,
   "id": "770dafc0",
   "metadata": {},
   "outputs": [
    {
     "name": "stdout",
     "output_type": "stream",
     "text": [
      "0        114\n",
      "1       6641\n",
      "2        977\n",
      "3         11\n",
      "4        598\n",
      "        ... \n",
      "9346       5\n",
      "9347    2000\n",
      "9348     711\n",
      "9349    1033\n",
      "9350     387\n",
      "Name: follower_count, Length: 9351, dtype: object\n"
     ]
    }
   ],
   "source": [
    "user_df['follower_count'] = user_df['follower_count'].fillna('').astype(str).str.replace(\".0\",\"\",regex=False)\n",
    "print(user_df['follower_count'])"
   ]
  },
  {
   "cell_type": "code",
   "execution_count": 36,
   "id": "9ee8cacb",
   "metadata": {},
   "outputs": [],
   "source": [
    "user_df.to_csv(\"users_with_followers.csv\")"
   ]
  },
  {
   "cell_type": "code",
   "execution_count": 38,
   "id": "27651327",
   "metadata": {},
   "outputs": [
    {
     "name": "stdout",
     "output_type": "stream",
     "text": [
      "                users follower_count\n",
      "0      ReinerKurzmann            114\n",
      "1     na_presseportal           6641\n",
      "2        SmartHomeEU1            977\n",
      "3          EPhisoloph             11\n",
      "4              Amie42            598\n",
      "...               ...            ...\n",
      "9346       chaase1337              5\n",
      "9347     Stefan_Urbat           2000\n",
      "9348    J_Hildermeier            711\n",
      "9349         kamil2_0           1033\n",
      "9350          MAZirke            387\n",
      "\n",
      "[9351 rows x 2 columns]\n"
     ]
    }
   ],
   "source": [
    "print(user_df)"
   ]
  },
  {
   "cell_type": "code",
   "execution_count": 39,
   "id": "ba735186",
   "metadata": {},
   "outputs": [],
   "source": [
    "unique_users = user_df['users'].tolist()"
   ]
  },
  {
   "cell_type": "code",
   "execution_count": 54,
   "id": "35d1c6d4",
   "metadata": {},
   "outputs": [
    {
     "name": "stdout",
     "output_type": "stream",
     "text": [
      "9351\n",
      "ReinerKurzmann\n"
     ]
    }
   ],
   "source": [
    "print(len(unique_users))\n",
    "\n",
    "split_users = np.array_split(unique_users, 100)\n",
    "print(split_users[0])"
   ]
  },
  {
   "cell_type": "code",
   "execution_count": 61,
   "id": "1b24105a",
   "metadata": {},
   "outputs": [
    {
     "name": "stderr",
     "output_type": "stream",
     "text": [
      "Rate limit exceeded. Sleeping for 546 seconds.\n"
     ]
    }
   ],
   "source": [
    "bearer_token = \"AAAAAAAAAAAAAAAAAAAAAOR%2BbwEAAAAASwiLtwOgXt%2FtG0EJIrLdaph2Xsw%3DspW7CHN0I6KBcjdy4BVvj75LpMAdgQ5l3DIkrcVWMFz8FLIHlz\"\n",
    "\n",
    "client = tweepy.Client(bearer_token, wait_on_rate_limit=True)\n",
    "\n",
    "user_id = []\n",
    "user_name = []\n",
    "for chunk in split_users:\n",
    "    users = \",\".join(chunk)\n",
    "\n",
    "    response = client.get_users(usernames=users)\n",
    "\n",
    "    for user in response.data:\n",
    "        user_id.append(user.id)\n",
    "        user_name.append(user.username)\n",
    "\n",
    "new_user_df = pd.DataFrame(user_id, columns = ['user_id'])\n",
    "new_user_df[\"user_name\"] = user_name"
   ]
  },
  {
   "cell_type": "code",
   "execution_count": 62,
   "id": "2bb39ce6",
   "metadata": {},
   "outputs": [
    {
     "name": "stdout",
     "output_type": "stream",
     "text": [
      "                  user_id        user_name\n",
      "0               372243368   ReinerKurzmann\n",
      "1                44894572  na_presseportal\n",
      "2     1254490069299322882     SmartHomeEU1\n",
      "3     1251959965209841664       EPhisoloph\n",
      "4               212992615           Amie42\n",
      "...                   ...              ...\n",
      "9319           3075117101       chaase1337\n",
      "9320             59542471     Stefan_Urbat\n",
      "9321           3068639057    J_Hildermeier\n",
      "9322             14829549         kamil2_0\n",
      "9323           4739156727          MAZirke\n",
      "\n",
      "[9324 rows x 2 columns]\n",
      "                users follower_count\n",
      "0      ReinerKurzmann            114\n",
      "1     na_presseportal           6641\n",
      "2        SmartHomeEU1            977\n",
      "3          EPhisoloph             11\n",
      "4              Amie42            598\n",
      "...               ...            ...\n",
      "9346       chaase1337              5\n",
      "9347     Stefan_Urbat           2000\n",
      "9348    J_Hildermeier            711\n",
      "9349         kamil2_0           1033\n",
      "9350          MAZirke            387\n",
      "\n",
      "[9351 rows x 2 columns]\n"
     ]
    }
   ],
   "source": [
    "print(new_user_df)\n",
    "print(user_df)"
   ]
  },
  {
   "cell_type": "code",
   "execution_count": 63,
   "id": "d9d20e0a",
   "metadata": {},
   "outputs": [],
   "source": [
    "merged_user_df = pd.merge(user_df, new_user_df, left_on='users', right_on='user_name', how='left')"
   ]
  },
  {
   "cell_type": "code",
   "execution_count": 77,
   "id": "e330c93f",
   "metadata": {},
   "outputs": [],
   "source": [
    "merged_user_df[\"user_id\"] = merged_user_df[\"user_id\"].astype('Int64')"
   ]
  },
  {
   "cell_type": "code",
   "execution_count": 80,
   "id": "193d3e48",
   "metadata": {},
   "outputs": [
    {
     "name": "stdout",
     "output_type": "stream",
     "text": [
      "     follower_count              user_id        user_name\n",
      "0               114            372243368   ReinerKurzmann\n",
      "1              6641             44894572  na_presseportal\n",
      "2               977  1254490069299322880     SmartHomeEU1\n",
      "3                11  1251959965209841664       EPhisoloph\n",
      "4               598            212992615           Amie42\n",
      "...             ...                  ...              ...\n",
      "9346              5           3075117101       chaase1337\n",
      "9347           2000             59542471     Stefan_Urbat\n",
      "9348            711           3068639057    J_Hildermeier\n",
      "9349           1033             14829549         kamil2_0\n",
      "9350            387           4739156727          MAZirke\n",
      "\n",
      "[9351 rows x 3 columns]\n"
     ]
    }
   ],
   "source": [
    "print(merged_user_df)"
   ]
  },
  {
   "cell_type": "code",
   "execution_count": 81,
   "id": "f24cdc13",
   "metadata": {},
   "outputs": [],
   "source": [
    "merged_user_df.to_csv(\"merged_user.csv\")"
   ]
  },
  {
   "cell_type": "code",
   "execution_count": 99,
   "id": "268e4f36",
   "metadata": {},
   "outputs": [],
   "source": [
    "# Topic Modelling\n",
    "\n",
    "# Remove punctuation\n",
    "tweets_df['tweet_processed'] = tweets_df['tweet'].map(lambda x: re.sub('[,\\.!?]', '', x))\n",
    "# Convert the titles to lowercase\n",
    "tweets_df['tweet_processed'] = tweets_df['tweet'].map(lambda x: x.lower())\n",
    "\n",
    "tweets = tweets_df['tweet_processed'].str.strip().tolist()\n",
    "\n",
    "# PREPROCESSING\n",
    "# Obtaining terms frequency in a sparse matrix and corpus vocabulary\n",
    "tweets_X, tweets_vocabulary, tweets_vocab_dict = btm.get_words_freqs(tweets)\n",
    "tweets_tf = np.array(tweets_X.sum(axis=0)).ravel()"
   ]
  },
  {
   "cell_type": "code",
   "execution_count": 100,
   "id": "06231178",
   "metadata": {},
   "outputs": [],
   "source": [
    "# Vectorizing documents\n",
    "tweets_docs_vec = btm.get_vectorized_docs(tweets, tweets_vocabulary)\n",
    "tweets_docs_lens = list(map(len, tweets_docs_vec))"
   ]
  },
  {
   "cell_type": "code",
   "execution_count": 101,
   "id": "bc80c3a5",
   "metadata": {},
   "outputs": [],
   "source": [
    "# Generating title biterms\n",
    "tweets_biterms = btm.get_biterms(tweets_docs_vec)"
   ]
  },
  {
   "cell_type": "code",
   "execution_count": 102,
   "id": "c3ed18bc",
   "metadata": {},
   "outputs": [],
   "source": [
    "# Initializing and running titles model\n",
    "def btm_model(topics, alpha, beta):\n",
    "    tweets_model = btm.BTM(\n",
    "        tweets_X, tweets_vocabulary, seed=12321, T=topics, M=5, alpha=alpha, beta=beta)\n",
    "    tweets_model.fit(tweets_biterms, iterations=20)\n",
    "    tweets_p_zd = tweets_model.transform(tweets_docs_vec)\n",
    "    \n",
    "    return tweets_model\n",
    "\n",
    "def Average(l): \n",
    "    avg = sum(l) / len(l) \n",
    "    return avg"
   ]
  },
  {
   "cell_type": "code",
   "execution_count": 103,
   "id": "427a411b",
   "metadata": {},
   "outputs": [
    {
     "name": "stderr",
     "output_type": "stream",
     "text": [
      "100%|██████████████████████████████████████████████████████████████████████████████████| 20/20 [00:05<00:00,  3.55it/s]\n",
      "100%|█████████████████████████████████████████████████████████████████████████| 23713/23713 [00:00<00:00, 34435.62it/s]\n",
      "100%|██████████████████████████████████████████████████████████████████████████████████| 20/20 [00:06<00:00,  3.07it/s]\n",
      "100%|█████████████████████████████████████████████████████████████████████████| 23713/23713 [00:00<00:00, 31288.82it/s]\n",
      "100%|██████████████████████████████████████████████████████████████████████████████████| 20/20 [00:07<00:00,  2.68it/s]\n",
      "100%|█████████████████████████████████████████████████████████████████████████| 23713/23713 [00:00<00:00, 29185.62it/s]\n",
      "100%|██████████████████████████████████████████████████████████████████████████████████| 20/20 [00:08<00:00,  2.39it/s]\n",
      "100%|█████████████████████████████████████████████████████████████████████████| 23713/23713 [00:00<00:00, 25795.19it/s]\n",
      "100%|██████████████████████████████████████████████████████████████████████████████████| 20/20 [00:09<00:00,  2.17it/s]\n",
      "100%|█████████████████████████████████████████████████████████████████████████| 23713/23713 [00:01<00:00, 22395.64it/s]\n",
      "100%|██████████████████████████████████████████████████████████████████████████████████| 20/20 [00:13<00:00,  1.44it/s]\n",
      "100%|█████████████████████████████████████████████████████████████████████████| 23713/23713 [00:01<00:00, 23134.94it/s]\n",
      "100%|██████████████████████████████████████████████████████████████████████████████████| 20/20 [00:10<00:00,  1.95it/s]\n",
      "100%|█████████████████████████████████████████████████████████████████████████| 23713/23713 [00:00<00:00, 28814.78it/s]\n",
      "100%|██████████████████████████████████████████████████████████████████████████████████| 20/20 [00:14<00:00,  1.34it/s]\n",
      "100%|█████████████████████████████████████████████████████████████████████████| 23713/23713 [00:00<00:00, 26491.87it/s]\n",
      "100%|██████████████████████████████████████████████████████████████████████████████████| 20/20 [00:12<00:00,  1.65it/s]\n",
      "100%|█████████████████████████████████████████████████████████████████████████| 23713/23713 [00:00<00:00, 26218.88it/s]\n",
      "100%|██████████████████████████████████████████████████████████████████████████████████| 20/20 [00:14<00:00,  1.40it/s]\n",
      "100%|█████████████████████████████████████████████████████████████████████████| 23713/23713 [00:01<00:00, 21828.50it/s]\n",
      "100%|██████████████████████████████████████████████████████████████████████████████████| 20/20 [00:17<00:00,  1.13it/s]\n",
      "100%|█████████████████████████████████████████████████████████████████████████| 23713/23713 [00:01<00:00, 22191.44it/s]\n",
      "100%|██████████████████████████████████████████████████████████████████████████████████| 20/20 [00:17<00:00,  1.16it/s]\n",
      "100%|█████████████████████████████████████████████████████████████████████████| 23713/23713 [00:01<00:00, 20807.00it/s]\n",
      "100%|██████████████████████████████████████████████████████████████████████████████████| 20/20 [00:17<00:00,  1.15it/s]\n",
      "100%|█████████████████████████████████████████████████████████████████████████| 23713/23713 [00:01<00:00, 21542.77it/s]\n"
     ]
    }
   ],
   "source": [
    "# Determening the number of topics by running the model with a fixed alpha = 0.01 and beta = 0.1\n",
    "coherence_list = []\n",
    "perplexity_list = []\n",
    "# Topics range\n",
    "min_topics = 2\n",
    "max_topics = 15\n",
    "step_size = 1\n",
    "topics_range = range(min_topics, max_topics, step_size)\n",
    "\n",
    "for k in topics_range:\n",
    "    # get the coherence score for the given parameters\n",
    "    model = btm_model(k, 0.1, 0.1)\n",
    "            \n",
    "    perplexity = model.perplexity_\n",
    "    coherence = model.coherence_\n",
    "    \n",
    "    coherence_list.append(Average(coherence))\n",
    "    perplexity_list.append(perplexity)"
   ]
  },
  {
   "cell_type": "code",
   "execution_count": 104,
   "id": "b53de0fd",
   "metadata": {},
   "outputs": [
    {
     "data": {
      "image/png": "[encoded data removed]",
      "text/plain": [
       "<Figure size 432x288 with 1 Axes>"
      ]
     },
     "metadata": {},
     "output_type": "display_data"
    },
    {
     "name": "stdout",
     "output_type": "stream",
     "text": [
      "8 -9.615524489328465\n"
     ]
    }
   ],
   "source": [
    "ymax = max(coherence_list)\n",
    "ymax_string = str(ymax)\n",
    "xpos = coherence_list.index(ymax)\n",
    "xmax = topics_range[xpos]\n",
    "xmax_string = str(xmax)\n",
    "plt.plot(topics_range, coherence_list)\n",
    "plt.xlabel(\"Number of Topics\")\n",
    "plt.ylabel(\"Coherence Score\")\n",
    "plt.annotate(xmax_string + ' Topics' , xy=(xmax, ymax), xytext=(xmax, ymax+1),\n",
    "            arrowprops=dict(facecolor='black', shrink=0.22),\n",
    "            )\n",
    "plt.show()\n",
    "\n",
    "print(xmax, ymax)"
   ]
  },
  {
   "cell_type": "code",
   "execution_count": 105,
   "id": "5e6c5087",
   "metadata": {},
   "outputs": [
    {
     "data": {
      "image/png": "[encoded data removed]",
      "text/plain": [
       "<Figure size 432x288 with 1 Axes>"
      ]
     },
     "metadata": {},
     "output_type": "display_data"
    }
   ],
   "source": [
    "plt.plot(topics_range, perplexity_list)\n",
    "plt.xlabel(\"Number of Topics\")\n",
    "plt.ylabel(\"Perplexity Score\")\n",
    "plt.show()"
   ]
  },
  {
   "cell_type": "code",
   "execution_count": 106,
   "id": "a2ec6411",
   "metadata": {},
   "outputs": [
    {
     "name": "stderr",
     "output_type": "stream",
     "text": [
      "100%|██████████████████████████████████████████████████████████████████████████████████| 20/20 [00:11<00:00,  1.68it/s]\n",
      "100%|█████████████████████████████████████████████████████████████████████████| 23713/23713 [00:01<00:00, 23649.58it/s]\n",
      "100%|██████████████████████████████████████████████████████████████████████████████████| 20/20 [00:11<00:00,  1.71it/s]\n",
      "100%|█████████████████████████████████████████████████████████████████████████| 23713/23713 [00:00<00:00, 24556.54it/s]\n",
      "100%|██████████████████████████████████████████████████████████████████████████████████| 20/20 [00:11<00:00,  1.82it/s]\n",
      "100%|█████████████████████████████████████████████████████████████████████████| 23713/23713 [00:00<00:00, 28792.25it/s]\n",
      "100%|██████████████████████████████████████████████████████████████████████████████████| 20/20 [00:10<00:00,  1.89it/s]\n",
      "100%|█████████████████████████████████████████████████████████████████████████| 23713/23713 [00:00<00:00, 24706.77it/s]\n",
      "100%|██████████████████████████████████████████████████████████████████████████████████| 20/20 [00:10<00:00,  1.83it/s]\n",
      "100%|█████████████████████████████████████████████████████████████████████████| 23713/23713 [00:01<00:00, 21510.08it/s]\n",
      "100%|██████████████████████████████████████████████████████████████████████████████████| 20/20 [00:10<00:00,  1.97it/s]\n",
      "100%|█████████████████████████████████████████████████████████████████████████| 23713/23713 [00:00<00:00, 26935.36it/s]\n",
      "100%|██████████████████████████████████████████████████████████████████████████████████| 20/20 [00:10<00:00,  1.85it/s]\n",
      "100%|█████████████████████████████████████████████████████████████████████████| 23713/23713 [00:00<00:00, 28092.87it/s]\n",
      "100%|██████████████████████████████████████████████████████████████████████████████████| 20/20 [00:10<00:00,  1.85it/s]\n",
      "100%|█████████████████████████████████████████████████████████████████████████| 23713/23713 [00:00<00:00, 24611.33it/s]\n",
      "100%|██████████████████████████████████████████████████████████████████████████████████| 20/20 [00:10<00:00,  1.86it/s]\n",
      "100%|█████████████████████████████████████████████████████████████████████████| 23713/23713 [00:00<00:00, 26511.24it/s]\n",
      "100%|██████████████████████████████████████████████████████████████████████████████████| 20/20 [00:11<00:00,  1.74it/s]\n",
      "100%|█████████████████████████████████████████████████████████████████████████| 23713/23713 [00:01<00:00, 23091.07it/s]\n",
      "100%|██████████████████████████████████████████████████████████████████████████████████| 20/20 [00:10<00:00,  1.90it/s]\n",
      "100%|█████████████████████████████████████████████████████████████████████████| 23713/23713 [00:01<00:00, 22239.69it/s]\n",
      "100%|██████████████████████████████████████████████████████████████████████████████████| 20/20 [00:11<00:00,  1.72it/s]\n",
      "100%|█████████████████████████████████████████████████████████████████████████| 23713/23713 [00:00<00:00, 28211.57it/s]\n",
      "100%|██████████████████████████████████████████████████████████████████████████████████| 20/20 [00:11<00:00,  1.73it/s]\n",
      "100%|█████████████████████████████████████████████████████████████████████████| 23713/23713 [00:01<00:00, 23221.99it/s]\n",
      "100%|██████████████████████████████████████████████████████████████████████████████████| 20/20 [00:10<00:00,  1.88it/s]\n",
      "100%|█████████████████████████████████████████████████████████████████████████| 23713/23713 [00:00<00:00, 26766.68it/s]\n",
      "100%|██████████████████████████████████████████████████████████████████████████████████| 20/20 [00:10<00:00,  1.93it/s]\n",
      "100%|█████████████████████████████████████████████████████████████████████████| 23713/23713 [00:00<00:00, 27072.13it/s]\n",
      "100%|██████████████████████████████████████████████████████████████████████████████████| 20/20 [00:12<00:00,  1.60it/s]\n",
      "100%|█████████████████████████████████████████████████████████████████████████| 23713/23713 [00:00<00:00, 26371.20it/s]\n"
     ]
    }
   ],
   "source": [
    "# Topic parameter \n",
    "k = 8\n",
    "# Alpha parameter\n",
    "alpha = list(np.arange(0.01, 1, 0.3))\n",
    "\n",
    "# Beta parameter\n",
    "beta = list(np.arange(0.01, 1, 0.3))\n",
    "\n",
    "model_results = {'Alpha': [],\n",
    "                 'Beta': [],\n",
    "                 'Coherence': [],\n",
    "                 'Perplexity': []\n",
    "                }\n",
    "\n",
    "\n",
    "# iterate through alpha values\n",
    "for a in alpha:\n",
    "    # iterare through beta values\n",
    "    for b in beta:\n",
    "        # get the coherence score for the given parameters\n",
    "        model = btm_model(k, a, b)\n",
    "            \n",
    "        perplexity = model.perplexity_\n",
    "        coherence = model.coherence_\n",
    "            \n",
    "        # Save the model results\n",
    "        model_results['Alpha'].append(a)\n",
    "        model_results['Beta'].append(b)\n",
    "        model_results['Coherence'].append(Average(coherence))\n",
    "        model_results['Perplexity'].append(perplexity)"
   ]
  },
  {
   "cell_type": "code",
   "execution_count": 107,
   "id": "e0c25b38",
   "metadata": {},
   "outputs": [
    {
     "name": "stdout",
     "output_type": "stream",
     "text": [
      "    Alpha  Beta  Coherence   Perplexity\n",
      "0    0.01  0.01  -9.162313  3662.855913\n",
      "1    0.01  0.31  -9.644494  2535.168049\n",
      "2    0.01  0.61 -10.392308  2396.530163\n",
      "3    0.01  0.91 -10.354925  2329.340579\n",
      "4    0.31  0.01  -9.162313  3660.852523\n",
      "5    0.31  0.31  -9.644494  2533.796215\n",
      "6    0.31  0.61 -10.392308  2395.830157\n",
      "7    0.31  0.91 -10.354925  2329.490433\n",
      "8    0.61  0.01  -9.162313  3660.386199\n",
      "9    0.61  0.31  -9.644494  2538.187799\n",
      "10   0.61  0.61 -10.392308  2394.109076\n",
      "11   0.61  0.91 -10.354925  2329.603872\n",
      "12   0.91  0.01  -9.162313  3659.712782\n",
      "13   0.91  0.31  -9.644494  2538.857303\n",
      "14   0.91  0.61 -10.392308  2396.391753\n",
      "15   0.91  0.91 -10.582920  2328.015445\n"
     ]
    }
   ],
   "source": [
    "benchmark_df = pd.DataFrame(model_results)\n",
    "print(benchmark_df)\n",
    "\n",
    "benchmark_df.to_csv(\"benchmark.csv\", index=False)"
   ]
  },
  {
   "cell_type": "code",
   "execution_count": 109,
   "id": "82374ca8",
   "metadata": {},
   "outputs": [
    {
     "name": "stderr",
     "output_type": "stream",
     "text": [
      "100%|██████████████████████████████████████████████████████████████████████████████████| 20/20 [00:11<00:00,  1.69it/s]\n",
      "100%|█████████████████████████████████████████████████████████████████████████| 23713/23713 [00:00<00:00, 24459.59it/s]\n"
     ]
    }
   ],
   "source": [
    "# Choosen highest coherence with a trade-off for a higher perplexity because of a higher semantic correlation to make it easier to interpret\n",
    "tweets_model = btm.BTM(\n",
    "tweets_X, tweets_vocabulary, seed=12321, T=8, M=5, alpha=0.01, beta=0.01)\n",
    "tweets_model.fit(tweets_biterms, iterations=20)\n",
    "tweets_p_zd = tweets_model.transform(tweets_docs_vec)"
   ]
  },
  {
   "cell_type": "code",
   "execution_count": 110,
   "id": "ee382c30",
   "metadata": {},
   "outputs": [
    {
     "name": "stderr",
     "output_type": "stream",
     "text": [
      "100%|█████████████████████████████████████████████████████████████████████████| 23713/23713 [00:00<00:00, 25223.59it/s]\n"
     ]
    }
   ],
   "source": [
    "p_zd = tweets_model.transform(tweets_docs_vec)"
   ]
  },
  {
   "cell_type": "code",
   "execution_count": 124,
   "id": "f1eccbe3",
   "metadata": {},
   "outputs": [],
   "source": [
    "words_topics_df = tweets_model.df_words_topics_\n",
    "\n",
    "words_topics_0 = pd.DataFrame(words_topics_df[0])\n",
    "words_topics_0[\"word\"] = words_topics_df.index\n",
    "\n",
    "words_topics_1 = pd.DataFrame(words_topics_df[1])\n",
    "words_topics_1[\"word\"] = words_topics_df.index\n",
    "\n",
    "words_topics_2 = pd.DataFrame(words_topics_df[2])\n",
    "words_topics_2[\"word\"] = words_topics_df.index\n",
    "\n",
    "words_topics_3 = pd.DataFrame(words_topics_df[3])\n",
    "words_topics_3[\"word\"] = words_topics_df.index\n",
    "\n",
    "words_topics_4 = pd.DataFrame(words_topics_df[4])\n",
    "words_topics_4[\"word\"] = words_topics_df.index\n",
    "\n",
    "words_topics_5 = pd.DataFrame(words_topics_df[5])\n",
    "words_topics_5[\"word\"] = words_topics_df.index\n",
    "\n",
    "words_topics_6 = pd.DataFrame(words_topics_df[6])\n",
    "words_topics_6[\"word\"] = words_topics_df.index\n",
    "\n",
    "words_topics_7 = pd.DataFrame(words_topics_df[7])\n",
    "words_topics_7[\"word\"] = words_topics_df.index"
   ]
  },
  {
   "cell_type": "code",
   "execution_count": 113,
   "id": "003db5cd",
   "metadata": {},
   "outputs": [
    {
     "name": "stdout",
     "output_type": "stream",
     "text": [
      "                  0       word\n",
      "die        0.035481        die\n",
      "der        0.033102        der\n",
      "und        0.027327        und\n",
      "in         0.018923         in\n",
      "das        0.017049        das\n",
      "ladesäule  0.015758  ladesäule\n",
      "an         0.014937         an\n",
      "ist        0.014718        ist\n",
      "mit        0.013606        mit\n",
      "den        0.013583        den\n"
     ]
    },
    {
     "data": {
      "image/png": "[encoded data removed]",
      "text/plain": [
       "<Figure size 432x288 with 1 Axes>"
      ]
     },
     "metadata": {},
     "output_type": "display_data"
    }
   ],
   "source": [
    "top_0 = words_topics_0.nlargest(10, 0)\n",
    "\n",
    "print(top_0)\n",
    "ax = sns.barplot(x=0, y=\"word\", data=top_0)"
   ]
  },
  {
   "cell_type": "code",
   "execution_count": 119,
   "id": "ddc62519",
   "metadata": {},
   "outputs": [
    {
     "name": "stdout",
     "output_type": "stream",
     "text": [
      "                          1               word\n",
      "die                0.040486                die\n",
      "der                0.036763                der\n",
      "und                0.031188                und\n",
      "ladeinfrastruktur  0.021461  ladeinfrastruktur\n",
      "für                0.020387                für\n",
      "in                 0.019667                 in\n",
      "das                0.019186                das\n",
      "ist                0.012872                ist\n",
      "den                0.012735                den\n",
      "zu                 0.010962                 zu\n"
     ]
    },
    {
     "data": {
      "image/png": "[encoded data removed]",
      "text/plain": [
       "<Figure size 432x288 with 1 Axes>"
      ]
     },
     "metadata": {},
     "output_type": "display_data"
    }
   ],
   "source": [
    "top_1 = words_topics_1.nlargest(10, 1)\n",
    "\n",
    "print(top_1)\n",
    "ax = sns.barplot(x=1, y=\"word\", data=top_1)"
   ]
  },
  {
   "cell_type": "code",
   "execution_count": 122,
   "id": "1bc82403",
   "metadata": {},
   "outputs": [
    {
     "name": "stdout",
     "output_type": "stream",
     "text": [
      "                          2               word\n",
      "der                0.040838                der\n",
      "die                0.038684                die\n",
      "und                0.030345                und\n",
      "in                 0.029479                 in\n",
      "für                0.027923                für\n",
      "ladeinfrastruktur  0.023860  ladeinfrastruktur\n",
      "mit                0.014543                mit\n",
      "das                0.013227                das\n",
      "den                0.012575                den\n",
      "von                0.011236                von\n"
     ]
    },
    {
     "data": {
      "image/png": "[encoded data removed]",
      "text/plain": [
       "<Figure size 432x288 with 1 Axes>"
      ]
     },
     "metadata": {},
     "output_type": "display_data"
    }
   ],
   "source": [
    "top_2 = words_topics_2.nlargest(10, 2)\n",
    "print(top_2)\n",
    "ax = sns.barplot(x=2, y=\"word\", data=top_2)"
   ]
  },
  {
   "cell_type": "code",
   "execution_count": 123,
   "id": "06a6b2fe",
   "metadata": {},
   "outputs": [
    {
     "name": "stdout",
     "output_type": "stream",
     "text": [
      "                  3       word\n",
      "die        0.031661        die\n",
      "der        0.029110        der\n",
      "und        0.024053        und\n",
      "ladesäule  0.020017  ladesäule\n",
      "das        0.017754        das\n",
      "ist        0.017623        ist\n",
      "nicht      0.014913      nicht\n",
      "in         0.014782         in\n",
      "mit        0.014507        mit\n",
      "ich        0.014047        ich\n"
     ]
    },
    {
     "data": {
      "image/png": "[encoded data removed]",
      "text/plain": [
       "<Figure size 432x288 with 1 Axes>"
      ]
     },
     "metadata": {},
     "output_type": "display_data"
    }
   ],
   "source": [
    "top_3 = words_topics_3.nlargest(10, 3)\n",
    "print(top_3)\n",
    "ax = sns.barplot(x=3, y=\"word\", data=top_3)"
   ]
  },
  {
   "cell_type": "code",
   "execution_count": 125,
   "id": "cae13a13",
   "metadata": {},
   "outputs": [
    {
     "name": "stdout",
     "output_type": "stream",
     "text": [
      "                          4               word\n",
      "der                0.044849                der\n",
      "die                0.039606                die\n",
      "für                0.030825                für\n",
      "ladeinfrastruktur  0.026459  ladeinfrastruktur\n",
      "und                0.025833                und\n",
      "von                0.024992                von\n",
      "mit                0.022590                mit\n",
      "in                 0.020260                 in\n",
      "den                0.014669                den\n",
      "sie                0.012184                sie\n"
     ]
    },
    {
     "data": {
      "image/png": "[encoded data removed]",
      "text/plain": [
       "<Figure size 432x288 with 1 Axes>"
      ]
     },
     "metadata": {},
     "output_type": "display_data"
    }
   ],
   "source": [
    "top_4 = words_topics_4.nlargest(10, 4)\n",
    "print(top_4)\n",
    "ax = sns.barplot(x=4, y=\"word\", data=top_4)"
   ]
  },
  {
   "cell_type": "code",
   "execution_count": 126,
   "id": "d10e2e1b",
   "metadata": {},
   "outputs": [
    {
     "name": "stdout",
     "output_type": "stream",
     "text": [
      "                  5       word\n",
      "und        0.071728        und\n",
      "der        0.061392        der\n",
      "schneider  0.044862  schneider\n",
      "electric   0.043861   electric\n",
      "für        0.041371        für\n",
      "von        0.035151        von\n",
      "ein        0.030699        ein\n",
      "eine       0.029212       eine\n",
      "zur        0.028530        zur\n",
      "gemeinsam  0.025543  gemeinsam\n"
     ]
    },
    {
     "data": {
      "image/png": "[encoded data removed]",
      "text/plain": [
       "<Figure size 432x288 with 1 Axes>"
      ]
     },
     "metadata": {},
     "output_type": "display_data"
    }
   ],
   "source": [
    "top_5 = words_topics_5.nlargest(10, 5)\n",
    "print(top_5)\n",
    "ax = sns.barplot(x=5, y=\"word\", data=top_5)"
   ]
  },
  {
   "cell_type": "code",
   "execution_count": 127,
   "id": "a21c328d",
   "metadata": {},
   "outputs": [
    {
     "name": "stdout",
     "output_type": "stream",
     "text": [
      "                  6       word\n",
      "ich        0.030119        ich\n",
      "die        0.027114        die\n",
      "ladesäule  0.025813  ladesäule\n",
      "der        0.021857        der\n",
      "und        0.021710        und\n",
      "das        0.019559        das\n",
      "nicht      0.017973      nicht\n",
      "ist        0.017233        ist\n",
      "es         0.014686         es\n",
      "an         0.013961         an\n"
     ]
    },
    {
     "data": {
      "image/png": "[encoded data removed]",
      "text/plain": [
       "<Figure size 432x288 with 1 Axes>"
      ]
     },
     "metadata": {},
     "output_type": "display_data"
    }
   ],
   "source": [
    "top_6 = words_topics_6.nlargest(10, 6)\n",
    "print(top_6)\n",
    "ax = sns.barplot(x=6, y=\"word\", data=top_6)"
   ]
  },
  {
   "cell_type": "code",
   "execution_count": 132,
   "id": "35a95012",
   "metadata": {},
   "outputs": [
    {
     "name": "stdout",
     "output_type": "stream",
     "text": [
      "                          7               word\n",
      "die                0.040822                die\n",
      "und                0.026206                und\n",
      "der                0.023540                der\n",
      "ladeinfrastruktur  0.017496  ladeinfrastruktur\n",
      "in                 0.017156                 in\n",
      "das                0.015958                das\n",
      "zu                 0.015817                 zu\n",
      "für                0.015171                für\n",
      "es                 0.014823                 es\n",
      "nicht              0.014570              nicht\n"
     ]
    },
    {
     "data": {
      "image/png": "[encoded data removed]",
      "text/plain": [
       "<Figure size 432x288 with 1 Axes>"
      ]
     },
     "metadata": {},
     "output_type": "display_data"
    }
   ],
   "source": [
    "top_7 = words_topics_7.nlargest(10, 7)\n",
    "print(top_7)\n",
    "ax = sns.barplot(x=7, y=\"word\", data=top_7)"
   ]
  },
  {
   "cell_type": "code",
   "execution_count": 136,
   "id": "9d9606d7",
   "metadata": {},
   "outputs": [
    {
     "name": "stdout",
     "output_type": "stream",
     "text": [
      "  topic0             topic1 topic2     topic3             topic4     topic5  \\\n",
      "0    die                die    der        die                der        und   \n",
      "1    der                der    die        der                die        der   \n",
      "2    und                und    und        und                für  schneider   \n",
      "3     in  ladeinfrastruktur     in  ladesäule  ladeinfrastruktur   electric   \n",
      "4    das                für    für        das                und        für   \n",
      "\n",
      "      topic6             topic7  \n",
      "0        ich                die  \n",
      "1        die                und  \n",
      "2  ladesäule                der  \n",
      "3        der  ladeinfrastruktur  \n",
      "4        und                 in  \n",
      "                                              topic0  \\\n",
      "0  entwicklungsingenieur hil-testing backend-lade...   \n",
      "1  @p_humm apropos ladeinfrastruktur: schon geseh...   \n",
      "2  #alphastruxure kürt #themobilityhouse zum tech...   \n",
      "3  #eswewiesbaden - wunsch-e-ladesäule gegen tank...   \n",
      "4  walther ladesäule ecolectra 250 m2 m.2 ladeste...   \n",
      "\n",
      "                                              topic1  \\\n",
      "0  something something ladesäule hacken. https://...   \n",
      "1  „bundes-ladeparks“: verkehrsausschuss stimmt a...   \n",
      "2          blockchainbasierte ladeinfrastruktur was?   \n",
      "3  #shell und #byd schließen globale lade-partner...   \n",
      "4  e-scooter in der mobilität  – nr. 133  philip ...   \n",
      "\n",
      "                                              topic2  \\\n",
      "0  viessmann verkauft ladeinfrastruktur-anbieter ...   \n",
      "1  bad münstereifel ftw (inklusive ladesäule)! ht...   \n",
      "2  kurz informiert: ladeinfrastruktur, fußgängerk...   \n",
      "3  strafzahlungen für ladesäulenmuffel? #ladeinfr...   \n",
      "4  #job: technischer projektmanager ladeinfrastru...   \n",
      "\n",
      "                                              topic3  \n",
      "0  rosige aussichten #bev #elektromobilität #lade...  \n",
      "1  @unionista 👍 genau, ladesäule, 4 stunden parkd...  \n",
      "2  @aengelhorn @knarf_sier @hansulrich kostenfall...  \n",
      "3  symbolbild deutscher ladeinfrastruktur. https:...  \n",
      "4  lichtdesign 10/10 liebe energiewerke #sayda.😍 ...  \n"
     ]
    }
   ],
   "source": [
    "top_words = btm.get_top_topic_words(\n",
    "    tweets_model,\n",
    "    words_num=100)\n",
    "\n",
    "\n",
    "top_words_df = pd.DataFrame(top_words)\n",
    "print(top_words_df.head())\n",
    "\n",
    "top_docs = btm.get_top_topic_docs(\n",
    "    tweets_df['tweet_processed'],\n",
    "    p_zd,\n",
    "    docs_num=3783,\n",
    "    topics_idx=[0,1,2,3])\n",
    "\n",
    "top_docs_df = pd.DataFrame(top_docs)\n",
    "print(top_docs_df.head())\n",
    "\n",
    "top_words_df.to_csv(\"top_words.csv\", index=False)"
   ]
  },
  {
   "cell_type": "code",
   "execution_count": 141,
   "id": "6123e701",
   "metadata": {},
   "outputs": [
    {
     "name": "stdout",
     "output_type": "stream",
     "text": [
      "                                           documents  label\n",
      "0  @kkklawitter @eggmarkus @sepp_reitberger das e...      1\n",
      "1  amperio gmbh: mobileeee und amperio starten la...      0\n",
      "2  zur ladeinfrastruktur für elektrofahrzeuge geh...      5\n",
      "3  @chris_pyak @jrehborn @herrphteven dazu noch n...      6\n",
      "4  @mingiam10 @kkklawitter mein punkt ist ja der ...      0\n"
     ]
    }
   ],
   "source": [
    "tweet_topics = btm.get_docs_top_topic(tweets, tweets_model.matrix_docs_topics_)\n",
    "\n",
    "print(tweet_topics.head())\n",
    "\n",
    "tweet_topics.to_csv(\"tweets_topics.csv\")"
   ]
  },
  {
   "cell_type": "code",
   "execution_count": 228,
   "id": "e88f2d33",
   "metadata": {},
   "outputs": [],
   "source": [
    "tweets_df = pd.read_csv(work_dir + \"/Twitter/all_tweets.csv\")"
   ]
  },
  {
   "cell_type": "code",
   "execution_count": 230,
   "id": "326f9c73",
   "metadata": {},
   "outputs": [
    {
     "name": "stdout",
     "output_type": "stream",
     "text": [
      "0        @kkklawitter @EggMarkus @sepp_reitberger Das e...\n",
      "1        amperio GmbH: mobileeee und amperio starten la...\n",
      "2        Zur Ladeinfrastruktur für Elektrofahrzeuge geh...\n",
      "3        @chris_pyak @JRehborn @HerrPhteven Dazu noch n...\n",
      "4        @Mingiam10 @kkklawitter Mein Punkt ist ja der ...\n",
      "                               ...                        \n",
      "48273    Elektroautos: Japanische Autobauer entwickeln ...\n",
      "48274    Elektroautos: Japanische Autobauer entwickeln ...\n",
      "48275    Elektroautos: Japanische Autobauer entwickeln ...\n",
      "48276    Elektroautos: Japanische Autobauer entwickeln ...\n",
      "48277    McDonalds goes E-Mobility - #McDonalds und der...\n",
      "Name: tweet_processed, Length: 48278, dtype: object\n"
     ]
    }
   ],
   "source": [
    "# Hier Stopwörter entfernen + kleingeschrieben, dann Model nochmal neu aufstellen - Problem: Entfernung funktioniert nicht\n",
    "\n",
    "# Topic Modelling\n",
    "# Convert the titles to lowercase\n",
    "tweets_df['tweet_processed'] = tweets_df['tweet'].map(lambda x: x.lower())\n",
    "\n",
    "# Remove punctuation\n",
    "tweets_df['tweet_processed'] = tweets_df['tweet'].map(lambda x: re.sub('[,\\.!?]', '', x))\n",
    "\n",
    "tweets_df['tweet_processed'] = tweets_df['tweet'].map(lambda x: x.replace(\"der\",\"\"))\n",
    "tweets_df['tweet_processed'] = tweets_df['tweet'].map(lambda x: x.replace(\"die\",\"\"))\n",
    "tweets_df['tweet_processed'] = tweets_df['tweet'].map(lambda x: x.replace(\"das\",\"\"))\n",
    "tweets_df['tweet_processed'] = tweets_df['tweet'].map(lambda x: x.replace(\"und\",\"\"))\n",
    "tweets_df['tweet_processed'] = tweets_df['tweet'].map(lambda x: x.replace(\"in\",\"\"))\n",
    "tweets_df['tweet_processed'] = tweets_df['tweet'].map(lambda x: x.replace(\"an\",\"\"))\n",
    "tweets_df['tweet_processed'] = tweets_df['tweet'].map(lambda x: x.replace(\"zu\",\"\"))\n",
    "tweets_df['tweet_processed'] = tweets_df['tweet'].map(lambda x: x.replace(\"für\",\"\"))\n",
    "tweets_df['tweet_processed'] = tweets_df['tweet'].map(lambda x: x.replace(\"es\",\"\"))\n",
    "tweets_df['tweet_processed'] = tweets_df['tweet'].map(lambda x: x.replace(\"von\",\"\"))\n",
    "tweets_df['tweet_processed'] = tweets_df['tweet'].map(lambda x: x.replace(\"den\",\"\"))\n",
    "tweets_df['tweet_processed'] = tweets_df['tweet'].map(lambda x: x.replace(\"dem\",\"\"))\n",
    "\n",
    "\n",
    "print(tweets_df['tweet_processed'])\n",
    "tweets = tweets_df['tweet_processed'].str.strip().tolist()\n",
    "\n",
    "# PREPROCESSING\n",
    "# Obtaining terms frequency in a sparse matrix and corpus vocabulary\n",
    "tweets_X, tweets_vocabulary, tweets_vocab_dict = btm.get_words_freqs(tweets)\n",
    "tweets_tf = np.array(tweets_X.sum(axis=0)).ravel()"
   ]
  },
  {
   "cell_type": "code",
   "execution_count": 181,
   "id": "3a57a319",
   "metadata": {},
   "outputs": [],
   "source": [
    "# Vectorizing documents\n",
    "tweets_docs_vec = btm.get_vectorized_docs(tweets, tweets_vocabulary)\n",
    "tweets_docs_lens = list(map(len, tweets_docs_vec))"
   ]
  },
  {
   "cell_type": "code",
   "execution_count": 182,
   "id": "22dea8e5",
   "metadata": {},
   "outputs": [],
   "source": [
    "# Generating title biterms\n",
    "tweets_biterms = btm.get_biterms(tweets_docs_vec)"
   ]
  },
  {
   "cell_type": "code",
   "execution_count": 183,
   "id": "aa1a3577",
   "metadata": {},
   "outputs": [],
   "source": [
    "# Initializing and running titles model\n",
    "def btm_model(topics, alpha, beta):\n",
    "    tweets_model = btm.BTM(\n",
    "        tweets_X, tweets_vocabulary, seed=12321, T=topics, M=5, alpha=alpha, beta=beta)\n",
    "    tweets_model.fit(tweets_biterms, iterations=20)\n",
    "    tweets_p_zd = tweets_model.transform(tweets_docs_vec)\n",
    "    \n",
    "    return tweets_model\n",
    "\n",
    "def Average(l): \n",
    "    avg = sum(l) / len(l) \n",
    "    return avg"
   ]
  },
  {
   "cell_type": "code",
   "execution_count": 184,
   "id": "4c1b866c",
   "metadata": {},
   "outputs": [],
   "source": [
    "# Initializing and running titles model\n",
    "def btm_model(topics, alpha, beta):\n",
    "    tweets_model = btm.BTM(\n",
    "        tweets_X, tweets_vocabulary, seed=12321, T=topics, M=5, alpha=alpha, beta=beta)\n",
    "    tweets_model.fit(tweets_biterms, iterations=20)\n",
    "    tweets_p_zd = tweets_model.transform(tweets_docs_vec)\n",
    "    \n",
    "    return tweets_model\n",
    "\n",
    "def Average(l): \n",
    "    avg = sum(l) / len(l) \n",
    "    return avg"
   ]
  },
  {
   "cell_type": "code",
   "execution_count": 185,
   "id": "1f61ea7c",
   "metadata": {},
   "outputs": [
    {
     "name": "stderr",
     "output_type": "stream",
     "text": [
      "100%|██████████████████████████████████████████████████████████████████████████████████| 20/20 [00:08<00:00,  2.43it/s]\n",
      "100%|█████████████████████████████████████████████████████████████████████████| 48278/48278 [00:02<00:00, 22750.64it/s]\n",
      "100%|██████████████████████████████████████████████████████████████████████████████████| 20/20 [00:08<00:00,  2.36it/s]\n",
      "100%|█████████████████████████████████████████████████████████████████████████| 48278/48278 [00:02<00:00, 20458.71it/s]\n",
      "100%|██████████████████████████████████████████████████████████████████████████████████| 20/20 [00:10<00:00,  1.86it/s]\n",
      "100%|█████████████████████████████████████████████████████████████████████████| 48278/48278 [00:02<00:00, 22300.96it/s]\n",
      "100%|██████████████████████████████████████████████████████████████████████████████████| 20/20 [00:10<00:00,  1.97it/s]\n",
      "100%|█████████████████████████████████████████████████████████████████████████| 48278/48278 [00:02<00:00, 21880.30it/s]\n",
      "100%|██████████████████████████████████████████████████████████████████████████████████| 20/20 [00:11<00:00,  1.68it/s]\n",
      "100%|█████████████████████████████████████████████████████████████████████████| 48278/48278 [00:02<00:00, 21676.65it/s]\n",
      "100%|██████████████████████████████████████████████████████████████████████████████████| 20/20 [00:13<00:00,  1.47it/s]\n",
      "100%|█████████████████████████████████████████████████████████████████████████| 48278/48278 [00:02<00:00, 20219.59it/s]\n",
      "100%|██████████████████████████████████████████████████████████████████████████████████| 20/20 [00:16<00:00,  1.18it/s]\n",
      "100%|█████████████████████████████████████████████████████████████████████████| 48278/48278 [00:02<00:00, 19089.64it/s]\n",
      "100%|██████████████████████████████████████████████████████████████████████████████████| 20/20 [00:17<00:00,  1.17it/s]\n",
      "100%|█████████████████████████████████████████████████████████████████████████| 48278/48278 [00:02<00:00, 19799.94it/s]\n",
      "100%|██████████████████████████████████████████████████████████████████████████████████| 20/20 [00:16<00:00,  1.23it/s]\n",
      "100%|█████████████████████████████████████████████████████████████████████████| 48278/48278 [00:02<00:00, 18969.22it/s]\n",
      "100%|██████████████████████████████████████████████████████████████████████████████████| 20/20 [00:17<00:00,  1.12it/s]\n",
      "100%|█████████████████████████████████████████████████████████████████████████| 48278/48278 [00:02<00:00, 19077.54it/s]\n",
      "100%|██████████████████████████████████████████████████████████████████████████████████| 20/20 [00:20<00:00,  1.01s/it]\n",
      "100%|█████████████████████████████████████████████████████████████████████████| 48278/48278 [00:02<00:00, 18396.62it/s]\n",
      "100%|██████████████████████████████████████████████████████████████████████████████████| 20/20 [00:21<00:00,  1.06s/it]\n",
      "100%|█████████████████████████████████████████████████████████████████████████| 48278/48278 [00:03<00:00, 12391.64it/s]\n",
      "100%|██████████████████████████████████████████████████████████████████████████████████| 20/20 [00:26<00:00,  1.31s/it]\n",
      "100%|█████████████████████████████████████████████████████████████████████████| 48278/48278 [00:03<00:00, 12534.07it/s]\n"
     ]
    }
   ],
   "source": [
    "# Determening the number of topics by running the model with a fixed alpha = 0.01 and beta = 0.1\n",
    "coherence_list = []\n",
    "perplexity_list = []\n",
    "# Topics range\n",
    "min_topics = 2\n",
    "max_topics = 15\n",
    "step_size = 1\n",
    "topics_range = range(min_topics, max_topics, step_size)\n",
    "\n",
    "for k in topics_range:\n",
    "    # get the coherence score for the given parameters\n",
    "    model = btm_model(k, 0.1, 0.1)\n",
    "            \n",
    "    perplexity = model.perplexity_\n",
    "    coherence = model.coherence_\n",
    "    \n",
    "    coherence_list.append(Average(coherence))\n",
    "    perplexity_list.append(perplexity)"
   ]
  },
  {
   "cell_type": "code",
   "execution_count": 186,
   "id": "03d87d18",
   "metadata": {},
   "outputs": [
    {
     "data": {
      "image/png": "[encoded data removed]",
      "text/plain": [
       "<Figure size 432x288 with 1 Axes>"
      ]
     },
     "metadata": {},
     "output_type": "display_data"
    },
    {
     "name": "stdout",
     "output_type": "stream",
     "text": [
      "3 -10.03294803351542\n"
     ]
    }
   ],
   "source": [
    "ymax = max(coherence_list)\n",
    "ymax_string = str(ymax)\n",
    "xpos = coherence_list.index(ymax)\n",
    "xmax = topics_range[xpos]\n",
    "xmax_string = str(xmax)\n",
    "plt.plot(topics_range, coherence_list)\n",
    "plt.xlabel(\"Number of Topics\")\n",
    "plt.ylabel(\"Coherence Score\")\n",
    "plt.annotate(xmax_string + ' Topics' , xy=(xmax, ymax), xytext=(xmax, ymax+1),\n",
    "            arrowprops=dict(facecolor='black', shrink=0.22),\n",
    "            )\n",
    "plt.show()\n",
    "\n",
    "print(xmax, ymax)"
   ]
  },
  {
   "cell_type": "code",
   "execution_count": 187,
   "id": "774dd324",
   "metadata": {},
   "outputs": [
    {
     "data": {
      "image/png": "[encoded data removed]",
      "text/plain": [
       "<Figure size 432x288 with 1 Axes>"
      ]
     },
     "metadata": {},
     "output_type": "display_data"
    }
   ],
   "source": [
    "plt.plot(topics_range, perplexity_list)\n",
    "plt.xlabel(\"Number of Topics\")\n",
    "plt.ylabel(\"Perplexity Score\")\n",
    "plt.show()"
   ]
  },
  {
   "cell_type": "code",
   "execution_count": 188,
   "id": "9729b6c0",
   "metadata": {},
   "outputs": [
    {
     "name": "stderr",
     "output_type": "stream",
     "text": [
      "100%|██████████████████████████████████████████████████████████████████████████████████| 20/20 [00:09<00:00,  2.17it/s]\n",
      "100%|█████████████████████████████████████████████████████████████████████████| 48278/48278 [00:02<00:00, 20747.97it/s]\n",
      "100%|██████████████████████████████████████████████████████████████████████████████████| 20/20 [00:09<00:00,  2.07it/s]\n",
      "100%|█████████████████████████████████████████████████████████████████████████| 48278/48278 [00:01<00:00, 24276.23it/s]\n",
      "100%|██████████████████████████████████████████████████████████████████████████████████| 20/20 [00:09<00:00,  2.19it/s]\n",
      "100%|█████████████████████████████████████████████████████████████████████████| 48278/48278 [00:02<00:00, 22144.44it/s]\n",
      "100%|██████████████████████████████████████████████████████████████████████████████████| 20/20 [00:09<00:00,  2.18it/s]\n",
      "100%|█████████████████████████████████████████████████████████████████████████| 48278/48278 [00:02<00:00, 22358.25it/s]\n",
      "100%|██████████████████████████████████████████████████████████████████████████████████| 20/20 [00:09<00:00,  2.14it/s]\n",
      "100%|█████████████████████████████████████████████████████████████████████████| 48278/48278 [00:02<00:00, 20491.64it/s]\n",
      "100%|██████████████████████████████████████████████████████████████████████████████████| 20/20 [00:09<00:00,  2.09it/s]\n",
      "100%|█████████████████████████████████████████████████████████████████████████| 48278/48278 [00:02<00:00, 20181.19it/s]\n",
      "100%|██████████████████████████████████████████████████████████████████████████████████| 20/20 [00:09<00:00,  2.18it/s]\n",
      "100%|█████████████████████████████████████████████████████████████████████████| 48278/48278 [00:02<00:00, 22139.43it/s]\n",
      "100%|██████████████████████████████████████████████████████████████████████████████████| 20/20 [00:09<00:00,  2.12it/s]\n",
      "100%|█████████████████████████████████████████████████████████████████████████| 48278/48278 [00:02<00:00, 23450.04it/s]\n",
      "100%|██████████████████████████████████████████████████████████████████████████████████| 20/20 [00:09<00:00,  2.21it/s]\n",
      "100%|█████████████████████████████████████████████████████████████████████████| 48278/48278 [00:03<00:00, 15424.23it/s]\n",
      "100%|██████████████████████████████████████████████████████████████████████████████████| 20/20 [00:08<00:00,  2.40it/s]\n",
      "100%|█████████████████████████████████████████████████████████████████████████| 48278/48278 [00:02<00:00, 21269.35it/s]\n",
      "100%|██████████████████████████████████████████████████████████████████████████████████| 20/20 [00:08<00:00,  2.23it/s]\n",
      "100%|█████████████████████████████████████████████████████████████████████████| 48278/48278 [00:02<00:00, 22016.99it/s]\n",
      "100%|██████████████████████████████████████████████████████████████████████████████████| 20/20 [00:09<00:00,  2.21it/s]\n",
      "100%|█████████████████████████████████████████████████████████████████████████| 48278/48278 [00:02<00:00, 19229.93it/s]\n",
      "100%|██████████████████████████████████████████████████████████████████████████████████| 20/20 [00:09<00:00,  2.07it/s]\n",
      "100%|█████████████████████████████████████████████████████████████████████████| 48278/48278 [00:02<00:00, 17550.50it/s]\n",
      "100%|██████████████████████████████████████████████████████████████████████████████████| 20/20 [00:08<00:00,  2.34it/s]\n",
      "100%|█████████████████████████████████████████████████████████████████████████| 48278/48278 [00:02<00:00, 23331.32it/s]\n",
      "100%|██████████████████████████████████████████████████████████████████████████████████| 20/20 [00:09<00:00,  2.10it/s]\n",
      "100%|█████████████████████████████████████████████████████████████████████████| 48278/48278 [00:02<00:00, 21920.34it/s]\n",
      "100%|██████████████████████████████████████████████████████████████████████████████████| 20/20 [00:08<00:00,  2.43it/s]\n",
      "100%|█████████████████████████████████████████████████████████████████████████| 48278/48278 [00:02<00:00, 23841.69it/s]\n"
     ]
    }
   ],
   "source": [
    "# Topic parameter \n",
    "k = 3\n",
    "# Alpha parameter\n",
    "alpha = list(np.arange(0.01, 1, 0.3))\n",
    "\n",
    "# Beta parameter\n",
    "beta = list(np.arange(0.01, 1, 0.3))\n",
    "\n",
    "model_results = {'Alpha': [],\n",
    "                 'Beta': [],\n",
    "                 'Coherence': [],\n",
    "                 'Perplexity': []\n",
    "                }\n",
    "\n",
    "\n",
    "# iterate through alpha values\n",
    "for a in alpha:\n",
    "    # iterare through beta values\n",
    "    for b in beta:\n",
    "        # get the coherence score for the given parameters\n",
    "        model = btm_model(k, a, b)\n",
    "            \n",
    "        perplexity = model.perplexity_\n",
    "        coherence = model.coherence_\n",
    "            \n",
    "        # Save the model results\n",
    "        model_results['Alpha'].append(a)\n",
    "        model_results['Beta'].append(b)\n",
    "        model_results['Coherence'].append(Average(coherence))\n",
    "        model_results['Perplexity'].append(perplexity)"
   ]
  },
  {
   "cell_type": "code",
   "execution_count": 189,
   "id": "c1fcc298",
   "metadata": {},
   "outputs": [
    {
     "name": "stdout",
     "output_type": "stream",
     "text": [
      "    Alpha  Beta  Coherence    Perplexity\n",
      "0    0.01  0.01 -10.681484  24149.904708\n",
      "1    0.01  0.31 -10.772166  11053.809768\n",
      "2    0.01  0.61 -10.312402   9481.063777\n",
      "3    0.01  0.91 -10.312402   8680.621094\n",
      "4    0.31  0.01 -10.681484  24149.905628\n",
      "5    0.31  0.31 -10.772166  11053.809776\n",
      "6    0.31  0.61 -10.312402   9478.556059\n",
      "7    0.31  0.91 -10.312402   8680.707717\n",
      "8    0.61  0.01 -10.681484  24149.905636\n",
      "9    0.61  0.31 -10.772166  11053.819616\n",
      "10   0.61  0.61 -10.312402   9478.556067\n",
      "11   0.61  0.91 -10.312402   8680.708525\n",
      "12   0.91  0.01 -10.681484  24149.905645\n",
      "13   0.91  0.31 -10.772166  11053.819624\n",
      "14   0.91  0.61 -10.312402   9478.556074\n",
      "15   0.91  0.91 -10.312402   8680.687954\n"
     ]
    }
   ],
   "source": [
    "benchmark_df = pd.DataFrame(model_results)\n",
    "print(benchmark_df)\n",
    "\n",
    "benchmark_df.to_csv(\"benchmark-2.csv\", index=False)"
   ]
  },
  {
   "cell_type": "code",
   "execution_count": 190,
   "id": "ca5be41f",
   "metadata": {},
   "outputs": [
    {
     "name": "stderr",
     "output_type": "stream",
     "text": [
      "100%|██████████████████████████████████████████████████████████████████████████████████| 20/20 [00:14<00:00,  1.40it/s]\n",
      "100%|█████████████████████████████████████████████████████████████████████████| 48278/48278 [00:02<00:00, 20389.36it/s]\n"
     ]
    }
   ],
   "source": [
    "# Choosen highest coherence with a trade-off for a higher perplexity because of a higher semantic correlation to make it easier to interpret\n",
    "tweets_model = btm.BTM(\n",
    "tweets_X, tweets_vocabulary, seed=12321, T=8, M=5, alpha=0.01, beta=0.91)\n",
    "tweets_model.fit(tweets_biterms, iterations=20)\n",
    "tweets_p_zd = tweets_model.transform(tweets_docs_vec)"
   ]
  },
  {
   "cell_type": "code",
   "execution_count": 191,
   "id": "ca08a535",
   "metadata": {},
   "outputs": [
    {
     "name": "stderr",
     "output_type": "stream",
     "text": [
      "100%|█████████████████████████████████████████████████████████████████████████| 48278/48278 [00:02<00:00, 19306.07it/s]\n"
     ]
    }
   ],
   "source": [
    "p_zd = tweets_model.transform(tweets_docs_vec)"
   ]
  },
  {
   "cell_type": "code",
   "execution_count": 192,
   "id": "8a230273",
   "metadata": {},
   "outputs": [],
   "source": [
    "words_topics_df = tweets_model.df_words_topics_\n",
    "\n",
    "words_topics_0 = pd.DataFrame(words_topics_df[0])\n",
    "words_topics_0[\"word\"] = words_topics_df.index\n",
    "\n",
    "words_topics_1 = pd.DataFrame(words_topics_df[1])\n",
    "words_topics_1[\"word\"] = words_topics_df.index\n",
    "\n",
    "words_topics_2 = pd.DataFrame(words_topics_df[2])\n",
    "words_topics_2[\"word\"] = words_topics_df.index"
   ]
  },
  {
   "cell_type": "code",
   "execution_count": 193,
   "id": "3f3fda97",
   "metadata": {},
   "outputs": [
    {
     "name": "stdout",
     "output_type": "stream",
     "text": [
      "              0   word\n",
      "die    0.032620    die\n",
      "der    0.024946    der\n",
      "und    0.024508    und\n",
      "ist    0.022994    ist\n",
      "nicht  0.020613  nicht\n",
      "das    0.019354    das\n",
      "ich    0.019146    ich\n",
      "es     0.016987     es\n",
      "an     0.016027     an\n",
      "eine   0.015130   eine\n"
     ]
    },
    {
     "data": {
      "image/png": "[encoded data removed]",
      "text/plain": [
       "<Figure size 432x288 with 1 Axes>"
      ]
     },
     "metadata": {},
     "output_type": "display_data"
    }
   ],
   "source": [
    "top_0 = words_topics_0.nlargest(10, 0)\n",
    "\n",
    "print(top_0)\n",
    "ax = sns.barplot(x=0, y=\"word\", data=top_0)"
   ]
  },
  {
   "cell_type": "code",
   "execution_count": 194,
   "id": "61d6433f",
   "metadata": {},
   "outputs": [
    {
     "name": "stdout",
     "output_type": "stream",
     "text": [
      "              1   word\n",
      "die    0.048472    die\n",
      "der    0.027359    der\n",
      "und    0.027052    und\n",
      "ist    0.025088    ist\n",
      "nicht  0.022148  nicht\n",
      "das    0.019936    das\n",
      "in     0.019383     in\n",
      "es     0.016607     es\n",
      "eine   0.015148   eine\n",
      "für    0.014819    für\n"
     ]
    },
    {
     "data": {
      "image/png": "[encoded data removed]",
      "text/plain": [
       "<Figure size 432x288 with 1 Axes>"
      ]
     },
     "metadata": {},
     "output_type": "display_data"
    }
   ],
   "source": [
    "top_1 = words_topics_1.nlargest(10, 1)\n",
    "\n",
    "print(top_1)\n",
    "ax = sns.barplot(x=1, y=\"word\", data=top_1)"
   ]
  },
  {
   "cell_type": "code",
   "execution_count": 195,
   "id": "23608a6e",
   "metadata": {},
   "outputs": [
    {
     "name": "stdout",
     "output_type": "stream",
     "text": [
      "              2   word\n",
      "die    0.036343    die\n",
      "und    0.024785    und\n",
      "der    0.023776    der\n",
      "nicht  0.022915  nicht\n",
      "ist    0.020663    ist\n",
      "das    0.019883    das\n",
      "mit    0.019259    mit\n",
      "ich    0.018095    ich\n",
      "zu     0.016584     zu\n",
      "es     0.016070     es\n"
     ]
    },
    {
     "data": {
      "image/png": "[encoded data removed]",
      "text/plain": [
       "<Figure size 432x288 with 1 Axes>"
      ]
     },
     "metadata": {},
     "output_type": "display_data"
    }
   ],
   "source": [
    "top_2 = words_topics_2.nlargest(10, 2)\n",
    "\n",
    "print(top_2)\n",
    "ax = sns.barplot(x=2, y=\"word\", data=top_2)"
   ]
  }
 ],
 "metadata": {
  "kernelspec": {
   "display_name": "Python 3 (ipykernel)",
   "language": "python",
   "name": "python3"
  },
  "language_info": {
   "codemirror_mode": {
    "name": "ipython",
    "version": 3
   },
   "file_extension": ".py",
   "mimetype": "text/x-python",
   "name": "python",
   "nbconvert_exporter": "python",
   "pygments_lexer": "ipython3",
   "version": "3.8.12"
  }
 },
 "nbformat": 4,
 "nbformat_minor": 5
}
