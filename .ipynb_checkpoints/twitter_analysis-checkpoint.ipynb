{
 "cells": [
  {
   "cell_type": "code",
   "execution_count": 42,
   "id": "f53a8594",
   "metadata": {},
   "outputs": [],
   "source": [
    "import pandas as pd\n",
    "from vaderSentiment.vaderSentiment import SentimentIntensityAnalyzer\n",
    "import matplotlib.pyplot as plt\n",
    "import seaborn as sns\n",
    "sns.set_theme(palette=\"pastel\")\n",
    "from collections import Counter\n",
    "from itertools import combinations\n",
    "import tweepy\n",
    "import requests\n",
    "import numpy as np"
   ]
  },
  {
   "cell_type": "code",
   "execution_count": 5,
   "id": "0a3ba071",
   "metadata": {},
   "outputs": [],
   "source": [
    "work_dir = \"C:/Users/fabia/OneDrive - Otto-Friedrich-Universität Bamberg/Master/Masterarbeit/Data\""
   ]
  },
  {
   "cell_type": "code",
   "execution_count": 6,
   "id": "12c60d88",
   "metadata": {},
   "outputs": [],
   "source": [
    "tweets_df = pd.read_csv(work_dir + \"/Twitter/all_tweets.csv\")"
   ]
  },
  {
   "cell_type": "code",
   "execution_count": 7,
   "id": "e3fc4480",
   "metadata": {},
   "outputs": [
    {
     "name": "stdout",
     "output_type": "stream",
     "text": [
      "(48278, 5)\n"
     ]
    }
   ],
   "source": [
    "print(tweets_df.shape)"
   ]
  },
  {
   "cell_type": "code",
   "execution_count": 8,
   "id": "a74e9e07",
   "metadata": {},
   "outputs": [],
   "source": [
    "tweets_df['date'] = pd.to_datetime(tweets_df['date'], errors='coerce')\n"
   ]
  },
  {
   "cell_type": "code",
   "execution_count": 9,
   "id": "82c74af4",
   "metadata": {},
   "outputs": [],
   "source": [
    "tweets_df = tweets_df[(tweets_df['date'] > \"2020-07-08\")]\n",
    "\n"
   ]
  },
  {
   "cell_type": "code",
   "execution_count": 10,
   "id": "adf4cd05",
   "metadata": {},
   "outputs": [
    {
     "name": "stdout",
     "output_type": "stream",
     "text": [
      "(23713, 5)\n",
      "0        @kkklawitter @EggMarkus @sepp_reitberger Das e...\n",
      "1        amperio GmbH: mobileeee und amperio starten la...\n",
      "2        Zur Ladeinfrastruktur für Elektrofahrzeuge geh...\n",
      "3        @chris_pyak @JRehborn @HerrPhteven Dazu noch n...\n",
      "4        @Mingiam10 @kkklawitter Mein Punkt ist ja der ...\n",
      "                               ...                        \n",
      "23708    @Solarfighter @BMWi_Bund @peteraltmaier @BAFA_...\n",
      "23709    @Solarfighter @peteraltmaier @BAFA_Bund Der Au...\n",
      "23710    #Tesla hat mit der Eröffnung des neuen #Superc...\n",
      "23711    @danjol_lupardo @Canstatt93 @Poveretto Das ist...\n",
      "23712    @BMWi_Bund @peteraltmaier @BAFA_Bund Weit und ...\n",
      "Name: tweet, Length: 23713, dtype: object\n"
     ]
    }
   ],
   "source": [
    "print(tweets_df.shape)\n",
    "print(tweets_df[\"tweet\"])"
   ]
  },
  {
   "cell_type": "code",
   "execution_count": 11,
   "id": "5bbb9737",
   "metadata": {},
   "outputs": [],
   "source": [
    "# calculate Tweet sentiment\n",
    "\n",
    "analyzer = SentimentIntensityAnalyzer()\n",
    "def calculate_sentiment(dataframe):\n",
    "    utf_encoded = dataframe[\"tweet\"].encode('utf-16', 'surrogatepass').decode('utf-16')\n",
    "    vs = analyzer.polarity_scores(utf_encoded)\n",
    "    neg_list.append(vs[\"neg\"])\n",
    "    neu_list.append(vs[\"neu\"])\n",
    "    pos_list.append(vs[\"pos\"])\n",
    "    com_list.append(vs[\"compound\"])\n",
    "    return dataframe"
   ]
  },
  {
   "cell_type": "code",
   "execution_count": 12,
   "id": "a52f7303",
   "metadata": {},
   "outputs": [],
   "source": [
    "neg_list = []\n",
    "neu_list = []\n",
    "pos_list = []\n",
    "com_list = []\n",
    "tweets_df = tweets_df.apply(lambda x: calculate_sentiment(x), axis=1)"
   ]
  },
  {
   "cell_type": "code",
   "execution_count": 13,
   "id": "07bf033d",
   "metadata": {},
   "outputs": [],
   "source": [
    "tweets_df[\"negative\"] = neg_list\n",
    "tweets_df[\"neutral\"] = neu_list\n",
    "tweets_df[\"positive\"] = pos_list\n",
    "tweets_df[\"compound\"] = com_list"
   ]
  },
  {
   "cell_type": "code",
   "execution_count": 14,
   "id": "78556904",
   "metadata": {},
   "outputs": [
    {
     "name": "stdout",
     "output_type": "stream",
     "text": [
      "       Unnamed: 0                      date             user  \\\n",
      "0               0 2022-04-26 08:44:26+00:00   ReinerKurzmann   \n",
      "1               1 2022-04-26 08:44:03+00:00  na_presseportal   \n",
      "2               2 2022-04-26 08:40:02+00:00     SmartHomeEU1   \n",
      "3               3 2022-04-26 08:32:54+00:00       EPhisoloph   \n",
      "4               4 2022-04-26 08:26:51+00:00           Amie42   \n",
      "...           ...                       ...              ...   \n",
      "23708       23708 2020-07-08 06:52:18+00:00    J_Hildermeier   \n",
      "23709       23709 2020-07-08 06:40:56+00:00             BMWK   \n",
      "23710       23710 2020-07-08 06:30:25+00:00     ElectriveNet   \n",
      "23711       23711 2020-07-08 04:29:36+00:00         kamil2_0   \n",
      "23712       23712 2020-07-08 04:23:03+00:00          MAZirke   \n",
      "\n",
      "                                                   tweet  \\\n",
      "0      @kkklawitter @EggMarkus @sepp_reitberger Das e...   \n",
      "1      amperio GmbH: mobileeee und amperio starten la...   \n",
      "2      Zur Ladeinfrastruktur für Elektrofahrzeuge geh...   \n",
      "3      @chris_pyak @JRehborn @HerrPhteven Dazu noch n...   \n",
      "4      @Mingiam10 @kkklawitter Mein Punkt ist ja der ...   \n",
      "...                                                  ...   \n",
      "23708  @Solarfighter @BMWi_Bund @peteraltmaier @BAFA_...   \n",
      "23709  @Solarfighter @peteraltmaier @BAFA_Bund Der Au...   \n",
      "23710  #Tesla hat mit der Eröffnung des neuen #Superc...   \n",
      "23711  @danjol_lupardo @Canstatt93 @Poveretto Das ist...   \n",
      "23712  @BMWi_Bund @peteraltmaier @BAFA_Bund Weit und ...   \n",
      "\n",
      "                                                     url  negative  neutral  \\\n",
      "0      https://twitter.com/ReinerKurzmann/status/1518...     0.154    0.846   \n",
      "1      https://twitter.com/na_presseportal/status/151...     0.000    1.000   \n",
      "2      https://twitter.com/SmartHomeEU1/status/151887...     0.000    1.000   \n",
      "3      https://twitter.com/EPhisoloph/status/15188707...     0.000    1.000   \n",
      "4      https://twitter.com/Amie42/status/151886919943...     0.178    0.822   \n",
      "...                                                  ...       ...      ...   \n",
      "23708  https://twitter.com/J_Hildermeier/status/12807...     0.000    1.000   \n",
      "23709  https://twitter.com/BMWK/status/12807537188126...     0.000    1.000   \n",
      "23710  https://twitter.com/ElectriveNet/status/128075...     0.157    0.843   \n",
      "23711  https://twitter.com/kamil2_0/status/1280720665...     0.087    0.913   \n",
      "23712  https://twitter.com/MAZirke/status/12807190175...     0.000    1.000   \n",
      "\n",
      "       positive  compound  \n",
      "0           0.0   -0.8316  \n",
      "1           0.0    0.0000  \n",
      "2           0.0    0.0000  \n",
      "3           0.0    0.0000  \n",
      "4           0.0   -0.8316  \n",
      "...         ...       ...  \n",
      "23708       0.0    0.0000  \n",
      "23709       0.0    0.0000  \n",
      "23710       0.0   -0.5994  \n",
      "23711       0.0   -0.5994  \n",
      "23712       0.0    0.0000  \n",
      "\n",
      "[23713 rows x 9 columns]\n"
     ]
    }
   ],
   "source": [
    "print(tweets_df)"
   ]
  },
  {
   "cell_type": "code",
   "execution_count": 15,
   "id": "142de78f",
   "metadata": {},
   "outputs": [],
   "source": [
    "def assign_sentiment(row):\n",
    "    float_compound = float(row['compound'])\n",
    "    if float_compound >= 0.05:\n",
    "        val = 'Positive'\n",
    "    elif float_compound <= -0.05:\n",
    "        val = 'Negative'\n",
    "    else:\n",
    "        val = 'Neutral'\n",
    "    return val"
   ]
  },
  {
   "cell_type": "code",
   "execution_count": 16,
   "id": "a7d55b82",
   "metadata": {},
   "outputs": [],
   "source": [
    "tweets_df['sentiment'] = tweets_df.apply(assign_sentiment, axis=1)"
   ]
  },
  {
   "cell_type": "code",
   "execution_count": 17,
   "id": "2f5180ed",
   "metadata": {},
   "outputs": [],
   "source": [
    "tweet_sentiment = tweets_df.groupby(['sentiment']).size()\n",
    "\n",
    "positive = tweet_sentiment['Positive']\n",
    "neutral = tweet_sentiment['Neutral']\n",
    "negative = tweet_sentiment['Negative']\n",
    "\n",
    "labels = ['Positive', 'Neutral', 'Negative' ]\n",
    "sentiment_count = [positive, neutral, negative]"
   ]
  },
  {
   "cell_type": "code",
   "execution_count": 18,
   "id": "86d2f711",
   "metadata": {},
   "outputs": [
    {
     "data": {
      "image/png": "[encoded data removed]",
      "text/plain": [
       "<Figure size 432x288 with 1 Axes>"
      ]
     },
     "metadata": {},
     "output_type": "display_data"
    }
   ],
   "source": [
    "plt.pie(sentiment_count, labels = labels, autopct='%.0f%%')\n",
    "plt.show()"
   ]
  },
  {
   "cell_type": "code",
   "execution_count": 19,
   "id": "12d6f173",
   "metadata": {},
   "outputs": [
    {
     "name": "stdout",
     "output_type": "stream",
     "text": [
      "0         ReinerKurzmann\n",
      "1        na_presseportal\n",
      "2           SmartHomeEU1\n",
      "3             EPhisoloph\n",
      "4                 Amie42\n",
      "              ...       \n",
      "23708      J_Hildermeier\n",
      "23709               BMWK\n",
      "23710       ElectriveNet\n",
      "23711           kamil2_0\n",
      "23712            MAZirke\n",
      "Name: user, Length: 23713, dtype: object\n"
     ]
    }
   ],
   "source": [
    "print(tweets_df[\"user\"])"
   ]
  },
  {
   "cell_type": "code",
   "execution_count": 20,
   "id": "3b576ae9",
   "metadata": {},
   "outputs": [],
   "source": [
    "unique_users = tweets_df[\"user\"].unique()\n",
    "\n",
    "user_df = pd.DataFrame(unique_users, columns = ['users'])\n",
    "\n",
    "follower_count = []\n",
    "\n",
    "for user in unique_users:\n",
    "    str_user = str(user)\n",
    "    request_link = \"https://cdn.syndication.twimg.com/widgets/followbutton/info.json?screen_names=\"+str_user\n",
    "    \n",
    "    try:\n",
    "        request_result = requests.get(request_link).json()\n",
    "    except:\n",
    "        request_result = None\n",
    "    \n",
    "    try:\n",
    "        follower = int(request_result[0][\"followers_count\"])\n",
    "    except:\n",
    "        follower = None\n",
    "    \n",
    "    follower_count.append(follower)\n",
    "\n",
    "user_df[\"follower_count\"] = follower_count"
   ]
  },
  {
   "cell_type": "code",
   "execution_count": 21,
   "id": "d69f9b70",
   "metadata": {},
   "outputs": [
    {
     "name": "stdout",
     "output_type": "stream",
     "text": [
      "SmartHomeEU1    957\n",
      "ElectriveNet    688\n",
      "emobicon        453\n",
      "stang2k         197\n",
      "news_nowgmbh    132\n",
      "               ... \n",
      "optikfluffel      1\n",
      "tomul             1\n",
      "mitsuhiko         1\n",
      "sarfeld           1\n",
      "MAZirke           1\n",
      "Name: user, Length: 9351, dtype: int64\n"
     ]
    }
   ],
   "source": [
    "print(tweets_df['user'].value_counts())"
   ]
  },
  {
   "cell_type": "code",
   "execution_count": 23,
   "id": "3fd8562f",
   "metadata": {},
   "outputs": [
    {
     "name": "stdout",
     "output_type": "stream",
     "text": [
      "45192865.0\n"
     ]
    }
   ],
   "source": [
    "print(user_df['follower_count'].sum())"
   ]
  },
  {
   "cell_type": "code",
   "execution_count": 34,
   "id": "7a6940f3",
   "metadata": {},
   "outputs": [
    {
     "name": "stdout",
     "output_type": "stream",
     "text": [
      "0        114\n",
      "1       6641\n",
      "2        977\n",
      "3         11\n",
      "4        598\n",
      "        ... \n",
      "9346       5\n",
      "9347    2000\n",
      "9348     711\n",
      "9349    1033\n",
      "9350     387\n",
      "Name: follower_count, Length: 9351, dtype: object\n"
     ]
    }
   ],
   "source": [
    "user_df['follower_count'] = user_df['follower_count'].fillna('').astype(str).str.replace(\".0\",\"\",regex=False)\n",
    "print(user_df['follower_count'])"
   ]
  },
  {
   "cell_type": "code",
   "execution_count": 36,
   "id": "7782c06b",
   "metadata": {},
   "outputs": [],
   "source": [
    "user_df.to_csv(\"users_with_followers.csv\")"
   ]
  },
  {
   "cell_type": "code",
   "execution_count": 38,
   "id": "d3ffe471",
   "metadata": {},
   "outputs": [
    {
     "name": "stdout",
     "output_type": "stream",
     "text": [
      "                users follower_count\n",
      "0      ReinerKurzmann            114\n",
      "1     na_presseportal           6641\n",
      "2        SmartHomeEU1            977\n",
      "3          EPhisoloph             11\n",
      "4              Amie42            598\n",
      "...               ...            ...\n",
      "9346       chaase1337              5\n",
      "9347     Stefan_Urbat           2000\n",
      "9348    J_Hildermeier            711\n",
      "9349         kamil2_0           1033\n",
      "9350          MAZirke            387\n",
      "\n",
      "[9351 rows x 2 columns]\n"
     ]
    }
   ],
   "source": [
    "print(user_df)"
   ]
  },
  {
   "cell_type": "code",
   "execution_count": 39,
   "id": "1296c335",
   "metadata": {},
   "outputs": [],
   "source": [
    "unique_users = user_df['users'].tolist()"
   ]
  },
  {
   "cell_type": "code",
   "execution_count": 54,
   "id": "16509b80",
   "metadata": {},
   "outputs": [
    {
     "name": "stdout",
     "output_type": "stream",
     "text": [
      "9351\n",
      "ReinerKurzmann\n"
     ]
    }
   ],
   "source": [
    "print(len(unique_users))\n",
    "\n",
    "split_users = np.array_split(unique_users, 100)\n",
    "print(split_users[0])"
   ]
  },
  {
   "cell_type": "code",
   "execution_count": 61,
   "id": "13c96359",
   "metadata": {},
   "outputs": [
    {
     "name": "stderr",
     "output_type": "stream",
     "text": [
      "Rate limit exceeded. Sleeping for 546 seconds.\n"
     ]
    }
   ],
   "source": [
    "bearer_token = \"AAAAAAAAAAAAAAAAAAAAAOR%2BbwEAAAAASwiLtwOgXt%2FtG0EJIrLdaph2Xsw%3DspW7CHN0I6KBcjdy4BVvj75LpMAdgQ5l3DIkrcVWMFz8FLIHlz\"\n",
    "\n",
    "client = tweepy.Client(bearer_token, wait_on_rate_limit=True)\n",
    "\n",
    "user_id = []\n",
    "user_name = []\n",
    "for chunk in split_users:\n",
    "    users = \",\".join(chunk)\n",
    "\n",
    "    response = client.get_users(usernames=users)\n",
    "\n",
    "    for user in response.data:\n",
    "        user_id.append(user.id)\n",
    "        user_name.append(user.username)\n",
    "\n",
    "new_user_df = pd.DataFrame(user_id, columns = ['user_id'])\n",
    "new_user_df[\"user_name\"] = user_name\n"
   ]
  },
  {
   "cell_type": "code",
   "execution_count": 62,
   "id": "415ca81d",
   "metadata": {},
   "outputs": [
    {
     "name": "stdout",
     "output_type": "stream",
     "text": [
      "                  user_id        user_name\n",
      "0               372243368   ReinerKurzmann\n",
      "1                44894572  na_presseportal\n",
      "2     1254490069299322882     SmartHomeEU1\n",
      "3     1251959965209841664       EPhisoloph\n",
      "4               212992615           Amie42\n",
      "...                   ...              ...\n",
      "9319           3075117101       chaase1337\n",
      "9320             59542471     Stefan_Urbat\n",
      "9321           3068639057    J_Hildermeier\n",
      "9322             14829549         kamil2_0\n",
      "9323           4739156727          MAZirke\n",
      "\n",
      "[9324 rows x 2 columns]\n",
      "                users follower_count\n",
      "0      ReinerKurzmann            114\n",
      "1     na_presseportal           6641\n",
      "2        SmartHomeEU1            977\n",
      "3          EPhisoloph             11\n",
      "4              Amie42            598\n",
      "...               ...            ...\n",
      "9346       chaase1337              5\n",
      "9347     Stefan_Urbat           2000\n",
      "9348    J_Hildermeier            711\n",
      "9349         kamil2_0           1033\n",
      "9350          MAZirke            387\n",
      "\n",
      "[9351 rows x 2 columns]\n"
     ]
    }
   ],
   "source": [
    "print(new_user_df)\n",
    "print(user_df)"
   ]
  },
  {
   "cell_type": "code",
   "execution_count": 63,
   "id": "2bbea633",
   "metadata": {},
   "outputs": [],
   "source": [
    "merged_user_df = pd.merge(user_df, new_user_df, left_on='users', right_on='user_name', how='left')"
   ]
  },
  {
   "cell_type": "code",
   "execution_count": 66,
   "id": "26e04f9f",
   "metadata": {},
   "outputs": [
    {
     "name": "stdout",
     "output_type": "stream",
     "text": [
      "                users follower_count       user_id        user_name\n",
      "0      ReinerKurzmann            114  3.722434e+08   ReinerKurzmann\n",
      "1     na_presseportal           6641  4.489457e+07  na_presseportal\n",
      "2        SmartHomeEU1            977  1.254490e+18     SmartHomeEU1\n",
      "3          EPhisoloph             11  1.251960e+18       EPhisoloph\n",
      "4              Amie42            598  2.129926e+08           Amie42\n",
      "...               ...            ...           ...              ...\n",
      "9346       chaase1337              5  3.075117e+09       chaase1337\n",
      "9347     Stefan_Urbat           2000  5.954247e+07     Stefan_Urbat\n",
      "9348    J_Hildermeier            711  3.068639e+09    J_Hildermeier\n",
      "9349         kamil2_0           1033  1.482955e+07         kamil2_0\n",
      "9350          MAZirke            387  4.739157e+09          MAZirke\n",
      "\n",
      "[9351 rows x 4 columns]\n",
      "     follower_count       user_id        user_name\n",
      "0               114  3.722434e+08   ReinerKurzmann\n",
      "1              6641  4.489457e+07  na_presseportal\n",
      "2               977  1.254490e+18     SmartHomeEU1\n",
      "3                11  1.251960e+18       EPhisoloph\n",
      "4               598  2.129926e+08           Amie42\n",
      "...             ...           ...              ...\n",
      "9346              5  3.075117e+09       chaase1337\n",
      "9347           2000  5.954247e+07     Stefan_Urbat\n",
      "9348            711  3.068639e+09    J_Hildermeier\n",
      "9349           1033  1.482955e+07         kamil2_0\n",
      "9350            387  4.739157e+09          MAZirke\n",
      "\n",
      "[9351 rows x 3 columns]\n"
     ]
    },
    {
     "name": "stderr",
     "output_type": "stream",
     "text": [
      "C:\\Users\\fabia\\AppData\\Local\\Temp\\ipykernel_940\\3288864788.py:2: FutureWarning: In a future version of pandas all arguments of DataFrame.drop except for the argument 'labels' will be keyword-only.\n",
      "  merged_user_df = merged_user_df.drop('users', 1)\n"
     ]
    }
   ],
   "source": [
    "print(merged_user_df)\n",
    "merged_user_df = merged_user_df.drop('users', 1)\n",
    "print(merged_user_df)"
   ]
  },
  {
   "cell_type": "code",
   "execution_count": 68,
   "id": "59a3b1d2",
   "metadata": {},
   "outputs": [],
   "source": [
    "merged_user_df.to_csv(\"merged_user.csv\")"
   ]
  }
 ],
 "metadata": {
  "kernelspec": {
   "display_name": "Python 3 (ipykernel)",
   "language": "python",
   "name": "python3"
  },
  "language_info": {
   "codemirror_mode": {
    "name": "ipython",
    "version": 3
   },
   "file_extension": ".py",
   "mimetype": "text/x-python",
   "name": "python",
   "nbconvert_exporter": "python",
   "pygments_lexer": "ipython3",
   "version": "3.8.12"
  }
 },
 "nbformat": 4,
 "nbformat_minor": 5
}
