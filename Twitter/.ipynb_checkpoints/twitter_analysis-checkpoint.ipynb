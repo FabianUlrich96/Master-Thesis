{
 "cells": [
  {
   "cell_type": "code",
   "execution_count": 1,
   "id": "f53a8594",
   "metadata": {},
   "outputs": [],
   "source": [
    "import pandas as pd\n",
    "from vaderSentiment.vaderSentiment import SentimentIntensityAnalyzer\n",
    "import matplotlib.pyplot as plt\n",
    "import seaborn as sns\n",
    "sns.set_theme(palette=\"pastel\")\n",
    "from collections import Counter\n",
    "from itertools import combinations\n",
    "import bitermplus as btm\n",
    "import tmplot as tmp\n",
    "import re\n",
    "import tweepy\n",
    "import requests\n",
    "import numpy as np"
   ]
  },
  {
   "cell_type": "code",
   "execution_count": 2,
   "id": "0a3ba071",
   "metadata": {},
   "outputs": [],
   "source": [
    "work_dir = \"D:/OneDrive - Otto-Friedrich-Universität Bamberg/Master/Masterarbeit/Data\""
   ]
  },
  {
   "cell_type": "code",
   "execution_count": 81,
   "id": "12c60d88",
   "metadata": {},
   "outputs": [],
   "source": [
    "tweets_df = pd.read_csv(work_dir + \"/Twitter/all_tweets.csv\")"
   ]
  },
  {
   "cell_type": "code",
   "execution_count": 82,
   "id": "e3fc4480",
   "metadata": {},
   "outputs": [
    {
     "name": "stdout",
     "output_type": "stream",
     "text": [
      "(48278, 5)\n"
     ]
    }
   ],
   "source": [
    "print(tweets_df.shape)"
   ]
  },
  {
   "cell_type": "code",
   "execution_count": 83,
   "id": "a74e9e07",
   "metadata": {},
   "outputs": [],
   "source": [
    "tweets_df['date'] = pd.to_datetime(tweets_df['date'], errors='coerce')\n"
   ]
  },
  {
   "cell_type": "code",
   "execution_count": 84,
   "id": "82c74af4",
   "metadata": {},
   "outputs": [],
   "source": [
    "tweets_df = tweets_df[(tweets_df['date'] > \"2020-07-08\")]"
   ]
  },
  {
   "cell_type": "code",
   "execution_count": 85,
   "id": "adf4cd05",
   "metadata": {},
   "outputs": [
    {
     "name": "stdout",
     "output_type": "stream",
     "text": [
      "(23713, 5)\n",
      "0        @kkklawitter @EggMarkus @sepp_reitberger Das e...\n",
      "1        amperio GmbH: mobileeee und amperio starten la...\n",
      "2        Zur Ladeinfrastruktur für Elektrofahrzeuge geh...\n",
      "3        @chris_pyak @JRehborn @HerrPhteven Dazu noch n...\n",
      "4        @Mingiam10 @kkklawitter Mein Punkt ist ja der ...\n",
      "                               ...                        \n",
      "23708    @Solarfighter @BMWi_Bund @peteraltmaier @BAFA_...\n",
      "23709    @Solarfighter @peteraltmaier @BAFA_Bund Der Au...\n",
      "23710    #Tesla hat mit der Eröffnung des neuen #Superc...\n",
      "23711    @danjol_lupardo @Canstatt93 @Poveretto Das ist...\n",
      "23712    @BMWi_Bund @peteraltmaier @BAFA_Bund Weit und ...\n",
      "Name: tweet, Length: 23713, dtype: object\n"
     ]
    }
   ],
   "source": [
    "print(tweets_df.shape)\n",
    "print(tweets_df[\"tweet\"])"
   ]
  },
  {
   "cell_type": "code",
   "execution_count": 86,
   "id": "5bbb9737",
   "metadata": {},
   "outputs": [],
   "source": [
    "# calculate Tweet sentiment\n",
    "\n",
    "analyzer = SentimentIntensityAnalyzer()\n",
    "def calculate_sentiment(dataframe):\n",
    "    utf_encoded = dataframe[\"tweet\"].encode('utf-16', 'surrogatepass').decode('utf-16')\n",
    "    vs = analyzer.polarity_scores(utf_encoded)\n",
    "    neg_list.append(vs[\"neg\"])\n",
    "    neu_list.append(vs[\"neu\"])\n",
    "    pos_list.append(vs[\"pos\"])\n",
    "    com_list.append(vs[\"compound\"])\n",
    "    return dataframe"
   ]
  },
  {
   "cell_type": "code",
   "execution_count": 87,
   "id": "a52f7303",
   "metadata": {},
   "outputs": [],
   "source": [
    "neg_list = []\n",
    "neu_list = []\n",
    "pos_list = []\n",
    "com_list = []\n",
    "tweets_df = tweets_df.apply(lambda x: calculate_sentiment(x), axis=1)"
   ]
  },
  {
   "cell_type": "code",
   "execution_count": 88,
   "id": "07bf033d",
   "metadata": {},
   "outputs": [],
   "source": [
    "tweets_df[\"negative\"] = neg_list\n",
    "tweets_df[\"neutral\"] = neu_list\n",
    "tweets_df[\"positive\"] = pos_list\n",
    "tweets_df[\"compound\"] = com_list"
   ]
  },
  {
   "cell_type": "code",
   "execution_count": 89,
   "id": "78556904",
   "metadata": {},
   "outputs": [
    {
     "name": "stdout",
     "output_type": "stream",
     "text": [
      "       Unnamed: 0                      date             user  \\\n",
      "0               0 2022-04-26 08:44:26+00:00   ReinerKurzmann   \n",
      "1               1 2022-04-26 08:44:03+00:00  na_presseportal   \n",
      "2               2 2022-04-26 08:40:02+00:00     SmartHomeEU1   \n",
      "3               3 2022-04-26 08:32:54+00:00       EPhisoloph   \n",
      "4               4 2022-04-26 08:26:51+00:00           Amie42   \n",
      "...           ...                       ...              ...   \n",
      "23708       23708 2020-07-08 06:52:18+00:00    J_Hildermeier   \n",
      "23709       23709 2020-07-08 06:40:56+00:00             BMWK   \n",
      "23710       23710 2020-07-08 06:30:25+00:00     ElectriveNet   \n",
      "23711       23711 2020-07-08 04:29:36+00:00         kamil2_0   \n",
      "23712       23712 2020-07-08 04:23:03+00:00          MAZirke   \n",
      "\n",
      "                                                   tweet  \\\n",
      "0      @kkklawitter @EggMarkus @sepp_reitberger Das e...   \n",
      "1      amperio GmbH: mobileeee und amperio starten la...   \n",
      "2      Zur Ladeinfrastruktur für Elektrofahrzeuge geh...   \n",
      "3      @chris_pyak @JRehborn @HerrPhteven Dazu noch n...   \n",
      "4      @Mingiam10 @kkklawitter Mein Punkt ist ja der ...   \n",
      "...                                                  ...   \n",
      "23708  @Solarfighter @BMWi_Bund @peteraltmaier @BAFA_...   \n",
      "23709  @Solarfighter @peteraltmaier @BAFA_Bund Der Au...   \n",
      "23710  #Tesla hat mit der Eröffnung des neuen #Superc...   \n",
      "23711  @danjol_lupardo @Canstatt93 @Poveretto Das ist...   \n",
      "23712  @BMWi_Bund @peteraltmaier @BAFA_Bund Weit und ...   \n",
      "\n",
      "                                                     url  negative  neutral  \\\n",
      "0      https://twitter.com/ReinerKurzmann/status/1518...     0.154    0.846   \n",
      "1      https://twitter.com/na_presseportal/status/151...     0.000    1.000   \n",
      "2      https://twitter.com/SmartHomeEU1/status/151887...     0.000    1.000   \n",
      "3      https://twitter.com/EPhisoloph/status/15188707...     0.000    1.000   \n",
      "4      https://twitter.com/Amie42/status/151886919943...     0.178    0.822   \n",
      "...                                                  ...       ...      ...   \n",
      "23708  https://twitter.com/J_Hildermeier/status/12807...     0.000    1.000   \n",
      "23709  https://twitter.com/BMWK/status/12807537188126...     0.000    1.000   \n",
      "23710  https://twitter.com/ElectriveNet/status/128075...     0.157    0.843   \n",
      "23711  https://twitter.com/kamil2_0/status/1280720665...     0.087    0.913   \n",
      "23712  https://twitter.com/MAZirke/status/12807190175...     0.000    1.000   \n",
      "\n",
      "       positive  compound  \n",
      "0           0.0   -0.8316  \n",
      "1           0.0    0.0000  \n",
      "2           0.0    0.0000  \n",
      "3           0.0    0.0000  \n",
      "4           0.0   -0.8316  \n",
      "...         ...       ...  \n",
      "23708       0.0    0.0000  \n",
      "23709       0.0    0.0000  \n",
      "23710       0.0   -0.5994  \n",
      "23711       0.0   -0.5994  \n",
      "23712       0.0    0.0000  \n",
      "\n",
      "[23713 rows x 9 columns]\n"
     ]
    }
   ],
   "source": [
    "print(tweets_df)"
   ]
  },
  {
   "cell_type": "code",
   "execution_count": 90,
   "id": "142de78f",
   "metadata": {},
   "outputs": [],
   "source": [
    "def assign_sentiment(row):\n",
    "    float_compound = float(row['compound'])\n",
    "    if float_compound >= 0.05:\n",
    "        val = 'Positive'\n",
    "    elif float_compound <= -0.05:\n",
    "        val = 'Negative'\n",
    "    else:\n",
    "        val = 'Neutral'\n",
    "    return val"
   ]
  },
  {
   "cell_type": "code",
   "execution_count": 91,
   "id": "a7d55b82",
   "metadata": {},
   "outputs": [],
   "source": [
    "tweets_df['sentiment'] = tweets_df.apply(assign_sentiment, axis=1)"
   ]
  },
  {
   "cell_type": "code",
   "execution_count": 92,
   "id": "2f5180ed",
   "metadata": {},
   "outputs": [],
   "source": [
    "tweet_sentiment = tweets_df.groupby(['sentiment']).size()\n",
    "\n",
    "positive = tweet_sentiment['Positive']\n",
    "neutral = tweet_sentiment['Neutral']\n",
    "negative = tweet_sentiment['Negative']\n",
    "\n",
    "labels = ['Positive', 'Neutral', 'Negative' ]\n",
    "sentiment_count = [positive, neutral, negative]"
   ]
  },
  {
   "cell_type": "code",
   "execution_count": 93,
   "id": "86d2f711",
   "metadata": {},
   "outputs": [
    {
     "data": {
      "image/png": "[encoded data removed]",
      "text/plain": [
       "<Figure size 432x288 with 1 Axes>"
      ]
     },
     "metadata": {},
     "output_type": "display_data"
    }
   ],
   "source": [
    "plt.pie(sentiment_count, labels = labels, autopct='%.0f%%')\n",
    "plt.show()"
   ]
  },
  {
   "cell_type": "code",
   "execution_count": 94,
   "id": "2f889975",
   "metadata": {},
   "outputs": [
    {
     "name": "stdout",
     "output_type": "stream",
     "text": [
      "0         ReinerKurzmann\n",
      "1        na_presseportal\n",
      "2           SmartHomeEU1\n",
      "3             EPhisoloph\n",
      "4                 Amie42\n",
      "              ...       \n",
      "23708      J_Hildermeier\n",
      "23709               BMWK\n",
      "23710       ElectriveNet\n",
      "23711           kamil2_0\n",
      "23712            MAZirke\n",
      "Name: user, Length: 23713, dtype: object\n"
     ]
    }
   ],
   "source": [
    "print(tweets_df[\"user\"])"
   ]
  },
  {
   "cell_type": "code",
   "execution_count": 20,
   "id": "72938926",
   "metadata": {},
   "outputs": [],
   "source": [
    "unique_users = tweets_df[\"user\"].unique()\n",
    "\n",
    "user_df = pd.DataFrame(unique_users, columns = ['users'])\n",
    "\n",
    "follower_count = []\n",
    "\n",
    "for user in unique_users:\n",
    "    str_user = str(user)\n",
    "    request_link = \"https://cdn.syndication.twimg.com/widgets/followbutton/info.json?screen_names=\"+str_user\n",
    "    \n",
    "    try:\n",
    "        request_result = requests.get(request_link).json()\n",
    "    except:\n",
    "        request_result = None\n",
    "    \n",
    "    try:\n",
    "        follower = int(request_result[0][\"followers_count\"])\n",
    "    except:\n",
    "        follower = None\n",
    "    \n",
    "    follower_count.append(follower)\n",
    "\n",
    "user_df[\"follower_count\"] = follower_count"
   ]
  },
  {
   "cell_type": "code",
   "execution_count": 21,
   "id": "a6463a5c",
   "metadata": {},
   "outputs": [
    {
     "name": "stdout",
     "output_type": "stream",
     "text": [
      "SmartHomeEU1    957\n",
      "ElectriveNet    688\n",
      "emobicon        453\n",
      "stang2k         197\n",
      "news_nowgmbh    132\n",
      "               ... \n",
      "optikfluffel      1\n",
      "tomul             1\n",
      "mitsuhiko         1\n",
      "sarfeld           1\n",
      "MAZirke           1\n",
      "Name: user, Length: 9351, dtype: int64\n"
     ]
    }
   ],
   "source": [
    "print(tweets_df['user'].value_counts())"
   ]
  },
  {
   "cell_type": "code",
   "execution_count": 23,
   "id": "c468cc38",
   "metadata": {},
   "outputs": [
    {
     "name": "stdout",
     "output_type": "stream",
     "text": [
      "45192865.0\n"
     ]
    }
   ],
   "source": [
    "print(user_df['follower_count'].sum())"
   ]
  },
  {
   "cell_type": "code",
   "execution_count": 34,
   "id": "f9dd3f5e",
   "metadata": {},
   "outputs": [
    {
     "name": "stdout",
     "output_type": "stream",
     "text": [
      "0        114\n",
      "1       6641\n",
      "2        977\n",
      "3         11\n",
      "4        598\n",
      "        ... \n",
      "9346       5\n",
      "9347    2000\n",
      "9348     711\n",
      "9349    1033\n",
      "9350     387\n",
      "Name: follower_count, Length: 9351, dtype: object\n"
     ]
    }
   ],
   "source": [
    "user_df['follower_count'] = user_df['follower_count'].fillna('').astype(str).str.replace(\".0\",\"\",regex=False)\n",
    "print(user_df['follower_count'])"
   ]
  },
  {
   "cell_type": "code",
   "execution_count": 36,
   "id": "7eb7646d",
   "metadata": {},
   "outputs": [],
   "source": [
    "user_df.to_csv(\"users_with_followers.csv\")"
   ]
  },
  {
   "cell_type": "code",
   "execution_count": 38,
   "id": "2dc73798",
   "metadata": {},
   "outputs": [
    {
     "name": "stdout",
     "output_type": "stream",
     "text": [
      "                users follower_count\n",
      "0      ReinerKurzmann            114\n",
      "1     na_presseportal           6641\n",
      "2        SmartHomeEU1            977\n",
      "3          EPhisoloph             11\n",
      "4              Amie42            598\n",
      "...               ...            ...\n",
      "9346       chaase1337              5\n",
      "9347     Stefan_Urbat           2000\n",
      "9348    J_Hildermeier            711\n",
      "9349         kamil2_0           1033\n",
      "9350          MAZirke            387\n",
      "\n",
      "[9351 rows x 2 columns]\n"
     ]
    }
   ],
   "source": [
    "print(user_df)"
   ]
  },
  {
   "cell_type": "code",
   "execution_count": 39,
   "id": "323aa8e4",
   "metadata": {},
   "outputs": [],
   "source": [
    "unique_users = user_df['users'].tolist()"
   ]
  },
  {
   "cell_type": "code",
   "execution_count": 54,
   "id": "664e389d",
   "metadata": {},
   "outputs": [
    {
     "name": "stdout",
     "output_type": "stream",
     "text": [
      "9351\n",
      "ReinerKurzmann\n"
     ]
    }
   ],
   "source": [
    "print(len(unique_users))\n",
    "\n",
    "split_users = np.array_split(unique_users, 100)\n",
    "print(split_users[0])"
   ]
  },
  {
   "cell_type": "code",
   "execution_count": 61,
   "id": "0b56b857",
   "metadata": {},
   "outputs": [
    {
     "name": "stderr",
     "output_type": "stream",
     "text": [
      "Rate limit exceeded. Sleeping for 546 seconds.\n"
     ]
    }
   ],
   "source": [
    "bearer_token = \"AAAAAAAAAAAAAAAAAAAAAOR%2BbwEAAAAASwiLtwOgXt%2FtG0EJIrLdaph2Xsw%3DspW7CHN0I6KBcjdy4BVvj75LpMAdgQ5l3DIkrcVWMFz8FLIHlz\"\n",
    "\n",
    "client = tweepy.Client(bearer_token, wait_on_rate_limit=True)\n",
    "\n",
    "user_id = []\n",
    "user_name = []\n",
    "for chunk in split_users:\n",
    "    users = \",\".join(chunk)\n",
    "\n",
    "    response = client.get_users(usernames=users)\n",
    "\n",
    "    for user in response.data:\n",
    "        user_id.append(user.id)\n",
    "        user_name.append(user.username)\n",
    "\n",
    "new_user_df = pd.DataFrame(user_id, columns = ['user_id'])\n",
    "new_user_df[\"user_name\"] = user_name"
   ]
  },
  {
   "cell_type": "code",
   "execution_count": 62,
   "id": "6b231a5f",
   "metadata": {},
   "outputs": [
    {
     "name": "stdout",
     "output_type": "stream",
     "text": [
      "                  user_id        user_name\n",
      "0               372243368   ReinerKurzmann\n",
      "1                44894572  na_presseportal\n",
      "2     1254490069299322882     SmartHomeEU1\n",
      "3     1251959965209841664       EPhisoloph\n",
      "4               212992615           Amie42\n",
      "...                   ...              ...\n",
      "9319           3075117101       chaase1337\n",
      "9320             59542471     Stefan_Urbat\n",
      "9321           3068639057    J_Hildermeier\n",
      "9322             14829549         kamil2_0\n",
      "9323           4739156727          MAZirke\n",
      "\n",
      "[9324 rows x 2 columns]\n",
      "                users follower_count\n",
      "0      ReinerKurzmann            114\n",
      "1     na_presseportal           6641\n",
      "2        SmartHomeEU1            977\n",
      "3          EPhisoloph             11\n",
      "4              Amie42            598\n",
      "...               ...            ...\n",
      "9346       chaase1337              5\n",
      "9347     Stefan_Urbat           2000\n",
      "9348    J_Hildermeier            711\n",
      "9349         kamil2_0           1033\n",
      "9350          MAZirke            387\n",
      "\n",
      "[9351 rows x 2 columns]\n"
     ]
    }
   ],
   "source": [
    "print(new_user_df)\n",
    "print(user_df)"
   ]
  },
  {
   "cell_type": "code",
   "execution_count": 63,
   "id": "58ab4313",
   "metadata": {},
   "outputs": [],
   "source": [
    "merged_user_df = pd.merge(user_df, new_user_df, left_on='users', right_on='user_name', how='left')"
   ]
  },
  {
   "cell_type": "code",
   "execution_count": 77,
   "id": "a21c1367",
   "metadata": {},
   "outputs": [],
   "source": [
    "merged_user_df[\"user_id\"] = merged_user_df[\"user_id\"].astype('Int64')"
   ]
  },
  {
   "cell_type": "code",
   "execution_count": 80,
   "id": "d6d17c1e",
   "metadata": {},
   "outputs": [
    {
     "name": "stdout",
     "output_type": "stream",
     "text": [
      "     follower_count              user_id        user_name\n",
      "0               114            372243368   ReinerKurzmann\n",
      "1              6641             44894572  na_presseportal\n",
      "2               977  1254490069299322880     SmartHomeEU1\n",
      "3                11  1251959965209841664       EPhisoloph\n",
      "4               598            212992615           Amie42\n",
      "...             ...                  ...              ...\n",
      "9346              5           3075117101       chaase1337\n",
      "9347           2000             59542471     Stefan_Urbat\n",
      "9348            711           3068639057    J_Hildermeier\n",
      "9349           1033             14829549         kamil2_0\n",
      "9350            387           4739156727          MAZirke\n",
      "\n",
      "[9351 rows x 3 columns]\n"
     ]
    }
   ],
   "source": [
    "print(merged_user_df)"
   ]
  },
  {
   "cell_type": "code",
   "execution_count": 81,
   "id": "142ec893",
   "metadata": {},
   "outputs": [],
   "source": [
    "merged_user_df.to_csv(\"merged_user.csv\")"
   ]
  },
  {
   "cell_type": "code",
   "execution_count": 99,
   "id": "21fb8d86",
   "metadata": {},
   "outputs": [],
   "source": [
    "# Topic Modelling\n",
    "\n",
    "# Remove punctuation\n",
    "tweets_df['tweet_processed'] = tweets_df['tweet'].map(lambda x: re.sub('[,\\.!?]', '', x))\n",
    "# Convert the titles to lowercase\n",
    "tweets_df['tweet_processed'] = tweets_df['tweet'].map(lambda x: x.lower())\n",
    "\n",
    "tweets = tweets_df['tweet_processed'].str.strip().tolist()\n",
    "\n",
    "# PREPROCESSING\n",
    "# Obtaining terms frequency in a sparse matrix and corpus vocabulary\n",
    "tweets_X, tweets_vocabulary, tweets_vocab_dict = btm.get_words_freqs(tweets)\n",
    "tweets_tf = np.array(tweets_X.sum(axis=0)).ravel()"
   ]
  },
  {
   "cell_type": "code",
   "execution_count": 100,
   "id": "fdf58573",
   "metadata": {},
   "outputs": [],
   "source": [
    "# Vectorizing documents\n",
    "tweets_docs_vec = btm.get_vectorized_docs(tweets, tweets_vocabulary)\n",
    "tweets_docs_lens = list(map(len, tweets_docs_vec))"
   ]
  },
  {
   "cell_type": "code",
   "execution_count": 101,
   "id": "c065f9bd",
   "metadata": {},
   "outputs": [],
   "source": [
    "# Generating title biterms\n",
    "tweets_biterms = btm.get_biterms(tweets_docs_vec)"
   ]
  },
  {
   "cell_type": "code",
   "execution_count": 102,
   "id": "f5f6b6de",
   "metadata": {},
   "outputs": [],
   "source": [
    "# Initializing and running titles model\n",
    "def btm_model(topics, alpha, beta):\n",
    "    tweets_model = btm.BTM(\n",
    "        tweets_X, tweets_vocabulary, seed=12321, T=topics, M=5, alpha=alpha, beta=beta)\n",
    "    tweets_model.fit(tweets_biterms, iterations=20)\n",
    "    tweets_p_zd = tweets_model.transform(tweets_docs_vec)\n",
    "    \n",
    "    return tweets_model\n",
    "\n",
    "def Average(l): \n",
    "    avg = sum(l) / len(l) \n",
    "    return avg"
   ]
  },
  {
   "cell_type": "code",
   "execution_count": 103,
   "id": "d08a50f4",
   "metadata": {},
   "outputs": [
    {
     "name": "stderr",
     "output_type": "stream",
     "text": [
      "100%|██████████████████████████████████████████████████████████████████████████████████| 20/20 [00:05<00:00,  3.55it/s]\n",
      "100%|█████████████████████████████████████████████████████████████████████████| 23713/23713 [00:00<00:00, 34435.62it/s]\n",
      "100%|██████████████████████████████████████████████████████████████████████████████████| 20/20 [00:06<00:00,  3.07it/s]\n",
      "100%|█████████████████████████████████████████████████████████████████████████| 23713/23713 [00:00<00:00, 31288.82it/s]\n",
      "100%|██████████████████████████████████████████████████████████████████████████████████| 20/20 [00:07<00:00,  2.68it/s]\n",
      "100%|█████████████████████████████████████████████████████████████████████████| 23713/23713 [00:00<00:00, 29185.62it/s]\n",
      "100%|██████████████████████████████████████████████████████████████████████████████████| 20/20 [00:08<00:00,  2.39it/s]\n",
      "100%|█████████████████████████████████████████████████████████████████████████| 23713/23713 [00:00<00:00, 25795.19it/s]\n",
      "100%|██████████████████████████████████████████████████████████████████████████████████| 20/20 [00:09<00:00,  2.17it/s]\n",
      "100%|█████████████████████████████████████████████████████████████████████████| 23713/23713 [00:01<00:00, 22395.64it/s]\n",
      "100%|██████████████████████████████████████████████████████████████████████████████████| 20/20 [00:13<00:00,  1.44it/s]\n",
      "100%|█████████████████████████████████████████████████████████████████████████| 23713/23713 [00:01<00:00, 23134.94it/s]\n",
      "100%|██████████████████████████████████████████████████████████████████████████████████| 20/20 [00:10<00:00,  1.95it/s]\n",
      "100%|█████████████████████████████████████████████████████████████████████████| 23713/23713 [00:00<00:00, 28814.78it/s]\n",
      "100%|██████████████████████████████████████████████████████████████████████████████████| 20/20 [00:14<00:00,  1.34it/s]\n",
      "100%|█████████████████████████████████████████████████████████████████████████| 23713/23713 [00:00<00:00, 26491.87it/s]\n",
      "100%|██████████████████████████████████████████████████████████████████████████████████| 20/20 [00:12<00:00,  1.65it/s]\n",
      "100%|█████████████████████████████████████████████████████████████████████████| 23713/23713 [00:00<00:00, 26218.88it/s]\n",
      "100%|██████████████████████████████████████████████████████████████████████████████████| 20/20 [00:14<00:00,  1.40it/s]\n",
      "100%|█████████████████████████████████████████████████████████████████████████| 23713/23713 [00:01<00:00, 21828.50it/s]\n",
      "100%|██████████████████████████████████████████████████████████████████████████████████| 20/20 [00:17<00:00,  1.13it/s]\n",
      "100%|█████████████████████████████████████████████████████████████████████████| 23713/23713 [00:01<00:00, 22191.44it/s]\n",
      "100%|██████████████████████████████████████████████████████████████████████████████████| 20/20 [00:17<00:00,  1.16it/s]\n",
      "100%|█████████████████████████████████████████████████████████████████████████| 23713/23713 [00:01<00:00, 20807.00it/s]\n",
      "100%|██████████████████████████████████████████████████████████████████████████████████| 20/20 [00:17<00:00,  1.15it/s]\n",
      "100%|█████████████████████████████████████████████████████████████████████████| 23713/23713 [00:01<00:00, 21542.77it/s]\n"
     ]
    }
   ],
   "source": [
    "# Determening the number of topics by running the model with a fixed alpha = 0.01 and beta = 0.1\n",
    "coherence_list = []\n",
    "perplexity_list = []\n",
    "# Topics range\n",
    "min_topics = 2\n",
    "max_topics = 15\n",
    "step_size = 1\n",
    "topics_range = range(min_topics, max_topics, step_size)\n",
    "\n",
    "for k in topics_range:\n",
    "    # get the coherence score for the given parameters\n",
    "    model = btm_model(k, 0.1, 0.1)\n",
    "            \n",
    "    perplexity = model.perplexity_\n",
    "    coherence = model.coherence_\n",
    "    \n",
    "    coherence_list.append(Average(coherence))\n",
    "    perplexity_list.append(perplexity)"
   ]
  },
  {
   "cell_type": "code",
   "execution_count": 104,
   "id": "a7b96a4d",
   "metadata": {},
   "outputs": [
    {
     "data": {
      "image/png": "[encoded data removed]",
      "text/plain": [
       "<Figure size 432x288 with 1 Axes>"
      ]
     },
     "metadata": {},
     "output_type": "display_data"
    },
    {
     "name": "stdout",
     "output_type": "stream",
     "text": [
      "8 -9.615524489328465\n"
     ]
    }
   ],
   "source": [
    "ymax = max(coherence_list)\n",
    "ymax_string = str(ymax)\n",
    "xpos = coherence_list.index(ymax)\n",
    "xmax = topics_range[xpos]\n",
    "xmax_string = str(xmax)\n",
    "plt.plot(topics_range, coherence_list)\n",
    "plt.xlabel(\"Number of Topics\")\n",
    "plt.ylabel(\"Coherence Score\")\n",
    "plt.annotate(xmax_string + ' Topics' , xy=(xmax, ymax), xytext=(xmax, ymax+1),\n",
    "            arrowprops=dict(facecolor='black', shrink=0.22),\n",
    "            )\n",
    "plt.show()\n",
    "\n",
    "print(xmax, ymax)"
   ]
  },
  {
   "cell_type": "code",
   "execution_count": 105,
   "id": "a852c7af",
   "metadata": {},
   "outputs": [
    {
     "data": {
      "image/png": "[encoded data removed]",
      "text/plain": [
       "<Figure size 432x288 with 1 Axes>"
      ]
     },
     "metadata": {},
     "output_type": "display_data"
    }
   ],
   "source": [
    "plt.plot(topics_range, perplexity_list)\n",
    "plt.xlabel(\"Number of Topics\")\n",
    "plt.ylabel(\"Perplexity Score\")\n",
    "plt.show()"
   ]
  },
  {
   "cell_type": "code",
   "execution_count": 106,
   "id": "3e934411",
   "metadata": {},
   "outputs": [
    {
     "name": "stderr",
     "output_type": "stream",
     "text": [
      "100%|██████████████████████████████████████████████████████████████████████████████████| 20/20 [00:11<00:00,  1.68it/s]\n",
      "100%|█████████████████████████████████████████████████████████████████████████| 23713/23713 [00:01<00:00, 23649.58it/s]\n",
      "100%|██████████████████████████████████████████████████████████████████████████████████| 20/20 [00:11<00:00,  1.71it/s]\n",
      "100%|█████████████████████████████████████████████████████████████████████████| 23713/23713 [00:00<00:00, 24556.54it/s]\n",
      "100%|██████████████████████████████████████████████████████████████████████████████████| 20/20 [00:11<00:00,  1.82it/s]\n",
      "100%|█████████████████████████████████████████████████████████████████████████| 23713/23713 [00:00<00:00, 28792.25it/s]\n",
      "100%|██████████████████████████████████████████████████████████████████████████████████| 20/20 [00:10<00:00,  1.89it/s]\n",
      "100%|█████████████████████████████████████████████████████████████████████████| 23713/23713 [00:00<00:00, 24706.77it/s]\n",
      "100%|██████████████████████████████████████████████████████████████████████████████████| 20/20 [00:10<00:00,  1.83it/s]\n",
      "100%|█████████████████████████████████████████████████████████████████████████| 23713/23713 [00:01<00:00, 21510.08it/s]\n",
      "100%|██████████████████████████████████████████████████████████████████████████████████| 20/20 [00:10<00:00,  1.97it/s]\n",
      "100%|█████████████████████████████████████████████████████████████████████████| 23713/23713 [00:00<00:00, 26935.36it/s]\n",
      "100%|██████████████████████████████████████████████████████████████████████████████████| 20/20 [00:10<00:00,  1.85it/s]\n",
      "100%|█████████████████████████████████████████████████████████████████████████| 23713/23713 [00:00<00:00, 28092.87it/s]\n",
      "100%|██████████████████████████████████████████████████████████████████████████████████| 20/20 [00:10<00:00,  1.85it/s]\n",
      "100%|█████████████████████████████████████████████████████████████████████████| 23713/23713 [00:00<00:00, 24611.33it/s]\n",
      "100%|██████████████████████████████████████████████████████████████████████████████████| 20/20 [00:10<00:00,  1.86it/s]\n",
      "100%|█████████████████████████████████████████████████████████████████████████| 23713/23713 [00:00<00:00, 26511.24it/s]\n",
      "100%|██████████████████████████████████████████████████████████████████████████████████| 20/20 [00:11<00:00,  1.74it/s]\n",
      "100%|█████████████████████████████████████████████████████████████████████████| 23713/23713 [00:01<00:00, 23091.07it/s]\n",
      "100%|██████████████████████████████████████████████████████████████████████████████████| 20/20 [00:10<00:00,  1.90it/s]\n",
      "100%|█████████████████████████████████████████████████████████████████████████| 23713/23713 [00:01<00:00, 22239.69it/s]\n",
      "100%|██████████████████████████████████████████████████████████████████████████████████| 20/20 [00:11<00:00,  1.72it/s]\n",
      "100%|█████████████████████████████████████████████████████████████████████████| 23713/23713 [00:00<00:00, 28211.57it/s]\n",
      "100%|██████████████████████████████████████████████████████████████████████████████████| 20/20 [00:11<00:00,  1.73it/s]\n",
      "100%|█████████████████████████████████████████████████████████████████████████| 23713/23713 [00:01<00:00, 23221.99it/s]\n",
      "100%|██████████████████████████████████████████████████████████████████████████████████| 20/20 [00:10<00:00,  1.88it/s]\n",
      "100%|█████████████████████████████████████████████████████████████████████████| 23713/23713 [00:00<00:00, 26766.68it/s]\n",
      "100%|██████████████████████████████████████████████████████████████████████████████████| 20/20 [00:10<00:00,  1.93it/s]\n",
      "100%|█████████████████████████████████████████████████████████████████████████| 23713/23713 [00:00<00:00, 27072.13it/s]\n",
      "100%|██████████████████████████████████████████████████████████████████████████████████| 20/20 [00:12<00:00,  1.60it/s]\n",
      "100%|█████████████████████████████████████████████████████████████████████████| 23713/23713 [00:00<00:00, 26371.20it/s]\n"
     ]
    }
   ],
   "source": [
    "# Topic parameter \n",
    "k = 8\n",
    "# Alpha parameter\n",
    "alpha = list(np.arange(0.01, 1, 0.3))\n",
    "\n",
    "# Beta parameter\n",
    "beta = list(np.arange(0.01, 1, 0.3))\n",
    "\n",
    "model_results = {'Alpha': [],\n",
    "                 'Beta': [],\n",
    "                 'Coherence': [],\n",
    "                 'Perplexity': []\n",
    "                }\n",
    "\n",
    "\n",
    "# iterate through alpha values\n",
    "for a in alpha:\n",
    "    # iterare through beta values\n",
    "    for b in beta:\n",
    "        # get the coherence score for the given parameters\n",
    "        model = btm_model(k, a, b)\n",
    "            \n",
    "        perplexity = model.perplexity_\n",
    "        coherence = model.coherence_\n",
    "            \n",
    "        # Save the model results\n",
    "        model_results['Alpha'].append(a)\n",
    "        model_results['Beta'].append(b)\n",
    "        model_results['Coherence'].append(Average(coherence))\n",
    "        model_results['Perplexity'].append(perplexity)"
   ]
  },
  {
   "cell_type": "code",
   "execution_count": 107,
   "id": "0568936d",
   "metadata": {},
   "outputs": [
    {
     "name": "stdout",
     "output_type": "stream",
     "text": [
      "    Alpha  Beta  Coherence   Perplexity\n",
      "0    0.01  0.01  -9.162313  3662.855913\n",
      "1    0.01  0.31  -9.644494  2535.168049\n",
      "2    0.01  0.61 -10.392308  2396.530163\n",
      "3    0.01  0.91 -10.354925  2329.340579\n",
      "4    0.31  0.01  -9.162313  3660.852523\n",
      "5    0.31  0.31  -9.644494  2533.796215\n",
      "6    0.31  0.61 -10.392308  2395.830157\n",
      "7    0.31  0.91 -10.354925  2329.490433\n",
      "8    0.61  0.01  -9.162313  3660.386199\n",
      "9    0.61  0.31  -9.644494  2538.187799\n",
      "10   0.61  0.61 -10.392308  2394.109076\n",
      "11   0.61  0.91 -10.354925  2329.603872\n",
      "12   0.91  0.01  -9.162313  3659.712782\n",
      "13   0.91  0.31  -9.644494  2538.857303\n",
      "14   0.91  0.61 -10.392308  2396.391753\n",
      "15   0.91  0.91 -10.582920  2328.015445\n"
     ]
    }
   ],
   "source": [
    "benchmark_df = pd.DataFrame(model_results)\n",
    "print(benchmark_df)\n",
    "\n",
    "benchmark_df.to_csv(\"benchmark.csv\", index=False)"
   ]
  },
  {
   "cell_type": "code",
   "execution_count": 109,
   "id": "94c11851",
   "metadata": {},
   "outputs": [
    {
     "name": "stderr",
     "output_type": "stream",
     "text": [
      "100%|██████████████████████████████████████████████████████████████████████████████████| 20/20 [00:11<00:00,  1.69it/s]\n",
      "100%|█████████████████████████████████████████████████████████████████████████| 23713/23713 [00:00<00:00, 24459.59it/s]\n"
     ]
    }
   ],
   "source": [
    "# Choosen highest coherence with a trade-off for a higher perplexity because of a higher semantic correlation to make it easier to interpret\n",
    "tweets_model = btm.BTM(\n",
    "tweets_X, tweets_vocabulary, seed=12321, T=8, M=5, alpha=0.01, beta=0.01)\n",
    "tweets_model.fit(tweets_biterms, iterations=20)\n",
    "tweets_p_zd = tweets_model.transform(tweets_docs_vec)"
   ]
  },
  {
   "cell_type": "code",
   "execution_count": 110,
   "id": "2e6df2be",
   "metadata": {},
   "outputs": [
    {
     "name": "stderr",
     "output_type": "stream",
     "text": [
      "100%|█████████████████████████████████████████████████████████████████████████| 23713/23713 [00:00<00:00, 25223.59it/s]\n"
     ]
    }
   ],
   "source": [
    "p_zd = tweets_model.transform(tweets_docs_vec)"
   ]
  },
  {
   "cell_type": "code",
   "execution_count": 124,
   "id": "34a03dbc",
   "metadata": {},
   "outputs": [],
   "source": [
    "words_topics_df = tweets_model.df_words_topics_\n",
    "\n",
    "words_topics_0 = pd.DataFrame(words_topics_df[0])\n",
    "words_topics_0[\"word\"] = words_topics_df.index\n",
    "\n",
    "words_topics_1 = pd.DataFrame(words_topics_df[1])\n",
    "words_topics_1[\"word\"] = words_topics_df.index\n",
    "\n",
    "words_topics_2 = pd.DataFrame(words_topics_df[2])\n",
    "words_topics_2[\"word\"] = words_topics_df.index\n",
    "\n",
    "words_topics_3 = pd.DataFrame(words_topics_df[3])\n",
    "words_topics_3[\"word\"] = words_topics_df.index\n",
    "\n",
    "words_topics_4 = pd.DataFrame(words_topics_df[4])\n",
    "words_topics_4[\"word\"] = words_topics_df.index\n",
    "\n",
    "words_topics_5 = pd.DataFrame(words_topics_df[5])\n",
    "words_topics_5[\"word\"] = words_topics_df.index\n",
    "\n",
    "words_topics_6 = pd.DataFrame(words_topics_df[6])\n",
    "words_topics_6[\"word\"] = words_topics_df.index\n",
    "\n",
    "words_topics_7 = pd.DataFrame(words_topics_df[7])\n",
    "words_topics_7[\"word\"] = words_topics_df.index"
   ]
  },
  {
   "cell_type": "code",
   "execution_count": 113,
   "id": "86b90507",
   "metadata": {},
   "outputs": [
    {
     "name": "stdout",
     "output_type": "stream",
     "text": [
      "                  0       word\n",
      "die        0.035481        die\n",
      "der        0.033102        der\n",
      "und        0.027327        und\n",
      "in         0.018923         in\n",
      "das        0.017049        das\n",
      "ladesäule  0.015758  ladesäule\n",
      "an         0.014937         an\n",
      "ist        0.014718        ist\n",
      "mit        0.013606        mit\n",
      "den        0.013583        den\n"
     ]
    },
    {
     "data": {
      "image/png": "[encoded data removed]",
      "text/plain": [
       "<Figure size 432x288 with 1 Axes>"
      ]
     },
     "metadata": {},
     "output_type": "display_data"
    }
   ],
   "source": [
    "top_0 = words_topics_0.nlargest(10, 0)\n",
    "\n",
    "print(top_0)\n",
    "ax = sns.barplot(x=0, y=\"word\", data=top_0)"
   ]
  },
  {
   "cell_type": "code",
   "execution_count": 119,
   "id": "d81cbc36",
   "metadata": {},
   "outputs": [
    {
     "name": "stdout",
     "output_type": "stream",
     "text": [
      "                          1               word\n",
      "die                0.040486                die\n",
      "der                0.036763                der\n",
      "und                0.031188                und\n",
      "ladeinfrastruktur  0.021461  ladeinfrastruktur\n",
      "für                0.020387                für\n",
      "in                 0.019667                 in\n",
      "das                0.019186                das\n",
      "ist                0.012872                ist\n",
      "den                0.012735                den\n",
      "zu                 0.010962                 zu\n"
     ]
    },
    {
     "data": {
      "image/png": "[encoded data removed]",
      "text/plain": [
       "<Figure size 432x288 with 1 Axes>"
      ]
     },
     "metadata": {},
     "output_type": "display_data"
    }
   ],
   "source": [
    "top_1 = words_topics_1.nlargest(10, 1)\n",
    "\n",
    "print(top_1)\n",
    "ax = sns.barplot(x=1, y=\"word\", data=top_1)"
   ]
  },
  {
   "cell_type": "code",
   "execution_count": 122,
   "id": "8fb7954a",
   "metadata": {},
   "outputs": [
    {
     "name": "stdout",
     "output_type": "stream",
     "text": [
      "                          2               word\n",
      "der                0.040838                der\n",
      "die                0.038684                die\n",
      "und                0.030345                und\n",
      "in                 0.029479                 in\n",
      "für                0.027923                für\n",
      "ladeinfrastruktur  0.023860  ladeinfrastruktur\n",
      "mit                0.014543                mit\n",
      "das                0.013227                das\n",
      "den                0.012575                den\n",
      "von                0.011236                von\n"
     ]
    },
    {
     "data": {
      "image/png": "[encoded data removed]",
      "text/plain": [
       "<Figure size 432x288 with 1 Axes>"
      ]
     },
     "metadata": {},
     "output_type": "display_data"
    }
   ],
   "source": [
    "top_2 = words_topics_2.nlargest(10, 2)\n",
    "print(top_2)\n",
    "ax = sns.barplot(x=2, y=\"word\", data=top_2)"
   ]
  },
  {
   "cell_type": "code",
   "execution_count": 123,
   "id": "5090003d",
   "metadata": {},
   "outputs": [
    {
     "name": "stdout",
     "output_type": "stream",
     "text": [
      "                  3       word\n",
      "die        0.031661        die\n",
      "der        0.029110        der\n",
      "und        0.024053        und\n",
      "ladesäule  0.020017  ladesäule\n",
      "das        0.017754        das\n",
      "ist        0.017623        ist\n",
      "nicht      0.014913      nicht\n",
      "in         0.014782         in\n",
      "mit        0.014507        mit\n",
      "ich        0.014047        ich\n"
     ]
    },
    {
     "data": {
      "image/png": "[encoded data removed]",
      "text/plain": [
       "<Figure size 432x288 with 1 Axes>"
      ]
     },
     "metadata": {},
     "output_type": "display_data"
    }
   ],
   "source": [
    "top_3 = words_topics_3.nlargest(10, 3)\n",
    "print(top_3)\n",
    "ax = sns.barplot(x=3, y=\"word\", data=top_3)"
   ]
  },
  {
   "cell_type": "code",
   "execution_count": 125,
   "id": "e060e951",
   "metadata": {},
   "outputs": [
    {
     "name": "stdout",
     "output_type": "stream",
     "text": [
      "                          4               word\n",
      "der                0.044849                der\n",
      "die                0.039606                die\n",
      "für                0.030825                für\n",
      "ladeinfrastruktur  0.026459  ladeinfrastruktur\n",
      "und                0.025833                und\n",
      "von                0.024992                von\n",
      "mit                0.022590                mit\n",
      "in                 0.020260                 in\n",
      "den                0.014669                den\n",
      "sie                0.012184                sie\n"
     ]
    },
    {
     "data": {
      "image/png": "[encoded data removed]",
      "text/plain": [
       "<Figure size 432x288 with 1 Axes>"
      ]
     },
     "metadata": {},
     "output_type": "display_data"
    }
   ],
   "source": [
    "top_4 = words_topics_4.nlargest(10, 4)\n",
    "print(top_4)\n",
    "ax = sns.barplot(x=4, y=\"word\", data=top_4)"
   ]
  },
  {
   "cell_type": "code",
   "execution_count": 126,
   "id": "ea130e87",
   "metadata": {},
   "outputs": [
    {
     "name": "stdout",
     "output_type": "stream",
     "text": [
      "                  5       word\n",
      "und        0.071728        und\n",
      "der        0.061392        der\n",
      "schneider  0.044862  schneider\n",
      "electric   0.043861   electric\n",
      "für        0.041371        für\n",
      "von        0.035151        von\n",
      "ein        0.030699        ein\n",
      "eine       0.029212       eine\n",
      "zur        0.028530        zur\n",
      "gemeinsam  0.025543  gemeinsam\n"
     ]
    },
    {
     "data": {
      "image/png": "[encoded data removed]",
      "text/plain": [
       "<Figure size 432x288 with 1 Axes>"
      ]
     },
     "metadata": {},
     "output_type": "display_data"
    }
   ],
   "source": [
    "top_5 = words_topics_5.nlargest(10, 5)\n",
    "print(top_5)\n",
    "ax = sns.barplot(x=5, y=\"word\", data=top_5)"
   ]
  },
  {
   "cell_type": "code",
   "execution_count": 127,
   "id": "2e5a7b5f",
   "metadata": {},
   "outputs": [
    {
     "name": "stdout",
     "output_type": "stream",
     "text": [
      "                  6       word\n",
      "ich        0.030119        ich\n",
      "die        0.027114        die\n",
      "ladesäule  0.025813  ladesäule\n",
      "der        0.021857        der\n",
      "und        0.021710        und\n",
      "das        0.019559        das\n",
      "nicht      0.017973      nicht\n",
      "ist        0.017233        ist\n",
      "es         0.014686         es\n",
      "an         0.013961         an\n"
     ]
    },
    {
     "data": {
      "image/png": "[encoded data removed]",
      "text/plain": [
       "<Figure size 432x288 with 1 Axes>"
      ]
     },
     "metadata": {},
     "output_type": "display_data"
    }
   ],
   "source": [
    "top_6 = words_topics_6.nlargest(10, 6)\n",
    "print(top_6)\n",
    "ax = sns.barplot(x=6, y=\"word\", data=top_6)"
   ]
  },
  {
   "cell_type": "code",
   "execution_count": 132,
   "id": "009abe4a",
   "metadata": {},
   "outputs": [
    {
     "name": "stdout",
     "output_type": "stream",
     "text": [
      "                          7               word\n",
      "die                0.040822                die\n",
      "und                0.026206                und\n",
      "der                0.023540                der\n",
      "ladeinfrastruktur  0.017496  ladeinfrastruktur\n",
      "in                 0.017156                 in\n",
      "das                0.015958                das\n",
      "zu                 0.015817                 zu\n",
      "für                0.015171                für\n",
      "es                 0.014823                 es\n",
      "nicht              0.014570              nicht\n"
     ]
    },
    {
     "data": {
      "image/png": "[encoded data removed]",
      "text/plain": [
       "<Figure size 432x288 with 1 Axes>"
      ]
     },
     "metadata": {},
     "output_type": "display_data"
    }
   ],
   "source": [
    "top_7 = words_topics_7.nlargest(10, 7)\n",
    "print(top_7)\n",
    "ax = sns.barplot(x=7, y=\"word\", data=top_7)"
   ]
  },
  {
   "cell_type": "code",
   "execution_count": 136,
   "id": "31b8c952",
   "metadata": {},
   "outputs": [
    {
     "name": "stdout",
     "output_type": "stream",
     "text": [
      "  topic0             topic1 topic2     topic3             topic4     topic5  \\\n",
      "0    die                die    der        die                der        und   \n",
      "1    der                der    die        der                die        der   \n",
      "2    und                und    und        und                für  schneider   \n",
      "3     in  ladeinfrastruktur     in  ladesäule  ladeinfrastruktur   electric   \n",
      "4    das                für    für        das                und        für   \n",
      "\n",
      "      topic6             topic7  \n",
      "0        ich                die  \n",
      "1        die                und  \n",
      "2  ladesäule                der  \n",
      "3        der  ladeinfrastruktur  \n",
      "4        und                 in  \n",
      "                                              topic0  \\\n",
      "0  entwicklungsingenieur hil-testing backend-lade...   \n",
      "1  @p_humm apropos ladeinfrastruktur: schon geseh...   \n",
      "2  #alphastruxure kürt #themobilityhouse zum tech...   \n",
      "3  #eswewiesbaden - wunsch-e-ladesäule gegen tank...   \n",
      "4  walther ladesäule ecolectra 250 m2 m.2 ladeste...   \n",
      "\n",
      "                                              topic1  \\\n",
      "0  something something ladesäule hacken. https://...   \n",
      "1  „bundes-ladeparks“: verkehrsausschuss stimmt a...   \n",
      "2          blockchainbasierte ladeinfrastruktur was?   \n",
      "3  #shell und #byd schließen globale lade-partner...   \n",
      "4  e-scooter in der mobilität  – nr. 133  philip ...   \n",
      "\n",
      "                                              topic2  \\\n",
      "0  viessmann verkauft ladeinfrastruktur-anbieter ...   \n",
      "1  bad münstereifel ftw (inklusive ladesäule)! ht...   \n",
      "2  kurz informiert: ladeinfrastruktur, fußgängerk...   \n",
      "3  strafzahlungen für ladesäulenmuffel? #ladeinfr...   \n",
      "4  #job: technischer projektmanager ladeinfrastru...   \n",
      "\n",
      "                                              topic3  \n",
      "0  rosige aussichten #bev #elektromobilität #lade...  \n",
      "1  @unionista 👍 genau, ladesäule, 4 stunden parkd...  \n",
      "2  @aengelhorn @knarf_sier @hansulrich kostenfall...  \n",
      "3  symbolbild deutscher ladeinfrastruktur. https:...  \n",
      "4  lichtdesign 10/10 liebe energiewerke #sayda.😍 ...  \n"
     ]
    }
   ],
   "source": [
    "top_words = btm.get_top_topic_words(\n",
    "    tweets_model,\n",
    "    words_num=100)\n",
    "\n",
    "\n",
    "top_words_df = pd.DataFrame(top_words)\n",
    "print(top_words_df.head())\n",
    "\n",
    "top_docs = btm.get_top_topic_docs(\n",
    "    tweets_df['tweet_processed'],\n",
    "    p_zd,\n",
    "    docs_num=3783,\n",
    "    topics_idx=[0,1,2,3])\n",
    "\n",
    "top_docs_df = pd.DataFrame(top_docs)\n",
    "print(top_docs_df.head())\n",
    "\n",
    "top_words_df.to_csv(\"top_words.csv\", index=False)"
   ]
  },
  {
   "cell_type": "code",
   "execution_count": 141,
   "id": "ed01d520",
   "metadata": {},
   "outputs": [
    {
     "name": "stdout",
     "output_type": "stream",
     "text": [
      "                                           documents  label\n",
      "0  @kkklawitter @eggmarkus @sepp_reitberger das e...      1\n",
      "1  amperio gmbh: mobileeee und amperio starten la...      0\n",
      "2  zur ladeinfrastruktur für elektrofahrzeuge geh...      5\n",
      "3  @chris_pyak @jrehborn @herrphteven dazu noch n...      6\n",
      "4  @mingiam10 @kkklawitter mein punkt ist ja der ...      0\n"
     ]
    }
   ],
   "source": [
    "tweet_topics = btm.get_docs_top_topic(tweets, tweets_model.matrix_docs_topics_)\n",
    "\n",
    "print(tweet_topics.head())\n",
    "\n",
    "tweet_topics.to_csv(\"tweets_topics.csv\")"
   ]
  },
  {
   "cell_type": "code",
   "execution_count": 3,
   "id": "e0496e5a",
   "metadata": {},
   "outputs": [],
   "source": [
    "tweets_df = pd.read_csv(work_dir + \"/Twitter/all_tweets.csv\")"
   ]
  },
  {
   "cell_type": "code",
   "execution_count": 4,
   "id": "a148f4c5",
   "metadata": {},
   "outputs": [],
   "source": [
    "tweets_df['date'] = pd.to_datetime(tweets_df['date'], errors='coerce')"
   ]
  },
  {
   "cell_type": "code",
   "execution_count": 5,
   "id": "ccbd3a17",
   "metadata": {},
   "outputs": [],
   "source": [
    "tweets_df = tweets_df[(tweets_df['date'] > \"2020-07-08\")]"
   ]
  },
  {
   "cell_type": "code",
   "execution_count": 6,
   "id": "b05c7584",
   "metadata": {},
   "outputs": [
    {
     "name": "stdout",
     "output_type": "stream",
     "text": [
      "0        @kkklawitter @eggmarkus @sepp_reitberger das e...\n",
      "1        amperio gmbh: mobileeee und amperio starten la...\n",
      "2        zur ladeinfrastruktur für elektrofahrzeuge geh...\n",
      "3        @chris_pyak @jrehborn @herrphteven dazu noch n...\n",
      "4        @mingiam10 @kkklawitter mein punkt ist ja der ...\n",
      "                               ...                        \n",
      "23708    @solarfighter @bmwi_bund @peteraltmaier @bafa_...\n",
      "23709    @solarfighter @peteraltmaier @bafa_bund der au...\n",
      "23710    #tesla hat mit der eröffnung des neuen #superc...\n",
      "23711    @danjol_lupardo @canstatt93 @poveretto das ist...\n",
      "23712    @bmwi_bund @peteraltmaier @bafa_bund weit und ...\n",
      "Name: tweet_processed, Length: 23713, dtype: object\n",
      "0        @kkklawitter @eggmarkus @sepp_reitberger einzi...\n",
      "1        amperio gmbh: mobileeee amperio starten langfr...\n",
      "2        zur ladeinfrastruktur elektrofahrzeuge gehört ...\n",
      "3        @chris_pyak @jrehborn @herrphteven dazu noch n...\n",
      "4        @mingiam10 @kkklawitter mein punkt ist ja park...\n",
      "                               ...                        \n",
      "23708    @solarfighter @bmwi_bund @peteraltmaier @bafa_...\n",
      "23709    @solarfighter @peteraltmaier @bafa_bund aufbau...\n",
      "23710    #tesla hat mit eröffnung des neuen #supercharg...\n",
      "23711    @danjol_lupardo @canstatt93 @poveretto ist gen...\n",
      "23712    @bmwi_bund @peteraltmaier @bafa_bund weit brei...\n",
      "Name: tweet_processed, Length: 23713, dtype: object\n"
     ]
    }
   ],
   "source": [
    "# Topic Modelling\n",
    "# Convert the titles to lowercase\n",
    "tweets_df['tweet_processed'] = tweets_df['tweet'].map(lambda x: x.lower())\n",
    "print(tweets_df['tweet_processed'])\n",
    "\n",
    "# Remove punctuation and stopwords\n",
    "\n",
    "banned = [\"der\", \"die\", \"das\", \"und\", \"in\", \"an\", \"zu\", \"für\", \"es\", \"von\", \"den\", \"dem\", \",\", \".\", \"!\", \"?\", \"/\"]\n",
    "f = lambda x: ' '.join([item for item in x.split() if item not in banned])\n",
    "tweets_df[\"tweet_processed\"] = tweets_df[\"tweet_processed\"].apply(f)\n",
    "\n",
    "print(tweets_df['tweet_processed'])\n",
    "tweets = tweets_df['tweet_processed'].str.strip().tolist()\n",
    "\n",
    "# PREPROCESSING\n",
    "# Obtaining terms frequency in a sparse matrix and corpus vocabulary\n",
    "tweets_X, tweets_vocabulary, tweets_vocab_dict = btm.get_words_freqs(tweets)\n",
    "tweets_tf = np.array(tweets_X.sum(axis=0)).ravel()"
   ]
  },
  {
   "cell_type": "code",
   "execution_count": 7,
   "id": "79c4f4f3",
   "metadata": {},
   "outputs": [],
   "source": [
    "# Vectorizing documents\n",
    "tweets_docs_vec = btm.get_vectorized_docs(tweets, tweets_vocabulary)\n",
    "tweets_docs_lens = list(map(len, tweets_docs_vec))"
   ]
  },
  {
   "cell_type": "code",
   "execution_count": 8,
   "id": "da49d8b1",
   "metadata": {},
   "outputs": [],
   "source": [
    "# Generating title biterms\n",
    "tweets_biterms = btm.get_biterms(tweets_docs_vec)"
   ]
  },
  {
   "cell_type": "code",
   "execution_count": 9,
   "id": "76faed29",
   "metadata": {},
   "outputs": [],
   "source": [
    "# Initializing and running titles model\n",
    "def btm_model(topics, alpha, beta):\n",
    "    tweets_model = btm.BTM(\n",
    "        tweets_X, tweets_vocabulary, seed=12321, T=topics, M=5, alpha=alpha, beta=beta)\n",
    "    tweets_model.fit(tweets_biterms, iterations=20)\n",
    "    tweets_p_zd = tweets_model.transform(tweets_docs_vec)\n",
    "    \n",
    "    return tweets_model\n",
    "\n",
    "def Average(l): \n",
    "    avg = sum(l) / len(l) \n",
    "    return avg"
   ]
  },
  {
   "cell_type": "code",
   "execution_count": 10,
   "id": "acca39ba",
   "metadata": {},
   "outputs": [],
   "source": [
    "# Initializing and running titles model\n",
    "def btm_model(topics, alpha, beta):\n",
    "    tweets_model = btm.BTM(\n",
    "        tweets_X, tweets_vocabulary, seed=12321, T=topics, M=5, alpha=alpha, beta=beta)\n",
    "    tweets_model.fit(tweets_biterms, iterations=20)\n",
    "    tweets_p_zd = tweets_model.transform(tweets_docs_vec)\n",
    "    \n",
    "    return tweets_model\n",
    "\n",
    "def Average(l): \n",
    "    avg = sum(l) / len(l) \n",
    "    return avg"
   ]
  },
  {
   "cell_type": "code",
   "execution_count": 11,
   "id": "c184ae6e",
   "metadata": {},
   "outputs": [
    {
     "name": "stderr",
     "output_type": "stream",
     "text": [
      "100%|██████████████████████████████████████████████████████████████████████████████████| 20/20 [00:02<00:00,  7.75it/s]\n",
      "100%|█████████████████████████████████████████████████████████████████████████| 23713/23713 [00:00<00:00, 63380.34it/s]\n",
      "100%|██████████████████████████████████████████████████████████████████████████████████| 20/20 [00:02<00:00,  6.71it/s]\n",
      "100%|█████████████████████████████████████████████████████████████████████████| 23713/23713 [00:00<00:00, 55470.74it/s]\n",
      "100%|██████████████████████████████████████████████████████████████████████████████████| 20/20 [00:03<00:00,  5.75it/s]\n",
      "100%|█████████████████████████████████████████████████████████████████████████| 23713/23713 [00:00<00:00, 57535.26it/s]\n",
      "100%|██████████████████████████████████████████████████████████████████████████████████| 20/20 [00:03<00:00,  5.31it/s]\n",
      "100%|█████████████████████████████████████████████████████████████████████████| 23713/23713 [00:00<00:00, 54761.44it/s]\n",
      "100%|██████████████████████████████████████████████████████████████████████████████████| 20/20 [00:04<00:00,  4.79it/s]\n",
      "100%|█████████████████████████████████████████████████████████████████████████| 23713/23713 [00:00<00:00, 53097.90it/s]\n",
      "100%|██████████████████████████████████████████████████████████████████████████████████| 20/20 [00:04<00:00,  4.34it/s]\n",
      "100%|█████████████████████████████████████████████████████████████████████████| 23713/23713 [00:00<00:00, 50917.99it/s]\n",
      "100%|██████████████████████████████████████████████████████████████████████████████████| 20/20 [00:05<00:00,  3.86it/s]\n",
      "100%|█████████████████████████████████████████████████████████████████████████| 23713/23713 [00:00<00:00, 50560.96it/s]\n",
      "100%|██████████████████████████████████████████████████████████████████████████████████| 20/20 [00:05<00:00,  3.71it/s]\n",
      "100%|█████████████████████████████████████████████████████████████████████████| 23713/23713 [00:00<00:00, 48493.61it/s]\n",
      "100%|██████████████████████████████████████████████████████████████████████████████████| 20/20 [00:05<00:00,  3.37it/s]\n",
      "100%|█████████████████████████████████████████████████████████████████████████| 23713/23713 [00:00<00:00, 46426.04it/s]\n",
      "100%|██████████████████████████████████████████████████████████████████████████████████| 20/20 [00:06<00:00,  3.14it/s]\n",
      "100%|█████████████████████████████████████████████████████████████████████████| 23713/23713 [00:00<00:00, 45689.97it/s]\n",
      "100%|██████████████████████████████████████████████████████████████████████████████████| 20/20 [00:06<00:00,  2.92it/s]\n",
      "100%|█████████████████████████████████████████████████████████████████████████| 23713/23713 [00:00<00:00, 43228.43it/s]\n",
      "100%|██████████████████████████████████████████████████████████████████████████████████| 20/20 [00:07<00:00,  2.75it/s]\n",
      "100%|█████████████████████████████████████████████████████████████████████████| 23713/23713 [00:00<00:00, 42791.31it/s]\n",
      "100%|██████████████████████████████████████████████████████████████████████████████████| 20/20 [00:07<00:00,  2.62it/s]\n",
      "100%|█████████████████████████████████████████████████████████████████████████| 23713/23713 [00:00<00:00, 40488.01it/s]\n"
     ]
    }
   ],
   "source": [
    "# Determening the number of topics by running the model with a fixed alpha = 0.01 and beta = 0.1\n",
    "coherence_list = []\n",
    "perplexity_list = []\n",
    "# Topics range\n",
    "min_topics = 2\n",
    "max_topics = 15\n",
    "step_size = 1\n",
    "topics_range = range(min_topics, max_topics, step_size)\n",
    "\n",
    "for k in topics_range:\n",
    "    # get the coherence score for the given parameters\n",
    "    model = btm_model(k, 0.1, 0.1)\n",
    "            \n",
    "    perplexity = model.perplexity_\n",
    "    coherence = model.coherence_\n",
    "    \n",
    "    coherence_list.append(Average(coherence))\n",
    "    perplexity_list.append(perplexity)"
   ]
  },
  {
   "cell_type": "code",
   "execution_count": 12,
   "id": "34ba1eae",
   "metadata": {},
   "outputs": [
    {
     "data": {
      "image/png": "[encoded data removed]",
      "text/plain": [
       "<Figure size 432x288 with 1 Axes>"
      ]
     },
     "metadata": {},
     "output_type": "display_data"
    },
    {
     "name": "stdout",
     "output_type": "stream",
     "text": [
      "3 -12.940802874948012\n"
     ]
    }
   ],
   "source": [
    "ymax = max(coherence_list)\n",
    "ymax_string = str(ymax)\n",
    "xpos = coherence_list.index(ymax)\n",
    "xmax = topics_range[xpos]\n",
    "xmax_string = str(xmax)\n",
    "plt.plot(topics_range, coherence_list)\n",
    "plt.xlabel(\"Number of Topics\")\n",
    "plt.ylabel(\"Coherence Score\")\n",
    "plt.annotate(xmax_string + ' Topics' , xy=(xmax, ymax), xytext=(xmax, ymax+1),\n",
    "            arrowprops=dict(facecolor='black', shrink=0.22),\n",
    "            )\n",
    "plt.show()\n",
    "\n",
    "print(xmax, ymax)"
   ]
  },
  {
   "cell_type": "code",
   "execution_count": 13,
   "id": "39a2fc05",
   "metadata": {},
   "outputs": [
    {
     "data": {
      "image/png": "[encoded data removed]",
      "text/plain": [
       "<Figure size 432x288 with 1 Axes>"
      ]
     },
     "metadata": {},
     "output_type": "display_data"
    }
   ],
   "source": [
    "plt.plot(topics_range, perplexity_list)\n",
    "plt.xlabel(\"Number of Topics\")\n",
    "plt.ylabel(\"Perplexity Score\")\n",
    "plt.show()"
   ]
  },
  {
   "cell_type": "code",
   "execution_count": null,
   "id": "2bdca1ac",
   "metadata": {},
   "outputs": [
    {
     "name": "stderr",
     "output_type": "stream",
     "text": [
      "100%|██████████████████████████████████████████████████████████████████████████████████| 20/20 [00:03<00:00,  6.62it/s]\n",
      "100%|█████████████████████████████████████████████████████████████████████████| 23713/23713 [00:00<00:00, 61566.28it/s]\n",
      "100%|██████████████████████████████████████████████████████████████████████████████████| 20/20 [00:02<00:00,  6.68it/s]\n",
      "100%|█████████████████████████████████████████████████████████████████████████| 23713/23713 [00:00<00:00, 59559.78it/s]\n",
      "100%|██████████████████████████████████████████████████████████████████████████████████| 20/20 [00:03<00:00,  6.50it/s]\n",
      "100%|█████████████████████████████████████████████████████████████████████████| 23713/23713 [00:00<00:00, 59282.63it/s]\n",
      "100%|██████████████████████████████████████████████████████████████████████████████████| 20/20 [00:02<00:00,  6.81it/s]\n",
      "100%|█████████████████████████████████████████████████████████████████████████| 23713/23713 [00:00<00:00, 60334.41it/s]\n",
      "100%|██████████████████████████████████████████████████████████████████████████████████| 20/20 [00:02<00:00,  6.67it/s]\n",
      "100%|█████████████████████████████████████████████████████████████████████████| 23713/23713 [00:00<00:00, 61269.89it/s]\n",
      "100%|██████████████████████████████████████████████████████████████████████████████████| 20/20 [00:02<00:00,  6.69it/s]\n",
      "100%|█████████████████████████████████████████████████████████████████████████| 23713/23713 [00:00<00:00, 60798.20it/s]\n",
      " 20%|████████████████▌                                                                  | 4/20 [00:00<00:02,  6.18it/s]"
     ]
    }
   ],
   "source": [
    "# Topic parameter \n",
    "k = 3\n",
    "# Alpha parameter\n",
    "alpha = list(np.arange(0.01, 1, 0.3))\n",
    "\n",
    "# Beta parameter\n",
    "beta = list(np.arange(0.01, 1, 0.3))\n",
    "\n",
    "model_results = {'Alpha': [],\n",
    "                 'Beta': [],\n",
    "                 'Coherence': [],\n",
    "                 'Perplexity': []\n",
    "                }\n",
    "\n",
    "\n",
    "# iterate through alpha values\n",
    "for a in alpha:\n",
    "    # iterare through beta values\n",
    "    for b in beta:\n",
    "        # get the coherence score for the given parameters\n",
    "        model = btm_model(k, a, b)\n",
    "            \n",
    "        perplexity = model.perplexity_\n",
    "        coherence = model.coherence_\n",
    "            \n",
    "        # Save the model results\n",
    "        model_results['Alpha'].append(a)\n",
    "        model_results['Beta'].append(b)\n",
    "        model_results['Coherence'].append(Average(coherence))\n",
    "        model_results['Perplexity'].append(perplexity)"
   ]
  },
  {
   "cell_type": "code",
   "execution_count": null,
   "id": "e6923fb8",
   "metadata": {},
   "outputs": [],
   "source": [
    "benchmark_df = pd.DataFrame(model_results)\n",
    "print(benchmark_df)\n",
    "\n",
    "benchmark_df.to_csv(\"benchmark-2.csv\", index=False)"
   ]
  },
  {
   "cell_type": "code",
   "execution_count": null,
   "id": "83983969",
   "metadata": {},
   "outputs": [],
   "source": [
    "# Choosen highest coherence with a trade-off for a higher perplexity because of a higher semantic correlation to make it easier to interpret\n",
    "tweets_model = btm.BTM(\n",
    "tweets_X, tweets_vocabulary, seed=12321, T=3, M=5, alpha=0.01, beta=0.11)\n",
    "tweets_model.fit(tweets_biterms, iterations=20)\n",
    "tweets_p_zd = tweets_model.transform(tweets_docs_vec)"
   ]
  },
  {
   "cell_type": "code",
   "execution_count": null,
   "id": "57c0e39b",
   "metadata": {},
   "outputs": [],
   "source": [
    "p_zd = tweets_model.transform(tweets_docs_vec)"
   ]
  },
  {
   "cell_type": "code",
   "execution_count": null,
   "id": "9ac6f48b",
   "metadata": {},
   "outputs": [],
   "source": [
    "words_topics_df = tweets_model.df_words_topics_\n",
    "\n",
    "words_topics_0 = pd.DataFrame(words_topics_df[0])\n",
    "words_topics_0[\"word\"] = words_topics_df.index\n",
    "\n",
    "words_topics_1 = pd.DataFrame(words_topics_df[1])\n",
    "words_topics_1[\"word\"] = words_topics_df.index\n",
    "\n",
    "words_topics_2= pd.DataFrame(words_topics_df[2])\n",
    "words_topics_2[\"word\"] = words_topics_df.index"
   ]
  },
  {
   "cell_type": "code",
   "execution_count": null,
   "id": "a0cfb507",
   "metadata": {},
   "outputs": [],
   "source": [
    "top_0 = words_topics_0.nlargest(10, 0)\n",
    "\n",
    "print(top_0)\n",
    "ax = sns.barplot(x=0, y=\"word\", data=top_0)"
   ]
  },
  {
   "cell_type": "code",
   "execution_count": null,
   "id": "0dc2a236",
   "metadata": {},
   "outputs": [],
   "source": [
    "top_1 = words_topics_1.nlargest(10, 1)\n",
    "\n",
    "print(top_1)\n",
    "ax = sns.barplot(x=1, y=\"word\", data=top_1)"
   ]
  },
  {
   "cell_type": "code",
   "execution_count": null,
   "id": "cfb3c5db",
   "metadata": {},
   "outputs": [],
   "source": [
    "top_2 = words_topics_2.nlargest(10, 2)\n",
    "\n",
    "print(top_2)\n",
    "ax = sns.barplot(x=2, y=\"word\", data=top_2)"
   ]
  },
  {
   "cell_type": "code",
   "execution_count": null,
   "id": "e9da13d9",
   "metadata": {},
   "outputs": [],
   "source": [
    "top_words = btm.get_top_topic_words(\n",
    "    tweets_model,\n",
    "    words_num=100)\n",
    "\n",
    "\n",
    "top_words_df = pd.DataFrame(top_words)\n",
    "print(top_words_df.head())\n",
    "\n",
    "top_docs = btm.get_top_topic_docs(\n",
    "    tweets_df['tweet_processed'],\n",
    "    p_zd,\n",
    "    docs_num=3783,\n",
    "    topics_idx=[0,1])\n",
    "\n",
    "top_docs_df = pd.DataFrame(top_docs)\n",
    "print(top_docs_df.head())\n",
    "\n",
    "top_words_df.to_csv(\"top_words-3topics.csv\", index=False)"
   ]
  },
  {
   "cell_type": "code",
   "execution_count": null,
   "id": "56b88e29",
   "metadata": {},
   "outputs": [],
   "source": [
    "tweet_topics = btm.get_docs_top_topic(tweets, tweets_model.matrix_docs_topics_)\n",
    "\n",
    "\n",
    "tweet_topics.to_csv(\"tweets_topics-3topics.csv\")"
   ]
  },
  {
   "cell_type": "code",
   "execution_count": 45,
   "id": "9ac3e8df",
   "metadata": {},
   "outputs": [],
   "source": [
    "tweets_with_topics_df = pd.read_csv(work_dir + \"/Twitter/tweets_topics-2topics-unlabeled.csv\")"
   ]
  },
  {
   "cell_type": "code",
   "execution_count": 46,
   "id": "14a6f7a4",
   "metadata": {},
   "outputs": [
    {
     "name": "stdout",
     "output_type": "stream",
     "text": [
      "       Unnamed: 0                       date             user  \\\n",
      "0               0  2022-04-26 08:44:26+00:00   ReinerKurzmann   \n",
      "1               1  2022-04-26 08:44:03+00:00  na_presseportal   \n",
      "2               2  2022-04-26 08:40:02+00:00     SmartHomeEU1   \n",
      "3               3  2022-04-26 08:32:54+00:00       EPhisoloph   \n",
      "4               4  2022-04-26 08:26:51+00:00           Amie42   \n",
      "...           ...                        ...              ...   \n",
      "48273       48273  2009-08-06 06:30:04+00:00      Elektronews   \n",
      "48274       48274  2009-08-05 12:46:39+00:00      MattisTweet   \n",
      "48275       48275  2009-08-05 11:54:57+00:00     SPIEGEL_Auto   \n",
      "48276       48276  2009-08-05 11:54:56+00:00    SPIEGEL_alles   \n",
      "48277       48277  2009-07-14 09:45:08+00:00   trurnitDigital   \n",
      "\n",
      "                                                   tweet  \\\n",
      "0      @kkklawitter @EggMarkus @sepp_reitberger Das e...   \n",
      "1      amperio GmbH: mobileeee und amperio starten la...   \n",
      "2      Zur Ladeinfrastruktur für Elektrofahrzeuge geh...   \n",
      "3      @chris_pyak @JRehborn @HerrPhteven Dazu noch n...   \n",
      "4      @Mingiam10 @kkklawitter Mein Punkt ist ja der ...   \n",
      "...                                                  ...   \n",
      "48273  Elektroautos: Japanische Autobauer entwickeln ...   \n",
      "48274  Elektroautos: Japanische Autobauer entwickeln ...   \n",
      "48275  Elektroautos: Japanische Autobauer entwickeln ...   \n",
      "48276  Elektroautos: Japanische Autobauer entwickeln ...   \n",
      "48277  McDonalds goes E-Mobility - #McDonalds und der...   \n",
      "\n",
      "                                                     url  \\\n",
      "0      https://twitter.com/ReinerKurzmann/status/1518...   \n",
      "1      https://twitter.com/na_presseportal/status/151...   \n",
      "2      https://twitter.com/SmartHomeEU1/status/151887...   \n",
      "3      https://twitter.com/EPhisoloph/status/15188707...   \n",
      "4      https://twitter.com/Amie42/status/151886919943...   \n",
      "...                                                  ...   \n",
      "48273  https://twitter.com/Elektronews/status/3162260813   \n",
      "48274  https://twitter.com/MattisTweet/status/3144502443   \n",
      "48275  https://twitter.com/SPIEGEL_Auto/status/314392...   \n",
      "48276  https://twitter.com/SPIEGEL_alles/status/31439...   \n",
      "48277  https://twitter.com/trurnitDigital/status/2629...   \n",
      "\n",
      "                                         tweet_processed  \n",
      "0      @kkklawitter @eggmarkus @sepp_reitberger einzi...  \n",
      "1      amperio gmbh: mobileeee amperio starten langfr...  \n",
      "2      zur ladeinfrastruktur elektrofahrzeuge gehört ...  \n",
      "3      @chris_pyak @jrehborn @herrphteven dazu noch n...  \n",
      "4      @mingiam10 @kkklawitter mein punkt ist ja park...  \n",
      "...                                                  ...  \n",
      "48273  elektroautos: japanische autobauer entwickeln ...  \n",
      "48274  elektroautos: japanische autobauer entwickeln ...  \n",
      "48275  elektroautos: japanische autobauer entwickeln ...  \n",
      "48276  elektroautos: japanische autobauer entwickeln ...  \n",
      "48277  mcdonalds goes e-mobility - #mcdonalds stromko...  \n",
      "\n",
      "[48278 rows x 6 columns]\n"
     ]
    }
   ],
   "source": [
    "print(tweets_df)"
   ]
  },
  {
   "cell_type": "code",
   "execution_count": 47,
   "id": "ee61e5f3",
   "metadata": {},
   "outputs": [],
   "source": [
    "tweets_df['topic'] = tweets_with_topics_df['label'].values"
   ]
  },
  {
   "cell_type": "code",
   "execution_count": 48,
   "id": "d21e283d",
   "metadata": {},
   "outputs": [
    {
     "name": "stdout",
     "output_type": "stream",
     "text": [
      "       Unnamed: 0                       date             user  \\\n",
      "0               0  2022-04-26 08:44:26+00:00   ReinerKurzmann   \n",
      "1               1  2022-04-26 08:44:03+00:00  na_presseportal   \n",
      "2               2  2022-04-26 08:40:02+00:00     SmartHomeEU1   \n",
      "3               3  2022-04-26 08:32:54+00:00       EPhisoloph   \n",
      "4               4  2022-04-26 08:26:51+00:00           Amie42   \n",
      "...           ...                        ...              ...   \n",
      "48273       48273  2009-08-06 06:30:04+00:00      Elektronews   \n",
      "48274       48274  2009-08-05 12:46:39+00:00      MattisTweet   \n",
      "48275       48275  2009-08-05 11:54:57+00:00     SPIEGEL_Auto   \n",
      "48276       48276  2009-08-05 11:54:56+00:00    SPIEGEL_alles   \n",
      "48277       48277  2009-07-14 09:45:08+00:00   trurnitDigital   \n",
      "\n",
      "                                                   tweet  \\\n",
      "0      @kkklawitter @EggMarkus @sepp_reitberger Das e...   \n",
      "1      amperio GmbH: mobileeee und amperio starten la...   \n",
      "2      Zur Ladeinfrastruktur für Elektrofahrzeuge geh...   \n",
      "3      @chris_pyak @JRehborn @HerrPhteven Dazu noch n...   \n",
      "4      @Mingiam10 @kkklawitter Mein Punkt ist ja der ...   \n",
      "...                                                  ...   \n",
      "48273  Elektroautos: Japanische Autobauer entwickeln ...   \n",
      "48274  Elektroautos: Japanische Autobauer entwickeln ...   \n",
      "48275  Elektroautos: Japanische Autobauer entwickeln ...   \n",
      "48276  Elektroautos: Japanische Autobauer entwickeln ...   \n",
      "48277  McDonalds goes E-Mobility - #McDonalds und der...   \n",
      "\n",
      "                                                     url  \\\n",
      "0      https://twitter.com/ReinerKurzmann/status/1518...   \n",
      "1      https://twitter.com/na_presseportal/status/151...   \n",
      "2      https://twitter.com/SmartHomeEU1/status/151887...   \n",
      "3      https://twitter.com/EPhisoloph/status/15188707...   \n",
      "4      https://twitter.com/Amie42/status/151886919943...   \n",
      "...                                                  ...   \n",
      "48273  https://twitter.com/Elektronews/status/3162260813   \n",
      "48274  https://twitter.com/MattisTweet/status/3144502443   \n",
      "48275  https://twitter.com/SPIEGEL_Auto/status/314392...   \n",
      "48276  https://twitter.com/SPIEGEL_alles/status/31439...   \n",
      "48277  https://twitter.com/trurnitDigital/status/2629...   \n",
      "\n",
      "                                         tweet_processed  topic  \n",
      "0      @kkklawitter @eggmarkus @sepp_reitberger einzi...      0  \n",
      "1      amperio gmbh: mobileeee amperio starten langfr...      0  \n",
      "2      zur ladeinfrastruktur elektrofahrzeuge gehört ...      1  \n",
      "3      @chris_pyak @jrehborn @herrphteven dazu noch n...      0  \n",
      "4      @mingiam10 @kkklawitter mein punkt ist ja park...      0  \n",
      "...                                                  ...    ...  \n",
      "48273  elektroautos: japanische autobauer entwickeln ...      1  \n",
      "48274  elektroautos: japanische autobauer entwickeln ...      1  \n",
      "48275  elektroautos: japanische autobauer entwickeln ...      1  \n",
      "48276  elektroautos: japanische autobauer entwickeln ...      1  \n",
      "48277  mcdonalds goes e-mobility - #mcdonalds stromko...      1  \n",
      "\n",
      "[48278 rows x 7 columns]\n"
     ]
    }
   ],
   "source": [
    "print(tweets_df)"
   ]
  },
  {
   "cell_type": "code",
   "execution_count": 49,
   "id": "30b0b83f",
   "metadata": {},
   "outputs": [],
   "source": [
    "# calculate Tweet sentiment\n",
    "\n",
    "analyzer = SentimentIntensityAnalyzer()\n",
    "def calculate_sentiment(dataframe):\n",
    "    utf_encoded = dataframe[\"tweet\"].encode('utf-16', 'surrogatepass').decode('utf-16')\n",
    "    vs = analyzer.polarity_scores(utf_encoded)\n",
    "    neg_list.append(vs[\"neg\"])\n",
    "    neu_list.append(vs[\"neu\"])\n",
    "    pos_list.append(vs[\"pos\"])\n",
    "    com_list.append(vs[\"compound\"])\n",
    "    return dataframe"
   ]
  },
  {
   "cell_type": "code",
   "execution_count": 50,
   "id": "1272aafe",
   "metadata": {},
   "outputs": [],
   "source": [
    "neg_list = []\n",
    "neu_list = []\n",
    "pos_list = []\n",
    "com_list = []\n",
    "tweets_df = tweets_df.apply(lambda x: calculate_sentiment(x), axis=1)"
   ]
  },
  {
   "cell_type": "code",
   "execution_count": 51,
   "id": "b5dafb59",
   "metadata": {},
   "outputs": [
    {
     "name": "stdout",
     "output_type": "stream",
     "text": [
      "       Unnamed: 0                       date             user  \\\n",
      "0               0  2022-04-26 08:44:26+00:00   ReinerKurzmann   \n",
      "1               1  2022-04-26 08:44:03+00:00  na_presseportal   \n",
      "2               2  2022-04-26 08:40:02+00:00     SmartHomeEU1   \n",
      "3               3  2022-04-26 08:32:54+00:00       EPhisoloph   \n",
      "4               4  2022-04-26 08:26:51+00:00           Amie42   \n",
      "...           ...                        ...              ...   \n",
      "48273       48273  2009-08-06 06:30:04+00:00      Elektronews   \n",
      "48274       48274  2009-08-05 12:46:39+00:00      MattisTweet   \n",
      "48275       48275  2009-08-05 11:54:57+00:00     SPIEGEL_Auto   \n",
      "48276       48276  2009-08-05 11:54:56+00:00    SPIEGEL_alles   \n",
      "48277       48277  2009-07-14 09:45:08+00:00   trurnitDigital   \n",
      "\n",
      "                                                   tweet  \\\n",
      "0      @kkklawitter @EggMarkus @sepp_reitberger Das e...   \n",
      "1      amperio GmbH: mobileeee und amperio starten la...   \n",
      "2      Zur Ladeinfrastruktur für Elektrofahrzeuge geh...   \n",
      "3      @chris_pyak @JRehborn @HerrPhteven Dazu noch n...   \n",
      "4      @Mingiam10 @kkklawitter Mein Punkt ist ja der ...   \n",
      "...                                                  ...   \n",
      "48273  Elektroautos: Japanische Autobauer entwickeln ...   \n",
      "48274  Elektroautos: Japanische Autobauer entwickeln ...   \n",
      "48275  Elektroautos: Japanische Autobauer entwickeln ...   \n",
      "48276  Elektroautos: Japanische Autobauer entwickeln ...   \n",
      "48277  McDonalds goes E-Mobility - #McDonalds und der...   \n",
      "\n",
      "                                                     url  \\\n",
      "0      https://twitter.com/ReinerKurzmann/status/1518...   \n",
      "1      https://twitter.com/na_presseportal/status/151...   \n",
      "2      https://twitter.com/SmartHomeEU1/status/151887...   \n",
      "3      https://twitter.com/EPhisoloph/status/15188707...   \n",
      "4      https://twitter.com/Amie42/status/151886919943...   \n",
      "...                                                  ...   \n",
      "48273  https://twitter.com/Elektronews/status/3162260813   \n",
      "48274  https://twitter.com/MattisTweet/status/3144502443   \n",
      "48275  https://twitter.com/SPIEGEL_Auto/status/314392...   \n",
      "48276  https://twitter.com/SPIEGEL_alles/status/31439...   \n",
      "48277  https://twitter.com/trurnitDigital/status/2629...   \n",
      "\n",
      "                                         tweet_processed  topic  negative  \\\n",
      "0      @kkklawitter @eggmarkus @sepp_reitberger einzi...      0     0.154   \n",
      "1      amperio gmbh: mobileeee amperio starten langfr...      0     0.000   \n",
      "2      zur ladeinfrastruktur elektrofahrzeuge gehört ...      1     0.000   \n",
      "3      @chris_pyak @jrehborn @herrphteven dazu noch n...      0     0.000   \n",
      "4      @mingiam10 @kkklawitter mein punkt ist ja park...      0     0.178   \n",
      "...                                                  ...    ...       ...   \n",
      "48273  elektroautos: japanische autobauer entwickeln ...      1     0.000   \n",
      "48274  elektroautos: japanische autobauer entwickeln ...      1     0.000   \n",
      "48275  elektroautos: japanische autobauer entwickeln ...      1     0.000   \n",
      "48276  elektroautos: japanische autobauer entwickeln ...      1     0.000   \n",
      "48277  mcdonalds goes e-mobility - #mcdonalds stromko...      1     0.000   \n",
      "\n",
      "       neutral  positive  compound  \n",
      "0        0.846       0.0   -0.8316  \n",
      "1        1.000       0.0    0.0000  \n",
      "2        1.000       0.0    0.0000  \n",
      "3        1.000       0.0    0.0000  \n",
      "4        0.822       0.0   -0.8316  \n",
      "...        ...       ...       ...  \n",
      "48273    1.000       0.0    0.0000  \n",
      "48274    1.000       0.0    0.0000  \n",
      "48275    1.000       0.0    0.0000  \n",
      "48276    1.000       0.0    0.0000  \n",
      "48277    1.000       0.0    0.0000  \n",
      "\n",
      "[48278 rows x 11 columns]\n"
     ]
    }
   ],
   "source": [
    "tweets_df[\"negative\"] = neg_list\n",
    "tweets_df[\"neutral\"] = neu_list\n",
    "tweets_df[\"positive\"] = pos_list\n",
    "tweets_df[\"compound\"] = com_list\n",
    "print(tweets_df)"
   ]
  },
  {
   "cell_type": "code",
   "execution_count": 52,
   "id": "035317ce",
   "metadata": {},
   "outputs": [],
   "source": [
    "def assign_sentiment(row):\n",
    "    float_compound = float(row['compound'])\n",
    "    if float_compound >= 0.05:\n",
    "        val = 'Positive'\n",
    "    elif float_compound <= -0.05:\n",
    "        val = 'Negative'\n",
    "    else:\n",
    "        val = 'Neutral'\n",
    "    return val"
   ]
  },
  {
   "cell_type": "code",
   "execution_count": 53,
   "id": "b4c4e4f6",
   "metadata": {},
   "outputs": [],
   "source": [
    "tweets_df['sentiment'] = tweets_df.apply(assign_sentiment, axis=1)"
   ]
  },
  {
   "cell_type": "code",
   "execution_count": 55,
   "id": "97a14a73",
   "metadata": {},
   "outputs": [],
   "source": [
    "topic_0_df = tweets_df[(tweets_df[\"topic\"] == 0)]\n",
    "topic_1_df = tweets_df[(tweets_df[\"topic\"] == 1)]"
   ]
  },
  {
   "cell_type": "code",
   "execution_count": 56,
   "id": "131b8eb8",
   "metadata": {},
   "outputs": [],
   "source": [
    "topic_0_sentiment = topic_0_df.groupby(['sentiment']).size()\n",
    "topic_1_sentiment = topic_1_df.groupby(['sentiment']).size()\n",
    "\n",
    "positive_0 = topic_0_sentiment['Positive']\n",
    "neutral_0 = topic_0_sentiment['Neutral']\n",
    "negative_0 = topic_0_sentiment['Negative']\n",
    "positive_1 = topic_1_sentiment['Positive']\n",
    "neutral_1 = topic_1_sentiment['Neutral']\n",
    "negative_1 = topic_1_sentiment['Negative']\n",
    "labels = ['Positive', 'Neutral', 'Negative' ]\n",
    "sentiment_count_0 = [positive_0, neutral_0, negative_0]\n",
    "sentiment_count_1 = [positive_1, neutral_1, negative_1]"
   ]
  },
  {
   "cell_type": "code",
   "execution_count": 57,
   "id": "654207dc",
   "metadata": {},
   "outputs": [
    {
     "data": {
      "image/png": "[encoded data removed]",
      "text/plain": [
       "<Figure size 432x288 with 1 Axes>"
      ]
     },
     "metadata": {},
     "output_type": "display_data"
    }
   ],
   "source": [
    "plt.pie(sentiment_count_0, labels = labels, autopct='%.0f%%')\n",
    "plt.show()"
   ]
  },
  {
   "cell_type": "code",
   "execution_count": 58,
   "id": "bf965721",
   "metadata": {},
   "outputs": [
    {
     "data": {
      "image/png": "[encoded data removed]",
      "text/plain": [
       "<Figure size 432x288 with 1 Axes>"
      ]
     },
     "metadata": {},
     "output_type": "display_data"
    }
   ],
   "source": [
    "plt.pie(sentiment_count_1, labels = labels, autopct='%.0f%%')\n",
    "plt.show()"
   ]
  },
  {
   "cell_type": "code",
   "execution_count": 67,
   "id": "272a1ecc",
   "metadata": {},
   "outputs": [],
   "source": [
    "topic_0_negative_df = topic_0_df[(topic_0_df[\"sentiment\"] == \"Negative\")]\n",
    "topic_1_negative_df = topic_1_df[(topic_1_df[\"sentiment\"] == \"Negative\")]"
   ]
  },
  {
   "cell_type": "code",
   "execution_count": 71,
   "id": "8052e229",
   "metadata": {},
   "outputs": [
    {
     "name": "stdout",
     "output_type": "stream",
     "text": [
      "       Unnamed: 0                       date            user  \\\n",
      "0               0  2022-04-26 08:44:26+00:00  ReinerKurzmann   \n",
      "4               4  2022-04-26 08:26:51+00:00          Amie42   \n",
      "6               6  2022-04-26 08:24:55+00:00   PTNisWarCrmnl   \n",
      "7               7  2022-04-26 08:00:07+00:00   rouTfuAeiropA   \n",
      "16             16  2022-04-26 06:48:23+00:00    ReegerLothar   \n",
      "...           ...                        ...             ...   \n",
      "48260       48260  2009-09-23 12:02:19+00:00  ZeroMC_Germany   \n",
      "48261       48261  2009-09-23 12:01:31+00:00      Compleo_CS   \n",
      "48269       48269  2009-09-20 13:53:20+00:00      Compleo_CS   \n",
      "48270       48270  2009-09-20 13:35:08+00:00       Babyvater   \n",
      "48271       48271  2009-09-16 10:19:47+00:00      Compleo_CS   \n",
      "\n",
      "                                                   tweet  \\\n",
      "0      @kkklawitter @EggMarkus @sepp_reitberger Das e...   \n",
      "4      @Mingiam10 @kkklawitter Mein Punkt ist ja der ...   \n",
      "6      @kkklawitter @Mingiam10 @DerGraslutscher Noch ...   \n",
      "7      @kkklawitter Für die Ladeinfrastruktur braucht...   \n",
      "16     Mit dieser Batterie hat er eine technischen Vo...   \n",
      "...                                                  ...   \n",
      "48260  RT @rweIAA http://znl.me/2DG1O O'zapft is! Die...   \n",
      "48261  http://znl.me/2DG1O O'zapft is! Die erste #RWE...   \n",
      "48269  @LeGreque Klar! So sieht die #Autostrom Ladesä...   \n",
      "48270  @rweiaa Kann ich mal die Ladesäule für zu Haus...   \n",
      "48271  Zum Schmunzeln! Die #RWE Ladesaeule im etwas a...   \n",
      "\n",
      "                                                     url  \\\n",
      "0      https://twitter.com/ReinerKurzmann/status/1518...   \n",
      "4      https://twitter.com/Amie42/status/151886919943...   \n",
      "6      https://twitter.com/PTNisWarCrmnl/status/15188...   \n",
      "7      https://twitter.com/rouTfuAeiropA/status/15188...   \n",
      "16     https://twitter.com/ReegerLothar/status/151884...   \n",
      "...                                                  ...   \n",
      "48260  https://twitter.com/ZeroMC_Germany/status/4313...   \n",
      "48261   https://twitter.com/Compleo_CS/status/4313715340   \n",
      "48269   https://twitter.com/Compleo_CS/status/4123693186   \n",
      "48270    https://twitter.com/Babyvater/status/4123457084   \n",
      "48271   https://twitter.com/Compleo_CS/status/4026471964   \n",
      "\n",
      "                                         tweet_processed  topic  negative  \\\n",
      "0      @kkklawitter @eggmarkus @sepp_reitberger einzi...      0     0.154   \n",
      "4      @mingiam10 @kkklawitter mein punkt ist ja park...      0     0.178   \n",
      "6      @kkklawitter @mingiam10 @dergraslutscher noch ...      0     0.162   \n",
      "7      @kkklawitter ladeinfrastruktur braucht echte l...      0     0.271   \n",
      "16     mit dieser batterie hat er eine technischen vo...      0     0.182   \n",
      "...                                                  ...    ...       ...   \n",
      "48260  rt @rweiaa http://znl.me/2dg1o o'zapft is! ers...      0     0.218   \n",
      "48261  http://znl.me/2dg1o o'zapft is! erste #rwe #au...      0     0.244   \n",
      "48269  @legreque klar! so sieht #autostrom ladesäule ...      0     0.271   \n",
      "48270  @rweiaa kann ich mal ladesäule hause sehen? da...      0     0.295   \n",
      "48271  zum schmunzeln! #rwe ladesaeule im etwas ander...      0     0.276   \n",
      "\n",
      "       neutral  positive  compound sentiment  \n",
      "0        0.846     0.000   -0.8316  Negative  \n",
      "4        0.822     0.000   -0.8316  Negative  \n",
      "6        0.838     0.000   -0.7987  Negative  \n",
      "7        0.660     0.069   -0.7783  Negative  \n",
      "16       0.818     0.000   -0.8316  Negative  \n",
      "...        ...       ...       ...       ...  \n",
      "48260    0.782     0.000   -0.6360  Negative  \n",
      "48261    0.756     0.000   -0.6360  Negative  \n",
      "48269    0.729     0.000   -0.6673  Negative  \n",
      "48270    0.705     0.000   -0.6360  Negative  \n",
      "48271    0.724     0.000   -0.6360  Negative  \n",
      "\n",
      "[15505 rows x 12 columns]\n",
      "       Unnamed: 0                       date            user  \\\n",
      "15             15  2022-04-26 07:00:01+00:00     energie_rlp   \n",
      "27             27  2022-04-26 02:55:01+00:00    SmartHomeEU1   \n",
      "120           120  2022-04-25 09:39:56+00:00         giesion   \n",
      "126           126  2022-04-25 09:27:05+00:00  sofarevoluzzer   \n",
      "143           143  2022-04-25 08:42:22+00:00      EinRobert1   \n",
      "...           ...                        ...             ...   \n",
      "48243       48243  2009-11-28 14:27:45+00:00      Compleo_CS   \n",
      "48248       48248  2009-11-12 14:53:30+00:00      Compleo_CS   \n",
      "48253       48253  2009-10-13 09:40:04+00:00      Compleo_CS   \n",
      "48266       48266  2009-09-22 10:28:46+00:00      Compleo_CS   \n",
      "48272       48272  2009-08-06 09:30:05+00:00  fuldaerzeitung   \n",
      "\n",
      "                                                   tweet  \\\n",
      "15     🚗🔌🔋 Wie hat sich die #Ladeinfrastruktur in #RL...   \n",
      "27     Die Ladeinfrastruktur für Elektromobilität umf...   \n",
      "120    @Mitzi62042431 @_marcus_zi_ @UliMolter @atlant...   \n",
      "126    @kkklawitter Unterstützt solche Lösungen! Hier...   \n",
      "143    @Cheeky38466727 @UliMolter Die Ladeinfrastrukt...   \n",
      "...                                                  ...   \n",
      "48243  http://twitpic.com/rb2hh #jnrw09 die drei von ...   \n",
      "48248  http://twitpic.com/p8b7s - Ein Blick in die Zu...   \n",
      "48253  http://twitpic.com/lcyq4 Reichert:\"Unsere Visi...   \n",
      "48266  @news89 Die Standardisierung der Ladeinfrastru...   \n",
      "48272  Autobauer planen Standard-Ladesäule für Elektr...   \n",
      "\n",
      "                                                     url  \\\n",
      "15     https://twitter.com/energie_rlp/status/1518847...   \n",
      "27     https://twitter.com/SmartHomeEU1/status/151878...   \n",
      "120    https://twitter.com/giesion/status/15185252065...   \n",
      "126    https://twitter.com/sofarevoluzzer/status/1518...   \n",
      "143    https://twitter.com/EinRobert1/status/15185107...   \n",
      "...                                                  ...   \n",
      "48243   https://twitter.com/Compleo_CS/status/6142009812   \n",
      "48248   https://twitter.com/Compleo_CS/status/5650644279   \n",
      "48253   https://twitter.com/Compleo_CS/status/4831479812   \n",
      "48266   https://twitter.com/Compleo_CS/status/4169273850   \n",
      "48272  https://twitter.com/fuldaerzeitung/status/3163...   \n",
      "\n",
      "                                         tweet_processed  topic  negative  \\\n",
      "15     🚗🔌🔋 wie hat sich #ladeinfrastruktur #rlp entwi...      1     0.182   \n",
      "27     ladeinfrastruktur elektromobilität umfasst bei...      1     0.253   \n",
      "120    @mitzi62042431 @_marcus_zi_ @ulimolter @atlant...      1     0.174   \n",
      "126    @kkklawitter unterstützt solche lösungen! hier...      1     0.245   \n",
      "143    @cheeky38466727 @ulimolter ladeinfrastruktur h...      1     0.231   \n",
      "...                                                  ...    ...       ...   \n",
      "48243  http://twitpic.com/rb2hh #jnrw09 drei #ladesae...      1     0.281   \n",
      "48248  http://twitpic.com/p8b7s - ein blick zukunft:d...      1     0.262   \n",
      "48253  http://twitpic.com/lcyq4 reichert:\"unsere visi...      1     0.342   \n",
      "48266  @news89 standardisierung ladeinfrastruktur #el...      1     0.231   \n",
      "48272  autobauer planen standard-ladesäule elektroaut...      1     0.231   \n",
      "\n",
      "       neutral  positive  compound sentiment  \n",
      "15       0.818     0.000   -0.8316  Negative  \n",
      "27       0.747     0.000   -0.8316  Negative  \n",
      "120      0.826     0.000   -0.8316  Negative  \n",
      "126      0.755     0.000   -0.8439  Negative  \n",
      "143      0.769     0.000   -0.5994  Negative  \n",
      "...        ...       ...       ...       ...  \n",
      "48243    0.719     0.000   -0.5994  Negative  \n",
      "48248    0.738     0.000   -0.5994  Negative  \n",
      "48253    0.570     0.088   -0.7783  Negative  \n",
      "48266    0.769     0.000   -0.5994  Negative  \n",
      "48272    0.769     0.000   -0.5994  Negative  \n",
      "\n",
      "[6036 rows x 12 columns]\n"
     ]
    }
   ],
   "source": [
    "print(topic_0_negative_df)\n",
    "print(topic_1_negative_df)\n",
    "\n",
    "topic_0_negative_df.to_csv(\"negative_topic_0.csv\")\n",
    "topic_1_negative_df.to_csv(\"negative_topic_1.csv\")"
   ]
  },
  {
   "cell_type": "code",
   "execution_count": 78,
   "id": "c087dbe2",
   "metadata": {},
   "outputs": [
    {
     "name": "stdout",
     "output_type": "stream",
     "text": [
      "(29296, 12)\n",
      "(15667, 12)\n"
     ]
    },
    {
     "data": {
      "text/plain": [
       "<AxesSubplot:xlabel='date', ylabel='compound'>"
      ]
     },
     "execution_count": 78,
     "metadata": {},
     "output_type": "execute_result"
    },
    {
     "data": {
      "image/png": "[encoded data removed]",
      "text/plain": [
       "<Figure size 432x288 with 1 Axes>"
      ]
     },
     "metadata": {},
     "output_type": "display_data"
    }
   ],
   "source": [
    "print(topic_0_df.shape)\n",
    "topic_0_df = topic_0_df[(topic_0_df['date'] > \"2020-07-08\")]\n",
    "print(topic_0_df.shape)\n",
    "topic_0_df['date'] = pd.to_datetime(topic_0_df['date'])\n",
    "\n",
    "sns.lineplot(data=topic_0_df, x=\"date\", y=\"compound\")\n"
   ]
  }
 ],
 "metadata": {
  "kernelspec": {
   "display_name": "Python 3 (ipykernel)",
   "language": "python",
   "name": "python3"
  },
  "language_info": {
   "codemirror_mode": {
    "name": "ipython",
    "version": 3
   },
   "file_extension": ".py",
   "mimetype": "text/x-python",
   "name": "python",
   "nbconvert_exporter": "python",
   "pygments_lexer": "ipython3",
   "version": "3.9.7"
  }
 },
 "nbformat": 4,
 "nbformat_minor": 5
}
