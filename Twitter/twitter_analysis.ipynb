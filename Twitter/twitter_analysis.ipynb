{
 "cells": [
  {
   "cell_type": "code",
   "execution_count": 119,
   "id": "f53a8594",
   "metadata": {},
   "outputs": [],
   "source": [
    "import pandas as pd\n",
    "from vaderSentiment.vaderSentiment import SentimentIntensityAnalyzer\n",
    "import matplotlib.pyplot as plt\n",
    "import seaborn as sns\n",
    "sns.set_theme(palette=\"pastel\")\n",
    "from collections import Counter\n",
    "from itertools import combinations\n",
    "import bitermplus as btm\n",
    "import tmplot as tmp\n",
    "import re\n",
    "import tweepy\n",
    "import requests\n",
    "import numpy as np\n",
    "import matplotlib.dates as md\n",
    "import os\n",
    "import datetime\n",
    "from statistics import mean\n",
    "import numpy as np\n",
    "import statistics\n",
    "from statsmodels.tsa.stattools import adfuller"
   ]
  },
  {
   "cell_type": "code",
   "execution_count": 2,
   "id": "0a3ba071",
   "metadata": {},
   "outputs": [],
   "source": [
    "work_dir = \"C:/Users/fabia/OneDrive - Otto-Friedrich-Universität Bamberg/Master/Masterarbeit/Data/Twitter\""
   ]
  },
  {
   "cell_type": "code",
   "execution_count": 3,
   "id": "12c60d88",
   "metadata": {},
   "outputs": [],
   "source": [
    "tweets_df = pd.read_csv(work_dir + \"/all_tweets.csv\")"
   ]
  },
  {
   "cell_type": "code",
   "execution_count": 4,
   "id": "e3fc4480",
   "metadata": {},
   "outputs": [
    {
     "name": "stdout",
     "output_type": "stream",
     "text": [
      "(48278, 5)\n"
     ]
    }
   ],
   "source": [
    "print(tweets_df.shape)"
   ]
  },
  {
   "cell_type": "code",
   "execution_count": 5,
   "id": "a74e9e07",
   "metadata": {},
   "outputs": [],
   "source": [
    "tweets_df['date'] = pd.to_datetime(tweets_df['date'], errors='coerce')\n"
   ]
  },
  {
   "cell_type": "code",
   "execution_count": 6,
   "id": "82c74af4",
   "metadata": {},
   "outputs": [],
   "source": [
    "tweets_df = tweets_df[(tweets_df['date'] > \"2020-07-07\")]"
   ]
  },
  {
   "cell_type": "code",
   "execution_count": 7,
   "id": "adf4cd05",
   "metadata": {},
   "outputs": [
    {
     "name": "stdout",
     "output_type": "stream",
     "text": [
      "(23761, 5)\n",
      "0        @kkklawitter @EggMarkus @sepp_reitberger Das e...\n",
      "1        amperio GmbH: mobileeee und amperio starten la...\n",
      "2        Zur Ladeinfrastruktur für Elektrofahrzeuge geh...\n",
      "3        @chris_pyak @JRehborn @HerrPhteven Dazu noch n...\n",
      "4        @Mingiam10 @kkklawitter Mein Punkt ist ja der ...\n",
      "                               ...                        \n",
      "23756    ARD-Reporter Alexander Noodt - E-Auto.\\nE-Säul...\n",
      "23757    @BekkenkMarkus @BSerpent86 @Tulubay1 @KroegerO...\n",
      "23758    @mr_calico @mulberry2nd @ZoePionierin In der W...\n",
      "23759    @drandreaskruger #Mercedes usf. warten auf den...\n",
      "23760    @drandreaskruger Schön in der Doku zu sehen, w...\n",
      "Name: tweet, Length: 23761, dtype: object\n"
     ]
    }
   ],
   "source": [
    "print(tweets_df.shape)\n",
    "print(tweets_df[\"tweet\"])"
   ]
  },
  {
   "cell_type": "code",
   "execution_count": 8,
   "id": "5bbb9737",
   "metadata": {},
   "outputs": [],
   "source": [
    "# calculate Tweet sentiment\n",
    "\n",
    "analyzer = SentimentIntensityAnalyzer()\n",
    "def calculate_sentiment(dataframe):\n",
    "    utf_encoded = dataframe[\"tweet\"].encode('utf-16', 'surrogatepass').decode('utf-16')\n",
    "    vs = analyzer.polarity_scores(utf_encoded)\n",
    "    neg_list.append(vs[\"neg\"])\n",
    "    neu_list.append(vs[\"neu\"])\n",
    "    pos_list.append(vs[\"pos\"])\n",
    "    com_list.append(vs[\"compound\"])\n",
    "    return dataframe"
   ]
  },
  {
   "cell_type": "code",
   "execution_count": 9,
   "id": "a52f7303",
   "metadata": {},
   "outputs": [],
   "source": [
    "neg_list = []\n",
    "neu_list = []\n",
    "pos_list = []\n",
    "com_list = []\n",
    "tweets_df = tweets_df.apply(lambda x: calculate_sentiment(x), axis=1)"
   ]
  },
  {
   "cell_type": "code",
   "execution_count": 10,
   "id": "07bf033d",
   "metadata": {},
   "outputs": [],
   "source": [
    "tweets_df[\"negative\"] = neg_list\n",
    "tweets_df[\"neutral\"] = neu_list\n",
    "tweets_df[\"positive\"] = pos_list\n",
    "tweets_df[\"compound\"] = com_list"
   ]
  },
  {
   "cell_type": "code",
   "execution_count": 11,
   "id": "78556904",
   "metadata": {},
   "outputs": [
    {
     "name": "stdout",
     "output_type": "stream",
     "text": [
      "       Unnamed: 0                      date             user  \\\n",
      "0               0 2022-04-26 08:44:26+00:00   ReinerKurzmann   \n",
      "1               1 2022-04-26 08:44:03+00:00  na_presseportal   \n",
      "2               2 2022-04-26 08:40:02+00:00     SmartHomeEU1   \n",
      "3               3 2022-04-26 08:32:54+00:00       EPhisoloph   \n",
      "4               4 2022-04-26 08:26:51+00:00           Amie42   \n",
      "...           ...                       ...              ...   \n",
      "23756       23756 2020-07-07 05:40:36+00:00          BrutDes   \n",
      "23757       23757 2020-07-07 05:09:42+00:00         4e657264   \n",
      "23758       23758 2020-07-07 04:18:55+00:00     DSchrombgens   \n",
      "23759       23759 2020-07-07 00:20:19+00:00   ArnoldSchiller   \n",
      "23760       23760 2020-07-07 00:18:26+00:00   ArnoldSchiller   \n",
      "\n",
      "                                                   tweet  \\\n",
      "0      @kkklawitter @EggMarkus @sepp_reitberger Das e...   \n",
      "1      amperio GmbH: mobileeee und amperio starten la...   \n",
      "2      Zur Ladeinfrastruktur für Elektrofahrzeuge geh...   \n",
      "3      @chris_pyak @JRehborn @HerrPhteven Dazu noch n...   \n",
      "4      @Mingiam10 @kkklawitter Mein Punkt ist ja der ...   \n",
      "...                                                  ...   \n",
      "23756  ARD-Reporter Alexander Noodt - E-Auto.\\nE-Säul...   \n",
      "23757  @BekkenkMarkus @BSerpent86 @Tulubay1 @KroegerO...   \n",
      "23758  @mr_calico @mulberry2nd @ZoePionierin In der W...   \n",
      "23759  @drandreaskruger #Mercedes usf. warten auf den...   \n",
      "23760  @drandreaskruger Schön in der Doku zu sehen, w...   \n",
      "\n",
      "                                                     url  negative  neutral  \\\n",
      "0      https://twitter.com/ReinerKurzmann/status/1518...     0.154    0.846   \n",
      "1      https://twitter.com/na_presseportal/status/151...     0.000    1.000   \n",
      "2      https://twitter.com/SmartHomeEU1/status/151887...     0.000    1.000   \n",
      "3      https://twitter.com/EPhisoloph/status/15188707...     0.000    1.000   \n",
      "4      https://twitter.com/Amie42/status/151886919943...     0.178    0.822   \n",
      "...                                                  ...       ...      ...   \n",
      "23756  https://twitter.com/BrutDes/status/12803761471...     0.195    0.805   \n",
      "23757  https://twitter.com/4e657264/status/1280368372...     0.000    1.000   \n",
      "23758  https://twitter.com/DSchrombgens/status/128035...     0.079    0.830   \n",
      "23759  https://twitter.com/ArnoldSchiller/status/1280...     0.270    0.730   \n",
      "23760  https://twitter.com/ArnoldSchiller/status/1280...     0.000    1.000   \n",
      "\n",
      "       positive  compound  \n",
      "0         0.000   -0.8316  \n",
      "1         0.000    0.0000  \n",
      "2         0.000    0.0000  \n",
      "3         0.000    0.0000  \n",
      "4         0.000   -0.8316  \n",
      "...         ...       ...  \n",
      "23756     0.000   -0.8802  \n",
      "23757     0.000    0.0000  \n",
      "23758     0.091   -0.1027  \n",
      "23759     0.000   -0.9371  \n",
      "23760     0.000    0.0000  \n",
      "\n",
      "[23761 rows x 9 columns]\n"
     ]
    }
   ],
   "source": [
    "print(tweets_df)"
   ]
  },
  {
   "cell_type": "code",
   "execution_count": 12,
   "id": "142de78f",
   "metadata": {},
   "outputs": [],
   "source": [
    "def assign_sentiment(row):\n",
    "    float_compound = float(row['compound'])\n",
    "    if float_compound >= 0.05:\n",
    "        val = 'Positive'\n",
    "    elif float_compound <= -0.05:\n",
    "        val = 'Negative'\n",
    "    else:\n",
    "        val = 'Neutral'\n",
    "    return val"
   ]
  },
  {
   "cell_type": "code",
   "execution_count": 13,
   "id": "a7d55b82",
   "metadata": {},
   "outputs": [],
   "source": [
    "tweets_df['sentiment'] = tweets_df.apply(assign_sentiment, axis=1)"
   ]
  },
  {
   "cell_type": "code",
   "execution_count": 14,
   "id": "2f5180ed",
   "metadata": {},
   "outputs": [],
   "source": [
    "tweet_sentiment = tweets_df.groupby(['sentiment']).size()\n",
    "\n",
    "positive = tweet_sentiment['Positive']\n",
    "neutral = tweet_sentiment['Neutral']\n",
    "negative = tweet_sentiment['Negative']\n",
    "\n",
    "labels = ['Positive', 'Neutral', 'Negative' ]\n",
    "sentiment_count = [positive, neutral, negative]"
   ]
  },
  {
   "cell_type": "code",
   "execution_count": 15,
   "id": "86d2f711",
   "metadata": {},
   "outputs": [
    {
     "data": {
      "image/png": "[encoded data removed]",
      "text/plain": [
       "<Figure size 432x288 with 1 Axes>"
      ]
     },
     "metadata": {},
     "output_type": "display_data"
    }
   ],
   "source": [
    "plt.pie(sentiment_count, labels = labels, autopct='%.0f%%')\n",
    "plt.show()"
   ]
  },
  {
   "cell_type": "code",
   "execution_count": 16,
   "id": "2f889975",
   "metadata": {},
   "outputs": [
    {
     "name": "stdout",
     "output_type": "stream",
     "text": [
      "0         ReinerKurzmann\n",
      "1        na_presseportal\n",
      "2           SmartHomeEU1\n",
      "3             EPhisoloph\n",
      "4                 Amie42\n",
      "              ...       \n",
      "23756            BrutDes\n",
      "23757           4e657264\n",
      "23758       DSchrombgens\n",
      "23759     ArnoldSchiller\n",
      "23760     ArnoldSchiller\n",
      "Name: user, Length: 23761, dtype: object\n"
     ]
    }
   ],
   "source": [
    "print(tweets_df[\"user\"])"
   ]
  },
  {
   "cell_type": "code",
   "execution_count": 20,
   "id": "72938926",
   "metadata": {},
   "outputs": [],
   "source": [
    "unique_users = tweets_df[\"user\"].unique()\n",
    "\n",
    "user_df = pd.DataFrame(unique_users, columns = ['users'])\n",
    "\n",
    "follower_count = []\n",
    "\n",
    "for user in unique_users:\n",
    "    str_user = str(user)\n",
    "    request_link = \"https://cdn.syndication.twimg.com/widgets/followbutton/info.json?screen_names=\"+str_user\n",
    "    \n",
    "    try:\n",
    "        request_result = requests.get(request_link).json()\n",
    "    except:\n",
    "        request_result = None\n",
    "    \n",
    "    try:\n",
    "        follower = int(request_result[0][\"followers_count\"])\n",
    "    except:\n",
    "        follower = None\n",
    "    \n",
    "    follower_count.append(follower)\n",
    "\n",
    "user_df[\"follower_count\"] = follower_count"
   ]
  },
  {
   "cell_type": "code",
   "execution_count": 21,
   "id": "a6463a5c",
   "metadata": {},
   "outputs": [
    {
     "name": "stdout",
     "output_type": "stream",
     "text": [
      "SmartHomeEU1    957\n",
      "ElectriveNet    688\n",
      "emobicon        454\n",
      "stang2k         198\n",
      "news_nowgmbh    132\n",
      "               ... \n",
      "matzeman          1\n",
      "cantina_guy       1\n",
      "PIPO1245671       1\n",
      "MrVarulf          1\n",
      "BrutDes           1\n",
      "Name: user, Length: 9373, dtype: int64\n"
     ]
    }
   ],
   "source": [
    "print(tweets_df['user'].value_counts())"
   ]
  },
  {
   "cell_type": "code",
   "execution_count": 22,
   "id": "c468cc38",
   "metadata": {},
   "outputs": [
    {
     "name": "stdout",
     "output_type": "stream",
     "text": [
      "46197547.0\n"
     ]
    }
   ],
   "source": [
    "print(user_df['follower_count'].sum())"
   ]
  },
  {
   "cell_type": "code",
   "execution_count": 23,
   "id": "f9dd3f5e",
   "metadata": {},
   "outputs": [
    {
     "name": "stdout",
     "output_type": "stream",
     "text": [
      "0        113\n",
      "1       6729\n",
      "2       1023\n",
      "3         10\n",
      "4        648\n",
      "        ... \n",
      "9368     138\n",
      "9369    3583\n",
      "9370     148\n",
      "9371     229\n",
      "9372      10\n",
      "Name: follower_count, Length: 9373, dtype: object\n"
     ]
    }
   ],
   "source": [
    "user_df['follower_count'] = user_df['follower_count'].fillna('').astype(str).str.replace(\".0\",\"\",regex=False)\n",
    "print(user_df['follower_count'])"
   ]
  },
  {
   "cell_type": "code",
   "execution_count": 24,
   "id": "7eb7646d",
   "metadata": {},
   "outputs": [],
   "source": [
    "#user_df.to_csv(\"users_with_followers.csv\")"
   ]
  },
  {
   "cell_type": "code",
   "execution_count": 25,
   "id": "2dc73798",
   "metadata": {},
   "outputs": [
    {
     "name": "stdout",
     "output_type": "stream",
     "text": [
      "                users follower_count\n",
      "0      ReinerKurzmann            113\n",
      "1     na_presseportal           6729\n",
      "2        SmartHomeEU1           1023\n",
      "3          EPhisoloph             10\n",
      "4              Amie42            648\n",
      "...               ...            ...\n",
      "9368         haunsteg            138\n",
      "9369       METRO_News           3583\n",
      "9370     JoachimStais            148\n",
      "9371  WilfriedGlaube2            229\n",
      "9372          BrutDes             10\n",
      "\n",
      "[9373 rows x 2 columns]\n"
     ]
    }
   ],
   "source": [
    "print(user_df)"
   ]
  },
  {
   "cell_type": "code",
   "execution_count": 26,
   "id": "323aa8e4",
   "metadata": {},
   "outputs": [],
   "source": [
    "unique_users = user_df['users'].tolist()"
   ]
  },
  {
   "cell_type": "code",
   "execution_count": 27,
   "id": "664e389d",
   "metadata": {},
   "outputs": [
    {
     "name": "stdout",
     "output_type": "stream",
     "text": [
      "9373\n",
      "['ReinerKurzmann' 'na_presseportal' 'SmartHomeEU1' 'EPhisoloph' 'Amie42'\n",
      " 'verkehrswendeb2' 'PTNisWarCrmnl' 'rouTfuAeiropA' 'GruenUrsula'\n",
      " 'Elbeelfe' 'OxKing' 'FamagustaG' 'Baeumleschule' 'EggMarkus'\n",
      " 'abbdeutschland' 'energie_rlp' 'ReegerLothar' 'skippertom3' 'manuel01St'\n",
      " 'RenatoRavioli' 'joschtl' 'Redaktion_GEB' 'christianknol13'\n",
      " 'mikenolte_de' 'franke_karsten' 'Acostard' 'martin_kraft' 'SaschaPPP'\n",
      " 'TKornetto' 'designmobility' 'bmzimmermann' 'Andreas88730797'\n",
      " 'ChPeter_AT' 'troy_mc_clure' 'TorstenGajda' 'fancyPT' 'DanielaKeusen'\n",
      " 'TTinaani' 'DeTottel' 'marzlberger' 'SimonTschannett' 'MScHome'\n",
      " 'cruzii1337' 'consolinno' 'Mingiam10' 'USchwart' 'xberg_edge' 'Zeitwort_'\n",
      " 'DerDienstreiser' 'slaue' 'ropietsch' 'benjiButo' 'qualityofdeath'\n",
      " 'mamuente' 'RaddatzWWF' 'stang2k' 'ElectriveNet' 'elektrologisch'\n",
      " 'Alexand59722739' 'DominicMuenster' 'Klarname_LLL' 'FreakeyDE'\n",
      " 'bremerhaven_de' 'FreieWeltEu' 'Giefers' 'CanniST448' 'FrauDoktorX'\n",
      " 'derjebby' 'mainpcerlenbach' 'BaumbergOwl' 'Stolen42' 'Rufus_CDR'\n",
      " 'clrleopold' 'tobiasanton' 'gulliver_77' 'we_drive_at' 'KDoofen'\n",
      " 'TruckerMagazin' 'dozykraut' 'andee_0711' 'EvilLauge' 'HerrPfarrerin'\n",
      " 'StadtwerkeKiel' 'mackel_eu' 'JobsBrandenburg' 'die20er_innen' 'Raupe3'\n",
      " 'SPOE_Diesel' 'geekodernerd' 'robbie_da1' 'phantomthk' 'bierino'\n",
      " 'frank_reddy' 'Taunus_Larry']\n"
     ]
    }
   ],
   "source": [
    "print(len(unique_users))\n",
    "\n",
    "split_users = np.array_split(unique_users, 100)\n",
    "print(split_users[0])"
   ]
  },
  {
   "cell_type": "code",
   "execution_count": 61,
   "id": "0b56b857",
   "metadata": {},
   "outputs": [
    {
     "name": "stderr",
     "output_type": "stream",
     "text": [
      "Rate limit exceeded. Sleeping for 546 seconds.\n"
     ]
    }
   ],
   "source": [
    "bearer_token = \"AAAAAAAAAAAAAAAAAAAAAOR%2BbwEAAAAASwiLtwOgXt%2FtG0EJIrLdaph2Xsw%3DspW7CHN0I6KBcjdy4BVvj75LpMAdgQ5l3DIkrcVWMFz8FLIHlz\"\n",
    "\n",
    "client = tweepy.Client(bearer_token, wait_on_rate_limit=True)\n",
    "\n",
    "user_id = []\n",
    "user_name = []\n",
    "for chunk in split_users:\n",
    "    users = \",\".join(chunk)\n",
    "\n",
    "    response = client.get_users(usernames=users)\n",
    "\n",
    "    for user in response.data:\n",
    "        user_id.append(user.id)\n",
    "        user_name.append(user.username)\n",
    "\n",
    "new_user_df = pd.DataFrame(user_id, columns = ['user_id'])\n",
    "new_user_df[\"user_name\"] = user_name"
   ]
  },
  {
   "cell_type": "code",
   "execution_count": 62,
   "id": "6b231a5f",
   "metadata": {},
   "outputs": [
    {
     "name": "stdout",
     "output_type": "stream",
     "text": [
      "                  user_id        user_name\n",
      "0               372243368   ReinerKurzmann\n",
      "1                44894572  na_presseportal\n",
      "2     1254490069299322882     SmartHomeEU1\n",
      "3     1251959965209841664       EPhisoloph\n",
      "4               212992615           Amie42\n",
      "...                   ...              ...\n",
      "9319           3075117101       chaase1337\n",
      "9320             59542471     Stefan_Urbat\n",
      "9321           3068639057    J_Hildermeier\n",
      "9322             14829549         kamil2_0\n",
      "9323           4739156727          MAZirke\n",
      "\n",
      "[9324 rows x 2 columns]\n",
      "                users follower_count\n",
      "0      ReinerKurzmann            114\n",
      "1     na_presseportal           6641\n",
      "2        SmartHomeEU1            977\n",
      "3          EPhisoloph             11\n",
      "4              Amie42            598\n",
      "...               ...            ...\n",
      "9346       chaase1337              5\n",
      "9347     Stefan_Urbat           2000\n",
      "9348    J_Hildermeier            711\n",
      "9349         kamil2_0           1033\n",
      "9350          MAZirke            387\n",
      "\n",
      "[9351 rows x 2 columns]\n"
     ]
    }
   ],
   "source": [
    "print(new_user_df)\n",
    "print(user_df)"
   ]
  },
  {
   "cell_type": "code",
   "execution_count": 63,
   "id": "58ab4313",
   "metadata": {},
   "outputs": [],
   "source": [
    "merged_user_df = pd.merge(user_df, new_user_df, left_on='users', right_on='user_name', how='left')"
   ]
  },
  {
   "cell_type": "code",
   "execution_count": 77,
   "id": "a21c1367",
   "metadata": {},
   "outputs": [],
   "source": [
    "merged_user_df[\"user_id\"] = merged_user_df[\"user_id\"].astype('Int64')"
   ]
  },
  {
   "cell_type": "code",
   "execution_count": 80,
   "id": "d6d17c1e",
   "metadata": {},
   "outputs": [
    {
     "name": "stdout",
     "output_type": "stream",
     "text": [
      "     follower_count              user_id        user_name\n",
      "0               114            372243368   ReinerKurzmann\n",
      "1              6641             44894572  na_presseportal\n",
      "2               977  1254490069299322880     SmartHomeEU1\n",
      "3                11  1251959965209841664       EPhisoloph\n",
      "4               598            212992615           Amie42\n",
      "...             ...                  ...              ...\n",
      "9346              5           3075117101       chaase1337\n",
      "9347           2000             59542471     Stefan_Urbat\n",
      "9348            711           3068639057    J_Hildermeier\n",
      "9349           1033             14829549         kamil2_0\n",
      "9350            387           4739156727          MAZirke\n",
      "\n",
      "[9351 rows x 3 columns]\n"
     ]
    }
   ],
   "source": [
    "print(merged_user_df)"
   ]
  },
  {
   "cell_type": "code",
   "execution_count": 81,
   "id": "142ec893",
   "metadata": {},
   "outputs": [],
   "source": [
    "merged_user_df.to_csv(\"merged_user.csv\")"
   ]
  },
  {
   "cell_type": "code",
   "execution_count": 97,
   "id": "21fb8d86",
   "metadata": {},
   "outputs": [],
   "source": [
    "# Topic Modelling\n",
    "\n",
    "# Remove punctuation\n",
    "tweets_df['tweet_processed'] = tweets_df['tweet'].map(lambda x: re.sub('[,\\.!?]', '', x))\n",
    "# Convert the titles to lowercase\n",
    "tweets_df['tweet_processed'] = tweets_df['tweet'].map(lambda x: x.lower())\n",
    "\n",
    "tweets = tweets_df['tweet_processed'].str.strip().tolist()\n",
    "\n",
    "# PREPROCESSING\n",
    "# Obtaining terms frequency in a sparse matrix and corpus vocabulary\n",
    "tweets_X, tweets_vocabulary, tweets_vocab_dict = btm.get_words_freqs(tweets)\n",
    "tweets_tf = np.array(tweets_X.sum(axis=0)).ravel()"
   ]
  },
  {
   "cell_type": "code",
   "execution_count": 98,
   "id": "fdf58573",
   "metadata": {},
   "outputs": [],
   "source": [
    "# Vectorizing documents\n",
    "tweets_docs_vec = btm.get_vectorized_docs(tweets, tweets_vocabulary)\n",
    "tweets_docs_lens = list(map(len, tweets_docs_vec))"
   ]
  },
  {
   "cell_type": "code",
   "execution_count": 99,
   "id": "c065f9bd",
   "metadata": {},
   "outputs": [],
   "source": [
    "# Generating title biterms\n",
    "tweets_biterms = btm.get_biterms(tweets_docs_vec)"
   ]
  },
  {
   "cell_type": "code",
   "execution_count": 100,
   "id": "f5f6b6de",
   "metadata": {},
   "outputs": [],
   "source": [
    "# Initializing and running titles model\n",
    "def btm_model(topics, alpha, beta):\n",
    "    tweets_model = btm.BTM(\n",
    "        tweets_X, tweets_vocabulary, seed=12321, T=topics, M=5, alpha=alpha, beta=beta)\n",
    "    tweets_model.fit(tweets_biterms, iterations=20)\n",
    "    tweets_p_zd = tweets_model.transform(tweets_docs_vec)\n",
    "    \n",
    "    return tweets_model\n",
    "\n",
    "def Average(l): \n",
    "    avg = sum(l) / len(l) \n",
    "    return avg"
   ]
  },
  {
   "cell_type": "code",
   "execution_count": 101,
   "id": "d08a50f4",
   "metadata": {},
   "outputs": [
    {
     "name": "stderr",
     "output_type": "stream",
     "text": [
      "100%|██████████████████████████████████████████████████████████████████████████████████| 20/20 [00:05<00:00,  3.51it/s]\n",
      "100%|█████████████████████████████████████████████████████████████████████████| 23713/23713 [00:00<00:00, 24934.77it/s]\n",
      "100%|██████████████████████████████████████████████████████████████████████████████████| 20/20 [00:06<00:00,  3.06it/s]\n",
      "100%|█████████████████████████████████████████████████████████████████████████| 23713/23713 [00:00<00:00, 30608.48it/s]\n",
      "100%|██████████████████████████████████████████████████████████████████████████████████| 20/20 [00:07<00:00,  2.58it/s]\n",
      "100%|█████████████████████████████████████████████████████████████████████████| 23713/23713 [00:00<00:00, 26524.84it/s]\n",
      "100%|██████████████████████████████████████████████████████████████████████████████████| 20/20 [00:08<00:00,  2.23it/s]\n",
      "100%|█████████████████████████████████████████████████████████████████████████| 23713/23713 [00:01<00:00, 20010.97it/s]\n",
      "100%|██████████████████████████████████████████████████████████████████████████████████| 20/20 [00:10<00:00,  1.87it/s]\n",
      "100%|█████████████████████████████████████████████████████████████████████████| 23713/23713 [00:00<00:00, 25608.05it/s]\n",
      "100%|██████████████████████████████████████████████████████████████████████████████████| 20/20 [00:09<00:00,  2.01it/s]\n",
      "100%|█████████████████████████████████████████████████████████████████████████| 23713/23713 [00:01<00:00, 23641.19it/s]\n",
      "100%|██████████████████████████████████████████████████████████████████████████████████| 20/20 [00:11<00:00,  1.75it/s]\n",
      "100%|█████████████████████████████████████████████████████████████████████████| 23713/23713 [00:00<00:00, 24474.45it/s]\n",
      "100%|██████████████████████████████████████████████████████████████████████████████████| 20/20 [00:13<00:00,  1.45it/s]\n",
      "100%|█████████████████████████████████████████████████████████████████████████| 23713/23713 [00:01<00:00, 14683.01it/s]\n",
      "100%|██████████████████████████████████████████████████████████████████████████████████| 20/20 [00:14<00:00,  1.34it/s]\n",
      "100%|█████████████████████████████████████████████████████████████████████████| 23713/23713 [00:01<00:00, 20150.70it/s]\n",
      "100%|██████████████████████████████████████████████████████████████████████████████████| 20/20 [00:16<00:00,  1.20it/s]\n",
      "100%|█████████████████████████████████████████████████████████████████████████| 23713/23713 [00:01<00:00, 20089.81it/s]\n",
      "100%|██████████████████████████████████████████████████████████████████████████████████| 20/20 [00:15<00:00,  1.29it/s]\n",
      "100%|█████████████████████████████████████████████████████████████████████████| 23713/23713 [00:01<00:00, 22187.76it/s]\n",
      "100%|██████████████████████████████████████████████████████████████████████████████████| 20/20 [00:14<00:00,  1.35it/s]\n",
      "100%|█████████████████████████████████████████████████████████████████████████| 23713/23713 [00:01<00:00, 19001.59it/s]\n",
      "100%|██████████████████████████████████████████████████████████████████████████████████| 20/20 [00:15<00:00,  1.26it/s]\n",
      "100%|█████████████████████████████████████████████████████████████████████████| 23713/23713 [00:01<00:00, 20328.54it/s]\n"
     ]
    }
   ],
   "source": [
    "# Determening the number of topics by running the model with a fixed alpha = 0.01 and beta = 0.1\n",
    "coherence_list = []\n",
    "perplexity_list = []\n",
    "# Topics range\n",
    "min_topics = 2\n",
    "max_topics = 15\n",
    "step_size = 1\n",
    "topics_range = range(min_topics, max_topics, step_size)\n",
    "\n",
    "for k in topics_range:\n",
    "    # get the coherence score for the given parameters\n",
    "    model = btm_model(k, 0.1, 0.1)\n",
    "            \n",
    "    perplexity = model.perplexity_\n",
    "    coherence = model.coherence_\n",
    "    \n",
    "    coherence_list.append(Average(coherence))\n",
    "    perplexity_list.append(perplexity)"
   ]
  },
  {
   "cell_type": "code",
   "execution_count": 102,
   "id": "a7b96a4d",
   "metadata": {},
   "outputs": [
    {
     "data": {
      "image/png": "[encoded data removed]",
      "text/plain": [
       "<Figure size 432x288 with 1 Axes>"
      ]
     },
     "metadata": {},
     "output_type": "display_data"
    },
    {
     "name": "stdout",
     "output_type": "stream",
     "text": [
      "8 -9.615524489328465\n"
     ]
    }
   ],
   "source": [
    "ymax = max(coherence_list)\n",
    "ymax_string = str(ymax)\n",
    "xpos = coherence_list.index(ymax)\n",
    "xmax = topics_range[xpos]\n",
    "xmax_string = str(xmax)\n",
    "plt.plot(topics_range, coherence_list)\n",
    "plt.xlabel(\"Number of Topics\")\n",
    "plt.ylabel(\"Coherence Score\")\n",
    "plt.annotate(xmax_string + ' Topics' , xy=(xmax, ymax), xytext=(xmax, ymax+1),\n",
    "            arrowprops=dict(facecolor='black', shrink=0.22),\n",
    "            )\n",
    "plt.show()\n",
    "\n",
    "print(xmax, ymax)"
   ]
  },
  {
   "cell_type": "code",
   "execution_count": 103,
   "id": "3e934411",
   "metadata": {},
   "outputs": [
    {
     "name": "stderr",
     "output_type": "stream",
     "text": [
      "100%|██████████████████████████████████████████████████████████████████████████████████| 20/20 [00:10<00:00,  1.90it/s]\n",
      "100%|█████████████████████████████████████████████████████████████████████████| 23713/23713 [00:00<00:00, 25552.99it/s]\n",
      "100%|██████████████████████████████████████████████████████████████████████████████████| 20/20 [00:10<00:00,  1.82it/s]\n",
      "100%|█████████████████████████████████████████████████████████████████████████| 23713/23713 [00:00<00:00, 25341.22it/s]\n",
      "100%|██████████████████████████████████████████████████████████████████████████████████| 20/20 [00:10<00:00,  1.85it/s]\n",
      "100%|█████████████████████████████████████████████████████████████████████████| 23713/23713 [00:00<00:00, 25066.35it/s]\n",
      "100%|██████████████████████████████████████████████████████████████████████████████████| 20/20 [00:10<00:00,  1.91it/s]\n",
      "100%|█████████████████████████████████████████████████████████████████████████| 23713/23713 [00:00<00:00, 25787.47it/s]\n",
      "100%|██████████████████████████████████████████████████████████████████████████████████| 20/20 [00:10<00:00,  1.88it/s]\n",
      "100%|█████████████████████████████████████████████████████████████████████████| 23713/23713 [00:00<00:00, 26094.57it/s]\n",
      "100%|██████████████████████████████████████████████████████████████████████████████████| 20/20 [00:10<00:00,  1.85it/s]\n",
      "100%|█████████████████████████████████████████████████████████████████████████| 23713/23713 [00:00<00:00, 25559.93it/s]\n",
      "100%|██████████████████████████████████████████████████████████████████████████████████| 20/20 [00:13<00:00,  1.49it/s]\n",
      "100%|█████████████████████████████████████████████████████████████████████████| 23713/23713 [00:01<00:00, 21210.28it/s]\n",
      "100%|██████████████████████████████████████████████████████████████████████████████████| 20/20 [00:11<00:00,  1.78it/s]\n",
      "100%|█████████████████████████████████████████████████████████████████████████| 23713/23713 [00:00<00:00, 24986.48it/s]\n",
      "100%|██████████████████████████████████████████████████████████████████████████████████| 20/20 [00:13<00:00,  1.51it/s]\n",
      "100%|█████████████████████████████████████████████████████████████████████████| 23713/23713 [00:01<00:00, 20669.54it/s]\n",
      "100%|██████████████████████████████████████████████████████████████████████████████████| 20/20 [00:13<00:00,  1.54it/s]\n",
      "100%|█████████████████████████████████████████████████████████████████████████| 23713/23713 [00:01<00:00, 21078.27it/s]\n",
      "100%|██████████████████████████████████████████████████████████████████████████████████| 20/20 [00:12<00:00,  1.58it/s]\n",
      "100%|█████████████████████████████████████████████████████████████████████████| 23713/23713 [00:01<00:00, 22099.88it/s]\n",
      "100%|██████████████████████████████████████████████████████████████████████████████████| 20/20 [00:11<00:00,  1.74it/s]\n",
      "100%|█████████████████████████████████████████████████████████████████████████| 23713/23713 [00:00<00:00, 26375.91it/s]\n",
      "100%|██████████████████████████████████████████████████████████████████████████████████| 20/20 [00:11<00:00,  1.75it/s]\n",
      "100%|█████████████████████████████████████████████████████████████████████████| 23713/23713 [00:01<00:00, 23682.99it/s]\n",
      "100%|██████████████████████████████████████████████████████████████████████████████████| 20/20 [00:11<00:00,  1.75it/s]\n",
      "100%|█████████████████████████████████████████████████████████████████████████| 23713/23713 [00:00<00:00, 24000.19it/s]\n",
      "100%|██████████████████████████████████████████████████████████████████████████████████| 20/20 [00:11<00:00,  1.70it/s]\n",
      "100%|█████████████████████████████████████████████████████████████████████████| 23713/23713 [00:00<00:00, 25040.28it/s]\n",
      "100%|██████████████████████████████████████████████████████████████████████████████████| 20/20 [00:15<00:00,  1.29it/s]\n",
      "100%|█████████████████████████████████████████████████████████████████████████| 23713/23713 [00:00<00:00, 24598.65it/s]\n"
     ]
    }
   ],
   "source": [
    "# Topic parameter \n",
    "k = 8\n",
    "# Alpha parameter\n",
    "alpha = list(np.arange(0.01, 1, 0.3))\n",
    "\n",
    "# Beta parameter\n",
    "beta = list(np.arange(0.01, 1, 0.3))\n",
    "\n",
    "model_results = {'Alpha': [],\n",
    "                 'Beta': [],\n",
    "                 'Coherence': [],\n",
    "                 'Perplexity': []\n",
    "                }\n",
    "\n",
    "\n",
    "# iterate through alpha values\n",
    "for a in alpha:\n",
    "    # iterare through beta values\n",
    "    for b in beta:\n",
    "        # get the coherence score for the given parameters\n",
    "        model = btm_model(k, a, b)\n",
    "            \n",
    "        perplexity = model.perplexity_\n",
    "        coherence = model.coherence_\n",
    "            \n",
    "        # Save the model results\n",
    "        model_results['Alpha'].append(a)\n",
    "        model_results['Beta'].append(b)\n",
    "        model_results['Coherence'].append(Average(coherence))\n",
    "        model_results['Perplexity'].append(perplexity)"
   ]
  },
  {
   "cell_type": "code",
   "execution_count": 104,
   "id": "0568936d",
   "metadata": {},
   "outputs": [
    {
     "name": "stdout",
     "output_type": "stream",
     "text": [
      "    Alpha  Beta  Coherence   Perplexity\n",
      "0    0.01  0.01  -9.162313  3662.855913\n",
      "1    0.01  0.31  -9.644494  2535.168049\n",
      "2    0.01  0.61 -10.392308  2396.530163\n",
      "3    0.01  0.91 -10.354925  2329.340579\n",
      "4    0.31  0.01  -9.162313  3660.852523\n",
      "5    0.31  0.31  -9.644494  2533.796215\n",
      "6    0.31  0.61 -10.392308  2395.830157\n",
      "7    0.31  0.91 -10.354925  2329.490433\n",
      "8    0.61  0.01  -9.162313  3660.386199\n",
      "9    0.61  0.31  -9.644494  2538.187799\n",
      "10   0.61  0.61 -10.392308  2394.109076\n",
      "11   0.61  0.91 -10.354925  2329.603872\n",
      "12   0.91  0.01  -9.162313  3659.712782\n",
      "13   0.91  0.31  -9.644494  2538.857303\n",
      "14   0.91  0.61 -10.392308  2396.391753\n",
      "15   0.91  0.91 -10.582920  2328.015445\n"
     ]
    }
   ],
   "source": [
    "benchmark_df = pd.DataFrame(model_results)\n",
    "print(benchmark_df)\n",
    "\n",
    "benchmark_df.to_csv(\"benchmark.csv\", index=False)"
   ]
  },
  {
   "cell_type": "code",
   "execution_count": 105,
   "id": "94c11851",
   "metadata": {},
   "outputs": [
    {
     "name": "stderr",
     "output_type": "stream",
     "text": [
      "100%|██████████████████████████████████████████████████████████████████████████████████| 20/20 [00:13<00:00,  1.49it/s]\n",
      "100%|█████████████████████████████████████████████████████████████████████████| 23713/23713 [00:00<00:00, 33219.87it/s]\n"
     ]
    }
   ],
   "source": [
    "# Choosen highest coherence with a trade-off for a higher perplexity because of a higher semantic correlation to make it easier to interpret\n",
    "tweets_model = btm.BTM(\n",
    "tweets_X, tweets_vocabulary, seed=12321, T=8, M=5, alpha=0.01, beta=0.01)\n",
    "tweets_model.fit(tweets_biterms, iterations=20)\n",
    "tweets_p_zd = tweets_model.transform(tweets_docs_vec)"
   ]
  },
  {
   "cell_type": "code",
   "execution_count": 107,
   "id": "2e6df2be",
   "metadata": {},
   "outputs": [
    {
     "name": "stderr",
     "output_type": "stream",
     "text": [
      "100%|█████████████████████████████████████████████████████████████████████████| 23713/23713 [00:00<00:00, 24726.82it/s]\n"
     ]
    }
   ],
   "source": [
    "p_zd = tweets_model.transform(tweets_docs_vec)"
   ]
  },
  {
   "cell_type": "code",
   "execution_count": 108,
   "id": "34a03dbc",
   "metadata": {},
   "outputs": [],
   "source": [
    "words_topics_df = tweets_model.df_words_topics_\n",
    "\n",
    "words_topics_0 = pd.DataFrame(words_topics_df[0])\n",
    "words_topics_0[\"word\"] = words_topics_df.index\n",
    "\n",
    "words_topics_1 = pd.DataFrame(words_topics_df[1])\n",
    "words_topics_1[\"word\"] = words_topics_df.index\n",
    "\n",
    "words_topics_2 = pd.DataFrame(words_topics_df[2])\n",
    "words_topics_2[\"word\"] = words_topics_df.index\n",
    "\n",
    "words_topics_3 = pd.DataFrame(words_topics_df[3])\n",
    "words_topics_3[\"word\"] = words_topics_df.index\n",
    "\n",
    "words_topics_4 = pd.DataFrame(words_topics_df[4])\n",
    "words_topics_4[\"word\"] = words_topics_df.index\n",
    "\n",
    "words_topics_5 = pd.DataFrame(words_topics_df[5])\n",
    "words_topics_5[\"word\"] = words_topics_df.index\n",
    "\n",
    "words_topics_6 = pd.DataFrame(words_topics_df[6])\n",
    "words_topics_6[\"word\"] = words_topics_df.index\n",
    "\n",
    "words_topics_7 = pd.DataFrame(words_topics_df[7])\n",
    "words_topics_7[\"word\"] = words_topics_df.index"
   ]
  },
  {
   "cell_type": "code",
   "execution_count": 109,
   "id": "86b90507",
   "metadata": {},
   "outputs": [
    {
     "name": "stdout",
     "output_type": "stream",
     "text": [
      "                  0       word\n",
      "die        0.035481        die\n",
      "der        0.033102        der\n",
      "und        0.027327        und\n",
      "in         0.018923         in\n",
      "das        0.017049        das\n",
      "ladesäule  0.015758  ladesäule\n",
      "an         0.014937         an\n",
      "ist        0.014718        ist\n",
      "mit        0.013606        mit\n",
      "den        0.013583        den\n"
     ]
    },
    {
     "data": {
      "text/plain": [
       "[Text(0.5, 0, 'Topic 1 Word Probabilities'), Text(0, 0.5, 'Words')]"
      ]
     },
     "execution_count": 109,
     "metadata": {},
     "output_type": "execute_result"
    },
    {
     "data": {
      "image/png": "[encoded data removed]",
      "text/plain": [
       "<Figure size 432x288 with 1 Axes>"
      ]
     },
     "metadata": {},
     "output_type": "display_data"
    }
   ],
   "source": [
    "top_0 = words_topics_0.nlargest(10, 0)\n",
    "\n",
    "print(top_0)\n",
    "ax = sns.barplot(x=0, y=\"word\", data=top_0)\n",
    "plt.xlim(0, 0.050)\n",
    "ax.set(xlabel='Topic 1 Word Probabilities', ylabel='Words')"
   ]
  },
  {
   "cell_type": "code",
   "execution_count": 110,
   "id": "d81cbc36",
   "metadata": {},
   "outputs": [
    {
     "name": "stdout",
     "output_type": "stream",
     "text": [
      "                          1               word\n",
      "die                0.040486                die\n",
      "der                0.036763                der\n",
      "und                0.031188                und\n",
      "ladeinfrastruktur  0.021461  ladeinfrastruktur\n",
      "für                0.020387                für\n",
      "in                 0.019667                 in\n",
      "das                0.019186                das\n",
      "ist                0.012872                ist\n",
      "den                0.012735                den\n",
      "zu                 0.010962                 zu\n"
     ]
    },
    {
     "data": {
      "text/plain": [
       "[Text(0.5, 0, 'Topic 2 Word Probabilities'), Text(0, 0.5, 'Words')]"
      ]
     },
     "execution_count": 110,
     "metadata": {},
     "output_type": "execute_result"
    },
    {
     "data": {
      "image/png": "[encoded data removed]",
      "text/plain": [
       "<Figure size 432x288 with 1 Axes>"
      ]
     },
     "metadata": {},
     "output_type": "display_data"
    }
   ],
   "source": [
    "top_1 = words_topics_1.nlargest(10, 1)\n",
    "\n",
    "print(top_1)\n",
    "ax = sns.barplot(x=1, y=\"word\", data=top_1)\n",
    "plt.xlim(0, 0.050)\n",
    "ax.set(xlabel='Topic 2 Word Probabilities', ylabel='Words')"
   ]
  },
  {
   "cell_type": "code",
   "execution_count": 111,
   "id": "8fb7954a",
   "metadata": {},
   "outputs": [
    {
     "name": "stdout",
     "output_type": "stream",
     "text": [
      "                          2               word\n",
      "der                0.040838                der\n",
      "die                0.038684                die\n",
      "und                0.030345                und\n",
      "in                 0.029479                 in\n",
      "für                0.027923                für\n",
      "ladeinfrastruktur  0.023860  ladeinfrastruktur\n",
      "mit                0.014543                mit\n",
      "das                0.013227                das\n",
      "den                0.012575                den\n",
      "von                0.011236                von\n"
     ]
    },
    {
     "data": {
      "text/plain": [
       "[Text(0.5, 0, 'Topic 3 Word Probabilities'), Text(0, 0.5, 'Words')]"
      ]
     },
     "execution_count": 111,
     "metadata": {},
     "output_type": "execute_result"
    },
    {
     "data": {
      "image/png": "[encoded data removed]",
      "text/plain": [
       "<Figure size 432x288 with 1 Axes>"
      ]
     },
     "metadata": {},
     "output_type": "display_data"
    }
   ],
   "source": [
    "top_2 = words_topics_2.nlargest(10, 2)\n",
    "print(top_2)\n",
    "ax = sns.barplot(x=2, y=\"word\", data=top_2)\n",
    "plt.xlim(0, 0.050)\n",
    "ax.set(xlabel='Topic 3 Word Probabilities', ylabel='Words')"
   ]
  },
  {
   "cell_type": "code",
   "execution_count": 112,
   "id": "5090003d",
   "metadata": {},
   "outputs": [
    {
     "name": "stdout",
     "output_type": "stream",
     "text": [
      "                  3       word\n",
      "die        0.031661        die\n",
      "der        0.029110        der\n",
      "und        0.024053        und\n",
      "ladesäule  0.020017  ladesäule\n",
      "das        0.017754        das\n",
      "ist        0.017623        ist\n",
      "nicht      0.014913      nicht\n",
      "in         0.014782         in\n",
      "mit        0.014507        mit\n",
      "ich        0.014047        ich\n"
     ]
    },
    {
     "data": {
      "text/plain": [
       "[Text(0.5, 0, 'Topic 4 Word Probabilities'), Text(0, 0.5, 'Words')]"
      ]
     },
     "execution_count": 112,
     "metadata": {},
     "output_type": "execute_result"
    },
    {
     "data": {
      "image/png": "[encoded data removed]",
      "text/plain": [
       "<Figure size 432x288 with 1 Axes>"
      ]
     },
     "metadata": {},
     "output_type": "display_data"
    }
   ],
   "source": [
    "top_3 = words_topics_3.nlargest(10, 3)\n",
    "print(top_3)\n",
    "ax = sns.barplot(x=3, y=\"word\", data=top_3)\n",
    "plt.xlim(0, 0.050)\n",
    "ax.set(xlabel='Topic 4 Word Probabilities', ylabel='Words')"
   ]
  },
  {
   "cell_type": "code",
   "execution_count": 113,
   "id": "e060e951",
   "metadata": {},
   "outputs": [
    {
     "name": "stdout",
     "output_type": "stream",
     "text": [
      "                          4               word\n",
      "der                0.044849                der\n",
      "die                0.039606                die\n",
      "für                0.030825                für\n",
      "ladeinfrastruktur  0.026459  ladeinfrastruktur\n",
      "und                0.025833                und\n",
      "von                0.024992                von\n",
      "mit                0.022590                mit\n",
      "in                 0.020260                 in\n",
      "den                0.014669                den\n",
      "sie                0.012184                sie\n"
     ]
    },
    {
     "data": {
      "image/png": "[encoded data removed]",
      "text/plain": [
       "<Figure size 432x288 with 1 Axes>"
      ]
     },
     "metadata": {},
     "output_type": "display_data"
    }
   ],
   "source": [
    "top_4 = words_topics_4.nlargest(10, 4)\n",
    "print(top_4)\n",
    "plt.xlim(0, 0.050)\n",
    "ax = sns.barplot(x=4, y=\"word\", data=top_4)"
   ]
  },
  {
   "cell_type": "code",
   "execution_count": 114,
   "id": "ea130e87",
   "metadata": {},
   "outputs": [
    {
     "name": "stdout",
     "output_type": "stream",
     "text": [
      "                  5       word\n",
      "und        0.071728        und\n",
      "der        0.061392        der\n",
      "schneider  0.044862  schneider\n",
      "electric   0.043861   electric\n",
      "für        0.041371        für\n",
      "von        0.035151        von\n",
      "ein        0.030699        ein\n",
      "eine       0.029212       eine\n",
      "zur        0.028530        zur\n",
      "gemeinsam  0.025543  gemeinsam\n"
     ]
    },
    {
     "data": {
      "text/plain": [
       "[Text(0.5, 0, 'Topic 5 Word Probabilities'), Text(0, 0.5, 'Words')]"
      ]
     },
     "execution_count": 114,
     "metadata": {},
     "output_type": "execute_result"
    },
    {
     "data": {
      "image/png": "[encoded data removed]",
      "text/plain": [
       "<Figure size 432x288 with 1 Axes>"
      ]
     },
     "metadata": {},
     "output_type": "display_data"
    }
   ],
   "source": [
    "top_5 = words_topics_5.nlargest(10, 5)\n",
    "print(top_5)\n",
    "ax = sns.barplot(x=5, y=\"word\", data=top_5)\n",
    "plt.xlim(0, 0.050)\n",
    "ax.set(xlabel='Topic 5 Word Probabilities', ylabel='Words')"
   ]
  },
  {
   "cell_type": "code",
   "execution_count": 115,
   "id": "2e5a7b5f",
   "metadata": {},
   "outputs": [
    {
     "name": "stdout",
     "output_type": "stream",
     "text": [
      "                  6       word\n",
      "ich        0.030119        ich\n",
      "die        0.027114        die\n",
      "ladesäule  0.025813  ladesäule\n",
      "der        0.021857        der\n",
      "und        0.021710        und\n",
      "das        0.019559        das\n",
      "nicht      0.017973      nicht\n",
      "ist        0.017233        ist\n",
      "es         0.014686         es\n",
      "an         0.013961         an\n"
     ]
    },
    {
     "data": {
      "text/plain": [
       "[Text(0.5, 0, 'Topic 6 Word Probabilities'), Text(0, 0.5, 'Words')]"
      ]
     },
     "execution_count": 115,
     "metadata": {},
     "output_type": "execute_result"
    },
    {
     "data": {
      "image/png": "[encoded data removed]",
      "text/plain": [
       "<Figure size 432x288 with 1 Axes>"
      ]
     },
     "metadata": {},
     "output_type": "display_data"
    }
   ],
   "source": [
    "top_6 = words_topics_6.nlargest(10, 6)\n",
    "print(top_6)\n",
    "ax = sns.barplot(x=6, y=\"word\", data=top_6)\n",
    "plt.xlim(0, 0.050)\n",
    "ax.set(xlabel='Topic 6 Word Probabilities', ylabel='Words')"
   ]
  },
  {
   "cell_type": "code",
   "execution_count": 116,
   "id": "009abe4a",
   "metadata": {},
   "outputs": [
    {
     "name": "stdout",
     "output_type": "stream",
     "text": [
      "                          7               word\n",
      "die                0.040822                die\n",
      "und                0.026206                und\n",
      "der                0.023540                der\n",
      "ladeinfrastruktur  0.017496  ladeinfrastruktur\n",
      "in                 0.017156                 in\n",
      "das                0.015958                das\n",
      "zu                 0.015817                 zu\n",
      "für                0.015171                für\n",
      "es                 0.014823                 es\n",
      "nicht              0.014570              nicht\n"
     ]
    },
    {
     "data": {
      "text/plain": [
       "[Text(0.5, 0, 'Topic 7 Word Probabilities'), Text(0, 0.5, 'Words')]"
      ]
     },
     "execution_count": 116,
     "metadata": {},
     "output_type": "execute_result"
    },
    {
     "data": {
      "image/png": "[encoded data removed]",
      "text/plain": [
       "<Figure size 432x288 with 1 Axes>"
      ]
     },
     "metadata": {},
     "output_type": "display_data"
    }
   ],
   "source": [
    "top_7 = words_topics_7.nlargest(10, 7)\n",
    "print(top_7)\n",
    "ax = sns.barplot(x=7, y=\"word\", data=top_7)\n",
    "plt.xlim(0, 0.050)\n",
    "ax.set(xlabel='Topic 7 Word Probabilities', ylabel='Words')"
   ]
  },
  {
   "cell_type": "code",
   "execution_count": 117,
   "id": "31b8c952",
   "metadata": {},
   "outputs": [
    {
     "name": "stdout",
     "output_type": "stream",
     "text": [
      "  topic0             topic1 topic2     topic3             topic4     topic5  \\\n",
      "0    die                die    der        die                der        und   \n",
      "1    der                der    die        der                die        der   \n",
      "2    und                und    und        und                für  schneider   \n",
      "3     in  ladeinfrastruktur     in  ladesäule  ladeinfrastruktur   electric   \n",
      "4    das                für    für        das                und        für   \n",
      "\n",
      "      topic6             topic7  \n",
      "0        ich                die  \n",
      "1        die                und  \n",
      "2  ladesäule                der  \n",
      "3        der  ladeinfrastruktur  \n",
      "4        und                 in  \n",
      "                                              topic0  \\\n",
      "0  entwicklungsingenieur hil-testing backend-lade...   \n",
      "1  @p_humm apropos ladeinfrastruktur: schon geseh...   \n",
      "2  #alphastruxure kürt #themobilityhouse zum tech...   \n",
      "3  #eswewiesbaden - wunsch-e-ladesäule gegen tank...   \n",
      "4  walther ladesäule ecolectra 250 m2 m.2 ladeste...   \n",
      "\n",
      "                                              topic1  \\\n",
      "0  something something ladesäule hacken. https://...   \n",
      "1  „bundes-ladeparks“: verkehrsausschuss stimmt a...   \n",
      "2          blockchainbasierte ladeinfrastruktur was?   \n",
      "3  #shell und #byd schließen globale lade-partner...   \n",
      "4  e-scooter in der mobilität  – nr. 133  philip ...   \n",
      "\n",
      "                                              topic2  \\\n",
      "0  viessmann verkauft ladeinfrastruktur-anbieter ...   \n",
      "1  bad münstereifel ftw (inklusive ladesäule)! ht...   \n",
      "2  kurz informiert: ladeinfrastruktur, fußgängerk...   \n",
      "3  strafzahlungen für ladesäulenmuffel? #ladeinfr...   \n",
      "4  #job: technischer projektmanager ladeinfrastru...   \n",
      "\n",
      "                                              topic3  \n",
      "0  rosige aussichten #bev #elektromobilität #lade...  \n",
      "1  @unionista 👍 genau, ladesäule, 4 stunden parkd...  \n",
      "2  @aengelhorn @knarf_sier @hansulrich kostenfall...  \n",
      "3  symbolbild deutscher ladeinfrastruktur. https:...  \n",
      "4  lichtdesign 10/10 liebe energiewerke #sayda.😍 ...  \n"
     ]
    }
   ],
   "source": [
    "top_words = btm.get_top_topic_words(\n",
    "    tweets_model,\n",
    "    words_num=100)\n",
    "\n",
    "\n",
    "top_words_df = pd.DataFrame(top_words)\n",
    "print(top_words_df.head())\n",
    "\n",
    "top_docs = btm.get_top_topic_docs(\n",
    "    tweets_df['tweet_processed'],\n",
    "    p_zd,\n",
    "    docs_num=3783,\n",
    "    topics_idx=[0,1,2,3])\n",
    "\n",
    "top_docs_df = pd.DataFrame(top_docs)\n",
    "print(top_docs_df.head())\n",
    "\n",
    "top_words_df.to_csv(\"top_words.csv\", index=False)"
   ]
  },
  {
   "cell_type": "code",
   "execution_count": 118,
   "id": "ed01d520",
   "metadata": {},
   "outputs": [
    {
     "name": "stdout",
     "output_type": "stream",
     "text": [
      "                                           documents  label\n",
      "0  @kkklawitter @eggmarkus @sepp_reitberger das e...      1\n",
      "1  amperio gmbh: mobileeee und amperio starten la...      0\n",
      "2  zur ladeinfrastruktur für elektrofahrzeuge geh...      5\n",
      "3  @chris_pyak @jrehborn @herrphteven dazu noch n...      6\n",
      "4  @mingiam10 @kkklawitter mein punkt ist ja der ...      0\n"
     ]
    }
   ],
   "source": [
    "tweet_topics = btm.get_docs_top_topic(tweets, tweets_model.matrix_docs_topics_)\n",
    "\n",
    "print(tweet_topics.head())\n",
    "\n",
    "tweet_topics.to_csv(\"tweets_topics.csv\")"
   ]
  },
  {
   "cell_type": "code",
   "execution_count": 50,
   "id": "e0496e5a",
   "metadata": {},
   "outputs": [],
   "source": [
    "tweets_df = pd.read_csv(work_dir + \"/all_tweets.csv\")"
   ]
  },
  {
   "cell_type": "code",
   "execution_count": 51,
   "id": "a148f4c5",
   "metadata": {},
   "outputs": [],
   "source": [
    "tweets_df['date'] = pd.to_datetime(tweets_df['date'], errors='coerce')"
   ]
  },
  {
   "cell_type": "code",
   "execution_count": 52,
   "id": "ccbd3a17",
   "metadata": {},
   "outputs": [],
   "source": [
    "tweets_df = tweets_df[(tweets_df['date'] > \"2020-07-08\")]"
   ]
  },
  {
   "cell_type": "code",
   "execution_count": 53,
   "id": "b05c7584",
   "metadata": {},
   "outputs": [
    {
     "name": "stdout",
     "output_type": "stream",
     "text": [
      "0        @kkklawitter @eggmarkus @sepp_reitberger das e...\n",
      "1        amperio gmbh: mobileeee und amperio starten la...\n",
      "2        zur ladeinfrastruktur für elektrofahrzeuge geh...\n",
      "3        @chris_pyak @jrehborn @herrphteven dazu noch n...\n",
      "4        @mingiam10 @kkklawitter mein punkt ist ja der ...\n",
      "                               ...                        \n",
      "23708    @solarfighter @bmwi_bund @peteraltmaier @bafa_...\n",
      "23709    @solarfighter @peteraltmaier @bafa_bund der au...\n",
      "23710    #tesla hat mit der eröffnung des neuen #superc...\n",
      "23711    @danjol_lupardo @canstatt93 @poveretto das ist...\n",
      "23712    @bmwi_bund @peteraltmaier @bafa_bund weit und ...\n",
      "Name: tweet_processed, Length: 23713, dtype: object\n",
      "0        @kkklawitter @eggmarkus @sepp_reitberger einzi...\n",
      "1        amperio gmbh: mobileeee amperio starten langfr...\n",
      "2        zur ladeinfrastruktur elektrofahrzeuge gehört ...\n",
      "3        @chris_pyak @jrehborn @herrphteven dazu noch n...\n",
      "4        @mingiam10 @kkklawitter mein punkt ist ja park...\n",
      "                               ...                        \n",
      "23708    @solarfighter @bmwi_bund @peteraltmaier @bafa_...\n",
      "23709    @solarfighter @peteraltmaier @bafa_bund aufbau...\n",
      "23710    #tesla hat mit eröffnung des neuen #supercharg...\n",
      "23711    @danjol_lupardo @canstatt93 @poveretto ist gen...\n",
      "23712    @bmwi_bund @peteraltmaier @bafa_bund weit brei...\n",
      "Name: tweet_processed, Length: 23713, dtype: object\n"
     ]
    }
   ],
   "source": [
    "# Topic Modelling\n",
    "# Convert the titles to lowercase\n",
    "tweets_df['tweet_processed'] = tweets_df['tweet'].map(lambda x: x.lower())\n",
    "print(tweets_df['tweet_processed'])\n",
    "\n",
    "# Remove punctuation and stopwords\n",
    "\n",
    "banned = [\"der\", \"die\", \"das\", \"und\", \"in\", \"an\", \"zu\", \"für\", \"es\", \"von\", \"den\", \"dem\", \",\", \".\", \"!\", \"?\", \"/\"]\n",
    "f = lambda x: ' '.join([item for item in x.split() if item not in banned])\n",
    "tweets_df[\"tweet_processed\"] = tweets_df[\"tweet_processed\"].apply(f)\n",
    "\n",
    "print(tweets_df['tweet_processed'])\n",
    "tweets = tweets_df['tweet_processed'].str.strip().tolist()\n",
    "\n",
    "# PREPROCESSING\n",
    "# Obtaining terms frequency in a sparse matrix and corpus vocabulary\n",
    "tweets_X, tweets_vocabulary, tweets_vocab_dict = btm.get_words_freqs(tweets)\n",
    "tweets_tf = np.array(tweets_X.sum(axis=0)).ravel()"
   ]
  },
  {
   "cell_type": "code",
   "execution_count": 54,
   "id": "79c4f4f3",
   "metadata": {},
   "outputs": [],
   "source": [
    "# Vectorizing documents\n",
    "tweets_docs_vec = btm.get_vectorized_docs(tweets, tweets_vocabulary)\n",
    "tweets_docs_lens = list(map(len, tweets_docs_vec))"
   ]
  },
  {
   "cell_type": "code",
   "execution_count": 55,
   "id": "da49d8b1",
   "metadata": {},
   "outputs": [],
   "source": [
    "# Generating title biterms\n",
    "tweets_biterms = btm.get_biterms(tweets_docs_vec)"
   ]
  },
  {
   "cell_type": "code",
   "execution_count": 56,
   "id": "76faed29",
   "metadata": {},
   "outputs": [],
   "source": [
    "# Initializing and running titles model\n",
    "def btm_model(topics, alpha, beta):\n",
    "    tweets_model = btm.BTM(\n",
    "        tweets_X, tweets_vocabulary, seed=12321, T=topics, M=5, alpha=alpha, beta=beta)\n",
    "    tweets_model.fit(tweets_biterms, iterations=20)\n",
    "    tweets_p_zd = tweets_model.transform(tweets_docs_vec)\n",
    "    \n",
    "    return tweets_model\n",
    "\n",
    "def Average(l): \n",
    "    avg = sum(l) / len(l) \n",
    "    return avg"
   ]
  },
  {
   "cell_type": "code",
   "execution_count": 57,
   "id": "acca39ba",
   "metadata": {},
   "outputs": [],
   "source": [
    "# Initializing and running titles model\n",
    "def btm_model(topics, alpha, beta):\n",
    "    tweets_model = btm.BTM(\n",
    "        tweets_X, tweets_vocabulary, seed=12321, T=topics, M=5, alpha=alpha, beta=beta)\n",
    "    tweets_model.fit(tweets_biterms, iterations=20)\n",
    "    tweets_p_zd = tweets_model.transform(tweets_docs_vec)\n",
    "    \n",
    "    return tweets_model\n",
    "\n",
    "def Average(l): \n",
    "    avg = sum(l) / len(l) \n",
    "    return avg"
   ]
  },
  {
   "cell_type": "code",
   "execution_count": 58,
   "id": "c184ae6e",
   "metadata": {},
   "outputs": [
    {
     "name": "stderr",
     "output_type": "stream",
     "text": [
      "100%|██████████████████████████████████████████████████████████████████████████████████| 20/20 [00:07<00:00,  2.78it/s]\n",
      "100%|█████████████████████████████████████████████████████████████████████████| 23713/23713 [00:01<00:00, 16640.73it/s]\n",
      "100%|██████████████████████████████████████████████████████████████████████████████████| 20/20 [00:07<00:00,  2.57it/s]\n",
      "100%|█████████████████████████████████████████████████████████████████████████| 23713/23713 [00:01<00:00, 18692.89it/s]\n",
      "100%|██████████████████████████████████████████████████████████████████████████████████| 20/20 [00:09<00:00,  2.18it/s]\n",
      "100%|█████████████████████████████████████████████████████████████████████████| 23713/23713 [00:01<00:00, 17978.12it/s]\n",
      "100%|██████████████████████████████████████████████████████████████████████████████████| 20/20 [00:09<00:00,  2.06it/s]\n",
      "100%|█████████████████████████████████████████████████████████████████████████| 23713/23713 [00:01<00:00, 17392.63it/s]\n",
      "100%|██████████████████████████████████████████████████████████████████████████████████| 20/20 [00:10<00:00,  1.86it/s]\n",
      "100%|█████████████████████████████████████████████████████████████████████████| 23713/23713 [00:01<00:00, 16902.44it/s]\n",
      "100%|██████████████████████████████████████████████████████████████████████████████████| 20/20 [00:12<00:00,  1.65it/s]\n",
      "100%|█████████████████████████████████████████████████████████████████████████| 23713/23713 [00:01<00:00, 16063.94it/s]\n",
      "100%|██████████████████████████████████████████████████████████████████████████████████| 20/20 [00:13<00:00,  1.43it/s]\n",
      "100%|█████████████████████████████████████████████████████████████████████████| 23713/23713 [00:01<00:00, 15586.73it/s]\n",
      "100%|██████████████████████████████████████████████████████████████████████████████████| 20/20 [00:14<00:00,  1.40it/s]\n",
      "100%|█████████████████████████████████████████████████████████████████████████| 23713/23713 [00:01<00:00, 15321.06it/s]\n",
      "100%|██████████████████████████████████████████████████████████████████████████████████| 20/20 [00:15<00:00,  1.28it/s]\n",
      "100%|█████████████████████████████████████████████████████████████████████████| 23713/23713 [00:01<00:00, 14816.89it/s]\n",
      "100%|██████████████████████████████████████████████████████████████████████████████████| 20/20 [00:19<00:00,  1.04it/s]\n",
      "100%|█████████████████████████████████████████████████████████████████████████| 23713/23713 [00:01<00:00, 14134.33it/s]\n",
      "100%|██████████████████████████████████████████████████████████████████████████████████| 20/20 [00:18<00:00,  1.07it/s]\n",
      "100%|█████████████████████████████████████████████████████████████████████████| 23713/23713 [00:01<00:00, 13610.49it/s]\n",
      "100%|██████████████████████████████████████████████████████████████████████████████████| 20/20 [00:20<00:00,  1.02s/it]\n",
      "100%|█████████████████████████████████████████████████████████████████████████| 23713/23713 [00:02<00:00, 11036.40it/s]\n",
      "100%|██████████████████████████████████████████████████████████████████████████████████| 20/20 [00:21<00:00,  1.08s/it]\n",
      "100%|█████████████████████████████████████████████████████████████████████████| 23713/23713 [00:01<00:00, 12522.67it/s]\n"
     ]
    }
   ],
   "source": [
    "# Determening the number of topics by running the model with a fixed alpha = 0.01 and beta = 0.1\n",
    "coherence_list = []\n",
    "perplexity_list = []\n",
    "# Topics range\n",
    "min_topics = 2\n",
    "max_topics = 15\n",
    "step_size = 1\n",
    "topics_range = range(min_topics, max_topics, step_size)\n",
    "\n",
    "for k in topics_range:\n",
    "    # get the coherence score for the given parameters\n",
    "    model = btm_model(k, 0.1, 0.1)\n",
    "            \n",
    "    perplexity = model.perplexity_\n",
    "    coherence = model.coherence_\n",
    "    \n",
    "    coherence_list.append(Average(coherence))\n",
    "    perplexity_list.append(perplexity)"
   ]
  },
  {
   "cell_type": "code",
   "execution_count": 59,
   "id": "34ba1eae",
   "metadata": {},
   "outputs": [
    {
     "data": {
      "image/png": "[encoded data removed]",
      "text/plain": [
       "<Figure size 432x288 with 1 Axes>"
      ]
     },
     "metadata": {},
     "output_type": "display_data"
    },
    {
     "name": "stdout",
     "output_type": "stream",
     "text": [
      "3 -12.940802874948012\n"
     ]
    }
   ],
   "source": [
    "ymax = max(coherence_list)\n",
    "ymax_string = str(ymax)\n",
    "xpos = coherence_list.index(ymax)\n",
    "xmax = topics_range[xpos]\n",
    "xmax_string = str(xmax)\n",
    "plt.plot(topics_range, coherence_list)\n",
    "plt.xlabel(\"Number of Topics\")\n",
    "plt.ylabel(\"Coherence Score\")\n",
    "plt.annotate(xmax_string + ' Topics' , xy=(xmax, ymax), xytext=(xmax, ymax+1),\n",
    "            arrowprops=dict(facecolor='black', shrink=0.22),\n",
    "            )\n",
    "plt.show()\n",
    "\n",
    "print(xmax, ymax)"
   ]
  },
  {
   "cell_type": "code",
   "execution_count": 60,
   "id": "2bdca1ac",
   "metadata": {},
   "outputs": [
    {
     "name": "stderr",
     "output_type": "stream",
     "text": [
      "100%|██████████████████████████████████████████████████████████████████████████████████| 20/20 [00:08<00:00,  2.49it/s]\n",
      "100%|█████████████████████████████████████████████████████████████████████████| 23713/23713 [00:01<00:00, 17411.73it/s]\n",
      "100%|██████████████████████████████████████████████████████████████████████████████████| 20/20 [00:07<00:00,  2.58it/s]\n",
      "100%|█████████████████████████████████████████████████████████████████████████| 23713/23713 [00:01<00:00, 18216.14it/s]\n",
      "100%|██████████████████████████████████████████████████████████████████████████████████| 20/20 [00:08<00:00,  2.50it/s]\n",
      "100%|█████████████████████████████████████████████████████████████████████████| 23713/23713 [00:01<00:00, 15962.52it/s]\n",
      "100%|██████████████████████████████████████████████████████████████████████████████████| 20/20 [00:08<00:00,  2.39it/s]\n",
      "100%|█████████████████████████████████████████████████████████████████████████| 23713/23713 [00:01<00:00, 16147.23it/s]\n",
      "100%|██████████████████████████████████████████████████████████████████████████████████| 20/20 [00:08<00:00,  2.50it/s]\n",
      "100%|█████████████████████████████████████████████████████████████████████████| 23713/23713 [00:01<00:00, 17662.32it/s]\n",
      "100%|██████████████████████████████████████████████████████████████████████████████████| 20/20 [00:07<00:00,  2.54it/s]\n",
      "100%|█████████████████████████████████████████████████████████████████████████| 23713/23713 [00:01<00:00, 15780.09it/s]\n",
      "100%|██████████████████████████████████████████████████████████████████████████████████| 20/20 [00:07<00:00,  2.55it/s]\n",
      "100%|█████████████████████████████████████████████████████████████████████████| 23713/23713 [00:01<00:00, 17462.44it/s]\n",
      "100%|██████████████████████████████████████████████████████████████████████████████████| 20/20 [00:09<00:00,  2.21it/s]\n",
      "100%|█████████████████████████████████████████████████████████████████████████| 23713/23713 [00:01<00:00, 17389.26it/s]\n",
      "100%|██████████████████████████████████████████████████████████████████████████████████| 20/20 [00:09<00:00,  2.11it/s]\n",
      "100%|█████████████████████████████████████████████████████████████████████████| 23713/23713 [00:01<00:00, 15752.37it/s]\n",
      "100%|██████████████████████████████████████████████████████████████████████████████████| 20/20 [00:08<00:00,  2.37it/s]\n",
      "100%|█████████████████████████████████████████████████████████████████████████| 23713/23713 [00:01<00:00, 18233.96it/s]\n",
      "100%|██████████████████████████████████████████████████████████████████████████████████| 20/20 [00:07<00:00,  2.55it/s]\n",
      "100%|█████████████████████████████████████████████████████████████████████████| 23713/23713 [00:01<00:00, 18392.02it/s]\n",
      "100%|██████████████████████████████████████████████████████████████████████████████████| 20/20 [00:09<00:00,  2.20it/s]\n",
      "100%|█████████████████████████████████████████████████████████████████████████| 23713/23713 [00:01<00:00, 15134.08it/s]\n",
      "100%|██████████████████████████████████████████████████████████████████████████████████| 20/20 [00:10<00:00,  1.85it/s]\n",
      "100%|██████████████████████████████████████████████████████████████████████████| 23713/23713 [00:02<00:00, 9086.07it/s]\n",
      "100%|██████████████████████████████████████████████████████████████████████████████████| 20/20 [00:08<00:00,  2.30it/s]\n",
      "100%|█████████████████████████████████████████████████████████████████████████| 23713/23713 [00:01<00:00, 18571.28it/s]\n",
      "100%|██████████████████████████████████████████████████████████████████████████████████| 20/20 [00:08<00:00,  2.35it/s]\n",
      "100%|█████████████████████████████████████████████████████████████████████████| 23713/23713 [00:01<00:00, 15877.68it/s]\n",
      "100%|██████████████████████████████████████████████████████████████████████████████████| 20/20 [00:16<00:00,  1.23it/s]\n",
      "100%|█████████████████████████████████████████████████████████████████████████| 23713/23713 [00:01<00:00, 13183.06it/s]\n"
     ]
    }
   ],
   "source": [
    "# Topic parameter \n",
    "k = 3\n",
    "# Alpha parameter\n",
    "alpha = list(np.arange(0.01, 1, 0.3))\n",
    "\n",
    "# Beta parameter\n",
    "beta = list(np.arange(0.01, 1, 0.3))\n",
    "\n",
    "model_results = {'Alpha': [],\n",
    "                 'Beta': [],\n",
    "                 'Coherence': [],\n",
    "                 'Perplexity': []\n",
    "                }\n",
    "\n",
    "\n",
    "# iterate through alpha values\n",
    "for a in alpha:\n",
    "    # iterare through beta values\n",
    "    for b in beta:\n",
    "        # get the coherence score for the given parameters\n",
    "        model = btm_model(k, a, b)\n",
    "            \n",
    "        perplexity = model.perplexity_\n",
    "        coherence = model.coherence_\n",
    "            \n",
    "        # Save the model results\n",
    "        model_results['Alpha'].append(a)\n",
    "        model_results['Beta'].append(b)\n",
    "        model_results['Coherence'].append(Average(coherence))\n",
    "        model_results['Perplexity'].append(perplexity)"
   ]
  },
  {
   "cell_type": "code",
   "execution_count": 61,
   "id": "e6923fb8",
   "metadata": {},
   "outputs": [
    {
     "name": "stdout",
     "output_type": "stream",
     "text": [
      "    Alpha  Beta  Coherence   Perplexity\n",
      "0    0.01  0.01 -13.956598  7590.791565\n",
      "1    0.01  0.31 -13.258598  4857.549571\n",
      "2    0.01  0.61 -12.789783  4475.588214\n",
      "3    0.01  0.91 -12.789783  4286.410948\n",
      "4    0.31  0.01 -13.956598  7590.798623\n",
      "5    0.31  0.31 -13.258598  4857.947796\n",
      "6    0.31  0.61 -12.789783  4475.588162\n",
      "7    0.31  0.91 -12.789783  4286.391234\n",
      "8    0.61  0.01 -13.956598  7590.791394\n",
      "9    0.61  0.31 -13.258598  4857.932527\n",
      "10   0.61  0.61 -12.789783  4475.611413\n",
      "11   0.61  0.91 -12.789783  4286.391183\n",
      "12   0.91  0.01 -13.956598  7590.791347\n",
      "13   0.91  0.31 -13.258598  4857.902852\n",
      "14   0.91  0.61 -12.789783  4475.954243\n",
      "15   0.91  0.91 -12.789783  4286.391133\n"
     ]
    }
   ],
   "source": [
    "benchmark_df = pd.DataFrame(model_results)\n",
    "print(benchmark_df)\n",
    "\n",
    "benchmark_df.to_csv(\"benchmark-2.csv\", index=False)"
   ]
  },
  {
   "cell_type": "code",
   "execution_count": 62,
   "id": "83983969",
   "metadata": {},
   "outputs": [
    {
     "name": "stderr",
     "output_type": "stream",
     "text": [
      "100%|██████████████████████████████████████████████████████████████████████████████████| 20/20 [00:12<00:00,  1.63it/s]\n",
      "100%|█████████████████████████████████████████████████████████████████████████| 23713/23713 [00:01<00:00, 16113.68it/s]\n"
     ]
    }
   ],
   "source": [
    "# Choosen highest coherence with a trade-off for a higher perplexity because of a higher semantic correlation to make it easier to interpret\n",
    "tweets_model = btm.BTM(\n",
    "tweets_X, tweets_vocabulary, seed=12321, T=3, M=5, alpha=0.01, beta=0.11)\n",
    "tweets_model.fit(tweets_biterms, iterations=20)\n",
    "tweets_p_zd = tweets_model.transform(tweets_docs_vec)"
   ]
  },
  {
   "cell_type": "code",
   "execution_count": 63,
   "id": "57c0e39b",
   "metadata": {},
   "outputs": [
    {
     "name": "stderr",
     "output_type": "stream",
     "text": [
      "100%|█████████████████████████████████████████████████████████████████████████| 23713/23713 [00:01<00:00, 14671.84it/s]\n"
     ]
    }
   ],
   "source": [
    "p_zd = tweets_model.transform(tweets_docs_vec)"
   ]
  },
  {
   "cell_type": "code",
   "execution_count": 64,
   "id": "9ac6f48b",
   "metadata": {},
   "outputs": [],
   "source": [
    "words_topics_df = tweets_model.df_words_topics_\n",
    "\n",
    "words_topics_0 = pd.DataFrame(words_topics_df[0])\n",
    "words_topics_0[\"word\"] = words_topics_df.index\n",
    "\n",
    "words_topics_1 = pd.DataFrame(words_topics_df[1])\n",
    "words_topics_1[\"word\"] = words_topics_df.index\n",
    "\n",
    "words_topics_2= pd.DataFrame(words_topics_df[2])\n",
    "words_topics_2[\"word\"] = words_topics_df.index"
   ]
  },
  {
   "cell_type": "code",
   "execution_count": 65,
   "id": "a0cfb507",
   "metadata": {},
   "outputs": [
    {
     "name": "stdout",
     "output_type": "stream",
     "text": [
      "                          0               word\n",
      "ladeinfrastruktur  0.026367  ladeinfrastruktur\n",
      "mit                0.017603                mit\n",
      "ist                0.014236                ist\n",
      "nicht              0.011197              nicht\n",
      "auch               0.010994               auch\n",
      "wir                0.010986                wir\n",
      "auf                0.010608                auf\n",
      "eine               0.010424               eine\n",
      "im                 0.009956                 im\n",
      "ladesäule          0.009548          ladesäule\n"
     ]
    },
    {
     "data": {
      "text/plain": [
       "[Text(0.5, 0, 'Topic 1 Word Probabilities'), Text(0, 0.5, 'Words')]"
      ]
     },
     "execution_count": 65,
     "metadata": {},
     "output_type": "execute_result"
    },
    {
     "data": {
      "image/png": "[encoded data removed]",
      "text/plain": [
       "<Figure size 432x288 with 1 Axes>"
      ]
     },
     "metadata": {},
     "output_type": "display_data"
    }
   ],
   "source": [
    "top_0 = words_topics_0.nlargest(10, 0)\n",
    "\n",
    "print(top_0)\n",
    "ax = sns.barplot(x=0, y=\"word\", data=top_0)\n",
    "plt.xlim(0, 0.050)\n",
    "ax.set(xlabel='Topic 1 Word Probabilities', ylabel='Words')"
   ]
  },
  {
   "cell_type": "code",
   "execution_count": 66,
   "id": "0dc2a236",
   "metadata": {},
   "outputs": [
    {
     "name": "stdout",
     "output_type": "stream",
     "text": [
      "                  1       word\n",
      "ladesäule  0.024805  ladesäule\n",
      "ich        0.024414        ich\n",
      "ist        0.019933        ist\n",
      "nicht      0.019387      nicht\n",
      "mit        0.017199        mit\n",
      "eine       0.014058       eine\n",
      "auch       0.013502       auch\n",
      "man        0.012090        man\n",
      "ein        0.011842        ein\n",
      "aber       0.010963       aber\n"
     ]
    },
    {
     "data": {
      "text/plain": [
       "[Text(0.5, 0, 'Topic 2 Word Probabilities'), Text(0, 0.5, 'Words')]"
      ]
     },
     "execution_count": 66,
     "metadata": {},
     "output_type": "execute_result"
    },
    {
     "data": {
      "image/png": "[encoded data removed]",
      "text/plain": [
       "<Figure size 432x288 with 1 Axes>"
      ]
     },
     "metadata": {},
     "output_type": "display_data"
    }
   ],
   "source": [
    "top_1 = words_topics_1.nlargest(10, 1)\n",
    "\n",
    "print(top_1)\n",
    "ax = sns.barplot(x=1, y=\"word\", data=top_1)\n",
    "plt.xlim(0, 0.050)\n",
    "ax.set(xlabel='Topic 2 Word Probabilities', ylabel='Words')"
   ]
  },
  {
   "cell_type": "code",
   "execution_count": 67,
   "id": "cfb3c5db",
   "metadata": {},
   "outputs": [
    {
     "name": "stdout",
     "output_type": "stream",
     "text": [
      "                          2               word\n",
      "ein                0.031457                ein\n",
      "schneider          0.029661          schneider\n",
      "electric           0.029194           electric\n",
      "eine               0.028350               eine\n",
      "zur                0.027399                zur\n",
      "ist                0.026193                ist\n",
      "ladeinfrastruktur  0.021507  ladeinfrastruktur\n",
      "elektromobilität   0.018306   elektromobilität\n",
      "gemeinsam          0.017765          gemeinsam\n",
      "ionity             0.016983             ionity\n"
     ]
    },
    {
     "data": {
      "text/plain": [
       "[Text(0.5, 0, 'Topic 3 Word Probabilities'), Text(0, 0.5, 'Words')]"
      ]
     },
     "execution_count": 67,
     "metadata": {},
     "output_type": "execute_result"
    },
    {
     "data": {
      "image/png": "[encoded data removed]",
      "text/plain": [
       "<Figure size 432x288 with 1 Axes>"
      ]
     },
     "metadata": {},
     "output_type": "display_data"
    }
   ],
   "source": [
    "top_2 = words_topics_2.nlargest(10, 2)\n",
    "\n",
    "print(top_2)\n",
    "ax = sns.barplot(x=2, y=\"word\", data=top_2)\n",
    "plt.xlim(0, 0.050)\n",
    "ax.set(xlabel='Topic 3 Word Probabilities', ylabel='Words')"
   ]
  },
  {
   "cell_type": "code",
   "execution_count": 68,
   "id": "e9da13d9",
   "metadata": {},
   "outputs": [
    {
     "name": "stdout",
     "output_type": "stream",
     "text": [
      "              topic0     topic1     topic2\n",
      "0  ladeinfrastruktur  ladesäule        ein\n",
      "1                mit        ich  schneider\n",
      "2                ist        ist   electric\n",
      "3              nicht      nicht       eine\n",
      "4               auch        mit        zur\n",
      "                                              topic0  \\\n",
      "0  ladeinfrastruktur: enbw-chef bemängelt langwie...   \n",
      "1  #aecom #joltenergy planen innerstädtische #hpc...   \n",
      "2  förderhöchstsätze ladeinfrastruktur nrw https:...   \n",
      "3  förderhöchstsätze ladeinfrastruktur nrw https:...   \n",
      "4  förderhöchstsätze ladeinfrastruktur nrw https:...   \n",
      "\n",
      "                                              topic1  \n",
      "0  @unionista 👍 genau, ladesäule, 4 stunden parkd...  \n",
      "1  realer irrsinn: elektroauto-ladesäule hinter b...  \n",
      "2          @volkswagen #ionity logo ladesäule fehlt.  \n",
      "3  nicht! geeichte tankautomaten bei #emobility. ...  \n",
      "4  @p_humm apropos ladeinfrastruktur: schon geseh...  \n"
     ]
    }
   ],
   "source": [
    "top_words = btm.get_top_topic_words(\n",
    "    tweets_model,\n",
    "    words_num=100)\n",
    "\n",
    "\n",
    "top_words_df = pd.DataFrame(top_words)\n",
    "print(top_words_df.head())\n",
    "\n",
    "top_docs = btm.get_top_topic_docs(\n",
    "    tweets_df['tweet_processed'],\n",
    "    p_zd,\n",
    "    docs_num=3783,\n",
    "    topics_idx=[0,1])\n",
    "\n",
    "top_docs_df = pd.DataFrame(top_docs)\n",
    "print(top_docs_df.head())\n",
    "\n",
    "top_words_df.to_csv(\"top_words-3topics.csv\", index=False)"
   ]
  },
  {
   "cell_type": "code",
   "execution_count": 69,
   "id": "56b88e29",
   "metadata": {},
   "outputs": [],
   "source": [
    "tweet_topics = btm.get_docs_top_topic(tweets, tweets_model.matrix_docs_topics_)\n",
    "\n",
    "\n",
    "tweet_topics.to_csv(\"tweets_topics-3topics.csv\")"
   ]
  },
  {
   "cell_type": "code",
   "execution_count": 70,
   "id": "14a6f7a4",
   "metadata": {},
   "outputs": [
    {
     "name": "stdout",
     "output_type": "stream",
     "text": [
      "       Unnamed: 0                      date             user  \\\n",
      "0               0 2022-04-26 08:44:26+00:00   ReinerKurzmann   \n",
      "1               1 2022-04-26 08:44:03+00:00  na_presseportal   \n",
      "2               2 2022-04-26 08:40:02+00:00     SmartHomeEU1   \n",
      "3               3 2022-04-26 08:32:54+00:00       EPhisoloph   \n",
      "4               4 2022-04-26 08:26:51+00:00           Amie42   \n",
      "...           ...                       ...              ...   \n",
      "23708       23708 2020-07-08 06:52:18+00:00    J_Hildermeier   \n",
      "23709       23709 2020-07-08 06:40:56+00:00             BMWK   \n",
      "23710       23710 2020-07-08 06:30:25+00:00     ElectriveNet   \n",
      "23711       23711 2020-07-08 04:29:36+00:00         kamil2_0   \n",
      "23712       23712 2020-07-08 04:23:03+00:00          MAZirke   \n",
      "\n",
      "                                                   tweet  \\\n",
      "0      @kkklawitter @EggMarkus @sepp_reitberger Das e...   \n",
      "1      amperio GmbH: mobileeee und amperio starten la...   \n",
      "2      Zur Ladeinfrastruktur für Elektrofahrzeuge geh...   \n",
      "3      @chris_pyak @JRehborn @HerrPhteven Dazu noch n...   \n",
      "4      @Mingiam10 @kkklawitter Mein Punkt ist ja der ...   \n",
      "...                                                  ...   \n",
      "23708  @Solarfighter @BMWi_Bund @peteraltmaier @BAFA_...   \n",
      "23709  @Solarfighter @peteraltmaier @BAFA_Bund Der Au...   \n",
      "23710  #Tesla hat mit der Eröffnung des neuen #Superc...   \n",
      "23711  @danjol_lupardo @Canstatt93 @Poveretto Das ist...   \n",
      "23712  @BMWi_Bund @peteraltmaier @BAFA_Bund Weit und ...   \n",
      "\n",
      "                                                     url  \\\n",
      "0      https://twitter.com/ReinerKurzmann/status/1518...   \n",
      "1      https://twitter.com/na_presseportal/status/151...   \n",
      "2      https://twitter.com/SmartHomeEU1/status/151887...   \n",
      "3      https://twitter.com/EPhisoloph/status/15188707...   \n",
      "4      https://twitter.com/Amie42/status/151886919943...   \n",
      "...                                                  ...   \n",
      "23708  https://twitter.com/J_Hildermeier/status/12807...   \n",
      "23709  https://twitter.com/BMWK/status/12807537188126...   \n",
      "23710  https://twitter.com/ElectriveNet/status/128075...   \n",
      "23711  https://twitter.com/kamil2_0/status/1280720665...   \n",
      "23712  https://twitter.com/MAZirke/status/12807190175...   \n",
      "\n",
      "                                         tweet_processed  \n",
      "0      @kkklawitter @eggmarkus @sepp_reitberger einzi...  \n",
      "1      amperio gmbh: mobileeee amperio starten langfr...  \n",
      "2      zur ladeinfrastruktur elektrofahrzeuge gehört ...  \n",
      "3      @chris_pyak @jrehborn @herrphteven dazu noch n...  \n",
      "4      @mingiam10 @kkklawitter mein punkt ist ja park...  \n",
      "...                                                  ...  \n",
      "23708  @solarfighter @bmwi_bund @peteraltmaier @bafa_...  \n",
      "23709  @solarfighter @peteraltmaier @bafa_bund aufbau...  \n",
      "23710  #tesla hat mit eröffnung des neuen #supercharg...  \n",
      "23711  @danjol_lupardo @canstatt93 @poveretto ist gen...  \n",
      "23712  @bmwi_bund @peteraltmaier @bafa_bund weit brei...  \n",
      "\n",
      "[23713 rows x 6 columns]\n"
     ]
    }
   ],
   "source": [
    "print(tweets_df)"
   ]
  },
  {
   "cell_type": "code",
   "execution_count": 71,
   "id": "ee61e5f3",
   "metadata": {},
   "outputs": [],
   "source": [
    "tweets_df['topic'] = tweet_topics['label'].values"
   ]
  },
  {
   "cell_type": "code",
   "execution_count": 72,
   "id": "d21e283d",
   "metadata": {},
   "outputs": [
    {
     "name": "stdout",
     "output_type": "stream",
     "text": [
      "       Unnamed: 0                      date             user  \\\n",
      "0               0 2022-04-26 08:44:26+00:00   ReinerKurzmann   \n",
      "1               1 2022-04-26 08:44:03+00:00  na_presseportal   \n",
      "2               2 2022-04-26 08:40:02+00:00     SmartHomeEU1   \n",
      "3               3 2022-04-26 08:32:54+00:00       EPhisoloph   \n",
      "4               4 2022-04-26 08:26:51+00:00           Amie42   \n",
      "...           ...                       ...              ...   \n",
      "23708       23708 2020-07-08 06:52:18+00:00    J_Hildermeier   \n",
      "23709       23709 2020-07-08 06:40:56+00:00             BMWK   \n",
      "23710       23710 2020-07-08 06:30:25+00:00     ElectriveNet   \n",
      "23711       23711 2020-07-08 04:29:36+00:00         kamil2_0   \n",
      "23712       23712 2020-07-08 04:23:03+00:00          MAZirke   \n",
      "\n",
      "                                                   tweet  \\\n",
      "0      @kkklawitter @EggMarkus @sepp_reitberger Das e...   \n",
      "1      amperio GmbH: mobileeee und amperio starten la...   \n",
      "2      Zur Ladeinfrastruktur für Elektrofahrzeuge geh...   \n",
      "3      @chris_pyak @JRehborn @HerrPhteven Dazu noch n...   \n",
      "4      @Mingiam10 @kkklawitter Mein Punkt ist ja der ...   \n",
      "...                                                  ...   \n",
      "23708  @Solarfighter @BMWi_Bund @peteraltmaier @BAFA_...   \n",
      "23709  @Solarfighter @peteraltmaier @BAFA_Bund Der Au...   \n",
      "23710  #Tesla hat mit der Eröffnung des neuen #Superc...   \n",
      "23711  @danjol_lupardo @Canstatt93 @Poveretto Das ist...   \n",
      "23712  @BMWi_Bund @peteraltmaier @BAFA_Bund Weit und ...   \n",
      "\n",
      "                                                     url  \\\n",
      "0      https://twitter.com/ReinerKurzmann/status/1518...   \n",
      "1      https://twitter.com/na_presseportal/status/151...   \n",
      "2      https://twitter.com/SmartHomeEU1/status/151887...   \n",
      "3      https://twitter.com/EPhisoloph/status/15188707...   \n",
      "4      https://twitter.com/Amie42/status/151886919943...   \n",
      "...                                                  ...   \n",
      "23708  https://twitter.com/J_Hildermeier/status/12807...   \n",
      "23709  https://twitter.com/BMWK/status/12807537188126...   \n",
      "23710  https://twitter.com/ElectriveNet/status/128075...   \n",
      "23711  https://twitter.com/kamil2_0/status/1280720665...   \n",
      "23712  https://twitter.com/MAZirke/status/12807190175...   \n",
      "\n",
      "                                         tweet_processed  topic  \n",
      "0      @kkklawitter @eggmarkus @sepp_reitberger einzi...      1  \n",
      "1      amperio gmbh: mobileeee amperio starten langfr...      2  \n",
      "2      zur ladeinfrastruktur elektrofahrzeuge gehört ...      2  \n",
      "3      @chris_pyak @jrehborn @herrphteven dazu noch n...      1  \n",
      "4      @mingiam10 @kkklawitter mein punkt ist ja park...      1  \n",
      "...                                                  ...    ...  \n",
      "23708  @solarfighter @bmwi_bund @peteraltmaier @bafa_...      0  \n",
      "23709  @solarfighter @peteraltmaier @bafa_bund aufbau...      2  \n",
      "23710  #tesla hat mit eröffnung des neuen #supercharg...      0  \n",
      "23711  @danjol_lupardo @canstatt93 @poveretto ist gen...      1  \n",
      "23712  @bmwi_bund @peteraltmaier @bafa_bund weit brei...      1  \n",
      "\n",
      "[23713 rows x 7 columns]\n"
     ]
    }
   ],
   "source": [
    "print(tweets_df)"
   ]
  },
  {
   "cell_type": "code",
   "execution_count": 73,
   "id": "30b0b83f",
   "metadata": {},
   "outputs": [],
   "source": [
    "# calculate Tweet sentiment\n",
    "\n",
    "analyzer = SentimentIntensityAnalyzer()\n",
    "def calculate_sentiment(dataframe):\n",
    "    utf_encoded = dataframe[\"tweet\"].encode('utf-16', 'surrogatepass').decode('utf-16')\n",
    "    vs = analyzer.polarity_scores(utf_encoded)\n",
    "    neg_list.append(vs[\"neg\"])\n",
    "    neu_list.append(vs[\"neu\"])\n",
    "    pos_list.append(vs[\"pos\"])\n",
    "    com_list.append(vs[\"compound\"])\n",
    "    return dataframe"
   ]
  },
  {
   "cell_type": "code",
   "execution_count": 74,
   "id": "1272aafe",
   "metadata": {},
   "outputs": [],
   "source": [
    "neg_list = []\n",
    "neu_list = []\n",
    "pos_list = []\n",
    "com_list = []\n",
    "tweets_df = tweets_df.apply(lambda x: calculate_sentiment(x), axis=1)"
   ]
  },
  {
   "cell_type": "code",
   "execution_count": 75,
   "id": "b5dafb59",
   "metadata": {},
   "outputs": [
    {
     "name": "stdout",
     "output_type": "stream",
     "text": [
      "       Unnamed: 0                      date             user  \\\n",
      "0               0 2022-04-26 08:44:26+00:00   ReinerKurzmann   \n",
      "1               1 2022-04-26 08:44:03+00:00  na_presseportal   \n",
      "2               2 2022-04-26 08:40:02+00:00     SmartHomeEU1   \n",
      "3               3 2022-04-26 08:32:54+00:00       EPhisoloph   \n",
      "4               4 2022-04-26 08:26:51+00:00           Amie42   \n",
      "...           ...                       ...              ...   \n",
      "23708       23708 2020-07-08 06:52:18+00:00    J_Hildermeier   \n",
      "23709       23709 2020-07-08 06:40:56+00:00             BMWK   \n",
      "23710       23710 2020-07-08 06:30:25+00:00     ElectriveNet   \n",
      "23711       23711 2020-07-08 04:29:36+00:00         kamil2_0   \n",
      "23712       23712 2020-07-08 04:23:03+00:00          MAZirke   \n",
      "\n",
      "                                                   tweet  \\\n",
      "0      @kkklawitter @EggMarkus @sepp_reitberger Das e...   \n",
      "1      amperio GmbH: mobileeee und amperio starten la...   \n",
      "2      Zur Ladeinfrastruktur für Elektrofahrzeuge geh...   \n",
      "3      @chris_pyak @JRehborn @HerrPhteven Dazu noch n...   \n",
      "4      @Mingiam10 @kkklawitter Mein Punkt ist ja der ...   \n",
      "...                                                  ...   \n",
      "23708  @Solarfighter @BMWi_Bund @peteraltmaier @BAFA_...   \n",
      "23709  @Solarfighter @peteraltmaier @BAFA_Bund Der Au...   \n",
      "23710  #Tesla hat mit der Eröffnung des neuen #Superc...   \n",
      "23711  @danjol_lupardo @Canstatt93 @Poveretto Das ist...   \n",
      "23712  @BMWi_Bund @peteraltmaier @BAFA_Bund Weit und ...   \n",
      "\n",
      "                                                     url  \\\n",
      "0      https://twitter.com/ReinerKurzmann/status/1518...   \n",
      "1      https://twitter.com/na_presseportal/status/151...   \n",
      "2      https://twitter.com/SmartHomeEU1/status/151887...   \n",
      "3      https://twitter.com/EPhisoloph/status/15188707...   \n",
      "4      https://twitter.com/Amie42/status/151886919943...   \n",
      "...                                                  ...   \n",
      "23708  https://twitter.com/J_Hildermeier/status/12807...   \n",
      "23709  https://twitter.com/BMWK/status/12807537188126...   \n",
      "23710  https://twitter.com/ElectriveNet/status/128075...   \n",
      "23711  https://twitter.com/kamil2_0/status/1280720665...   \n",
      "23712  https://twitter.com/MAZirke/status/12807190175...   \n",
      "\n",
      "                                         tweet_processed  topic  negative  \\\n",
      "0      @kkklawitter @eggmarkus @sepp_reitberger einzi...      1     0.154   \n",
      "1      amperio gmbh: mobileeee amperio starten langfr...      2     0.000   \n",
      "2      zur ladeinfrastruktur elektrofahrzeuge gehört ...      2     0.000   \n",
      "3      @chris_pyak @jrehborn @herrphteven dazu noch n...      1     0.000   \n",
      "4      @mingiam10 @kkklawitter mein punkt ist ja park...      1     0.178   \n",
      "...                                                  ...    ...       ...   \n",
      "23708  @solarfighter @bmwi_bund @peteraltmaier @bafa_...      0     0.000   \n",
      "23709  @solarfighter @peteraltmaier @bafa_bund aufbau...      2     0.000   \n",
      "23710  #tesla hat mit eröffnung des neuen #supercharg...      0     0.157   \n",
      "23711  @danjol_lupardo @canstatt93 @poveretto ist gen...      1     0.087   \n",
      "23712  @bmwi_bund @peteraltmaier @bafa_bund weit brei...      1     0.000   \n",
      "\n",
      "       neutral  positive  compound  \n",
      "0        0.846       0.0   -0.8316  \n",
      "1        1.000       0.0    0.0000  \n",
      "2        1.000       0.0    0.0000  \n",
      "3        1.000       0.0    0.0000  \n",
      "4        0.822       0.0   -0.8316  \n",
      "...        ...       ...       ...  \n",
      "23708    1.000       0.0    0.0000  \n",
      "23709    1.000       0.0    0.0000  \n",
      "23710    0.843       0.0   -0.5994  \n",
      "23711    0.913       0.0   -0.5994  \n",
      "23712    1.000       0.0    0.0000  \n",
      "\n",
      "[23713 rows x 11 columns]\n"
     ]
    }
   ],
   "source": [
    "tweets_df[\"negative\"] = neg_list\n",
    "tweets_df[\"neutral\"] = neu_list\n",
    "tweets_df[\"positive\"] = pos_list\n",
    "tweets_df[\"compound\"] = com_list\n",
    "print(tweets_df)"
   ]
  },
  {
   "cell_type": "code",
   "execution_count": 76,
   "id": "035317ce",
   "metadata": {},
   "outputs": [],
   "source": [
    "def assign_sentiment(row):\n",
    "    float_compound = float(row['compound'])\n",
    "    if float_compound >= 0.05:\n",
    "        val = 'Positive'\n",
    "    elif float_compound <= -0.05:\n",
    "        val = 'Negative'\n",
    "    else:\n",
    "        val = 'Neutral'\n",
    "    return val"
   ]
  },
  {
   "cell_type": "code",
   "execution_count": 77,
   "id": "b4c4e4f6",
   "metadata": {},
   "outputs": [],
   "source": [
    "tweets_df['sentiment'] = tweets_df.apply(assign_sentiment, axis=1)"
   ]
  },
  {
   "cell_type": "code",
   "execution_count": 78,
   "id": "97a14a73",
   "metadata": {},
   "outputs": [],
   "source": [
    "topic_0_df = tweets_df[(tweets_df[\"topic\"] == 0)]\n",
    "topic_1_df = tweets_df[(tweets_df[\"topic\"] == 1)]\n",
    "topic_2_df = tweets_df[(tweets_df[\"topic\"] == 2)]"
   ]
  },
  {
   "cell_type": "code",
   "execution_count": 79,
   "id": "979c0b65",
   "metadata": {},
   "outputs": [
    {
     "name": "stdout",
     "output_type": "stream",
     "text": [
      "       Unnamed: 0                      date             user  \\\n",
      "5               5 2022-04-26 08:26:31+00:00  verkehrswendeb2   \n",
      "14             14 2022-04-26 07:08:25+00:00   abbdeutschland   \n",
      "15             15 2022-04-26 07:00:01+00:00      energie_rlp   \n",
      "16             16 2022-04-26 06:48:23+00:00     ReegerLothar   \n",
      "19             19 2022-04-26 06:22:01+00:00       manuel01St   \n",
      "...           ...                       ...              ...   \n",
      "23703       23703 2020-07-08 07:32:02+00:00             BMWK   \n",
      "23704       23704 2020-07-08 07:30:56+00:00             BMWK   \n",
      "23706       23706 2020-07-08 07:13:48+00:00  thomas1nitschke   \n",
      "23708       23708 2020-07-08 06:52:18+00:00    J_Hildermeier   \n",
      "23710       23710 2020-07-08 06:30:25+00:00     ElectriveNet   \n",
      "\n",
      "                                                   tweet  \\\n",
      "5      @kkklawitter @grnFlip @DerGraslutscher @Baeuml...   \n",
      "14     Nächster Halt: #Berlin. Besuchen Sie uns dort ...   \n",
      "15     🚗🔌🔋 Wie hat sich die #Ladeinfrastruktur in #RL...   \n",
      "16     Mit dieser Batterie hat er eine technischen Vo...   \n",
      "19     Beispiel für clever installierte Ladeinfrastru...   \n",
      "...                                                  ...   \n",
      "23703  @Sunshine010981 @DonBarbone @peteraltmaier @BA...   \n",
      "23704  @Raider_MXD @peteraltmaier @BAFA_Bund Der Aufb...   \n",
      "23706  Ich halte es nach wie vor falsch das Endproduk...   \n",
      "23708  @Solarfighter @BMWi_Bund @peteraltmaier @BAFA_...   \n",
      "23710  #Tesla hat mit der Eröffnung des neuen #Superc...   \n",
      "\n",
      "                                                     url  \\\n",
      "5      https://twitter.com/verkehrswendeb2/status/151...   \n",
      "14     https://twitter.com/abbdeutschland/status/1518...   \n",
      "15     https://twitter.com/energie_rlp/status/1518847...   \n",
      "16     https://twitter.com/ReegerLothar/status/151884...   \n",
      "19     https://twitter.com/manuel01St/status/15188377...   \n",
      "...                                                  ...   \n",
      "23703  https://twitter.com/BMWK/status/12807665799622...   \n",
      "23704  https://twitter.com/BMWK/status/12807663024754...   \n",
      "23706  https://twitter.com/thomas1nitschke/status/128...   \n",
      "23708  https://twitter.com/J_Hildermeier/status/12807...   \n",
      "23710  https://twitter.com/ElectriveNet/status/128075...   \n",
      "\n",
      "                                         tweet_processed  topic  negative  \\\n",
      "5      @kkklawitter @grnflip @dergraslutscher @baeuml...      0     0.000   \n",
      "14     nächster halt: #berlin. besuchen sie uns dort ...      0     0.000   \n",
      "15     🚗🔌🔋 wie hat sich #ladeinfrastruktur #rlp entwi...      0     0.182   \n",
      "16     mit dieser batterie hat er eine technischen vo...      0     0.182   \n",
      "19     beispiel clever installierte ladeinfrastruktur...      0     0.000   \n",
      "...                                                  ...    ...       ...   \n",
      "23703  @sunshine010981 @donbarbone @peteraltmaier @ba...      0     0.000   \n",
      "23704  @raider_mxd @peteraltmaier @bafa_bund aufbau l...      0     0.000   \n",
      "23706  ich halte nach wie vor falsch endprodukt erste...      0     0.157   \n",
      "23708  @solarfighter @bmwi_bund @peteraltmaier @bafa_...      0     0.000   \n",
      "23710  #tesla hat mit eröffnung des neuen #supercharg...      0     0.157   \n",
      "\n",
      "       neutral  positive  compound sentiment  \n",
      "5        1.000     0.000    0.0000   Neutral  \n",
      "14       1.000     0.000    0.0000   Neutral  \n",
      "15       0.818     0.000   -0.8316  Negative  \n",
      "16       0.818     0.000   -0.8316  Negative  \n",
      "19       0.727     0.273    0.4588  Positive  \n",
      "...        ...       ...       ...       ...  \n",
      "23703    1.000     0.000    0.0000   Neutral  \n",
      "23704    1.000     0.000    0.0000   Neutral  \n",
      "23706    0.843     0.000   -0.8316  Negative  \n",
      "23708    1.000     0.000    0.0000   Neutral  \n",
      "23710    0.843     0.000   -0.5994  Negative  \n",
      "\n",
      "[9553 rows x 12 columns]\n"
     ]
    }
   ],
   "source": [
    "print(topic_0_df)"
   ]
  },
  {
   "cell_type": "code",
   "execution_count": 80,
   "id": "a1514271",
   "metadata": {},
   "outputs": [],
   "source": [
    "topic_0_df.to_csv(\"topic_0-with_sentiment.csv\")\n",
    "topic_1_df.to_csv(\"topic_1-with_sentiment.csv\")\n",
    "topic_2_df.to_csv(\"topic_2-with_sentiment.csv\")"
   ]
  },
  {
   "cell_type": "code",
   "execution_count": 81,
   "id": "131b8eb8",
   "metadata": {},
   "outputs": [],
   "source": [
    "topic_0_sentiment = topic_0_df.groupby(['sentiment']).size()\n",
    "topic_1_sentiment = topic_1_df.groupby(['sentiment']).size()\n",
    "topic_2_sentiment = topic_2_df.groupby(['sentiment']).size()\n",
    "\n",
    "\n",
    "positive_0 = topic_0_sentiment['Positive']\n",
    "neutral_0 = topic_0_sentiment['Neutral']\n",
    "negative_0 = topic_0_sentiment['Negative']\n",
    "positive_1 = topic_1_sentiment['Positive']\n",
    "neutral_1 = topic_1_sentiment['Neutral']\n",
    "negative_1 = topic_1_sentiment['Negative']\n",
    "positive_2 = topic_2_sentiment['Positive']\n",
    "neutral_2 = topic_2_sentiment['Neutral']\n",
    "negative_2 = topic_2_sentiment['Negative']\n",
    "\n",
    "labels = ['Positive', 'Neutral', 'Negative' ]\n",
    "sentiment_count_0 = [positive_0, neutral_0, negative_0]\n",
    "sentiment_count_1 = [positive_1, neutral_1, negative_1]\n",
    "sentiment_count_2 = [positive_2, neutral_2, negative_2]"
   ]
  },
  {
   "cell_type": "code",
   "execution_count": 82,
   "id": "017bd2ad",
   "metadata": {},
   "outputs": [
    {
     "name": "stdout",
     "output_type": "stream",
     "text": [
      "0.040824871768030985\n",
      "0.48016329948707215\n",
      "0.4790118287448969\n",
      "0.06374103120307024\n",
      "0.37685633238778576\n",
      "0.559402636409144\n",
      "0.03771849126034959\n",
      "0.7511499540018399\n",
      "0.21113155473781048\n"
     ]
    }
   ],
   "source": [
    "topic_0_sum = sum(sentiment_count_0)\n",
    "print(sentiment_count_0[0]/topic_0_sum)\n",
    "print(sentiment_count_0[1]/topic_0_sum)\n",
    "print(sentiment_count_0[2]/topic_0_sum)\n",
    "\n",
    "topic_1_sum = sum(sentiment_count_1)\n",
    "print(sentiment_count_1[0]/topic_1_sum)\n",
    "print(sentiment_count_1[1]/topic_1_sum)\n",
    "print(sentiment_count_1[2]/topic_1_sum)\n",
    "\n",
    "topic_2_sum = sum(sentiment_count_2)\n",
    "print(sentiment_count_2[0]/topic_2_sum)\n",
    "print(sentiment_count_2[1]/topic_2_sum)\n",
    "print(sentiment_count_2[2]/topic_2_sum)"
   ]
  },
  {
   "cell_type": "code",
   "execution_count": 83,
   "id": "654207dc",
   "metadata": {},
   "outputs": [
    {
     "data": {
      "image/png": "[encoded data removed]",
      "text/plain": [
       "<Figure size 432x288 with 1 Axes>"
      ]
     },
     "metadata": {},
     "output_type": "display_data"
    }
   ],
   "source": [
    "plt.pie(sentiment_count_0, labels = labels, autopct='%.0f%%')\n",
    "plt.show()"
   ]
  },
  {
   "cell_type": "code",
   "execution_count": 84,
   "id": "bf965721",
   "metadata": {},
   "outputs": [
    {
     "data": {
      "image/png": "[encoded data removed]",
      "text/plain": [
       "<Figure size 432x288 with 1 Axes>"
      ]
     },
     "metadata": {},
     "output_type": "display_data"
    }
   ],
   "source": [
    "plt.pie(sentiment_count_1, labels = labels, autopct='%.0f%%')\n",
    "plt.show()"
   ]
  },
  {
   "cell_type": "code",
   "execution_count": 85,
   "id": "68309216",
   "metadata": {},
   "outputs": [
    {
     "data": {
      "image/png": "[encoded data removed]",
      "text/plain": [
       "<Figure size 432x288 with 1 Axes>"
      ]
     },
     "metadata": {},
     "output_type": "display_data"
    }
   ],
   "source": [
    "plt.pie(sentiment_count_2, labels = labels, autopct='%.0f%%')\n",
    "plt.show()"
   ]
  },
  {
   "cell_type": "code",
   "execution_count": 86,
   "id": "272a1ecc",
   "metadata": {},
   "outputs": [],
   "source": [
    "topic_0_negative_df = topic_0_df[(topic_0_df[\"sentiment\"] == \"Negative\")]\n",
    "topic_1_negative_df = topic_1_df[(topic_1_df[\"sentiment\"] == \"Negative\")]\n",
    "topic_2_negative_df = topic_2_df[(topic_2_df[\"sentiment\"] == \"Negative\")]"
   ]
  },
  {
   "cell_type": "code",
   "execution_count": 87,
   "id": "60502d5a",
   "metadata": {},
   "outputs": [],
   "source": [
    "positive_0_percentage = (positive_0 / topic_0_sum) * 100\n",
    "neutral_0_percentage = (neutral_0 / topic_0_sum) * 100\n",
    "negative_0_percentage = (negative_0 / topic_0_sum) * 100\n",
    "\n",
    "positive_1_percentage = (positive_1 / topic_1_sum) * 100\n",
    "neutral_1_percentage = (neutral_1 / topic_1_sum) * 100\n",
    "negative_1_percentage = (negative_1 / topic_1_sum) * 100\n",
    "\n",
    "positive_2_percentage = (positive_2 / topic_2_sum) * 100\n",
    "neutral_2_percentage = (neutral_2 / topic_2_sum) * 100\n",
    "negative_2_percentage = (negative_2 / topic_2_sum) * 100"
   ]
  },
  {
   "cell_type": "code",
   "execution_count": 88,
   "id": "3996371a",
   "metadata": {},
   "outputs": [
    {
     "data": {
      "image/png": "[encoded data removed]",
      "text/plain": [
       "<Figure size 864x576 with 1 Axes>"
      ]
     },
     "metadata": {},
     "output_type": "display_data"
    }
   ],
   "source": [
    "data=[[\"Topic 1\",positive_0_percentage,neutral_0_percentage,negative_0_percentage],\n",
    "      [\"Topic 2\",positive_1_percentage,neutral_1_percentage,negative_1_percentage],\n",
    "      [\"Topic 3\",positive_2_percentage,neutral_2_percentage,negative_2_percentage]]\n",
    "df=pd.DataFrame(data,columns=[\"Topic\",\"Positive\",\"Neutral\",\"Negative\"])\n",
    "df.plot(ylabel = \"Count\", x=\"Topic\", y=[\"Positive\", \"Neutral\", \"Negative\"], kind=\"bar\",figsize=(12,8))\n",
    "plt.xlabel('')\n",
    "plt.ylabel('Sentiment Percentage (%)') \n",
    "plt.show()"
   ]
  },
  {
   "cell_type": "code",
   "execution_count": 89,
   "id": "87ce8f19",
   "metadata": {},
   "outputs": [
    {
     "data": {
      "image/png": "[encoded data removed]",
      "text/plain": [
       "<Figure size 864x576 with 1 Axes>"
      ]
     },
     "metadata": {},
     "output_type": "display_data"
    }
   ],
   "source": [
    "data=[[\"Topic 1\",positive_0,neutral_0,negative_0],\n",
    "      [\"Topic 2\",positive_1,neutral_1,negative_1],\n",
    "      [\"Topic 3\",positive_2,neutral_2,negative_2]]\n",
    "df=pd.DataFrame(data,columns=[\"Topic\",\"Positive\",\"Neutral\",\"Negative\"])\n",
    "df.plot(ylabel = \"Count\", x=\"Topic\", y=[\"Positive\", \"Neutral\", \"Negative\"], kind=\"bar\",figsize=(12,8))\n",
    "plt.xlabel('')\n",
    "plt.ylabel('Comment Count') \n",
    "plt.show()"
   ]
  },
  {
   "cell_type": "code",
   "execution_count": 90,
   "id": "8052e229",
   "metadata": {},
   "outputs": [
    {
     "name": "stdout",
     "output_type": "stream",
     "text": [
      "       Unnamed: 0                      date             user  \\\n",
      "15             15 2022-04-26 07:00:01+00:00      energie_rlp   \n",
      "16             16 2022-04-26 06:48:23+00:00     ReegerLothar   \n",
      "31             31 2022-04-25 22:40:52+00:00         Acostard   \n",
      "32             32 2022-04-25 22:28:54+00:00     martin_kraft   \n",
      "33             33 2022-04-25 21:21:10+00:00        SaschaPPP   \n",
      "...           ...                       ...              ...   \n",
      "23686       23686 2020-07-08 11:05:03+00:00  zeitung_energie   \n",
      "23689       23689 2020-07-08 10:19:55+00:00      energie_rlp   \n",
      "23693       23693 2020-07-08 09:37:32+00:00            theho   \n",
      "23706       23706 2020-07-08 07:13:48+00:00  thomas1nitschke   \n",
      "23710       23710 2020-07-08 06:30:25+00:00     ElectriveNet   \n",
      "\n",
      "                                                   tweet  \\\n",
      "15     🚗🔌🔋 Wie hat sich die #Ladeinfrastruktur in #RL...   \n",
      "16     Mit dieser Batterie hat er eine technischen Vo...   \n",
      "31     @footils @radiermann Die Niederländer bauen ab...   \n",
      "32     @ohoerl @kkklawitter Nicht falsch verstehen: I...   \n",
      "33     @Henrik30595432 @radiermann So lange der Gehst...   \n",
      "...                                                  ...   \n",
      "23686  Private Ladeinfrastruktur soll E-Mobilität vor...   \n",
      "23689  Für die Errichtung von öffentl. #Ladeinfrastru...   \n",
      "23693  @Elektro_Robin Wenn die deutschen Hersteller n...   \n",
      "23706  Ich halte es nach wie vor falsch das Endproduk...   \n",
      "23710  #Tesla hat mit der Eröffnung des neuen #Superc...   \n",
      "\n",
      "                                                     url  \\\n",
      "15     https://twitter.com/energie_rlp/status/1518847...   \n",
      "16     https://twitter.com/ReegerLothar/status/151884...   \n",
      "31     https://twitter.com/Acostard/status/1518721732...   \n",
      "32     https://twitter.com/martin_kraft/status/151871...   \n",
      "33     https://twitter.com/SaschaPPP/status/151870167...   \n",
      "...                                                  ...   \n",
      "23686  https://twitter.com/zeitung_energie/status/128...   \n",
      "23689  https://twitter.com/energie_rlp/status/1280808...   \n",
      "23693  https://twitter.com/theho/status/1280798161653...   \n",
      "23706  https://twitter.com/thomas1nitschke/status/128...   \n",
      "23710  https://twitter.com/ElectriveNet/status/128075...   \n",
      "\n",
      "                                         tweet_processed  topic  negative  \\\n",
      "15     🚗🔌🔋 wie hat sich #ladeinfrastruktur #rlp entwi...      0     0.182   \n",
      "16     mit dieser batterie hat er eine technischen vo...      0     0.182   \n",
      "31     @footils @radiermann niederländer bauen aber s...      0     0.262   \n",
      "32     @ohoerl @kkklawitter nicht falsch verstehen: i...      0     0.098   \n",
      "33     @henrik30595432 @radiermann so lange gehsteig ...      0     0.139   \n",
      "...                                                  ...    ...       ...   \n",
      "23686  private ladeinfrastruktur soll e-mobilität vor...      0     0.238   \n",
      "23689  errichtung öffentl. #ladeinfrastruktur auf par...      0     0.109   \n",
      "23693  @elektro_robin wenn deutschen hersteller nicht...      0     0.262   \n",
      "23706  ich halte nach wie vor falsch endprodukt erste...      0     0.157   \n",
      "23710  #tesla hat mit eröffnung des neuen #supercharg...      0     0.157   \n",
      "\n",
      "       neutral  positive  compound sentiment  \n",
      "15       0.818       0.0   -0.8316  Negative  \n",
      "16       0.818       0.0   -0.8316  Negative  \n",
      "31       0.738       0.0   -0.5994  Negative  \n",
      "32       0.902       0.0   -0.5994  Negative  \n",
      "33       0.861       0.0   -0.7650  Negative  \n",
      "...        ...       ...       ...       ...  \n",
      "23686    0.762       0.0   -0.8316  Negative  \n",
      "23689    0.891       0.0   -0.5994  Negative  \n",
      "23693    0.738       0.0   -0.8316  Negative  \n",
      "23706    0.843       0.0   -0.8316  Negative  \n",
      "23710    0.843       0.0   -0.5994  Negative  \n",
      "\n",
      "[4576 rows x 12 columns]\n",
      "       Unnamed: 0                      date             user  \\\n",
      "0               0 2022-04-26 08:44:26+00:00   ReinerKurzmann   \n",
      "4               4 2022-04-26 08:26:51+00:00           Amie42   \n",
      "6               6 2022-04-26 08:24:55+00:00    PTNisWarCrmnl   \n",
      "7               7 2022-04-26 08:00:07+00:00    rouTfuAeiropA   \n",
      "18             18 2022-04-26 06:22:57+00:00      skippertom3   \n",
      "...           ...                       ...              ...   \n",
      "23679       23679 2020-07-08 13:22:11+00:00  verkehrswendeb2   \n",
      "23682       23682 2020-07-08 12:57:20+00:00       alexeyal99   \n",
      "23691       23691 2020-07-08 09:54:58+00:00           pstnrt   \n",
      "23699       23699 2020-07-08 07:49:21+00:00       chaase1337   \n",
      "23711       23711 2020-07-08 04:29:36+00:00         kamil2_0   \n",
      "\n",
      "                                                   tweet  \\\n",
      "0      @kkklawitter @EggMarkus @sepp_reitberger Das e...   \n",
      "4      @Mingiam10 @kkklawitter Mein Punkt ist ja der ...   \n",
      "6      @kkklawitter @Mingiam10 @DerGraslutscher Noch ...   \n",
      "7      @kkklawitter Für die Ladeinfrastruktur braucht...   \n",
      "18     @Luisamneubauer Ach ja: Und wenn mir jetzt noc...   \n",
      "...                                                  ...   \n",
      "23679  @Polizei_Ffm Vielen Dank @Polizei_Ffm, denn di...   \n",
      "23682  @Polizei_Ffm Die Ladesäule ist ja in Benutzung...   \n",
      "23691  @EnBW @HeikeRibke @heikojakob Ich bin bei solc...   \n",
      "23699  @BMWi_Bund @peteraltmaier @BAFA_Bund Und wieso...   \n",
      "23711  @danjol_lupardo @Canstatt93 @Poveretto Das ist...   \n",
      "\n",
      "                                                     url  \\\n",
      "0      https://twitter.com/ReinerKurzmann/status/1518...   \n",
      "4      https://twitter.com/Amie42/status/151886919943...   \n",
      "6      https://twitter.com/PTNisWarCrmnl/status/15188...   \n",
      "7      https://twitter.com/rouTfuAeiropA/status/15188...   \n",
      "18     https://twitter.com/skippertom3/status/1518838...   \n",
      "...                                                  ...   \n",
      "23679  https://twitter.com/verkehrswendeb2/status/128...   \n",
      "23682  https://twitter.com/alexeyal99/status/12808484...   \n",
      "23691  https://twitter.com/pstnrt/status/128080254706...   \n",
      "23699  https://twitter.com/chaase1337/status/12807709...   \n",
      "23711  https://twitter.com/kamil2_0/status/1280720665...   \n",
      "\n",
      "                                         tweet_processed  topic  negative  \\\n",
      "0      @kkklawitter @eggmarkus @sepp_reitberger einzi...      1     0.154   \n",
      "4      @mingiam10 @kkklawitter mein punkt ist ja park...      1     0.178   \n",
      "6      @kkklawitter @mingiam10 @dergraslutscher noch ...      1     0.162   \n",
      "7      @kkklawitter ladeinfrastruktur braucht echte l...      1     0.271   \n",
      "18     @luisamneubauer ach ja: wenn mir jetzt noch je...      1     0.126   \n",
      "...                                                  ...    ...       ...   \n",
      "23679  @polizei_ffm vielen dank @polizei_ffm, denn di...      1     0.087   \n",
      "23682  @polizei_ffm ladesäule ist ja benutzung des he...      1     0.191   \n",
      "23691  @enbw @heikeribke @heikojakob ich bin bei solc...      1     0.163   \n",
      "23699  @bmwi_bund @peteraltmaier @bafa_bund wieso wir...      1     0.089   \n",
      "23711  @danjol_lupardo @canstatt93 @poveretto ist gen...      1     0.087   \n",
      "\n",
      "       neutral  positive  compound sentiment  \n",
      "0        0.846     0.000   -0.8316  Negative  \n",
      "4        0.822     0.000   -0.8316  Negative  \n",
      "6        0.838     0.000   -0.7987  Negative  \n",
      "7        0.660     0.069   -0.7783  Negative  \n",
      "18       0.874     0.000   -0.5994  Negative  \n",
      "...        ...       ...       ...       ...  \n",
      "23679    0.913     0.000   -0.5994  Negative  \n",
      "23682    0.809     0.000   -0.8316  Negative  \n",
      "23691    0.837     0.000   -0.8316  Negative  \n",
      "23699    0.911     0.000   -0.5994  Negative  \n",
      "23711    0.913     0.000   -0.5994  Negative  \n",
      "\n",
      "[6705 rows x 12 columns]\n",
      "       Unnamed: 0                      date             user  \\\n",
      "27             27 2022-04-26 02:55:01+00:00     SmartHomeEU1   \n",
      "199           199 2022-04-24 08:00:26+00:00     ElectriveNet   \n",
      "205           205 2022-04-24 00:34:50+00:00  klimaschutzyeah   \n",
      "227           227 2022-04-23 08:00:32+00:00     ElectriveNet   \n",
      "269           269 2022-04-22 08:30:06+00:00     ElectriveNet   \n",
      "...           ...                       ...              ...   \n",
      "23585       23585 2020-07-10 07:47:35+00:00     johnturnersn   \n",
      "23587       23587 2020-07-10 07:44:11+00:00    chelseafmodel   \n",
      "23594       23594 2020-07-10 06:38:47+00:00  zeitung_energie   \n",
      "23696       23696 2020-07-08 09:00:58+00:00       VDA_online   \n",
      "23697       23697 2020-07-08 08:07:33+00:00          bdew_ev   \n",
      "\n",
      "                                                   tweet  \\\n",
      "27     Die Ladeinfrastruktur für Elektromobilität umf...   \n",
      "199    Am 27. April rücken wir im Rahmen von “https:/...   \n",
      "205    Vermieter werden verpflichtet, die Installatio...   \n",
      "227    Am 27. April rücken wir im Rahmen von “https:/...   \n",
      "269    Am 27. April rücken wir im Rahmen von “https:/...   \n",
      "...                                                  ...   \n",
      "23585  RT zeitung_energie \"Andreas Mundt vom #Bundesk...   \n",
      "23587  zeitung_energie \"Andreas Mundt vom #Bundeskart...   \n",
      "23594  Andreas Mundt vom #Bundeskartellamt über die E...   \n",
      "23696  Ausbau der privaten #Ladeinfrastruktur ist zen...   \n",
      "23697  Ausbau der privaten #Ladeinfrastruktur ist zen...   \n",
      "\n",
      "                                                     url  \\\n",
      "27     https://twitter.com/SmartHomeEU1/status/151878...   \n",
      "199    https://twitter.com/ElectriveNet/status/151813...   \n",
      "205    https://twitter.com/klimaschutzyeah/status/151...   \n",
      "227    https://twitter.com/ElectriveNet/status/151777...   \n",
      "269    https://twitter.com/ElectriveNet/status/151742...   \n",
      "...                                                  ...   \n",
      "23585  https://twitter.com/johnturnersn/status/128149...   \n",
      "23587  https://twitter.com/chelseafmodel/status/12814...   \n",
      "23594  https://twitter.com/zeitung_energie/status/128...   \n",
      "23696  https://twitter.com/VDA_online/status/12807889...   \n",
      "23697  https://twitter.com/bdew_ev/status/12807755181...   \n",
      "\n",
      "                                         tweet_processed  topic  negative  \\\n",
      "27     ladeinfrastruktur elektromobilität umfasst bei...      2     0.253   \n",
      "199    am 27. april rücken wir im rahmen “https://t.c...      2     0.112   \n",
      "205    vermieter werden verpflichtet, installation la...      2     0.277   \n",
      "227    am 27. april rücken wir im rahmen “https://t.c...      2     0.112   \n",
      "269    am 27. april rücken wir im rahmen “https://t.c...      2     0.112   \n",
      "...                                                  ...    ...       ...   \n",
      "23585  rt zeitung_energie \"andreas mundt vom #bundesk...      2     0.151   \n",
      "23587  zeitung_energie \"andreas mundt vom #bundeskart...      2     0.157   \n",
      "23594  andreas mundt vom #bundeskartellamt über ent­s...      2     0.163   \n",
      "23696  ausbau privaten #ladeinfrastruktur ist zentral...      2     0.126   \n",
      "23697  ausbau privaten #ladeinfrastruktur ist zentral...      2     0.202   \n",
      "\n",
      "       neutral  positive  compound sentiment  \n",
      "27       0.747     0.000   -0.8316  Negative  \n",
      "199      0.888     0.000   -0.5994  Negative  \n",
      "205      0.567     0.156   -0.4019  Negative  \n",
      "227      0.888     0.000   -0.5994  Negative  \n",
      "269      0.888     0.000   -0.5994  Negative  \n",
      "...        ...       ...       ...       ...  \n",
      "23585    0.849     0.000   -0.5994  Negative  \n",
      "23587    0.843     0.000   -0.5994  Negative  \n",
      "23594    0.837     0.000   -0.5994  Negative  \n",
      "23696    0.874     0.000   -0.5994  Negative  \n",
      "23697    0.798     0.000   -0.8439  Negative  \n",
      "\n",
      "[459 rows x 12 columns]\n"
     ]
    }
   ],
   "source": [
    "print(topic_0_negative_df)\n",
    "print(topic_1_negative_df)\n",
    "print(topic_2_negative_df)\n",
    "\n",
    "topic_0_negative_df.to_csv(\"negative_topic_0.csv\")\n",
    "topic_1_negative_df.to_csv(\"negative_topic_1.csv\")\n",
    "topic_2_negative_df.to_csv(\"negative_topic_2.csv\")"
   ]
  },
  {
   "cell_type": "code",
   "execution_count": 91,
   "id": "317e0c6d",
   "metadata": {},
   "outputs": [],
   "source": [
    "work_dir = \"C:/Users/fabia/OneDrive - Otto-Friedrich-Universität Bamberg/Master/Masterarbeit/Data/Twitter/\""
   ]
  },
  {
   "cell_type": "code",
   "execution_count": 92,
   "id": "919c8f24",
   "metadata": {},
   "outputs": [],
   "source": [
    "negative_topic_0 = pd.read_csv(work_dir + \"negative_topic_0.csv\")\n",
    "negative_topic_1 = pd.read_csv(work_dir + \"negative_topic_1.csv\")\n",
    "negative_topic_2 = pd.read_csv(work_dir + \"negative_topic_2.csv\")"
   ]
  },
  {
   "cell_type": "code",
   "execution_count": 93,
   "id": "39cb7fd6",
   "metadata": {},
   "outputs": [
    {
     "name": "stdout",
     "output_type": "stream",
     "text": [
      "   Unnamed: 0.1  Unnamed: 0                       date            user  \\\n",
      "0             0           0  2022-04-26 08:44:26+00:00  ReinerKurzmann   \n",
      "1             4           4  2022-04-26 08:26:51+00:00          Amie42   \n",
      "2             6           6  2022-04-26 08:24:55+00:00   PTNisWarCrmnl   \n",
      "3             7           7  2022-04-26 08:00:07+00:00   rouTfuAeiropA   \n",
      "4            18          18  2022-04-26 06:22:57+00:00     skippertom3   \n",
      "\n",
      "                                               tweet  \\\n",
      "0  @kkklawitter @EggMarkus @sepp_reitberger Das e...   \n",
      "1  @Mingiam10 @kkklawitter Mein Punkt ist ja der ...   \n",
      "2  @kkklawitter @Mingiam10 @DerGraslutscher Noch ...   \n",
      "3  @kkklawitter Für die Ladeinfrastruktur braucht...   \n",
      "4  @Luisamneubauer Ach ja: Und wenn mir jetzt noc...   \n",
      "\n",
      "                                                 url  \\\n",
      "0  https://twitter.com/ReinerKurzmann/status/1518...   \n",
      "1  https://twitter.com/Amie42/status/151886919943...   \n",
      "2  https://twitter.com/PTNisWarCrmnl/status/15188...   \n",
      "3  https://twitter.com/rouTfuAeiropA/status/15188...   \n",
      "4  https://twitter.com/skippertom3/status/1518838...   \n",
      "\n",
      "                                     tweet_processed  topic  negative  \\\n",
      "0  @kkklawitter @eggmarkus @sepp_reitberger einzi...      1     0.154   \n",
      "1  @mingiam10 @kkklawitter mein punkt ist ja park...      1     0.178   \n",
      "2  @kkklawitter @mingiam10 @dergraslutscher noch ...      1     0.162   \n",
      "3  @kkklawitter ladeinfrastruktur braucht echte l...      1     0.271   \n",
      "4  @luisamneubauer ach ja: wenn mir jetzt noch je...      1     0.126   \n",
      "\n",
      "   neutral  positive  compound sentiment  \n",
      "0    0.846     0.000   -0.8316  Negative  \n",
      "1    0.822     0.000   -0.8316  Negative  \n",
      "2    0.838     0.000   -0.7987  Negative  \n",
      "3    0.660     0.069   -0.7783  Negative  \n",
      "4    0.874     0.000   -0.5994  Negative  \n"
     ]
    }
   ],
   "source": [
    "print(negative_topic_1.head())"
   ]
  },
  {
   "cell_type": "code",
   "execution_count": 94,
   "id": "251cca57",
   "metadata": {},
   "outputs": [
    {
     "name": "stdout",
     "output_type": "stream",
     "text": [
      "-0.6808002840909159\n",
      "-0.6790062341536311\n",
      "-0.6635241830065374\n",
      "-0.5994\n",
      "-0.5994\n",
      "-0.5994\n",
      "0   -0.5994\n",
      "Name: compound, dtype: float64\n",
      "0   -0.5994\n",
      "Name: compound, dtype: float64\n",
      "0   -0.5994\n",
      "Name: compound, dtype: float64\n"
     ]
    }
   ],
   "source": [
    "print(negative_topic_0[\"compound\"].mean())\n",
    "print(negative_topic_1[\"compound\"].mean())\n",
    "print(negative_topic_2[\"compound\"].mean())\n",
    "\n",
    "print(negative_topic_0[\"compound\"].median())\n",
    "print(negative_topic_0[\"compound\"].median())\n",
    "print(negative_topic_0[\"compound\"].median())\n",
    "\n",
    "print(negative_topic_0[\"compound\"].mode())\n",
    "print(negative_topic_0[\"compound\"].mode())\n",
    "print(negative_topic_0[\"compound\"].mode())"
   ]
  },
  {
   "cell_type": "code",
   "execution_count": 95,
   "id": "0557b193",
   "metadata": {},
   "outputs": [
    {
     "name": "stdout",
     "output_type": "stream",
     "text": [
      "      Topic 0 - Compound  Topic 1 - Compound  Topic 2 - Compound\n",
      "0                -0.8316             -0.8316             -0.8316\n",
      "1                -0.8316             -0.8316             -0.5994\n",
      "2                -0.5994             -0.7987             -0.4019\n",
      "3                -0.5994             -0.7783             -0.5994\n",
      "4                -0.7650             -0.5994             -0.5994\n",
      "...                  ...                 ...                 ...\n",
      "4571             -0.8316             -0.5994                 NaN\n",
      "4572             -0.5994             -0.5994                 NaN\n",
      "4573             -0.8316             -0.4019                 NaN\n",
      "4574             -0.8316             -0.8316                 NaN\n",
      "4575             -0.5994             -0.9136                 NaN\n",
      "\n",
      "[4576 rows x 3 columns]\n"
     ]
    }
   ],
   "source": [
    "compound_df = pd.DataFrame() \n",
    "compound_df[\"Topic 0 - Compound\"] = negative_topic_0[\"compound\"]\n",
    "compound_df[\"Topic 1 - Compound\"] = negative_topic_1[\"compound\"]\n",
    "compound_df[\"Topic 2 - Compound\"] = negative_topic_2[\"compound\"]\n",
    "\n",
    "print(compound_df)"
   ]
  },
  {
   "cell_type": "code",
   "execution_count": 13,
   "id": "61ead46a",
   "metadata": {},
   "outputs": [
    {
     "data": {
      "text/plain": [
       "<AxesSubplot:>"
      ]
     },
     "execution_count": 13,
     "metadata": {},
     "output_type": "execute_result"
    },
    {
     "data": {
      "image/png": "[encoded data removed]",
      "text/plain": [
       "<Figure size 432x288 with 1 Axes>"
      ]
     },
     "metadata": {},
     "output_type": "display_data"
    }
   ],
   "source": [
    "sns.boxplot(data=compound_df)"
   ]
  },
  {
   "cell_type": "code",
   "execution_count": 90,
   "id": "6fcc1146",
   "metadata": {},
   "outputs": [],
   "source": [
    "topic_0_with_sentiment = pd.read_csv(work_dir + \"/topic_0-with_sentiment.csv\")\n",
    "topic_1_with_sentiment = pd.read_csv(work_dir + \"/topic_1-with_sentiment.csv\")\n",
    "topic_2_with_sentiment = pd.read_csv(work_dir + \"/topic_2-with_sentiment.csv\")"
   ]
  },
  {
   "cell_type": "code",
   "execution_count": 91,
   "id": "61c3cb98",
   "metadata": {},
   "outputs": [
    {
     "name": "stdout",
     "output_type": "stream",
     "text": [
      "      Topic 0 - Compound  Topic 1 - Compound  Topic 2 - Compound\n",
      "0                 0.0000             -0.8316              0.0000\n",
      "1                 0.0000              0.0000              0.0000\n",
      "2                -0.8316             -0.8316              0.0000\n",
      "3                -0.8316             -0.7987              0.0000\n",
      "4                 0.4588             -0.7783             -0.8316\n",
      "...                  ...                 ...                 ...\n",
      "9548              0.0000              0.0000                 NaN\n",
      "9549              0.0000              0.2263                 NaN\n",
      "9550             -0.8316              0.0000                 NaN\n",
      "9551              0.0000              0.0000                 NaN\n",
      "9552             -0.5994             -0.5994                 NaN\n",
      "\n",
      "[9553 rows x 3 columns]\n"
     ]
    }
   ],
   "source": [
    "compound_df = pd.DataFrame() \n",
    "compound_df[\"Topic 0 - Compound\"] = topic_0_with_sentiment[\"compound\"]\n",
    "compound_df[\"Topic 1 - Compound\"] = topic_1_with_sentiment[\"compound\"]\n",
    "compound_df[\"Topic 2 - Compound\"] = topic_2_with_sentiment[\"compound\"]\n",
    "\n",
    "print(compound_df)"
   ]
  },
  {
   "cell_type": "code",
   "execution_count": 92,
   "id": "667f7ec2",
   "metadata": {},
   "outputs": [
    {
     "data": {
      "text/plain": [
       "<AxesSubplot:>"
      ]
     },
     "execution_count": 92,
     "metadata": {},
     "output_type": "execute_result"
    },
    {
     "data": {
      "image/png": "[encoded data removed]",
      "text/plain": [
       "<Figure size 432x288 with 1 Axes>"
      ]
     },
     "metadata": {},
     "output_type": "display_data"
    }
   ],
   "source": [
    "sns.boxplot(data=compound_df)"
   ]
  },
  {
   "cell_type": "code",
   "execution_count": 13,
   "id": "c087dbe2",
   "metadata": {},
   "outputs": [
    {
     "name": "stdout",
     "output_type": "stream",
     "text": [
      "(9553, 13)\n"
     ]
    },
    {
     "data": {
      "text/plain": [
       "<AxesSubplot:xlabel='date', ylabel='compound'>"
      ]
     },
     "execution_count": 13,
     "metadata": {},
     "output_type": "execute_result"
    },
    {
     "name": "stdout",
     "output_type": "stream",
     "text": [
      "Error in callback <function flush_figures at 0x00000207D3906A60> (for post_execute):\n"
     ]
    },
    {
     "name": "stderr",
     "output_type": "stream",
     "text": [
      "\n",
      "KeyboardInterrupt\n",
      "\n"
     ]
    }
   ],
   "source": [
    "#topic_0_df = topic_0_df[(topic_0_df['date'] > \"2020-07-08\")]\n",
    "print(topic_0_with_sentiment.shape)\n",
    "#topic_0_df['date'] = pd.to_datetime(topic_0_df['date'])\n",
    "\n",
    "#sns.lineplot(data=topic_0_with_sentiment, x=\"date\", y=\"compound\")"
   ]
  },
  {
   "cell_type": "code",
   "execution_count": 93,
   "id": "2096670e",
   "metadata": {},
   "outputs": [
    {
     "name": "stdout",
     "output_type": "stream",
     "text": [
      "(9553, 13)\n",
      "(11986, 13)\n",
      "(2174, 13)\n"
     ]
    }
   ],
   "source": [
    "print(topic_0_with_sentiment.shape)\n",
    "print(topic_1_with_sentiment.shape)\n",
    "print(topic_2_with_sentiment.shape)"
   ]
  },
  {
   "cell_type": "code",
   "execution_count": 94,
   "id": "1a33e1ba",
   "metadata": {},
   "outputs": [
    {
     "name": "stdout",
     "output_type": "stream",
     "text": [
      "   Unnamed: 0.1  Unnamed: 0                       date             user  \\\n",
      "0             5           5  2022-04-26 08:26:31+00:00  verkehrswendeb2   \n",
      "1            14          14  2022-04-26 07:08:25+00:00   abbdeutschland   \n",
      "2            15          15  2022-04-26 07:00:01+00:00      energie_rlp   \n",
      "3            16          16  2022-04-26 06:48:23+00:00     ReegerLothar   \n",
      "4            19          19  2022-04-26 06:22:01+00:00       manuel01St   \n",
      "\n",
      "                                               tweet  \\\n",
      "0  @kkklawitter @grnFlip @DerGraslutscher @Baeuml...   \n",
      "1  Nächster Halt: #Berlin. Besuchen Sie uns dort ...   \n",
      "2  🚗🔌🔋 Wie hat sich die #Ladeinfrastruktur in #RL...   \n",
      "3  Mit dieser Batterie hat er eine technischen Vo...   \n",
      "4  Beispiel für clever installierte Ladeinfrastru...   \n",
      "\n",
      "                                                 url  \\\n",
      "0  https://twitter.com/verkehrswendeb2/status/151...   \n",
      "1  https://twitter.com/abbdeutschland/status/1518...   \n",
      "2  https://twitter.com/energie_rlp/status/1518847...   \n",
      "3  https://twitter.com/ReegerLothar/status/151884...   \n",
      "4  https://twitter.com/manuel01St/status/15188377...   \n",
      "\n",
      "                                     tweet_processed  topic  negative  \\\n",
      "0  @kkklawitter @grnflip @dergraslutscher @baeuml...      0     0.000   \n",
      "1  nächster halt: #berlin. besuchen sie uns dort ...      0     0.000   \n",
      "2  🚗🔌🔋 wie hat sich #ladeinfrastruktur #rlp entwi...      0     0.182   \n",
      "3  mit dieser batterie hat er eine technischen vo...      0     0.182   \n",
      "4  beispiel clever installierte ladeinfrastruktur...      0     0.000   \n",
      "\n",
      "   neutral  positive  compound sentiment  \n",
      "0    1.000     0.000    0.0000   Neutral  \n",
      "1    1.000     0.000    0.0000   Neutral  \n",
      "2    0.818     0.000   -0.8316  Negative  \n",
      "3    0.818     0.000   -0.8316  Negative  \n",
      "4    0.727     0.273    0.4588  Positive  \n"
     ]
    }
   ],
   "source": [
    "print(topic_0_with_sentiment.head())"
   ]
  },
  {
   "cell_type": "code",
   "execution_count": 95,
   "id": "67db85bf",
   "metadata": {},
   "outputs": [],
   "source": [
    "def get_hashtags(dataframe):\n",
    "    tweet = dataframe['tweet']\n",
    "    hashtag = [i[1:] for i in tweet.split() if i.startswith(\"#\")]\n",
    "    hashtags.append(hashtag)\n",
    "    \n",
    "hashtags = []\n",
    "topic_0_with_sentiment.apply(lambda x: get_hashtags(x), axis=1)\n",
    "topic_0_hashtags = hashtags\n",
    "\n",
    "hashtags = []\n",
    "topic_1_with_sentiment.apply(lambda x: get_hashtags(x), axis=1)\n",
    "topic_1_hashtags = hashtags\n",
    "\n",
    "hashtags = []\n",
    "topic_2_with_sentiment.apply(lambda x: get_hashtags(x), axis=1)\n",
    "topic_2_hashtags = hashtags"
   ]
  },
  {
   "cell_type": "code",
   "execution_count": 96,
   "id": "144861be",
   "metadata": {},
   "outputs": [
    {
     "name": "stdout",
     "output_type": "stream",
     "text": [
      "15490\n",
      "6108\n",
      "3046\n"
     ]
    }
   ],
   "source": [
    "hashtags_0_flat = [item for sublist in topic_0_hashtags for item in sublist]\n",
    "print(len(hashtags_0_flat))\n",
    "\n",
    "hashtags_1_flat = [item for sublist in topic_1_hashtags for item in sublist]\n",
    "print(len(hashtags_1_flat))\n",
    "\n",
    "hashtags_2_flat = [item for sublist in topic_2_hashtags for item in sublist]\n",
    "print(len(hashtags_2_flat))"
   ]
  },
  {
   "cell_type": "code",
   "execution_count": 97,
   "id": "56e8ac19",
   "metadata": {},
   "outputs": [],
   "source": [
    "hashtag_0_occurences = {i:hashtags_0_flat.count(i) for i in hashtags_0_flat}\n",
    "hashtag_1_occurences = {i:hashtags_1_flat.count(i) for i in hashtags_1_flat}\n",
    "hashtag_2_occurences = {i:hashtags_2_flat.count(i) for i in hashtags_2_flat}"
   ]
  },
  {
   "cell_type": "code",
   "execution_count": 98,
   "id": "e53a2087",
   "metadata": {},
   "outputs": [],
   "source": [
    "hashtag_0_df = pd.DataFrame(list(hashtag_0_occurences.items()), columns = ['Hashtag','Count'])\n",
    "hashtag_1_df = pd.DataFrame(list(hashtag_1_occurences.items()), columns = ['Hashtag','Count'])\n",
    "hashtag_2_df = pd.DataFrame(list(hashtag_2_occurences.items()), columns = ['Hashtag','Count'])"
   ]
  },
  {
   "cell_type": "code",
   "execution_count": 99,
   "id": "0349bea5",
   "metadata": {},
   "outputs": [],
   "source": [
    "sorted_0__df = hashtag_0_df.sort_values(by=['Count'], ascending=False)\n",
    "sorted_1__df = hashtag_1_df.sort_values(by=['Count'], ascending=False)\n",
    "sorted_2__df = hashtag_2_df.sort_values(by=['Count'], ascending=False)\n",
    "\n",
    "sorted_0__df.to_csv(\"topic_0-hashtag_occurence.csv\", index = False)\n",
    "sorted_1__df.to_csv(\"topic_1-hashtag_occurence.csv\", index = False)\n",
    "sorted_2__df.to_csv(\"topic_2-hashtag_occurence.csv\", index = False)"
   ]
  },
  {
   "cell_type": "code",
   "execution_count": 105,
   "id": "0bef49f7",
   "metadata": {},
   "outputs": [],
   "source": [
    "def get_mentions(dataframe):\n",
    "    tweet = dataframe['tweet']\n",
    "    mention = [i[1:] for i in tweet.split() if i.startswith(\"@\")]\n",
    "    mentions.append(mention)\n",
    "\n",
    "mentions = []\n",
    "topic_0_with_sentiment.apply(lambda x: get_mentions(x), axis=1)\n",
    "topic_0_mentions = mentions\n",
    "mentions = []\n",
    "topic_1_with_sentiment.apply(lambda x: get_mentions(x), axis=1)\n",
    "topic_1_mentions = mentions\n",
    "mentions = []\n",
    "topic_2_with_sentiment.apply(lambda x: get_mentions(x), axis=1)\n",
    "topic_2_mentions = mentions"
   ]
  },
  {
   "cell_type": "code",
   "execution_count": 106,
   "id": "f797699c",
   "metadata": {},
   "outputs": [],
   "source": [
    "mentions_0_flat = [item for sublist in topic_0_mentions for item in sublist]\n",
    "mentions_1_flat = [item for sublist in topic_1_mentions for item in sublist]\n",
    "mentions_2_flat = [item for sublist in topic_2_mentions for item in sublist]"
   ]
  },
  {
   "cell_type": "code",
   "execution_count": 108,
   "id": "8ec63946",
   "metadata": {},
   "outputs": [
    {
     "name": "stdout",
     "output_type": "stream",
     "text": [
      "['kkklawitter', 'EggMarkus', 'sepp_reitberger', 'chris_pyak', 'JRehborn', 'HerrPhteven', 'Mingiam10', 'kkklawitter', 'kkklawitter', 'Mingiam10', 'DerGraslutscher', 'kkklawitter', 'DerDienstreiser', 'die20er_innen', 'kkklawitter', 'verkehrswendeb2', 'kkklawitter', 'Raini68', 'kkklawitter', 'DerGraslutscher', 'kkklawitter', 'derneunte', 'kkklawitter', 'Luisamneubauer', 'mikenolte_de', 'kkklawitter', 'kkklawitter', 'Doktorino82', 'joschtl', 'kkklawitter', 'kkklawitter', 'joanadiskurs', 'Mitzi62042431', 'krauthofen', 'UliMolter', 'atlanticandme', 'kkklawitter', 'haiikun', 'DavidCh56889323', 'Kricke1905', 'DavidCh56889323', 'Kricke1905', 'TeslaClubAT', 'OEAMTC', 'KralMarcella', 'bmarwell', 'Schupunkt', 'kkklawitter', 'bmwk', 'nikitheblogger', 'ropietsch', 'YEAccount1', 'radiermann', 'djsmokey_z', 'Sternen__Himmel', 'Essen_Ruhr', 'DerDienstreiser', 'die20er_innen', 'kkklawitter', 'KI_in_med', 'joschtl', 'kkklawitter', 'qualityofdeath', 'kkklawitter', 'LyllithB', 'kkklawitter', 'MoritzSchwaa', 'mackel_eu', 'kkklawitter', 'zrh_airport', 'EnBW', 'VWGroup', 'swisscharge_ch', 'UliMolter', 'kkklawitter', 'PTNisWarCrmnl', 'kkklawitter', 'EinRobert1', 'LarsFrohmueller', 'Ottostadt', 'cixio', 'kkklawitter', 'helgethomas', 'verkehrswendeb2', 'verkehrswendeb2', 'kkklawitter', 'UliMolter', 'kkklawitter', 'PTNisWarCrmnl', 'optimis98160023', 'kkklawitter', 'kkklawitter', 'verkehrswendeb2', 'Bottlekeeper', 'ichdochnoch', 'WikiRogi', 'die20er_innen', 'kkklawitter', 'rudifussi', 'IngoHeinscher', '140bpm', 'sixtus', 'die20er_innen', 'kkklawitter', 'rudifussi', 'rudifussi', 'IngoHeinscher', 'LudkeThomas', 'sixtus', 'geekodernerd', 'IngoHeinscher', 'sixtus', 'IngoHeinscher', 'LudkeThomas', 'sixtus', 'tileja', 'kkklawitter', 'sixtus', 'BHNNKMP', 'designmobility', 'sixtus', 'geekodernerd', '0xdeef', 'kkklawitter', 'pvmagazine_de', 'Phantasialand', 'kkklawitter', 'bikezebub', 'designmobility', 'BHNNKMP', 'designmobility', 'BHNNKMP', 'designmobility', 'kkklawitter', 'Perowinger94', 'sixtus', 'kkklawitter', 'IngoHeinscher', 'sixtus', 'HalleVerkehrt', 'kkklawitter', 'ropietsch', 'radiermann', 'kkklawitter', 'sixtus', 'kkklawitter', 'sixtus', 'tomueko', 'DrJab97', 'ropietsch', 'radiermann', 'kkklawitter', 'BAfMW', 'DieNussecke', 'miamormormia', 'Tjalf17', 'DieNussecke', 'miamormormia', 'Tjalf17', 'LeseDas', 'radiermann', 'radiermann', 'rollendermeter', 'radiermann', 'UliMolter', 'radiermann', 'erpunktbepunkt', 'radiermann', 'ChristophHorst3', 'v_goller', 'kkklawitter', 'elonmusk', 'Juergen_Kaiser', 'v_goller', 'kkklawitter', 'elonmusk', 'elnida_3', 'NIOSwitzerland', 'radiermann', 'PeelonSus', 'radiermann', 'k3vk4', 'makeratschool', 'unixb0y', 'psycon', 'Karl_Lauterbach', 'MarcoBuschmann', 'detlef_hoepfner', 'radiermann', 'radiermann', 'Krustinaut', 'EnBW', 'ju_ysb', 'Polizei_NH', 'schenklklopfer', 'reckter', 'Florientes75', 'Elitiker', 'shelly_pond', 'HeiKolbe', 't_rpunk', 'VQuaschning', 'eloopcarsharing', 'HannoKlausmeier', 'patrickhanft', 'v_goller', 'kkklawitter', 'bolli3097', 'DokuUnserPlanet', 'gomore', 'ShareNow_global', 'Der_Kolja_', 'HerrRain', 'DOeliger', 'Der_Kolja_', 'HerrRain', 'DOeliger', 'SSL_SM', 'DOeliger', 'c_lindner', 'Der_Kolja_', 'DOeliger', 'c_lindner', 'bolli3097', 'gomore', 'HeinzSchutze', 'realTomBohn', 'autotestsonline', 'happel', '_i_am_random', 'HubertAiwanger', 'RBraunmueller', 'HubertAiwanger', 'herrkrise', 'DOeliger', 'c_lindner', 'Kizito5', 'GoogleNews', 'GrowthMs', 'vongberg', 'stang2k', 'MaxFichtner', 'twittlik', 'UweRGGaertner', 'GoogleNews', 'Schafkopfpokal2', 'jmbeuter', 'kkklawitter', 'ulid000', 'SteveFi04457564', 'Luwinenseeger', 'rechawarburg', 'mopo', 'qualityofdeath', 'HIThomasFranke', 'Saki_Umwelt', 'Fatalys', 'Fichtenelch85', 'Saki_Umwelt', 'TZ167', 'Saki_Umwelt', 'TenebrisObortis', 'gemuesesuppe78', 'IngoHeinscher', 'gemuesesuppe78', 'IngoHeinscher', 'gemuesesuppe78', '19Flipper92', 'scarlettdream42', 'Flo_Rian', 'Saki_Umwelt', 'IngoHeinscher', 'gemuesesuppe78', 'IngoHeinscher', 'BubbleJoel', 'gemuesesuppe78', 'BubbleJoel', 'Sam10200416', 'ElektroautoMeme', 'Quizles2', 'haebae', 'fl0h0ff', 'stang2k', 'scr00ge1', 'martinruff1', 'micha_bloss', 'GiantAtomic', 'frank_thelen', 'VQuaschning', 'AlexKo80L', 'VQuaschning', 'martinruff1', 'micha_bloss', 'abendblatt', 'th_g', 'Sommerfrau20', 'Saki_Umwelt', 'stadtkindd', 'Sommerfrau20', 'Saki_Umwelt', 'Saki_Umwelt', 'klimareport', 'VQuaschning', 'cQuaschning', 'Markus306', 'ladefuchs', 'kaystrobach', 'SimSullen', 'CleanElectrCast', 'Plugsurfing', 'ADAC', 'Sommerfrau20', 'Saki_Umwelt', 'Fichtenelch85', 'Saki_Umwelt', 'Chargemap', 'chrischle', 'ChrisTechloupe', 'VQuaschning', 'Schupunkt', 'MrsMarryPoppins', 'chrischle', 'GillyBerlin', 'VQuaschning', 'morgenpost', 'VQuaschning', 'KaiRuhsert', 'EE_Fakten', 'VQuaschning', 'morgenpost', 'MartinSoechting', 'Naturschuetzen', 'mahrko', 'M_Hundhausen', 'HerrPfarrerin', 'rolanddor', 'rolanddor', 'micha_bloss', 'micha_bloss', 'VQuaschning', 'FabianLaasch', 'C_Engeline', 'eozwei', 'Hamburg397', 'ppget59', 'chri_gru', 'WKOe', 'AukeHoekstra', 'HJFell', 'GlobalistYT', 'M_Hundhausen', 'VQuaschning', 'mcpomhh', 'Cheeky38466727', 'kkklawitter', 'hochbahn', '_Hemmschuh', 'niklas_net', 'rbb24', 'Artikel1bis20', 'Con_Statin', 'OliverHeim', 'fluglehrer', 'ElektrixerBln', 'OliverHeim', 'CMDRArchadder', 'CMDRArchadder', 'CMDRArchadder', 'rbb24', 'AsatothAbaddon', 'DerGraslutscher', 'kkklawitter', 'widar01', 'PTNisWarCrmnl', 'hochbahn', 'VDV_Verband:', 'rbb24', 'Norddeutscher83', 'ERNSTchen', 'AKundendienst', 'HerrPhteven', 'EikePan', 'Birkolo', 'Johannes0105', 'dr_boese', 'Vornerbauer', 'OliverHeim', 'bolli3097', 'dr_boese', 'HerrPhteven', 'SvenHolgerWolf1', 'JcmL11300833', 'abgaserzeuger', 'OliDerBolli', 'philippduerr', 'OliverHeim', 'gruene_berlin', 'gofast_swiss', 'NativeYodel', 'derspiegel', 'HIThomasFranke', 'timohetzel', 'LTE_Max', 'watch_union', 'polenz_r', 'stephanpalagan', 'PatrickKayser', 'OliverHeim', 'musicandscifi', 'OliDerBolli', 'KzH53137596', 'OliverHeim', 'ChrisStoecker', 'JVos63', 'kkklawitter', 'arztvongniere', 'AudiOfficial', 'EnBW?', 'weltenbaeume', 'BuengerMichael', 'OliverHeim', 'Johannes0105', 'bitboy0', 'OliverHeim', 'ardenthistorian', 'OliverHeim', 'Schafkopfpokal2', 'MPW6bst6r', 'OliverHeim', 'OliverHeim', 'bwegtBW', 'FabianLaasch', 'MineCooky', 'Tesla', 'Flo_Rian', 'AntiLobbyismus_', 'MPW6bst6r', 'OliverHeim', 'HaraldGrunsky', 'OliverHeim', 'Schlau_Wiener', 'OliverHeim', 'EnBW', 'HerrPhteven', 'Josefmueller52', 'realAlexBlank', 'HerrPhteven', 'EWE_AG', 'PaySepp', 'ReichelJonas', 'HerrPhteven', 'HerrPhteven', 'Machdoch2', 'mpalkowitsch', 'OliverHeim', 'derspiegel', 'Michael56986218', 'ReichelJonas', 'HerrPhteven', 'cincimini', 'Schlau_Wiener', 'OliverHeim', 'eike_reinel', 'Lasse31199319', 'OliverHeim', 'SimoneFasse', 'Sir_TravelALot', 'Stadt_OF', 'toberg2', 'vollnixbeidir', 'gutmenschen_inc', 'LouisaNapolina', 'HerrPhteven', 'Josefmueller52', 'realAlexBlank', 'HerrPhteven', 'Chemguy2_0', 'OliverHeim', 'kkklawitter', 'Berndte3', 'exakom1', 'alf_frommer', 'joblo2297', 'kkklawitter', 'voltampere1', 'kkklawitter', 'we_drive_at', 'golf_sierra', 'HerrPhteven', 'Weit_im_Westen', 'Crosshead16', 'sschyvonne', 'alf_frommer', 'Hoellenaufsicht', 'Michael56986218', 'kramkr', 'patrickmatusz', 'EsistMonka', 'gurkentruppler', 'ReichelJonas', 'HerrPhteven', 'HerrPhteven', '_Juve_Tesla', 'alf_frommer', 'JesseVentura86', 'ReichelJonas', 'HerrPhteven', 'wdwarncke', 'BMDV_bund', 'Stadt_BS', 'LeonidLezner', 'HerrPhteven', 'voltampere1', 'kkklawitter', 'Eskimoki1', 'Frollein_Cortex', 'HerrPhteven', 'd_kinimo', 'jungpionier_', 'wdwarncke', 'HerrPhteven', 'HerrPhteven', 'HerrPhteven', 'HerrPhteven', 'Chemguy2_0', 'HerrPhteven', 'HerrPhteven', 'Mayer0077', 'BMWK', 'HerrPhteven', 'HerrPhteven', 'realAlexBlank', 'HerrPhteven', 'J0RAKU', 'fraupfoetchen', 'HerrPhteven', 'Michael56986218', 'ReichelJonas', 'HerrPhteven', 'HerrPhteven', 'jungpionier_', 'Da_Draussen', 'wdwarncke', 'Matthau63', 'HerrPhteven', 'alf_frommer', 'LouisaNapolina', 'HerrPhteven', 'MartenKleihauer', 'DavidDuhme', 'HerrPhteven', 'luebbermann', 'kkklawitter', 'EsistMonka', 'Michael56986218', 'ReichelJonas', 'HerrPhteven', 'HerrPhteven', 'RealDonDenito', 'HerrPhteven', 'EikePan', 'FabianLaasch', 'HerrPhteven', 'HerrPhteven', 'Lachrizze2', 'darkseith', 'alf_frommer', 'HerrPhteven', 'schorsch3000', 'ReichelJonas', 'HerrPhteven', 'HerrPhteven', 'HerrPhteven', 'HerrPhteven', 'OomenBerlin', 'Frollein_Cortex', 'HerrPhteven', 'HerrPhteven', 'HerrPhteven', 'kkklawitter', 'kkklawitter', 'Michael56986218', 'ReichelJonas', 'HerrPhteven', 'SheDrivesMobility@norden.social', 'HerrPhteven', 'HerrPhteven', 'Michael56986218', 'ReichelJonas', 'HerrPhteven', 'Michael56986218', 'ReichelJonas', 'HerrPhteven', 'FRRI63', 'bsschnuppe', 'TheRealMibra', 'HerrPhteven', 'TriPapSti', 'HerrPhteven', 'Frollein_Cortex', 'HerrPhteven', 'HerrPhteven', 'fantasyautor', 'JudithCVogt', 'Konrad_Roesgen', 'HerrPhteven', 'HerrPhteven', 'cldbusch', 'WeyellA', 'JMihram', 'MarchandYannik', 'Ruggy08', 'JMihram', 'HerrPhteven', 'davidbest95', 'TomKallweit', 'WeyellA', 'JMihram', 'MarchandYannik', 'C_hionius', 'HerrPhteven', 'cldbusch', 'WeyellA', 'JMihram', 'MarchandYannik', 'TomKallweit', 'WeyellA', 'JMihram', 'MarchandYannik', 'HerrPhteven', 'HerrPhteven', 'HerrPhteven', 'RafikiTlk', 'HerrPhteven', 'schienentiger', 'beelitzplustz', 'HerrPhteven', 'rlieser', 'kkklawitter', 'FabianLaasch', 'Frollein_Cortex', 'HerrPhteven', 'HerrPhteven', 'Frollein_Cortex', 'HerrPhteven', 'HerrPhteven', 'Uploadfilter19', 'QuizzlesWelt', 'Berndte3', 'alf_frommer', 'kafqa_t', 'preusslee', 'Retep_90', 'LeSchroeck', 'unabhaengigkite', 'alf_frommer', 'HerrPhteven', 'Wirspielen1', 'kkklawitter', 'simonimous', 'VDA_online', 'mueller_sepp', 'kkklawitter', 'simonimous', 'kkklawitter', 'VDA_online', 'MorkvomMarc', 'SubNat69', 'BerndHuber18', 'kkklawitter', 'le_janus', 'DavidDuhme', 'simonimous', 'VDA_online', 'sibekar', 'Phillip4Live', 'LeSchroeck', 'geitling', 'VQuaschning', 'fdp', 'BMWK', 'Die_Gruenen', 'simonimous', 'kkklawitter', 'VDA_online', 'kkklawitter', 'simonimous', 'VDA_online', 'MTN73671601', 'LeSchroeck', 'simonimous', 'VDA_online', 'simonimous', 'VDA_online', 'kkklawitter', '_HeadCrash', 'kkklawitter', 'kkklawitter', 'MTN73671601', 'illmenite', 'realMasamune', 'LeSchroeck', 'kkklawitter', 'kkklawitter', 'Chris_Rux', 'CITROEN_DE', 'SubNat69', 'BerndHuber18', 'kkklawitter', 'LeSchroeck', 'illmenite', 'RandyRaudi', 'Lingen2L', 'ElmarBillen', 'kkklawitter', 'simonimous', 'VDA_online', 'simonimous', 'VDA_online', 'LeSchroeck', 'simonimous', 'VDA_online', 'simonimous', 'VDA_online', 'thoolb1', 'fewizi', 'c_lindner', 'simonimous', 'VDA_online', 'FuerthParken', 'LaaaschM', 'simonimous', 'VDA_online', 'simonimous', 'VDA_online', 'Wirspielen1', 'kkklawitter', 'abendblatt', 'Wirspielen1', 'kkklawitter', 'kkklawitter', 'justthore', 'schmettowa', 'justthore', 'VDA_online', 'kkklawitter', 'frankfeil', 'simonimous', 'kkklawitter', 'VDA_online', 'home', 'work', 'simonimous', 'kkklawitter', 'VDA_online', 'kkklawitter', 'simonimous', 'VDA_online', 'kkklawitter', 'simonimous', 'VDA_online', 'simonimous', 'VDA_online', 'simonimous', 'kkklawitter', 'VDA_online', 'kkklawitter', 'simonimous', 'VDA_online', 'golem', 'simonimous', 'VDA_online', 'simonimous', 'VDA_online', 'lovelyropes', 'nextmove_de', 'reuther_bernd', 'tagesschau', 'kkklawitter', 'gehwissenlos', 'simonimous', 'kkklawitter', 'VDA_online', 'kungler', 'thetomandonly', 'simonimous', 'VDA_online', 'kkklawitter', 'kkklawitter', 'simonimous', 'VDA_online', 'swisscleandrive', 'buffin11', 'janusPrime', 'janusPrime', 'TilmanWinkler', 'SwissTeslaphile', 'simonimous', 'VDA_online', 'DavidDuhme', 'Mayer0077', 'BMWK', 'HeinerMe', 'VQuaschning', 'fdp', 'BMWK', 'Die_Gruenen', 'JaLub8', 'mastafotygo', 'haraldfluegel', 'BaBerlinTK', 'Vattenfall_De', 'sax_dominik', 'VQuaschning', 'fdp', 'BMWK', 'Die_Gruenen', 'DavidDuhme', 'VQuaschning', 'fdp', 'BMWK', 'Die_Gruenen', 'KompostToni', 'DavidDuhme', 'FranziskaGiffey', 'kkklawitter', 'wwwsurfer123', 'NIODeutschland', 'europeanobserv3', 'StephanWach', 'M_Hundhausen', 'Moritz_77', 'ralfbuescher', 'TiloJung', 'VQuaschning', 'fdp', 'BMWK', 'Die_Gruenen', 'HolzheuStefan', 'JuiceTechnology', 'johannes_rauch', 'BMWK', 'Halbkorn', 'FoooooookMeMate', 'djxhbncfz4', 'begenrogenschaf', 'LibKonMoritz', 'ElektroautoMeme', 'chris_schorbach', 'licht_im_hirn', 'LibKonMoritz', 'FLampenacker', 'rbbabendschau', 'Hauptgarnix', 'Lukas74383523', 'janboehm', 'allesevolution', 'BHXX57', 'EnBW,', 'alpitronic', 'Elektro_Robin', 'gruenergerd', 'MiKellner', 'Paskir', 'FehringerMartin', 'rbbabendschau', 'weingartenm', 'FabianLaasch', 'ZDFheute', 'gruenergerd', 'MiKellner', 'DJanecek', 'CMDRArchadder', 'DnnsEV', 'PSwayzeman', 'VQuaschning', 'TschenPe,', 'FehringerMartin', 'SrUnbequem', 'Chrissip81', 'anwaltsgelaber', 'CptKrustenkaese', 'DavidDuhme', 'beelitzplustz', 'flueke', 'CarstenGross', 'kkklawitter', 'Speedybo', 'nicnowak', 'kkklawitter', 'Speedybo', 'DavidDuhme', 'CGdoppelpunkt', 'xDreamCoding', 'Brandgut', 'CWRoehl', 'rbb24', 'PolizeiMuenchen', 'markusdd5', 'Fabian858527438', 'kungler', 'Netspade', 'razerrath', 'walcoandre3', 'PeugeotDE', 'MIT', 'HolgerSmmer1', 'nextmove_de', 'Tesla', 'derspiegel', 'MineCooky', 'VoltaCharging', 'Netspade', 'razerrath', 'Nord_Mann', 'ryhminsimon', 'UweRGGaertner', 'Mrivan4you', 'DerNicoA', 'MIT', 'TheICCT', 'dachstuber', 'BD06064957', 'ringo_stab', 'DsmMapi', 'dadah_83', 'Omega7342', 'DerNicoA', 'derspiegel', 'derspiegel', 'derspiegel', 'Nolsken', 'SWLeipzig', 'derfachwirt', 'DsmMapi', 'BD06064957', 'dadah_83', 'ringo_stab', 'Omega7342', 'DerNicoA', 'noname38942', 'Christoph_Br1', 'Leon_Bergmann', 'gerechtGericht', 'HarmonyBay', 'anwaltsgelaber', 'TostanM', 'NiklasRose3', 'MaximalesD', 'goardon_', 'EnBW', 'dr2okevin', 'nextmove_de', 'Tesla', 'HiEVI', 'Polizei_HI', 'EinAugenschmaus', 'Berliner_Fw', 'sie_vom_land', 'sie_vom_land', 'wookie_dentist_', 'sie_vom_land', 'Nicola_Siegrist', 's_sommaruga', 'WahlheimatRuhr', 'MKreutzfeldt', 'M_Hundhausen', 'DerDienstreiser', 'Holkre', 'FabianLaasch', 'DerDienstreiser', 'Holkre', 'FabianLaasch', 'DerDienstreiser', 'Holkre', 'FabianLaasch', 'MeierGerry', 'StefWerner', 'Juerg_Grossen', 'Swiss_eMobility', 'FabianLaasch', 'Holkre', 'DerOetzmann', 'FabianLaasch', 'FabianLaasch', 'FabianLaasch', 'kkklawitter', 'SoerenLorensen', 'FabianLaasch', 'kaystrobach', 'TomFragt', 'DerDienstreiser', 'FabianLaasch', 'Holkre', 'TomFragt', 'FabianLaasch', 'shiwago160', 'FabianLaasch', 'Roland_84_E', 'FabianLaasch', 'GeorgKonjovic', 'FabianLaasch', 'grizzlys_wob', 'IONITY_EU', 'vwsachsen_de', 'FabianLaasch', 'Holkre', 'M_Hundhausen', 'GeorgKonjovic', 'FabianLaasch', 'FabianLaasch', 'FabianLaasch', 'Roland_84_E', '_stk', 'FabianLaasch', 'FabianLaasch', 'bolli3097', 'FabianLaasch', 'FabianLaasch', 'doppelgrau', '_stk', 'MadSpatz', 'Die__Engel', 'MOW_Ulm', 'SWUStadtwerke', 'davepermen', 'FabianLaasch', 'klein0r', 'jcfrick', 'LynnMea18960950', 'Storch_i', 'FAZ_NET', 'FAZ_Wirtschaft', 'Schienenallianz', 'DirkFlege', 'DB_Cargo', 'VCDeV', 'CCitiesOrg', 'bund_net', 'zukunftmobil', 'DB_Bahn', 'bummelbahner', 'FabianLaasch', 'EnFreKo', 'technikblog_ch', 'vwschweiz', 'AMAG_Media', 'cariad_tech', 'planwerk', 'MineCooky', 'Tesla', 'AsatothAbaddon', 'thepumpapp', 'Apple', 'razerrath', 'GiantAtomic', 'berndulrich', 'TheICCT', 'razerrath', 'GiantAtomic', 'berndulrich', 'TheICCT', 'M_Hundhausen', 'RobinSogalla', 'CKemfert', 'der_simon', 'rsusr003', 'lange_tobias_hh', 'DanielaKluckert', 'rahmstorf', 'umrath', 'blattella', 'ERAKUU', 'araldeutschland', 'ewz_energie', 'obstkuchen88', 'Schneeanemone', 'obstkuchen88', 'UdoSchiefner', 'BMDV_bund', 'DVR_info', 'AntjeKhler7', 'SiriaBlack_II', 'berndulrich', 'Elke__Kuhn', 'SchaferCorinna', 'janusPrime', 'OliDerBolli', 'WernerderChamp', 'giulio_mattioli', 'tonyseba', 'MetropolSolarRN', 'Inmaka1', 'die_christine', 'dl1eam', 'UdoSchiefner', 'SiriaBlack_II', 'berndulrich', 'sakraem', 'RubeltLh', 'HerrKim1', 'Frei_Fink', 'Elektro_Robin', 'SWM_Muenchen', 'kkklawitter', 'Storch_i', 'berlinerzeitung', 'Elektro_Robin', 'Bettina_Jarasch', 'SenUMVKBerlin', 'VCDeV', 'grafwer', 'MonikaHerrmann1', 'StefanGelbhaar', 'kkklawitter', 'Storch_i', 'berlinerzeitung', 'Elektro_Robin', 'Bettina_Jarasch', 'SenUMVKBerlin', 'VCDeV', 'grafwer', 'MonikaHerrmann1', 'StefanGelbhaar', 'HIThomasFranke', 'nik_metz', 'Lingen2L', 'VaterUbu', 'rahmstorf', 'HIThomasFranke', 'MonikaHerrmann1', 'DennisBode11', 'DanielSturm14', 'Storch_i', 'berlinerzeitung', 'Elektro_Robin', 'Bettina_Jarasch', 'SenUMVKBerlin', 'VCDeV', 'grafwer', 'MonikaHerrmann1', 'StefanGelbhaar', 'DanielSturm14', 'DennisBode11', 'Storch_i', 'berlinerzeitung', 'Elektro_Robin', 'Bettina_Jarasch', 'SenUMVKBerlin', 'VCDeV', 'grafwer', 'MonikaHerrmann1', 'StefanGelbhaar', 'K_Plattform_f_R', 'fotomenschen', 'Storch_i', 'berlinerzeitung', 'Elektro_Robin', 'Bettina_Jarasch', 'SenUMVKBerlin', 'VCDeV', 'grafwer', 'MonikaHerrmann1', 'StefanGelbhaar', 'DennisBode11', 'Storch_i', 'berlinerzeitung', 'Elektro_Robin', 'Bettina_Jarasch', 'SenUMVKBerlin', 'VCDeV', 'grafwer', 'MonikaHerrmann1', 'StefanGelbhaar', 'sepp_reitberger', 'leumund', 'AndreasMemmer', 'technikblog_ch', 'janusPrime', 'thestanceman1', 'OliDerBolli', 'WernerderChamp', 'giulio_mattioli', 'AndreasMemmer', 'technikblog_ch', 'sepp_reitberger', 'StadtLeipzig', 'Afelia', 'Elektro_Robin', 'a_sator', 'agoraverkehr', 'Fridgeir9', 'klaus_wiens', 'Markus_Soeder', 'Grantscheam', 'SMMT', 'StadtwerkBerlin', 'SDW_Bbg', 'Bayern1232', 'kkklawitter', 'sixtus', 'elhotzo', 'Afelia', 'Maurice_Conrad', 'CKemfert', 'parents4future', 'Emmanzipation', 'FridayForFuture', 'M_Hundhausen', 'ohhellokathrina', 'marcobuelow', 'M_Hundhausen', 'kingozorg', 'fctch3ck1', 'eliursache', 'tobilindh', 'Tesla', 'AnnaHebamme', 'Surfin_Bird', 'Estadox', 'cargo_cyclist', 'bzberlin', 'BerlinCyclist', 'Konrad_Roesgen', 'Coenni1', 'SWM_Muenchen', 'robiwankenobi77', 'KlausPotthoff', 'michaeljanich', 'technikjuli', 'WilliKing10', 'schokosahnewal', 'Luisamneubauer', 'GiantAtomic', 'auslandbasler', 'technikjuli', 'EnBW', 'IONITY_EU', 'Bindestriche', 'asltf', 'tab_or_space', 'kujamaraspliff', 'AdlerAids', 'chri_gru', 'florianaigner', 'HE41214864', 'focusonline', 'OliMerten', 'florianaigner', 'Felix_Greylich', 'KonstantinNotz', 'TouchBenny', '_tho_', 'mpaege', 'MaximalesD', 'HalleVerkehrt', 'janusPrime', 'kaufland', 'FabianLaasch', 'Svenastheimer', 'Tesla', 'StefanPerras', 'isotopp', 'EnBW', 'BILD_Bremen', 'ashyda', 'ashyda', 'green_clarity99', 'MichaChrist', 'bbhermann', 'frankfeil', 'Hyundai_DE', 'kkklawitter', 'polenz_r', '5Max20', 'CUPRA', 'TeslaSchweiz', 'MixeD47', 'SleepDreamHope', 'MartinDoubleU', 'radkolumne', 'egghat', 'Elektro_Robin', 'AndreasBreuer', 'Elektro_Robin', 'derGerfried', 'OldWhiteBoomer', 'je_saar', '_donalphonso', 'SabineCrook2', 'M33r35br4ut', 'HalleVerkehrt', 'Infraspinat', 'Ra_Koellner', 'msxfaq', 'RWEmobility?', 'M_Hundhausen', '_Sakrosankt', 'radkolumne', 'JuliaHiltscher', 'alextroll', 'neythomas', 'YouTube', 'shroombab', 'EON_de,', '40spokes', 'kkklawitter', '40spokes', '40spokes', 'kkklawitter', 'iaostuttgart', 'schmidtgolf68', 'EnricoPomsel', 'GoldbachFelix', 'twittlik', 'CleanElectrCast', 'DerGraslutscher', 'Schwunkvoll', 'Formosanbs', 'S34N1983', 'Afelia', 'farbenfuchs', 'JensHerforth', 'JohnMaedre', 'DurdenGaming', 'mcfire999', 'TineMaschine', 'abcDEfrankeSIGN', 'kaffeecup', 'entfettetesfett', 'mahlwerkende', 'smartEQpassion', 'db11fs', 'Berlin_Biesdorf', 'MissMitBiss', 'frau_fux_berlin', 'kkklawitter', 'DerGraslutscher', 'kkklawitter', 'FabianLaasch', 'sixtus', 'frankfeil', 'EnBW', 'MercedesBenz_DE', 'sixtus', 'never_covkarl', 'faktist', 'mdrde', 'TheFlyingOssi', 'SteffenDeBrand', 'soiinxd', 'DurdenGaming', 'shlenkerman', '_SoulKingBrook', 'frankfeil', 'EnBW', 'MercedesBenz_DE', 'BikerPankow', 'radpankow', 'SenUMVKBerlin', 'ubitricity', 'frankfeil', 'EnBW', 'MercedesBenz_DE', 'Zeroday_Podcast', 'jxn_simp', 'YouTube', 'Macmillian_Fras', 'kramkr', 'frankfeil', 'danilkazzz', 'EnBW', 'MercedesBenz_DE', 'TouchBenny', 'diegruenen', 'jutta_ditfurth', 'uransoft', 'IONITY_EU', 'R_ZausC', 'visevic', 'liberalornot', 'LibertyGecko20', 'LibertyGecko20', 'Hagen', 'gecko203', 'visevic', 'FraeuleinBurg', 'zedernduft', 'DuncanBlues42', 'ffmmape', 'ThomasMz6', 'dansiela_b', 'ra_bayat', 'AannKrieger', 'Chris_Electric', 'DerInspector', 'MineCooky', 'Porsche', 'Juergen_Kaiser', 'sascha_m_k', 'StromschlagYT', 'Norbert_Berlin', 'PeterMagulski', 'sascha_m_k', 'dauensteiner', 'RolandSchueren', 'UweSchneidewind', 'elonmusk', 'PieNads', 'PieNads', 'GNUmatic', 'SamothRelgi', 'schwarzwaldlieb', 'MineCooky', 'MineCooky', 'Porsche', 'Fastned', 'zweitzehtee', 'mahlwerkende', 'real_mos', 'GerdKebschull', 'Elektro_Robin', 'elektrokarre', 'electrodocs', 'Hagen', 'Hamburg397', 'Stefan_Hajek', 'Mingiam10', 'MMittermeier', 'ModelX2016', 'GerdKebschull', 'SwissTeslaphile', 'Ominsey', 'pascal__2k', 'Stefan_Hajek', 'FabianLaasch', 'Elektro_Robin', 'electrodocs', 'Hagen', 'Hamburg397', 'Mingiam10', 'MMittermeier', 'ModelX2016', 'SilleVom', 'aow_de', 'MineCooky', 'Porsche', 'Stefan_Hajek', 'GerdKebschull', 'FabianLaasch', 'Elektro_Robin', 'electrodocs', 'Hagen', 'Hamburg397', 'Mingiam10', 'MMittermeier', 'ModelX2016', 'rahmstorf', 'StadtwerkBerlin', 'MineCooky', 'FedKillsStocks', 'razerrath', 'cem_oezdemir', 'transenv', 'glasspider64', 'benjamin_stork', 'MMittermeier', 'derbesteautor', 'drangmeirobin', 'MMittermeier', 'TomFragt', 'MineCooky', 'Porsche', 'MineCooky', 'EnBW', 'nextmove_de', 'lutti72', 'VQuaschning', 'energy_charts_d', 'ama302', 'FalkTG', 'EnBW', 'DekaBank', 'krasawaza', 'heuteshow', 'neriin03', 'G_J_60', 'Hornschild', 's1t9ef6a7n', 'Nell781', 'Nell781', 'MaAhl5', 'CMDRArchadder', 'fdp', 'c_lindner', 'KC__DC', 'DTHSascha', 'CostaMascher', 'ClausDaniel6', 'anwaltsgelaber', 'NohennWe', 'Michael56986218', 'ClausDaniel6', 'anwaltsgelaber', 'fluepke', 'weltraum_rob', 'Nell781', 'geldhoch2', 'Neisfuchzgerl', 'Ricarda_Lang', 'fdp', 'Wissing', 'Boehler', 'dothebart', 'RheinEnergie', 'ramlamOS', 'planwerk', 'Nell781', 'KinderdocNina', 'DocHappy2', 'energisch_', 'moesl_roland', 'FA753476', 'you_youtube', 'Jackpot2Johnny', 'nextstepmobil', '____Tobias___', 'derspiegel', 'pedrodriguez11', 'VQuaschning', 'Die_Gruenen', 'spdbt', 'f2135', 'MKreutzfeldt', 'p_politburo', 'AbrahamDeLacy3', 'DasHaeufchen', 'GernotDreher', 'Hyundai_DE', 'twizybaby1', 'eike_reinel', 'lukasbisdorf', 'Mingiam10', 'Herrman81039423', 'chronesthesia1', 'f_schaeffler', 'leseerlaubnis', 'aktiv_online', 'synonym1000', 'myc0d3sucks', 'HalleVerkehrt', 'fuerkassel', 'Bundeskanzler', 'elonmusk', 'JensHeinemann3', 'Mauerschauer', 'ronnyrossin', 'Hornschild', 'c_lindner', 'iampelmeniboy', 'BMWK', 'elonmusk', 'genietervan', 'Mingiam10', 'DerGraslutscher', 'Mobil_in_D', 'gAndy84', 'DerUCas', 'nektus', 'TomHS10', 'kkklawitter', 'StromschlagYT', 'RainerReelfs', 'elhotzo', 'FloriKohl', 'Tob_Sch', 'halbtagsblog', 'MarcoPast_Dir', 'Mrs_M_2021', 'ellliotnisa', 'halbtagsblog', 'elonmusk', 'derPaddy', 'Mingiam10', 'DerGraslutscher', 'Mobil_in_D', 'JoernDoering', 'VQuaschning', 'BMWK', 'Wissing', 'Bobi55107088', 'nextmove_de', 'Tesla', 'Mauerschauer', 'Hornschild', 'c_lindner', 'sebbi', 'Wuestenstromfan', 'Bundeskanzler', 'elonmusk', 'Mombaaaaa', 'Bundeskanzler', 'elonmusk', 'EnBW', 'stylo_cebulon', 'Hornschild', 'BMWK', 'StefanBratzel', 'Tesla', '_mtiemann', 'KuthLupo', 'mistermaplel', 'FromBavaria', 'Jazzmaniac3', 'Hoellenaufsicht', '___AveN___', 'Sant_Angelo75', 'VQuaschning', 'BMWK', 'Wissing', 'HerbertvonPfalz', 'Berndte3', 'Mingiam10', 'sinalk97', 'DerGraslutscher', 'Mobil_in_D', 'halbtagsblog', 'SWRAktuellBW', 'RegierungBW', 'GrueneBW', 'HerbertvonPfalz', 'MoniqueFreude', 'sinalk97', 'Mingiam10', 'DerGraslutscher', 'Mobil_in_D', 'dl4go', 'Wondzinski', 'StefanBratzel', 'wahlborn', 'Tesla', 'Wondzinski', 'StefanBratzel', 'wahlborn', 'Tesla', 'WeareWuppertal', 'KatrinEberhardt', 'Deemaree10', 'faznet', 'rainaldgrebe', 'arnehess', 'pablodiabolo', 'mrcockpit', 'FrankSiedler', 'VQuaschning', 'BMWK', 'Wissing', 'keineah83803444', 'EinAugenschmaus', 'mrcockpit', 'FrankSiedler', 'VQuaschning', 'BMWK', 'Wissing', 'EinAugenschmaus', 'TorbenLange75', 'Det714', 'VQuaschning', 'BMWK', 'Wissing', 'AchimEhinger', 'stylo_cebulon', 'Hornschild', 'BMWK', 'cymba_de', 'rosenbaumg0', 'heiko70', 'batteriehuhn', 'unsinn_s21', 'Elmal96', 'BUR_Nuernberg', 'chrisX107', 'jxn_simp', 'MarcusWadsak', 'stylo_cebulon', 'Hornschild', 'BMWK', 'HIThomasFranke', 'dlfnova', 'Dlf_Forschung', 'DerGraslutscher', 'SchaferCorinna', 'Mingiam10', 'SchaferCorinna', 'SchaferCorinna', 'SchaferCorinna', 'HIThomasFranke', 'SchaferCorinna', 'HIThomasFranke', 'Marius_Raabe', 'jxn_simp', '_itstobi_', 'GeshemZlajo', 'Vorzimmerdame2', 'HIThomasFranke', 'dlfnova', 'Dlf_Forschung', 'MarcusWadsak', 'FabianLaasch', 'Felix52451964', 'awlnx', 'doktorhulk', 'badeninderspree', 'dietaube99', 'englisch98', 'Mingiam10', 'Kachelmann', 'M_Hundhausen', 'hypeenforcement', 'nextmove_de', 'stylo_cebulon', 'AchimEhinger', 'Hornschild', 'BMWK', 'i_am_fabs', 'mrsjenvarga', 'lisavoc', 'radkolumne', 'Klimaliste', 'AminSharaf', 'RobertLangerOFI', 'AchimEhinger', 'Hornschild', 'BMWK', 'pr3mut05', 'razerrath', 'hafenrand', 'der_veganer', 'chiplara', 'DB_Bahn', 'BBattmer', 'janboehm', 'thestanceman1', 'krn_rene', 'KlimaCountdown', 'kkklawitter', '35Millimeter', 'chiplara', '_robinhob', 'Linchen0612', 'GillyBerlin', 'EnBW', 'TNahrendorf', 'midevoD08', 'r1charddd', 'BavariaBoi', 'Erbster99', 'nilsnto', 'kkklawitter', 'chiplara', 'Tomsch24', 'AfDSaar', 'CKemfert', 'ADAC', 'Umweltrat', 'al_f', 'kalle1170117', 'MertCan1726', '_Paul46', 'rbb24', 'te32256688', 'chiplara', 'MrEmueller661', 'unionista', 'ichunddieabwehr', 'ChristophSeile3', 'thestanceman1', 'tobiashans', 'pl4ceh0ld3r', 'florianaigner', 'speis_oo', 'Kematef', 'rosenbaumg0', 'VQuaschning', 'tobiashans', 'dieLinke', 'MGarci87', 'maergsche', 'nextmove_de', 'senad_lacevic', 'Nicole_1974G', 'VQuaschning', 'AannKrieger', 'SWM_Muenchen', 'tagesschau', 'Elektro_Robin', 'SylviVanDerSpek', 'WandNoah', 'CriticalMass_S', 'EnBW', 'svmatis', 'WinneHermann', 'gruenestuttgart', 'GJstuttgart', 'Dreissig', 'MonikaSchnitzer', 'kmw2904', 'VegawomanTR', 'HalleVerkehrt', 'tagesschau', 'EnBW', 'CriticalMass_S', 'svmatis', 'WinneHermann', 'gruenestuttgart', 'GJstuttgart?', 'Mit_EE_Strom', 'taschenorakel', 'Milly6683', 'FLYERALARM', 'eam_magazin', 'fasnix', 'kkklawitter', 'Huly16609302', 'das_Menschy', 'MarionKruska', 'tagesschau', 'mattimerker', 'GillessenJens', 'tagesschau', 'tagesschau', 'doedel_knoedel', 'twitch0r', 'MarionKruska', 'tagesschau', 'ChriSirhC13', 'tagesschau', 'ntvde', 'JaySilence1986', 'tagesschau', 'TandlerDanielle', 'thlch', 'chemnitzgruene', '332ppm', 'meyerdietmar631', 'razerrath', 'MietTesla', 'CMDRArchadder', 'VQuaschning', 'tagesschau', 'ferrari2k', 'tagesschau', 'tagesschau', 'tagesschau', 'tagesschau', 'tagesschau', 'tagesschau', 'majavonwestphal', 'KerstinLieder3', 'Viva_la_vita_0', 'majavonwestphal', 'KerstinLieder3', 'Viva_la_vita_0', 'oberfrosch', 'KerstinLieder3', 'Viva_la_vita_0', '332ppm', 'Grisu_SH', 'chorherr', 'OomenBerlin', 'EvilLauge', 'OomenBerlin', 'UweSchneidewind', 'karlschubo', 'ChristophSeile3', 'razerrath', 'MarkusHoeher', 'BMDV_bund', 'Wissing', 'Tagesspiegel', 'FabianGumz', 'TRDSRLZ', 'thorsten_jorg', 'VQuaschning', 'MarkusHoeher', 'BMDV_bund', 'Wissing', 'Tagesspiegel', 'razerrath', 'MarkusHoeher', 'BMDV_bund', 'Wissing', 'Tagesspiegel', 'TobiasBringmann', 'EvansJannis', 'wariomolf', 'RheinEnergie', 'holger_CGN', 'Koeln', 'mathalhead', 'lothar_janz', 'albiparvi', 'stephanpalagan', 'Afelia', 'MauriceHoefgen', 'ChristianKarst5', 'karlschubo', 'HamburgEnergie', 'radkolumne', 'EnBW', 'KrusekopfD', 'SubNat69', 'janusPrime', 'or2doxor2graphy', 'RenateKuenast', 'faznet', 'Schrottie', 'medibibi2018', 'VQuaschning', 'c_lindner', 'Wissing', 'fdp', 'Wissing', 'FWRD31', 'ranajune', 'einenimtee', 'Sant_Angelo75', 'HickertBenedikt', 'SvenFischer1980', 'JoanaCotar', 'UlrichGruber', 'peni4142', 'weltraumhilfede', 'SsamanMardi', 'Michael_Kunz', 'Viva_la_vita_0', 'Michael_Kunz', 'Viva_la_vita_0', 'Danny_Kaubisch', 'SvenFischer1980', 'JoanaCotar', 'Danny_Kaubisch', 'SvenFischer1980', 'JoanaCotar', 'Lykos_Phi', 'dantrimont', 'HenningBuerger', 'Viva_la_vita_0', 'VWGroup', 'Michael_Kunz', 'Viva_la_vita_0', 'VolkerK_', 'Caethan13', 'Schrottie', 'DennisBode11', 'Schnauzevoll13', 'SteveFi04457564', 'froggergr', '89thTweetdriver', 'EvilTiberius', 'SenatorBobBo', 'c_lindner', 'ringrocker90', 'Caethan13', 'VQuaschning', 'verslaan', 'eFlotime', 'deraltejaeger', 'Schrottie', 'VQuaschning', 'c_lindner', 'BMWK', 'BMF_Bund', 'Wissing', 'lazyb0y', 'c_lindner', 'Schrottie', 'Schrottie', 'Schrottie', 'Ozz_EU', 'JacyLu76', 'Matrin79', 'Schrottie', 'JacyLu76', 'kesseltv', 'MajDanNovember', 'FabianLaasch', 'stopPutin22222', 'Caethan13', 'PARTEIniel', 'bitboy0', 'Schrottie', 'TheBug0815', 'AG_Ve_Mo', 'PiratMonKiki', 'neythomas', 'Schrottie', 'Schrottie', 'asta_die', 'Caethan13', 'Nixwis1', 'NoirVox', 'Caethan13', 'Surfin_Bird', '_DCF_', 'jfkr_', 'jfkr_', 'Twitkon1', 'alf_frommer', 'herrenloserHund', 'marhei', 'jetztdochau', 'Marmeleni', 'f2135', 'Schrottie', 'Schrottie', 'Caethan13', 'MeinGlycksfuss', 'lothar_janz', 'albiparvi', 'stephanpalagan', 'Afelia', 'Schrottie', 'Schrottie', 'clarkdoublejuh', 'johannes027', 'frankfeil', 'Schrottie', 'elektrokarre', 'janusPrime', 'airfoxtwo', 'CMDRArchadder', 'Marius_Raabe', 'LiberalMut', 'c_lindner', 'V17Bob', 'JoanaCotar', 'AbteilungArchie', 'johannes027', 'frankfeil', 'MartinJende', 'Schrottie', 'Baloo24', 'gh0un', 'Laika2106', 'SabineB19909564', 'Dummokratie', 'gh0un', 'Laika2106', 'SabineB19909564', 'Ozz_EU', 'ZetalFabian', 'Schrottie', 'MartinJende', 'Schrottie', 'haus_starkaryen', 'Schrottie', 'Chris_R42', 'Schrottie', 'starkwatzinger', 'c_lindner', 'Schrottie', 'moorfuss', 'Hagen', 'EnBW', 'Schrottie', 'vrijbuiter_jcs', 'PaulaPiechotta', 'Schrottie', 'RyoBerlin', 'LenzGrimmer', 'f_v_d_ov', 'Schrottie', 'GeshemZlajo', 'Stefan_Hajek', 'marcfriedrich7', 'Schrottie', 'ich_fetz_dich', 'Schrottie', 'Keeper_86', 'f2135', 'Schrottie', 'clarkdoublejuh', 'johannes027', 'frankfeil', 'clarkdoublejuh', 'johannes027', 'frankfeil', 'ArnoldSchiller', 'MAN_Group', 'Schrottie', '1Summertime2', 'Scoti17', 'PExul23', 'Tstormwitch', 'Schrottie', 'Markus_Soeder', 'mochiavelo', 'Schrottie', 'jonahplank', 'Schrottie', 'WaldaHood', 'HerrFriederich', 'HerrFriederich', 'HerrFriederich', 'Schrottie', 'nicnowak', 'Stefan_Hajek', 'marcfriedrich7', 'GrzegorzLippe', 'silent_mobility', 'sixtus', 'wuppertroll', 'stephanpalagan', 'Eschentharrn', 'art18bvg', 'KappacherS', 'florianklenk', 'HerrFriederich', 'eautonews', 'Schrottie', 'nextmove_de', 'paulger11', 'moonshine2021', 'anwaltsgelaber', 'EnBW', 'AbteilungArchie', 'johannes027', 'frankfeil', 'urstands2sprung', 'Jimi_Eiscreme', 'DiedrichLeander', 'SWM_Magdeburg', 'RobertBoni6', 'Schrottie', 'f_v_d_ov', 'Schrottie', 'HannesJaenicke', 'schweijk', 'brandsatz23', 'reni_resi', 'davidbest95', 'Leon_Bergmann', 'davidbest95', 'Leon_Bergmann', 'Luisamneubauer', 'alter_franke', 'AlfredKrappel', 'Labonitamascota', 'DiedrichLeander', '_stk', 'eGovBonn', 'Tradefair6', 'SchwabeVoll', 'MKreutzfeldt', 'SZ', 'gebinger01', 'MarcusWadsak', 'stch62', 'WienEnergie', 'lgewessler', 'lgewessler', 'IngoHeinscher', 'NextLifter', 'Dennis1896_', 'SGateD', 'tazgezwitscher', 'MineCooky', 'MarcusWadsak', 'stch62', 'WienEnergie', 'heiseonline', 'angstlotse', 'welsch_robin', 'HIThomasFranke', 'EnBW', 'Tesla', 'anwaltsgelaber', 'ubermarkus', 'moonshine2021', 'anwaltsgelaber', 'anwaltsgelaber', '_14223', '_MaxDev_', 'karlschubo', '_14223', '_MaxDev_', 'karlschubo', 'WeeklySpectator', 'wallnuss', 'mpaege', 'AxelKamann', 'ADegelmann', 'timpritlove', 'EnBW', 'alpitronic', 'indigospizza1', 'martineberle', 'JacksOnF1re', 'diabhoil', 'Luisamneubauer', 'jonas_109_', 'Werdermaddin', 'S1986Chris', 'amikoyashi', 'Bankenretter_EU', 'AIcuZan', 'martineberle', 'SkyZ303', 'realBHGTV', 'drecksuser', 'MontanaBlack', '_MaxDev_', 'Paddy_schmaedy', 'makjaveli', 'RArnsburg', 'N_Schmid', 'Dendoxx1995', 'MattheusBerg', 'Bethke_WWF', 'S1986Chris', 'amikoyashi', 'DudeReicher', 'Bankenretter_EU', 'MattheusBerg', 'Mister1975', 'Helheimer', 'Michael56986218', 'Nurprivathier1', 'Natascha_Strobl', 'Lam3th', 'Basti72856677', 'MontanaBlack', 'Nurprivathier1', 'Michael56986218', 'Natascha_Strobl', 'Lam3th', '_MaxDev_', 'FalkenSchwer', 'GPofficial111', 'GreenMachine44H', 'ExilSchorfheide', 'anwaltsgelaber', '_MaxDev_', 'Marc_M00', 'memories2019_12', 'roving_master', 'Jabba0718', 'kkklawitter', 'Johannes0105', 'tom83089380', 'aktiv_online', 'PeterBa84734077', 'MaxFreak1968', 'RobertBoni6', 'martineberle', 'JBleiel', 'doc_emed', 'luebbermann', 'MarijanKelava', 'JoachimMo1985', 'PhilippChladek', 'a_sator', 'fuzzilogic99', 'chorherr', 'Helge', 'DerTheooo', 'jona_ohne_s', 'Elias_1899', 'jona_ohne_s', 'Elias_1899', 'AugustTiner', 'Benjo1039', 'brandsatzbodo', 'rufuspopufus', 'pfotenhauer', 'jurtenmaurer', 'das_louie', 'jasmine_lexa', 'Deutscheguardi1', 'Rettungssanitt1', 'HentschelF', 'ringringishere', 'Krawalletta', 'tagblatt_ch', 'Swiss_eMobility', 'loeffl_oliver', 'ChuckBanham', 'ChristophBeisl1', 'roman072016', 'JanazJoseph', 'coolservativ', 'cariad_tech', 'TRONITY_IO', 'welt', 'unsinn_s21', 'Flo_Rian', 'HortusNanum', 'HIThomasFranke', 'FabianLaasch', 'LkSamanth', 'AndreasBlnMi', 'AndreasBlnMi', 'LkSamanth', 'Sedios1', 'ChuckBanham', 'ChristophBeisl1', 'Horrifior', 'Krawalletta', 's_ketamin', 'Krawalletta', 'OleWaschkau', 'DerSchleFaZke', 'ADrummSchelln', 'chorherr', 'kaufland', 'sky_11_07', 'welt', 'FabianLaasch', 'a_sator', 'JochenH_14', 'emil_goldberg', 'chorherr', 'JuraSegretario', 'FabianLaasch', 'FabianLaasch', 'wellenzwerg', 'Earther87', 'joerg_spengler', 'Wissing', 'Glaubwasduwill1', 'oida_grantler', 'c_lindner', 'fdp', 'TimeReisender', 'FabianLaasch', 'FabianLaasch', 'MoneyRose76', 'HerrKausB1', 'theridian', 'Brummelbr1', 'FabianLaasch', 'VevalingJ', 'kkklawitter', 'FabianLaasch', 'MimiGrimminnell', 'fyliku2006', 'amtee604', 'FabianLaasch', 'FabianLaasch', 'humanisten_ria', 'Nord_Mann', '_moevenpick', 'P3chv0gel', 'shoutingcassy', 'DB_Bahn', 'HIThomasFranke', 'HortusNanum', 'FabianLaasch', 'Honda', 'Nissan', 'VW', 'drosendorf', 'FabianLaasch', 'VevalingJ', 'FabianLaasch', 'Kai_Wehnemann', 'ALDINord_Presse', 'lidl', 'rewe_group', 'REWE_Supermarkt', 'kaufland', 'Maxi200997', 'REALxYoshiLP', 'RubinNischara', 'Grimgorc', 'OlafScholz', 'c_lindner', 'ZusammenAlle', 'RobertBoni6', 'Barbara_Schnell', 'M_Hundhausen', 'HalleVerkehrt', 'DaKoda73672211', 'Glaubwasduwill1', 'oida_grantler', 'c_lindner', 'fdp', 'drosendorf', 'FabianLaasch', 'Glaubwasduwill1', 'oida_grantler', 'c_lindner', 'fdp', 'a_braxes', 'OlafScholz', 'c_lindner', 'Patrik1904', 'netsmurf_de', 'Melodie19041', 'marion_birgit', 'Patrik1904', 'FrauBausM', 'Melodie19041', 'marion_birgit', 'drosendorf', 'FabianLaasch', 'tuppesgadse', 'saibot', 'roddi', 'HokKeinInder', 'Sunjiisan', 'GrueneBundestag', 'Neo1ne0', 'ZusammenAlle', 'konst1889', 'VolkerUllrich', 'Die_Gruenen', 'VevalingJ', 'M_Hundhausen', 'jxn_simp', 'Hamburg397', 'IONITY_EU', 'swisscharge_ch', 'EnBW', 'Chargemap', 'tmmd', 'MaximalesD', 'CSU', 'ZusammenAlle', 'DOeliger', 'tobiashans', 'rasenspiesser', 'jonas_109_', 'JackyBee77', 'AnjoGenow', 'RubinNischara', 'Jonas_Lomp', 'DailyTalk', 'kinettehuber', 'PatMaus1984', 'c_lindner', 'DirkHoffmann007', 'Max__Blank', 'schorr_barbara', 'thereaIGarfield', 'janboehm', 'ArnoldSchiller', 'RubinNischara', 'sebulino', 'brk_bewild', 'DonnyJepp4', 'derspiegel', 'NDRnds', 'LADE_GmbH', 'MittelstandDigi', 'juhoerndlein', 'pudelblitz', 'RikeWaldfee', 'WolfgangFrittum', 'DIYMicha', 'prof_sterner', 'Benzingeruch', 'jan_moras', 'Brynhilda', 'quazanga', 'SonOfData', 'BlakesWort', 'Tintin_zur_See', 'Michael56986218', 'sabi_ri', 'BlakesWort', 'electrodocs', 'ferrari2k', 'sabi_ri', 'BlakesWort', 'sabi_ri', 'BlakesWort', 'MrsMarryPoppins', 'CptKrustenkaese', 'RealValueLover', 'Markus_Soeder', 'RF70469', 'Dendoxx1995', 'LichtblauQ', 'chris_pyak', 'Astro__Sven', 'BOfH_Dj4n90', 'CKemfert', 'B2412Thea', 'DrBimi', 'ChristophBeisl1', 'NichtTK', 'ChristophBeisl1', 'nuclearpostman', 'sigismundf', 'ChristophBeisl1', 'Peter50882349', 'janboehm', 'AdemKilincsoy', 'ChristophBeisl1', 'uds2019', 'DrBimi', 'janboehm', 'BMVg_Bundeswehr', 'einxeins', '_dei_mutti_', 'Perowinger94', 'DeniseYesNoSure', 'Lashersday', 'SilviaAffentra1', 'tguldener', 'jxn_simp', 'martineberle', 'Type0positive1', 'Tigerelch', 'Sayuchen_x3', 'halegga1', 'Sparkboy5010', 'halegga1', 'greenpeace_de', 'DerOetzmann', 'AndreasBouring', 'TilmanWinkler', 'ebay100000', 'HannoKlausmeier', 'ChristophBeisl1', '_Yulivee_', 'pierewoehl', 'jxn_simp', 'Alien2Heaven', 'bamboo_ish', 'AIcuZan', 'miriam_vollmer', 'Fifamoe1887', 'tobiashans', 'konst1989', 'nikitheblogger', 'goodguy_steven', 'Calenberger', 'MadchenSchatten', 'Paul_F1DP', 'RonaiChaker', 'Kowalsk02275714', 'jxn_simp', 'goodguy_steven', 'chrisinkognito', 'MadchenSchatten', 'hek_1337', 'LovemyKiwi1', 'miriam_vollmer', 'tobiashans', 'PeterBa84734077', 'skull77', 'RobertBoni6', 'martineberle', 'DerOetzmann', 'AndreasBouring', 'TilmanWinkler', 'ebay100000', 'HannoKlausmeier', 'ChristophBeisl1', 'toberg2', 'der_fisch001', 'MarcKarl6', 'fdpbt', 'JuliaKrohmer', 'PHPmacher', 'K3tt3nf3tt', 'AannKrieger', 'martineberle', 'Werdermaddin', 'GuberGerh', 'martineberle', 'PeterBa84734077', 'Kar0ne', 'AlexisTaga', 'hank_de_moody', 'Koelner_Peter', 'AlexisTaga', 'tomalo_de', 'hank_de_moody', 'Lotte45079601', 'AnneFBerry1', 'KathaSchulze', 'NATURSTROM_AG', 'eingemaischt', 'martineberle', 'RobertBoni6', 'PeterBa84734077', 'martineberle', '53raver', 'jobuartist', 'AhEfKaStiefel', 'SoerenLorensen', 'TobiasDirking', 'Kevalonen', 'martineberle', 'julejopa', 'obkorr', 'Markus_Soeder', 'ChristophBeisl1', 'DerOetzmann', 'petra_weigelt', 'RobertBoni6', 'BGrenzganger', 'petra_weigelt', 'RobertBoni6', 'Zoon_Polit_icon', 'jxn_simp', 'jxn_simp', 'DerOetzmann', 'petra_weigelt', 'RobertBoni6', 'jxn_simp', 'Kevalonen', 'AannKrieger', 'martineberle', 'manchmalfieber', 'KandalfIn', 'lzserioes', 'martineberle', 'martineberle', 'RobertBoni6', 'dasdensch', 'patrislav', 'xeniaengel2020', 'SixtDE', 'flim_nl', 'EON_de', 'jxn_simp', 'dasdensch', 'patrislav', 'xeniaengel2020', 'martineberle', 'markusdd5', 'smbraun', 'jxn_simp', 'FanofPython', 'AannKrieger', 'martineberle', '_Adora_Belle_', 'ÖAMTC', 'LPDWien', 'ullisima', 'Oxonitsch', 'Stadt_Wien', 'PeterBa84734077', 'jungfelix', 'martineberle', 'Kevalonen', 'martineberle', 'YannikSechi', 'JulianJanssen04', 'jxn_simp', 'Erbster99', 'KlarnameJonas', 'MartGuenzel', 'jaettelik', 'mikenolte_de', 'jungfelix', 'PeterBa84734077', 'martineberle', 'jxn_simp', 'ichderHobbit', 'patrislav', 'xeniaengel2020', 'manchmalfieber', 'TobiasDirking', 'Andreas20778147', 'BastiSchmiddi86', '19torti85', 'ronzheimer', 'BILD', 'c_lindner', 'WeiseKai', 'jxn_simp', 'AliCologne', 'jxn_simp', 'martineberle', 'BastiSchmiddi86', '19torti85', 'ronzheimer', 'BILD', 'c_lindner', 'WeiseKai', 'jaettelik', 'gicklbyte', 'stefan', 'BaumbergOwl', 'Naturschuetzen', 'SGohsrich', 'Saphira3111', 'AliCologne', 'razerrath', 'DreakingFrunk', 'Naturschuetzen', 'martineberle', 'welt', 'welt', 'welt', 'wahlborn', 'Fridgeir9', 'Berndte3', 'bummelbahner', 'CoalDead', 'FlixiFix49', 'johannesceh', 'Hamburg397', 'olewin', 'johannesceh', 'Hamburg397', 'olewin', 'CoalDead', 'desantnik9191', 'turtledi96', 'kkklawitter', 'SamahaVb', 'H_Jennessen', '5v3n1', 'anwaltsgelaber', 'joerg_spengler', 'leseerlaubnis', 'SchmittJunior', 'electrodocs', 'realrala', 'HyperGamer14', 'Iron03_', 'Emilia00612883', 'mondschaf23', 'SoerenLorensen', 'GerdKebschull', 'olheym', 'electrodocs', 'mqdoodle', 'Naturschuetzen', 'DerBash_', '_Quilian', 'LVZ', 'speedy_cvej', '33dBm', 'BruhnJoerg', 'DerVeloc1ty', 'b_rene4', 'taxi_heute', 'bvm_hh', 'anjes_tjarks', 'jonas_109_', 'Maexchen1', 'VolvoV60CC', 'FriederikeKrick', 'electrodocs', 'Kematef', 'Maexchen1', 'VolvoV60CC', 'ronja13s', 'ChristophBeisl1', 'G_J_60', 'CoalDead', 'gangster_micky', 'Nightmare_Keks', 'G_J_60', 'electrodocs', 'realkevoconner', 'CoalDead', 'FabianLaasch', 'ChristophBeisl1', 'Naturschuetzen', 'G_J_60', 'arens_gerrit', 'ChristophBeisl1', 'AzKickr', 'ChristophBeisl1', 'MasterJam0', 'ChristophBeisl1', 'ZoeUpgraded', 'tjamara_', 'Athesis', 'ChristophBeisl1', 'JoeMontana99', 'drumheadberlin', 'BILD', 'ZoeUpgraded', 'tjamara_', 'SirNollibat', 'P4rley', 'WernerderChamp', 'Vornerbauer', 'BR24', 'DonShlonzo', 'janboehm', '_holger', 'paekhh', 'Naturschuetzen', 'Blumi147', 'georgrestle', 'JPRuehmann', 'MauriceHoefgen', 'ChristophSeile3', 'mcl_klicky', 'CoalDead', 'H_Jennessen', '5v3n1', 'anwaltsgelaber', 'ZoeUpgraded', 'schlangentempel', 'sencation1', 'Naturschuetzen', 'elmattes', 'hansseebeck', 'Bartelhei', 'LTE_Max', 'hansseebeck', 'Bartelhei', 'LTE_Max', 'ChristophBeisl1', 'Cleanthinking', 'Sventastic_78', 'karlschubo', 'Naturschuetzen', 'orbdex', 'Elwood091', 'Serendipity_86', 'nbg__1', 'chamecko', 'electrodocs', 'CoalDead', 'orbdex', 'Elwood091', 'Naturschuetzen', 'ChristophBeisl1', 'paekhh', 'Naturschuetzen', 'Blumi147', 'CoalDead', 'DerSebi89', 'RealDonDenito', 'Sventastic_78', 'VQuaschning', 'coolservativ', 'lovelyropes', 'prenzlix', 'Cleanthinking', 'Sventastic_78', 'alex_arfa', 'likedeeler3', 'SKTortenbot', 'M_Hundhausen', 'MatthiasVialon', 'mimperella', 'the_infinity', 'eGovBonn', 'marcoh___', 'dr_bpeper', 'Czieschla', 'ThomasBoenig', 'BerndMutter', 'w3c', 'ietf', 'EE_Fakten', 'solarpapst', 'energy_charts_d', 'DWD_presse', 'franzalt', 'EUROSOLAR_D', 'Alcibiades_ZH', 'jaettelik', 'Michael_Karalus', 'SZ', 'Eaglepowder', 'Storch_i', 'Wissing', 'Umweltbundesamt', 'RonRevog', 'Elektro_Robin', 'PiratoSimbad', 'Elektro_Robin', 'broaaaa', 'ulfklose', 'IONITY_EU', 'nilsbils1', 'DerEingang', 'GenerationStrom', 'Tagesspiegel', 'Bettina_Jarasch', 'besim', 'booster_jab', 'GenerationStrom', 'Marinus1208', 'henning_soel', 'GenerationStrom', 'AndyDBayern', 'grnFlip', 'phoenix_de', 'CSU', 'Markus_Soeder', 'GenerationStrom', 'martineberle', 'GenerationStrom', 'frankfeil', 'GillyBerlin', 'Birgit_Kelle', 'AllegoCharging', 'janfleischhauer', 'drumheadberlin', 'amikoyashi', 'DryDanny81', 'tagesschau', 'derAnhaltiner', 'tollekarte_', 'openyourcorazon', 'AdamCartwrigh86', 'PTNisWarCrmnl', 'Mingiam10', 'HalleVerkehrt', 'M_Hundhausen', 'RainerRomer', 'labruunt', 'technikjuli', 'BvMallinckrodt', 'Darth_Iwan', 'Hoellenaufsicht', 'Regendelfin', 'tagesschau', 'bochum_de', 'kkklawitter', 'EnBW', 'kkklawitter', 'EnBW', 'aktiv_online', 'buchholz_nr12', 'Stefan_Hajek', 'fettiz', 'rahmstorf', 'TRONITY_IO', 'convols', 'berlin_radler', 'matschlegel', 'energy_charts_d', 'UdoSiev', 'm_vieren', 'planwerk', 'Stefan_Hajek', 'AdrianAulbach', 'fischchristian', 'cbruegg', 'DerBehla', 'DerBehla', 'Diversion893', 'tacheles_D', 'CITROEN_DE', 'axelwagnernet', 'ahafant', 'kkklawitter', 'derspiegel', 'saftmoppel', 'BVorbereitung', 'cooliopenguin', 'MarijanKelava', 'stang2k', 'PolizeiHamburg', 'Stefan_Hajek', 'Stefan_Hajek', 'araldeutschland', 'vfm_Gruppe', 'TomFragt', 'aktiv_online', 'DiedrichLeander', 'derspiegel', 'MarijanKelava', 'PolizeiHamburg', 'PolizeiHamburg', 'disco30003', 'TeslaDominik', 'Nidhggr2', 'EWS_Schoenau', 'GreenPlanet_nrg', 'tomasfreres', 'sanktgallen', 'a_sator', 'Feel_Yow_1', 'DrLuetke', 'SylvesterG61', 'matschlegel', 'Ricarda_Lang', 'Ricarda_Lang', 'a_sator', 'klimalisteRhNe', 'Strippenzieher7', 'Nero1138', 'lokfuehrer_tim', 'stadioncheck', 'ADAC', 'warentest', 'stadtdortmund', 'Netto_Online', 'ChRoordink', 'dieserHermann', 'gofast_swiss', 'vwschweiz', 'FischwaffeI', 'Nidhggr2', 'technikblog_ch', 'padfrey', 'gofast_swiss', 'vwschweiz', 'AEnergiepolitik', 'dbrgn', 'padfrey', 'gofast_swiss', 'vwschweiz', 'Wrdlbrmpfd_Wrdl', 'phoenix_de', 'BMWK', 'BLUETHUNDERII12', 'GoaVetz', 'AnjaKober', 'peter1291010170', 'nikitheblogger', 'DudenhofferAUTO', 'faraway07516778', 'schweizok2', 'elonmusk', 'Wohli', 'snoopsmaus', 'jobuartist', 'derQuerkop', 'PredatorJr', 'Karus65Olaf', 'ZDFheute', 'jobuartist', 'Toyota_DE', 'technikblog_ch', 'e4testival', 'kkklawitter', 'BoehmerNicolas', 'EnBW,', 'Shell_Germany,', 'Hagen', 'TomRR86', 'Hagen', 'quasselonkel', 'transenv', 'wegeheld', 'klimaunion', '_FriedrichMerz', 'EDreisvogt', 'IngmarStadelman', 'PolitikNerd1', 't_burkhardt', 'markusdd5', 'janfleischhauer', 'jugger1511', 'saxenpaule', 'AlexanderMeseck', 'M_Hundhausen', 'Tschabba2', 'alemana1978', 'kkklawitter', 'jugger1511', 'AlexanderMeseck', 'M_Hundhausen', 'Tschabba2', 'ekztisok', 'FelixOberhausen', 'Orang3nSaftLP', 'laemmerbiss', 'StratmannK', '1_punch_mickey', 'M_Hundhausen', 'MeineWVV', 'jugger1511', 'AlexanderMeseck', 'M_Hundhausen', 'Tschabba2', '126agz', 'Tschabba2', 'M_Hundhausen', 'RaykAnders', 'HendrikWuest', 'StMueObu', 'asltf', 'StMueObu', 'stangl_a', 'DerKeiler', 'florianaigner', 'CMDRArchadder', 'IngmarStadelman', 'florianaigner', 'cdu', 'CSU', 'MusirikeUSRUSCO', 'Elwood091', 'achmal22', 'Roland_84_E', 'TaborskyMichael', 'florianaigner', 'M_Hundhausen', 'canbazmustafa', 'clarkdoublejuh', 'DieroteZora3', 'Denndeman', 'Tschabba2', 'M_Hundhausen', 'perlevilma', 'Mhs_ThatFace', 'lgewessler', 'Gaymer_02', 'KironTheFox', 'Chill_LP', 'marhei', 'LenzGrimmer', 'DieroteZora3', 'soziobloge', 'hhotz', 'florianaigner', 'Engineer4F', 'HorstWessel2', 'Minetimeth', 'HolzheuStefan', 'agoraverkehr.', 'mainz_de', 'iaostuttgart', 'ChristophHorst3', 'stoeger_by', 'M_Hundhausen', 'schneider_chris', 'stoeger_by', 'M_Hundhausen', '_t2oh4e_', 'DerGraslutscher', 'ElektroautoMeme', 'pingu2k', 'SteveFi04457564', 'baerbeli04', 'Timon_Gremmels', 'spdbt', 'bnetza', 'FalkoMohrs', 'NinaScheer_SPD', 'HumpferMarkus', 'annakassautzki', 'BengtBergt', 'Wissing', 'StromschlagYT', 'WillyPe37974835', 'trail_cafe', 'twittlik', 'Pendolino70', 'YouTube', 'snhrdt', 'joanadiskurs', 'bubbleg29701380', 'atheistsplained', 'Ch1990ris', 'Stefan_Hajek', 'Alex_Neubacher', 'peteraltmaier', 'peter_simone', 'JLengenfelder', 'DudenhofferAUTO', 'al_x_mq', 'DarthMowl', 'DarthMowl', 'MartinMichalik', 'butenbinnen', 'VolkerStahmann', 'MartinGuenthner', 'carstensieling', 'ThomasMz6', 'WernerderChamp', 'Stefan_Hajek', 'DudenhofferAUTO', 'hgrdlmn', 'BlarryOfficial', 'WeemanDx', 'joanadiskurs', 'VolkerStahmann', 'butenunbinnen', 'Pendolino70', 'UmweltinstitutM', 'davidleblanc13', 'nextmove_de', 'KarlsErdbeerhof', 'Linksfraktion', 'Amira_M_Ali', '_GermanZero', 'frieske_d', 'weserkurier', 'bafpudvhe', 'Naturmacht', 'flonikki', 'technikjuli', 'JensHilgenberg', 'VWGroup', 'MercedesBenz_DE', 'OlafScholz', 'Wissing', 'tron_80', 'butenunbinnen', 'nextmove_de', 'KarlsErdbeerhof', 'KroegerOve', 'ALDINord_Presse', 'DudenhofferAUTO', 'KawiKla', 'sax_dominik', 'Engineer4F', 'HolzheuStefan', 'nextmove_de', 'KarlsErdbeerhof', 'Jaquelinelindr', 'butenunbinnen', 'nyke_slawik', 'DudenhofferAUTO', 'TichysEinblick', 'StreetScooter_', 'JimZopf', 'stang2k', 'Bubiho', 'DudenhofferAUTO', 'derGerfried', 'Jaquelinelindr', 'FMH_EU', 'Peter_Jelinek', 'DKommunal', 'Chris_Electric', 'Touni', 'bolli3097', 'teslawelt', 'Touni', 'bolli3097', 'teslawelt', 'emobly', 'SWM_Muenchen', 'StadtMuenchen', 'GerdKebschull', 'DaimlerTruck', 'DaimlerTruckBus', 'mbvans', 'elektrokarre', 'Elektro_Robin', 'electrodocs', 'Hamburg397', 'technikblog_ch', 'Stefan_Hajek', 'Mingiam10', 'ModelX2016', 'kkklawitter', 'HolzheuStefan', 'frankfeil', 'sofa_review', 'IngoBehne', 'derspiegel', 'a_braxes', 'DieroteZora3', 'Tewordt', 'Werdet_Gesund', 'clarkdoublejuh', 'DieroteZora3', 'Tewordt', 'Werdet_Gesund', 'Hybritze', 'KLilmister', 'dibeldei', 'JochenH_14', 'Gen_Fault', 'RaykAnders', 'atlanticandme', 'rim_light', 'Tesla', 'CMDRArchadder', 'NoahRettberg', 'Werdet_Gesund', 'RainerReelfs', 'Werdet_Gesund', 'Werdet_Gesund', 'DerOetzmann', 'euryeuro', 'Phate22_7', 'dHandlos', 'janfleischhauer', 'Saechsen', 'Gen_Fault', 'RaykAnders', 'marhiver', 'pit7312', 'reinerrudolph', 'ralfh', 'stuxburg', 'Perowinger94', 'dbo37', 'BlueJaw2', 'RaykAnders', 'felixloe', 'jonas99g', 'isotopp', 'Lucruss_', 'Autozeitung', 'twittlik', 'macsnider', 'StromschlagYT', 'twittlik', 'macsnider', 'StromschlagYT', 'twittlik', 'StromschlagYT', 'DieroteZora3', 'clarkdoublejuh', 'Tewordt', 'Werdet_Gesund', 'macsnider', 'StromschlagYT', 'tj_tweets', 'F_Hubik', 'RTyborski', 'handelsblatt', 'Thomas_Bareiss', 'nullachtkoeln', 'c_lindner', 'Coenni1', 'HenzeTimon', 'runkel_m', 'Christoph_Br1', 'peterhense', 'ThomasMielke', 'poorZathras', 'McDonaldsDENews', 'RenaultDE', 'RenaultGroupDE', 'skodade', 'barthster78', 'lovelyropes', 'markusdd5', 'janfleischhauer', 'Raven_1272', 'Germanicus91', 'markusdd5', 'janfleischhauer', 'ThomasMz6', 'janfleischhauer', 'DHLPaket', 'DeutschePostDHL', 'kaufland', 'kaufland', 'NordiQHeart', 'Werdet_Gesund', 'NordiQHeart', 'Werdet_Gesund', 'dk_tsl', 'kkklawitter', 'faznet', 'Werdet_Gesund', 'Muselbernd1', 'Werdet_Gesund', 'Wolfgang_42', 'BerndBurkert', 'Danidani6922', 'Muselbernd1', 'Werdet_Gesund', 'Werdet_Gesund', 'Drowhunter', 'los_tomos', 'iwonalaub', 'speis_oo', 'Roland_84_E', 'ChriTraeumer', 'Abarthdealer', 'Xus1Ba', 'wsw113355', 'Hipokratos', 'J_Liberalismus', 'kkklawitter', 'tileja', 'cyclinghanover', 'DieroteZora3', 'HolzheuStefan', 'cyclinghanover', 'DieroteZora3', 'HolzheuStefan', 'M_Hundhausen', 'cyclinghanover', 'DieroteZora3', 'HolzheuStefan', 'M_Hundhausen', 'tileja', 'DieroteZora3', 'HolzheuStefan', 'M_Hundhausen', 'SteveFi04457564', 'daimlertruck', 'netzeBW', 'DorferBies', 'josefmatthes1', 'zeitonline', 'PolestarCars', 'TeslaSchweiz', 'teslawelt', 'teslamag', 'TeslaOwnersDEU', 'electrodocs', 'Elektro_Robin', 'Hamburg397', 'Stefan_Hajek', 'Mingiam10', 'ModelX2016', 'kkklawitter', 'hardybarthgmbh', 'ElektroautoMeme', 'M_Hundhausen', 'AnlegerWindAWE', 'acurus', 'abraxa1982', 'MittelstandZGV', 'Wissing', 'handelsblatt', 'Truhe3', 'razerrath', 'Herbert_Diess', 'Reddit', 'VWGroup', 'Marcii00', 'janusPrime', 'SZ', 'Markus_Balser', 'AZ_Augsburg', 'blablacar_de-Mitfahrern', 'JaneOh0711', 'Michael43587333', 'JB_Emskirchen', 'FalkWussow', 'AndreasS2904', 'Bettina_Jarasch', 'Tagesspiegel', 'DerSebi89', 'hybridathlet', 'buzzingDANZEI', 'TritiumCharging', 'SecondAttempt', 'pr3mut05', 'Johannes', 'EnBW', 'DatAndre_de', 'Birkenbaer', '65Ebru90', 'umrath', 'CryptoCoinHans', 'lbenedix', 'Der_Postillon', 'TeslaSchweiz', 'thestanceman1', 'razerrath', 'RolfMeissler', 'Tagesspiegel', 'womeninmobility', 'BMDV_bund', 'BMWK', 'HMWVL', 'Storch_i', 'j_hkrueger', 'joerg_spengler', 'VCDeV', 'FahrradClub', 'ADFC_Berlin', 'parents4future', 'sciforfuture', 'zukunftmobil', 'DEmobil2030', 'agoraverkehr', 'Wissing', '30u30', 'BMDV_bund', 'joanadiskurs', 'schweizok2', 'rosenbaumg0', 'umrath', 'DIYMicha', 'frankfeil', 'Taunus_Larry', 'TichysEinblick', 'Hagen', 'Wissing', 'Lashersday', 'MineCooky', 'ElektroautoMeme', 'FrauBundeskatz', 'verkehrswendeb2', 'Lykos_Phi', 'thestanceman1', 'GoogleNews', 'Pulser77', 'Hagen', 'Wissing', 'HarryBeaux1', 'oliver93877389', 'Xivios343', 'Deichi72', 'Woculus1', 'euronewsgreen', 'frankfeil', 'c_schwarzer', 'MercedesBenz_DE', 'AllegoCharging', 'BerndBurkert', 'Hornschild', 'arztvongniere', 'Duisburger1997', 'CptKrustenkaese', 'CMDRArchadder', 'thestanceman1', 'AndreasMemmer', 'FabianLaasch', 'frankfeil', 'M_K_UHD', '9Lukas5', 'bladewing678', 'cycletux', 'bbhermann', 'c_schwarzer', 'MercedesBenz_DE', 'AllegoCharging', 'Rita_Sauser', 'postcovid_CH', 's_sommaruga', 'jonaswitt', 'iljawascoding', 'MickyBeisenherz', 'SaabRedJ', 'DonBarbone', 'nextmove_de', 'Tesla', 'BrunsRainer', 'Autoflotte', 'MeineWVV', 'JackTheQuila', 'joe_leads', 'HolzheuStefan', 'TerliWetter', 'jugger1511', 'noname38942', 'Fianna_Saoirse', 'fettiz', 'BoedefeId', 'BILD', 'TwelveM0nkeys', 'AlpineCarsFR', 'stang2k', 'gerber_nils', 'Knarf_Sier', 'the_infinity', 'MarcMath5', 'JimZopf', 'Elektro_Robin', 'gandi80', 'AlbertAichinger', 'markusmulterer', 'SP_Wien', 'SPOE_at', 'SPOE_at', 'SP_Wien', 'diegruenen', 'WienEnergie', 'real_mos', 'stang2k', 'gerber_nils', 'teilAuto', 'erdguenstig', 'VWGroup_DE-Golf;', 'Elektro_Robin', 'Herbert_Diess', 'kkklawitter', 'GogSolo', 'NeutorGalerie', 'Elektro_Robin', 'magnus4life', 'Captain2Phones', 'ConEdison', 'V1887Vd', 'pffuzzi', 'fls_news', 'VDA_online', 'tonline', 'elonmusk', 'DerGraslutscher', 'volkswagen', 'RonRevog', 'HolzheuStefan', 'TerliWetter', 'luca', 'magnusbrunner', 'lgewessler', 'StromschlagYT', 'twittlik', 'KVBAG', 'Koeln', 'KVB_Info', 'StromschlagYT', 'KVBAG', 'Koeln', 'KVB_Info', 'tagesschau', 'AntoniaSantschi', 'GauhlB', 'rolnam', 'AntoniaSantschi', 'GauhlB', 'rolnam', 'AntoniaSantschi', 'GauhlB', 'rolnam', 'The_Sighthound', 'Der_Postillon', 'MineCooky', 'kramkr', 'ziromr', 'ziromr', 'Personalwesen', 'Siemens', 'doc_ecmo', 'dscharpfMD', 'Lam3th', 'kaschenke', '_tho_', 'Elektro_Robin', 'YogicCEO', '7VAMPIR', 'araldeutschland', 'EnBW', 'greenorderstedt', 'corwin42', 'acurus', 'exxpressat', '7VAMPIR', 'renatomitra', '_itstobi_', 'oli_polit', 'tmdq', 'technikblog_ch', 'tmmd', 'VlkrDhr', 'rckmrktng', 'MietTesla', 'ThePopolist', 'MaAhl5', 'InaKietzmann', 'JosyReinhard', 'systemanalysen', 'swisscharge_ch', 'ewz_energie:', 'AG_Ve_Mo', 'KS_MdL', 'tileja', 'MineCooky', 'razerrath', 'smartEQpassion', 'Jayladyja', 'Akyra_Fox', 'IronieAlles', 'BlaufussMakrele', 'frankfeil', 'CMDRArchadder', 'Airbus', 'AccentureDACH', 'cymba_de', 'Stadt_Karlsruhe', 'enbw', 'GillyBerlin', 'frankfeil', 'HeupelStefan', 'fresxc', 'NN_I_K_I', 'tim29403', 'docknack', 'EmilySue59', 'sixtus', 'Just_B0B', 'Mingiam10', 'IngoBehne', 'YogicCEO', 'SubNat69', 'meisterlind', 'derspiegel', 'Mingiam10', 'c_schwarzer', 'MercedesBenz_DE', 'Shell_Germany', 'c_schwarzer', 'MercedesBenz_DE', 'Shell_Germany', 'wdealers4', 'zeitonline', 'VolvoCarPR_DE', 'cooliopenguin', 'mpalkowitsch', 'SBetschinger', 'Buerolist', 'Gewerkschafter', 'DiedrichLeander', 'ralfbuescher', 'GenerationStrom', 'frankfeil', 'BMWi', 'Ruthkaeppchen', 'UlfEsdert', 'bremen_de', 'swb_online', 'Elektro_Robin', 'uweplus', 'Elektro_Robin', 'AndreasBovensc1', 'SWAEBremen', 'watch_union', 'bremen_de,', 'swb_online,', 'Elektro_Robin', 'susannes_life', 'robkde', 'Elektro_Robin', 'TouchBenny', 'AndreasMemmer', 'nextstepmobil', 'HyperiorMedia', 'diegruenen', 'Sonnerl1967', 'LaktoseIgnoranz', 'tagesschau', 'LaktoseIgnoranz', 'ProbstWilli', 'tagesschau', 'WNP7013', 'entropie42', 'DS_Deutschland', 'lichtlauschen', 'heikjack', 'bochum_de', 'WAZ_Bochum', 'radentscheidBO', 'bochum_de', 'alextv', 'egghat', 'heikjack', 'offlinehoster', 'bochum_de', 'WAZ_Bochum', 'radentscheidBO', 'user_keinname', 'HalleVerkehrt', 'Ishtar88678339', 'emobly', 'ADAC', 'kramkr', 'caspar_g', 'caspar_g', 'alextv', 'caspar_g', 'intschu', 'MeistelGlanz', 'HL1315185597', 'nextstepmobil', 'stadtmobil', 'emobly', 'ADAC', 'MaxTwiddra', 'alextv', 'alwayssimifuzi', 'EnBW', 'mastafotygo', 'cj5762cj', 'alwayssimifuzi', 'EnBW', 'alextv', 'alextv', 'berreta1990', 'Darkfloppy1', 'YouTube', 'sepp_reitberger', 'kkklawitter', 'CyrillSchmid', 'robkde', 'LADE_GmbH', 'DennisSchlmyr', 'ElektroautoMeme', 'ElektroautoMeme', 'Berndte3', 'Hagen', 'Drafi030', 'AEONde', 'SchwanderMurphy', 'pape_lapapp', 'Berndte3', 'ElektroautoMeme', 'Hagen', 'AEONde', 'Elektro_Robin', 'planwerk', 'AEONde', 'Elektro_Robin', 'beimerin', 'ketoman25', 'derkartoffelst1', 'tagesschau', 'RegSprecher', 'OlafScholz', 'spdde', 'RN_DORTMUND', '0Nikolina4', 'AutomobiliRimac', 'KButtinger', 'MarcusWadsak', 'Elektro_Robin', 'PimpYourMac', 'AndreasMemmer', 'janusPrime', 'heiseonline', 'nilspickert', 'YouTube', 'Mingiam10', 'rasenspiesser', 'tschelle', 'StefanHeimlich', 'OkwiekaB', 'EON_de-#Ladesäule', 'araldeutschland', 'victoriaVIP069', 'CaPeEbNe', 'EScha54', 'derspiegel', 'PolizeiMuenchen', 'Elektro_Robin', 'Bugatti', 'DTHECK2', 'StefanHeimlich', 'Elektro_Robin', 'PewPewMiau', 'LibertyLucas26', 'Johannes_8020', 'dothebart', 'kiwonka', 'kkklawitter', 'CKernkraft', 'bitterlemmer', 'aalkonsum', 'wattenichsachs', 'user_keinname', 'HalleVerkehrt', '_richtig_falsch', 'lindworm', 'SaschaSebastian', 'schnellenbachj', 'bitsunited', 'RenaultDE', 'fiat', 'Tesla', 'f_stiebeling', 'migrol‘s', 'hubject', 'Wayne49252139', 'derspiegel', 'LaTravelle', 'Die_Gruenen', 'FelixSchlang', 'TomAs91954936', 'BMW', 'kdrabla09', 'real_mos', 'St_Hirschmann', 'jochensiegert', 'nojetlag', 'holimuk', 'paymentbanking', 'a12_tilli', 'hallojulia', 'cymba_de', 'cymba_de', 'UlkHulk', 'DonBarbone', 'AugusteCalami', 'PeugeotDE', 'VQuaschning', 'JungNaiv', 'GillyBerlin', 'vonGammCom', 'EnBW', 'StadtwerkBerlin', 'sixtus', 'debiantippse', 'Nimesiz', 'Renggli18', 'derspiegel', 'derspiegel', 'nojetlag', 'holimuk', 'jochensiegert', 'paymentbanking', 'CMDRArchadder', 'NIU_Driver', 'dddd45613303', 'philippvetter', 'welt', 'kkklawitter', 'leicht_u_sinnig', 'Mingiam10', 'LadeEngel...und', 'teufelernie', 'technikjuli', 'dergazetteur', 'ReneJ57171065', 'Zeitich', 'hannover', 'hannover,', 'null_neun_elf', 'MiMueGoe', 'datenhalde', 'zeitonline', 'DerSebi89', 'CMDRArchadder', 'Daymaker0815', 'kkklawitter', 'Stefan_Hajek', 'Elektro_Robin', 'GerdKebschull', 'Hagen', 'kkklawitter', 'Stefan_Hajek', 'Elektro_Robin', 'GerdKebschull', 'Hagen', 'KroegerOve', 'Haifischhappen', 'CarbonWaechter', 'daniel_kassner', 'kkklawitter', 'Stefan_Hajek', 'Elektro_Robin', 'GerdKebschull', 'Hagen', 'Haifischhappen', 'daniel_kassner', 'kkklawitter', 'Stefan_Hajek', 'Elektro_Robin', 'GerdKebschull', 'Hagen', 'kkklawitter', 'Stefan_Hajek', 'Elektro_Robin', 'GerdKebschull', 'Hagen', 'N_Schmid', 'Juergen_Kaiser', 'howie_mw', 'AudiOfficial', 'EnBW-Ladepark', 'KowalskiFlausn', 'franziska_grau', 'ulch20', 'ecomento_de', 'RolandSchueren', 'ulch20', 'Mingiam10', 'CaPeEbNe', 'EScha54', 'derspiegel', 'victoriaVIP069', 'EScha54', 'derspiegel', 'howie_mw', 'N_Schmid', 'enbw', 'SirTux', 'derspiegel', 'heiseautos', 'KVonderruhr', 'ahoernchen_1', 'cs27496673', 'ChPeter_AT', 'ProfEnergyHuber', 'amsonline', 'tagesschau', 'SH_Netz', 'HanseWerk', 'clscholz', 'handelsblatt', 'AndreasBreuer', 'HolzheuStefan', 'news_nowgmbh', 'Zoolook', 'Mingiam10', 'xolakritz', 'Andreas58113202', 'lgewessler', 'ArmeWurst0815', 'DanielB2919', 'BMDV_bund', 'Wissing', 'Tagesspiegel', 'NickHeubeck', 'Wissing', 'Die_Gruenen', 'OlafScholz', 'EUTheurer', 'Hamburg397', 'meisterlind', 'ronnyrossin', 'lycarini', 'JoernDoering', 'PeugeotDE', 'VlkrDhr', 'yuwasheu', 'DanielB2919', 'BMDV_bund', 'Wissing', 'Tagesspiegel', 'WeShare_DE', 'SturdyFranky', 'Mingiam10', 'GmbhWarncke', 'Mingiam10', 'Ascendor', 'mpheddyn', '1_punch_mickey', '1_punch_mickey', 'AIXIVRaoul', 'Enigma67231918', 'FenzWolfgang', 'VolkerPlass', 'AllegoCharging', 'IONITY_EU', 'AllegoCharging', 'moabit', 'ArmeWurst0815', 'DanielB2919', 'BMDV_bund', 'Wissing', 'Tagesspiegel', 'rlieser', 'rlieser', 'CMDRArchadder', 'derFuchsi', 'AllegoCharging', 'Elektro_Robin', 'BMWDeutschland', 'BMWi_Bund', 'EU_Commission', 'MercedesBenz_DE', 'ArnoldSchiller', 'TheBug0815', 'AG_Ve_Mo', 'TheBug0815', 'BMW', 'planwerk', 'Elektro_Robin', 'haukeschrieber', 'KlausDietz7', 'bianchiinfinito', 'RealDonDenito', 'Danne79029815', 'PeugeotDE', 'JLuetgens', 'janboehm', 'morgenpost', 'Elektro_Robin', 'inside_digital', 'Schmantinski', 'PeugeotDE', 'Elektro_Robin', 'haukeschrieber', 'BerndBockwurst2', 'Naturschuetzen', 'janusPrime', 'Danne79029815', 'RealDonDenito', 'PeugeotDE', 'fcschon', 'VQuaschning', 'n0tmad84', 'markusdd5', 'Wissing', 'markusdd5', 'Wissing', 'markusdd5', 'Wissing', 'rbbabendschau', 'markusdd5', 'Wissing', 'StromschlagYT', 'rbbabendschau', 'Sedo062', 'BILD', 'dovbenari', 'CleverShuttle', 'ShellStationsUK', 'BNN_BaNeuNa', 'Stadt_Karlsruhe,', 'ShellStationsUK', 'hanswaldmann', 'wobe', 'TinleMar', 'Minetimeth', 'micha_bloss', 'MichaelBaleanu', 'micha_bloss', 'TerliWetter', 'uschi6868', 'energy_charts_d', 'BMWi_Bund', 'Dumbrum672', 'micha_bloss', 'Jay__Kay__Kay', 'donovan13_mc', 'derspiegel', 'DB_Bahn', 'grassdackel32', 'twiag1985', 'BMDV_bund', 'Wissing', 'Tagesspiegel', 'fdp', 'PROMEENZ', 'sudi1007', 'norbertruecker', 'Zvjedavaa', 'olivergorus', 'FerdiVomPonyhof', 'zukunftmobil', 'urwumpe', 'ChrisBrey1', 'derspiegel', 'philippvetter', 'Wissing', 'welt', 'Jinxen2', 'sternde', '', 'bnetza', 'MarcMath5', 'Fasti26368280', 'BMWDeutschland', 'ThomasPoebel', 'BratschCbra', 'derspiegel', 'ThomasPoebel', 'BratschCbra', 'MarcMath5', 'ALDINord_Presse', 'ap_tweety', 'Bobi55107088', 'pikadad0815', 'MarcoPast_Dir', 'Berndte3', 'WDRaktuell', 'Die_Gruenen', 'FuerthParken', 'BMWi_Bund', 'M_Hundhausen', 'zomtecos', 'Elektro_Robin', 'vwschweiz', 'von_bumblebee', 'kkklawitter', 'KekseEsseIch', 'tagesschau', 'nextbike', 'lidl', 'Lidl', 'Wuppertal', 'SanderK54317391', 'alex_avoigt', 'CMDRArchadder', 'kohn_sylvia', 'Doblerin', 'HerrRain', 'Hagen', 'cooliopenguin', 'technikjuli', 'RealDonDenito', 'Frau_Lange', 'AnderlLechner', '', 'NullPunktNix', 'Kematef', 'Hagen', 'ulfposh', 'ubitricity', 'simack___', 'GedankenPozilei', 'rponline', 'Hagen', 'Knobelsdorff', 'Hagen', 'Knobelsdorff', 'Tagesspiegel', 'SteffiLemke,', 'DikeNemesis', 'lijo2323', 'Markus93511276', 'Elektro_Robin', 'DerOetzmann', 'AllegoCharging', 'MercedesBenz_DE', 'thestanceman1', 'MaingauEnergie', 'KOMMUNALaktuell', 'FrankoniaOliver', 'CMDRArchadder', 'Hagen', 'rene_bam_', 'SaschaM76', 'ralphruthe', 'technikjuli', 'airfoxtwo', 'technikjuli', 'airfoxtwo', 'Wilfried_Weber', 'peterbreuer', 'mattiasnutt', 'RemiCrameri', 'luckymaaa', 'technikblog_ch', 'kartoffmel', 'Pendolino70', 'AmygdalaXr', 'JonzTom', 'GruneLiebe', 'ShawnStein20', 'Luisamneubauer', 'bmzimmermann', 'Elektro_Robin', 'AndreasMemmer', 'technikjuli', 'IngmarStadelman', 'TeeJaneS', 'IngmarStadelman', 'IngmarStadelman', 'totaberlustig', 'TeeJaneS', 'IngmarStadelman', 'SWM_Muenchen', 'EnBW', 'EnBW', 'Elektro_Robin', 'IngmarStadelman', 'TeeJaneS', 'Elektro_Robin', 'SebasFC', 'TeeJaneS', 'IngmarStadelman', 'rammc', 'Surfin_Bird', 'AsatothAbaddon', 'avbelow', 'KurtHuwig', 'SWM_Muenchen', 'AnderlLechner', 'IKEA_Presse', 'magnus8513', 'EON_de', 'Sunshin10843216', 'miaumiau1975', 'KurtHuwig', 'avbelow', 'sepp_reitberger', 'Hamburg397', 'BMDV_bund', 'Wissing', 'ardmoma', 'HolzheuStefan', 'GenussTeam', 'frankfeil', 'EnBW', 'Plugsurfing', 'AnderlLechner', 'EnBW', 'ecomento_de', 'Gerundyya', 'BR24', 'bauchhaus', 'teilAuto', 'Thomas_Lambeck', 'M_Hundhausen', 'jstrehmann', 'Wissing', 'weingartenm', 'fdp', 'ruelke', 'Wissing', 'AnkePlaettner', 'ardmoma', 'BMDV_bund', 'Thomie_ch', 'gwendolan1', 'Wissing', 'AnkePlaettner', 'ardmoma', 'BMDV_bund', 'Wissing', 'Leo_Proettel', 'M_Hundhausen', 'eozwei', 'stang2k', 'EnBW', 'christianswelt', 'Stefan_Hajek', 'ard', 'Wissing', 'AnkePlaettner', 'ardmoma', 'BMDV_bund', 'Asprintio', 'TW_Ploetz', 'GruneLiebe', 'tagesschau', 'nextmove_de', 'RheinEnergie', 'sebastianb1987', 'Beschfl', 'ecomento_de', 'pawu76', 'ThorstenRinne', 'EcotapBV', 'wemag_ag', 'ThorstenRinne', 'EcotapBV', 'wemag_ag', 'Mingiam10', 'EnBW', 'derspiegel', 'RueeggThurgau', 'Juerg_Grossen', 'pvmagazine_de', 'glpTG', 'grunliberale', 'tagblatt_ch', 'agentsinaction', 'DerNamenvolle', 'quotlix', 'DerNamenvolle', 'quotlix', 'pfeisi', 'WPasch2', 'chrismarquardt', 'StromschlagYT', 'RheinEnergie', 'MineCooky', 'ADAC', 'OEAMTC', 'BeiAnja', 'BeiAnja', 'GuntherRuther', 'Mama_arbeitet', 'thestanceman1', 'WAZ_Redaktion', 'ARD_BaB', 'Ricarda_Lang', 'Europarl_EN', 'EU_Commission', 'Italia_deu', 'dragi_mario', 'Dkeeper78', 'DasNordlicht', 'ennolenze', 'AndreUnikat', 'tagesschau', 'sternde', 'elektromobilist', 'alpitronic', 'RainerCMent1', 'IngoBehne', 'KlausWiener', 'chris_thirst', 'IngoBehne', 'KlausWiener', 'RainerCMent1', 'IngoBehne', 'KlausWiener', 'RwRednuloh', 'derGerfried', 'alder_sachse', 'KlausWiener', 'chris_thirst', 'IngoBehne', 'KlausWiener', 'tagesschau', 'Nicoleopter', '46nadi', 'MschFr', 'tbachner', 'MietTesla', 'T1llth44nd', 'Florent1163', 'WolfgangLhdt', 'KlausWiener', 'twittlik', 'wonderer9', 'DieroteZora3', 'KlausWiener', 'polarstern64', 'SchmiddieMaik', 'alex_avoigt', 'meiomeiey', 'ZDFheute', 'VDS_weltweit', 'Rabowohl3003', 'drumheadberlin', 'BILD', 'CptKrustenkaese', 'SteveundJulian', 'the6big6', 'stang2k', 'cihansugur', 'stadtdortmund', 'dew21', 'StadtwerkeDO', 'cihansugur', 'StawagAachen', 'stadtregensburg', 'marco_knubel', 'prinzessinrena', 'cmenschel', 'CMDRArchadder', 'thestanceman1', 'FabianLaasch', 'woelpke', 'technikjuli', 'turkishmaid', 'Schulziboy', 'thestanceman1', 'FabianLaasch', 'woelpke', 'technikjuli', 'turkishmaid', 'CMDRArchadder', 'thestanceman1', 'FabianLaasch', 'woelpke', 'technikjuli', 'turkishmaid', 'CMDRArchadder', 'thestanceman1', 'FabianLaasch', 'woelpke', 'technikjuli', 'turkishmaid', 'SandraSchobel', 'DrHallinger_vet', 'Minatrixx', 'Angelika55R', 'DrHallinger_vet', 'Minatrixx', 'Angelika55R', 'DrHallinger_vet', 'Minatrixx', 'PeterPfaffinge1', 'focusonline', 'CnEVPost', 'edison__yu', 'NIODeutschland', 'nextmove_de', 'Labonitamascota', 'oliverschwuchow', 'Gaymer_02', 'MikayKpk', 'Chill_LP', 'ampericus', 'Frau_Lange', 'littlewisehen', 'thepumpapp', 'EnBW', 'RoHeinrich', 'ABaerbock', 'wdwarncke', 'zeitonline', 'kkklawitter', 'TilmanWinkler', 'Hamburg397', 'vwmanufaktur_de', 'Schulzki15', 'AxelKamann', 'Wissing', 'Wissing', 'ThorstenRinne', 'HerrRain', 'thepumpapp', 'Lvt', 'radkolumne', 'MSeitl', 'RainerReelfs', 'DatAndre_de', 'Axlban', 'VeroWendland', 'FabianLaasch', 'MSeitl', 'RainerReelfs', 'DatAndre_de', 'Axlban', 'VeroWendland', 'autotestsonline', 'Mingiam10', 'eozwei', 'janusPrime', 'Mingiam10', 'eozwei', 'dandy_beau', 'Mingiam10', 'eozwei', 'MenzelZEL', 'handelsblatt', 'smart_worldwide', 'GernotDreher', 'Aelv12', 'KielerAktionaer', 'janusPrime', 'CMDRArchadder', 'SchaferCorinna', 'roberto_blanko', 'augusdom', 'HalleVerkehrt', 'JVos63', 'EvaStegen', 'Mikeschova', 'kkklawitter', 'Mingiam10', 'eozwei', 'GoOertel', 'timohetzel', 'vieleckufo', 'oliverschwuchow', 'k1llh4wk3', 'Mingiam10', 'eozwei', 'ein_kleines_z', 'phoerious', 'kkklawitter', 'palura_panda', 'Leo_Proettel', 'kkklawitter', 'Fabulous_Filou', 'kkklawitter', 'wathzmann', 'VeloWiki', 'oliverschwuchow', 'teqqyde', 'Leo_Proettel', 'Leo_Proettel', 'kkklawitter', 'oliverschwuchow', 'teqqyde', 'KurtHuwig', 'Herbert_Diess', 'GELSENWASSER_AG', 'Manuel19734', 'golem', '_MaxDev_', 'OpelDE', 'OpelDE', 'kkklawitter', 'kkklawitter', 'GeorgKonjovic', 'kkklawitter', 'Johannes0105', 'kkklawitter', 'kkklawitter', 'kkklawitter', 'kkklawitter', 'Saendralein', 'rwolupo', 'Christi59380123', 'tagesschau', 'tagesschau', 'tagesschau', 'morgenmicha', 'chrisloSPB', 'lr_online', 'marvin_wank', 'BleuEnzian', 'Labonitamascota', 'emmiweberwebde1', 'Labonitamascota', 'Labonitamascota', 'emmiweberwebde1', 'VWGroup', 'IONITY_EU', 'derfinsterling', '4linblue1', 'Judith__Sauer', 'derya_tn', 'stang2k', 'Pfalzwerke', 'Hornbach_tweets', 'roberto_blanko', 'eCaroos', 'stekkerauto', 'thestanceman1', 'janusPrime', 'FabianLaasch', 'Hagen', 'Elektro_Robin', 'marcspecht', 'Stefan_Hajek', 'Pfantomaus', 'AndreasMemmer', 'anwaltsgelaber', 'stekkerauto', 'MarcTV', 'DC4DD', 'BMWi_Bund', 'Telekom_hilft', 'MOIAmobility', 'HerrSievers', 'zeitonline', 'wdwarncke', 'zeitonline', 'kkklawitter', 'TilmanWinkler', '_mtiemann', 'BenGehrs', 'Hamburg397', 'olewin', 'Timotion', 'Grownz', 'SpaceX', 'radkolumne', 'r3vilo153', 'Sasa63957285', 'ecomento_de', 'popupanna', 'GenerationStrom', 'araldeutschland', 'nahlinse', 'KroegerOve', 'MarMas90', 'EnBW', 'ecomento_de', 'Hamburg397', 'Hagen', 'technikjuli', 'GerdKebschull', 'PeacefulRevolu4', 'teslawelt', 'TeslaOwnersDEU', 'TeslaSchweiz', 'teslamag', 'Elektro_Robin', 'electrodocs', 'Mingiam10', 'ModelX2016', 'Stefan_Hajek', 'StephanEwald', 'GrimmVeronika', 'Berndte3', 'cooliopenguin', 'Hagen', 'Hamburg397', 'technikjuli', 'GerdKebschull', 'PeacefulRevolu4', 'teslawelt', 'TeslaOwnersDEU', 'TeslaSchweiz', 'teslamag', 'Elektro_Robin', 'electrodocs', 'Mingiam10', 'ModelX2016', 'Stefan_Hajek', 'ecomento_de', 'N_Schmid', 'janusPrime', 'N_Schmid', 'tuxie01', 'CptKrustenkaese', 'leyrer', 'wholzgruber', 'GillyBerlin', '_holger', 'bnSonic', 'bnSonic', 'BR24?', 'DEmobil2030', 'StromschlagYT', 'christel__mett', 'jsch_juergen', 'Jane_Banane__', 'YeOne_Rhie', 'faznet', 'StromschlagYT', 'kkklawitter', 'woproschalek', 'Jane_Banane__', 'jimraynor99', 'inpector', 'PrinnyTonic', 'kkklawitter', 'kkklawitter', 'KC__DC', 'kremkau', 'CFLE79', 'tagesschau', 'Hagen', 'Wissing', 'stang2k', 'jfkr_', 'Surfin_Bird', 'lennartwermke', 'm_stoer', 'NIODeutschland', '___AveN___', 'SilleVom', 'kkklawitter', 'alwayssimifuzi', 'stang2k', 'LavendelLab', 'EnBW', 'nextmove_de', 'KroegerOve', 'electricfelix', 'eam_magazin', 'elektrobays', 'EarlyTwix', 'SilleVom', 'kkklawitter', '___AveN___', 'SilleVom', 'kkklawitter', 'EarlyTwix', 'SilleVom', 'kkklawitter', 'alwayssimifuzi', 'MineCooky', 'MMdel2', 'energy_charts_d', 'stang2k', 'stang2k', 'EnBW', 'Elektro_Robin', 'Elektro_Robin', 'Felix_Kreller', 'kramkr', 'gigold', 'AudiOfficial', 'real_mos', 'real_mos', 'oqueck', 'cihansugur', 'Helge_Ruff', 'therealmanuel1', 'BR24', 'ntvde', 'Elektro_Robin', 'kkklawitter', 'EnBW!', 'StadtRE', 'kkklawitter', 'RolandSchueren', 'Stefan_Hajek', 'Elektro_Robin', 'moellerdav', 'skodade', 'ArnoGottschalk', 'jenseckhoff', 'CDUBremen', 'EnBW', 'larswichert', 'SubNat69', 'image_werkstatt', 'frankfeil', 'araldeutschland', 'DIEZEIT', 'janboehm', 'sepp_reitberger', '0xPIT', 'janboehm', 'janboehm', 'kungler', 'EnBW', 'janboehm', 'goloroden', 'squirrelpics1', 'wzwuppertal', 'LeonidLezner', 'mnowak_wob', 'Elektro_Robin', 'TritiumCharging', 'WinneHermann', 'mnowak_wob', 'Elektro_Robin', 'pwalowski', 'Hagen', 'Schwunkvoll', 'Hyundai_DE', 'footballaustria', 'Rrehtla1', 'jonno_3', 'minimarie12', 'VengeanceDE', 'EON_de', 'Vattenfall_De', 'EnBW', 'Ben_Bombadil', 'Lil03272514', 'vzbv', 'Klaus_Mueller', 'HeinerMe', 'DerGraslutscher', 'HoelleSaale', 'vertikalspezial', 'nextstepmobil', 'blackboxpost2', 'scherzmut', 'jonasfranzDE', 'XXmomy79XX', 'baldy_daniel', 'BMDV_bund', 'Wissing', 'morgenmagazin', 'planwerk', 'ranke09', 'changierend', 'audio_phil_e', 'Ozz_EU', 'SophieLampl', 'Stadt_Wien', 'BgmLudwig', 'GreenpeaceAT', 'SystemChangeAT', 'XRebellionAT', 'ViennaForFuture', 'HirschstettenR', 'freiburg', 'SerkMaster87', 'RF70469', 'BalkanJames', 'wobe', 'DerGraslutscher', 'WDR', 'HolgerSmmer1', 'DerGraslutscher', 'WDR', 'MapleLe03774417', 'cymba_de', 'Johannes0105', 'kkklawitter', 'Hagen', 'djbeetee', 'tanquartEMN', 'HolgerSmmer1', 'DerGraslutscher', 'WDR', 'PiaPanda96', 'ZDFheute', 'NewHyperion', 'Fastned', 'EnBW', 'EnBW', 'HaraldLinden', 'EiDee6', 'EinerAusUlm', 'Stefan_Hajek', 'morgenmagazin', 'Wissing', 'RolandSchueren', 'Tesla', 'Fastned', 'GEPAFairTrade', 'INFARM_Global', '_MartinNeumann', 'Elektro_Robin', 'Koga28385770', 'Absurdistan2020', 'tagesschau', 'TheRealKown', 'larsweisbrod', 'steffen_hoeg', 'ZDFheute', 'micha_bloss', 'TomFragt', 'mpaege', 'Hr_Dingsbums', 'Mom_and_Paul', 'gerechtGericht', 'DariaDreyer', 'UBaganz', 'Georg_Pazderski', 'Elektro_Robin', 'DoppelDu', 'mpaege', 'Hr_Dingsbums', 'Mom_and_Paul', 'gerechtGericht', 'goloroden', 'Tesla', 'tesla', 'araldeutschland.', 'Incog_Nitro', 'AktienTraum', 'Schneeridara', 'Moerderentchen', 'tagesschau', 'deutschetelekom', 'tagesschau', 'SubNat69', 'das_Menschy', 'BHNNKMP', 'mpaege', 'TomFragt', 'Hr_Dingsbums', 'Mom_and_Paul', 'gerechtGericht', 'Jakob00289791', 'tagesschau', 'dieBasisHD', 'tagesschau', 'tagesschau', 'tungsten1972', 'SRausW', 'Georg_Pazderski', 'FlorianBrandau', 'Kia', 'Elektro_Robin', 'eam_magazin', 'nextmove_de', 'AutoStromer', 'eautonews', 'ADAC', 'focusauto', 'automotorsport', 'M_Hundhausen', 'stefnhs', 'SRausW', 'Georg_Pazderski', 'Black_cat_aiko', 'FabianLaasch', 'martineberle', 'Elektro_Robin', 'stang2k', 'TimSchmuckall', 'querdenker', 'moser701', 'Franker85654856', 'Georg_Pazderski', 'EKliesspies', 'steindfr', 'lgewessler', 'Giefers', 'MDradelt', 'Sicherheits_Ing', 'ADFC_MD', 'EinRobert1', 'OttosRadwege', 'SWM_Magdeburg', 'Ottostadt', 'Ottostadt', 'SWM_Magdeburg', 'gerechtGericht', 'mpaege', 'HumanKoala', 'Till1337420', 'Franker85654856', 'Georg_Pazderski', 'GNUmatic', 'stang2k', 'GNUmatic', 'stang2k', 'LeonidLezner', 'SWM_Muenchen', 'audiodump_de', 'LageNation', 'Derbe_obachter', 'stagerbn', 'ijc24', 'ABaerbock', 'chri_gru', 'bundeswehrInfo', 'AndreasMemmer', '_thewombat_', 'Touni', 'retolipp', 'egovcomde', 'GerdKebschull', 'Ford_de', 'ford_machE', 'FordMustang', 'FordEu', 'Elektro_Robin', 'elektrokarre', 'electrodocs', 'electricfelix', 'technikblog_ch', 'Stefan_Hajek', 'Mingiam10', 'kkklawitter', 'ModelX2016', 'DudenhofferAUTO', 'xschtief', 'muenchen', 'PolizeiMuenchen', '_Kittypunk', 'EnBW', 'rwinkelmann', 'EON_de', 'TorbenSchultz', 'nbg__1', 'nextmove_de', 'Mark_O_Private', 'KarstenLimberg', 'GrueneXhain', 'zoller_marco', 'ci_ca_maca', 'RheinEnergie', 'StromschlagYT', 'extra3.', 'Leon_Euler', 'BalzHerter', 'wattweissich', 'QX3Z_', 'nextmove_de', 'RadlerInWI', 'TadGreen5', 'kkklawitter', 'raulde', 'ZDF', 'ninanoblee', 'gruene_wi', 'RheinEnergie!', 'u_w_photography', 'henningning', 'BerlinGestalter', 'mairpeda', 'Nikolaus117', 'Standke_K', 'tagesschau', 'Nikolaus117', 'Standke_K', 'tagesschau', 'tagesschau', 'marvinschuth', 'SteffiLemke', 'EinRobert1', 'Sicherheits_Ing', 'corwin42', 'BadBoy39649948', 'welt', 'hrmnn01', 'herr_sin', 'Juergen_Kaiser', 'Hagen', 'EnBW', 'stang2k', 'Siekinho', '_MaxDev_', '_MaxDev_', 'enbw', 'enbw', 'Stromnetz_HH', 'anjes_tjarks', 'Berndte3', 'nextmove_de', 'LViehler', 'zinnebob', 'Leo_Proettel', '_noujoum', 'stang2k', 'KC__DC', 'RainerCMent1', 'DerMellitz', 'Eddy_Bernayz', 'LazyPears', 'c_schwarzer', 'Tesla', 'DerDiddie', 'RobsMeinung', 'WienEnergie', 'teslamaniacs', 'raffaeru', 'LazyPears', 'c_schwarzer', 'Tesla', 'sepp_reitberger', 'c_schwarzer', 'Tesla', 'kaufland', 'alwayssimifuzi', 'VDA_online', 'Stadt_Wolfsburg', 'Ingolstadt_IN', 'Stadt_Passau', 'BA_Xhain', 'Felix_Weisbrich:', 'TramFauli', 'dirkvoges:', 'schlabonski', 'MoBurkhardt', 'Balzac2m', 'Stefan_Hajek', 'alphadelta44', 'Knarf_Sier', 'DerClue', 'ChristophBauer', 'Elektro_Robin', 'SchwanderMurphy', 'Perowinger94', 'JohannGruen', 'Stefan_Hajek', 'planwerk', 'Knarf_Sier', 'DerClue', 'Elektro_Robin', 'ChristophBauer', 'Elektro_Robin', 'Stefan_Hajek', 'Helge', 'chorherr', 'ChristianPogea', 'MarxRudiger', 'PolizeiMuenchen', 'Polizei_MH', 'dempawels', 'thinks_about_it', 'HVolquardsen', 'DonDahlmann', 'kkklawitter', 'ChaWiBiker', 'janusPrime', 'gyroskonto', 'Azetbur', 'stang2k', 'frankfeil', 't3n', 'Porsche', 'CMDRArchadder', 'Dunkelfluegel', 'OnkelFester', 'bundesalex', 'AxsSierab5', 'DrPuerner', 'CMDRArchadder', 'OnkelFester', 'cdm231l', 'bundesalex', 'AxsSierab5', 'DrPuerner', 'CMDRArchadder', 'cdm231l', 'bundesalex', 'AxsSierab5', 'DrPuerner', 'CMDRArchadder', 'cdm231l', 'bundesalex', 'AxsSierab5', 'DrPuerner', 'kroschel', 'LouCipher5', 'Stink_Stiefel_1', 'Doc_57', 'RealDonDenito', 'Berndte3', 'OliverHuttinger', 'VQuaschning', 'fdp', 'Wissing', 'olaf_brandt', 'jabwee', 'Jopolkadot', 'yooHannes', 'SsamanMardi', 'wattbewerb', 'M_Hundhausen', 'Stromnetz_HH', 'EnBW', 'MartinDoubleU', 'Kachelmann', 'M_Hundhausen', 'CptKrustenkaese', 'CptKrustenkaese', 'CptKrustenkaese', 'MineCooky', 'AndreasMemmer', 'TRdel', 'lociii', 'dkohler86', 'Pasixx', 'HHumorlos', 'anoniom1', 'twiag1985', 'NKaetzler', 'HrDingsMitHund', 'Marius_Raabe', 'Marius_Raabe', 'lelei', 'Georg_Pazderski', 'FietesPapa', 'elemob_de', 'kkklawitter', 'AndreasMemmer', 'TRdel', 'JuleStinkesocke', 'SonoMotors', 'JuleStinkesocke', 'T_reck_s', 'matthias_sh', 'olewin', 'achojo', 'fdp', 'JuleStinkesocke', 'BMVI', 'Stadt_BS', 'barbaragerlach', 'ronaan', 'JuleStinkesocke', 'ahoernchen_1', 'SilentBob_G', 'UEF2000', 'marsroth', 'airfoxtwo', 'Schwunkvoll', 'Benzingeruch', 'kaufland...', 'Gert_Woellmann', 'OpelDE', 'Klima_Mahner', 'kkklawitter', 'FischwaffeI', 'Ascendor', 'kkklawitter', 'WHKT4', 'HendrikWuest', 'MAGS_NRW', 'Kurt_Skacken', 'SPeitsch', 'marenkahnert', 'joergstb?', 'AnneserF', 'radkolumne', 'radkolumne', 'kkklawitter', 'fresh102', 'kkklawitter', 'biomotor', 'daovertheclouds', 'chriss_12__', 'olewin', 'PBroytman', 'jakbaum', 'gruenemitte', 'Eerouge', 'becker_meister', 'Googolplex1', 'daovertheclouds', 'chriss_12__', 'EnBW', 'DerInspector', 'MarcusFuhrmann1', 'Toyota_DE', 'WegfreiD', 'SPDbenzin', 'fdp', 'parents4future', 'FFF_Berlin', 'MehrAuto', 'autofreiberlin', 'VBerlinautofrei', 'CCitiesOrg', 'KlimalisteB', 'NicolasSustr', 'HalleVerkehrt', 'Kunkeline', 'cooliopenguin', 'MercedesBenz', 'dergorg', 'DJanecek', 'Bayernwerk', 'Tstormwitch', 'Alex_Law_1', 'markusdd5', 'MarcusFuhrmann1', '1_punch_mickey', 'Storch_i', 'AstroSven', 'CoalDead', 'Naturschuetzen', 'Sam_Liban', 'Pfalzwerke', 'LabuschMarkus', 'danieldjan87', 'dernero3', 'Lenny_du_Nord', 'schienenstrang', 'Herrndorf', 'best_benjamin', 'schwurbelius', 'Herbert_Diess', 'TankundRast', 'EON_de', 'felixsschulz', 'Obertshausen', 'MaingauEnergie,', 'tagesschau', 'northkap', 'EnBW', 'EnBW', 'Opa_Homie', 'Stvedie', 'ASUE_eV', 'cng_club', 'transenv', 'FVBiogas', 'Gruene_Europa', 'schulzeeuropa', 'IGMetall', 'TimmermansEU', 'JochenFlasbarth', 'eFuel_Alliance', 'elonmuskssohn', 'BMWDeutschland', 'krmbltn', 'BjBerry00', 'EnBW', 'Elektro_Robin', 'Stefan_Hajek', 'Schwunkvoll', 'stang2k', 'Hamburg397', 'sepp_reitberger', 'ThorstenRinne', 'stang2k', 'Elektro_Robin', 'Hagen', 'HerrRain', 'HolgerWolff3', 'HerrRain', 'aow_de', 'ThorstenRinne', 'stang2k', 'Elektro_Robin', 'Hagen', 'HolgerWolff3', 'ModelX2016', 'ElectriveNet', 'jochenknecht', 'stang2k', 'Stefan_Hajek', '_the_guitarman_', 'GernotDreher', 'M_Hundhausen', 'stang2k', 'frankfeil', 'CaptainTesla3', 'MartinFehringe3', 'Juergen_Kaiser', 'MartinFehringe3', 'ArminWolf', 'NusserChristian', 'ProfRieck', 'Frentzhart2', 'AWunderhund', 'TankundRast', 'EON_de', 'danielefrijia', 'ThomasMichels15', 'StadtMuenchen', 'StadtMuenchen.', 'StadtMuenchen', 'Gurpitscheck1', 'MartinFehringe3', 'Mira89299590', 'DieDingsi', 'IVECO:', 'news_nowgmbh', 'ToniHofreiter', 'CornelisStef', 'daniel_rieger', 'UrsMaier', 'cem_oezdemir', 'sepp_reitberger', 'Wolfgang_42', 'Stefan_Hajek', 'MichaelAntonF', 'ProfRieck', 'ProfRieck', 'HRehburg', 'Pixelaffe', 'Koreh', 'Schwetzingen', 'Aufziehvogel_LE', 'kaufland', 'ralfgoesswein', 'OBehindertenrat', 'BMAS_Bund', 'DBSV', 'vzbv', 'IONITY_EU', 'SocksQueen', 'freizeitgraf', 'drbrandner', 'Partisani5', '_donalphonso', '_donalphonso', '_donalphonso', 'helmi', 'TinleMar', 'Elektro_Robin', 'Green_Kactus', 'Touni', 'arztvongniere', 'Landkreis_Leer', 'EWE_AG', 'StadtCuxhaven', 'keineantwort', 'frankfeil', 'AudiOfficial', 'IONITY_EU', 'Codeopi', 'KroegerOve', 'MechScene', 'maggos_for_Teen', 'TristanVeith', 'polizeiberlin', 'IONITY_EU', 'FrankSeverin5', 'Elektro_Robin', 'dschnaepp', 'stang2k', 'EnBW', 'abbdeutschland', 'hagebauDe', 'alwayssimifuzi', 'stang2k', 'EnBW', 'abbdeutschland', 'hagebauDe', 'ABBelec', 'vwsachsen_de', 'vwmanufaktur_de', 'Herbert_Diess', 'stang2k', 'EnBW', 'abbdeutschland', 'hagebauDe', 'StefanHeimlich', 'ThorstenRinne', 'M_Hundhausen', 'Arne_Timm_1', 'ElectrifyBW', 'MikiMaur', 'technikjuli', 'technikjuli', 'Shell_Germany', 'GiselaSengl', 'Einzigartiger', 'EnHiNET', 'Azetbur', 'EnHiNET', 'soesch', 'holimuk', 'ITFinanzmagazin', 'ADFC_MD', 'Sicherheits_Ing', 'fahrradmensch', 'Ottostadt', 'pasple', 'Thomie_ch', 'kanton_bern', 'bolli3097', 'kanton_bern', 'kanton_bern,', 'svenkubiak', 'ChBoelling', 'TMuellerDouglas', 'CatKrapp', 'Tesla', 'janboehm', 'coronawarnapp', 'Elektro_Robin', 'PureLove3103', 'MyMissMM', 'MarkusD_Hessen', 'Strom_Im_Tank', 'Zefiiel', 'doppelgrau', 'MarcSchrewe', 'ah_eurocitizien', 'enercity', 'anna_p_neumann', 'JungeLiberale', 'anna_p_neumann', 'lea_schoeneich', 'trollpunk69', 'DiHeler', 'einfachnurZwerg', 'Darkfloppy1', 'AnnemarieBotzki', 'OlafScholz', 'Elwood091', 'Hagen', 'AHildebrandt70', 'larsReimann2', 'Hagen', 'kkklawitter', 'SebCzaja', 'Zefiiel', 'doppelgrau', 'pschay', 'JerioxB', 'stadt_dresden', 'LarsLaussat', 'Storch_i', 'Varanasi_swiss', 'civey_de', 'Tagesspiegel', 'JuttaMaier', 'TspCheckpoint', 'TspBerlin', 'TspBackgroundDi', 'VCDeV', 'CCitiesOrg', 'Strassen_f_alle', 'VBerlinautofrei', 'ADFC_Berlin', 'quotentoter', 'zeitonline', 'wdwarncke', 'Shell_Germany', 'Shell_Germany', 'FloKo03399087', 'CMDRArchadder', 'BearingPoint_de', 'plaetzchen', 'Zefiiel', 'doppelgrau', 'GEELUBEBErs', 'egghat', 'stang2k', 'araldeutschland', 'skodade', 'Martin87325975', 'kistler_max', 'MarcoBuschmann', 'UJF_tweet', 'MercedesBenz_DE', 'TeslaOwnersDEU', 'kistler_max', 'MarcoBuschmann', 'Insanus_Ultor', 'TUDarmstadt', 'badidol', 'welt', 'michl_albrt', 'MarcoBuschmann', 'MieuletCleo', 'michael_zill', 'DAS_OSSI', '1_punch_mickey', 'ADAC', 'griefahn', 'eFuel_Alliance', 'en2x_eV', 'BMVI', 'anna_cavazzini', 'Europarl_DE', 'c_schwarzer', 'OpelDE', 'RheinEnergie', 'Koeln', 'VikingRohan', 'YouTube', 'energieheute', 'InfluenceMap', 'uplumtree1', 'TomFragt', 'Reihner_pop', 'thestanceman1', 'Mingiam10', 'meisterlind', 'chrismeissner', 'Einzigartiger', 'teilAuto', 'uplumtree1', 'TomFragt', 'Reihner_pop', 'thestanceman1', 'ZDFheute', 'gre0j', 'meisterlind', 'rasenspiesser', 'ADAC', 'Anja_E_DUS', 'marcoIsantos', 'Akkufuchs', 'meisterlind', 'gre0j', 'YouTube', 'stefan_pandur', 'UniklinikDUS', 'antenne', 'bjoernziemen', 'Baeumleschule', 'kkklawitter', 'VQuaschning', 'VWGroup_DE', 'Herbert_Diess', 'Elektro_Robin', 'DerZWERG159', 'kaschewi', 'ForchheimNord', 'Scharni', 'the_mysirius', 'chepONx83', 'fabiandoehla', 'Kachelmann', 'TPSchop', 'AEWEnergieAG', 'next_e', 'chri_gru', 'kkklawitter', 'CITROEN_DE', 'polizei_nrw_me', '_profane', 'tagesschau', 'tagesschau', 'micha_bloss', 'BMW-Chef', 'greencray', 'tff_germany', 'Ozz_EU', 'nextmove_de', 'StadtOsnabrueck', 'ElektrischST', 'i_Peter', 'Juergen_Leicht', 'SixtDE', 'SilvaAtTwitta', 'BinoLPG', 'polizeiNB', 'frankfeil', 'janusPrime', 'martineberle', 'Mingiam10', 'JensHerforth', 'EnBW', 'REWE_Supermarkt', 'stang2k', 'radpropaganda', 'Bettina_Jarasch', 'SenSWBerlin', 'Pixelaffe', 'opendataswiss', 'saochsner', 'REWE_Supermarkt', 'Hamburg397', 'WandNoah', 'SonoMotors', 'Hamburg397', 'EnBW', 'NetzeBW.', 'keksznet', 'Hornschild', 'real_mos', 'regnerischerTag', 'tomasfreres', 'E_WALD_GmbH', 'araldeutschland', 'Mingiam10', 'EnBW', 'Serverkrasch', 'stang2k', 'Hamburg397', 'LenzGrimmer', 'BerndBandekow', 'emobly', 'E_WALD_GmbH', 'LenzGrimmer', 'Hamburg397', 'Serverkrasch', 'kkklawitter', 'tschelle', 'Hamburg397', 'ShareNow_global', 'ShareNow_global', 'gerritvanaaken', 'emobly', 'StromschlagYT', 'chris_schorbach', 'EnBW', 'Elektro_Robin', 'chris_schorbach', 'EnBW', 'stang2k', 'Elektro_Robin', 'disco30003', 'Elektro_Robin', 'kkklawitter', 'WilfriedGlaube2', 'ichbinschoener', 'jdoeschner', 'BigRudolph', 'Dranske1', 'ThomasM56680703', 'M_Ostermann', 'Hockerrocker80', 'Dranske1', 'ThomasM56680703', 'M_Ostermann', 'BigRudolph', 'Dranske1', 'ThomasM56680703', 'M_Ostermann', 'Alexandra1905', 'JLengenfelder', 'der_kuckuck', 'EWS_Schoenau', 'HaraldLesch', 'SixtDE', 'SWM_Muenchen', 'PolizeiMuenchen', 'der_veganer', 'Porsche', 'TouchBenny', 'thestanceman1', 'demderdawohnt', 'eautonews', 'bennimuhammedi', 'stimmeonline', 'MasseyFriend', 'EWS_Schoenau', 'HaraldLesch', 'Porsche', 'FelixHeine', 'FlowinBeatz', 'alterfrizz', 'ergroovt', 'wiebkewinter', 'carla_reemtsma', 'cgeier2', 'SchaferCorinna', 'cihansugur', 'MasseyFriend', 'EWS_Schoenau', 'HaraldLesch', 'Elektro_Robin', 'ExtremJulius', 'hansNeumann99', 'tagesschau', 'Hr_Dingsbums', 'ugly_but_rich', 'welt', 'GeorgKonjovic', 'rschoeni', 'Elektro_Robin', 'MercedesBenz_DE', 'MarieDMeier', 'CMDRArchadder', 'M_Ostermann', 'PeterMagulski', 'KatiLeeCore', 'bennimuhammedi', 'OseloHH', 'KatiLeeCore', 'EnBW', 'elektrokarre', 'PolestarCars', 'Elektro_Robin', 'electrodocs', 'AutoStromer', 'Stefan_Hajek', 'Hamburg397', 'technikblog_ch', 'saimen54', 'Alaba00', 'StromschlagYT', 'twittlik', 'SZ_Politik', 'Elektro_Robin', '9Lukas5', '3811015', 'mrcockpit', 'Margug', 'WernerderChamp', 'florianaigner', 'Elektro_Robin', 'dew21', 'Febrazink', 'Stefan_Hajek', 'georg_renner', 'stadtregensburg', 'OTH_Regensburg', 'AudiOfficial?', 'Schanuf', 'secuninja', 'HonkHase', 'SchaaTahar', 'HonkHase', 'FrauKefke', 'knappi_l', 'hp1verweigerer', 'bawarianpower', 'TomMue3', 'Jazzmaniac3', 'Hoellenaufsicht', 'JordanGriz95', 'emotiontouch', 'ChristineHernt1', 'bawarianpower', 'TomMue3', 'Blue1337Blood@chaos.social', 'benediktg5', 'planwerk', 'Elektro_Robin', 'lklundin', 'Elektro_Robin', 'TeslaClubAT', 'stadtregensburg', 'OTH_Regensburg', 'derjakobeg', 'Lasse_2006', 'TibaStefan1', 'Elektro_Robin', 'napoli_cirillo', 'sofa_review', 'muskpiration', 'nextmove_de', 'ProfRieck', 'nomisum', 'e2dot7182818284', 'mark_markimark', 'MLiebreich', 'MainovaAG', 'FrankfurtUAS', 'mainova', 'al_x_mq', 'olschok', 'EnBW', 'olschok', 'RealLordCarbon', 'Elektro_Robin', 'teslamaniacs', 'Niklas_1E', 'FabianLaasch', '_tho_', 'the_infinity', 'sepp_reitberger', 'bovenkamptim', 'nextmove_de', 'Lasse_2006', 'Elektro_Robin', 'klauskrefeld', 'JT_MG', 'innogy_emob', 'wolpertinger42', 'ElectriveNet', 'bbhermann', 'cihansugur', 'Elektro_Robin', 'AtzlerHeidi', 'kkklawitter', 'Elektro_Robin', 'tschelle', 'technikblog_ch', 'i_am_fabs', 'technikblog_ch', 'JoachimAmann', 'solarpapst', 'frischfuettern', 'Frances8451', 'docugraf', 'RealRusty', 'elektrokarre', '_Bluumi_', 'CptKrustenkaese', 'real_mos', 'StromschlagYT', 'Porsche', 'DerGraslutscher', 'Elektro_Robin', '_richtig_falsch', 'frischfuettern', 'docugraf', 'RealRusty', 'elektrokarre', 'shiller79', 'Frau_Sturmflut', 'luckycat12', 'Frau_Sturmflut', 'luckycat12', 'AllegoCharging,', 'janusPrime', 'Elektro_Robin', 'GillyBerlin', 'locked', 'frankfeil', 'CMDRArchadder', 'NDRsh', 'RegierungBW', 'derspiegel', 'Paulalelu', 'HalleVerkehrt', 'tre_bol', 'janusPrime', 'Elektro_Robin', 'MauriceHoefgen', 'agowa338', 'derspiegel', 'agowa338', 'derspiegel', 'derspiegel', 'derspiegel', 'janusPrime', 'Elektro_Robin', 'Evo2Me', 'metalsnusfreak', 'Klima_Mahner', 'derspiegel', 'dieLinkeJonny', 'DrRealitat', 'Chemguy2_0', 'ChristophHorst3', 'MrsLiberalina', 'DrRealitat', 'B5perl', 'ChristophHorst3', 'MrsLiberalina', 'Giefers', 'SWM_Magdeburg', 'Ottostadt', 'volksstimme_md', 'MrsLiberalina', 'deralte_hase', 'DeRadar', 'dubbe92', 'KWKL10', 'Tom84White', 'KWKL10', 'KenzoVandagg', 'IvanHajduk10', 'keineah83803444', 'Nikolaus_Torun', 'ErikMarquardt', 'ulfposh', 'maithi_nk', 'ZDFneo', 'tomalo_de', 'mystayabroad', 'groemuc', 'ADFC_MD', 'LeSpocky', 'wathzmann', '3_mann', 'Deal2Happy', 'PaulaHesele', 'MarcMath5', 'typneun', 'JochenH_14', '0xa0000', '3_mann', '4x01071', 'nocberry', 'Ottostadt', 'SWM_Magdeburg', 'Ottostadt', 'volksstimme_md', 'Aludnew', 'ABSV_Berlin', 'AllegoCharging,', 'polizeiberlin', 'sepp_reitberger', 'sepp_reitberger', 'sepp_reitberger', 'SimonHartmut', 'HenrietteReker', 'Elektro_Robin', 'tealowkay', 'Hawk40000', 'sternde', 'ZDFheute', 'RegineGuenther', 'TouchBenny', 'netfeder', 'Thomas_Neisius', 'olschok', 'TouchBenny', 'TouchBenny', 'araldeutschland', 'Finstar16', 'DrpdrN', 'elemob_de', 'LenzGrimmer', 'leumund', 'technikjuli', 'WN_Redaktion', 'sepp_reitberger', 'leumund', 'technikjuli', 'sbrinkmann', 'frankfeil', 'L_B_R_1', 'RubenKelevra', 'nextstepmobil', 'Nik_png', 'kkklawitter', 'DLF', 'sepp_reitberger', 'leumund', 'hajoschumacher', 'Kai_Wehnemann', 'MDradelt', 'ADFC_MD', 'Radkultur_MD', 'M_Hundhausen', 'schaufeltrage', 'golem', 'pirandot', 'jxn_simp', 'FSommerlich', 'nikitheblogger', 'ABaerbock', 'dens_r_d', 'JonathanRaschke', 'PolyIntox', 'Genaro19986', 'PolyIntox', 'jxn_simp', 'OlafScholz', 'WucherSebastian', 'ErikTheViking18', 'jeff_ironheart', 'montibeiton', 'derGerfried', 'M_Hundhausen', 'UniFAU', 'Hornegger', 'Baloo24', 'Behindt93065949', 'UniFAU.', 'Behindt93065949', 'bsmail35', 'RiceBlues', 'leinad_luelp', 'klubbing2000', 'aktienmessie', 'wingedneko', 'Harzman6', 'Klickmichi', 'GoeringEckardt', 'UVEK', 's_sommaruga', 'DudenhofferAUTO', 'faznet', 'mopo', 'VQuaschning', 'Tesla', 'kaufland', 'peigenmann', 'technikjuli', 'TilmanWinkler', 'BergheimJeff', 'JVos63', 'jewiddern', 'twiddern', 'Kalle_vom_och', 'Och6661', 'audiodump_de', 'AluminationG', 'shlomosapiens', 'FabianGumz', 'DerKasinator', 'kramer_heinz', 'WeShare_DE', 'ioandar', 'Po_Versohler', 'the_mutax', 'danimo', 'SixtDE', 'Der_BDI', 'BCG_Germany', 'PolestarCars', 'AllegoCharging', 'OpaPaulsEnkelin', 'ReneHesse', 'FalkWussow', 'cbruegg', 'pingu2k', 'FalkWussow', 'cbruegg', 'AndyHalloween31', 'Andreas674M', 'tomastomatos', 'Kosmopolit7', 'mortalhope1', 'fdp', 'wsw113355', 'hasse_luegen', 'janusPrime', 'RealDonDenito', '_MartinNeumann', 'CKemfert', 'Elektro_Robin', 'iJojo423', 'GEVAlliance', 'Juergen_Kaiser', 'ecomento_de', 'LiviaClauss', '_MartinNeumann', 'CKemfert', 'Elektro_Robin', 'omega75', 'LiviaClauss', 'RealDonDenito', '_MartinNeumann', 'CKemfert', 'grnFlip', 'Garrona', 'CarstenBKK', 'AndyHalloween31', 'Andreas674M', 'tomastomatos', 'Kosmopolit7', 'nikitheblogger', 'Nadja_Opatija', 'AndyHalloween31', 'gehirn1974', 'SilvaAtTwitta', 'Kosmopolit7', 'AstraBube', 'gehirn1974', 'SilvaAtTwitta', 'Kosmopolit7', 'damario74', 'danny_mst', 'CorneliusRoemer', 'polenz_r', 'BernhardBelle', '_Kittypunk', 'shlomosapiens', 'nikitheblogger', 'nikitheblogger', 'RalfSedlacek', 'nikitheblogger', 'nikitheblogger', 'Kosmopolit7', 'joeycoolDeluxe', 'nikitheblogger', 'Ruebenhorst', 'Ruebenhorst', 'Kosmopolit7', 'Elektro_Robin', 'nikitheblogger', 'ABaerbock', 'ABaerbock', 'Ruebenhorst', 'Elektro_Robin', 'jal3kost4rrr', 'm_ziegelmeir', 'borismtlr', 'Elektro_Robin', 'Elektro_Robin', 'Elektro_Robin', 'Hartes_Geld', 'MikeNixda', 'SonoMotors', 'tomdabassman', 'jens_140081', 'tomdabassman', 'jens_140081', 'Kosmopolit7', 'Die_Gruenen', 'fridays_freedom', 'Kosmopolit7', 'ava_hamburg', 'Elektro_Robin', 'GerdKebschull', 'ProfRieck', 'nextmove_de', 'SZ_Wirtschaft', 'Lucyfer49407833', 'Hartes_Geld', 'derspiegel', 'DasErste', 'ARD_BaB', 'JVos63', 'SilvaAtTwitta', 'Kosmopolit7', 'SilvaAtTwitta', 'DGoncz', 'Kosmopolit7', 'JVos63', 'SilvaAtTwitta', 'Kosmopolit7', 'SilvaAtTwitta', 'Kosmopolit7', 'ioandar', 'JVos63', 'Kosmopolit7', 'SilvaAtTwitta', 'Kosmopolit7', 'JVos63', 'SilvaAtTwitta', 'Kosmopolit7', 'JVos63', 'Kosmopolit7', 'JVos63', 'SilvaAtTwitta', 'Kosmopolit7', 'Mr_Poeschl', 'gehirn1974', 'GeorgKonjovic', 'GSB_Gutachter', 'baerbeli04', 'Elektro_Robin', 'Stadt_FFM', 'PhillipGoik', 'frankfeil', 'nextmove_de', 'Elitiker', 'BlakesWort', 'HolzheuStefan', 'rahmstorf', 'rotrunner_ber', 'drumheadberlin', 'BILD', '_Henryk', 'deltadeeee', 'polenz_r', 'mikail_6161', 'virchow_de', 'ReneJ57171065', 'BlakesWort', 'maltergm', 'elonmuskssohn', 'ladefuchs', 'BuxaIngrid', 'BlakesWort', 'berren1', 'ABaerbock', 'JanazJoseph', '_donalphonso', '_Kittypunk', 'tichyseinblick', 'derDeSraY', 'bobowarmeinname', 'realAlexBlank', 'EinRobert1', 'ElektrischST', 'BernhardSterz', 'Ottostadt', 'Tommy17_09_', 'Juergen_Kaiser', 'FalkWegerich', 'berren1', 'ABaerbock', 'berren1', 'BawuHeimdall', 'ABaerbock', 'cschriner', 'Juergen_Kaiser', 'polenz_r', 'alexs77', 'polenz_r', 'rawbowke', 'polenz_r', 'NeoLinchen', 'fuenfuhrteefix', 'RadlerInWI', 'hennemann_marc', 'polenz_r', 'ShareNow_global', 'polenz_r', 'cschriner', 'Juergen_Kaiser', 'polenz_r', 'retr0virus', 'polenz_r', 'renehamburg', 'keineantwort', 'sledgehammer28', 'Schwulemiker', 'berren1', 'ABaerbock', 'Anzugmensch', 'AloisAlz', 'Sventastic_78', 'GoldfoxFabi', 'hustendoktor', 'swiss_shine', 'Die_Gruenen', 'rgomeier', 'TilmanWinkler', 'BernhardBelle', 'VonDorset', 'TichysEinblick', 'Anzugmensch', 'berren1', 'ABaerbock', 'SvenWitt1', 'berren1', 'ABaerbock', 'berren1', 'ABaerbock', 'ABaerbock', 'Hannchen1997', 'DavidDuhme', 'polenz_r', 'Sventastic_78', 'GoldfoxFabi', 'CoalDead', 'lgbeutin', 'dieLinke', 'Tom_Schneidr', 'LL3mm3', 'HansMaiser999', 'drbrandner', 'JustitiaDormit', 'neythomas', 'polenz_r', 'Chris_Rux', 'CITROEN_DE', 'polenz_r', 'polenz_r', 'SZ', 'factionprosa75', 'FrontalierFR', 'polenz_r', 'Melolontha12', 'TheOldIronQueen', 'HeinzSchutze', 'JustitiaDormit', 'neythomas', 'polenz_r', 'mortalhope1', 'BarneyG62957326', 'th0r5t3n', 'tstibbz', 'polenz_r', 'mrkreitmair', 'raelianer', 'polenz_r', 'andreasscheuer', 'BMVI', 'tichyseinblick', 'th0r5t3n', 'BarneyG62957326', 'tstibbz', 'polenz_r', 'CoalDead', 'AloisAlz', 'polenz_r', 'polenz_r', 'twulu18', 'oida_grantler', 'RolandTichy', 'badidol', 'HeinzSchutze', 'neythomas', 'polenz_r', 'ElisaDavid_', 'RolandTichy', 'TichysEinblick', 'maybritillner', 'ABaerbock', 'MarieDMeier', 'lordxxl', 'deejay_ol', 'polenz_r', 'polenz_r', 'maybritillner', 'ABaerbock', 'c_lindner', 'n_roettgen', 'HoffmannSpiegel', 'MarieDMeier', 'lordxxl', 'deejay_ol', 'polenz_r', 'TBreitschneider', 'Die_Gruenen', 'maybritillner', 'ZDF', 'ABaerbock', 'polenz_r', 'I2eptileX', 'Septuaginta_LXX', 'TilmanWinkler', 'polenz_r', 'polenz_r', 'micha06de', 'danny_mst', 'polenz_r', 'Melolontha12', 'Gert_Woellmann', 'polenz_r', 'AloisAlz', 'TilmanWinkler', 'Septuaginta_LXX', 'polenz_r', 'polenz_r', 'wegeheld', 'CoalDead', 'TorstThe', 'Mattes_67', 'ProResPublica', 'polenz_r', 'hier_dings_', 'Radpolitik', 'therealhellcat', 'RealKalleMD', 'le_fnord', 'Elektro_Robin', 'thomas_jachmann', 'AndreMimikama', 'Goettergatte42', 'Elektro_Robin', 'thomas_jachmann', 'great_marus', 'janusPrime', 'planwerk', 'rtl_direkt', 'CKemfert', 'spmrider', 'mk2000', 'rtl_direkt', 'CKemfert', 'DIW_Berlin', 'CKemfert', 'wiwo', 'fairzinsung', 'tmmd', 'Raspo19', 'chris_schorbach', 'mondschaf23', 'heiseonline', 'cityradler', 'TheGlowingDice', 'mondschaf23', 'kkklawitter', 'SoerenLorensen', 'Stefan_Hajek', 'Quasseltier', 'SoerenLorensen', 'alter_franke', 'EngelchenFLIEGT', 'rtl_direkt', 'Der_KaiErik', 'doc_scholz', 'DIEZEIT', 'PHPmacher', 'zitronensenf', 'PsychoAdler', 'buchfieber', 'PHPmacher', 'zitronensenf', 'KawiKla', 'Elektro_Robin', 'renehamburg', 'KawiKla', 'notsoearlybird', 'Elektro_Robin', 'AloisiusDerNeue', 'xFrancisFrancox', 'SWLeipzig,', 'mondschaf23', 'HeadSoccer_Main', 'CKemfert', 'wiwo', 'sepp_reitberger', 'Stefan_Hajek', 'fdp', 'diegruenen', 'SophiaMariaKa', 'adac_hth', 'CaptainVoni', 'Stefan_Hajek', 'fdp', 'diegruenen', 'Offroad_Junkie', '_Henryk', 'Luisamneubauer', 'ch1llbaer', '_richtig_falsch', 'mad_makx', 'hsv_jon', 'polenz_r', 'FreistaatMarkus', 'LENNETAL3R', 'Elektro_Robin', '_richtig_falsch', 'LENNETAL3R', '_Herr_Stahl_', 'DerGraslutscher', 'wdwarncke', 'jago_cartoon', 'justb81', 'quarkswdr', 'rlunni', 'polenz_r', 'kkklawitter', 'ndr', 'bernhart84', 'Gert_Woellmann', 'Gert_Woellmann', 'buttertoastbro', 'jago_cartoon', 'rbock9', 'justb81', 'quarkswdr', 'Letustalk9', 'eduardt_s', 'rbock9', 'justb81', 'quarkswdr', 'Investor_BI', 'Gert_Woellmann', '_badmaxx_', 'frankfeil', 'Investor_BI', 'it_retter', 'Gert_Woellmann', 'Iceskiff_Limeoh', 'Gert_Woellmann', 'polenz_r', 'Black_cat_aiko', 'Elektro_Robin', 'stang2k', 'FabianLaasch', 'Mingiam10', 'frankfeil', 'IONITY_EU', 'MercedesBenz_DE', 'frankfeil', '1000millimeter', 'tagesschau', 'weg_li', 'RA_Negm', 'philopolist', 'real_M_Basten', 'polenz_r', 'bloederStudent', 'Elektro_Robin', 'robinjayasinghe', 'CKemfert', 'LVZ', 'Spruchkoerper', 'tagesschau', 'the_real_Marco1', 'GeneralFreeze0', 'Mt_TA_', 'tagesschau', 'M_Hundhausen', 'erlangen_de', 'FlorianJanik', 'M_Hundhausen', 'erlangen_de', 'FlorianJanik', 'erlangen_de', 'FlorianJanik', 'PauloFreireMuc', 'wdwarncke', 'rohr_spatz', 'wdwarncke', 'derspiegel', 'MatthiasOtt23', 'Birne36248376', 'Elektro_Robin', 'DerGraslutscher', 'wdwarncke', 'IONITY_EU', 'StephanR78', 'DieterSteffmann', 'rbock9', 'KawiKla', 'Birne36248376', 'Elektro_Robin', 'c_schwarzer', 'RenaultDE', 'philipp_kaestli', 'danielfinsler', 'wdwarncke', 'dew21', 'stadtdortmund', 'stadtdortmund', 'Toskonaut', 'ChangeGER', 'wahlosttiroler', 'eyeklar', 'TobiasBock14', 'c_lindner', 'fdp', 'Elektro_Robin', 'Elektro_Robin', 'stang2k', 'Elektro_Robin', 'hgbruenker', '_Herr_Stahl_', 'DerGraslutscher', 'wdwarncke', 'fairzinsung', 'phiboLE', 'kopptisch', 'ElmarBillen', 'Hamburg397', 'stef_lange', 'kopptisch', 'casparterhorst', 'morgenmagazin', 'Tesla', 'VW', 'johkuhn', 'Watch_Greens', 'kurtus', 'ThanloSir', 'M_Hundhausen', 'hzulla', 'Hamburg397', 'skoops', 'IONITY_EU', 'EnBW', 'AllegoCharging', 'EON_de', 'EON_Presse', 'SPeitsch', 'Karl_Lauterbach', 'SPeitsch', 'kramkr', 'Elektro_Robin', 'IONITY_EU', 'hzulla', '28Jahre2020', '28Jahre2020,', 'DanielBrosowski', 'NIODeutschland', 'ABaerbock', 'chris_schorbach', 'schmettowa', 'Elektro_Robin', 'SepPietsmiet', 'CM19330650', 'markusdd5', 'PiepMatze', 'gruenehessen', 'FDPHessen', 'KayaKinkel', 'villain_no1', 'davepermen', 'Bauer_Bernd59', 'M_Hundhausen', 'DPsycco', 'realSchabau', 'SteveundJulian', 'ah_eurocitizien', 'Stefan_Hajek', 'Hagen', 'elemob_de', 'thestanceman1', 'CM19330650', 'markusdd5', 'PiepMatze', 'breitenbach', 'Christian_Henne', 'DonDahlmann', 'tewes_susanne', 'thestanceman1', 'dansiela_b', 'DudeMoritzTech', 'adl_carlos', 'SteveundJulian', 'Stefan_Hajek', 'tmmd', 'th_willenbrink', 'pr3mut05', '_tobiaskuenning', 'ING_Deutschland', 'Presse_PAYBACK', 'Rant_ifa', 'Ruhrpott_Mensch', 'anwaltsgelaber', '_Kittypunk', 'JuBeeMG', 'RalphBln', '50hz', 'biesdorfer83', 'WirDemokratie', 'Alice_Weidel', 'PflegerPhil', 'anwaltsgelaber', 'realSchabau', 'SteveundJulian', 'ah_eurocitizien', 'Stefan_Hajek', 'anwaltsgelaber', 'SeeMarek', 'GRlNDMAST0R', 'Elektro_Robin', 'frankfeil', 'thestanceman1', 'oxopaulinexox', 'bennibaehr', 'Elektro_Robin', 'EnBW', 'GRlNDMAST0R', 'spdbt', 'pump,', 'CleanElectrCast', 'nextmove_de', 'bennibaehr', 'bennibaehr', '_holger', 'lelei', 'CKemfert', 'Autopilotuser', 'nblr', 'YogiMo', 'agentsinaction', 'larsklingbeil', 'Wissing', 'MiKellner', 'Lord_Pachulke', 'GernotDreher', '_Ricardo_Simoes', 'AlainS1991', '_Ricardo_Simoes', 'AlainS1991', 'KumpelRainer', 'EShenar', 'CKemfert', 'cooliopenguin', 'bommelmuetze75', 'airfoxtwo', 'c_schwarzer', 'Hyundai_DE', 'GernotDreher', 'ripthebones', 'GernotDreher', 'Stefan_Hajek', 'GernotDreher', 'gem8mingen', 'GernotDreher', 'GernotDreher', 'klubbing2000', 'EAutoPionier', 'MietTesla', 'quazanga', 'iak26', 'TuckiTina', 'twittlik', 'stadtbielefeld', 'Elektro_Robin', 'TomFragt', 'mastafotygo', 'NB2104', 'InfoMaisle', 'NeuImNeuland', 'kkklawitter', 'transenv', 'UCIrvine', 'fairzinsung', 'Elektro_Robin', 'wunder2welt', 'MietTesla', 'GernotDreher', 'GillyBerlin', 'airfoxtwo', 'c_schwarzer', 'Hyundai_DE', 'matthiasgolle', 'UweVogt7', 'NiNimmrod', 'pillenimclub', 'MietTesla', 'GernotDreher', '_Kittypunk', 'kkklawitter', 'transenv', 'Ozz_EU', 'AngryCyclist7', 'kkklawitter', 'jaeger1972', 'kkklawitter', 'Nokius', 'cartron', 'Herr_Kaleun', 'GehteuchNicht19', 'MitschAlexander', 'BayernSPD_Lndtg', 'SPD_Starnberg', 'IONITY_EU', 'agentsinaction', 'MorkOrg', 'pascal__2k', 'nextmove_de', 'mdrde', 'ZDFheute', 'chris_schorbach', 'kkklawitter', 'kkklawitter', 'Ygriega', 'nextmove_de', 'real_mos', 'TBreitschneider', 'Robert19594', 'farmingmax', '_tho_', 'MDR_SN', 'Blixah', 'BR24', 'FlorianvonBrunn', 'Locke1693', 'TichysEinblick', 'BerndBandekow', 'YouTube', 'kkklawitter', 'quazanga', 'bike_berlin', 'HolzheuStefan', 'Juergenofr', 'NoahRettberg', 'SoWhat38004606', 'ChristophHorst3', 'Herr_Kaleun', 'Tweetzower_See', 'woksoll', 'tursics', 'datenschatz', 'bund_dev', 'Hummelfee5', '_Gab404', 'L00kiii', 'welt', 'MatzelusM', '_Gab404', 'L00kiii', 'welt', 'dew21', 'listeknoblauch', 'MorkOrg', 'ChristophHorst3', 'Herr_Kaleun', 'ZDFheute', 'MorkOrg', 'ChristophHorst3', 'Herr_Kaleun', 'SebastianThiem', 'SoWhat38004606', 'Herr_Kaleun', 'SoWhat38004606', 'Herr_Kaleun', 'SoWhat38004606', 'Herr_Kaleun', 'Akoneira', 'PhillipGoik', 'BILD', 'BILD', 'topfentrulla', 'skadi2102', 'SchuldSelbst', 'BILD', 'RZitelmann', 'Melnaline', 'JennyGnther', 'VQuaschning', 'Rehlein_ms', 'fanaticHH', 'twittlik', 'dasnuf', 'janusPrime', 'tagesthemen', 'EstererRoland', 'heimolepuschitz', 'Stefan_Hajek', 'Elektro_Robin', 'HerbertvonPfalz', 'M_Hundhausen', 'Naturschuetzen', 'meisi_74', 'ZDFheute', 'ZDFheute', 'real_mos', 'ALDINord_Presse', 'AntonBaronAfD', 'HannoKlausmeier', 'Stefan_Hajek', 'heimolepuschitz', 'RuedigerLUP', 'sanewski2', 'TransnetBW,', 'CarmenHentschel', 'cutwindt', 'vzbv', 'bankenverband', 'VDA_online', 'BMWi_Bund', 'bmu', 'bdew_ev', 'VKUonline', 'bne_news', 'bv_elektromobil', 'elektromob_nrw', 'ZVEIorg', '_thomasengelke', 'UdoSiev', 'Herbert_Diess', 'ralph_bremer', 'HalleVerkehrt', 'Preis_und_Wert', 'Hagen', 'fahrIehrer', 'plechschmidt', 'TilmanWinkler', 'consertum', 'Karl_Lauterbach', 'olewin', 'hartaberfair', 'Baz14587134', 'NurderK', 'Essen_Ruhr', 'bmvi.', 'jens_original', 'TheSaraBrand', 'DennisKBerlin', 'fairzinsung', 'Kartellamt', 'bnetza', 'LichtBlick_de', 'MaingauEnergie', 'NewMotionDE', 'teilAuto,', 'jdoeschner', 'sebs1710', 'IKEA_Presse', 'MaingauEnergie', 'EnBW', 'Borchi28051', 'SwenRoschlau', 'DudenhofferAUTO', 'Elektro_Robin', 'Mingiam10', 'Elektro_Robin', 'thestanceman1', 'stang2k', 'germanenginee10', 'VDemokratie', 'welt', 'FormiOnib', 'welt', 'maki_amw', 'NeoLinchen', 'AllegoCharging', 'Luisamneubauer', 'BILD_Berlin', 'felixbohnacker', 'Kizito5', 'Balin_Urdunnir', 'NeoLinchen', 'EnBW', 'RegierungBW', 'BMWi:', 'friemel_backe', 'StromschlagYT', 'CleanElectrCast', 'PowerToDrive', 'SvenDotNet', 'LuisMartinezGIF', 'CyrillSchmid', 'Giunando', 'AlexanderMws', 'chargeIT_', 'lutherstadt', 'MineCooky', 'GenerationStrom', 'SortimoGmbH', 'MDRAktuell', 'zoeprivat', 'bauspanderu', 'BZPorg', 'LenzGrimmer', 'umrath', 'umrath', 'i_Peter', 'KrauterStefan', 'packofant', '_Kittypunk', 'wieleben1', 'FDPffm', 'zkmkarlsruhe.', 'thestanceman1', 'elektromob_nrw', 'news_nowgmbh', 'vannsl', 'SiggiSGE', 'ADAC', 'bmu', 'SvenjaSchulze68', 'transenv', 'lidl', 'berndulrich', 'merkmich', 'Die_Gruenen', 'binneboessel', 'jo_licht', 'Zeit', 'filmfacts', 'kaufland', 'SerkMaster87', 'euscherova', 'PowerToDrive', 'SerkMaster87', 'LechefHenri', 'bvm_hh', 'LechefHenri', 'bvm_hh', 'frankfeil', 'VfBCathrin', 'Tibber_DE', 'jungpionier_', 'SvenjaSchulze68', 'js281135', 'wunder2welt', 'kkklawitter', 'wunder2welt', 'KatrinH6', 'kkklawitter', 'Hagen', 'handelsblatt', 'EnBW', 'StwBo', 'sascha_p', 'Neo2000k21', 'DocOlliBrown', '_tho_', 'weltenlehrer', 'twitnextdoor', 'kkklawitter', 'AsatothAbaddon', 'faznet', 'faznet', 'Elektro_Robin', 'sagler72', 'UnremovedB', 'rendiwagner', 'ENYA42771525', 'Elektro_Robin', 'Elektro_Robin', 'MatthiasG_68', 'DSchrombgens', 'JVos63', 'vigeliensch', 'kaufland', 'numcep', 'krn_rene', 'Crosis19871987', 'kkklawitter', 'HeinerMe', 'mschlenker', 'airjibeer', 'zeitonline', 'PAM_a_Chemnitz', 'Brummelbr1', 'VQuaschning', 'NeuImNeuland', 'MartinTriker', 'mschlenker', 'kkklawitter', 'P4FChemnitz', 'VQuaschning', 'decider148', 'tomorgel', 'stang2k', 'holgi', 'kkklawitter', 'stekkerauto', 'Herbert_Diess', 'ShwyneRei', 'KKrawlo', 'Luisamneubauer', 'schnellenbachj', 'schnellenbachj', 'swdag,', 'stuttgart_stadt', 'stuttgart_stadt', 'Fighti', 'R3in3rZuf4ll', 'energie_freie', 'SiggiSGE', 'janusPrime', 'CMDRArchadder', 'twiag1985', 'ArwenMagdalena', 'Luisamneubauer', 'neos_eu', 'CheckYourInfo', 'M_Hundhausen', 'sleepless_jones', 'MatthiasG_68', 'M_Hundhausen', 'fairzinsung', 'Phant982', 'DonDahlmann', 'Oursgentil', 'DietmarM1', 'mijo_stein', 'FabianLaasch', 'Natascha_Strobl', 'Rosa_Sonnenhut', 'markus_vgf', 'MReitermayer', 'FabianLaasch', 'frankfeil', 'frankfeil', 'LeonHBB', 'mmfranconia', 'Rosa_Sonnenhut', 'Leselaune', 'NIU_Driver', 'janusPrime', 'SiggiSGE', 'CMDRArchadder', 'groovybeatz1', 'twiag1985', 'ArwenMagdalena', 'Luisamneubauer', 'Rosa_Sonnenhut', 'Natascha_Strobl', 'P2063', 'HalleVerkehrt', 'roberto_blanko', 'PExul23', 'HalleVerkehrt', 'SciCoDad', 'roberto_blanko', 'bobbyaxefive', 'iGyver', 'MalteJanssen', 'AndreVesely', 'Krustinaut', 'SoerenLorensen', 'exoryne', 'MitRolf', 'Moddy82', 'wunder2welt', 'kkklawitter', 'a_eigel', 'Schupunkt', 'DuncanBlues42', 'kkklawitter', 'DuncanBlues42', 'a_eigel', 'LarsLaussat', 'kkklawitter', 'bueroprinzessin', 'RailyRick', 'Gronkh', 'Tesla...', 'ArnoldSchiller', 'SoerenLorensen', 'anwaltsgelaber', 'mrtoto', 'avbelow', 'sascha_p', 'KaraMur19175817', 'zeitonline', 'berit_die', 'virchow_de', 'dcremer_', 'drumheadberlin', 'SZ_Bitcoin', 'superroof', 'beingmechris', 'christian_kubat', 'FLietzke', 'ntvde', 'RealDonDenito', 'methusalix64', 'ADAC', 'dcremer_', 'welt', 'vigeliensch', 'DerGraslutscher', 'Kunkeline', 'stang2k', 'HSchaeferIW', 'DerVeloc1ty', 'Toyota_DE', 'JuergenBlu', 'nextmove_de', 'Breviloquentia1', 'Tritonkapitaen', 'franzalt', 'useronline1', 'ChGBecker', 'wenig_worte', 'Naturschuetzen', 'MMittermeier', 'pepepito1983', 'darkseith', 'stang2k', 'GenerationStrom', 'Stefan_Hajek', 'urwumpe', 'thestanceman1', 'GpJoule', 'augentussi', 'BMWi_Bund', 'Chipmun23316534', 'HubertBoth1', 'IonityChargers', 'AusDerUckermark', 'PapkeGerhard', 'AlWacker', 'enercity', 'cutwindt', 'bdew_ev', 'tagesschau', 'Monopolkom', 'VDA_online', 'ZVEIorg', 'VKUonline', 'bne_news', 'BMWi_Bund', 'BMVI', 'UdoSiev', 'geipello', '_thomasengelke', 'bankenverband', 'Grimmbart77', 'Taru_Tuomi', 'MaximalesD', 'peter1974bayern', 'craty', 'BILD', 'VlkrDhr', 'KerstinAndreae', 'bdew_ev', 'tagesschau', 'Monopolkom', 'VDA_online', 'ZVEIorg', 'VKUonline', 'bne_news', 'BMWi_Bund', 'BMVI', 'UdoSiev', 'geipello', '_thomasengelke', 'bankenverband', 'JoergThoeming', 'Elektro_Robin', '_Kittypunk', 'realGeeM', 'nextmove_de', 'Toyota_DE', 'nextmove_de', 'Toyota_DE', 'nextmove_de', 'Toyota_DE', 'fussball_guru', 'nergie_de', 'marcuskoenignbg', 'alexnoe81', 'cdufraktion_LSA', 'ulithomas', 'nextmove_de', 'Toyota_DE', 'ARDde', 'bdew_ev', 'VKUonline', 'bne_news', 'BMVI', 'BMWi_Bund', 'bnetza', 'Kartellamt', 'vznrw', 'VDA_online', 'bmu', 'WirtschaftNRW', 'ElectriveNet', 'NVoncken', 'real_mos', 'zukunftmobil', 'manuel01St', 'lumpazza', 'Psychologists4F', 'i_am_fabs', 'i_am_fabs', 'i_am_fabs', 'welt', 'PolizeiHamburg,', 'wuelfele', 'nextmove_de', 'Herbert_Diess', 'DannyMonacoo', 'Asterix811', '_profane', 'Herbert_Diess', 'FischwaffeI', 'jnswin', 'VQuaschning', 'Felx88025548', 'DudenhofferAUTO', 'Stefan_Hajek', 'kkklawitter', 'pfeisi', 'VQuaschning', 'sebastianeitel2', 'DerHeinr1ch', 'LvOver9000', 'tagesschau', 'Citycrash', 'johannesvogel', 'Hoellenaufsicht', 'tagesthemen', 'Hagen', 'sebastianeitel2', 'DerHeinr1ch', 'LvOver9000', 'tagesschau', 'Mingiam10', 'MBebenroth', 'M_T_Franz', 'Hagen', 'VQuaschning', 'VQuaschning', 'VQuaschning', 'VQuaschning', 'StromschlagYT', 'planwerk', 'umrath', 'CleanElectrCast', 'YTCreatorsDE', 'herzog_andreas', 'zeitonline', 'StromschlagYT', 'Hagen', 'LechnerGregor', 'Herbert_Diess', 'CorneliusRoemer', 'pozo70', 'anwaltsgelaber', 'Herbert_Diess', 'hatice_akyun', 'jurtenmaurer', 'jurtenmaurer', 'jurtenmaurer', 'manmedac', 'Pendolino70', 'lovelyropes', 'frankfeil', 'plan0815', 'MatthiasRehfel1', 'hccd007', 'Die_Gruenen', 'nextmove_de', 'lehtimaeki', 'PolizeiMuenchen', 'Herbert_Diess', 'Herbert_Diess', 'geni256', 'fotoformart', 'Eloki89', 'ReiSteurer', 'florianaigner', 'SteveFi04457564', 'Elektro_Robin', '_tho_', 'FalschparkerMUC', 'Daniel_Abt', 'NickmitdemKopf', 'FirstGreenWave1', 'imAerzteland', 'lehtimaeki', 'PG_Cole', 'AliCologne', 'CoalDead', 'c_lindner', 'Hagen', 'c_lindner', 'Finne_is_back', 'einmarvy', 'derBalutex', 'Mupf05YT', 'rewinside', 'Touni', 'marco_knubel', 'IONITY_EU', 'svoeth', 'ChrisStoecker', 'p_faltermann', 'VolkerStahmann', 'falkinjo_hb', 'Mingiam10', 'BBarcien', 'gruene_sachsen', 'JanazJoseph', '_Reedee', 'daluaim', 'niklasr110', 'jxn_simp', 'BenniCargobike', 'multiburst', 'DugarToGo', 'rolandhausm', 'electric_carfan', 'FwSimon', 'Elektro_Robin', 'AgentJpn', 'HelgesWelt', 'RebeccaPeters_', 'Tasso2000', 'stang2k', 'HolzheuStefan', 'tagesschau', 'ARD_Presse', 'Stefan_Hajek', 'anked', 'tagesschau', 'erdgeist', 'tagesschau', 'KarmaKonsum', 'Hagen', 'stang2k', 'MDradelt', 'hannesleitlein', 'RegUnterfranken', 'janboehm', 'SoerenLorensen', 'GrauGustav', 'alf1alf', 'nikowall_', 'otbhh', 'RadwegH', '__bbak', 'NuechterRaymond', 'Joerg_Meuthen', 'Chrisinho07', 'dd_tomtom', 'MoniMalberto', 'LindaTeuteberg', 'Berline15948848', 'CADBeckerde', 'thestanceman1', 'cem_oezdemir', 'acurus', 'fluepke', 'f2k1de', 'lehreit', 'bison_42', 'Toyota_DE', 'the_infinity', 'c_schwarzer', 'acurus', 'DieterBornemann', 'technikjuli', 'sepp_reitberger', 'LarsAmApparat', 'CorvanCrowing', 'GillyBerlin', 'nacktnasenwomb1', 'SPeitsch', 'tbi43598681', '2127argus', 'tagesschau', 'groovybeatz1', 'TomFragt', 'd4_fishman', 'GillyBerlin', 'Wolfgan80856571', 'is_wr', 'andithematti', 'mbvans', 'FelixLaden', 'BMBF_Bund', 'ShareNow_global', 'AnjaKarliczek', 'tagesschau', 'TomFragt', 'TomFragt', 'BashinhoYoutube', 'BMBF_Bund', 'SPeitsch', 'BashinhoYoutube', 'BMBF_Bund', 'nettihahn', 'Megmarple', 'Majonnchen', 'BerLepo', 'knarf_e', 'DLFNachrichten', 'oklara', 'DerKasinator', 'Norabelle124', 'Pandora_calling', 'Elektro_Robin', 'Elektro_Robin', 'Elektro_Robin', 'Koeln', 'konvis', 'AchWas__', 'hwsvq', '77BjoernS', 'DoroBaer', 'ArminLaschet', 'filmfacts', 'oeyni', 'EON_de', 'VWGroup_DE', 'dpa?', 'VDA_online', 'bdew_ev', 'VKUonline', 'bne_news', 'BMWi_Bund', 'ElectriveNet', 'BMVI', 'bmu', 'planwerk', 'umrath', 'ThorstenRinne', 'EnBW', 'Stromnetz_HH', 'IONITY_EU', 'KathaZachi', '_andakawer', 'eisDE', 'Azurasrose', 'zeezer81', 'Samurai_27', 'Die_Gruenen', 'CMDRArchadder', 'janusPrime', 'DanielS29546200', 'heiheibike', 'Die_Gruenen', 'nerdweib', 'konvis', 'AchWas__', 'hwsvq', '77BjoernS', 'DoroBaer', 'ArminLaschet', 'heiheibike', 'handelsblatt', 'MIB_jojo', 'WeShare_DE', 'th_willenbrink', 'paulvossiek', 'Steuermann46', 'OseloHH', 'heiseonline', 'stadtwerke_ms', 'allwetterzoo', 'mastafotygo', 'Extremboarder', 'LudaLisl', 'ayranundspeck', 'andreb555', 'BuergerMoser', 'Hagen', 'Der_Fumpinator', '1_punch_mickey', 'HenzeVolker', 'razerrath', 'Elektro_Robin', 'c_lindner', 'honiggut66', 'VQuaschning', 'campact', 'ArminLaschet', 'spdbt', 'CDU', 'KurtHuwig', 'honiggut66', 'VQuaschning', 'campact', 'ArminLaschet', 'spdbt', 'CDU', 'ImTheKai', 'Elektro_Robin', 'Toyota_DE', 'umrath', 'HW417', 'mscharfschwerdt', 'MonikaHerrmann1', 'ABaerbock', 'ReiSteurer', '_MartinNeumann', 'VQuaschning', 'bmu', 'VQuaschning', 'prof_sterner', 'c_lindner', 'MrProcess', 'fdp', 'c_lindner', 'axel5959', 'bnetza', 'mastafotygo', 'HenzeVolker', 'Elektro_Robin', 'c_lindner', 'IstDoll', 'fcschon', 'sandra_weeser', 'c_lindner', 'LennLennDE', 'Benzingeruch', 'markusdd5', 'StefanPerras', 'andreasscheuer', 'OlafScholz', 'LuisMartinezGIF', 'samsteiner', 'JochenHammer', 'Swisscom', 'RailService', 'Mobility_Suisse', 'samsteiner', 'DerUrBerliner', 'TimSchmuckall', 'InitiativeDZ', 'ChargePointnet', 'vzbv', 'ADAC', 'die_dk_de', 'Gemeindebund', 'markusdd5', 'TimSchmuckall', 'InitiativeDZ', 'ChargePointnet', 'vzbv', 'ADAC', 'die_dk_de', 'Gemeindebund', 'W_Lucht', 'MarvinTBaumann', 'TimSchmuckall', 'markusdd5', 'InitiativeDZ', 'ChargePointnet', 'vzbv', 'ADAC', 'die_dk_de', 'Gemeindebund', 'honiggut66', 'VQuaschning', 'campact', 'ArminLaschet', 'spdbt', 'CDU', 'JurgenPresser', 'markusdd5', 'svenzisu', 'Hans2Meyer', 'hausinger_ihk', 'Micha_K_NIX', 'WirSindGruen', 'kinkyfirefight', 'LuckySlevin1006', 'schaaf_stefan', 'Elektro_Robin', 'RobertBoni6', 'Die_Gruenen', 'ABaerbock', 'ProSieben', 'sat1', 'kabeleins', 'araldeutschland', 'has_to_be', 'andreasscheuer,', 'andreasscheuer', 'OlafScholz', 'wsw113355', 'SteffenBilger', 'SGKirsch', 'StefanPerras', 'andreasscheuer', 'OlafScholz', 'DerOetzmann', 'shatterhaendle', 'andreasscheuer', 'OlafScholz', 'Frank87907588', 'c_endt', 'mpoessel', 'Umweltbundesamt', 'cschrader_eu', 'SZ', 'LucLuc96', 'jwag82', 'nitro4041', 'Schulz_1812', 'aniesmann', 'tomueko', 'jwag82', 'nitro4041', 'Schulz_1812', 'aniesmann', 'Labor2b', 'oboehm', 'nitro4041', 'Schulz_1812', 'aniesmann', 'markusdd5', 'tagesschau', 'modellbauhutte', 'andreasscheuer', 'OlafScholz', 'andreasscheuer,', 'JochenH_14', 'DerOetzmann', 'andreasscheuer', 'OlafScholz', 'DerOetzmann', 'modellbauhutte', 'andreasscheuer', 'OlafScholz', 'andreasscheuer', 'Elektro_Robin', 'real_mos', 'PhilippPetersNB', 'StefanPerras', 'RND_de', 'welt', 'DerOetzmann', 'JochenH_14', 'andreasscheuer', 'OlafScholz', 'andreasscheuer', 'OlafScholz', 'andreasscheuer', 'OlafScholz', 'LuckySlevin1006', 'kinkyfirefight', 'andreasscheuer', 'OlafScholz', 'stang2k', 'SamothRelgi', 'EnBW', 'hagebauDe', 'RenateKuenast', 'DigitalerLehrer', 'cb90_ta', 'littlewisehen', 'beimwort', 'andreasscheuer', 'OlafScholz', 'andreasscheuer.', 'OlafScholz', 'ABaerbock', 'ArminLaschet', 'AnneWillTalk', 'Markus_Soeder', 'c_lindner', 'KfW', 'flole09', 'Xemides', 'andreasscheuer', 'OlafScholz', 'Schulz_1812', 'tomueko', 'aniesmann', 'fdp', 'fdphh', 'andreasscheuer', 'OlafScholz', 'andreasscheuer', 'OlafScholz', 'micha06de', 'vorsprach', 'andreasscheuer', 'OlafScholz', 'Elektro_Robin', 'bbinkowska_', 'beimwort', 'Elektro_Robin', 'andreasscheuer', 'OlafScholz', 'janboehm', 'janboehm?', 'EduardLaserToGo', 'andreasscheuer', 'OlafScholz', 'andreasscheuer', 'OlafScholz', 'andreasscheuer', 'andreasscheuer', 'OlafScholz', 'RND_de', 'technikjuli', 'thuega', 'aniesmann', 'katarinabarley', 'NicoSchurr', 'Elektro_Robin', 'thestanceman1', 'MineCooky', 'nitro4041', 'Schulz_1812', 'aniesmann', 'dokape', 'kischtrine', 'ha75', 'andreasg?', 'Sophisterei', 'Elmal96', 'saywhatuwanna1', 'aniesmann', 'kischtrine', 'Berlin4F', 'JoergiB', 'andreasscheuer', 'OlafScholz', 'talwazir', 'Johannes0105', 'stang2k', 'JHaakona', 'anwaltsgelaber', 'VDA_online', 'ePionier', 'simbosan', 'aniesmann', 'transformatik', 'WielandVolker', 'APeichl', 'stang2k', 'SchoBiz', 'derspiegel', 'andreasscheuer', 'the_infinity', 'ZDFheute', 'Elektro_Robin', 'heiseonline', 'Elektro_Robin', 'HumanKoala', 'ePionier', 'erpunktbepunkt', 'Elektro_Robin', 'BundesstadtBonn', 'GLSgiroe', 'bundesrat', 'bundesrat', 'wirfuerhier', 'VQuaschning', 'Paige30910612', 'AnnKristin_S_', 'hannovergenuss', 'Klaus_Mueller', 'OlafScholz', 'ArminLaschet', 'ABaerbock', 'c_lindner', 'Janine_Wissler', 'bankenverband', 'dsgv', 'bdew_ev', 'VKUonline', 'VDA_online', 'stang2k', 'Elektro_Robin', 'planwerk', 'HendrikLippold', 'Hamburg397', 'KroegerOve', 'DrCWerner', 'ulm_donau', 'QWxleA', 'iheartfrankfurt', 'VBruttel', 'Elektro_Robin', 'herold_gunter', 'SStramann', 'AlmanSchreck1', '_FriedrichMerz', 'avocargofficial', 'fLotteBerlin.', '_graciosa', 'ulm_donau', 'alex_aus_ulm', 'ulm_donau', 'SWUStadtwerke', 'JoergSobottka', 'mpaege', 'Karl_Lauterbach', 'ralphruthe', '_FriedrichMerz', 'JrgenKlein18', 'milktoast23', 'ruolbu', 'Psychohoernchen', 'robin_urban', 'TBreitschneider', 'towo', 'CptKrustenkaese', 'bwegtBW', 'zeppelinstadt', 'GeleeJean', 'BL_Hein', 'blingblingblubb', 'MKreutzfeldt', 'tazgezwitscher', 'ArminLaschet', 'TangoSi02229043', 'SturmHagen', 'DJTomLethar23', 'USchwart', 'nikitheblogger', 'FestFlauschig', 'mdehorn66', 'AgressiveGhoul', 'Cem_Bulut_', 'ZealousRanter', 'c_lindner', '_FriedrichMerz', 'BorisNMoellers', 'SawsanChebli', 'OlafScholz', 'nextmove_de', 'Bundesrat', 'BMVI', 'BMWi_Bund', 'sven_giegold', 'HalleVerkehrt', 'Luisamneubauer', 'Elke__Kuhn', 'Micha31281963', 'Struppilu', 'Jane_Banane__', 'iammteah', 'beyond_ideology', 'ndrmv', 'lughjs', 'Sh43l', 'EnBW', 'nextmove_de', 'robinvonrobintv', 'tbachner', '_Kittypunk', 'AlexanderHobert', '_moshkito', 'dr_boese', 'moebelhesse', 'PEARLGmbH', 'OlafScholz', 'vr_online', 'StromschlagYT', 'RheinEnergie', 'Koeln', 'franz_rother', 'c_schwarzer', 'SharpStallion', 'RheinEnergie!', 'Koeln', 'NoUser1805', 'georgrestle', 'querdenkenwatch', 'Benny_H_0', 'mbvans', 'lawen4cer', 'guzzimichel', 'bstrasser', 'carstenhag', 'BerlinReporter', 'ABaerbock', 'ohuber_', 'damitatweets', 'lgewessler', 'RheinEnergie', 'StromschlagYT', 'damitatweets', 'lgewessler', 'mbroecki', 'ennolenze', 'ennolenze', 'user_keinname', 'airportnue', 'SZ_Kultur', 'koljareichert', 'ingo_berlin', 'nuernberg_de', 'AlbertinaMuseum', 'staedelmuseum', 'Pinakotheken', 'ennolenze', 'mbroecki', 'EnBW', 'technikblog_ch', 'AMAG_Media', 'EnBW!', 'GrueneVictoria', 'Pixelaffe', 'HRehburg', 'theQ_Ffm', 'EderDampfradio', 'AEnergiepolitik', 'jaquearnoux', 'Piratenpartei', 'carstenhag', 'BerlinReporter', 'ABaerbock', 'HomerSi40932565', 'hewner82', 'sinclair679', 'Martin68012125', 'tuevverband', 'ronymahony', 'Siemens', '_richtig_falsch', 'carstenhag', 'BerlinReporter', 'ABaerbock', 'markusdd5', 'ABaerbock', 'OlafScholz', 'ArminLaschet', 'ABaerbock', 'f_karig', 'janusPrime', 'frischfuettern', 'ManuelSchuste11', 'HolzheuStefan', 'CSU', 'JuttaPaulusRLP', 'ABaerbock', 'NaturwaldAk', 'CopernicusEU', 'enbw', 'BlakesWort', 'Karl_Lauterbach', 'Akoneira', 'nextmove_de', 'WernerderChamp', 'Karl_Lauterbach', 'iNile09', 'p_humm', 'ThomasMichels15', 'ATausNRW', 'Karl_Lauterbach', 'MannheimCurtis', 'Kall90384061', 'CarstenBKK', 'FaktenWerner', 'Karl_Lauterbach', 'MSckr1971', 'p_humm', 'avbelow', 'frankfeil', 'nextmove_de', 'SchwabeImExil', 'BioManni', 'Luisamneubauer', 'cihansugur', 'Geek1elf', 'creativ_joe', 'BoschGlobal', 'p_humm', 'Menschlein3', 'Schafkopfpokal2', 'AndreasMemmer', 'janusPrime', 'janusPrime', 'RAProchnow', 'alx42', 'HolzheuStefan', 'Kl_Stone', 'CSU', 'Zvjedavaa', 'HolzheuStefan', 'CSU', 'grumpy_copilot', 'Zelgomat', 'ERAKUU', 'Schwunkvoll', 'Ishtar88678339', 'geekish7', 'Siemens', 'ALLYBABTU', 'technikblog_ch', 'alios', '78warschoen', 'FabianLaasch', 'Markus_Emmert', 'paultemple_he', 'InitiativeDZ', 'bundesrat', 'ADAC', 'BVRPresse', 'dsgv', 'bankenverband', 'Gemeindebund', 'staedtetag', 'DLTonline', 'Netzbetreiber', 'voeb_banken', 'transport_urban', 'BMVI', 'RheinEnergie', 'StromschlagYT', 'EnBW', 'IONITY_EU', 'negteit', 'chrismarquardt', 'Viciii___', 'DerKeiler', 'biersuchend', 'g_vonlutzau', 'SoerenLorensen', 'ausb_o', 'realElSandro', 'EwaldBroer', 'TomKriebitzsch', 'rahmstorf', 'der_fisch001', 'PiepMatze', 'JochenBittner', 'Hallaschka_HH', 'FreshestTed', 'Ricarda_Lang', 'Die_Gruenen', 'DIW_Berlin', 'hairy_neck', 'G2Pana', 'KontAndr', 'ZDFheute', 'kuestenbarbie', 'BrunoKo38603088', 'peter_simone', 'der_Pimon', 'ITbagJu', 'JochenDominicus', 'janboehm', 'janusPrime', 'StromschlagYT', 'davepermen', 'HeLo41336524', 'EnBW', 'Fastned', 'CleanElectrCast', 'SteffenHentrich', 'db11fs', 'urwumpe', 'tagesschau', 'nextmove_de', 'IONITY_EU', 'janusPrime', 'EnBW', 'Fastned', 'Kabal__81', 'ImperatorBaum', 'Micha_K_NIX', 'rahmstorf', 'lgewessler', 'falkduebbert', 'annamana_', 'leoliberalismus', 'Moehroe', 'frankfeil', 'nextmove_de', 'IONITY_EU', 'real_mos', 'der_simon', 'nextmove_de', 'IONITY_EU', 'IWB_Basel', 'urwumpe', 'tagesschau', 'urwumpe', 'tagesschau', 'Carboom47', 'tagesschau', 'tagesschau', '_Pa_Ko', 'tagesschau', 'KontAndr', 'ZDFheute', 'nextmove_de', 'IONITY_EU', 'hinrich7', '_paulwetzel', '_solsken', 'EnBW', 'Kematef', 'Kalle75291704', 'lawen4cer', 'KontAndr', 'ZDFheute', '_tho_', 'StromschlagYT', 'StromschlagYT', 'thestanceman1', 'fiorano1', 'robkde', 'stef_lange', 'nextmove_de', 'IONITY_EU', 'RheinEnergie', 'stef_lange', 'nextmove_de', 'IONITY_EU', 'Berlin_Ticker', 'derGerfried', 'realMaxMeier_2', 'Brenmann_de', 'RheinEnergie', 'RheinEnergie', 'StromschlagYT', 'RheinEnergie', 'VDV_Verband', 'cem_oezdemir', 'Stefan_Hajek', 'CMDRArchadder', 'thestanceman1', 'Stefan_Hajek', '_MartinNeumann', 'fdp', 'FranzJohn1900', 'UliHaase', 'valentina081989', 'Hallaschka_HH', '_tho_', 'umrath', 'Ceetok', 'Hagen', 'Tesla', 'ElisabethHerz15', 'Hallaschka_HH', 'osanten', 'ArminPh', 'aegidius', 'KMerzenich', 'aegidius', 'SamothRelgi', 'bundesrat', 'ADAC', 'die_dk_de', 'InitiativeDZ', 'dsgv', 'die_dk_de,', 'dpa:', 'Siemens', 'FischwaffeI', 'MirkoWachsmuth', 'DebitorLP', 'gnillih67', 'RenaultDE', 'Hallaschka_HH', 'Die_Gruenen', 'spdde', 'CDU', 'fdp', 'Hallaschka_HH', '_donalphonso', 'mdrde', 'IAAmobility', 'DSGV-Vorstand', 'realMaxMeier_2', 'AlmanArabica', 'Dekarldent', 'InitiativeDZ', 'ilimburg', 'girocard', 'binneboessel', 'handelsverband', 'cephiyr', 'im_nein', 'fms_munich', 'StefanSchrickel', 'Markus_Soeder', 'Josefmueller52', 'PwC', 'cosenagon', 'WolfgangSeim', 'Karl_Lauterbach', 'tmstr79', 'GrenadierBBC', 'philippvetter', 'WELTAMSONNTAG', 'welt', 'Rennbahn1', 'GoldfoxFabi', 'kuro_kurama', 'NervNichTwitte', 'MKreutzfeldt', 'SimonDickopf', 'AndreasMichel71', 'robert_fietzke', 'Tesla', 'cymba_de', 'Herbert_Diess', 'RegSprecher', 'VWGroup', 'volkswagen', 'IONITY_EU', 'vwschweiz', 'Herbert_Diess', 'teslawelt', 'Hagen', 'stang2k', 'Winterrav3n', 'Mure77', 'RenaultDE', 'KonstantinKuhle', 'c_lindner', 'fdp', 'fdpbt', 'swisscharge_ch', 'danielmack', 'Siemens', 'PradaAbi__', 'Carsten_Tr', 'peteraltmaier', 'NABU_de', 'Der_Postillon', 'andreasscheuer', 'HerrRain', 'Marco8Meier', 'zen_garten', 'MKreutzfeldt', 'Daimler', 'solundaik', 'NABU_de', 'Der_Postillon', 'andreasscheuer', 'Winterrav3n', 'Mure77', 'RenaultDE', 'PeterMagulski', 'fdp', 'Winterrav3n', 'RenaultDE', 'Mure77', 'RenaultDE', 'TWMBtv', 'StefanBossmann', 'SchmalleTV', 'DonaSpock', 'MichaelPetat', 'shushu', 'TWMBtv', 'StefanBossmann', 'SchmalleTV', 'DonaSpock', 'MichaelPetat', 'shushu', 'miriam_vollmer', 'u_w_photography', 'sebastianb1987', 'NeuschneeNord', 'StromschlagYT', 'djbeetee', 'technikjuli', 'Hagen', 'EnBW', 'RobertBoni6', 'norberthaering', 'handelsblatt', 'dbrgn', 'djbeetee', 'technikjuli', 'Hagen', 'EnBW', 'SWP_Potsdam', 'vlogmacher', 'KleinstadtRA', 'PapaMittendrin', 'QwelloCharge:', 'RenaultDE,', 'KlarnameJonas', 'Clemens_Rostock', 'Moehroe', 'KlarnameJonas', 'Clemens_Rostock', 'Moehroe', 'SabineDelValle1', 'Duracelde', '3FingerJones', 'ClaasGefroi', 'fluepke', 'technikblog_ch', 'zfescht', 'f2k1de', 'tschelle', 'markuskoehler', 'Herbert_Diess', 'tschelle', 'markuskoehler', 'Elio05687549', 'wiwo', 'VWGroup_DE', 'klaus_hain', 'wiwo', 'VWGroup_DE', 'Chakotay16', 'pstnrt', 'daniel_invest_', 'goggle81', 'BILD', 'ClaasGefroi', 'stefan', 'BILD', 'hjs31217944', 'VQuaschning', 'planwerk', 'stang2k', 'stang2k', 'BoschGlobal', 'DerBerg5', 'Manuel_noafd', 'MarlonGollnisch', 'elonmusk', 'GretaThunberg', 'HalleVerkehrt', 'BMW.', 'wsw113355', 'sundymoon', 'wsw113355', 'DieBajuwaren', 'e_poche', 'se38', 'RheinEnergie', 'CleanElectrCast', 'Ladefuchs', 'wsw113355', 'JoergRupp', 'mix_yoshi', 'MarkusvonRoder', 'AbuFlorian', 'Siemens', 'wdwarncke', 'Libkaid', 'i_am_fabs', 'FlorianBayer', 'myfairjulia', 'Bananaz30970215', 'JoergRupp', 'real_maggi', 'chaosbunt', 'starkwatzinger', 'fdp', 'quarkswdr', 'schieritz', 'NeueOekonomie', 'Siemens', 'VQuaschning', 'Hellinvernel', 'SWP_Potsdam', 'OliverFranke10', 'VQuaschning', 'SWP_Potsdam', 'WeShare_DE', 'haspro1', 'MercedesBenz_DE', 'haspro1', 'MercedesBenz_DE', 'MarcWilli2', 'shaakshaakshaak', 'CHogenbogen', 'xwolf', 'rahmstorf', 'lifereport', 'OliverFranke10', 'VQuaschning', '_tho_', 'Elektro_Robin', 'VQuaschning', 'VQuaschning', 'MM_Fakt', 'Karl_Lauterbach', 'MM_Fakt', 'Karl_Lauterbach', 'RND_de', 'DorisA80009661', 'Norther95763510', 'EON_de', 'zurich_de', 'Hamburg397', 'Herbert_Diess', 'datenkrakee', 'kfzgewerbe', 'ADAC)', 'DGoncz', 'HolzheuStefan', 'ZDF', 'dieLinke', 'MarcMath5', 'razerrath', 'Fabian66279590', 'c_schwarzer', 'MaingauEnergie', 'heiseonline', 'TomFragt', 'razerrath', 'Fabian66279590', 'c_schwarzer', 'MaingauEnergie', 'heiseonline', '', 'dirk_kalmbach', 'janusPrime', 'fwieschollek', 'frischfuettern', 'Shania20204', 'HalleVerkehrt', 'larsweisbrod', 'grandmaster_pip', 'Dinnchen', 'DFoest', 'rosenbaumg0', 'Tesla', 'PeterMusseleck', 'Dschingis_Hahn', 'ashyda', 'totallyAcRo', 'nextmove_de', 'J_Todenhoefer', 'VQuaschning', 'v_g_fischer', 'M_Hundhausen', 'RainerRomer', 'ZDF', 'PrOTeUS_Carsten', 'olemax', 'ralphruthe', 'EnBW', 'the_smarter_E', 'peteraltmaier', 'bayl', 'VQuaschning', 'philippvetter', 'welt', '_FriedrichMerz', 'morellwest', 'woelken', 'c_schwarzer', 'MaingauEnergie', 'heiseonline', 'Lena_2707_', 'MaO83087335', 'LeezenMatt1', 'MrMiniMuli', 'ProSieben', 'louisklamroth', 'ABaerbock', 'Die_Gruenen', 'umrath', 'Tesla', 'zurich_de.', 'stromab', 'Jakob_Blub', 'DerGraslutscher', 'Mingiam10', 'ZDF', 'Elektro_Robin', 'Tesla', 'ThorstenRinne', 'Tesla', 'sascha_p', 'DerGraslutscher', 'RTreublatt', 'Mingiam10', 'ZDF', 'Elektro_Robin', 'kaufland', 'lidl', 'SaarowElectric', 'sascha_p', 'sbamueller', 'StromschlagYT', '_FriedrichMerz', 'maik_simPSon', 'MaingauEnergie', 'heiseonline', 'heiseautos', 'EAutoPionier', 'Fabian66279590', 'MaingauEnergie', 'heiseonline', 'LichtBlick_de', 'hamburg_de', 'schoenix', 'EvilAffe', 'SebastianWetz', 'JazLee23029839', 'HolzheuStefan', 'thestanceman1', 'janusPrime', 'JaceCear', 'belobregovic', 'gartner_jw', 'quarkswdr', 'wdr5', 'dk_tsl', 'hstubner', 'BMVI', 'GerdKebschull', 'Elektro_Robin', 'MeinElektroauto', 'AutoStromer', 'eam_magazin', 'Hagen', 'Stefan_Hajek', 'Hamburg397', 'technikblog_ch', 'Hyundai_DE', 'Wolfgang_42', 'Labonitamascota', 'Elektro_Robin', 'EnBW', 'Fastned', 'janusPrime', 'TomFragt', 'i_am_apriliaa', 'zukunftmobil', 'MarBel78', 'urwumpe', 'Labonitamascota', 'Marinus1208', 'AkinUenal79', 'Der_BDI', 'ntv', 'ArminLaschet', 'OlafScholz', 'ABaerbock', 'Jen07580751', 'JuleStinkesocke', 'AllegoCharging', 'SenUVKBerlin', 'RealWuergi', 'Elektro_Robin', 'Velofisch', 'JochenBittner', 'bdew_ev', 'faznet', 'DrFloSteiner', 'ArminStecher', 'PSHolstein', 'frauasha', 'motikat', 'TLiewald', 'Elektro_Robin', 'An_di_Arbeit', 'SchmidtHenry_', 'fwieschollek', 'janusPrime', 'i_am_apriliaa', 'Neusser', 'Labonitamascota', 'urwumpe', 'Labonitamascota', 'SchmidtHenry_', 'fwieschollek', 'janusPrime', 'TomFragt', 'i_am_apriliaa', 'urwumpe', 'Labonitamascota', 'Meerkatze19', 'Streete19905982', 'frofolederer', 'AnniHuber', 'Elektro_Robin', 'HendrikLippold', 'allegoCharging', 'Regina_Ue', 'Der_Fummler', 'JuleStinkesocke', 'martinpallmann', 'Elektro_Robin', 'beweisperbeweis', 'DocMapled', 'ThomasMichels15', 'tomueko', 'HendrikLippold', 'bitboy0', 'JuleStinkesocke', '_toertchen', 'theoneandbodi', 'Labor2b', 'JTrittin', 'gullixo', 'Elektro_Robin', 'beweisperbeweis', 'DocMapled', 'tomueko', 'HendrikLippold', 'Baeumleschule', 'asltf', 'Der_Fummler', 'JuleStinkesocke', 'JuleStinkesocke', 'Prinz_Garten', 'cymba_de', 'Elektro_Robin', 'HendrikLippold', 'KormannStephan', 'retolipp', 'stang2k', 'tweet_alqamar', 'WinFuture', 'efi_essen', 'FahrradClub', 'Pony_Mermaid', 'rEjexx_FPS', 'TinleMar', 'moovility_me', 'michaelmosch3', 'Wredi4', 'markusdd5', 'janusPrime', 'SchmidtHenry_', 'i_am_apriliaa', 'MonikaHerrmann1', 'doktorhulk', 'Random_Lukas', 'RegineGuenther', 'KlausEuteneuer', 'bischmi', 'mzehetm', 'goingelectricde', 'stang2k', 'TinleMar', 'moovility_me', 'kaffeecup', 'next_e', 'Hagen', 'micha06de', 'Fastned', 'stang2k', 'Fastned', 'DortmunderJens', 'Shinnodar', 'shadenfreu_de', 'uniwave', 'Hagen', 'StromschlagYT', 'micha06de', 'Elektro_Robin', 'tobwen', 'WinFuture', 'efi_essen', 'FahrradClub', 'binneNichtHier', 'StromschlagYT', 'EnBW', 'dansiela_b', 'riffreporter', 'reneheesen', 'ChrisTheisen', 'gruenenrw', 'reneheesen', 'gruenenrw', 'cihansugur', 'cihansugur', 'goingelectricde', 'Tokarion1', 'Berndte3', 'ConchitaMendez2', 'egghat', 'MIB_jojo', 'real_mos', 'MIB_jojo', 'real_mos', 'friiyo', 'dansiela_b', 'riffreporter', 'MaddyQuerulator', 'sedlmayr_armin', 'schnellenbachj', 'SamothRelgi', 'riffreporter', 'SirTificate', 'TilmanWinkler', 'RaddatzWWF', 'fdp', 'Elektro_Robin', 'Stefan_Hajek', 'CptKrustenkaese', 'SchmidtHenry_', 'janusPrime', 'i_am_apriliaa', 'frankfeil', 'RaddatzWWF', 'fdp', 'Elektro_Robin', 'Stefan_Hajek', 'RaddatzWWF', 'fdp', 'Elektro_Robin', 'Stefan_Hajek', 'BjBerry00', 'tomasfreres', 'Unghvary', 'Fastned', 'Elektro_Robin', 'stang2k', 'Schwunkvoll', 'Stefan_Hajek', 'robschuchmann', 'TilmanWinkler', 'RaddatzWWF', 'fdp', 'Elektro_Robin', 'Stefan_Hajek', 'zeitonline', 'HDG270', 'RaddatzWWF', 'fdp', 'Elektro_Robin', 'Stefan_Hajek', 'inselmit2bergen', 'florianaigner', 'MarcelS54115278', 'Razzifazzi', 'RaddatzWWF', 'fdp', 'Elektro_Robin', 'Stefan_Hajek', 'sascha_p', 'joergw', 'StromschlagYT', 'Herbert_Diess', 'theoal', 'umrath', 'KroegerOve', 'ElectriveNet', 'PdH_LNiesik', 'i_am_apriliaa', 'TomFragt', 'i_am_apriliaa', 'i_am_apriliaa', 'DG2RON', 'giesion', 'ich_knopf', 'PeugeotDE', 'The_Nor4k', '_Temutschin_', 'bafrank4', 'JoshuaKruttasch', 'Lewski82', 'fagri', 'janboehm', 'PeugeotDE', 'i_am_apriliaa', 'zulsch', 'FischwaffeI', 'RobotNixon74', 'i_am_apriliaa', 'SixtDE', 'i_am_apriliaa', 'stefan_noe_', 'EUTheurer', 'FDP_Durlach', 'FDPKarlsruhe', 'hbd_83', 'FdpKa', 'fdpbt', 'FDPBW', 'N_Gaebel', 'NDitzenbach', 'Darkfloppy1', 'i_am_apriliaa', 'Hagen', 'aguleB', 'W_Oldoerp', 'Die_Gruenen', 'ABaerbock', 'i_am_apriliaa', 'kfzgewerbe', 'OxKing', 'i_am_apriliaa', 'bafrank4', 'Raider_MXD', 'Karl_Lauterbach', 'i_am_apriliaa', 'Leon_Bergmann', 'i_am_apriliaa', 'i_am_apriliaa', 'i_am_apriliaa', 'Skybreaker_OWL', 'i_am_apriliaa', 'i_am_apriliaa', 'Karl_Lauterbach', 'Karl_Lauterbach', 'enercity', 'SteveFi04457564', 'SiegburgErleben', 'MelsGedanken', 'Elektro_Robin', 'totallyAcRo', 'stang2k', 'speis_oo', 'TeslaMotorsGerm', 'DieselsVideos', 'Fischblog', 'DieselsVideos', 'Fischblog', 'dan_the_downer', 'digipxls', 'VQuaschning', 'weh_oh', 'Automobilwoche', 'Elektro_Robin', 'stang2k', 'kkklawitter', 'RARieck', 'RARieck', 'TanjaWawuschel', 'fasnix', 'AlSzczes', 'lisapaus', 'CDU', 'fdp', 'sven_kindler', 'lastenradtest', 'StefanGelbhaar', 'cem_oezdemir', 'Storch_i', 'GrueneBundestag', 'GrueneFraktionB', 'gruene_berlin', 'Die_Gruenen', 'AlSzczes', 'fasnix', 'lisapaus', 'CDU', 'fdp', 'sven_kindler', 'lastenradtest', 'StefanGelbhaar', 'cem_oezdemir', 'Storch_i', 'GrueneBundestag', 'GrueneFraktionB', 'gruene_berlin', 'Die_Gruenen', 'Elektro_Robin', 'miriam_vollmer', 'fussverkehr_de', 'DocMapled', 'tierscooters', 'JoernWiedemann', 'AfDVerdachtfall', 'nextmove_de', 'Patrick01686419', 'TimoB4', 'wegeheld', 'IONITY_EU', 'MercedesBenz_DE', 'TeslaGermany_', 'i_am_fabs', 'djh_resort!', 'nextmove_de', 'stergro', 'vwmanufaktur_de', 'VladddKo', 'MMittermeier', 'deko_peti', 'MMittermeier', 'deneidels', 'chiefler', 'seppenradener', 'ARD_BaB', 'ABaerbock', '1lStartkaffee', 'trullateee', 'Wanheda_I', 'MeineMe53821610', 'jungpionier_', 'Storch_i', 'ThePrie89', 'ThomasGarching', 'nille_lee', 'Baeumleschule', 'kkklawitter', 'MarieDMeier', 'MMittermeier', 'xileffff', 'nille_lee', 'kkklawitter', 'MarieDMeier', 'MMittermeier', 'xileffff', 'kkklawitter', 'Baeumleschule', 'nille_lee', 'MarieDMeier', 'MMittermeier', 'xileffff', 'stang2k', 'kkklawitter', 'nille_lee', 'MarieDMeier', 'MMittermeier', 'xileffff', 'kkklawitter', 'Baeumleschule', 'nille_lee', 'MarieDMeier', 'MMittermeier', 'xileffff', 'DieAsgard', 'nille_lee', 'kkklawitter', 'Baeumleschule', 'MarieDMeier', 'MMittermeier', 'xileffff', 'stang2k', 'kkklawitter', 'nille_lee', 'MarieDMeier', 'MMittermeier', 'xileffff', 'kkklawitter', 'Baeumleschule', 'nille_lee', 'MarieDMeier', 'MMittermeier', 'xileffff', 'stang2k', 'nille_lee', 'kkklawitter', 'MarieDMeier', 'MMittermeier', 'xileffff', 'mrcockpit', 'MarlonGollnisch', 'Banana_Joe2', 'MasseyFriend', 'AfD', 'FranziskaGiffey', 'OlafStorbeck', 'WNP7013', 'Studierendenfu', 'tomueko', 'scc94s', 'MaxiReimers', 'xileffff', 'antje_geiger', 'V1Ulla', 'jakob__17', 'Storch_i', 'welt', 'CduMainz', 'watch_union', 'woelken', 'Nesewebel', 'SepPietsmiet', 'RouteBetter', 'Die_Gruenen?', 'Schmitty_SB', 'razerrath', 'nextmove_de', 'SonoMotors', 'SepPietsmiet', 'FirestormXXL', 'ThisLumpenjunge', 'neukoelln44', 'anja_urbschat', 'mopo', 'mopo', 'PolizeiHamburg', 'SepPietsmiet', 'LennartZHH', 'Kunkeline', 'maxhaegler', 'iheartfrankfurt', 'nextmove_de', 'der1000Sascha', 'iheartfrankfurt', 'iheartfrankfurt', 'BodoMdB', 'Orschwerplede', 'Spiro0815', 'BodoMdB', 'davepermen', '_tho_', 'papa_fidibus', 'BodoMdB', 'ZfK1', 'M_Hundhausen', 'thestanceman1', 'taschenorakel', 'KuehniKev', 'WELTAMSONNTAG', 'PolestarCars', 'welt', 'friendziska', '_Kittypunk', 'trdz17', 'SepPietsmiet', 'AgoraEW', 'huluvu', 'BodoMdB', 'BodoMdB', 'freiburg', 'MoebusAnne', 'maybritillner', 'ABaerbock', 'RegineGuenther', 'SenUVKBerlin', 'AGH_Berlin', 'StromschlagYT', 'news_nowgmbh', 'Pe_Kast', 'SebCzaja', 'Tagesspiegel', 'Badioff', 'DerVeloc1ty', 'Tesla', 'malueberlegen1', 'janusPrime', 'davepermen', 'HVolquardsen', 'RealDonDenito', 'frankfeil', '1_punch_mickey', 'davepermen', 'PeterMagulski', 'davepermen', 'AlgaRata', 'BMVI', 'Biokraftstoff', 'news_nowgmbh', 'stang2k', 'andreasscheuer', 'bundnaturschutz', 'CSU', 'faznet', 'faznet', 'EU__Timothy', 'EU__Timothy', 'EU__Timothy', 'welt', 'quazanga', 'eBerdnA', 'EnBW', 'nikbern', 'srfnews', 'pascal__2k', 'srfnews', 'welt', 'Stefan_Hajek', 'SWagenknecht', 'welt', 'Abt_Benjamin', 'EnBW', 'srfnews', 'nikbern', 'RalphStahl4', 'MitRolf', 'jakbaum', 'kkklawitter', 'welt', 'EnelXItalia', 'EON_de', 'AllegoCharging.', 'nextmove_de', 'Shell_Germany', 'Nell781', 'pittipoeh', 'bkarnikowski', 'oscarmachtmiau', 'Leaving_Orbit', 'Engel_Re', 'rrho', 'KasparReimt', 'kkklawitter', 'joe_leads', 'LudaLisl', 'Stefan_Hajek', 'The_Commenting', 'thinkBTO', 'EnBW', 'thestanceman1', 'ThorstenRinne', 'Hagen', 'stang2k', 'Sedios1', 'SebCzaja', 'c_lindner', 'Stefan_Hajek', 'wiwo', 'thinkBTO', 'nowucme_sven', 'ElectriveNet:', 'luebbermann', 'Touni', 'autohausonline', 'autohausonline', 'Benzingeruch', 'SebCzaja', 'c_lindner', 'TheUnicornXXL', '2teGuy1', 'ephraim_ki', 'MarianBracht', 'ArminLaschet', '2teGuy1', 'ephraim_ki', 'MarianBracht', 'ArminLaschet', 'ChristianOnRE', 'stang2k', 'Blue_eyes_2021', '_MaxDev_', 'EON_de', 'G4m3Division', 'marco_tralles', 'cem_oezdemir', 'HaraldLinden', 'MainovaService', 'morischus', 'SonoMotors', 'ElectriveNet', 'NdsLandesReg', 'gabonn', 'polizei_nrw_bn', 'JanzMjanz76', 'ulrics3', 'M_Hundhausen', 'ardmoma', 'andreasscheuer', 'CSU', 'MILESmobility', 'DrRedPillerson', 'artep21', 'zwischen2dates)', 'vertig0nix', 'ArminStecher', 'toko', 'MarianBracht', 'berlindirekt', 'ZDF', 'TheoKoll', 'c_lindner', 'c3cmos', 'mobileeee_fra', 'Tesla', 'ardmoma', 'ifo_Institut', 'Doppellhelix', 'CoalDead', 'bukodersahnige', 'CoalDead', 'alexs77', 'Ingo03774613', 'ABaerbock', 'VQuaschning', 'c_lindner', 'fpd', 'ZDF', 'ABaerbock', 'Die_Gruenen', 'bundeswehrInfo', 'AlainS1991', 'BrasCubas8', 'Maurice_Conrad', 'fischchristian', 'Juerg_Grossen', 'ewz_energie', 'halbtagsblog', 'bugspilot', 'Juerg_Grossen', 'ewz_energie', 'wirfuerhier', 'ThoPennell', 'BundesstadtBonn', 'seelenstein1981', 'ArminLaschet', 'elonmusk', 'Daimler', 'eGO_Mobile_SE', 'cem_oezdemir', 'STRABAG_SE', 'BMVI', 'MonikaHerrmann1', 'DubeAteo', 'Watch_Greens', 'superroof', 'Schmidtlepp', 'derGrazer', 'Jay__Kay__Kay', 'janusPrime', 'igembb', 'Bitting', 'ABaerbock', 'Real_Eecast', 'cooliopenguin', 'phba151', 'Stefan_Hajek', '_mtiemann', 'Die_Gruenen', 'Watch_Greens', 'MrMayer1234', 'Stefan_Hajek', 'walli5', 'polenz_r', 'Karl_Lauterbach', 'ArminLaschet', 'elonmusk', 'ThomasHeilmann', 'OlafKortluke', 'janusPrime', 'polenz_r', 'Schmidtlepp', 'ArminLaschet', 'MikeRatisbon', 'ABaerbock', 'Watch_Greens', 'Klaus_Bernhard', 'TAOnline', 'FWWinterberg', 'TimoEssner', 'Schmidtlepp', 'HyEconomy', 'Oralapostel86', 'deLinhuberin', 'rawbowke', 'Slytzel', 'ArminLaschet', 'elonmusk', 'RyHoRuK', 'oida_grantler', 'Karl_Lauterbach', 'ArminLaschet', 'elonmusk', 'JVoltersen', 'PeugeotDE', 'Gehvoran', 'MathiasPriebe', 'robin_tmm', 'ALLYBABTU', 'Lars_Kruse_1973', 'JewgeniAl', 'fandorinmusic', 'ArminLaschet', 'xBullseyegaming', 'ABaerbock', 'Marius_Raabe', 'solarpapst', 'ThomasASpencer', 'nextmove_de', 'RND_de', 'janusPrime', 'marco_tralles', 'cem_oezdemir', 'Telekom_hilft', 'tcharge', 'JulianeZielonka', 'ALLYBABTU', 'Lars_Kruse_1973', 'robin_tmm', 'JewgeniAl', 'fandorinmusic', 'ArminLaschet', 'CMDRArchadder', 'fahrIehrer', 'HelmutHans2', 'ctschoerner', 'janusPrime', 'GNUmatic', 'keinnamenix', 'cem_oezdemir', 'what_the_hack', 'autotestsonline', 'TorstenLeonhard', 'ChrDorner', 'OseloHH', 'PacesPeter', 'KarlMladek', 'Dekarldent', 'OpelDE', 'EnBW', 'FlowiGGA', 'RobertBoni6', 'rawbowke', 'ArminLaschet', 'elonmusk', 'Tombolamusikant', 'janboehm', 'MisterJoH2', 'jnswin', 'cem_oezdemir', 'footils', 'GreatBigSea1', 'MarcoLerch76', 'HRehburg', 'frankfeil', 't3n', 'MarcoLerch76', 'HRehburg', 'frankfeil', 't3n', 'MarcoLerch76', 'frankfeil', 't3n', 'MarcoLerch76', 't3n', 'LHapschi', 'BundesstadtBonn', 'SWBBusundBahn', 'dr_larcher', 'KarlMladek', 'KnutOgris', 'BergheimJeff', 'DennisKBerlin', 'autotestsonline', 'Sgt_H4rtman', 'MarinaHR90', 'EikePan', 'CassiopeiaKnits', 'xileffff', 'KarlMladek', 'innogy_emob', 'RWE_AG', 'OnkelBrudi', 'mbvans', 'Stefan_Hajek', 'JanThaler', 'thestanceman1', 'autotestsonline', 'autotestsonline', 'Ford_de', 'Schmierer14', 'StromschlagYT', 'Tobias_Kisling', 'VDA_online', 'FunkeBerlin', 'DerInspector', 'SabineBangert', 'TspBerlin', 'healfra', 'Marcus_aus_MD', 'SecretCoAuthor', 'Fastned', 'technikblog_ch', 'Reto_Zumbuehl', 'PAEDi75', 'norbertruecker', 'sudi1007', 'BAUHAUSInfo', 'Elektro_Robin', 'Juergen_Leicht', 'Moin_EWE', 'VDA_online', 'Herbert_Diess?', 'jens_tartler', 'idereinzige', 'quarkswdr', 'MercedesBenz_DE', 'MILESmobility', 'watch_union', 'nextmove_de', '_Kittypunk', 'bergwanderer', 'tagesschau', 'janusPrime', 'N_Schmid', 'SWM_Muenchen', 'QwelloCharge', 'KernNiko', 'uninformedelde1', 'pfeisi', 'KristinaFassler', 'HalleVerkehrt', 'Luisamneubauer', 'welt', 'KommtDraufAn2', 'xDreamCoding', 'xDreamCoding', 'pirandot', 'Webboy998', 'DerGraslutscher', 'xDreamCoding', 'pirandot', 'Webboy998', 'DerGraslutscher', 'pirandot', 'xDreamCoding', 'Webboy998', 'DerGraslutscher', 'Mythosger', 'rabu0049', 'nextmove_de', 'KT_Neumann', 'Tesla', 'SebblzZ', 'DanNJ2834', 'Karl_Lauterbach', 'MarcusSebelin', 'H777Werner', 'fragger911', 'StromschlagYT', 'Tesla', 'DerNicoA', 'Elektro_Robin', 'bruintje_debeer', 'PhillipGoik', 'anjes_tjarks', 'DerWirkungsgrad', 'MatzelusM', 'EdriverZo', 'CMDRArchadder', 'FabianLaasch', 'Schafkopfpokal2', 'BayernChristine', 'freiburg', 'ABaerbock', 'meisterlind', 'Karl_Lauterbach', 'urbandigitalDE', 'StromschlagYT', 'berlincityblues', 'SixtDE', 'polizeiberlin', 'SenUVKBerlin', 'berlincityblues', 'SixtDE', 'polizeiberlin', 'SenUVKBerlin', 'schlingel', 'StromschlagYT', 'Tesla', 'janusPrime', 'MoormannRainer', 'Stefanswelt', 'Krger77682308', 'ABaerbock', 'Die_Gruenen', 'ManuelaSchwesig', 'OlafScholz', 'spd', 'umrath', 'Vincent_KYDE', 'CleanElectrCast', 'buzze', 'FabianLaasch', 'Mingiam10', 'pazzoreale', 'YouTube', 'RolandSchueren', 'Die_Gruenen', 'MiKellner', 'ABaerbock', 'derspiegel', 'PeterWe79565374', 'MatzelusM', 'MarcMath5', 'MatzelusM', 'Mingiam10', 'janusPrime', 'festival4future', 'pirandot', 'Klima_Mahner', 'GrimmVeronika', 'PhilippDoerich', 'gruene_jugend', 'Ricarda_Lang', 'derspiegel', 'radkolumne', 'LamimaGC', 'McDonaldsDENews', 'hochitom', 'stang2k', 'nextmove_de', 'Tagesspiegel', 'danimrich', 'stefan', 'DerWirkungsgrad', 'MatzelusM', 'TimSchmuckall', 'ADAC', 'stadt_dresden', 'Randy54003032', 'nextmove_de', 'Herbert_Diess', 'IONITY_EU', 'emobility', 'agentsinaction', 'northalpha', 'U_K_Chris', 'EnBW', 'haschi53', 'andreasfrey5', 'Herbert_Diess', 'h10_o2', 'GerhardKeller7', 'Storch_i', 'csu_bt', 'Die_Gruenen', 'foes_news', 'DelphinDonald', 'anjes_tjarks', 'KVonderruhr', 'Gruene_staDDrat', 'stephankuehn', 'cyclistbonn', 'ThoPennell', 'BundesstadtBonn', 'seelenstein1981', 'BundesstadtBonn', 'RechtKuehn', 'feldmann_uster', 'michaelbaumer', 'ewz_energie', 'Koelschejung26', 'I_am_Yazzi', 'MaximalesD', 'Kabal__81', 'NoisesRed', 'djbeetee', 'Hagen', 'GrimmVeronika', 'edson_pipo', 'lgbeutin', 'Ben_Pfluger', 'GrimmVeronika', 'GrimmVeronika', 'SaschaInHalle', 'ford_machE', 'emobicon', 'MarcMath5', 'ecomento_de', 'mbvans', 'EnBW', 'alwayssimifuzi', 'nextmove_de', 'Twitter', 'netzoptimisten', 'KA_digital', 'zkmkarlsruhe', 'JohReetz', 'cem_oezdemir', 'Oliver_Krischer', 'MatthiasGastel', 'GrueneBundestag', 'MBauchmueller', 'SZ', 'uwehorstmann', 'Mingiam10', 'ernstwilhelm68', '21Soeren', 'aurelmertz', 'ABaerbock', 'Achetaton1', 'nextmove_de', 'cducsubt', 'Kunkeline', 'U_K_Chris', 'nextmove_de', 'Mingiam10', 'georgloesel', 'FeynmansMethod', 'janusPrime', 'Karl_Lauterbach', 'Karl_Lauterbach', 'leoll1234', 'Schmidtlepp', 'raumgreifend', 'CSU', 'ReinerAberJa', 'ReinerAberJa', 'CSU', 'Hamburg397', 'CDU', 'MichaelHerzer2', 'Karsten20673568', 'gethipp', 'BansheeHolzi', 'jugger1511', 'Kunkeline', 'derp_si', 'Hamburg397', 'TOLLABEA', 'monoxyd', 'FeuerwehrHH', 'Knaeckebrot2', 'AlejandraA82', 'Kematef', 'Karl_Lauterbach', 'tkaushro', 'kkklawitter', 'jooobi', 'pirandot', 'janusPrime', 'FeynmansMethod', 'Karl_Lauterbach', 'BjornNyland', 'lumpi_00', 'Pete_RCH', 'RobertBoni6', 'Blackseetornado', 'Karl_Lauterbach', 'Kunkeline', 'dl4go', 'BMVI', 'BMWi_Bund', 'MaAhl5', 'DonBarbone', 'bmu', 'GrimmVeronika', 'DonDahlmann', 'DudenhofferAUTO', 'Stefan_Hajek', 'OlaKaellenius', 'Herbert_Diess', 'BMVI', 'BMWi_Bund', 'JPRuehmann', 'MaAhl5', 'DonBarbone', 'bmu', 'PD9AIR', 'Black_cat_aiko', 'FabianLaasch', 'Mingiam10', 'martineberle', 'Karl_Lauterbach', 'AthleticsFuture', 'JensHar3', 'Die_Gruenen', 'ABaerbock', 'Tagesspiegel', 'home', 'FridayForFuture', 'greenpeace_de', 'Black_cat_aiko', 'FabianLaasch', 'Mingiam10', 'martineberle', 'schmiddi1077', 'Blackseetornado', 'Karl_Lauterbach', 'Hagen', 'thestanceman1', 'Hagen', 'ctschoerner', 'gutmenschen_inc', 'Blackseetornado', 'Karl_Lauterbach', 'sbeigl', 'panzerschoko', 'SchusterChristo', 'ghrighri_chri', 'gutmenschen_inc', 'Blackseetornado', 'Karl_Lauterbach', 'dreckfressernet', 'Timon_Gremmels', 'Chargemap', 'sz', 'andreasscheuer', 'welt', 'cv42ac', 'HalleVerkehrt', 'p_linke', 'Black_cat_aiko', 'FabianLaasch', 'Mingiam10', 'martineberle', 'SchusterChristo', 'dothebart', 'sbeigl', 'Black_cat_aiko', 'FabianLaasch', 'Mingiam10', 'martineberle', 'SchusterChristo', 'sbeigl', 'sbeigl', 'doktorhulk', 'doktorhulk', 'ZDFheute', 'ZDFheute', '0xa0000', 'nextmove_de', 'energy_charts_d', 'bloiner', 'laemmerbiss', 'Storch_i', 'danimo00956648', 'CDU', 'CSU', 'RAProchnow', 'Akoneira', 'e4Motion', 'kkklawitter', 'ProfEnergyHuber', 'VeroWendland', 'energy_charts_d', 'wirfuerhier,', 'BundesstadtBonn', 'JostAusSoest', 'DanielFrber1', 'innogy_emob', 'stadtdortmund', 'EnBW', 'RN_DORTMUND', 'bergdame', 'kineyDE', 'bitlexsa', 'GuntherSchnabl', 'Mave_Maverick_', 'LudaLisl', 'RainerDederichs', 'mbvans', 'hairy_neck', 'DortmunderJens', 'AndreUnikat', 'AKTIVWirtschaft', 'Iceskiff_Limeoh', 'spdde', 'next_e', 'a_braxes', 'Hagen', 'alwayssimifuzi', 'thestanceman1', 'EnBW', 'janusPrime', 'axiom4tic', '___n2k1', 's04paps', 'JVos63', 'MoormannRainer', '252Aegis', 'kindofmagic4u', 'Hagen', 'alwayssimifuzi', 'thestanceman1', 'EnBW', 'KlimalisteB', 'Heierle', 'Heierle', 'Heierle', 'golem', 'LIZ_de', 'StadtLeipzig', 'BoaConstrictorX', 'mkuehner77', 'kkklawitter', 'kkklawitter', 'doktorhulk', 'blues_pablo', 'Aut1150Vie', 'superchemist13', 'Storch_i', 'danimo00956648', 'CDU', 'CSU', 'sebigeb', 'johannesboie', 'Arnd_Diringer', 'welt', 'WELTAMSONNTAG', 'markusbelz1', 'ovilava', 'st3fan_de', 'a_braxes', 'sturm_kintaro', 'GrueneBundestag', 'Die_Gruenen', 'enbw', 'KroegerOve', 'Tesla', 'm0s3ph', 'beckersstef', 'Berndte3', 'Springstulle', 'alextv', 'StaiyLIVE', 'KowalskiFlausn', 'FCBayern', 'AudiOfficial', 'HilliKnixibix', 'beaucarnea24558', 'groeschc', 'aurelmertz', 'kkklawitter', 'Toni_LehmannTL', 'Koxi73', 'jcfrick', 'jcfrick', 'engelhardi', 'BMW', 'djbeetee', 'ThoschIsHere', 'Hagen', '_tho_', 'fquednau', 'Stefan_Hajek', '98mercedes98', 'enviaM,', 'EnBW', 'Shell_Germany', 'tantegreta1', 'RobertBoni6', 'mikevon1975', 'DerGraslutscher', 'DortmunderJens', 'RobertBoni6', 'mikevon1975', 'DerGraslutscher', 'An_di_Arbeit', 'RobertBoni6', 'Stefan_Hajek', 'marzipanmoehre', 'Neusser', 'DerGraslutscher', 'MadDiasYoung1', 'Stefan_Hajek', 'Stefan_Hajek', 'HilliKnixibix', 'berny13189', 'welt', 'MadDiasYoung1', 'Stefan_Hajek', 'MatthiasGroeber', 'Stefan_Hajek', 'Real_Eecast', 'cooliopenguin', '_mtiemann', 'sonomotors', 'CMDRArchadder', 'Stefan_Hajek', 'HilliKnixibix', 'faltmann', 'TiloJung', 'MatthiasGroeber', 'phba151', 'Stefan_Hajek', 'Real_Eecast', '_mtiemann', 'thestanceman1', 'verkehrswendeb2', 'moepcode', 'koehntopp', 'fragger911', '2jas', 'Stefan_Hajek', 'JVos63', 'wodgachef', 'die_zahl_42', 'thestanceman1', 'LukTBrand', 'UlkDer', 'Schmidtlepp', 'AukeHoekstra', 'vorortanleiter', 'Lenny_du_Nord', 'zugkatze', 'Lenny_du_Nord', 'Lenny_du_Nord', 'correctiv_fakt', 'GrimmVeronika', 'Knobelsdorff', 'HerrnHarder', 'Touni', 'vilimsky', 'mousseman', 'Biokraftstoff', 'freie_presse', 'RobertBoni6', 'Stefan_Hajek', 'philtwoone', 'tron_80', 'tina_trautmann', 'tron_80', 'tron_80', 'JeepneyJulez', 'Herbert_Diess', 'Vincent0_', '721vz', 'PeugeotDE', 'pbruegger', 'Siru_Per', 'DanEi75', 'Heart_Bea_t', 'EdriverZo', 'basz_berlin,', 'AllegoCharging', 'HanseWerk', 'djbeetee', 'stang2k', 'Hagen', 'StromschlagYT', 'umrath', 'EricE2017', 'JKasek', 'AnikaK46696813', 'smartiiboi', 'AnaLeGrande1', 'Die_Gruenen', 'StromschlagYT', 'faaigoa', 'ZDFheute', 'cj5762cj', 'etronaut', 'GerdKebschull', 'volkswagen_de', 'VWReplacement', 'Elektro_Robin', 'elektrokarre', 'AutoStromer', 'Hamburg397', 'technikblog_ch', 'Stefan_Hajek', 'MMittermeier', 'etronaut', 'stang2k', 'wirklichewelt', 'cj5762cj', 'Dianaownz100', 'EnBW', 'DEHNprotects', 'Tech_Cartoons', 'cj5762cj', 'Dianaownz100', 'EnBW', 'goerke_c', 'handelsblatt', 'ChibiZerberus', 'heuteshow', 'nextstepmobil', 'Toyota_DE', 'stekkerauto', 'Mingiam10', 'nextmove_de', 'Porsche', 'Toyota_DE', 'stekkerauto', 'Mingiam10', 'thedj71', 'wanner_fabio', 'Friday4Hubraum', 'tonirudolf', 'wanner_fabio', 'Friday4Hubraum', 'tonirudolf', 'wanner_fabio', 'Friday4Hubraum', 'thedj71', 'wanner_fabio', 'Friday4Hubraum', 'docsteinmetz', 'ZDFheute', 'GegenRechts4', 'eg_rocker', 'DerGraslutscher', 'Doblerin', 'roddi', 'twittlik', 'elhotzo', 'mkerler', 'ahw71', 'SZ', 'SamothRelgi', 'planwerk', 'meisterlind', 'Hornbach_tweets', 'news_nowgmbh', '343max', 'Vonovia_SE', 'SZ', '343max', 'Magggus', '112hoshi', 'EnduMan', 'shh_de', 'Taurec42', 'magnetic_cement', 'IsmailErtug', 'SZ', 'DJanecek', 'nextmove_de', 'Porsche', 'nextmove_de', 'Porsche', 'nextmove_de', 'Porsche', 'roterPunkt', 'planwerk', '_tho_', 'nextmove_de', 'Porsche', 'moovility_me', 'pjanik_otm', 'rstein', 'visevic', 'Tstormwitch', 'nextmove_de', 'Porsche', 'nextmove_de', 'Porsche', 'RheinEnergie', 'PlahrAl', 'johannesvogel', 'welt', 'iamspindle', 'johannesvogel', 'welt', 'EV_Stevee', 'EdriverZo', 'KowalskiFlausn', 'FischwaffeI', '_Spoekenkieker', 'Karl_Lauterbach', '_FriedrichMerz', 'nextmove_de', 'Porsche', 'KowalskiFlausn', 'EdriverZo', 'RND_de', 'Mommy4future', 'parents4future', 'FridayForFuture', 'WirSindGruen', 'Die_Gruenen', 'nextmove_de', 'Porsche', 'DavidPirate44', 'Daimler', 'capotuttticapi', 'lk_weyergraf', 'seifert34', 'Kricke1905', 'nextmove_de', 'Porsche', 'autobild', 'wiwo', 'nextmove_de', 'Porsche', 'Rob_Erth', 'cihansugur', 'Porsche', 'ADAC', 'cxtuveri', 'DonBarbone', 'teslamag', 'tobiasjust', 'GodmotherAtWork', 'Geniusiel', 'Gert_Woellmann', 'mikeryko1', 'ahoernchen_1', 'ElfiElfe', 'Sedios1', 'AugustvonAugust', 'MaximalesD', 'GillyBerlin', 'urwumpe', 'AugustvonAugust', 'MaximalesD', 'NorbertBolz', 'ThorstenRinne', 'Elektro_Robin', 'KroegerOve', 'GsoXperia', 'frankfeil', 'IONITY_EU', 'MercedesBenz_DE', 'GillyBerlin', 'Sedios1', 'AugustvonAugust', 'MaximalesD', 'HilliKnixibix', 'Benzingeruch', 'tonline', 'MarcMath5', 'tonline', 'Benzingeruch', 'MaximalesD', 'Kricke1905', 'bsterix', 'derspiegel', 'freizeitgraf', 'heuteshow', 'kallenje', 'Ehreninvestor', 'Daniel_M_Anton', 'RainerDederichs', 'mbvans', 'AllegoCharging', 'ZauberhaftW', 'cwoehli', 'JochenH_14', 'tonline', 'tgrueninger', 'NetNhark', 'Karl_Lauterbach', 'Frollein_Cortex', 'Lam3th', 'Frollein_Cortex', 'Lam3th', 'derGerfried', 'michaelmosch3', 'gAndy84', 'ladefuchs', 'greenostermann', 'Frollein_Cortex', 'Lam3th', 'SchmidtHenry_', 'greenostermann', 'janvesp', 'greenostermann', 'Silbaer', 'OCISLY_', 'Karl_Lauterbach', 'heuteshow', 'AlfredKrappel', 'TilmanWinkler', 'Georg_Maes', 'fraujoller', 'stang2k', 'Stefan_Hajek', 'wiwo', 'Silbaer', 'Karl_Lauterbach', 'Silbaer', 'Karl_Lauterbach', 'fraujoller', 'thestanceman1', 'elemob_de', 'OCISLY_', 'Karl_Lauterbach', 'craty', 'marcogineer', 'Karl_Lauterbach', 'Ricky28346066', 'Karl_Lauterbach', 'Frollein_Cortex', 'Lam3th', 'craty', 'Karl_Lauterbach', 'RudiBlitzer', 'Micha31281963', 'prefec2', 'stuttgart_stadt', 'radentscheid_S', 'TilmanWinkler', 'auchmaneinsagen', 'technikjuli', 'TilmanWinkler', 'Daimler', 'WPipperger', 'araldeutschland', 'anna_p_neumann', 'c_lindner', 'twachti', 'Berndte3', 'DerWirkungsgrad', 'JensGottron', 'CryptoBase16', 'anna_p_neumann', 'c_lindner', 'DominikBroda', 'Fastned', 'electricfelix', 'stang2k', 'AllegoCharging', 'IONITY_EU', 'FrankRauschenb3', 'Lam3th', 'JPProeger', 'fraupfoetchen', 'arztvongniere', 'greenostermann', 'greenostermann', 'greenostermann', 'der_versuch', 'Sutemi7', 'greenostermann', 'Markus_Soeder', '_Kittypunk', 'Borgziege', 'Norabelle124', 'arztvongniere', 'alex_avoigt', 'DerWildeOscar1', 'arztvongniere', 'elebrir', 'arztvongniere', 'GernotDreher', 'arztvongniere', 'ElJiden', 'RealDonDenito', 'frankfeil', 'iwonalaub', 'umwomukum', 'ferrari2k', 'lordxxl', '12KeineAhnung', 'ulch20', 'JPProeger', 'GermanCucumber1', 'stang2k', 'tm_nrmn', 'Koelner_Peter', 'dimetrodon109', 'Yohanna_xyz', 'CSU', 'Markus_Soeder', 'clscholz', 'handelsblatt', 'NicoSchurr', 'thestanceman1', 'tonline', 'HeinrichZweite', 'mbvans', 'CSU', 'Markus_Soeder', 'koehntopp', 'saschakiefer', 'Momnbccxy', 'derspiegel', 'markusdd5', 'nextmove_de', 'Tesla', 'handelsblatt', 'napoli_cirillo', 'TeslaSchweiz', 'KonserveHendrik', 'BcPoldi', 'Linuzifer', 'cubnet', 'cityradler', 'faznet', 'hubject', 'Plugsurfing', 'KaiRueckert', 'pirandot', 'Friedricks7', 'topbusiness13', 'DerPoppe', 'ElovY_', 'mbvans', 'Astiburg', 'VeroWendland', 'Klaus_Phil', 'Die_Gruenen', 'ABaerbock', 'ardmoma', 'Markus_Soeder', 'ardmoma', 'dd_tomtom', 'Markus_Soeder', 'ardmoma', 'milktoast23', 'flanders9999', 'Karl_Lauterbach', 'Plink51631015', 'CorinnaMiazga', 'SteinbachErika', 'Plink51631015', 'CorinnaMiazga', 'SteinbachErika', 'bzberlin', 'Piraten', 'JFKonstanz', 'PeterMagulski', 'StadtwerkeKN', 'DigiEngineer', 'BritishGuy30', 'keksznet', 'sbamueller', 'ladenetz', 'Elektro_Robin', 'ladenetz', 'badenovaAG,', 'etronaut', 'Volksverpetzer', 'Der_Postillon', 'der_2taccount', 'michaelmosch3', 'RolandsonStali', 'BerndBurkert', 'mkiewel', 'djbeetee', 'Hagen', 'unfassbar7', 'JarischEnrico', 'Afelia', 'eliskrug', 'Doblerin', 'unfassbar7', 'Dkeeper78', 'JarischEnrico', 'Afelia', 'grundeigentuem1', 'bzberlin', 'michaelmosch3', 'BerndBurkert', 'mkiewel', 'akirabutterfly', 'nakaori', 'BrunsRainer', 'ladenetz', 'Elektro_Robin', 'barth_ulf', 'OmaPsch', 'BILD', 'Die_Gruenen', 'tuessl', 'bzberlin', 'pflegedissens', 'teslawelt', 'THWLeitung', 'BFMuenchen', 'EON_de', 'nextstepmobil!', 'GruneLiebe', 'ABaerbock', 'monomachak', 'OmaPsch', 'BILD', 'Die_Gruenen', 'kramer_heinz', 'Astrogator14', 'Tini68274439', 'klardenk', 'HerbertFechner', 'nextmove_de', 'CMDRArchadder', 'Tesla', 'realPalpatine1', 'mbvans', 'fahrverbot_info', 'almankaninchen', 'VolvoCarPR_DE,', 'Nakiface', 'aurelmertz', 'LaaxSwitzerland', 'Orgelkurt1', 'katzenklo_DE', 'peter_srt8', 'berndlicht1', 'BILD', 'h_odiug', 'DgsTraining', 'watch_union', 'Rosinnjo', 'hausinger_ihk', 'DerWirkungsgrad', 'dervomamt', 'lesefuchs70', 'thestanceman1', 'markusdd5', 'ErnstSaurer', 'derGerfried', 'p_humm', 'ecomento_de', 'JuiceTechnology', 'fasnix', 'sven_giegold', 'hjoest', 'FAZ_Politik', 'EU_Commission', 'Die_Gruenen', 'micha_bloss', 'peteraltmaier', 'seahawk_71', 'Ron_Chitis', 'tuxbooster', 'FaulerZauber1', 'mbvans', 'flieger59googl1', 'AfD', 'ReneHesse', 'Drowhunter', 'jdoeschner', 'peteraltmaier', 'Tibosuess', 'Hagen', 'Porsche', 'belobregovic', 'CKemfert', 'ottostadt', 'ElektrischST', 'DanielFrber1', 'acv_de', 'Sarkasmussensor', 'heuteshow', '_tho_', 'ziromr', 'Katzenpunk42', 'vogt_tobi', 'Beatrix_vStorch', 'Wir_sind_Volker', 'EPactivevoice', 'cem_oezdemir', 'CDU', 'CSU', 'spdde', 'fdp', 'Die_Gruenen', 'glptbollinger', 'StefanBratzel', 'UUlrichsen', 'BILD', 'FabioDeMasi', 'Fastned', 'Angriffsmacht', 'ZDFheute', 'itmkoeln', 'WDRaktuell', 'Stokstaartje812', 'IngoNitko', 'nutzlose_info', 'IngoNitko', 'Kuestenkorsar', 'SpoonTabby', 'heuteshow', 'Tentakelkaiser', 'Hoeze2', 'jcfrick', 'JuiceTechnology', 'teslamag', 'TeslaCharging', 'ladesaeule', 'dvd_hrtmnn', 'tperlen', 'MonikaHerrmann1', 'Felix_Weisbrich', 'RadXhain', 'CCitiesOrg', 'taz_berlin', 'ADFC_Berlin', 'autofreieKieze', 'autofreiberlin', 'VBerlinautofrei', 'Pinhead6', 'ntvde', 'piloly', 'johk95', 'DerInformant_', '_mtiemann', 'greenpeace_de', 'volkswagen', 'StefStef3', 'smagictoy', '_noelamac_', 'Engel_Re', 'Michael_Kunz', 'wiwo', 'plugshare', 'HaraldLinden', 'nextmove_de', 'MorkOrg', 'markusdd5', 'nextmove_de', 'jcfrick', 'JuiceTechnology', 'nextmove_de', 'FranzOnBrands', 'frankfeil', 'tagesschau', 'FranzOnBrands', 'frankfeil', 'loli_isis', 'Blixah', 'frankfeil', 'Bianca_Quassel', 'BodoMdB', 'Stefan_Hajek', 'RheinEnergie', 'freeskier1978', 'frankfeil', 'dor_schens', 'dwrweb_de', 'airfoxtwo', 'EnBW', 'thestanceman1', 'FabianLaasch', 'Elektro_Robin', 'janusPrime', 'mark_otten', 'MarBel78', 'SWUStadtwerke', 'ulm_donau', 'bbhermann', 'vowe', 'SWUStadtwerke', 'ulm_donau', 'VerwDirektor', 'MarBel78', 'HansestadtStd', 'AfDBerlin', 'patric_ohne_k', 'HendrikB_', 'LittleNika1', 'umrath', 'Elektro_Robin', 'kaufland', 'PolizeiMuenchen', 'StadtMuenchen', 'SWM_Muenchen', 'SSGN729', 'mux_tux', 'InOrbit11', 'ulfposh', 'welt', 'TheClimateHoax1', 'TichysEinblick', 'Leon_Bergmann', 'kuehlungsbornDE', 'mthie', 'Tesla', 'PotatoePet', 'Ruediger_Krause', 'DemiurgDer', 'Axlban', 'FridayForFuture', 'Ruediger_Krause\\u200bs', 'twatschi', 'heartcrazed', 'Elektro_Robin', 'TobiasKreuzer4', 'W_Oldoerp', 'felixloe', 'IWOeV', 'felixloe', 'RobertBoni6', 'IWOeV', 'mcfire999', 'awillburger', 'iDominik94', 'loredo', 'konradMD', 'EnBW', 'RegineGuenther', 'RamonaPop', 'martineberle', 'JennyJedoch', 'the6big6', 'ute_____', 'Stadt_Eltville', 'Patrick_Kunkel', 'SamothRelgi', 'monstermash312', 'HobbyQS', 'JuleStinkesocke', 'Stadt_BRB', 'OpelDE', 't3n', 'the6big6', 'JennyJedoch', 'VictorMahdiae', 'ute_____', 'euref', 'Oltmann26', 'RMuellerEUREF', 'ubitricity', 'inno2grid', 'SchneiderElecDE', 'Tesla', 'Tellos86', 'tagesschau', 'EnBW', 'verkehrswendeb2', 'tagesschau', 'ute_____', 'xintegrate', 'TIMETOACTGROUP', 'Davideus88', 'HendrikKafsack', 'faznet', 'the_fesxh', 'guybrushdent', 'PROMEENZ', 'PROMEENZ', 'lidl', 'LinkeMadeleine', 'gruene_future', 'ElektrischST', 'SZ', 'WDRaktuell', 'bdew_ev', 'BWjetzt.', 'KV_HBNORD', 'DiePARTEI', 'heiko70', 'drumheadberlin', 'BILD', 'cem_oezdemir', 'MissingMarple', 'disco30003', 'cem_oezdemir', 'jazzbourne', 'cem_oezdemir', 'kadett11', 'cem_oezdemir', 'dynamo1955', 'JurgenPresser', 'PA_HarryP', 'BZ_NachtFloh', 'Der_Dutschi', 'hessenschau', 'VollhonkI', 'BarlagLeonard', 'GoeringEckardt', 'SZ', 'ARD_BaB', 'VollhonkI', 'BarlagLeonard', 'GoeringEckardt', 'SZ', 'zeitonline', 'tagesschau', '_Kittypunk', 't3n', 'Dianaownz100', 'BlakeDonovan7', 'h_eg', 'Emmanzipation', 'frederic2406', 'BlakeDonovan7', 'h_eg', 'Emmanzipation', 'cd_etc', 'igembb', 'VDA_online', 'dk_tsl', 'igembb', 'VDA_online', 'felis_rex', 'sbamueller', 'Medienwandler', 'mbvans', 'MaxFichtner', 'GillyBerlin', 'DerWebschreiner', 'Christoph_Br98', 'bitsundso', 'schlingel', 'EatWeird_', 'berlinerwoche', 'StadtwerkBerlin', 'basz_berlin', 'SenUVKBerlin', 'NurderK', 'electricfelix', 'electricfelix', 'hessenschau', 'EnBW', 'LichtBlick_de', 'jonasjoelk', 'JuiceTechnology', 'kkklawitter', 'kaufland', 'cwc_ffm', 'systemstig', 'EnBW', 'IONITY_EU', 'TouchBenny', 'KowalskiFlausn', 'kathynjaneway', 'TheLiberalDan', 'TheLiberalDan', 'BMWi_Bund', 'RegBerlin', 'AktienTraum', 'RathsRalf', 'craggy_island', 'Drosera68576595', 'HB00261469', 'AufPhd', 'Die_Gruenen', 'Skyrgamur', 'FlorianFalk2', 'heiseonline', 'schmettowa', 'araldeutschland', 'Brotiger17', 'AnonNewsDE', 'Sam__Neill', 'ShobbShobb', 'Fragender3', 'AnonNewsDE', 'PGrasarevic', 'gwendolan1', 'christianmutter', 'thestanceman1', 'CMDRArchadder', 'frankfeil', 'allianz_de', 'FrauBruellen', 'wdwarncke', 'nnz', 'electricfelix', 'polarsteps!', 'IONITY_EU', 'stang2k', 'EnBW', 'moovility_me', 'lolly_lena', 'Sven19752', 'f_karig', 'auto_swiss', 'herrmayr', 'thestanceman1', 'tatentschluss', 'DerriKamu', 'Karl_Lauterbach', 'GretaThunberg', 'Marius_Raabe', 'systemstig', 'tazgezwitscher', 'tranxxxer', 'L00kiii', 'Tagesspiegel', 'dgfeist', '0xa000', 'NathanPCharles', 'RA_Conrad', 'davidbest95', 'jxn_cry', 'IONITY_EU', 'Leon_Bergmann', 'davidbest95', 'Dkeeper78', 'RA_Conrad', 'BukowskisNephew', 'thestanceman1', 'RA_Conrad', 'mrcockpit', 'Stephja3', 'Tagesspiegel', 'Storch_i', 'BMVI', 'RegSprecher', 'FridayForFuture', 'Luisamneubauer', 'jakobblasel', 'gruene_jugend', '_mtiemann', 'MarieAndTheSea', 'cem_oezdemir', 'GoeringEckardt', 'sven_kindler', 'Marvin19591', 'heuteshow', 'Mingiam10', 'Horitsu_Photo', 'AGreenMind1', 'heuteshow', 'Horitsu_Photo', 'ZoePionierin', 're_alCapone', 'heuteshow', 'heuteshow', 'heuteshow', 'heuteshow', 'OlafGersemann', 'tazgezwitscher', 'Taifun987', 'derspiegel', 'Haberling', 'waswievielewer', 'otzenpunk', 'ReiSteurer', 'modgamers', 'kkklawitter', 'Naturschuetzen', 'Jukischx64', 'WeShare_DE', 'BMVI', 'FAZ_NET', 'Tagesspiegel', 'Kerstin3030', 'Die_Gruenen', 'ABaerbock,die', 'ABaerbock', 'kkangpae12', 'mwibob', 'RA_Conrad', 'initin_de', 'robinvonrobintv', 'moers_de', 'the202er', 'HAZElmshorn', 'Boesegucker', 'xtraa', 'eMobilitaet_BEM', 'emobly', 'buntewelt1966', 'MarkPrecht', 'Gerard17120984', 'MMittermeier', 'ThomasEsser11', 'stang2k', 'thestanceman1', 'RolandTichy', 'DerGraslutscher', 'DerGraslutscher', 'EnBW', 'BVorbereitung', 'CDU', '_FriedrichMerz', 'HGMaassen', 'heiseautos', 'heiseonline', 'VDA_online', 'markusdd5', 'great_marus', 'dominikwind', 'BerdSalz', 'c_schwarzer', 'sebbi', 'ingouschner', 'ulfposh', 'welt', 'StadtRE', 'MineCooky', 'Karl_Lauterbach', 'lenavandijk', 'Karl_Lauterbach', 'pidays', 'Afelia', 'Karl_Lauterbach', 'leRaffl', 'Karl_Lauterbach', 'EnBW', 'allego', 'sebbi', 'ingouschner', 'ulfposh', 'welt', 'elgert_0211', 'bruddelei', 'Daver_eiss', 'trebbianos', 'TRDSRLZ', 'marvinpoo', 'Mellcolm', 'LogistikExpres1', 'LukTBrand', 'jochenknecht', 'TRONITY_IO', 'EnBW', 'MercedesBenz_DE?', 'nextmove_de', 'great_marus', 'sebbi', 'ingouschner', 'ulfposh', 'welt', 'SirSAPaLot1', 'MichaelBaleanu', 'philippvetter', 'welt', 'UlrHenn', 'christoph_CDU', 'deuxcvsix', 'TerliWetter', 'Hagen', 'EnBW', 'Fastned', 'ChristophSeile3', 'VDA_online', 'PhesKlNachtmusi', 'johnFstemmedy', 'KebabChris', 'KenzoVandagg', 'Freiheitsliebe5', 'jxn_cry', 'RayTski', 'ulfposh', 'welt', 'TerliWetter', 'AstonMarco1', 'VivaParess', 'WernerFuchs_CH', 'EngelGert', 'Rumack69', 'EickeTarkus', 'HolocaustRef', 'EggMarkus', 'FeuerruepelLP', 'WahnSager', 'TheodorHeinric4', 'Procyon25', 'batcat251', 'WwolfeDE2021', 'mjm19761', 'katiaabcd1', 'AhmedVoglar', 'rumornort', 'xtraa', 'Kizito5', 'bjarnerugbr', 'Trollwiesentro1', 'Stohrm2', 'Menon9767', 'GeleeJean', 'nurdermarcus', 'roman2838', 'hazelbrugger', 'obiwan666', 'DeutscheWelle', 'roberto_blanko', 'Hamburg397', 'technikjuli', 'Hoellenaufsicht', 'ladefuchs', 'teslawelt', 'teslawelt', 'StefanM20326975', 'LisaDen17885769', 'ReneTene', 'BILD', 'AfD_LSA', 'm_jendrischik', 'ketoman25', 'Die_Gruenen', 'ABaerbock', 'Chickenwing64', 'StadtwerkeKN', 'CMDRArchadder', 'a_braxes', 'etron_audi', 'janusPrime', 'RobinKoenig01', 'Die_Gruenen', 'gre0j', 'Mingiam10', 'mitWorte', 'fms_munich', 'Werktaetiger_', 'velerojo', 'Frederi04925689', 'solarpapst', 'AgoraEW', 'BMWi_Bund', 'SvenjaSchulze68', 'sciforfuture', 'VQuaschning', 'franzalt', 'ADAC', 'VCDeV', 'martinpallmann', 'solarpapst', 'AgoraEW', 'BMWi_Bund', 'SvenjaSchulze68', 'sciforfuture', 'VQuaschning', 'franzalt', 'ADAC', 'VCDeV', 'welt', 'AllegoCharging', 'MusicAnt4', 'CMDRArchadder', 'muskpiration', 'StocklPatrick', 'flecky59276171', 'CWRoehl', 'Pauline22335', 'DLF', 'electrifiedwome', 'Mingiam10', 'arniekroeger', 'DBloghaus', 'electrodocs', 'StromschlagYT', 'FrankWunderli13', 'Fischblog', 'flecky59276171', 'CWRoehl', 'DerWebschreiner', 'philipp_ebel', 'Umweltrat', 'Umweltbundesamt', 'bmu', 'CKemfert', 'markusdd5', 'TouchBenny', 'UnserAllerWald', 'rahmstorf', 'appgefahren', 'janusPrime', 'HalleVerkehrt', 'HoskyOShayoz', 'HolzheuStefan', 'Franke_FDP', 'fdp', 'stefanolix', 'jungpionier_', 'stefanolix', 'stefanolix', 'diegruenen', 'LEGO_Group', 'RaGl', 'SwissBev', 'lucassoeker', 'technikblog_ch', 'vwschweiz', 'AMAG_Media', 'Joerg_Meuthen', 'insanelygreat', 'janusPrime', 'cem_oezdemir', 'Daimler', 'Seppuku0815', 'zeitonline', 'JanazJoseph', 'eMTA_G2_CBF1000', 'nocki61', 'StadtGrimma,', 'stuttgart_stadt', 'Uni_Stuttgart', 'Der_BDI', 'VDA_online', 'SPeitsch', 'kroschel', '_BK_says', 'waldenmonk', 'rd3lta', 'Kl_Stone', 'Luisamneubauer', 'BUNDjugend', 'markusdd5', 'stang2k', 'thestanceman1', 'Karl_Lauterbach', 'LidlOesterreich', 'thestanceman1', 'frankfeil', 'Matze_Bob', 'lindworm', 'Mirdoejal2', 'Elektro_Robin', 'stadtzuerich.', 'twittlik', 'SvenUckermann', 'micha_zimmer', 'Karl_Lauterbach', 'thestanceman1', 'VeroWendland', 'LudgerWess', 'ausgestrahlt', 'fff_muc', 'GenerationStrom', 'volkswagen', 'FabianLaasch', 'jstammi', 'whyvern', 'WernerderChamp', 'Karl_Lauterbach', 'thestanceman1', 'micha_zimmer', 'Karl_Lauterbach', 'thestanceman1', 'VeroWendland', 'LudgerWess', 'ausgestrahlt', 'fff_muc', 'Teconeroga', 'thestanceman1', 'Karl_Lauterbach', 'stumi74', 'DK3KM', 'd_scho', 'alexander_leis', 'MastercardDE', 'Visa_DE', 'Caethan13', 'kann_fast_alles', 'stephsunshine13', 'Julius1977', 'kkklawitter', 'sinclair679', 'IWOeV', 'ReginaSchmid7', 'thestanceman1', 'Karl_Lauterbach', 'alwayssimifuzi', 'sinclair679', 'IWOeV', 'CarFreiTag', 'RealWuergi', 'nextmove_de', 'VWGroup_DE', 'kaufland', 'martinpallmann', 'LarsHaise', 'Luisamneubauer', 'tb_bier', 'AfDVerdachtfall', 'vielhaber_petra', 'stang2k', 'DocHappy2', 'the_new_Toni85', 'MercedesBenz_DE', 'the_new_Toni85', 'btux69', 'mrcockpit', 'MaSiRoJu', 'Leyendakitara', 'MMittermeier', 'KaPri11782464', 'MSeitl', 'Karl_Lauterbach', 'Tremonius_de', 'MickyBeisenherz', 'MMittermeier', 'the_new_Toni85', 'the_new_Toni85', 'SZ', 'maxhaegler', 'TerliWetter', 'CKatzur', 'annaesch1', 'MPurrio', 'MickyBeisenherz', 'C_Pohlmann', 'miriam_vollmer', 'CMDRArchadder', 'cem_oezdemir', 'thestanceman1', 'cem_oezdemir', 'MickyBeisenherz', 'MMittermeier', 'Mupfmama', 'the_new_Toni85', 'trishohara', 'MMittermeier', 'Der_Fumpinator', 'the_new_Toni85', '42oderwas', 'WurmMiss', 'the_new_Toni85', 'the_new_Toni85', 'netzrotnah67', 'Tori97832288', 'ChristophBeisl1', 'MMittermeier', 'realStephan79', 'acv_de', 'VladddKo', 'Tori97832288', 'ChristophBeisl1', 'the_new_Toni85', 'dare_dems', 'the_new_Toni85', 'the_new_Toni85', 'ChristophBeisl1', 'gre0j', 'the_new_Toni85', 'ihastwitta', 'Wolfgang_42', 'micha06de', 'Karl_Lauterbach', 'Stoertebeker480', 'pfernis', 'stefan_w19', 'MarcusWadsak', 'diegruenen', 'the_new_Toni85', 'DNKira1', 'GmbhWarncke', 'CNG_Hannover', 'Stvedie', 'olemobility', 'olewin', 'TilmanWinkler', 'TspBackgroundMT', 'slakeband', 'DVGW', 'NDRinfo', 'DomTHell', 'cng_club', 'CNG_Mobility', 'the_new_Toni85', 'TilmanWinkler', 'cooliopenguin', 'RheinEnergie', 'ArntJosef', 'd_taggert', 'frischfuettern', 'Henne999', 'SZ', 'Audi', 'maxhaegler', 'GeraldBauer18', 'TomGoesGreen', 'the_new_Toni85', 'DOeliger', 'funbaker', 'Piratenpartei', 'rezomusik', 'technikjuli', 'VDA_online', 'frischfuettern', 'Henne999', 'SZ', 'Audi', 'maxhaegler', 'Frau_Lange', 'AnderlLechner', 'Shell_Germany', 'mackel_eu', 'woelpke', 'joe_vandura', 'BoernyA', 'Karl_Lauterbach', 'the_new_Toni85', 'ITS50413975', 'FrankKlarname', 'ba_ljk', 'ADAC', 'the_new_Toni85', 'the_new_Toni85', 'nuclearpostman', 'LeopoldoMones', 'jobratan', 'KonradSybille', 'ulfposh', 'greenpeace_de', 'moritur_et_ride', 'akatztwit', 'BSteuerzahler', 'jdoeschner', 'the_diogenes', 'advotuxde', 'Marius_Raabe', 'Holger_Nehring', 'CarloMasala1', 'the_new_Toni85', 'the_new_Toni85', 'Karl_Lauterbach', 'KaPri11782464', 'DerAkte', 'Karl_Lauterbach', 'Holger_Nehring', 'Marius_Raabe', 'CarloMasala1', 'TomFragt', 'nextmove_de', 'Tesla', 'weareontrack', 'nextmove_de', 'Tesla', 'andreasscheuer', 'MineCooky', 'Mingiam10', 'CMDRArchadder', 'nextmove_de', 'Juergen_Kaiser', 'greenpeace_de', 'volkswagen', 'VWGroup', 'sohrab21', 'andreasscheuer', 'Tesla', 'elonmusk', 'Hamburg397', 'ganymed1610', 'MineCooky', 'blackdaydream', 'YviBlue__', 'Mainfrezzer', 'Karl_Lauterbach', 'Hamburg397', 'ganymed1610', 'MineCooky', 'elektrokarre', 'gre0j', 'MineCooky', 'Telekom_hilft', 'CMDRArchadder', 'tagesschau', 'elektrokarre', 'Elektro_Robin', 'nextmove_de', 'Tesla', 'EnBW', 'Shell_Germany', 'AllegoCharging', 'EON_de', 'greenpeace_de', 'SvenPusswald', 'SiemensMobility', 'BMW', 'Siemens', 'nextmove_de', 'Tesla', 'nextmove_de', 'Tesla', 'nextmove_de', 'Tesla', 'SamothRelgi', 'stuttgart_stadt', 'stuttgart_stadt', 'Stadt_FFM', 'RealWuergi', 'nextmove_de', 'VWGroup_DE', 'Milten85', 'nextmove_de', 'VWGroup_DE', '7VAMPIR', 'HaleoKn', 'PeterMagulski', 'PeterMagulski', 'EnelXGlobal', 'EnBW', 'vwschweiz', 'AMAG_Media', 'greenpeace_de', 'acv_de', 'DH1FR', 'EPactivevoice', 'MKreutzfeldt', 'CMDRArchadder', 'Minetimeth', 'Elektro_Robin', 'stadtmobilev', 'CMDRArchadder', 'dklaes_astro', 'Elektro_Robin', 'FLER', 'frank_thelen', 'wiwo', 'uransoft', 'tagesschau', 'Elektro_Robin', 'frank_thelen', 'wiwo', 'RegierungBW,', 'MovieFlollector', 'graefin_g', 'HerrRain', 'alex65224270', 'nextmove_de', 'pr3mut05', 'ChristianBloomy', 'worschdweg', 'ExeLoops', 'tagesschau', 'dweezil58', 'andreas_esch', 'kaufland', 'cmueller80', 'micha_bloss', 'MavEGator', 'aktien22', 'renitenterRonny', 'i_iangg', 'MaddyQuerulator', 'jenny_nass26', 'Touni', 'rasenspiesser', 'Stefan_Hajek', 'EdwinPalesch', 'NikolaiOrgland', 'FWiedemeier', 'r____jan', '_mimibri_', 'yves4911', 'Vattenfall_De', 'EON_de', 'Vattenfall_De', 'hgoberlack', 'GenerationStrom', 'araldeutschland', 'araldeutschland', 'rene_bam_', 'frankfeil', 'emcaustria', 'germanenginee10', 'handelsblatt', 'acv_de', 'datgmbh', 'stang2k', 'EnBW', 'PlahrAl', 'markusdd5', 'FlorianFalk2', 'IWOeV', 'profbodden', 'FinkeKathrin', 'Marvin_b2', 'Alice_Weidel', 'planwerk', 'Elektro_Robin', 'knarfumpel', 'BerlinCyclist', 'Strothi1', 'Ti_Gli', 'Karl_Lauterbach', 'Ragnaroek8', 'jxn_cry', 'Ranger21011972', 'AlbaInside11', 'CITROEN_DE', 'MathisBoente', 'M_Ostermann', 'wegeheld', 'Mingiam10', 'LucidMotors', 'LucidMotors', 'a_braxes', 'Pritor', 'sturm_kintaro', 'GrueneBundestag', 'Die_Gruenen', 'Pritor', 'a_braxes', 'sturm_kintaro', 'GrueneBundestag', 'Die_Gruenen', 'PetraLustig19', 'VikingRohan', 'Die_Gruenen', 'mastafotygo', 'klein0r', 'thestanceman1', 'klein0r', 'thestanceman1', 'enbyecho', 'enbyecho', 'enbyecho', 'phoenix_de', 'katdro', 'GrueneBundestag', 'EUTheurer', 'fdpbt', 'CKemfert', 'DIW_Berlin', 'FamUnt', 'von_ems', 'andreas_traber', 'cihansugur', 'avbelow', 'EnBW', 'Bn_Koenig', 'Frank_Golo80', 'failphunk', 'fkamolz', 'JensHerforth', 'aSmoogl', 'sascha_p', 'thestanceman1', 'EnBW', 'andreas_traber', 'Moonlander68', 'FridayForFuture', 'Marcell67161910', 'F_Body', 'zeitonline', 'tilsteff', 'JoBraunm', 'VlkrDhr', 'DH1FR', 'a_braxes', 'sturm_kintaro', 'GrueneBundestag', 'Die_Gruenen', 'EmobilityEast', 'derwahremawa', 'GabrielBerlin', 'DaKosename', 'ladefuchs', 'lidl,', 'CMDRArchadder', 'Opa_Homie', 'AchimDG', 'Opa_Homie', 'shellysherrchen', 'BMWi_Bund', 'GoeringEckardt', 'GdWWohnen', 'Toti_S63', 'AlainS1991', 'jpunktcarstens', 'luispreis1', 'kkklawitter', 'HalleVerkehrt', 'RealRusty', 'kkklawitter', 'HalleVerkehrt', 'FlorianEicken', 'VQuaschning', 'CDU', 'spdbt', 'fdp', 'SebCzaja', 'Jasper95195901', 'bibery_7', 'GruneLiebe', 'Luisamneubauer', 'JM_Luczak', 'cduberlin', 'rbb24', 'nextstepmobil', 'nextmove_de', 'Karl_D_Marks', 'micha06de', 'MschFr', 'sbamueller', 'KfW', 'TomRadetzki', 'EnBW', 'MaingauEnergie', 'Rollator5', 'lazid1957', 'BPsteinmueller', 'kkklawitter', 'TomFragt', 'CMDRArchadder', 'KfW', 'davepermen', 'thestanceman1', 'Elektro_Robin', 'janusPrime', 'thestanceman1', 'Elektro_Robin', 'Hagen', 'araldeutschland', 'MschFr', 'sbamueller', 'KfW', 'wunder2welt', 'kkklawitter', 'welt', 'cooliopenguin', 'f_stiebeling', 'kkklawitter', 'TimKing60084996', 'kkklawitter', 'BurgerBenDecker', 'MasseyFriend', 'welt', 'kkklawitter', 'pjgloeper', 'kkklawitter', 'kkklawitter', 'Elektro_Robin', 'HerrRain', 'thestanceman1', 'CMDRArchadder', 'Elektro_Robin', 'Koogle91417074', 'HenzeVolker', 'nextmove_de', 'Tesla', 'MarieDMeier', 'Klima_Mahner', 'Pauline22335', 'HeiligerBimbaml', 'EEemag', 'HaraldTKD', 'SBohrnMena', 'EmobilityEast', 'Ilmtal_eG', 'MercedesBenz_DE', 'asknbid', 'VWGroup', 'Herbert_Diess', 'MAN_Group', 'TRATON_GROUP', 'ichbinesdertim', 'TimSchmuckall', 'alltagimrettung', 'Mingiam10', 'DerGraslutscher', 'Elektro_Robin', 'geraldomatron', 'Werktaetiger_', 'the_solartube', 'HolzheuStefan', 's57174717', 'StefanMu3ll3r', 'FeynmansMethod', 'MoormannRainer', 'DerClue', 'Gazelight', 'kindofmagic4u', 'RoschlauSwen', 'VeroWendland', 'axiom4tic', 'fwieschollek', 'Moms4G', 'Arishna12', 'HShumanist', 'Weit_im_Westen', 'RRMeyer2', 'hccd007', 'ArminStecher', 'Archophob1', 's04paps', '0Thessa', 'OliverHaas19', 'thinks_about_it', 'janusPrime', 'it_retter', 'MichaelBaleanu', 'Keeper_86', 'tuedelkopp', 'HVolquardsen', 'DominicBarden', 'SilvaAtTwitta', 'fuecks', 'AdamCartwrigh86', 'FridayForFuture', 'energy_charts_d', 'peteraltmaier', 'SimeonPreuss', 'SchaferCorinna', 'HalleVerkehrt', 'JVos63', 'amardeo', 'MarkusHoeher', 'the_solartube', 'HolzheuStefan', 's57174717', 'StefanMu3ll3r', 'FeynmansMethod', 'MoormannRainer', 'DerClue', 'Gazelight', 'kindofmagic4u', 'RoschlauSwen', 'VeroWendland', 'axiom4tic', 'fwieschollek', 'Moms4G', 'Arishna12', 'HShumanist', 'Weit_im_Westen', 'RRMeyer2', 'hccd007', 'ArminStecher', 'Archophob1', 's04paps', '0Thessa', 'OliverHaas19', 'thinks_about_it', 'janusPrime', 'it_retter', 'MichaelBaleanu', 'Keeper_86', 'tuedelkopp', 'HVolquardsen', 'DominicBarden', 'SilvaAtTwitta', 'fuecks', 'AdamCartwrigh86', 'FridayForFuture', 'energy_charts_d', 'peteraltmaier', 'SimeonPreuss', 'SchaferCorinna', 'HalleVerkehrt', 'JVos63', 'amardeo', 'thekie1', 'achsentrafo', 'thestanceman1', 'Elektro_Robin', 'impfteufel', 'BrigitteKnopf', 'WBBayern', 'Vattenfall_De', 'DirkLadewig', 'schmusbach', 'T38594733', 'ABaerbock', 'DIYMicha', 'mcqueentc', 'AbHotten', 'ZoePionierin', 'ecogp_en', 'mcqueentc', 'DudenhofferAUTO', 'kkklawitter', 'Ruediger_Krause', 'sandra_weeser', 'SteffenLandgra2', 'fckantifa6', 'stecspress', 'ABaerbock', 'WiViElMa', 'Dergoran', 'KawiKla', 'FinnMalte', 'Luisamneubauer', 'igorpianist', 'traufetter', 'Elektro_Robin', 'Georg_Pazderski', 'xkushgene_', 'ZalosnaSova3', 'Tobiter2', 'MFZelinger', 'sandra_weeser', 'Julius1977', 'JLengenfelder', 'handelsblatt', 'luckymaaa', '_solarmanager', 'techtobi83', 'ollilein69', 'Brennpunkt6', 'erzgruen', 'KroegerOve', 'Elektro_Robin', 'inselpastor', 'mrcockpit', 'CMDRArchadder', 'dothebart', 'thestanceman1', 'Anikaohnenamen', 'ashlacosplay', 'oekofuzzi', 'olliwaack', 'olliwaack', 'Elektro_Robin', 'wdwarncke', 'YogicCEO', 'kkklawitter', 'cem_oezdemir', 'CKemfert', 'TilmanWinkler', 'kfz_betrieb', 'Elektro_Robin', 'ABaerbock', 'TakeoffJe', 'manuelGaeck', 'Ricarda_Lang', 'Die_Gruenen', 'JasterFox90', 'RainbowDerpyYaY', 'blacky3976', 'br403', 'Iceskiff_Limeoh', 'TheAlphaGhost', 'joerg_spengler', 'diabhoil', 'Ikgh1223', 'tagesschau', 'Elektro_Robin', 'herr_ort', 'germanenginee10', 'ThomasSigmundHB', 'handelsblatt', 'ABaerbock', 'Elektro_Robin', 'markusdd5', 'gruenversiffter', 'cycletux', 'JuliusVieth', 'G_J_60', 'TilmanWinkler', 'ChristophBeisl1', 'AbHotten', 'ZoePionierin', 'V0id213', 'No_19_74', 'zeitonline', 'SkepticPatrick', 'No_19_74', 'zeitonline', 'RealDonDenito', 'ChristophBeisl1', 'erzaehlmirnix', 'teufels_beitrag', 'resi110', 'VrielinkPatrick', 'tagesschau', 'ChristophBeisl1', 'LenzGrimmer', 'SWM_Muenchen', 'TomKallweit', 'maxfrerichs', 'green_clarity99', 'tagesthemen', 'FuestClemens', 'ifo_Institut', 'VrielinkPatrick', 'tagesschau', 'Ikgh1223', 'tagesschau', 'Hagen', 'DerWebschreiner', 'dobz_one', 'ingonymous', 'Umwelthilfe', 'pxgan_', 'chpeters', 'alxrthh', 'ralphmakolla', 'mr_wartung', 'MSeitl', 'mkkeck', 'heiseautos', 'heiseonline', 'WSH_VC', 'StefanThielker', 'maischberger', 'janfleischhauer', 'DasErste', 'NDRinfo', 'LabaLama1', 'SvenjaBlogDe', 'nextmove_de', 'teslamag', 'EinAugenschmaus', 'KonradSybille', 'MSeitl', 'sepp_reitberger', 'mkkeck', 'heiseautos', 'heiseonline', 'jxn_cry', 'paulinuxer', 'darji95892541', 'spdde', 'dieLinke', 'fdp', 'Die_Gruenen', 'ABaerbock', 'JNplusplus', 'Naturschuetzen', 'the6big6', 'tschelle', 'Mingiam10', 'taschenorakel', 'SebCzaja', 'ABaerbock', 'Fahrradhauptst1', 'MDradelt', 'BundesstadtBonn', 'ElectriveNet', 'tschelle', 'Mingiam10', 'kkklawitter', 'StefanSasse', 'Herby82513847', 'Markus_Krall', 'AudeMiriam', 'andreasscheuer', 'bahamut8811', 'TrolliTheEagle', 'sepp_reitberger', 'mkkeck', 'klein0r', 'heiseautos', 'heiseonline', 'kinderdok', 'Stefan_Hajek', 'BansheeHolzi', 'kaufland', 'kinderdok', 'Dude_Lind', 'Hobbyketzer', 'mariselja', 'IWOeV', 'VUngehorsam', 'JanHamisch', 'Naturschuetzen', 'michaelsitteEU', 'PhiKuro', 'RotesSteinhaus', 'kkklawitter', 'StefanBratzel', 'PatrickPlotz', 'agoraverkehr', 'DudenhofferAUTO', 'thinkBTO', 'Thomie_ch', 'kanton_bern', 'lemyDE', 'sternde', 'Herrndorf', 'silv_den_', 'SharpStallion', 'erick_haase', 'Zorro68350260', 'markrudolph2701', 'atheistsplained', 'OseloHH', 'ollilein69', 'unionista', 'jweck', 'drehumdiebolzen', 'twittlik', 'ABaerbock', 'inselpastor', 'Googolplex1', 'KerstinYasar', 'ChristianGersb1', 'GeleeJean', 'ntvde', 'BLN_CoMeCo', 'lordvile7', 'SWagenknecht', 'Alaba00', 'lordvile7', 'SWagenknecht', 'HDG270', 'thestanceman1', 'NiemaMovassat', 'FilipposKourt', 'ABaerbock', 'marceselvis', 'glsbank', 'AldiSuedTipps', 'WolfmannotJack', 'tagesschau', 'WolfmannotJack', 'tagesschau', 'Wehner84', 'axelfell', 'Radschnellweg1', 'Muelheim_Ruhr', 'WDR2:', 'EnBW', 'Ben_Marc_', 'FalkWegerich', 'HansDellenbach', 'Swiss_eMobility', 'tcszuerich', 'scherbenstein', 'wathzmann', 'carbon_compound', 'egghat', 'schnellenbachj', 'Gert_Woellmann', 'Chris_Electric', '_tho_', 'Elektro_Robin', '_mtiemann', 'ReinhardPaul4', 'EnBW', 'jumping_Sandman', 'stefanolix', 'next_e', 'frank_thelen', 'schwirrschwurr', 'tagesschau', 'MoritzVargas', 'greenpeace_de', 'Herbert_Diess', 'volkswagen', 'EnBW-Ladesäule', 'PeugeotDE', 'DiemarRace', 'greenpeace_de', 'Herbert_Diess', 'volkswagen', 'NiklasSchinerl', 'greenpeace_de', 'Herbert_Diess', 'volkswagen', 'NiklasSchinerl', 'greenpeace_de', 'Herbert_Diess', 'volkswagen', 'FamilieZoe', 'NiklasSchinerl', 'greenpeace_de', 'Herbert_Diess', 'volkswagen', 'GKampftomate', 'MatCMeier', 'SVPch', 'guenterexel', 'OEAMTC', 'greenpeace_de', 'Herbert_Diess', 'volkswagen', 'WandNoah', 'MoritzVargas', 'greenpeace_de', 'Herbert_Diess', 'volkswagen', 'MoritzVargas', 'greenpeace_de', 'Herbert_Diess', 'volkswagen', 'HaraldLinden', 'kosmolink', 'cooliopenguin', 'TineMaschine', 'greenpeace_de', 'ikatjun', 'DC4DD', 'inpector', 'nextmove_de', 'sleepless_jones', '100erneuerbar', '100erneuerbar', 'nidegen', 'Touni', 'amadedotch', 'SilFoiera', 'thestanceman1', 'janusPrime', 'Adlershofer1892', 'wolpertinger42', 'stang2k', 'technikjuli', 'CptKrustenkaese', 'Hamburg397', 'frischfuettern', 'CptKrustenkaese', 'technikjuli', 'ZoePionierin', 'CptKrustenkaese', 'stang2k', 'technikjuli', 'SariaDelaney', 'technikjuli', 'CptKrustenkaese', 'frischfuettern', 'Hamburg397', 'CptKrustenkaese', 'technikjuli', 'RouteBetter', 'ZoePionierin', 'CptKrustenkaese', 'stang2k', 'technikjuli', 'DerWebschreiner', 'DerschnelleB', 'germanenginee10', 'handelsblatt', 'NicoRosberg', 'IKarabasz', 'StromschlagYT', 'Ceetter', 'thepumpapp', 'fo_frank', 'ADFCRLP', 'katrineder', 'MaximilianBusch', 'Hagen', 'chris_schorbach', 'next_e', 'Hornhauer94', 'JensOlejak', 'frank_thelen', 'FAZ_Politik', 'dwalster22', 'mmwehden', 'nextmove_de', 'EnBW', 'NATURSTROM_AG', 'VladddKo', 'ainyrockstar', 'tomtomNEXGEN', 'ainyrockstar', 'ADAC', 'STweet69', 'HelmutSchwan', 'ainyrockstar', 'greenpeace_de', 'acurus', 'VladddKo', 'Torsten_Oertel', 'ainyrockstar', 'rosenbaumg0', 'VBruttel', 'Rainer_Klute', 'CedricNoel8', 'spenglerandreas', 'StoergroesseM', 'HelmutSchwan', 'Torsten_Oertel', 'ainyrockstar', 'HelmutSchwan', 'Torsten_Oertel', 'ainyrockstar', 'Leon_Bergmann', 'MaxBunse', 'pstnrt', 'UmweltBW', 'thekla_walker', 'AssociationEEA', 'a_braxes', 'wolpertinger42', 'BatteryLife14', 'nextmove_de', 'EnBW', 'a_braxes', 'wolpertinger42', 'BatteryLife14', 'nextmove_de', 'EnBW', 'greenpeace_de', 'greenpeace_de', 'VWGroup', 'kidsnbike', 'kamel_das', 'stang2k', 'gebhardm5', 'Nobuddy83807461', 'convl0', 'VQuaschning', 'BMWi_Bund', 'Adlershofer1892', 'Hagen', 'HMitterwald', 'thestanceman1', 'MineCooky', 'thestanceman1', 'HMitterwald', 'MineCooky', 'Hagen', 'HMitterwald', 'MineCooky', 'Hagen', '_tho_', 'MineCooky', 'thestanceman1', 'Fastned', 'systemstig', 'KaiThrun', 'MissMillyOnline', 'Hagen', '_tho_', 'thestanceman1', 'Fastned.', '_tho_', 'thestanceman1', 'Hagen', '_tho_', 'thestanceman1', 'Hagen', 'EnBW', 'ADAC-Mitglieder', 'SchaferCorinna', 'Michael_B54', 'greenpeace_de', 'VWGroup', 'Hagen', 'TomFragt', 'Elektro_Robin', 'NicoSchurr', 'faebiaen', 'thestanceman1', 'janusPrime', 'Elektro_Robin', 'Elektro_Robin', 'ADAC', 'Elektro_Robin', 'saechsischeDE', 'Vattenfall_De', 'SilFoiera', 'philipp_kaestli', 'KlimaAllianzCH', 'BILD', 'GinaBroma', 'GaddafiDiktator', 'roterPunkt', 'Gewerkschafter', 'Chargemap', 'FabianLaasch', 'DerOetzmann', 'Elektro_Robin', 'Elektro_Robin', 'enercity', 'just1ofyou', 'frankfeil', 'FabianLaasch', 'KObrikat', 'FahrradClub', 'FrauKrone', 'FabianLaasch', 'ChristophSeile3', 'polizeiberlin', 'BMVI', 'andreasscheuer', 'MineCooky', 'cihansugur', 'Elektro_Robin', '_MaxDev_', 'MarMas90', 'jetzt_ischs_he', 'andreasscheuer', 'EDIS_AG', 'KV_Boltenhagen', 'diabhoil', 'UlrichSchulte', 'Volksverpetzer', 'BILD', 'Die_Gruenen', 'umrath', 'ntvde', '_mtiemann', '_FriedrichMerz', 'wegeheld', 'handelsblatt', 'andreasscheuer', 'thestanceman1', 'HannoKlausmeier', 'i_Peter', '_tho_', 'technikblog_ch', 'IONITY_EU', 'VolvoTrucks_de', 'designwerkgroup', 'vwschweiz', 'AMAG_Media', 'Loveandfire4', 'andreasscheuer', 'BMVI', 'DerLord0072', 'Coenni1', 'technikblog_ch', 'IONITY_EU', 'VolvoTrucks_de', 'designwerkgroup', 'vwschweiz', 'AMAG_Media', 'KormannStephan', 'andreasscheuer', 'sixtus', 'Neliothecat', 'a_braxes', '_FriedrichMerz', 'handelsblatt', 'andreasscheuer', 'systemstig', 'c_schwarzer', 'systemstig', 'c_schwarzer', 'LichtBlick_de', 'StromnetzHH', 'andreasscheuer', 'LudgerPeters', 'bundesrat', 'Amateur_Profi', 'akm0803', 'bundesrat', 'cducsubt', 'Die_Gruenen', 'Elektro_Robin', 'jurtenmaurer', 'MarieAndTheSea', 'Organiccotton4', 'rolandmuehler', 'AndreasTengicki', 'miaweber89', 'Wall__E_86', 'Mentraton', 'Kachelmann', 'maybritillner', 'peteraltmaier', 'EChan2', 'Danijel_Stanic', 'DerMausDU', 'hannesleitlein', 'janboehm', 'Matthia03293146', 'aboomination1', 'beeblebrax', 'Cayas_Software', 'asp_net', 'svenhennessen', 'MonikaHerrmann1', 'fera022', 'airfoxtwo', 'focusauto', 'deus_der', 'HapkePetra', 'FirstGreenWave1', 'ABaerbock', 'GoeringEckardt', 'JohnKerry', 'stang2k', 'golem', 'darkseith', 'CMDRArchadder', 'RealDonDenito', 'Herbert_Diess', 'ArminLaschet', 'OlafScholz', 'andreasscheuer', 'ABaerbock', 'ogansser', 'RealDonDenito', 'Herbert_Diess', 'ArminLaschet', 'OlafScholz', 'andreasscheuer', 'ABaerbock', 'Bike_Lin', 'Amiryfey', 'SteveFi04457564', 'tagesschau', 'ErfurthJens', 'Frances21071820', 'Herbert_Diess', 'ArminLaschet', 'OlafScholz', 'andreasscheuer', 'ABaerbock', 'focusauto', 'andreas_zeise', 'StephanusHH', 'owwerchef', 'Spatzengepiepe', 'gruenversiffter', 'dctw95', 'IngmarStadelman', 'YouTube', 'Knobelsdorff', 'Elektro_Robin', 'GlobalistYT', 'de_rt_com', 'Elektro_Robin', 'Ferdinand2206', 'frank_thelen', 'reptrails', 'dzdwidv', 'ladefuchs', 'changeworld2', 'praeventionszen', 'Bobby_Network', 'FrankenDemo', 'openeysdown', 'Duckel5', 'Barbara57595701', 'P_Ailean', 'WaltiSiegrist', 'BalingAlexander', 'DrPoetsch', 'thisbuerge', 'DrHOUSE_Cov2', 'KlarKarl1', 'Thomas_Binder', 'AefAufklaerung', 'eckert_official', 'Annibanane1', 'MitMirNicht1', 'HowardSteen4', 'SHomburg', 'PHockertz', 'TeamKenFM', 'mockpat', 'KlagePaten', 'es_soll', 'ElternfAuF', 'maxotte_says', 'BlondJedi', 'docbrandenburg', 'Karl_Lauterbach', 'CoronaAusschuss', 'DerInformant_', 'NikolovScience', 'sharpfang', 'ai_jared', 'gatesfoundation', 'reitschuster', 'tecn_preocupado', 'querdenken711', 'AletheiaHappy', 'pedaru_karmen', 'BerlinerHedoni1', 'Reflexospuros', 'RoseKikii', 'PatiKesiRocky', 'Jgerdesvergess1', 'VomChiemgau', 'SchulenAuf', 'Schlautropf', 'GlobalistYT', 'de_rt_com', 'Herbert_Diess', 'ArminLaschet', 'OlafScholz', 'andreasscheuer', 'ABaerbock', 'GillyBerlin', 'ErfurthJens', 'Frances21071820', 'Herbert_Diess', 'ArminLaschet', 'OlafScholz', 'andreasscheuer', 'ABaerbock', 'Chrismoor84', 'DerGraslutscher', 'BilboFr4ggins', 'ralphruthe', 'faznet', 'anaurath', 'diesefrauO', 'sebastian_es_', 'ulfposh', 'cem_oezdemir', 'fdp', 'c_lindner', 'kleinergag', 'Herbert_Diess', 'ArminLaschet', 'OlafScholz', 'andreasscheuer', 'ABaerbock', 'Herbert_Diess', 'ArminLaschet', 'OlafScholz', 'andreasscheuer', 'ABaerbock', 'airfoxtwo', 'Herbert_Diess', 'ArminLaschet', 'OlafScholz', 'andreasscheuer', 'ABaerbock', 'JensHilgenberg', 'cem_oezdemir', 'VWGroup', 'Daimler', 'BMW', 'BMVI', 'BMWi_Bund', 'ChristfriedW', 'groovybeatz1', 'klimaunion', 'kkklawitter', '_mtiemann', 'ABaerbock', 'c_lindner', 'ArminLaschet', 'surferBS', 'enercity', 'eingemaischt', 'TobiasDirking', 'PhillipGoik', 'NeynaDeyna', 'TobiasDirking', 'PhillipGoik', 'NeynaDeyna', 'schullogin', 'Bildung_Sachsen', 'Julian71902039', 'PradaDr', 'KonserveHendrik', 'CMDRArchadder', 'CMDRArchadder', 'eddiotos', 'Kroko615', 'Kroko615', 'skoops', 'skoops', 'MelaniePeschel', 'p_humm', 'bennibaehr', 'beeblebrax', 'leiewol', 'ConstZerger', 'fdp', 'cihansugur', 'D_Kuchenbecker', 'Elektro_Robin', 'IONITY_EU', 'EnBW', 'avbelow', 'Stefan_Hajek', 'StadtMuenchen', 'PolizeiMuenchen', 'ardenthistorian', 'anncathrin87', 'beeblebrax', 'ChristfriedW', 'groovybeatz1', 'klimaunion', 'kkklawitter', '_mtiemann', 'ABaerbock', 'c_lindner', 'ArminLaschet', 'surferBS', 'Aderendhuelse', 'FirstGreenWave1', 'beeblebrax', 'ChristfriedW', 'groovybeatz1', 'klimaunion', 'kkklawitter', '_mtiemann', 'ABaerbock', 'c_lindner', 'ArminLaschet', 'surferBS', 'HolzheuStefan', 'An_di_Arbeit', 'Baz14587134', 'redtux2', 'MikeDeeeeeee', 'timpritlove', 'timpritlove', 'ChristfriedW', 'groovybeatz1', 'klimaunion', 'kkklawitter', '_mtiemann', 'ABaerbock', 'c_lindner', 'ArminLaschet', 'surferBS', 'ChristfriedW', 'groovybeatz1', 'klimaunion', 'kkklawitter', '_mtiemann', 'ABaerbock', 'c_lindner', 'ArminLaschet', 'surferBS', 'ChristfriedW', 'groovybeatz1', 'klimaunion', 'kkklawitter', '_mtiemann', 'ABaerbock', 'c_lindner', 'ArminLaschet', 'surferBS', 'AfD', 'peterhense', 'AntjeKuessner', 'jan_moras', 'mr_johnmc', 'ausgemurkselt', 'BMWi_Bund', 'WernerFuchs_CH', 'Stefan_Hajek', 'ceo_plus_ch', 'Tesla', 'elonmusk', 'AukeHoekstra', 'MLiebreich', 'colinmckerrache', 'iwonalaub', 'EikePan', 'fdp', 'Wissing', 'kkklawitter', 'WDRaktuell', 'EnFreKo', 'littlewisehen', 'CaschysBlog', 'chetrepiw', 'munichpunisher', 'SvenKoe', 'florianaigner', 'mcsaesch', 'holgi', 'SOfnine', 'an_dy_wand', 'extra3', 'an_dy_wand', 'LoutreMalou', 'wdealers4', 'efesce', 'Stephan535', 'kkklawitter', 'sixtus', 'giulio_mattioli', 'sven_giegold', 'MonikaHerrmann1', 'JKSteinberger', 'yourdress1', 'hausinger_ihk', 'MichaelStauber', 'ziromr', 'promovicz', 'CptKrustenkaese', 'florianaigner', 'Elektro_Robin', 'Angel_CGN', 'verkehrswendeb2', 'tbachner', 'tagesschau', 'stadtaugsburg,', 'mastafotygo', 'SvenKoe', 'florianaigner', 'PitMalteLohmann', 'ausgemurkselt', 'BMWi_Bund', 'image_werkstatt', 'micha06de', 'holgi', 'PletzerUlrich', 'koenau', 'konradMD', 'VolkerEinem', 'DasErste', 'EnBW', 'chargeprice', 'CoalDead', 'andreasscheuer', '_MaxDev_', 'k4ii_', '_MaxDev_', 'konradMD', 'Stefan_Wiedner', 'Michl292', 'florianaigner', 'HummelFamilie', 'roland__sommer', 'littlewisehen', 'ChessExplained', 'CmielThorsten', 'Vermieterhai', 'Hagen', 'StromschlagYT', '_tho_', 'djbeetee', 'stang2k', 'technikblog_ch', 'Touni', 'littlewisehen', '_tho_', 'davepermen', 'Hagen', 'djbeetee', 'stang2k', 'technikblog_ch', 'Touni', 'davepermen', 'StromschlagYT', 'stang2k', 'djbeetee', 'Hagen', 'technikblog_ch', 'Touni', 'littlewisehen', '_tho_', 'StromschlagYT', 'djbeetee', 'Hagen', 'stang2k', 'technikblog_ch', 'Touni', 'StromschlagYT', 'davepermen', 'djbeetee', 'Hagen', 'stang2k', 'technikblog_ch', 'Touni', 'Joerg_Rehmann', 'Joerg_Rehmann;', 'Elektro_Robin', 'stang2k', 'thestanceman1', 'BStarkimarm', 'DerGraslutscher', 'WernerderChamp', 'BR_Presse', 'k4ii_', 'technikblog_ch', 'davepermen', 'thestanceman1', 'Hagen', 'EnBW', 'ARDde', 's04steffen', 'Hagen', 'JochenH_14', 'kkklawitter', 'parents4future', 'transenv', 'VCDeV', 'TUMInitiative', 'jonworth', '_mtiemann', 'Storch_i', 'dienstfahrrad', 'MOIAmobility', 'VDV_Verband', 'Schienenallianz', 'JochenH_14', 'kkklawitter', 'parents4future', 'transenv', 'VCDeV', 'TUMInitiative', 'jonworth', '_mtiemann', 'Storch_i', 'dienstfahrrad', 'MOIAmobility', 'VDV_Verband', 'Schienenallianz', 'thestanceman1', 'Hagen', 'EnBW', 'ARDde', 'traderherz', 'amn_news_de', 'Daimler', 'BMW', 'DaimlerTruckBus', 'AudiOfficial', 'VWGroup_DE', 'Tesla', 'Opel', 'Ford', 'Hagen', 'StromschlagYT', 'cymba_de', 'DaniEckiDue', 'StromschlagYT', 'StromschlagYT', 'VBruttel', 'radkolumne', 'StromschlagYT', 'StromschlagYT', 'SonKmai', 'DaniEckiDue', 'TomFragt', 'stangl_a', 'Elektro_Robin', 'stang2k', 'verkehrswendeb2', '_tho_', 'Elektro_Robin', 'verkehrswendeb2', '_tho_', 'Elektro_Robin', 'verkehrswendeb2', '_tho_', 'Elektro_Robin', 'verkehrswendeb2', 'stangl_a', 'Elektro_Robin', 'verkehrswendeb2', 'Elektro_Robin', 'GoogleNews', 'heiseautos', 'heiseonline', 'bmu', 'FabianLaasch', 'peteraltmaier,', 'gabonn', 'FahrradClub', 'chrstphbach', 'Rai705', 'Michael53125', 'Baudolino_MUC', 'schaefer_j', 'drumheadberlin', 'HGMaassen', 'Luisamneubauer', 'Rai705', 'Michael53125', 'Baudolino_MUC', 'schaefer_j', 'drumheadberlin', 'HGMaassen', 'Luisamneubauer', 'eautonews', 'kkklawitter', 'peter_simone', 'peter_bauer1955', 'ARD_Presseclub', 'the_audience', 'EnBW', 'bnSonic', 'StefWerner', 'oe_simon', 'Touni', 'heiseonline', 'LeSpocky', 'hoffmartin', 'Ottostadt', 'tmmd', 'hoffmartin', 'Ottostadt', 'SWBBusundBahn', 'ZDFheute', 'ABaerbock', 'ZDFheute', 'ABaerbock', 'DomTHell', 'wiwo', 'spdbt', 'schneidercar', 'MDRAktuell', 'SPD-Fraktion,', 'planwerk', 'ladefuchs', 'SixtDE', 'tagesschau', 'HolzheuStefan', 'BPsteinmueller', 'eswe_versorgung', 'wiesbaden', 'gjarsen', 'tagesschau', 'thestanceman1', 'cem_oezdemir', 'CDU_BW', 'FabianLaasch', 'GrueneVictoria', 'DonBarbone', 'adolf_ditler', 'heuteshow', 'watch_union', 'DaKoda73672211', 'Bitcoiiner', 'twibarth', 'Studierendenfu1', 'BChefski', 'ABaerbock', 'westaflex', 'Mellcolm', 'SixtDE', 'muenchen', 'kkklawitter', 'Fastned', 'wegeheld', 'FahrradClub', 'VCDeV', 'ZukunftFahrrad', 'profahrrad', 'CCitiesOrg', 'velobiz', 'andreasscheuer', 'BMVI', 'Dieter_Konrad', 'HubertAiwanger', 'lisagoeldner', 'CKemfert', 'SixtDE', 'ABB_EVCharging', 'kkklawitter', 'DaRaginga', 'MaxFichtner', 'TorstenDaerr', 'isotopp', 'Wolfgang_42', 'isotopp', 'innogy_emob', 'Wolfgang_42', 'MarkusWerner18', 'SchmiddieMaik', 'PeterBorbe', 'joshuabeny1999', 'technikblog_ch', 'tagesanzeiger', 'SwissBev', 'MarijanKelava', 'thestanceman1', 'HaraldLinden', '_tho_', 'Elektro_Robin', 'Shell_Germany', 'cem_oezdemir', 'BMWi_Bund', 'masta_de', 'VQuaschning', 'StromschlagYT', 'GillyBerlin', 'smight_city', 'GillyBerlin', 'BMWi_Bund', 'schlingel', 'barti_slatfass', 'timohetzel', 'BikerPankow', 'RadlerInWI', 'bdew_ev', 'ZVEIorg', 'VDA_online', 'faznet', 'MartinGropp', 'stang2k', 'GillyBerlin', 'smight_city', 'Elektro_Robin', 'Shell_Germany', 'wer0744', 'VDA_online', 'peaqtechnology', 'franzalt', 'BR24:', 'Die_Gruenen', 'ABaerbock', 'EON_de', 'EON_de', 'EnBW', 'EON_de', 'gwarden42', 'Steffenster', 'StoHelit', 'kkklawitter', 'Roland_84_E', 'wdwarncke', 'Fleinsbach', 'sundaysattwelve', 'olemobility', 'stuttgart_stadt!', 'HolgerKuhlmann', 'swkkrefeld', 'illuminadrian', 'TimSchoolmann', 'twittlik', 'VBruttel', 'technikjuli', 'FabiThoma', 'Elektro_Robin', 'BMLoidl', 'i_am_fabs', 'wienerlinien', 'LillyPolly4', 'TobiasHKoch', 'thhfriedensau', 'ayranundspeck', 'MarBel78', 'cyberpunk1410', 'volkswagen', 'a_braxes', 'Ohne_Georg115', 'elemob_de', 'holgi', 'DerKatzenfuerst', 'Ohne_Georg115', 'elemob_de', 'holgi', 'GillyBerlin', 'frankfeil', 'swtue', 'DonDahlmann', 'Hagen', 'NinoHaustein', 'NurderK', 'MarcMath5', 'nextmove_de', 'MercedesBenz', 'Tesla', 'VWGroup', 'marcel_lehmann1', 'nextmove_de', 'MercedesBenz', 'Tesla', 'VWGroup', 'Elektro_Robin', 'FrancisbSurbaum', 'MILESmobility', 'freiesrheinland', 'Ohne_Georg115', 'elemob_de', 'holgi', 'NinoHaustein', 'NurderK', '0x663030623472', 'nextmove_de', 'MercedesBenz', 'Tesla', 'VWGroup', '_donalphonso', '_axelmeyer', 'Hallaschka_HH', 'LibertyLucas26', 'Die_Gruenen', 'GrueneBW', 'KathaSchulze', 'nextmove_de', 'BatteryLife14', '_donalphonso', '_donalphonso', 'KathaSchulze', 'ThorstenRinne', 'antikommunist33', 'ZeitW', 'Meissner396', 'ILegalAlien2012', 'NurderK', 'NurderK', 'beimwort', 'Nuckelhamster', '721vz', 'PolizeiHamburg', '0xa000', 'Stoewhase', 'AllegoCharging', 'BMVI', 'systemstig', 'ententonne', 'begenrogenschaf', 'PolizeiHamburg,', 'haukeschrieber', 'GreenMobility18', 'GolemRedaktion', 'frankfeil', 'CMDRArchadder', 'nextmove_de', 'eautonews', 'frankfeil', 'Quasseltier', 'begenrogenschaf', 'begenrogenschaf', 'Asolution89', 'TilmanWinkler', 'thestanceman1', 'Elektro_Robin', 'GerdKebschull', 'Lexus', 'Toyota_DE', 'elektrokarre', 'MeinElektroauto', 'AutoStromer', 'Elektroflitzer', 'Stefan_Hajek', 'Hagen', 'Hamburg397', 'IONITY_EU', 'Xus1Ba', 'Moonlander68', 'nutellaberliner', 'TweefAnwalt', 'KleinstadtRA', 'vicijlo', 'lexfundi', 'PatriotSozi', 'andreas_esch', 'TomFragt', 'Stefan_Hajek', 'CMDRArchadder', 'MarcMath5', 'Stefan_Hajek', 'CMDRArchadder', 'MarcMath5', 'Stefan_Hajek', 'CMDRArchadder', 'PatriotSozi', 'StammKuhlmann', 'wirklichewelt', 'Hadmut', 'TomFragt', 'Stefan_Hajek', 'CMDRArchadder', 'ehrenfelders07', 'zeitonline', 'Sand_und_Meer', 'StadtwerkBerlin', 'wirklichewelt', 'ArminLaschet', 'POTUS', 'StromnetzBln', 'SenWiEnBe', 'Stefan_Hajek', 'CMDRArchadder', 'technikjuli', 'AndreasBreuer', 'EcoCarer1', 'Wayne49252139', 'HNA_online', 'Polizei_NH', 'JosefineDestiny', 'golem', 'jwildeboer', 'sarah_hoef', 'pcwelt', 'tlnue', 'WoifeWoife', 'derwahremawa', 'Touni', 'NexNoxxen', 'Lingen2L', 'ZZucker1312', 'micha_bloss', 'tazKlima', 'msulzbacher', 'PCWELT', 't3n', 'GoogleNews', 'PCWELT', 'SecretCoAuthor', 'Marcus___Wolf', 'larsweisbrod', 'Loomlnext', 'Macintosh1968', 'Benzingeruch', 'Loomlnext', 'SZ_Muenchen', 'knutbeuter', 'Marcel82978344', 'Iruka_k', 'kbl567', 'stang2k', 'the_new_Toni85', 'tmigge', 'SundayMoanin', 'Urs_Mansmann', 'flobby', 'IONITY_EU', 'SteveFi04457564', 'TschenPe', 'Senat_Hamburg', 'AndiScheuer', 'Ganbatte2814', 'Captain_NOES', 'Ganbatte2814', 'Captain_NOES', 'VSornig', 'TimmCaspari', 'stairwave', 'frank_thelen', 'nearesttothetee', 'nearesttothetee!', 'SteveFi04457564', 'mastafotygo', 'Poliauwei', 'SteveFi04457564', 'Koeln', 'Ruediger_Krause', 'Poliauwei', 'SteveFi04457564', 'Koeln', 'MatCMeier', 'svenpilz', 'tomueko', 'cymba_de', 'Lachgas', 'SteveFi04457564', 'SteveFi04457564', 'NeuImNeuland', 'StadtwerkeStgt', 'stuttgart_stadt', 'EnBW', 'MineCooky', 'ElectrifyBW', 'Elektro_Robin', 'Lachgas', 'SteveFi04457564', 'stadtmobilSueBa', 'my_e_car', 'LBBW', 'andreas_esch', 'eliasp', 'zeitonline', 'wdwarncke', 'zeitonline', 'Stefan_Hajek', 'TilmanWinkler', 'Ra_Koellner', 'MarkusFriese1', 'Febrazink', 'hinten_mit_O', 'umrath', 'technikjuli', 'technikjuli', 'stang2k', 'The_Nivram', 'Elektro_Robin', 'GeSa161', 'wdwarncke', 'doppelgrau', '_tho_', 'ZeroMC', 'aeas', '_kescherbande', '_tho_', 'ZeroMC', 'umrath', 'ZeroMC', 'thestanceman1', 'ZeroMC', 'thestanceman1', 'ZeroMC', 'ZeroMC', 'MineCooky', 'Porsche', 'IONITY_EU', 'EnBW', 'Berliner_FiF', 'biesdorfer83', 'manchmalfieber', 'rka', 'AllegoCharging', 'GillyBerlin', 'AndreasMemmer', 'Stefan_Hajek', 'umrath', 'Elektro_Robin', 'GeorgKonjovic', 'heikojakob', 'McDonaldsDENews', 'McDonaldsDENews', 'EWE_AG', 'RadwegH', 'lucynamartin', 'nextmove_de', 'E63s4LV8', 'StefanHeimlich', 'teslamag', 'SZ', 'vietgen', 'Alfi32394654', 'DaxWerner', 'hdsjulian', 'derspiegel', 'derspiegel', 'TerliWetter', 'TerliWetter', 'kramkr', 'thestanceman1', 'balkonspringer', 'GernotDreher', 'JWagenhuber', 'dw_wirtschaft', 'JWagenhuber', 'dw_wirtschaft', 'FOCUS_TopNews', 'dougheff22', 'tagesschau', 'kaufland', 'lostgen', 'GFelbermayr', 'a_sator', 'Rusty_Iron92', '84_sorgenlos', 'bob_bumbum', 'ABaerbock', 'tomasfreres', 'kamel_das', 'JConstantine80', 'Astradamus2', 'vonneudeck', 'ecomento_de', 'Hellegatt', 'der_fisch001', 'Cron2Gert', 'NilsKet', 'JochenFlasbarth', 'BauerWilli_org', 'Michael_Jahn_GB', 'welt', 'Dude_Lind', 'micha06de', 'der_fisch001', 'erpunktbepunkt', 'der_fisch001', 'WNP7013', 'elektrokarre', 'elemob_de', 'funkolive', 'EnBW', 'NewMotion', 'dsgv', 'goingelectricde', 'EnBW', 'NewMotion', 'Bismarck09', 'talanx', 'CMDRArchadder', 'Bender_riss', 'Dani92K', 'OsterhalVon', 'stang2k', 'news_nowgmbh', 'SGudensberg', 'KroegerOve', 'climbertobby', 'stang2k', 'news_nowgmbh', 'stang2k', 'kinte51', 'DerGraslutscher', 'frankfeil', 'felixamyot', 'gofast_swiss', 'homtec', 'technikblog_ch', 'vwschweiz', 'AMAG_Media', 'mrcockpit', 'SZ', 'energyblawg', 'mastafotygo', 'HeinerMe', 'kkklawitter', 'Kris_Tjan_69', 'BekkenkMarkus', 'CMDRArchadder', 'WernerFuchs_CH', 'great_marus', 'MasterKingStar', 'FamilieZoe', 'Mingiam10', 'LukTBrand', 'StefanHeimlich', 'Friday4Hubraum', 'innogy_emob', 'Elektro_Robin', 'CptKrustenkaese', 'BMWi_Bund', 'peteraltmaier', 'lijo2323', 'Meerweh84', 'Ang3l8611', 'markmueller1979', '_richtig_falsch', 'saki_statement', 'kkklawitter', 'Storch_i', '_mtiemann', 'HalleVerkehrt', 'peakaustria', 'TerliWetter', 'TerliWetter', 'mutabor17', 'SBC_consult', 'jstrehmann', 'RuisingerR', 'YouTube', 'Tasso2000', 'mainz_de', 'maxhartbauer', 'i_am_fabs', 'Pietbull47', 'faznet', 'ishipdacraic', 'DerGraslutscher', 'derspiegel', 'DerGraslutscher', 'nskuelptor', 'derspiegel', 'GernotDreher', 'stang2k', 'sascha_p', 'faznet', 'ElectriveNet', 'Csells_SINTEG', 'FfE_Muenchen', 'ZDBayern', 'wegeheld', 'SenUVKBerlin', 'IngmarStreese', 'IKEM_Berlin', 'automativ', 'petertenboer1', 'Hachy_1,', 'RAWWERS', 'ThorstenRinne', 'Mingiam10', 'lelei', 'moers_de', 'technikblog_ch', 'PAEDi75', 'fabbboe', 'GernotDreher', 'wdwarncke', 'zeitonline', 'zugkatze', 'kkklawitter', 'ShareNow_global', 'mainz_de', 'Hagen', 'EnBW', 'LeSpocky', 'MDradelt', 'schorligkeit', 'Atze08497950', 'derspiegel', 'Kartellamt', 'DudenhofferAUTO', 'MR_Visioneere', 'drheaddamage', 'wegeheld', 'SenUVKBerlin', 'IngmarStreese', 'IKEM_Berlin', '_Quilian', 'bigm1lk', 'AfD_Support', 'bernd471', 'rponline', 'AllegoCharging,', 'Klimaraecher', 'Sven1982', 'Atze08497950', 'derspiegel', 'wegeheld', 'SenUVKBerlin', 'IngmarStreese', 'IKEM_Berlin', 'Pete57995461', 'Zolenkan', 'MarcusWadsak', 'stiftlaube', 'trusted31337', 'Zolenkan', 'MarcusWadsak', 'stiftlaube', 'LenzGrimmer', 'frankfeil', 'ShareNow_global', 'olivergr2019', 'CMDRArchadder', 'PoterHairy', 'chris_thirst', 'ButzemannD', 'MalteKaufmann', 'dk_tsl', 'GernotDreher', 'LenzGrimmer', 'WeShare_DE', 'HaraldGutsch', 'LenzGrimmer', 'WeShare_DE', 'ShareNow_global', 'stang2k', 'Stefan_Hajek', 'HaraldGutsch', 'WeShare_DE', 'ShareNow_global', 'funkolive', 'bointoin2', 'gongwuerzburg', 'EnBW', 'BClevershuttle', 'IFrauding', 'FrsnkRS77', 'oreissig', 'SZ', 'SilFoiera', 'timonzingg', 'nikiphedia', 'gofast_swiss', 'NewHyperion', 'stadtmobilSueBa', 'my_e_car', 'SuewagEnergieAG', 'd0cc3l', 'kipper_oliver', 'GernotDreher', 'berlinbuch', 'RobertBoni6', 'VorundNachnahme', 'planwerk', 'derspiegel', 'ASzigetvari', 'mobility_gmbh', 'ASzigetvari', '_tho_', 'Stefan_Hajek', 'ElectriveNet', 'BAFA_Bund', 'Stefan_Hajek', 'EWS_Schoenau)', 'Peter_S72', 'japeMay_', 'OomenBerlin', 'Olire4', 'Stefan_Hajek', 'VWGroup', 'Technikfaultier', 'sascha_p', 'MENNEKES_tweets', 'frankfeil', 'DerGraslutscher', 'derspiegel', 'Elektro_Robin', 'DerGraslutscher', 'derspiegel', 'NicErzer', 'WohlgensingerN', 'Fuss_Florian', 'marco_knubel', 'd0cc3l', 'GernotDreher', 'berlinbuch', 'RobertBoni6', 'VorundNachnahme', 'planwerk', 'derspiegel', 'mobility_gmbh', 'RobertsBlog', 'LingensBurgHerr', 'Lingen1', 'Lingen_Fehler', 'teilAuto', 'StadtLeipzig', 'franzalt', 'NicErzer', 'WohlgensingerN', 'Fuss_Florian', 'zickenbandiger', 'maxpfiff', 'handelsblatt', 'SilFoiera', 'WohlgensingerN', 'Fuss_Florian', 'WohlgensingerN', 'Fuss_Florian', 'RouteBetter,', 'TRONITY_IO', 'RenaultDE', 'Leh40042992', 'ADAC', 'VW', 'FischwaffeI', 'maxpfiff', 'handelsblatt', 'Lingen_Fehler', 'thestanceman1', 'stang2k', 'WohlgensingerN', 'EnBW,', 'araldeutschland', 'BMWGroup', 'MobilityDaimler', 'dcs_global', 'KolbergMartin', 'GrueneBundestag', 'AndiScheuer', 'Only21millions', 'ZoePionierin', 'Michael_Kunz', 'PeugeotDE', 'Mingiam10', 'derspiegel', 'spiegelonline', 'Herbert_Diess', 'StefanRoock', 'corwin42', 'elektrokarre', 'EnBW', 'EON_de', 'RWE_AG', 'zomtecos', 'Elektro_Robin', 'HPSiebenhaar', 'handelsblatt', 'pstegm', '1_punch_mickey', 'peter_simone', 'kipper_oliver', 'derspiegel', 'NefzgerEmil', 'tatjanafichtner', 'MatthiasRehfel1', 'DOeliger', 'wimmchri', 'Taifun987', 'kkklawitter', 'tagesschau', 'Himbeergeld', 'araldeutschland', 'BMWGroup', 'MobilityDaimler', 'dcs_global', 'GerritBeine', 'kkklawitter', 'tagesschau', 'henrykploetz', 'mgoetzke', 'budgaard', 'Elektro_Robin', 'nextmove_de', 'KroegerOve', 'Elektro_Robin', 'Porsche_Taycan', 'OlafStorbeck', 'Elektro_Robin', 'mxrita_15', 'BendlerBlogger', 'A_Schillhaneck', 'derspiegel', 'ZoePionierin', 'MercedesBenzEQ', 'SuewagEnergieAG', 'Eveline_Wagner_', 'tagesschau', 'Tesla', 'handelsblatt?', 'GoogleNews', 'DieBenar', 'tom21022', 'KlaarGlass', '_richtig_falsch', 'therealnorbart', 'agentsinaction', 'LenzGrimmer', 'nextmove_de', 'HerrSievers', 'agentsinaction', 'LenzGrimmer', 'nextmove_de', 'DOeliger', 'dieBERtha', 'Marco5sge', 'bp_Deutschland', 'dcs_global', 'BMWGroup', 'MobilityDaimler', 'focusonline', 'Chrischael', 'gofast_swiss', 'frankfeil', 'derspiegel.', 'NefzgerEmil', 'frankfeil', 'TichysEinblick', 'RolandTichy', 'nextmove_de', 'Hagen', 'DeutschePostDHL', 'DHLPaket', 'AutoXpertize', 'araldeutschland', 'BMWGroup', 'MobilityDaimler', 'dcs_global', 'araldeutschland', 'BMWGroup', 'MobilityDaimler', 'dcs_global', 'KSabelgunst', 'EnBW', 'i_Peter', 'CMDRArchadder', 'janusPrime', 'StephanParlow', 'f_stiebeling', 'meta_physik', 'ntvde', 'AndiScheuer', 'RegSprecher', 'thinks_about_it', 'JuleStinkesocke', 'ZoePionierin', 'ZoePionierin', 'SamothRelgi', '_MaxDev_', 'MarMas90', 'i_Peter', 'Elektro_Robin', 'Dneu869', 'bardi1212', 'SenUVKBerlin', 'igembb', 'Tesla.', 'RenaultDE', 'JuleStinkesocke', 'frankfeil', 'JuleStinkesocke', 'rauskucker', 'Polyphemos5', 'MBH55198499', 'janboehm', 'alter_franke', 'tonline', 'Rincewind_am', 'cj5762cj', 'MOIAmobility', 'BMVI', 'AndiScheuer', 'Vi_k1ng', 'Paul_Bomh', 'derhoegi', 'fuhrios', 'StefanKaufmann', 'greenla68908505', 'TSLAQQ', 'volkswagen', 'Hagen', 'Dr_Physikus', 'Umweltbundesamt', 'Mller82133940', 'Umweltbundesamt', '1_punch_mickey', 'tobiastiefert', 'AndiScheuer', 'Floschie2', 'MDradelt', 'gruene_future', 'LinkeMadeleine', 'RundaRudi', 'BonecaSam', 'matthias_live', 'hzulla', 'schneider_chris', 'japeMay_', 'tobiastiefert', 'StefanKaufmann', 'Elektro_Robin', 'davepermen', 'technikjuli', 'MarkusHoeher', 'ThomasEsser11', 'felixloe', 'anjes_tjarks', 'Elektro_Robin', 'WinFuture', 'budgaard', 'patfrr', 'ThePunisherneu', 'Affenpirat', 'TheBug0815', 'wegeheld', 'klimareport', 'Aquazoo0211', 'Schmierer14', 'StefanKaufmann', 'volkswagen', 'rathfux:', 'rathfux', 'SenUVKBerlin', 'DenisWerner', '_markkoenig', 'primusi05455917', 'GeorgG_g', 'DenisWerner', '_markkoenig', 'primusi05455917', 'Pietbull47', 'Marcus_Elblicht', 'FrankH13040377', 'ntvde', 'HannesGredler', 'Elektro_Robin', 'AndiScheuer', 'ctmagazin', 'araldeutschland', 'VWGroup', 'Elektro_Robin', 'BergerBergerie', 'Elektro_Robin', 'BergerBergerie', '2Bhex', 'UweSpiekermann', 'solarpapst', 'timonzingg', 'bdew_ev', 'TerliWetter', 'bEEmerkenswert', 'netzausbau', 'BMWi_Bund', 'CKemfert', 'TspBackgroundEK', 'energy_awards', 'eexgroup', 'AgoraEW', 'katharina_munz', 'hjbertschi', 'HerrmannPierre', 'Theben_AG', 'PowerPlusCom', 'SenUVKBerlin', 'igembb', 'Elektro_Robin', 'JulianMarchl', 'Amber_FPunkt', 'Koreh', 'mrogert', 'jakbaum', 'markusvoelter', 'stuttgart_stadt', 'stang2k', 'Opel', 'ElectriveNet', 'Opel', 'BHNNKMP', 'designmobility', 'GroupeRenaultDE', 'MarijanKelava', 'eautonews', 'markusvoelter', 'sim_stolz', 'SatcadirAaron', 'martineberle', 'frankfeil', 'EnBW', 'IONITY_EU', 'nasanasal', 'ThomasGBauer', 'kkklawitter', 'cihansugur', 'Elektro_Robin', 'frankfeil', 'janboehm', 'Stefan_Hajek', 'DerGraslutscher', 'MiManske', 'acv_de', 'markusvoelter', 'real_mos', 'slx13', 'fpkayser', 'AugustvonAugust', 'sonnabend', 'araldeutschland', 'VWGroup', 'smatrics_com', '_14223', 'RealDonDenito', 'Aegir_P', 'acv_de', 'ThanloSir', 'Grimmbart77', 'acv_de', 'Fleinsbach', 'wdwarncke', 'wdealers4', 'kkklawitter', 'olewin', 'HalleVerkehrt', 'mnowak_wob', 'wdwarncke', 'wdealers4', 'kkklawitter', 'olewin', 'HalleVerkehrt', 'cducsubt', 'AloisRainer', 'christophploss', 'MarcMath5', 'Grimmbart77', 'acv_de', 'Winston91825297', 'liberaleinnovat', 'Berlin_Park', 'tagesschau', 'Berlin_Park', 'markusdd5', 'EugenLiberal', 'Leon_Bergmann', 'MXritz', 'KebabChris', 'EugenLiberal', 'Berlin_Park', 'Natenom', 'ZDFheute', 'designmobility', 'JHandwerg', 'WoifeWoife', 'Herbert_Diess', 'HubertAiwanger', 'tiekay81', 'StaiyLIVE', 'timohetzel', 'satlynx1980', 'dieClaireWerk', 'SZ', 'VWGroup', '_mtiemann', 'wolfgang_bitter', 'KawiKla', 'RuisingerR', 'alex_avoigt', 'GmbhWarncke', 'TilmanWinkler', 'ulid000', 'ThomasWehrs', 'GrueneBVVCW', 'Gruene_CW', 'BahnkundenV', 'bwegtBW', 'davepermen', 'HVolquardsen', '_mtiemann', 'alextiekam', 'totalgamergirl', 'tomasfreres', 'alextiekam', 'totalgamergirl', 'alextiekam', 'tomasfreres', 'Beschfl', 'PolyIntox', 'dens_r_d', 'dens_r_d', 'glptbollinger', 'Sedios1', 'runderneuerung', 'markusdd5', 'ZDF', 'Frontal21', 'MineCooky', 'EnBW', 'bjoernMaHe', 'pstnrt', 'silvan_theiss', 'englisch98', 'taschenorakel', 'pstnrt', 'silvan_theiss', 'englisch98', 'Vorname_Name1', 'bwegtBW', 'englisch98', 'e_Mobil2014', 'derspiegel', 'Marxo52359322', 'SZ', 'pstnrt', 'darius_nau', 'englisch98', 'technikblog_ch', 'gozaptec', 'Consi32734214', 'thestanceman1', 'SZ', 'BjornNyland', 'WIRTSCHAFTakut', 'Tojan182', 'mrcockpit', 'chrizau', 'erzaehlmirnix', 'englisch98', 'fynnolebruns', 'englisch98', 'lumpi_00', 'FlorianTD03', 'WandNoah', 'englisch98', 'englisch98', 'derspiegel', 'BattleFlummi', 'RubyGloomRU', 'mastafotygo', 'nilsnto', 'englisch98', 'englisch98', 'fynnolebruns', 'englisch98', 'LH_Potsdam', 'SWP_Potsdam', 'SZ', 'anmalahahaha', 'germanenginee10', 'SZ', 'englisch98', 'BettinaSchille1', 'englisch98', 'Elektro_Robin', 'SZ', 'GuntherSchnabl', 'englisch98', 'germanenginee10', 'SZ', 'SirGeor66024709', 'SoerenLorensen', 'englisch98', 'englisch98', 'MoritzZptr', 'kkklawitter', 'Elektro_Robin', 'IONITY_EU', 'AllegoCharging', 'AugustvonAugust', 'sonnabend', 'araldeutschland', 'VWGroup', 'Marius_Raabe', 'AugustvonAugust', 'sonnabend', 'araldeutschland', 'VWGroup', 'ingonymous', 'sonnabend', 'araldeutschland', 'VWGroup', 'chemnitzgruene', 'MSGIV_BB', 'UNonnemacher', 'SWP_Potsdam', 'electrodocs', 'FischwaffeI', 'valmorphanize', 'TimoBzk', 'JoHergesell', 'wslflo', 'adrianShala1904', 'meyh_dean', 'TimoBzk', 'JoHergesell', 'wslflo', 'adrianShala1904', 'frankfeil', 'elektro_kfz', 'eautonews', 'e_Mobilitaet', 'MeinElektroauto', 'ElekAuto_Forum', 'MatCMeier', 'technikjuli', 'MortenFaust', 'OlliLuksic', 'cem_oezdemir', '1ngm4r', 'systemstig', 'mrcockpit', 'DilgerMartin', 'Superutz', 'schweizzzz', 'KlimalisteBW', 'mrcockpit', 'DilgerMartin', 'Superutz', 'schweizzzz', 'KlimalisteBW', 'pjanik_otm', 'hccd007', 'ArsenalCologne', 'HinterfragendeR', 'ArminStecher', 'janusPrime', 'HShumanist', 'CoalDead', 'norbertboh', 'VeroWendland', 'DerClue', 'MoormannRainer', 'kindofmagic4u', 'Werktaetiger_', 'JVos63', 'SimeonPreuss', 'Keeper_86', '___n2k1', 'tuedelkopp', 'RainerReelfs', 'eule_tina', 'thinks_about_it', 's04paps', 'Gathos', 'Fischblog', 'Lazard', 'StefanStahl11.', 'stang2k', 'HaraldGutsch', 'derkartoffelst1', 'Googolplex1', 'OlliLuksic', 'fdp', 'VDA_online', 'CoalDead', 'janusPrime', 'HinterfragendeR', 'norbertboh', 'VeroWendland', 'ArsenalCologne', 'DerClue', 'MoormannRainer', 'kindofmagic4u', 'ArminStecher', 'hccd007', 'Werktaetiger_', 'JVos63', 'SimeonPreuss', 'Keeper_86', 'pjanik_otm', '___n2k1', 'tuedelkopp', 'RainerReelfs', 'eule_tina', 'thinks_about_it', 's04paps', 'Gathos', 'Fischblog', 'Lazard', 'drive_n_code', 'k4ii_', 'der_schmitten', 'Leonie_3639', 'ZDF', 'Frontal21', 'schweizzzz', 'KlimalisteBW', 'Wuestenstromfan', 'Herbert_Diess', 'VWGroup', 'kramkr', 'nurdermarcus', 'Moerderentchen', 'HSpitsch', 'tagesschau', 'ElectriveNet', 'TichysEinblick', 'markusdd5', 'nummer_zwei', 'OsterhalVon', 'marhol8', 'TobiasDirking', 'realantonstock', 'Mingiam10', 'WDR', 'EnBW', 'Mingiam10', 'WDR', 'EnBW', 'Mingiam10', 'WDR', 'EnBW', 'OsterhalVon', 'TichysEinblick', 'WernerderChamp', 'derwahremawa', 'Elektro_Robin', 'WeShare_DE', 'SixtDE', 'Elektro_Robin', 'gerritmueller', 'thestanceman1', 'verkehrswendeb2', 'thestanceman1', 'HerrRain', 'lumpi_00', 'nextmove_de', 'markusdd5', 'HerrRain', 'lumpi_00', 'nextmove_de', 'Wasserb0iler', 'geni256', 'geni256', 'ladefuchs', 'philippvetter', 'welt', 'AndiScheuer', 'WELTAMSONNTAG', 'Linjac_Ra', 'OliverKnittel1', 'Sepiroth1986', 'Dieter_Grind', 'AlleAktien', 'DasErste', 'HaraldLinden', 'beastmaster2015', 'verkehrswendeb2', 'AndreUnikat', 'tagesschau', 'polizei_ffm', 'dervomamt', 'Earther87', 'dervomamt', 'JuliaundRocky', 'RobertBoni6', 'Chrissl84414571', 'tagesschau', 'SonoMotors', 'stuckchen', 'dervomamt', 'dervomamt', 'JuliaundRocky', 'RobertBoni6', 'Chrissl84414571', 'tagesschau', 'planwerk', 'EON_de', 'GillyBerlin', 'stang2k', 'smartEQpassion', 'eswe_versorgung', 'FelixLaden', 'frankfeil', 'VQuaschning', 'BMWi_Bund', 'PNN_de', 'LH_Potsdam', 'technikblog_ch', 'SilFoiera', 'danyday12', 'migrol', 'Shell', 'Fastned', 'RuisingerR', 'TilmanWinkler', 'Paskir', 'danilaw63', 'wslflo', 'LRinkler', 'LuanaNussbaum', 'iveco_trucker', 'wernepro', 'Ozz_EU', 'florianaigner', 'RealDonDenito', 'ChrisKunisch', 'sascha_p', 'SPOE_Diesel', 'MineCooky', 'MarcelM3p', 'systemstig', 'howie_mw', 'ziromr', 'woksoll', 'wdwarncke', 'bbhermann', 'Stefan_Hajek', 'DudenhofferAUTO', 'MiManske', 'alex_waltschew', 'Tagesspiegel', 'cem_oezdemir', 'JKugoth', 'CSchwietering', 'MiikaMusiic', 'Realmdoctor', 'FirstGreenWave1', 'FewoBoerner', 'UmweltBW', 'RegierungBW', 'Rundblick_NDS', 'hannover', 'BelitOnay', 'Unter_3', 'RadioHannover', 'Stohrm2', 'ferrari2k', 'tagesschau', 'Blechfaust', 'schiepell', 'Georg_Pazderski', 'nextstepmobil', 'ZoePionierin', 'DG2RON', 'DH8GHH', 'joschtl', 'saki_statement', 'HalleVerkehrt', 'AchimGortz', 'energy_charts_d', 'ARD_BaB', 'heutejournal', 'BenToni17', 'sascha_m_k', 'Umwelthilfe', 'YouTube', 'Th3R3al3rik', 'lijo2323', 'cutwindt', 'BMWi_Bund', 'bmu', 'peteraltmaier', 'Thomas_Bareiss', 'BSI_Bund', 'bnetza', 'bdew_ev', 'VKUonline', 'VDA_online', 'bne_news', 'ZVEIorg', 'Andr_Jahn', 'maurerchr', 'StevenHanke1', 'cutwindt', 'BMWi_Bund', 'bmu', 'peteraltmaier', 'Thomas_Bareiss', 'BSI_Bund', 'bnetza', 'bdew_ev', 'VKUonline', 'VDA_online', 'bne_news', 'ZVEIorg', 'Andr_Jahn', 'maurerchr', 'StevenHanke1', 'Jensi48940329', 'hellgrau', 'Luisamneubauer', 'ckaef', 'CDU_BW', 'CDU', 'VBruttel', 'GeJo77778455', 'iodynamics1', 'GaiaXFakten', 'dusairport:', 'Maritim_Hotels', 'news_nowgmbh', 'think_use', 'GeJo77778455', 'CaptainHilts77', 'HShumanist', 'janusPrime', 'SchaferCorinna', 'Keeper_86', 'pjanik_otm', '___n2k1', 'ArminStecher', 'MoormannRainer', 'DerClue', 'VeroWendland', 's04paps', 'tuedelkopp', 'DerWirkungsgrad', 'kindofmagic4u', 'SimeonPreuss', 'JVos63', 'Werktaetiger_', 'RainerReelfs', 'eule_tina', 'thinks_about_it', 'norbertboh', 'Gathos', 'Fischblog', 'unpstep', 'Stefan_Hajek', 'wiwo', '_tho_', 'Stefan_Hajek', 'wiwo', 'GeJo77778455', 'hannovergenuss', 'ZDFheute', 'der_heinrich_', 'markusdd5', 'm_ziegelmeir', 'fdp', 'kkklawitter', 'GeJo77778455', 'Janosch16665', 'CoalDead', 'GeJo77778455', 'kkklawitter', 'Hagen', 'DocHappy2', 'WilhelmGuenther', 'ZDFheute', 'kkklawitter', 'thestanceman1', 'Stefan_Hajek', 'philodem', 'Michael_Kunz', 'janusPrime', 'EcoCarer1', 'FullyChargedShw', 'twittlik', 'schlingel', 'allindoge', 'frank_thelen', 'focusonline', 'tomdabassman', 'mathildareno', 'drumheadberlin', 'FMeyerKR', 'Elektro_Robin', 'CMDRArchadder', 'IONITY_EU', 'detektorfm', 'WSWWuppertal.', 'ladenetz', 'BothDev', 'frank_thelen', 'handelsblatt', 'HeikoMaas', 'spdde', 'OlafScholz', 'GeorgKonjovic', 'stang2k', 'GenerationStrom', 'EON_de', 'EnBW', '_richtig_falsch', 'lgewessler', 'Gruene_Austria', 'tugraz', 'ovicula', 'campact', 'cooliopenguin', 'thestanceman1', 'technikjuli', 'cedview123', 'user_keinname', 'PoterHairy', 'MarkusHoeher', 'CMDRArchadder', 'm_ziegelmeir', 'MarschkeSonja', 'RammTammTamm', 'bdew_ev:', 'fragger911', 'twittlik', 'codenaga', 'anja_hendel', 'Akoneira', 'ZoePionierin', 'zeitonline', 'mrohrlack', 'frankfeil', 'chrysoberyll', '_tho_', 'Elektro_Robin', 'SA110567', 'dw_wirtschaft', 'spahn_thomas', 'dw_deutsch', 'spahn_thomas', 'Stadt_OF', 'felix_schwenke', 'inkanina', 'ludwigshafen_de', 'Sarkastologe', 'm_ziegelmeir', 'Sarkastologe', 'm_ziegelmeir', 'Sarkastologe', 'm_ziegelmeir', 'JayMenno', 'dweezil58', 'gallenkamp', 'm_wachta', 'GNUmatic', 'Elektro_Robin', 'Stefan_Hajek', 'Bettina_Jarasch', 'notnownothere3', 'Die_Gruenen', 'Elektro_Robin', 'electrodocs', 'dw_deutsch', 'spahn_thomas', 'TilmanWinkler', 'spahn_thomas', 'u_stein', 'Elektro_Robin', 'gallenkamp', 'dw_deutsch', 'spahn_thomas', 'dw_deutsch', 'spahn_thomas', 'klimarecht', 'stadtebund', 'realMaxBe', 'ChristianHilge7', 'KathaSchulze', 'dw_wirtschaft', 'spahn_thomas', 'dw_deutsch', 'spahn_thomas', 'spahn_thomas.', 'friendswithwhe', 'DudenhofferAUTO', 'stekkerauto', 'Elektro_Robin', 'Geralt67', 'MarkusHoeher', 'tagesschau', 'CITROEN_DE', 'Fastned', 'MarkusHoeher', 'tagesschau', 'Elektro_Robin', 'BansheeHolzi', 'mastafotygo', 'Stefan_Hajek', 'Elektro_Robin', 'Elektro_Robin', 'dandyliving', 'TomFragt', 'thestanceman1', 'Schwunkvoll', 'LinaBrunnee', 'berny13189', 'severin_maier', 'diana_maria0311', 'GrueneBW', 'FirstGreenWave1', 'CDU_BW', 'GrueneBW', 'JanSueselbeck', 'Markus_Joch', 'ZoePionierin', 'KlatieD', 'nextmove_de', 'pflichtpfand', 'mksgraz', 'thestanceman1', 'tantebabayaga', 'EON_de', 'Schwunkvoll', 'LinaBrunnee', 'Stefan_Hajek', 'luckymaaa', 'technikblog_ch', 'davepermen', 'stang2k', 'Sebasti34996356', 'Sebasti34996356', 'cepzet', 'stadt_kiel', 'jess_kordouni', 'Stefan_Hajek', 'frankfeil', 'Sebastian_hurra', 'wf00757575', 'RheinEnergie', 'Koeln', 'Elektro_Robin', 'sabotrax', 'DudenhofferAUTO', 'CKemfert', 'Elektro_Robin', 'JuliusApfel', 'tagesprolet', 'JuliusApfel', 'tagesprolet', 'redexec1', 'kkklawitter', 'EON_de', 'A_Mueller_', 'eventertain', 'lelei', 'frankfeil', 'wallbox24', 'Elektro_Robin', 'TeeKay_EV', 'araldeutschland', 'pjanik_otm', 'WandNoah', 'fdp', 'EUTheurer', 'janusPrime', 'DerSympathisant', 'The_Commenting', 'Mingiam10', 'philippvetter', 'Oliver_Krischer', 'welt', 'WernerFuchs_CH', 'Geissacher', 'CMDRArchadder', 'GenerationStrom', 'thestanceman1', 'Chris_Rux', 'thestanceman1', 'FischwaffeI', 'eastascentfash1', 'eigengott', 'Luisamneubauer', 'KlarnameJonas', 'RailyRick', 'stang2k', 'cem_oezdemir', 'rille0909', 'kn_online', 'EnBW', 'IONITY_EU.', 'DerClue', 'din1073', 'ladefuchs', 'Steffen18346341', 'AlexGutermuth', 'Luisamneubauer', 'gerritvanaaken', 'ladefuchs', 'gruppe5', 'Biokraftstoff', 'DennisKopljar', 'Oliver_Krischer', 'Bn_Koenig', 'Luisamneubauer', 'Luisamneubauer', 'Der_Gali', 'ladefuchs', 'mirkoboehm', 'WeShare_DE', 'BMVI', 'AndiScheuer', 'WeShare_DE', 'Dschimmieh', 'sabrinabianca89', 'HerrPanTau', 'WernerFuchs_CH', 'eozwei', 'Fleinsbach', 'olemobility', 'niumobility', 'gemuesesuppe78', 'verkehrswendeb2', 'DerGraslutscher', 'PNarrans', 'bettercom', 'Schiedt', '_HelloPunk', 'heiseonline', 'FabioDeMasi', 'berlinliebich', 'johannesvogel', 'StefanGelbhaar', 'KonstantinNotz', 'BerlinerNotizen', 'menschundlicht', 'Deplazierter', 'totul69', 'e4Motion', 'robkde', 'HerrRain', 'thestanceman1', 'c_schwarzer', 'Hyundai_DE', 'VWGroup', 'electrodocs', 'frankfeil', 'ChuckBanham', 'nextmove_de', 'Hyundai_DE', 'janusPrime', 'sat1', 'JOLTEnergy', 'MarijanKelava', 'technikblog_ch', 'c_schwarzer', 'Hyundai_DE', 'VWGroup', 'TBonitz', 'Kricke1905', 'Zeitgeschehen_', 'sternburgexport', 'Kaffchris', 'KanzleiHoenig', 'Met_Tenden', 'RichardSteidel', 'technikjuli', 'Hagen', 'AstroSven', 'stang2k', 'cybergigafacto1', 'Hagen', 'AstroSven', 'stang2k', 'Hagen', 'AstroSven', 'stang2k', 'technikjuli', 'AstroSven', 'cybergigafacto1', 'stang2k', 'technikjuli', 'MichelleTersch', 'AndreasMemmer', 'stang2k', 'EnBW', 'MichelleTersch', 'stang2k', 'EnBW', 'ADAC', 'AstroSven', 'cybergigafacto1', 'stang2k', 'technikjuli', 'Hagen', 'stang2k', 'technikjuli', 'Hagen', 'stang2k', 'technikjuli', 'stang2k', 'technikjuli', 'cybergigafacto1', 'vwsachsen_de', 'elemob_de', 'volkswagen', 'HansLak', 'StadtZwickau', 'Elektro_Robin', 'Electroshock00', 'SMWA_SN', 'MartinDulig', 'elektrokarre', 'SachsenInBerlin', 'SachsenDe', 'TilmanWinkler', 'volkswagen', 'VWGroup', 'nextmove_de', 'MenzelZEL', 'MINI', 'KonradStroh', 'nextmove_de', 'Hagen', 'janboehm', 'twibarth', 'EV_Stevee', 'tschelle', 'Pedro73915976', 'janusPrime', 'wilddueck', 'doktorhulk', 'BerndRae', 'Hagen', '_mtiemann', 'danyday12', 'technikblog_ch', 'greenla68908505', 'davepermen', 'nextmove_de', 'Tesla', 'araldeutschland', 'LoGamemer', 'Astro_Alex', 'HUBBLE_space', 'Space_Station', 'NASA', 'esa', 'EnBW', 'EnBW,', 'technikjuli', 'eam_magazin', 'MGmotor', 'tschelle', 'janusPrime', 'EV_Stevee', 'mark_gutmann', 'twibarth', 'wilddueck', 'doktorhulk', 'BerndRae', 'tschelle', 'janusPrime', 'EV_Stevee', 'mark_gutmann', 'twibarth', 'wilddueck', 'doktorhulk', 'BerndRae', 'lawen4cer', 'peterbreuer', 'Topfritte', 'peterbreuer', 'ThomasIngenlath', 'PolestarCars', 'wiwo', 'heiseonline', 'c_jung77', 'FDPBW', 'fdpbt', 'fdp_lb', 'KaiBuschmann1', 'Remseck_', 'focusonline', 'GrueneVictoria', 'Stefan_Hajek', 'FDPBW', 'ruelke', 'cem_oezdemir', 'VfRealist', 'janboehm', 'janboehm', 'MoritzW12670437', 'knsqntdkdnt', 'janboehm', 'SWLeipzig', 'HTWKLeipzig', 'Hagen', 'planwerk', 'thestanceman1', 'janboehm', 'thestanceman1', 'm_ziegelmeir', 'FDPBW', 'ruelke', 'Elektro_Robin', 'janboehm', 'janboehm', 'Reisebecher', 'D4V1D_______', 'araldeutschland', 'araldeutschland', 'Wurzelspitze', 'Klimaliste', 'RadikalKlima', 'StromschlagYT', 'Ford_de', 'Koeln', 'Stefan_Hajek', 'FuchsPe', 'LINKE_Klima', 'k_ronneburg', 'existieren', 'jouwatch', 'KatCeMod', 'LavendelLab', 'GeorgKonjovic', 'enbw', 'greenpeace_de', 'Leyendakitara', 'nextmove_de', 'feld0001', 'jens_blume', 'euref', 'FischwaffeI', 'MarcusWadsak', 'motor_at', 'blues_pablo', 'MarcusWadsak', 'motor_at', 'asltf', 'EnBW', 'schooorty', 'umrath', 'the_newview', 'feld0001', 'jens_blume', 'euref', 'feld0001', 'jens_blume', 'euref', 'thestanceman1', 'Stefan_Hajek', 'DennisKopljar', 'germanenginee10', 'MurschelBernd', 'Knobelsdorff', 'nordmann_nrw', 'sascha_p', 'GernotDreher', 'cj5762cj', 'GeorgKonjovic', 'stang2k', 'Pegnitzpirat', 'Tevsa', 'Disfosgen', 'ABordramy', 'Koeln', 'Knobelsdorff', 'news_nowgmbh', 'faebiaen', 'CoalDead', 'nextmove_de', 'EnBW', 'BayStMI', 'BMW', 'MarcMath5', 'Elektro_Robin', 'Knobelsdorff', 'Knobelsdorff', 'Elektro_Robin', 'johannsenbjoern', 'nextmove_de', 'TomKallweit', 'nextmove_de', 'davepermen', 'janusPrime', 'thestanceman1', 'Knobelsdorff', 'CMDRArchadder', 'ich_bins_jetzt', 'EskenSaskia', 'inselpastor', 'Herbert_Diess', 'YouTube', 'Tacuru6', 'wdwarncke', 'MirkoHannemann', 'Cleanthinking', 'Stefan_Hajek', 'kkklawitter', 'Stefan_Hajek', 'DudenhofferAUTO', 'Elektro_Robin', 'stadt_wuppertal', 'swdag:', 'BansheeHolzi', 'planwerk', 'Karl_Lauterbach', 'SimonTobias11', 'wdwarncke', 'Simon_s_says', 'Karl_Lauterbach', 'Naturschuetzen', 'solarpapst', 'BMWi_Bund', 'peteraltmaier', 'wdwarncke', 'Mingiam10', 'DaSmellcaster', 'gepexe', 'BMWi_Bund', 'peteraltmaier', 'MirkoHannemann', 'Cleanthinking', 'Stefan_Hajek', 'janusPrime', 'HMitterwald', 'WSWWuppertal', 'stadt_wuppertal', 'UweSchneidewind', 'spreeblick', 'EskenSaskia', 'Herbert_Diess', 'chabahil04', 'ADAC', 'oreissig', 'Karl_Lauterbach', 'Karl_Lauterbach', 'OpelDE', 'wiwo', 'Mingiam10', 'AFriend26601998', 'markusdd5', 'ben_brechtken', 'FDPBW', 'AudiOfficial', 'Porsche', 'TilmanWinkler', 'hauptstadtadel', 'thestanceman1', 'stekkerauto', 'Baz14587134', 'CMDRArchadder', 'Mingiam10', 'berweb', 'amsonline', 'AFriend26601998', 'ben_brechtken', 'FDPBW', 'normal_dwarf', 'japeMay_', 'jacques_gda', 'Naturschuetzen', 'koebi0711', 'Mingiam10', 'Die_Gruenen', 'GrueneBW', 'gruenehessen', 'GRUENE_Hamburg', 'KebabChris', 'KroegerOve', 'hamburg_de:', 'HansKuhn11', 'Sedios1', 'derspiegel', 'N_Heisterhagen', 'Sedios1', 'HansKuhn11', 'derspiegel', 'davepermen', 'BriannaWu', 'HerrRain', 'BriannaWu', 'Berndte3', 'Gboar53', 'socmed_fh', 'DS_Official', 'Stefan_Hajek', 'StadtwerkeKiel', 'AndiScheuer', 'NewHyperion', 'Latexfreund', 'tagesschau', 'PalGorgeous', 'tagesschau', 'CMDRArchadder', 'goldkaeferli', 'Krumbeersupp', 'soeren_goetz', 'RWI_Leibniz', 'zeitonline', 'Deplazierter', 'Strahlemann9', 'Sektenbeauftr', 'googlenews', 'weh_oh', 'AntonHirsch', 'janboehm', 'MasseyFriend', 'FOCUS_TopNews', 'CKemfert', 'RegineGuenther', 'volkswagen', 'a_braxes', 'nextmove_de', 'oli29515993', 'derGerfried', 'PmdUnitybox1', 'KarlHei64031538', 'DanielAausM', 'CMDRArchadder', 'Unerwartet111', 'DanielAausM', 'CMDRArchadder', 'MarcAur79421444', 'Unerwartet111', 'StadtpolizeiZH', 'PPCGK', 'Zeitgeschehen_', 'lombman', 'wsw113355', 'welt', 'ZDFheute', 'Pietbull47', 'IssesHalt', '12KeineAhnung', 'Pustel13', 'CMDRArchadder', 'Pustel13', 'einAnalytiker', 'Unerwartet111', 'SixtDE', 'FreiburgerJungs', 'Hagen', 'Elektro_Robin', 'WolfgangHerle', 'Tasso2803', 'florianaigner', 'ZoePionierin', 'HolgerHollo', 'Tasso2803', 'ZoePionierin', 'HolgerSmmer1', 'janusPrime', 'r34r47', 'Hamburg397', 'boeselhack', 'wdwarncke', 'dasdigitaleauto', 'kkklawitter', 'GSchimpf', 'Kirmesboxer', 'rudifussi', 'ulrich_leth', 'chorherr', 'MichaelCerveny', 'Hagen', 'FalkWussow', 'Dr_Emergencydoc', 'chargeprice', 'hoenic07', 'RobertLechner12', 'LaurinHahn', 'awillburger', 'Sulzamneckar', 'nextmove_de', 'TG_translations', 'BImpa', 'bastelfreak', 'R_OT', 'tomfrit', 'SabineCrook2', 'stang2k', 'innogy_emob', 'EON_de', 'innogy_emob', 'EON_Presse?', 'Traumzauberbaum', 'Stefan_Hajek', 'FAZ_Top', 'Elektro_Robin', 'kaufland', 'HDG270', 'Elektro_Robin', 'DerGraslutscher', 'twittlik', 'twittlik', 'Juerg_Grossen', 'Violapamherd', 'Swiss_eMobility', 'bmu', 'Jean59475943', 'CMDRArchadder', 'ardmoma', 'Planetenherz', 'markmueller1979', 'Googolplex1', 'mh1080', 'Mingiam10', 'Inge06222631', 'nordbayern', 'thestanceman1', 'HVolquardsen', 'berweb', 'Mingiam10', 'HVolquardsen', 'thestanceman1', 'berweb', 'Mingiam10', 'simulationguest', 'bindermichi', 'MoniqueFreude', 'Mingiam10', 'RuisingerR', 'CMDRArchadder', 'FutureQuixx', 'RooffRoad', 'HardyFuture', 'EtienneToGo', 'CMDRArchadder', 'FutureQuixx', 'RooffRoad', 'HardyFuture', 'EtienneToGo', 'Stefan_Hajek', 'elonmusk', 'MoormannRainer', 'DeEbbse', 'EnBW', 'initin_de', 'Planetenherz', 'Michael_Jahn_GB', 'RobinDanzl', 'u_reichmann', 'HerrLuehmann', 'Die_Gruenen', 'ABaerbock', 'DerGraslutscher', 'kkklawitter', 'AudiOfficial-CEO', 'DerNicoA', 'stang2k', 'kaufland', 'lidl', 'Dieter_Grind', 'Paradiesbambi', 'LowerClassMag', 'Elektro_Robin', 'arrasz', 'TeslaTeslemming', 'emobly', 'lidl', 'kaufland', 'hzulla', 'schnellladepark', 'StromschlagYT', 'Fastned', 'umrath', 'GPlay97_', 'EnBW', 'EnBW', 'hanshafner', 'HonkHase', 'heiseautos', 'emobly', 'lidl', 'kaufland', 'DerWirkungsgrad', 'Alexand23573402', 'cem_oezdemir', 'CSU', 'fdp', 'thestanceman1', 'cem_oezdemir', 'CSU', 'fdp', 'DerWirkungsgrad', 'Alexand23573402', 'cem_oezdemir', 'CSU', 'fdp', 'cityradler', 'neruda5', 'speis_oo', 'Werkstatt', 'p_humm', 'technikjuli', 'LongoFL', 'peter_simone', 'Hamburg397', 'JochenFlasbarth', 'CKemfert', 'biorind', 'yello_de', 'SuewagEnergieAG', 'cem_oezdemir', 'CSU', 'fdp', 'Cleanfuelnow', 'GerdKebschull', 'AllegoCharging', 'vwsachsen_de', 'vwmanufaktur_de', 'volkswagen', 'volkswagen_de', 'GmbhWarncke', 'wdwarncke', 'Elektro_Robin', 'eautonews', 'MeinElektroauto', 'elektrokarre', 'eam_magazin', 'Stefan_Hajek', 'CMDRArchadder', 'sundaysdinner', 'der_raddler', 'dervomamt', 'Herbert_Diess', 'intersprech', 'fluepke', '_sivizius', 'Subnet_Zero', 'WeShare_DE', 'kaufland-Kunden', '12happyfeet12', 'c_schwarzer', 'Stefan_Hajek', 'volkswagen', 'GM', 'TRATON_GROUP', 'bacw_berlin,', 'Pastundcopy', 'bwegtBW', 'rebudaischion', 'lumpi_00', 'Jxn_cry', 'Mr_Westermann', 'JonOfUs', 'markusdd5', 'cyclist_city', 'bacw_berlin', 'tina_trautmann', 'Mak_ney', 'Sebi_K96', 'tagesschau', 'HerrNicer', 'MineCooky', 'RenaultDE', 'Franzini55', 'vieledinge', 'CH64', 'PraiaPipoca', 'AureliaSch_Pur', '12happyfeet12', 'KokiriMiri', '_wfrank', 'Elektro_Robin', 'FLUFFSQUEAKER', 'monaplysia', 'BlYe09', 'Pietbull47', 'peter_simone', 'Stefan_Hajek', 'TomFragt', 'CMDRArchadder', 'Balelt41', 'Peugeot', 'PeugeotUK', 'Elektro_Robin', 'eautonews', 'MeinElektroauto', 'elektrokarre', 'eam_magazin', 'Stefan_Hajek', 'GrafschafterBot', 'BILD', 'neurosp1ke', 'erdgeist', 'PolizeiMuenchen,', 'CMDRArchadder', 'olekruenkelfeld', 'kischtrine', 'sci_fanboi', 'Viper7819', 'umrath', 'dantrimont', 'TRichte82727225', 'Karl_Lauterbach', 'DrEricDing', 'RouteBetter', 'Viper7819', 'a_braxes', 'dantrimont', 'TRichte82727225', 'Karl_Lauterbach', 'DrEricDing', 'RouteBetter', 'cow2k', 'acurus', 'Fastned', 'VlkrDhr', 'KL_Ortenau', 'FischwaffeI', 'elfritzos', 'hoffmannkathrin', 'Koeln', 'paskolumbus', 'Daimler', 'scottballz', 'SchaFue', 'technikjuli', 'Fastned', 'umrath', 'dantrimont', 'Viper7819', 'Karl_Lauterbach', 'DrEricDing', 'Minetimeth', 'CactusMetall', 'Elektro_Robin', 'TankundRast', 'wolpertinger42', 'rosenbaumg0', 'stang2k', 'MiManske', 'auto_schmidt', 'JoeMillerJr', 'VWGroup', 't3n', 'CMDRArchadder', 'PiaDannyEla', 'RF70469', 'buzze', 'ladefuchs', 'Hamburg397', 'planwerk', 'chargeprice', 'thestanceman1', 'planwerk', 'ladefuchs', 'Hamburg397', 'planwerk', 'verkehrswendeb2', 'planwerk', 't3n', 'frankfeil', 'DeathMetalMods', 'Touni', 'HWillaredt', 'Baz14587134', 'MartinCJanssen', 'meineStimmeDE', 'AlltagamStiel', 't3n', 'frankfeil', 'decider148', 'frankfeil', 'YouTube', 'electricfelix', 'c_schwarzer', 'StromnetzHH', 'Senat_Hamburg', 'anjes_tjarks', 'auto_schmidt', 'AmsterdamNL', 'Touni', 'HWillaredt', 'Baz14587134', 'MartinCJanssen', 'meineStimmeDE', 'lottchen_meier', 'CMDRArchadder', 'peter_simone', 'SchuGue', 'DomTHell', 'FuelOfTheFuture', 'SchuGue', 'DomTHell', 'FuelOfTheFuture', 'KumkeNorbert', 'Joerg_Meuthen', 'konold', 'VQuaschning', 'electricfelix', 'c_schwarzer', 'StromnetzHH', 'Senat_Hamburg', 'anjes_tjarks', 'auto_schmidt', 'AmsterdamNL', 'c_schwarzer', 'ThorThorstensen', 'StromnetzHH', 'Senat_Hamburg', 'anjes_tjarks', 'BMVI', 'Witt_Uwe', 'AfD', 'PolestarCars', 'VolvoCarPR_DE', '_HelloPunk', 'tuessl', 'JLichdi', 'Burkhard_F_Ra', 'TiloWirtz', 'pjk13081960', 'stephankuehn', 'Gruene_staDDrat', 'lockenralf', 'MonaNeubaur', 'p_humm', 'TimSchmuckall', 'Hamburg397', 'VWGroup_DE', 'nextmove_de', 'StwBo', 'bochum_de', 'Dirk50990343', 'Joerg_Meuthen', 'TimSchmuckall', 'VWGroup_DE', 'nextmove_de', 'ASTS1972', 'TerliWetter', 'stang2k', 'TichysEinblick', 'MPKretschmer', 'bundeswehrInfo', 'KaiGlode', 'Joerg_Meuthen', 'SenUVKBerlin', 'RegineGuenther', 'umrath', 'stang2k', 'WSWWuppertal', 'WeareWuppertal', 'RaGl', 'SenUVKBerlin', 'RegineGuenther', 'drumheadberlin', 'BILD', 'teslamag', 'SenUVKBerlin', 'RegineGuenther', 'Stefan_Hajek', 'frankfeil', 'Elektro_Robin', 'ayranundspeck', 'fab_barpacifico', 'BVG_Bus', 'fabsh', 'ptrjstn', 'janboehm', 'CMDRArchadder', 'cducsubt', 'UlrichLange', 'CMDRArchadder', 'cducsubt', 'UlrichLange', 'timohetzel', 'stehblog', 'helmi', 'nickoffff', 'StarteThor', 'volkswagen', 'frankfeil', 'MainovaAG', 'Stadt_FFM', 'OBPeterFeldmann', 'Eddie_1412', 'snoopdog1971', 'welt', 'Wetzelstrom', 'philippvetter', 'janusPrime', 'FeynmansMethod', 'hccd007', 'Gazelight', 'N_Schmid', 'HMitterwald', 'norbertboh', 'Arishna12', 'MoormannRainer', 'Werktaetiger_', 'DominicBarden', 'VeroWendland', 'MartinFehringe3', 'DerClue', 'OliverHaas19', 'MichaelBaleanu', 'Chipmun23316534', 'Rainer_Klute', 'Nuklearia', 'Joerg_Rehmann', 'CDU_BY', 'SchaferCorinna', 'tuedelkopp', 'HalleVerkehrt', 'KlimaVorAcht', 'Hessen_Agentur', 'ArghRich', 'janusPrime', 'FeynmansMethod', 'Gazelight', 'N_Schmid', 'HMitterwald', 'norbertboh', 'Arishna12', 'MoormannRainer', 's04paps', 'Werktaetiger_', 'DominicBarden', 'VeroWendland', 'MartinFehringe3', 'DerClue', 'OliverHaas19', 'MichaelBaleanu', 'Chipmun23316534', 'Rainer_Klute', 'Nuklearia', 'Joerg_Rehmann', 'CDU_BY', 'SchaferCorinna', 'tuedelkopp', 'HalleVerkehrt', 'KlimaVorAcht', 'Hessen_Agentur', 'timohetzel', 'ladefuchs', 'twittlik', 'schlingel', 'zettelfalter', 'ute_____', 'TichysEinblick', 'mousseman', 'Franke_FDP', '_lnnen_WT', 'lgewessler', 'GLobenberg', 'wdwarncke', 'janusPrime', 'MoormannRainer', 'VeroWendland', 'N_Schmid', 'HMitterwald', 'norbertboh', 'Arishna12', 's04paps', 'Werktaetiger_', 'DominicBarden', 'MartinFehringe3', 'DerClue', 'OliverHaas19', 'MichaelBaleanu', 'Chipmun23316534', 'FeynmansMethod', 'Rainer_Klute', 'Gazelight', 'Nuklearia', 'Joerg_Rehmann', 'CDU_BY', 'SchaferCorinna', 'tuedelkopp', 'HalleVerkehrt', 'KlimaVorAcht', 'Hessen_Agentur', 'gem8mingen', 'kkklawitter', 'thestanceman1', 'ute_____', 'EnBW', 'Markus_Soeder,', 'volkswagen', 'janusPrime', 'N_Schmid', 'HMitterwald', 'norbertboh', 'Arishna12', 'MoormannRainer', 's04paps', 'Werktaetiger_', 'DominicBarden', 'VeroWendland', 'MartinFehringe3', 'DerClue', 'OliverHaas19', 'MichaelBaleanu', 'Chipmun23316534', 'FeynmansMethod', 'Rainer_Klute', 'Gazelight', 'Nuklearia', 'Joerg_Rehmann', 'CDU_BY', 'SchaferCorinna', 'tuedelkopp', 'HalleVerkehrt', 'KlimaVorAcht', 'Hessen_Agentur', 'welt', 'frankfeil', 't3n', 'Saefken', 'RochlitzerSteve', 'binbulf', 'Des_Roin', 'HplNadja', '_donalphonso', 'Nidhggr2', 'spotdrossel', 'thestanceman1', '_donalphonso', 'Captn_Hype', 'Stefan_Hajek', 'stekkerauto', 'Elektro_Robin', 'FFE', 'AlteWeisseFrau', 'SaschaInHalle', '_donalphonso', 'thestanceman1', '_donalphonso', 'WELTAMSONNTAG', 'philippvetter', 'AlbinMeyerCH', 'frau_johann', 'NicErzer', 'raffi931', 'AargauerZeitung', 'Krustinaut', 'nextmove_de', 'UL_JO_684E', 'nextmove_de', 'nextmove_de', 'stang2k', 'electricfelix', 'JaguarDEU', 'JaguarRacing', 'fuerTiere', 'volkswagen', 'kroschel', 'the_infinity', 'Juergen_Kaiser', 'RegierungBW', 'e4Motion', 'Wiggensbach_OA', 'SonoMotors', 'Fastned', 'NerlichMichael', 'jansen_hh', 'SilvaAtTwitta', 'EichstadtTilman', 'MisterAltair', 'MisterB02143851', 'mene_stfr', 'DerHutte', '7ieben_', 'zweilicht85', 'matalxis', 'tacito_el', 'NoFixedAdobe', 'JanBarkmann', 'PEDgfx', 'Total', 'Fastned', 'lukizzl', 'boysdontcrei', 'Fleinsbach', 'alecmcint', 'handelsblatt', 'MercedesBenz', 'nextmove_de', 'Qyou14', 'HVolquardsen', 'ladeverbundplus', 'nextmove_de', 'nextmove_de', 'michaelwirz6', 'SFKteuton', 'StadtMuenchen', 'Model3GER', 'howie_mw', 'systemstig', 'ReneHesse', 'Katojana', 'PoterHairy', 'OekoKetzer', 'fagri', 'BerndRae', 'cheetah_spotty', 'bicionado', 'kkklawitter', 'tuessl', 'SonoMotors', 'Easy_Mile', 'FischwaffeI', 'Katojana', 'PoterHairy', 'OekoKetzer', 'fagri', 'BerndRae', 'cheetah_spotty', 'thestanceman1', 'sinalk97', 'soon_is_now4all', 'Werktaetiger_', 'Stefan_Hajek', 'lukasbisdorf', 'peter_simone', 'Mulfred7', 'thestanceman1', 'unlauterertyp', 'bitterlemmer', 'YVergatario', '20min', 'Werktaetiger_', 'Stefan_Hajek', 'peter_simone', 'krautreporter', 'Schinkentorte', 'agentsinaction', 'stang2k,', 'Eating_Kitty', 'CMDRArchadder', 'areacode030', 'bitterlemmer', 'Brettwelten', 'PoterHairy', 'areacode030', 'CMDRArchadder', 'bitterlemmer', 'SozMettbrot', 'StSgumin', 'volkswagen', 'mairpeda', 'schlingel', 'WeiterWinkel', 'ladefuchs', 'Hamburg397', 'Sandzwerg', 'LucaBrunsch', 'M_Hundhausen', 'klimawende1', 'peteraltmaier', 'peter_simone', 'HeikensP', 'janusPrime', 'nextmove_de', '', 'SchaferCorinna', 'JVos63', 'Jo_F_De', 'Rainer_Klute', 'thestanceman1', 'janusPrime', 'Alexand23573402', 'janusPrime', 'Alexand23573402', 'Tom_B_Ritter', 'EU__Timothy', 'lenathe21th', 'LinkeMadeleine', 'StromschlagYT', 'stang2k', 'RenaultDE', 'sputniki', 'kinderdok', 'HeyPaddyo', 'teilAuto', 'klaus66online', 'fff_muc', 'alf_frommer', 'SenUVKBerlin,', 'kkklawitter', 'KnorDavid', 'fre_rud', 'Waldkreis', 'JohannesThema', 'julia_holze', 'gutjahr', 'DonDahlmann', 'Elektro_Robin', 'robinthschaefer', 'KrusekopfD', 'HansLak', 'Stefan_Hajek', 'mnowak_wob', 'electrodocs', 'flaunaz', 'X_1791', 'stang2k', 'micha06de', 'geoObserver_', 'VierlanderF', 'RolandTichy', 'Dummokratie', 'RolandTichy', '24Against', 'Hagen', 'c_schwarzer', 'enviaM,', 'Hagen', 'GeorgKonjovic', 'Elektro_Robin', 'ulfposh', 'Banana_Joe2', 'NBelemnit', 'DerWirkungsgrad', 'SimonMe57003990', 'PeBe48', 'fdp', 'ruelke', 'chris_pyak', 'nextmove_de', 'JazLee23029839', 'NBelemnit', 'DerWirkungsgrad', 'SimonMe57003990', 'PeBe48', 'fdp', 'ruelke', 'BMWi_Bund', 'MpStephanWeil', 'derspiegel', 'MarcMath5', 'Tritonkapitaen', 'GeorgKonjovic', 'platz_steffen', 'Baz14587134', 'thestanceman1', 'CMDRArchadder', 'Xus1Ba', 'TibaStefan1', 'ntvde', 'aptera_motors', 'platz_steffen', 'thestanceman1', 'CMDRArchadder', 'Xus1Ba', 'TibaStefan1', 'ntvde', 'aptera_motors', 'HumanKoala', 'fdp', 'ruelke', 'AlfredEBeach', 'timur_zanagar', 'Kilroy576', 'EnBW', 'MVV_Partner', 'FDP', 'chris_9803', 'Tomolus', 'Hagen', 'nikitheblogger', 'platz_steffen', 'thestanceman1', 'CMDRArchadder', 'TibaStefan1', 'ntvde', 'aptera_motors', 'Keeper_86', 'Elektro_Robin', 'JuEV01', 'tagesschau', 'Hektor_Nibelung', 'yosperger', 'tagesschau', 'SchelianHP', 'norberteder', 'jcfrick', 'Selleman', 'der_bruehl', 'volkswagen', 'LukTBrand', 'HansTheGerman', 'Friday4Hubraum', 'OpelDE', 'MonikaHerrmann1', 'WeShare_DE', 'MonikaHerrmann1', 'LukTBrand', 'HansTheGerman', 'Friday4Hubraum', 'herbieschmidt', 'NZZ', 'EdeWolf14', 'morgenpost', 'MaAhl5', 'thestanceman1', 'ADAC', 'Stefan_Hajek', 'AukeHoekstra', 'Elektro_Robin', '_ShadowEnemy', 'teslaP3D', 'TouchBenny', 'ronin_sam', 'echo_mirage_', 'sebbi', 'heiseonline', 'FischwaffeI', 'AndreasS2904', 'Carsten001', 'gruene_berlin', 'nordmann_nrw', 'schwabe90', 'frank_rieger', 'nextmove_de', 'Tesla', 'Gay_NLDE', 'Naturschuetzen', 'verkehrswendeb2', 'Hagen', 'Alchemist_DD', 'volkswagen', 'Kia_Deutschland', 'FMH_', 'beimwort', 'CMDRArchadder', 'KurtHuwig', 'Spatzl17', 'teddyhh', 'HerrSievers', 'nikitheblogger', 'electonic', 'CMDRArchadder', 'TomThompsonFfm', 'awillburger', 'DannyHillborou1', 'Peps_Friseur', 'der_2taccount', 'ainyrockstar', 'GillyBerlin', 'ladefuchs', 'ainyrockstar', 'verkehrswendeb2', 'Gay_NLDE', 'Hagen', 'Naturschuetzen', 'TomFragt', 'Gay_NLDE', 'Hagen', 'Naturschuetzen', 'Naturschuetzen', 'verkehrswendeb2', 'Gay_NLDE', 'Hagen', 'Dimabo15', 'ChristophBeisl1', 'CDU', 'CMDRArchadder', 'pr3mut05', 'regnerischerTag', 'ThoreRehbach', 'planwerk', 'Sebasti34996356', 'GernotDreher', 'Elektro_Robin', 'teddyhh', 'HerrSievers', 'nikitheblogger', 'JuEV01', 'CDU', 'HolzheuStefan', 'ostfranzoseKL', 'anwaltsgelaber', 'JuEV01', 'CDU', 'Fridgeir9', 'ostfranzoseKL', 'anwaltsgelaber', 'focusonline', 'tom_janas', 'DerNicoA', 'StlpnerKarl1', 'germanyfriend', 'Marcus_Buehl', 'AfD_Thueringen', 'DudenhofferAUTO', 'MichaelLeon7', 'parents4future', 'rstrohmi', 'Lars9596', 'Joerg_Nobis_AfD', 'wdwarncke', 'FanHerrin', 'nikitheblogger', 'wdwarncke', 'MatthiasGastel', 'r____jan', 'tobidope', 'Blixah', 'radioeins.', 'suedallee', 'wolkenbruch', 'DerWirkungsgrad', 'PoterHairy', 'tagesschau', 'maxstegi', 'tagesschau', 'GC_Vincent05', 'Kirmesboxer', 'Kirmesboxer', 'ZauberVanille', 'Bjk18Sabral', 'sebimax', 'Alexand23573402', 'AstroSven', 'M_Hundhausen', 'DerWirkungsgrad', 'AstroSven', 'M_Hundhausen', 'DerWirkungsgrad', 'AstroSven', 'M_Hundhausen', 'kkklawitter', 'wandelwerkkoeln', 'technikjuli', 'Elektro_Robin', 'CDU', 'igembb', 'tagesschau', 'VCOE_AT', 'KatjaMast', 'spdbt', 'spdde', 'verkehrswendeb2', 'accountnoroot', 'BembelEagle', 'vonundzupan', 'tagesschau', 'Wellthisisawkw6', 'BembelEagle', 'verkehrswendeb2', 'vonundzupan', 'tagesschau', 'thestanceman1', 'verkehrswendeb2', 'TFM312', 'BonkersConquers', 'tagesschau', 'FridayForFuture', 'Blixah', 'r____jan', 'nutellaberliner', 'supinoki', 'CMDRArchadder', 'volkswagen', 'stang2k', 'enercity', 'GeorgKonjovic', 'BlakesWort', 'golem', 'alexander_leis', '_richtig_falsch', 'Franke_FDP', 'golem', 'TakeoYasha', 'golem', 'KfW', 'wahlborn', 'pjanik_otm', 'Franke_FDP', 'golem', 'TibaStefan1', 'volkswagen', 'derFesxh', 'Tesla', 'Tesla_DE', 'AndiScheuer', 'Elektro_Robin', 'SGaeng', 'Rainer_Klute', 'MoormannRainer', 'energy_charts_d', 'kkklawitter', 'HalleVerkehrt', 'gruenehessen', 'talwazir', 'BasicBWLer', 'kkklawitter', 'eventertain', 'Pauline22335', 'DudenhofferAUTO', 'parents4future', 'Floskelwolke', 'Alexand23573402', 'DudenhofferAUTO', 'parents4future', 'stekkerauto', 'BMW', 'CDU', 'fdpbt', 'GrueneBundestag', 'Klima_Mahner', 'JVos63', 'Timon_Gremmels', 'Karl_Lauterbach', 'elonmusk', 'janusPrime', 'FeynmansMethod', 'EichstadtTilman', 'StromschlagYT', 'Wayne49252139', 'Plugsurfing', 'IONITY_EU', 'BmvgJohn', 'redexec1', 'kkklawitter', 'DH1FR', 'emobly', 'Plugsurfing', 'ImvtKit', 'RalfLippold', '_tho_', 'IDIdeal1', 'AusweisApp2', 'mcfire999', 'frankfeil', 'EnBW', 'IONITY_EU', 'Nidhggr2', 'ChristineHernt1', 'frank_thelen', 'N_Schmid', 'Nuklearia', 'CMDRArchadder', 'je_saar', 'Gen_Atomic', 'GPlay97_', 'M_Hundhausen', 'SchoeferMichael', 'GiverSteve', 'Naturschuetzen', 'erlangen_de', 'EN_Online', 'KlimalisteER', 'Matthias_1108', 'NABU_de', '_MaxDev_', 'its_Flake', 'Herrbett', 'lasslie', 'technikjuli', 'the_infinity', 'kkklawitter', 'kkklawitter', 'cj5762cj', 'EnBW', 'nextmove_de', 'Woidschratz', 'Venghaus007', 'JanBunnemann', 'frank_thelen', 'frank_thelen', 'Hans__A__', 'Nuklearia', 'HansWernerSinn', 'Hans__A__', 'Nuklearia', 'HansWernerSinn', 'Lurmoral', 'Nuklearia', 'HansWernerSinn', 'derspiegel', 'ForchheimEka', 'MercedesBenz_DE', 'Felx88025548', 'DudenhofferAUTO', 'StefanHeimlich:', 'BMVI', 'KurtHuwig', 'markusdd5', 'realJohnyM', 'RoshiSwen', 'Nuklearia', 'HansWernerSinn', 'ElectriveNet', 'KurtHuwig', 'markusdd5', 'realJohnyM', 'RoshiSwen', 'Nuklearia', 'HansWernerSinn', 'ElectriveNet', 'Elektro_Robin', 'RoshiSwen', 'realJohnyM', 'Nuklearia', 'markusdd5', 'HansWernerSinn', 'ElectriveNet', 'cj5762cj', 'InitiativeDZ', 'girocard', 'janusPrime', 'Schnabelobst', 'Fastned', 'goingelectricde', 'Schnellladen_CH', 'PolizeiPF', 'lidl', 'glptbollinger', 'davepermen', 'xDreamCoding', 'KroegerOve', 'DonBarbone', 'robintvblau', 'AndiScheuer', 'Yamanich', 'schwurbelwatch', 'Hagen', 'IONITY_EU', 'BerlinAirport', 'TritiumCharging.', 'LeonidLezner', 'DugarToGo', 'markoATwork', 'MINI', 'igembb', 'lidl', 'NicoSchurr', 'wslflo', 'robin_urban', 'bikeraper', 'robin_urban', 'robin_urban', 'robin_urban', 'cem_oezdemir', 'wdwarncke', 'MariusFabry', 'wf00757575', 'MatchasmMatt', 'rosenbaumg0', 'Tesla', 'nogfradelt', 'climateactor', 'CMDRArchadder', 'Berndte3', 'EU_Commission', 'Stefan_Hajek', 'beckersstef', 'CptKrustenkaese', 'rockefellaG', 'WeShare_DE', 'nextmove_de', 'Tesla', 'dl1oli', 'PresseamtAachen', 'nextstepmobil', 'EnBW', 'MaingauEnergie', 'NewMotion', 'PhysioAftermath', 'stang2k', 'felixloe', 'volkswagen', 'WSWMUC', '_mobility_', 'teslamag', 'TeslaSchweiz', 'Tesla_DE', 'GeorgKonjovic', 'Model3GER', '163Grad', 'claus_hammer', 'SchelPeter', 'AllegoCharging', 'kkklawitter', 'cambio_de.', 'alzina36048490', 'tolino_de', 'Patrick_Kunkel', 'Tesla_DE', 'tysemez', 'golem', 'frankfeil', '3811015', 'jnbhlr', '3811015', 'eike_reinel', 'ReneSchlehr', 'WernerderChamp', 'IngoKlever', 'nextmove_de', 'BloombergNEF', 'EWE_AG', 'McDonaldsDENews', 'MaddyQuerulator', 'EnBW', 'ZoePionierin', 'WinneHermann', 'MorkOrg', 'DL4GO', 'nextmove_de', 'dkf2010', 'BloombergNEF', 'wdwarncke', 'Dirk_Ottobrunn', 'Volksverpetzer', 'pavido_de', 'royfocke', 'RheinEnergie', 'oreissig', 'e_poche', 'ZoePionierin', 'EnBW', 'WinneHermann', 'ZoePionierin', 'EnBW', 'WinneHermann', 'r34r47', 'electrodocs', 'YouTube', 'timohetzel', 'thestanceman1', 'nextmove_de', 'alex_avoigt', 'GenerationStrom', 'Fastned', 'REWE_Supermarkt', 'stang2k', 'araldeutschland', 'Presse_PAYBACK', 'Elektro_Robin', 'HGoebel', 'faznet', 'stang2k', 'araldeutschland', 'Presse_PAYBACK', 'araldeutschland.', 'Presse_PAYBACK', 'kaufland', 'kattascha', 'BILD', 'thestanceman1', 'Model3GER', 'FrauWeh', 'electrodocs', 'stang2k', 'REWE_Supermarkt', 'FrauWeh', 'EAutoPionier', 'electrodocs', 'electrodocs', 'eigeneansicht', 'egghat', 'peakaustria', 'M_Hundhausen', 'SylK1966', 'Naturschuetzen', 'SiggiSGE', 'aptera_motors', 'jcfrick', 'cem_oezdemir', 'AndiScheuer', 'cem_oezdemir', 'AndiScheuer', 'Tesla', 'JohannesWeniger', 'jcfrick', 'Svenastheimer', 'officiallyjoko', 'Svenastheimer', 'FAZ_Wirtschaft', 'BoaConstrictorX', 'HalleVerkehrt', 'hasebrook', 'FeynmansMethod', 'twittlik', 'timohetzel', 'thestanceman1', 'Model3GER', 'EnBW', 'Elektro_Robin', 'Stefan_Hajek', 'zeitonline', 'sascha_p', 'Kalsariknnit6', 'LukTBrand', 'Stefan_Hajek', 'GeorgKonjovic', 'thestanceman1', 'GillyBerlin', 'minotaurusrex', 'Dekarldent', 'EnBW', 'thestanceman1', 'Hagen', 'phba151', 'thestanceman1', 'CMDRArchadder', 'nextmove_de', 'MaxFichtner', 'DudenhofferAUTO', 'Arnd3008', 'ABaerbock', 'peter_simone', 'HIThomasFranke', 'LauraMKoenig', 'christianeattig', 'DasBoes', 'BerlinCyclist', 'NoPlanetB_EU', 'BerlinCyclist', 'mschmidtxr1', 'nextmove_de', 'BerlinCyclist', 'CKemfert', 'VWGroup', 'wdwarncke', 'Wayne49252139', 'MichaelStal', 'electrodocs', 'Michael_Kunz', 'technikjuli', 'Klima_Mahner', 'AukeHoekstra', 'Klima_Mahner', 'AukeHoekstra', 'timetof1y', 'badidol', 'electrodocs', 'electrodocs', 'nextmove_de', 'DL4GO', 'TAltgeld', 'welt', 'ulfposh', 'stuttgart_stadt', 'StadtwerkeStgt', 'EnBW', 'electrodocs', 'wasserstoff91', 'Stefan_Hajek', 'pdfkungfoo', 'fahrIehrer', 'sinalk97', 'thestanceman1', 'Naturschuetzen', 'ballungsalex', 'jcfrick', 'RafaelZeier', 'GillyBerlin', 'NIPR17', 'lukas_hammer', 'jcfrick', 'RainhardRRD', 'AllegoCharging', 'auchmaneinsagen', 'Naturschuetzen', 'minunofmary', 'thestanceman1', 'FrlC', 'frankfeil', 'sascha_p', 'PASTELERO89', 'EnBW', 'Model3GER', 'Hagen', 'Elektro_Robin', 'swdag.', 'jcfrick', 'RafaelZeier', 'GillyBerlin', 'Elektro_Robin', 'ThorstenRinne', 'BMVI', 'BMWi_Bund', 'peteraltmaier', 'AndiScheuer', 'tonirazz', 'electrodocs', 'haekelschwein', 'thestanceman1', 'sascha_p', 'stang2k', 'frankfeil', 'EcoCarer1', 'Pixel_Kev_', 'Olley1985', 'Arnd3008', 'DudenhofferAUTO', 'ABaerbock', 'peter_simone', 'sebastianb1987', 'extra3', 'Ph1chrr', 'volkswagen', 'GernotDreher', 'nilspickert', 'planwerk', 'ElmarBillen', 'VWGroup', 'SiebterMonat', 'MickyRust', 'planwerk', 'ElmarBillen', 'GernotDreher', 'GeorgKonjovic', 'hamburg_de', 'anjes_tjarks', 'ElmarBillen', 'electrodocs', 'Michael_Kunz', 'RaGl', 'Helion_ch', 'MINI', 'renatomitra', 'Helion_ch', 'MINI', 'EnBW', 'RegierungBW', '_Brathering_', 'doktordab', 'TerliWetter', 'SilvaAtTwitta', 'NerlichMichael', 'Taifun987', 'JanBarkmann', 'DerHutte', 'EichstadtTilman', 'jansen_hh', 'mene_stfr', 'MisterAltair', 'MisterB02143851', '7ieben_', 'NsSchussler', 'matalxis', 'tacito_el', 'NoFixedAdobe', 'SchwopeWilli', 'UniLuebeck', 'PsyMarkus', 'Dekarldent', 'Arnold_Beckenba', 'extra3', 'mastafotygo', 'kkklawitter', '_HerrMueller', 'hamburg_de,', 'StromnetzHH', 'Localiser_RLI', 'Klehmann79', 'netzgoetter', 'Tesla', 'MarieDMeier', 'maxbello1000', 'TeslaSchweiz', 'PolizeiHamburg', 'HamburgEnergie', 'PolizeiHamburg', 'PolizeiHamburg', 'extra3', 'Elektro_Robin', 'eibich', 'elektromob_nrw', 'AndiScheuer', 'BMVI', 'MmlimbTom', 'Alice_Weidel', 'TilmanWinkler', 'nextmove_de', 'Tesla', 'ThomasGrafe4', 'kaufland', 'tagesschau', 'MarlonGollnisch', 'M_Hundhausen', 'Inge19672', 'pacman_111', 'mastafotygo', 'volkswagen', 'SZ', 'Honda', 'Elektro_Robin', 'cedview123', 'sternde', 'cfrey1977', 'Elektro_Robin', 'realMasamune', 'frankfeil', 'BMWi_Bund', 'igorpianist', 'Wende2021', 'OlafWedekind', 'BILD', 'RealDonDenito', 'GernotDreher', 'elonmusk', 'thestanceman1', 'Sebasti34996356', 'NicoPliquett', 'Gilly,', 'EUkoznik', 'DasOragle', '_Cap_22', 'Municus', '15Fdisty', 'heuteshow', '_Cap_22', '_FriedrichMerz', 'T0xicHead', 'Baloo24', 'googlenews', 'Baloo24', 'T0xicHead', 'googlenews', 'ShareNow_global', 'StromnetzHH', 'KroegerOve', 'T0xicHead', 'googlenews', 'frankfeil', 'CoalDead', 'janusPrime', 'CSU', 'stang2k', 'frankfeil', 'EnBW', 'LudegoEV', 'frankfeil', 'Asolution89', 'felixba', 'Christine4911', 'speis_oo', 'wienerlinien', 'GillyBerlin', 'frankaskaralius', 'Gert_Woellmann', 'welt', 'schoenhaesslich', 'SWM_Muenchen', 'M_Hundhausen', 'SylK1966', 'Naturschuetzen', 'SiggiSGE', 'aptera_motors', 'M_Hundhausen', 'SylK1966', 'Naturschuetzen', 'SiggiSGE', 'aptera_motors', 'de_rt_com', 'Ingrid_Remmers', 'Linksfraktion', 'kuhn_reinhard', 'heiseautos', 'heiseonline', 'felixba', 'GuntherSchnabl', 'r____jan', 'AbdulChaim', 'heuteshow', 'Sedios1', 'LyniiXCoD', 'heuteshow', 'TilmanWinkler', 'smukster', 'MarkusHoeher', 'Oliver_Krischer', 'AndiScheuer', 'OlafKortluke', 'klotzbrocken', 'holimuk', 'OlafScholz', 'HansAlbers15', 'Werktaetiger_', 'JurgenPresser', 'AndiScheuer', 'p_manske', 'jcfrick', 'golem', 'welt', 'DerNicoA', 'AtariFrosch', 'ADAC', 'bdew_ev', 'tagesschau', 'tagesschau', 'tagesschau', 'grammerstorff', 'AndiScheuer', 'nuernberg_de', 'erlangen_de', 'Plugsurfing', 'waze', 'TG_translations', 'landei677', 'Hagen', 'OlafScholz', 'fragger911', 'Stefan_Hajek', 'UweSchneidewind', 'cem_oezdemir', 'Die_Gruenen', 'DG2RON', 'DOeliger', 'Stefan_Hajek', 'ergroovt', 'BR24', 'PeterB170460', 'Energyboy_72', 'SimeonPreuss', 'frank_ldk', 'MoormannRainer', '___n2k1', 'fwieschollek', 'NoahRettberg', 'RainerReelfs', 'Rainer_Klute', 'polis2_0', 'transimagine', 'jaquearnoux', 'VeroWendland', 'KarlHeinzHasliP', 'aloa5', 'Hitch_48', 'Oldperl', 'sequundi', 'socmed_fh', 'traegtmaske', 'sixtus', 'DieHumanisten', 's04paps', 'HShumanist', 'rbbabendschau', 'zet_ato', '_Cap_22', 'MarcSchrewe', 'ATrumpfheller', 'VQuaschning', '1S3GR1M', 'Bauer_Bernd59', 'fractality', 'axelwagnernet', 'Hotblack42', 'kkklawitter', 'AndiScheuer', 'wolpertinger42', 'GeorgKonjovic', 'timohetzel', 'Matze0767', 'Tine_Popine', 'FrauKatinka', 'LutziLinda', 'Tine_Popine', 'Hornbach_tweets', 'EnBW', 'WPSchill', 'Stefan_Hajek', 'Elektro_Robin', 'BAFA_Bund', 'spdbt', 'StephanSRT', 'twittlik', 'schlingel', 'macsnider', 'stang2k', 'schlingel', 'thestanceman1', 'Elektro_Robin', 'EON_de', 'EON_Presse', 'ABB_EVCharging', 'Fastned', 'thestanceman1', 'Elektro_Robin', 'EON_de,', 'EON_Presse', 'BruckschSamuel', 'stang2k', 'EON_de,', 'AllegoCharging)', 'EnBW,', 'Fastned).', 'Stefan_Hajek', 'nextmove_de', 'Hagen', 'keineantwort', 'MercedesBenz_DE', 'GNUmatic', 'StefanHeimlich', 'UniFAU', 'erlangen_de', 'nextmove_de', 'pebelsberger', 'lukas_hammer', 'LeibetsederMar1', 'AlWacker', 'lukas_hammer', 'LeibetsederMar1', 'AlWacker', 'fkf_bs', 'dm4lx', 'Tevsa', 'LenzGrimmer', 'RuisingerR', 'p_humm', 'p_humm', 'kkklawitter', 'IngmarStadelman', 'ARDde', 'beyond_ideology', 'JTHADEUSZ', '_Cap_22', 'janusPrime', 'Aureliius', 'willsnone', 'Naturschuetzen', 'Stvedie', 'VQuaschning', 'Mingiam10', 'kkklawitter', 'Hamburg397', 'FrauBruellen', 'SonOfData', 'sternde', 'KatiPierson', 'volkswagen', 'GNUmatic', 'mastafotygo', 'nextmove_de', 'AllegoCharging', 'SetfloR', 'RailyRick', 'RegSprecher', 'innogy_emob', 'KfW.', '_Cap_22', 'HansTheGerman', 'dubisthallede', 'YouTube', 'woksoll', 'mariosorg', 'walli5', 'rasenspiesser', 'cem_oezdemir', 'PaulWag75465328', 'DominicBarden', 'florianaigner', 'in4matikerCH', 'Energie360AG', 'swisscharge_ch', 'Energie360AG.', 'Energie360AG,', 'swisscharge_ch', 'schmaudenbach', 'GMRaidl', 'LandRover', 'herr_elljott', 'MarioSchmidtDD', 'kkklawitter', 'tastenzeux', 'n8zug', 'bikemaikinfo', 'ChristophBeisl1', 'RippelMarkus', 'FreyrSiegfried', 'IiiMahony', 'FelixFane', 'Alice_Weidel', 'IiiMahony', 'ChristofStelma1', 'FelixFane', 'Alice_Weidel', 'ChristofStelma1', 'IiiMahony', 'FelixFane', 'Alice_Weidel', 'Ogerlord1', 'Die_Insider', 'marco_knubel', 'SystemChange_', 'LenzGrimmer', 'PolizeiHamburg', 'BesserBonn', 'vzbv', 'JoernDoering', 'Umwelthilfe', 'LenzGrimmer', 'KfW', 'OpelDE', 'ziromr', 'vbs_ddps:', 'swisstopo:', 'BFEenergeia', 'philippvetter', 'welt', 'tweetbarth', 'nextmove_de', 'JoernDoering', 'BFEenergeia', 'UniHohenheim', 'nikitheblogger', 'Balelt41', 'IngmarStadelman', 'felixba', 'FelixKruemel', 'Unterfahrer', 'volkswagen', 'YouTube', 'DL4GO', 'Umwelthilfe', 'MrXlix', 'SZ', 'dvg', 'chorherr', 'EAutoOWL', 'wirtzfeld', 'nextmove_de', 'GerdKebschull', 'planwerk', 'UweSchneidewind', 'DerGrosseNagus', 'Markus_Krall', 'WAZ_Redaktion', 'HaraldLinden', 'EnBW', 'apmweber', 'SaschaLaubinger', 'SteffenHentrich', 'SilvaAtTwitta', 'beyond_ideology', 'TomC25', 'visevic', 'netzpolitik', 'JTHADEUSZ', 'drzberlin', 'DudenhofferAUTO', 'germanenginee10', 'faznet', 'HaselbachM', 'socltime', 'HaselbachM', 'GorillaaffeKarl', 'zeitonline', 'egghat', 'HeikoEpperlein', 'Naturschuetzen', 'Clutter_Monster', 'kn_online', 'DudenhofferAUTO', 'Tesla', 'elonmusk', 'quazanga', 'ITSHamburg2021', 'GillyBerlin', 'TouchBenny', 'ergroovt', 't3n', 'micha06de...\"', 'TimyTomyX', 'tobsn1995', 'smartmax900', 'Joerg_Meuthen', 'tobsn1995', 'smartmax900', 'Joerg_Meuthen', 'TouchBenny', 'TouchBenny', 'MatthiasKreiden', 'nextmove_de', 'rosenbaumg0', 'Zel_Le', 'volkswagen', 'Joerg_Meuthen', 'smartmax900', 'Joerg_Meuthen', 'JUWEBnet', 'BMW', 'EnBW', 'Stadt_OF', 'Vattenfall_De-Ladesäule', 'MesseBerlin', 'volkswagen', 'AaronCross2010', 'nasanasal', 'AgressiveGhoul', 'BMW', 'verkehrswendeb2', 'EmPi75', 'Franke_FDP', 'florianaigner', 'florianaigner', 'bicipues', 'BMVI', 'AndiScheuer', 'derrealist9', 'Evohcadoh', 'Roland_84_E', 'florianmaringer', 'SturmLLiouville', 'chri_gru', 'niesnerkg', 'Wetterwax', 'DOeliger', 'maischberger', 'MEArbeitgeber', 'DasErste', 'peteraltmaier', 'maischberger', 'MEArbeitgeber', 'DasErste', 'barigorokarl', 'maischberger', 'DasErste', 'peteraltmaier', 'volkswagen', 'Stefan_LG', 'RobertBoni6', 'trudebiker', 'tagesschau', 'retolipp', 'AndiScheuer', 'BMVI', 'EcoCarer1', 'volkswagen', 'WeShare_DE', 'stang2k', 'omfritz', 'florianaigner', 'ChargePointnet', 'DirkIngoSchmidt', 'planwerk', 'Naturschuetzen', 'AlleAktien', 'miteinemf', 'dbkoeln', 'WDRaktuell', 'StadtLeipzig', 'EnBW', 'ADAC', 'tagesschau', 'frankfeil', 'DanielaKluckert', 'welt', 'florianmaringer', 'tobiashans', 'SVOLT_Europe', 'niesnerkg', 'teslachaot', 'niesnerkg', 'schlingel', 'lukas2148', 'Roland_84_E', 'woemi', 'tobrieder', 'MichaelCerveny', 'gruenesilvia', 'MDRAktuell', 'planwerk', 'allpolig', 'DerWirkungsgrad', 'Markus_Soeder', 'Wahni1', 'KEERL_IT', 'Harry_Rakete', 'DLF', 'cem_oezdemir', 'AndiScheuer', '_Cap_22', 'Naturschuetzen', 'e_vdriver', '_Cap_22', 'Naturschuetzen', 'e_vdriver', 'siggib4', 'null_neun_elf', 'GernotDreher', 'Fastned', 'kkklawitter', 'Storch_i', 'cem_oezdemir', 'spdbt', 'GrueneFraktionB', 'kkklawitter', 'cem_oezdemir', 'spdbt', 'GrueneFraktionB', 'TilmanWinkler', 'niesnerkg', 'Onkel_Jo', 'cheechyba', 'welt', 'GeblitztDe', 'DudenhofferAUTO', 'peteraltmaier', 'niesnerkg', 'niesnerkg', 'OlliLuksic', 'welt', 'weserkurier', 'carla_reemtsma', 'IONITY_EU?', 'Tesla-Kunde', 'ChrisEpunkt', 'felixba', 'seneamadou07', 'wdwarncke,', 'Tobias_Schulze', 'OlafWedekind', 'BorisPetschulat', 'larszimmerm', 'realAlexBlank', 'thestanceman1', '_holger', 'tknuewer', 'felixba', 'AzulReal_HH', 'Franke_FDP', 'OBundWIE', 'DerNicoA', 'nextmove_de', 'BILD', 'peteraltmaier', 'AndiScheuer', 'carstenhag', 'Klimmsen', 'DerMittelstand1', 'volkswagen', 'GeorgKonjovic', 'parents4future', 'sinalk97', 'nextmove_de', 'stekkerauto', 'HMGnewsroom', 'BekkenkMarkus', 'nextmove_de', 'Shell_Germany', 'CleanElectrCast', 'duisburg_de', 'nextmove_de', 'nextmove_de', 'StadtLingen', 'araldeutschland', 'politicalBeau', 'Alois_Scheissle', 'volkswagen', 'DrGrandMal', 'spdbawue', 'OlafScholz', 'spdde', 'IKEA_Presse', 'twittarisse', 'ACEA_eu:', 'empire_electric', 'e_Mobilitaet', 'MeinElektroauto', 'cbruegg', 'davepermen', 'Stefan_Hajek', 'LenzGrimmer', 'Hamburg397', 'AgileEnthusiast', 'FrankMankel', 'heiseautos', 'heiseonline', 'VWGroup', 'handelsblatt', 'nextmove_de', 'GernotDreher', 'e_mobility', 'heiseonline', 'FischwaffeI', 'Macintosh1968', 'DerCasus', 'cem_oezdemir', 'CSU', 'MFabricius', 'id3marathon', 'BananaInstitute', 'ergroovt', 'DennisKBerlin', 'kkklawitter', 'JoergFau', 'FischwaffeI', 'DerCasus', 'cem_oezdemir', 'CSU', 'groovybeatz1', 'ergroovt', 'verkehrswendeb2', 'Crosis19871987', 'solarpapst', 'DoemenR', 'bmu', 'peteraltmaier', 'EEnergiewende', 'innogy_emob', 'eMObilityBerlin', 'eMobilitaet_BEM', 'SonoMotors', 'e_mobility', 'EMobilitaetReg', 'bEEmerkenswert', 'BMWi_Bund', 'kkklawitter', 'volkswagen', 'helsoeste', 'atklauner', 'TomFragt', 'VDA_online', 'atklauner', 'VDA_online', 'peter_simone', 'emobicon', 'VDA_online', 'Gert_Woellmann', 'EichholtzAlex', 'Bellerophon1988', 'f_schmidt_BB', 'dielinkeberlin', 'kkklawitter', '3811015', 'MaxWiesmueller', 'EnBW', 'EnBW,', 'Tagesspiegel', 'haukeschrieber', 'Elektro_Robin', 'ElectriveNet', 'oreissig', 'egghat', 'twittlik', 'twittlik', '_kescherbande', 'nordmann_nrw', 'cooliopenguin', 'GillyBerlin', 'MercedesBenz_DE', 'GillyBerlin', 'FabioLeone94', 'MercedesBenz_DE', 'Elektro_Robin', 'WSWWuppertal', 'Elektro_Robin', 'kramkr', 'obkurz', 'mannheim_de', 'PhilTheVillager', 'y_a_s_mine', 'DocDblU', 'agentsinaction', 'KampLkamp', 'ChristophBeisl1', 'solarpapst', 'dneuerer', 'handelsblatt', 'iaostuttgart!', 'sbamueller', 'lukasmoerchen', 'Oliver_Krischer', 'micha_bloss', 'Tesla_DE', 'VDA_online', 'ennolenze', 'cooliopenguin', 'janusPrime', 'KrusekopfD', 'kkklawitter', 'Stvedie', 'RealDonDenito', 'Manjol', 'araldeutschland', 'PitPoint_DE', 'DVGW', 'Mozgovoy_Energy', 'umrath', 'Moin_EWE', 'IONITY_EU', 'Oliver_Krischer', 'Tesla_DE', 'VDA_online', 'Oliver_Krischer', 'S4F_Leipzig', 'Tesla_DE', 'VDA_online', 'amz_kfz', 'faznet', 'leon_nitsch', 'araldeutschland', 'NATURSTROM_AG!', 'kaufland:', 'Moin_EWE', 'NewMotion', 'rsusr003', '_holger', 'sixtus', 'schaarsen', 'LandRover', 'Elektro_Robin', 'elemob_de', 'ProVermieter', 'ffriendbln', 'thesuingone', 'joanadiskurs', 'ProVermieter', 'thesuingone', 'SacStahl', 'campaigning', 'presseportal_ch', 'UdoSiev', 'vznrw_energie', 'Elektro_Robin', 'HerrmannPierre', 'vznrw_energie', 'Elektro_Robin', 'Elektro_Robin', 'Industry_live', 'handelsblatt', 'eGO_Mobile_SE', 'rponline', 'twittlik', 'ReichertCarsten', 'HayabusaRiesen', '1S3GR1M', 'GefrKamnitzer', 'volkswagen', 's_laoutoumai', 'peterhense', 'CleanElectrCast', 'P_Baumfalk', 'SacStahl', 'MaxFichtner', 'DomTHell', 'AdrianDiederich', 'technikblog_ch', 'Blickch', 'gofast_swiss', 'DerNicoA', 'technikblog_ch', 'Blickch', 'gofast_swiss', 'StefanHeimlich', 'YouTube', 'StefanHolz75', 'N_Heisterhagen', 'igembb', 'schlingel', 'Der_Gali', 'bitsundso', 'EON_de', 'MaxFichtner', 'DomTHell', 'kaufland', 'Stadt_WF', 'Stvedie', 'Olli08641776', 'joe_leads', 'DomTHell', 'gruenkohlmann', 'volkswagen', 'PPMMal', 'volkswagen', 'Stvedie', 'Olli08641776', 'joe_leads', 'DomTHell', 'Markus_Emmert', 'Markus_Emmert', 'eMobilitaet_BEM', 'mairpeda', 'Elektro_Robin', 'news_nowgmbh', 'mesirii', 'teilAuto', 'kkklawitter', 'masta_de', 'StephanParlow', 'JostAusSoest', 'VQuaschning', 'mschlenker', 'TspBackgroundMT', 'bayl', 'Stefan_Hajek', 'Elektro_Robin', 'DonDahlmann', '', 'Kiki1Bail', 'FischwaffeI', 'SkywalkerLegoli', 'kliehm', 'MainovaAG', 'Stadt_FFM', 'Polizei_LG', 'nessi6688', 'CedricNoel8', 'kkklawitter', 'niesnerkg', 'Roland_84_E', 'electrodocs', 'EnBW', 'd_szanko', 'seige1967', 'MercedesBenz_AT', 'AbHotten', 'Mrivan4you', 'evilestmav', '_gottlob_', 'Fahrradhauptst1', 'RegineGuenther', 'stang2k', 'e4Motion', 'fynnmo1', 'teslamag', 'NIOGlobal', 'N_Heisterhagen', 'cicero_online', 'BastianBrauns', 'kaufland', 'kkklawitter', 'Stefan_Hajek', 'jurins_blog', 'Nlume1', 'WeShare_DE', 'speis_oo', 'HausmannReport', 'GernotDreher', 'asknbid', 'TilmanWinkler', 'TilmanWinkler', 'RealDonDenito', 'RailyRick', 'realWoodapple', 'AndreasS2904', 'Bettina_Jarasch', 'gruene_berlin', 'SenUVKBerlin', 'RegineGuenther', 'N_Heisterhagen', 'AJK_Kuhlmann', 'GrimmVeronika', 'schnellenbachj', 'Elektro_Robin', 'Edison_Media', 'DennisKopljar', 'froileinmueller', 'VWGroup', 'BoschPresse', 'NatalieAmiri', 'DudenhofferAUTO', 'StefanBratzel', 'pkrohn1', 'BrigitteKnopf', 'pjakobs', 'enbw', 'Stefan_Hajek', 'N_Heisterhagen', 'Titanium70RD', 'senec_gmbh', 'EnBW', 'AllegoCharging', 'nextmove_de', 'N_Heisterhagen', 'AJK_Kuhlmann', 'GrimmVeronika', 'schnellenbachj', 'Elektro_Robin', 'Edison_Media', 'DennisKopljar', 'froileinmueller', 'VWGroup', 'BoschPresse', 'NatalieAmiri', 'DudenhofferAUTO', 'StefanBratzel', 'pkrohn1', 'BrigitteKnopf', 'ntvde', 'thestanceman1', 'e4Motion', 'UFrer', 'FlixiFix49', 'TobiasDirking', 'Chrischael', 'ladefuchs', 'DerWirkungsgrad', 'DualFluid', 'SchwarzerKorsar', 'stang2k', 'michaelmosch3', 'stang2k', 'AndreasMemmer', 'ubitricity', 'BerndBandekow', 'WeShare_DE', 'WeShare_DE', 'VISIONmobility1', 'EON_de', 'EON_de', 'EnBW', 'kkklawitter', 'DanielHeithorn', 'TorstenHerres', '1967Gorzata', 'aguleB', 'SenUVKBerlin?', 'enviaM,', 'YtaksWorld', 'Elektro_Robin', 'MockPeter', 'TheICCT', 'zagy', 'gutjahr', 'AmazonNewsEU', 'stadt_kiel', 'MrApe_', 'prof_sterner', 'MercedesBenz', 'VW', 'Tesla', 'GrueneBundestag,', 'wf00757575', 'vwschweiz', 'MarcATrauffer', 'systemstig', 'Stadtwerke_NE', 'BurkhardStork', 'SWUStadtwerke', 'ulm_donau', 'CleanElectrCast', 'Tesla,', 'Fastned', 'EcoCarer1', 'ooswald', 'DetailVideo', 'golem', 'juergengunz', 'WienEnergie', 'Dianaownz100', 'olipiep', 'SvenjaSchulze68', 'NeuAnspach', 'NeuAnspach', 'welt', 'IchobanSlidid', 'mit_mitte', 'mauerklein', 'Klimaliste', 'reuther_bernd', 'OlliLuksic', 'fdp', 'electrodocs', 'Sedios1', 'Schwunkvoll', 'ndr', 'Iceskiff_Limeoh', 'mastafotygo', 'Sedios1', 'Schwunkvoll', 'ndr', 'Iceskiff_Limeoh', 'Sedios1', 'Schwunkvoll', 'ndr', 'wolpertinger42', 'MineCooky', 'r3vilo153', 'IchobanSlidid', 'd4_fishman', 'mauerklein', 'Klimaliste', 'reuther_bernd', 'OlliLuksic', 'fdp', 'volkswagen', 'cem_oezdemir', 'Schwunkvoll', 'ndr', '8eau', 'gwendolan1', 'holimuk', 'Mingiam10', 'jeanvansta', 'MMausch', 'cem_oezdemir', 'matrix_berlin', 'WeShare_DE', 'VWGroup', 'ascherbaum', 'eascherbaum', 'OSevangelist', 'eascherbaum', 'ascherbaum', 'ElectriveNet', 'stang2k', 'EnBW', 'realdirkdickler', 'sduwe', 'RegierungBW!', 'janejane24', 'RobertB_Fishman', 'Balelt41', 'stang2k', 'EnBW', 'nextmove_de', 'EnBW,', 'e_poche', 'RheinEnergie', 'jaeger1972', 'GiverSteve', 'Naturschuetzen', 'Mingiam10', 'kkklawitter', 'DudenhofferAUTO', 'lidl', 'illwerkevkw', 'WienEnergie', 'holderdiepolder', 'verkehrswendeb2', 'ElectriveNet', 'DanielB84206582', 'eam_magazin', 'GroupeRenaultEV', 'Tesla', 'VWGroup', 'rosenbaumg0', 'nextmove_de', 'vzbv', 'Mingiam10', 'torstenherbst', 'technikblog_ch', 'nextmove_de', 'vwschweiz', 'AMAG_Media', 'Id3Fan', 'handelsblatt', 'c_schwarzer', 'PlahrAl', 'VWGroup', 'EnBW', 'Latexfreund', 'araldeutschland', 'BVG_Ubahn', 'swobbee', 'Elfenbeauftrag1', 'HeikoEpperlein', 'SBMoon15', 'riftgood', 'Elfenbeauftrag1', 'AllegoCharging', 'torstenherbst', 'kkklawitter', 'SBMoon15', 'riftgood', 'Elfenbeauftrag1', 'Tino_Chrupalla', 'landei677', 'Hagen', 'torstenherbst', 'Elfenbeauftrag1', 'riftgood', 'Elfenbeauftrag1', 'Elfenbeauftrag1', 'Isegrimm_666', 'Elfenbeauftrag1', 'EnBW', 'Elfenbeauftrag1', 'thostegaboys', 'berndulrich', 'torstenherbst', 'dansiela_b', 'Elektro_Robin', 'nextstepmobil', '_MaxDev_', 'stadtmobil', 'smight_city', '_MaxDev_', 'stadtmobil', 'smight_city', 'michaeljanich', 'nextmove_de', 'dansiela_b', 'SixtDE', 'hello_alicecool', 'Stefan_Hajek', 'chris_pyak', 'SimonTo140810', 'fiolenana', 'RuisingerR', 'wdwarncke', 'GernotDreher', 'chris_pyak', 'RuisingerR', 'wdwarncke', 'GernotDreher', 'chris_pyak', 'chris_pyak', 'Alexand23573402', 'Borchi28051', 'CKemfert', 'PBUKeinUltranet', '_FriedrichMerz', 'wiwo', 'FfE_Muenchen', 'Stefan_Hajek', 'Borchi28051', 'CKemfert', 'PBUKeinUltranet', '_FriedrichMerz', 'wiwo', 'WuChenFu3', 'AbHotten', 'andreas_esch', 'franzalt', 'Balelt41', 'DocHappy2', 'AbHotten', 'andreb555', 'XSchwester', 'id3marathon', 'Manuels26652430', 'alextv', '_FriedrichMerz', 'StZ_NEWS', 'jago_cartoon', 'DJanecek', 'handelsblatt', 'WeShare_DE,', 'lidl?', 'sbamueller', 'EV_Stevee', 'ssstonie', 'DerGraslutscher', 'azechbauer', 'GNUmatic', 'Glasmerleperle', 'reinaldkirchner', 'Titanium70RD', 'AbHotten', 'Latenightblock', 'AbHotten', 'andreb555', 'XSchwester', 'matthiaswalti', 'retolipp', 'lidl', 'EnBW', '_mtiemann', 'N_Heisterhagen', 'saschchan', 'Jxn_offiziell', 'Indieroy2000', 'CptKrustenkaese', 'bsterix', 'RubenKelevra', 'CptKrustenkaese', 'bsterix', 'HerrRain', 'HShumanist', 'tuedelkopp', 'klages_uwe', 'MoormannRainer', 'VeroWendland', 'dpomondi', 'CoalDead', 'DerClue', 'Gazelight', 'PatrickKausW', 'OliverHaas19', '___n2k1', '0Thessa', 'BjrnPeters3', 's04paps', 'Arishna12', 'fwieschollek', 'HinterfragendeR', 'HerrmannPierre', 'Preso32', 'RuisingerR', 'RainerReelfs', 'trebronbo', 'CKernkraft', 'tachy_', 'kindofmagic4u', 'mvgerhardt', 'pjanik_otm', 'FeynmansMethod', 'bob1711293044', 'rossreiter', 'hannovergenuss', 'antoinebrisbard', 'SimeonPreuss', 'dmncbrl', 'janusPrime', 'HJFell', 'PunkInTheGym', 'energy_charts', 'SebastianWetz', 'JoacimKreutzer', 'Rainer_Klute', 'EricDanielski', 'ChristianOnRE', 'LuizAlbrecht1', 'SciFFHannover', 'Franz_Metzger1', 'HajoDekhuijzen', 'Estesz', 'FridayForFuture', 'opansxyz', 'wdwarncke', 'GernotDreher', 'cooliopenguin', 'HoSe21244', 'Gazelight', 'janusPrime', 'djbeetee', 'DerClue', '_Cap_22', 'MarieDMeier', 'Hagen', 'MarkusHoeher', 'araldeutschland', 'Glasmerleperle', 'EskenSaskia', 'TobiSchlegl', 'gutjahr', 'DonDahlmann', 'DerGraslutscher', 'ewolff', 'WienEnergie', 'Stadt_Wien', 'florianklenk', 'gruenewien', 'NeosWien', 'ElectriveNet', 'IKEA_Presse', 'Hertz', 'SWM_Magdeburg', 'tomueko', 'ZoePionierin', 'NGC_Ollie', 'ZoePionierin', 'SWUStadtwerke', 'id3marathon', 'Drehmoment_dk', 'zeitonline.', 'olovelo1', 'AgileEnthusiast', 'GernotDreher', 'dklaes_astro', 'Stefan_Hajek', 'thestanceman1', 'alpe1949', 'Stefan_Hajek', 'dklaes_astro', 'Stefan_Hajek', 'thestanceman1', 'alpe1949', 'Stefan_Hajek', 'SacStahl', 'DudenhofferAUTO', '_FriedrichMerz', 'Plugsurfing', 'IONITY_EU', 'StadtLeipzig', 'smoking_hobbit', 'tomueko', 'EAutoPionier', 'Chris_Electric', 'ZoePionierin', 'smoking_hobbit', 'tomueko', 'EAutoPionier', 'Chris_Electric', 'ZoePionierin', 'frankfeil', 'rene_bam_', 'BOfH_Dj4n90', 'ZoePionierin', 'araldeutschland', 'BVG_Ubahn', 'swobbee', 'RuisingerR', 'Hagen', 'IONITY_EU', 'danielmack', '0x3A26C7', 'alextv', 'nextmove_de', 'electricfelix', 'kkklawitter', 'VBruttel', 'designwerkgroup', 'Umwelthilfe', 'sascha_m_k', 'Umwelthilfe', 'PaulZiemiak', 'ABaerbock', 'ArchismanPal3', 'GretaThunberg', 'fridays_india', 'greenpeace_de', 'ClimateCrisis', '4climatejustice', 'FFF_Bangladesh', 'fff_europe', 'climatechange', 'fightingforgat', 'volkswagen', 'droehni', 'Jane_Banane__', 'Die_Gruenen', 'dieLinke', 'eautonews', 'KlausMalzbier', 'alextv', 'WienEnergie', 'WienEnergie', 'abgehxben', 'alextv', 'abgehxben', 'alextv', 'MichiSchulz89', 'speis_oo', 'DerNicoA', 'thestanceman1', 'janusPrime', 'RTLde', '1vomo', 'bitboy0', 'RealDonDenito', 'Thomas_Bareiss', 'peteraltmaier', 'kaufland', 'alextv', 'DWexxler', 'janusPrime', 'Fischwaffel_', '_FriedrichMerz', 'Elektro_Robin', 'welt', 'Azetbur', 'welt', '7VAMPIR', 'EnBW', 'MaingauEnergie', '_draken18', 'philippvetter', 'welt', 'N_Heisterhagen', 'N_Heisterhagen', '_FriedrichMerz', 'marcundm', 'morgenbart', 'MarBel78', 'yannis_ki', 'emobicon', 'opdi_tex_GmbH', 'KonseqLiberal', 'U_K_Chris', 'didixxx13', 'EnBW', 'janusPrime', 'kaufland', 'EnBW', 'igembb', 'nextmove_de', 'a_braxes', 'Elektro_Robin', 'GerdKebschull', 'robintvblau', 'eautonews', 'nextmove_de', 'AndiScheuer', 'Elektro_Robin', 'cfrey1977', 'id3marathon', 'sky_11_07', 'XxAgentChrisxX', 'usbscsi', 'volkswagen', 'GraceRanee', '19Otto57', 'berlindirekt', 'landsalat', 'lidl', 'Joerg_Nobis_AfD', 'lidl,', 'MarcVolquardsen', 'kkklawitter', 'DIEZEIT', 'Vaiper', 'Joerg_Nobis_AfD', 'sofa_review', 'usbscsi', 'volkswagen', 'IONITY_EU', 'EnBW', 'MaingauEnergie', 'MatzholdMarkus', 'MaxFichtner', 'helsoeste', 'batteryday2020', 'Tesla', 'volkswagen', 'BMW', 'Daimler', 'Audi', 'OpelDE', 'Stefan_Hajek', 'automotorsport', 'northvolt', 'ClusterPolis', 'zeitonline', 'Hamburg397', 'stang2k', 'kkklawitter', 'DIEZEIT', 'FrankyCONNOR', 'Hagen', 'kkklawitter', 'DIEZEIT', 'DOeliger', 'AhojAhoy', 'AukeHoekstra', 'airjibeer', 'rokke09', 'zeitonline', 'kkklawitter', 'DIEZEIT', 'zeitonline', 'TheSeer77', 'KfW', 'KfW_Research', 'KowalskiFlausn', 'faznet', 'blauerKlaus112', 'schmidt_chen', 'MineCooky', 'EnBW', 'NetzeBW', 'DerNicoA', 'PrasslSebastian', 'Dreilaender', 'tom_janas', 'amsDralle', 'amsonline', 'JensDennhardt', 'janboehm', 'trancecorediert', 'ElektrischST', 'NThreepwood', 'JoeSchi1', 'SterzMD', 'docsnyder99', '1Musi1', 'Rob_Laz', 'FlorianDoellner', 'beibootpetri03', '_donalphonso', 'Landurologe', 'AgileEnthusiast', 'jochenknecht', 'faznet', 'amsonline', 'ADAC', 'gephiltert', 'Lucas_S442', 'juliusmagapfel', 'Lucas_S442', 'juliusmagapfel', 'SWLeipzig', 'thestanceman1', 'Elektro_Robin', 'Liberalalala', 'Lucas_S442', 'gephiltert', 'boringcompany', 'wdwarncke', 'Schaklina', 'VBruttel', 'visionofsound', 'zeitonline', 'Haertcore', 'visionofsound', 'zeitonline', 'pdfkungfoo', 'Hagen', 'thestanceman1', 'Schwunkvoll', 'OldTomBom', 'Jumpsteady', 'mpalkowitsch', 'ArminStecher', '_HelloPunk', 'nextmove_de', 'noplace4sane', 'Friday4Hubraum', 'BeefPatty17', 'agentsinaction', 'KlausBurkart', 'thestanceman1', '_HelloPunk', 'wokeup777', 'welt', 'RobinKoenig01', 'peter_simone', 'fridaysvib', 'peter_simone', 'peter_simone', 'volkswagen', 'ArnoldSchiller', 'TheBug0815', '_HelloPunk', 'EnBW', 'welt', 'CptKrustenkaese', 'nextmove_de', 'Ford_de', 'nextmove_de', 'Geekfried', 'Duricell2013', 'Duricell2013', '_Bluumi_', 'DerBerg5', 'BelitOnay', 'DerBerg5', 'BelitOnay', 'DudenhofferAUTO', 'depontemuller', 'nextmove_de', 'MelaniePeschel', 'handelsblatt', 'ThomaKreuz', 'RolandTichy', 'agentsinaction', 'MaingauEnergie', 'EnBW', 'ANNICI1', 'elektromob_nrw', 'nextmove_de', 'frankfeil', 'grumpyplauze', 'danilkazzz', 'electrodocs', 'germanenginee10', 'a_braxes', 'eitleon', 'bayl', 'handelsblatt', 'germanenginee10', 'eitleon', 'MarkusHoeher', 'bayl', 'handelsblatt', 'LucianoCali_2', 'MatthiasGastel', 'BelitOnay', 'id3marathon', 'volkswagen', 'morellwest', 'germanenginee10', 'wjpOSH', 'bayl', 'Stoewhase', 'lelei', 'sbrinkmann', 'egghat', 'germanenginee10', 'wjpOSH', 'bayl', 'Regendelfin', 'VQuaschning', 'Touni', 'rhubschmid', 'technikblog_ch', 'eautonews', 'Regendelfin', 'Regendelfin', 'MaingauEnergie', 'EnBW', 'cihansugur', 'Casilol', 'tagesschau', 'Christanco1', 'Fabian90891912', 'iLKrisko', 'tagesschau', 'volkswagen', 'MaddyQuerulator', 'Sventastic_78', 'Elektro_Robin', 'MieruchMario', 'tagesschau', 'TobiasBringmann', 'vzbv', 'Baloo24', 'RobertResch7', 'DetailVideo', 'GlobalistYT', 'KURIERat', 'HansWernerSinn', 'DetailVideo', 'Baloo24', 'GlobalistYT', 'RobertResch7', 'KURIERat', 'HansWernerSinn', 'Wellenleben', 'Leynad777', 'Franke_FDP', 'JayDo80121244', 'BSLMgtSupport', 'BlakesWort', 'derfuchsist', 'caliculaminus', 'mschoberth89', 'Markus_Soeder', 'BlakesWort', 'derfuchsist', 'caliculaminus', 'mschoberth89', 'Markus_Soeder', 'LutzBecker4', 'AfD_HD', 'BlakesWort', 'derfuchsist', 'caliculaminus', 'mschoberth89', 'Markus_Soeder', 'derfuchsist', 'caliculaminus', 'Asproeh', 'mschoberth89', 'Markus_Soeder', 'jardraj', 'AfD_HD', 'caliculaminus', 'derfuchsist', 'BlakesWort', 'mschoberth89', 'Markus_Soeder', 'volkswagen', 'volkswagen', 'ionity', 'Tesla', 'AluhutDank', 'lordknolldemort', 'kommentator', 'cem_oezdemir', 'Markus_Soeder', 'AndiScheuer', 'caliculaminus', 'derfuchsist', 'BlakesWort', 'mschoberth89', 'Markus_Soeder', 'Xus1Ba', 'twittarmani', 'florianaigner', 'rockybeethoven', 'Mingiam10', 'EnBW', 'Monnty2690', 'DickerCMCL', 'meanoctis', 'Cletus_Del_Roy', 'Mingiam10', 'EnBW', 'sauerkreatur', 'joenuc', 'AleHaeu', 'KoeppelRoger', 'UrsulaBrinkmann', 'GunterFehlinger', 'peteraltmaier', 'BMWi_Bund', 'FridayForFuture', 'GavinNewsom', 'ZDFinfo', 'Naturschuetzen', 'Die_Gruenen', 'nextmove_de', 'Hagen', 'WohlgensingerN', 'EnBW', 'Nilpferdlager', 'HaraldLinden', 'timohetzel', 'schlingel', '_Cap_22', 'wanderwitz', 'vwsachsen_de', 'tweet_alqamar', 'collinscholz1', 'volkswagen', 'TilmanWinkler', 'Sedios1', 'NotzelMichael', 'LosWochos', 'dklaes_astro', 'ADAC', 'dklaes_astro', 'Knippkopf', 'collinscholz1', 'volkswagen', 'KanoneCS', 'volkswagen', 'solarpapst', 'HenrietteReker', 'real_mos', 'TobiasEnder', 'finnik106', 'WasserIsSehrGut', 'tagesschau', 'HansLudwigWern5', 'Tagesspiegel', 'AndiScheuer', 'eautonews', 'solarpapst', 'Balelt41', 'JayDo80121244', 'fragger911', 'thestanceman1', '_Cap_22', 'GenerationStrom', 'EnBW', 'EnBW', 'LosWochos', 'LosWochos', 'LosWochos', 'junterweger', 'LosWochos', 'TobiasEnder', 'finnik106', 'WasserIsSehrGut', 'tagesschau', '', 'FranzPoe22', 'nextmove_de', 'LosWochos', 'nopsledge', 'Pauline22335', 'nextmove_de', 'stekkerauto', 'HerrmannPierre', 'joe_leads', 'Tesla', 'pastinho11', 'LosWochos', '_HelloPunk', 'LosWochos', 'TilmanWinkler', 'LosWochos', 'northkap', 'EnBW', 'maxccastelli', 'royandmorty', 'TagesschauVor20', 'TeslaNewsDE', 'HeinzeParsifal', 'LosWochos', 'HeinzeParsifal', 'LosWochos', 'EnBW', 'ennolenze', 'mgoetzke', 'ElmarBillen', 'electrodocs', 'speis_oo', 'biking1963', 'RenateKuenast', 'ichbinschoener', 'altmeier', 'goetzingert', 'EnBW', '_Cap_22', 'nextmove_de', 'SebastianPuett1', 'RolandTichy', 'emobly', 'EnBW', 'SiggiSGE', 'DerJoker17', 'Luisamneubauer', 'mopo', 'nextmove_de', 'bonnerconsult', 'HubertAiwanger', 'FREIEWAEHLER_BV', '_Cap_22', 'lebe_ohne_sorge', 'volkswagen', 'twittlik', 'EnBW', 'EnBW', 'Bartman68485744', 'RKemmeter', 'RDeptalla', 'EnBW', 'EAutoPionier', 'EnBW', 'Mingiam10', 'thestanceman1', 'noipser', 'EnBW', 'thestanceman1', 'EnBW', 'dklaes_astro', 'enbw.', 'thestanceman1', 'KathaSchulze', 'Lanyihunter1', 'StephanPiel', '_Brathering_', 'Mats82021380', 'ZDFheute', 'CaptainTesla3', 'sbamueller', 'ZDFheute', 'StephanPiel', '_Brathering_', 'StephanPiel', '_Brathering_', 'howie_mw', '_Brathering_', 'KathaSchulze', 'Mats82021380', 'ZDFheute', 'EnBW', '_Cap_22', 'NickS127', 'ZDFheute', 'TouchBenny', 'nookiezilla', 'Lanyihunter1', 'Schwulemiker', 'electrodocs', 'Lanyihunter1', 'ChangeGER', 'SanderK54317391', 'nextmove_de', 'MKBHD', 'Tesla', 'KathaSchulze', 'JayDo80121244', 'Bdenk6', 'Leynad777', 'Franke_FDP', 'KathaSchulze', 'hellud123', 'Cinco101', 'Wellenleben', 'Bdenk6', 'Leynad777', 'Franke_FDP', 'sinalk97', 'nextmove_de', 'Lanyihunter1', 'volkswagen', 'KathaSchulze', 'stinnux', 'stang2k', 'IKEA_Presse', 'HertzAngeboteDE', 'EnBW', 'Telekom_hilft', 'innogy_emob', 'muma00111', 'Joerg_Meuthen', 'EnBW', 'geierwalley', 'Mingiam10', 'Mingiam10', 'Lord_Lazarus', 'rnascaritas', 'nextmove_de', 'thestanceman1', '_Cap_22', 'Ich_von_hier', 'MPKretschmer', 'SachsenInBerlin', 'starkwatzinger', 'SZ', 'RailyRick', 'pjanik_otm', 'JJ_vonZ', 'KathaSchulze', 'CptKrustenkaese', 'HilliKnixibix', 'ChristofStelma1', 'tagesschau', 'Mingiam10', '_Cap_22', 'rlinhart', '_Cap_22', 'iwaradjetztda', 'McGeiz', 'IONITY_EU', '1000millimeter', 'CptKrustenkaese', 'ntvde', '1000millimeter', 'CptKrustenkaese', 'derHenKr', 'CptKrustenkaese', '1000millimeter', 'CptKrustenkaese', '1000millimeter', 'CptKrustenkaese', '_Cap_22', 'CptKrustenkaese', 'fridaysvib', 'Fischwaffel_', 'Naturschuetzen', 'IngoHeinscher', 'volkswagen', 'DowJoes', 'supinoki', 'Piotr88299498', 'volkswagen', '3811015', 'CptKrustenkaese', 'acv_de', 'PeugeotDE', 'KathaSchulze', '_Belze_', 'KathaSchulze', 'RobertBoni6', 'KathaSchulze', 'KathaSchulze', 'volkswagen', 'umrath', 'Alnatura', 'stadtregensburg', 'SatcadirAaron', 'AlineOzturk3', 'hannovergenuss', 'contra_hoch10', 'SatcadirAaron', 'AlineOzturk3', 'hannovergenuss', 'contra_hoch10', 'CptKrustenkaese', 'kkklawitter', 'bernd6366', 'KathaSchulze', 'DennisWerth_', 'AudiOfficial', 'KathaSchulze', 'RobertBoni6', 'KathaSchulze', 'oocx', 'it_erklaerbaer', 'KathaSchulze', 'KathaSchulze', 'klausF20', 'KathaSchulze', 'KathaSchulze', 'hbunjes', 'it_erklaerbaer', 'oocx', 'KathaSchulze', 'MietTesla', 'KathaSchulze', 'MMittermeier', 'KathaSchulze', 'KathaSchulze', 'Naturschuetzen', 'ElmarBillen', 'RouteBetter', 'RouteBetter', 'KathaSchulze', 'speis_oo', 'EAutoPionier', 'stekkerauto', 'thestanceman1', 'KathaSchulze', 'Die_Gruenen', 'KathaSchulze', 'KathaSchulze', 'Die_Gruenen', 'KathaSchulze', 'cooliopenguin', 'Elektro_Robin', 'KathaSchulze', 'EV_Stevee', 'pcwelt', 'realMaxBe', 'EnricoPomsel', 'KathaSchulze', 'it_erklaerbaer', 'oocx', 'happydeal', 'KathaSchulze', 'Rca_K', 'pcwelt', 'Rca_K', 'pcwelt', 'bahnONLINEch', 'KathaSchulze', 'volkswagen', 'volkswagen', 'KathaSchulze', 'KathaSchulze', 'robschuchmann', 'KathaSchulze', 'HHawkeye24', 'Siegfri81063908', 'KathaSchulze', 'HardyFuture', 'ceo_plus_ch', 'KathaSchulze', 'dregelies', 'stadt_kiel', 'BerndBurkert', 'StefGKarl', 'thestanceman1', 'RealDonDenito', 'f_stiebeling', 'nextmove_de', 'felixba', 'StefGKarl', 'thestanceman1', 'teilAuto', 'AvisDE', 'BudgetDE', 'twittlik,', 'Flowinho', 'ladefuchs:', 'Wired_Ed', 'Marius_Raabe', 'Joerg_Rehmann', 'thestanceman1', 'tschelle', 'OliverHaas19', 'hccd007', 'kindofmagic4u', 'HerrmannPierre', 'VeroWendland', 'MoormannRainer', 'mvgerhardt', 'HJFell', 'Preso32', 's04paps', 'SimeonPreuss', 'HShumanist', 'FeynmansMethod', '___n2k1', 'fwieschollek', 'PunkInTheGym', 'dpomondi', 'tachy_', 'energy_charts', 'SebastianWetz', 'trebronbo', 'JoacimKreutzer', 'Rainer_Klute', 'EricDanielski', 'ChristianOnRE', 'LuizAlbrecht1', 'SciFFHannover', 'dmncbrl', 'Franz_Metzger1', 'pjanik_otm', 'rossreiter', 'HajoDekhuijzen', 'Estesz', 'BjrnPeters3', 'janusPrime', 'FridayForFuture', 'VQuaschning', 'Keeper_86', 'hccd007', 'kindofmagic4u', 'HerrmannPierre', 'VeroWendland', 'MoormannRainer', 'mvgerhardt', 'HJFell', 'Preso32', 's04paps', 'SimeonPreuss', 'HShumanist', 'FeynmansMethod', '___n2k1', 'fwieschollek', 'PunkInTheGym', 'dpomondi', 'tachy_', 'energy_charts', 'SebastianWetz', 'trebronbo', 'JoacimKreutzer', 'Rainer_Klute', 'EricDanielski', 'ChristianOnRE', 'LuizAlbrecht1', 'SciFFHannover', 'dmncbrl', 'Franz_Metzger1', 'pjanik_otm', 'rossreiter', 'HajoDekhuijzen', 'Estesz', 'BjrnPeters3', 'janusPrime', 'FridayForFuture', 'VQuaschning', 'OliverHaas19', 'Keeper_86', 'kindofmagic4u', 'HerrmannPierre', 'VeroWendland', 'MoormannRainer', 'mvgerhardt', 'HJFell', 'Preso32', 's04paps', 'SimeonPreuss', 'HShumanist', 'FeynmansMethod', '___n2k1', 'fwieschollek', 'PunkInTheGym', 'dpomondi', 'tachy_', 'energy_charts', 'SebastianWetz', 'trebronbo', 'JoacimKreutzer', 'Rainer_Klute', 'EricDanielski', 'ChristianOnRE', 'LuizAlbrecht1', 'SciFFHannover', 'dmncbrl', 'Franz_Metzger1', 'pjanik_otm', 'rossreiter', 'HajoDekhuijzen', 'Estesz', 'BjrnPeters3', 'janusPrime', 'FridayForFuture', 'VQuaschning', 'DetlevHartenst1', 'energiedienst', 'hochschwarzwald', 'Tom2Tom60', 'weh_oh', 'Tom2Tom60', 'MichaelReckordt', 'moovility_me', 'EnBW', 'TankundRast', 'oma_kazi', 'chris___riemer', 'Marius_W12', 'andrea_heerdt', 'Madenmampfer', 'tweet_earthling', 'morellwest', 'LukTBrand', 'LADE_GmbH', 'Sedios1', 'morellwest', 'LukTBrand', 'LADE_GmbH', 'Zirconos', 'MathiasHeinema2', 'fdpbt', 'fdp', 'MarcoBuschmann', 'koehler_fdp', 'GydeJ', 'mseesternpauly', 'aggelidis_fdp', 'StephanThomae', 'nicole_ae_bauer', 'sandra_weeser', 'hacker_fdp', 'RenataAlt_MdB', 'wodgachef', 'grybelfix', 'altenbockum', 'drumheadberlin', 'faznet', 'Bauchnabelzwerg', 'JayDo80121244', 'welt', 'volkswagen', 'intermobility_b', 'moovility_me', 'EnBW', 'TankundRast', '_Cap_22', 'HeinerGirl', 'MaddyQuerulator', 'Gay_NLDE', 'janusPrime', 'Stvedie', 'claussauter', 'ngvglobal', 'BrunsRainer', 'MaddyQuerulator', 'janusPrime', '_Cap_22', 'HeinerGirl', 'Stvedie', 'claussauter', 'ngvglobal', 'MatthiasWolf65', 'andreas_traber', 'MarcusWadsak', 'AvaconAG', 'MaddyQuerulator', 'janusPrime', '_Cap_22', 'HeinerGirl', 'Stvedie', 'claussauter', 'ngvglobal', 'SteffenHoX', 'schnwttrkckr', 'ollobeer', 'thestanceman1', 'Stvedie', 'janusPrime', 'VolkerEinem', 'nextmove_de', 'Umwelthilfe', 'technikjuli', 'nextmove_de', 'Umwelthilfe', 'janusPrime', 'Stvedie', '_Cap_22', 'HeinerGirl', 'claussauter', 'ngvglobal', 'INTRIWEB', 'beamzuse', 'henrikMSL', 'SteffenBilger', 'WDR', 'GrueneFrakNRW', 'happel', 'moovility_me', 'EnBW', 'TankundRast', 'stadlbua', 'LukTBrand', 'mf2006100', 'volkswagen', 'Fastned', 'goetzingert', 'golem', 'Michael56986218', 'FranzKobus', 'Karl_Lauterbach', '19Mayo87', 'EnBW', 'DerZorn', 'Bruno_Borboleta', 'VQuaschning', 'chri_gru', 'stefanct', 'R34lB0rg', 'LidlOesterreich', 'Bruno_Borboleta', 'VQuaschning', 'VQuaschning', 'VQuaschning', 'YouTube', 'lvrbrgmnn', 'Gay_NLDE', 'petrisberg92', 'ZDFheute', 'VW', 'Tesla', 'nextmove_de', 'stoeckli_martin', 'QQuencher', 'ibeor', 'kfzplatzer', '_tho_', 'nextmove_de', 'wdwarncke', 'ckamaluha', 'derspiegel', 'kkklawitter', 'vwmanufaktur_de', 'OtmarE_Klimkeit', 'DOeliger', 'ole_vwdilab', 'cem_oezdemir', 'CKemfert', 'VQuaschning', 'VWGroup_DE', 'Tesla', 'VWGroup', 'emobly', 'Zeruyu', 'Co2Klima', 'agentsinaction', 'DerClue', 'janusPrime', 'Elektro_Robin', 'Fridgeir9', 'marq_us', 'RamonaPop', 'wunderlicher', 'operacivil', 'Stadt_FFM', 'LebenStadt', 'MeinFrankfurt', 'IONITY_EU', 'djbeetee', 'agentsinaction', 'maxi_muell', 'Hagen', 'VolkerEinem', 'peteraltmaier', 'HolyArchangel87', 'ZDFheute', 'energiedienst', 'CoalDead', 'stekkerauto', 'ennolenze', 'ennolenze', 'naunikea', 'hessenschau', 'Elektro_Robin', 'klimalugenluge', 'hannesleitlein', 'tomueko', 'Elektro_Robin', 'UFrer', 'smagictoy', 'urwumpe', 'BR_quer', 'Pixelaffe', 'smagictoy', 'urwumpe', 'DerGraslutscher', 'BR_quer', 'Hagen', '_Cap_22', 'hauwech3', '_HelloPunk', 'Elektro_Robin', 'zeitonline', 'thestanceman1', 'frosinone_', 'emptysignifier', 'greenpeace_de', 'FelixZeug', 'RegSprecher', 'VWGroup', 'MercedesBenz_DE', 'BMW', 'AndiScheuer', 'OlafScholz', 'hubertus_heil', 'peteraltmaier', 'justfortherec', 'technikjuli', 'Akkufuchs', 'DennisWitthus', 'DennisWitthus', 'BMWi_Bund', 'peteraltmaier', 'euref', 'Tesla', 'RamonaPop', 'ulm_donau', 'benediktg5', 'Hagen', 'euryeuro', 'f_schaeffler', '_Cap_22', 'Stvedie', 'BrunsRainer', 'welt', 'Naturschuetzen', 'kkklawitter', 'bmu', 'Gruene_Europa', 'cng_club', 'TamaraWernli', 'technikjuli', 'die_regierung', 'Sebonaut_G', 'SBokler', 'pudelblitz', 'Hank45663738', 'MonikaBeck6', 'JamesShanjue', 'Ketoman180', 'tagesschau', 'Die_Gruenen', 'EinRobert1', 'ConstAmusement', 'dieliebenessy', 'DerFlixxx', 'thestanceman1', 'peter_simone', 'ArnoldSchiller', 'Elektro_Robin', 'technikjuli', 'Hagen', 'NicoPliquett', 'Karalhoin', 'mattaut88', 'NuovaRealta', 'nextmove_de', 'Tesla', 'FCN_Sebi', 'skodaautonews', 'LehrstuhlEMV', 'H_Frommann', 'BauerResearch', 'MCReim', 'SladanVidakovic', 'Mirko_Schulte', 'tom_janas', 'nextmove_de', 'Tesla', 'GeorgKonjovic', 'meisterlind', 'Nordhessische', 'AndiScheuer', 'thestanceman1', 'peter_simone', 'electrodocs', 'janusPrime', 'f_schaeffler', 'AndiScheuer', 'BauerResearch', 'peterbreuer', 'Psychohoernchen', 'tagesthemen', 'FritzUSA', 'kkklawitter', 'Vimeo', 'AsatothAbaddon', 'fleaz_', 'tom_janas', 'nextmove_de', 'Tesla', 'nextmove_de', 'Tesla', 'lyncgeek', 'Klima_Mahner', 'FAZ_Wirtschaft', 'EEnergiewende', 'BauerResearch', 'exrealo', 'dpa', 'SZ', 'dpa', 'SZ', 'Hagen', 'Klima_Mahner', 'FAZ_Wirtschaft', 'EEnergiewende', 'Hagen', 'Klima_Mahner', 'FAZ_Wirtschaft', 'EEnergiewende', 'thestanceman1', 'JuliusEV01', 'HansLak', 'JuliusEV01', 'Einfalter', 'HansLak', 'Markus_Soeder', 'Tesla', 'CarlundCarlade', 'hrafnsgaldr', 'katzenundmensch', 'Luisamneubauer', 'PatrickKausW', 'Elektro_Robin', 'AukeHoekstra', 'NiclaasG', 'tagesschau', 'ChristofStelma1', 'baerchiblogspot', 'Luisamneubauer', 'Sutemi7', '_Cap_22', 'pummeltv', 'Markus_Soeder', 'WilhelmGuenther', 'nocki61', 'heinz_hjo', 'ADHOC_PR', 'PanPagan', 'HonkHase', 'levampyre', '__ud3x__', 'HonkHase', 'levampyre', 'EnBW', 'kkklawitter', 'tagesschau', 'NewMotion', 'EnBW', 'MaingauEnergie', 'EnelGroupIT', 'IONITY_EU', 'CleanElectrCast', 'Elektro_Robin', 'ian_tavis', 'BassdoxXx', 'BR24', 'Markus_Soeder', 'maximmarkow', 'FallStreet1', 'Tiefseher', 'welt', 'thestanceman1', 'monoxyd', 'kkklawitter', 'R_Rheindorf', 'Grauhammer', 'Hagen', 'rpirringer', 'VQuaschning', 'johanneslink', 'Umwelthilfe', 'thestanceman1', 'Elektro_Robin', 'peteraltmaier', 'thestanceman1', 'larry37a', 'RobsMeinung', 'Mingiam10', 'VWGroup', 'maximmarkow', 'maximmarkow', 'maximmarkow', 'Baum_Laurenz', 'maximmarkow', 'maximmarkow', 'maximmarkow', 'Schneid53209250', 'cem_oezdemir', 'Darktrooper74', 'GmbhWarncke', 'GerdKebschull', 'Stvedie', 'acv_de', 'ihkkoeln', 'CNG_Mobility', 'kfz_betrieb', 'kfzgewerbe', '_Cap_22', 'EnBW', 'jvdhurk', 'joergalbrecht', 'VWGroup_DE', 'Hamburg397', 'JTrittin', 'DerNicoA', 'Wayne49252139', 'Mingiam10', 'OldTomBom', 'Markus_Soeder', 'JVos63', 'Wayne49252139', 'emobly', 'EnBW', 'EnBW', 'Karin25155', '_Cap_22', 'Alleswirdgut72', 'Stvedie', 'VQuaschning', 'peteraltmaier', 'BMWi_Bund', 'claussauter', 'Markus_Soeder', 'Mozgovoy_Energy', 'F_vonLucke', 'VQuaschning', 'gluehbirne4', 'coreleonidas', 'PaulZiemiak', 'petertauber', 'CDU', 'christophploss', 'ubermarkus', 'AudiOfficial', 'SixtDE', 'rabarg', 'heiseonline', 'GerdKebschull', 'climateactor', 'lidl', 'lidl', 'ChGraeff', 'MaddyQuerulator', '_Cap_22', 'acv_de', 'ihkkoeln', 'kkklawitter', 'RonRevog', 'klausdietermai1', 'wolfheilmann', 'kruger_elke', 'cem_oezdemir', 'signanz', 'WienEnergie', 'GerdKebschull', 'Stvedie', 'acv_de', 'ihkkoeln', 'CNG_Mobility', 'GmbhWarncke', 'kfz_betrieb', 'kfzgewerbe', 'mgoetzke', 'JenerFloh', 'ennolenze', 'vzbv', 'Umwelthilfe', 'nextmove_de', 'Land_SH', 'SH_Netz', 'riftgood', 'solarpapst', 'AndiScheuer', 'peteraltmaier', 'CKemfert', 'GretaThunberg', 'EEnergiewende', 'BMWi_Bund', 'franzalt', 'TerliWetter', 'EV_Stevee', 'e_Mobilitaet', 'eautonews', 'next_e', 'djbeetee', 'DVDStgt', 'BekkenkMarkus', 'BlakesWort', 'GeorgKonjovic', 'Hamburg397', 'KKMarohn', 'autobild', 'pupsiturtles', 'Officer_Yash', 'BMVI', 'AndiScheuer', 'RealDonDenito', 'GeorgKonjovic', 'KKMarohn', 'autobild', 'maxi_muell', 'wdwarncke', 'derspiegel', 'Borstich', 'VBruttel', 'JanLapapp', 'cem_oezdemir', 'HolgerHollo', 'smegworx', 'Pulser77', '_HelloPunk', 'CySchneider', 'msebel', 'samsteiner', 'EV_Stevee', 'solarpapst', 'AndiScheuer', 'peteraltmaier', 'CKemfert', 'GretaThunberg', 'EEnergiewende', 'franzalt', 'TerliWetter', 'e_Mobilitaet', 'eautonews', 'TheBug0815', 'Pulser77', 'HolgerHollo', '_HelloPunk', 'JenerFloh', 'ennolenze', 'VWGroup', '_HelloPunk', 'hpmaennicke', 'tazgezwitscher', 'SecretCoAuthor', 'Umwelthilfe', 'Kaenguru_SV', 'thestanceman1', 'derspiegel', 'skoops', 'WienEnergie', 'woelken', 'VWGroup', 'marcobuelow', 'AbHotten', 'RealDonDenito', '_Cap_22', 'TilmanWinkler', 'c_schwarzer', 'lordknolldemort', 'cem_oezdemir', 'lordknolldemort', 'cem_oezdemir', '_Cap_22', 'RealDonDenito', 'TilmanWinkler', 'c_schwarzer', 'wilddueck,', 'maxi_muell', 'lovelyropes', 'Chrisstr6', 'VWGroup', 'LinkedInDACH', 'RealDonDenito', 'VWGroup', 'LinkedInDACH', 'VWGroup', 'RealDonDenito', 'LinkedInDACH', 'das_Dan3000', 'timohetzel', 'schlingel', 'VQuaschning', 'chri_gru', 'Apple', 'Essen_Ruhr', 'Essen_Ruhr', 'MaddyQuerulator', 'verkehrswendeb2', 'Schupunkt', '_Cap_22', 'VQuaschning', 'N_Heisterhagen', 'MaddyQuerulator', 'verkehrswendeb2', 'Schupunkt', '_Cap_22', 'VQuaschning', '_tho_', 'braingossip', 'VQuaschning', '_Cap_22', 'verkehrswendeb2', 'Schupunkt', 'VQuaschning', '_Cap_22', 'verkehrswendeb2', 'Schupunkt', 'VQuaschning', 'DerGraslutscher', 'designmobility', 'teslamag', 'ProfRieck', 'astrofan80', 'VQuaschning', 'BWjetzt', 'dklaes_astro', 'Andreas54058823', 'H777Werner', 'Michael_Kunz', 'VQuaschning', '_Cap_22', 'verkehrswendeb2', 'Schupunkt', 'VQuaschning', '123hier', 'SWM_Muenchen', 'PolizeiMuenchen', 'ringinvestor', 'braingossip', 'VQuaschning', 'astrofan80', 'VQuaschning', 'andreas_esch', 'woelken', 'Karl_Lauterbach', 'HerrOlsen', 'AllegoCharging', 'ecomento_de', 'KurtHuwig', 'JordanGriz95', 'Anzugmensch', 'WMassag', 'Piepsie', 'EAutoPionier', 'CoalDead', 'JKD1988', 'EV_Stevee', 'JPRuehmann', 'Kekule9', '_FriedrichMerz', 'MatCMeier', 'natasja_sommer', 'DailyNewsEgypt,', 'EV_Stevee', 'woelpke', 'HerrRain', 'TinleMar', 'Alexand23573402', 'netwge', 'VQuaschning', 'SonoMotors', 'VQuaschning', 'LaurinHahn', 'netwge', 'VQuaschning', 'EV_Stevee', 'AdrianAulbach', 'Touni', 'balkonsolar', 'Badenova', '___n2k1', 'hccd007', 'HShumanist', 'DerClue', 'MoormannRainer', 'dpomondi', 'VeroWendland', 'HerrmannPierre', 's04paps', 'fwieschollek', 'mvgerhardt', 'HJFell', 'Preso32', 'OliverHaas19', 'kindofmagic4u', 'SimeonPreuss', 'FeynmansMethod', 'PunkInTheGym', 'tachy_', 'energy_charts', 'SebastianWetz', 'trebronbo', 'JoacimKreutzer', 'Rainer_Klute', 'EricDanielski', 'ChristianOnRE', 'LuizAlbrecht1', 'SciFFHannover', 'dmncbrl', 'Franz_Metzger1', 'pjanik_otm', 'rossreiter', 'HajoDekhuijzen', 'Estesz', 'BjrnPeters3', 'FridayForFuture', 'VQuaschning', 'blackXXseven', '___n2k1', 'hccd007', 'HShumanist', 'DerClue', 'MoormannRainer', 'dpomondi', 'VeroWendland', 'HerrmannPierre', 's04paps', 'fwieschollek', 'mvgerhardt', 'HJFell', 'Preso32', 'OliverHaas19', 'kindofmagic4u', 'SimeonPreuss', 'FeynmansMethod', 'PunkInTheGym', 'tachy_', 'energy_charts', 'SebastianWetz', 'trebronbo', 'JoacimKreutzer', 'Rainer_Klute', 'EricDanielski', 'ChristianOnRE', 'LuizAlbrecht1', 'SciFFHannover', 'dmncbrl', 'Franz_Metzger1', 'pjanik_otm', 'rossreiter', 'HajoDekhuijzen', 'Estesz', 'BjrnPeters3', 'FridayForFuture', 'VQuaschning', 'thestanceman1', 'BrunsRainer', 'djbeetee', '_Cap_22', 'KurtHuwig', 'janusPrime', 'RIVEMaroc', 'Xus1Ba', 'Hagen', 'MarkusHoeher', 'dw_wirtschaft', 'spahn_thomas', 'janusPrime', 'HShumanist', 'DerClue', 'MoormannRainer', 'dpomondi', 'VeroWendland', 'HerrmannPierre', 's04paps', 'fwieschollek', 'mvgerhardt', 'HJFell', 'Preso32', 'OliverHaas19', 'kindofmagic4u', 'SimeonPreuss', 'FeynmansMethod', '___n2k1', 'PunkInTheGym', 'tachy_', 'energy_charts', 'SebastianWetz', 'trebronbo', 'JoacimKreutzer', 'Rainer_Klute', 'EricDanielski', 'ChristianOnRE', 'LuizAlbrecht1', 'SciFFHannover', 'dmncbrl', 'Franz_Metzger1', 'pjanik_otm', 'rossreiter', 'HajoDekhuijzen', 'Estesz', 'BjrnPeters3', 'FridayForFuture', 'VQuaschning', 'phba151', 'LaurinHahn', 'CleanElectrCast', 'twittlik', 'jakobhaerter', 'friemel_backe', 'WifoeLeipzig', 'StadtLeipzig', 'GPlay97_', 'ZoePionierin', 'araldeutschland', 'BirgerNicolai', 'Freshmile_de', 'ThoScho', 'welt', 'Mingiam10', '_tho_', 'nextmove_de', 'ElectrifyBW', 'electrodocs', 'Hagen', 'robintvtv', 'Markus_Emmert', 'emobileticker', 'Hagen', 'robintvtv', 'Markus_Emmert', 'emobileticker', 'Touni', 'robintvtv', 'Markus_Emmert', 'emobileticker', 'unixtippse', 'zhenech', 'j4r)', 'GeorgKonjovic', 'SteffenDeBrand', 'EnBW', 'Mobility_Suisse', 'Mobility_Suisse', 'SonoMotors', 'MagBo77', 'Koeln', 'Christian987665', 'erzaehlmirnix', 'erzaehlmirnix', 'camarero365', 'ElectriveNet', '_Cap_22', 'Model3GER', 'Koeln', 'erzaehlmirnix', 'robert_we', 'stang2k', 'BastiSitoLP', 'erzaehlmirnix', 'stang2k', 'thestanceman1', 'HoSe21244', 'erzaehlmirnix', 'erzaehlmirnix', 'erzaehlmirnix', 'Mingiam10', 'erzaehlmirnix', 'Matze0767', 'Mingiam10', 'spdhh', 'spdhh', 'erzaehlmirnix', 'erzaehlmirnix', 'Ulan_ka', 'stang2k', 'erzaehlmirnix', 'Der_Postillon', 'Hamburg397', '_tho_', 'ZoePionierin', 'EnBW', 'IONITY_EU', 'EAutoPionier', 'Bartman68485744', 'ZoePionierin', 'e_Mobil2014', 'EnBW', 'IONITY_EU', 'thestanceman1', 'verkehrswendeb2', 'ennolenze', 'Ringnarwen', 'AllegoCharging', '_kriss1', 'WienEnergie', 'iwonalaub', 'klimaaktiv', 'PiraToRo', 'Stadt_Chemnitz', 'teilAuto,', 'EAutoPionier', 'ZoePionierin', 'e_Mobil2014', 'EnBW', 'IONITY_EU', 'stadtdortmund,', 'Kevin_K_DE', '_tho_', 'KurtHuwig', 'thestanceman1', 'BrunsRainer', '_Cap_22', 'Iceskiff_Limeoh', 'MarkusHoeher', 'janusPrime', 'djbeetee', 'Hagen', 'dw_wirtschaft', 'spahn_thomas', 'SacStahl', 'Stefan_Hajek', 'BrunsRainer', 'MarieDMeier', '_Cap_22', 'Iceskiff_Limeoh', 'MarkusHoeher', 'janusPrime', 'djbeetee', 'Hagen', 'dw_wirtschaft', 'spahn_thomas', 'nextmove_de', 'MaingauEnergie', 'Stadt_Karlsruhe', 'KreisKarlsruhe', 'didixxx13', 'welt', 'mathildareno', 'JuliusEV01', 'Brennpunkt6', 'EnBW', 'YouTube', 'AndreasEschbach', 'focusonline', 'djbeetee', 'MarieDMeier', 'Iceskiff_Limeoh', 'janusPrime', 'MarkusHoeher', 'Hagen', '_Cap_22', 'dw_wirtschaft', 'spahn_thomas', 'AEWEnergieAG', 'zeitonline', '0EmissionCar', 'peter_simone', 'MaingauEnergie', 'ArminSchubert', 'shakalandy', 'Hagen', 'BrunsRainer', 'frischfuettern', 'MarieDMeier', 'janusPrime', 'MarkusHoeher', '_Cap_22', 'dw_wirtschaft', 'spahn_thomas', 'Blixah', 'AnderlLechner', 'nurdermarcus', '_Cap_22', 'telefon_abi', 'petschi89', 'Iceskiff_Limeoh', 'frischfuettern', 'MarieDMeier', 'janusPrime', 'MarkusHoeher', 'Hagen', '_Cap_22', 'dw_wirtschaft', 'spahn_thomas', 'Iceskiff_Limeoh', '_Cap_22', 'MarieDMeier', 'BrunsRainer', 'janusPrime', 'MarkusHoeher', 'Hagen', 'dw_wirtschaft', 'spahn_thomas', 'RAMalteGreisner', 'BrunsRainer', 'janusPrime', 'MarieDMeier', 'MarkusHoeher', 'Hagen', '_Cap_22', 'dw_wirtschaft', 'spahn_thomas', 'EnBW', 'Hagen', 'elektrokarre', 'VBruttel', 'LaurentMosar', 'janusPrime', 'MarieDMeier', 'MarkusHoeher', 'Hagen', '_Cap_22', 'dw_wirtschaft', 'spahn_thomas', 'JGemassmer', 'Blixah', 'derya_tn', 'Blixah', 'derya_tn', 'TouchBenny', 'TouchBenny', 'WIRTSCHAFTakut', 'PoterHairy', 'Sneggy52', 'svs1946', 'Willi15939381', 'Blixah', 'derya_tn', 'macinthemiddle', 'JVos63', 'mungo_pa', 'AEWEnergieAG', 'Mingiam10', 'DerNicoA', 'FrankRauschenb3', 'Harun_aus_HH', 'PumpkinSmartass', 'Luisamneubauer', 'GretaThunberg', 'AnunaDe', 'adelaidecharli2', 'pirat_hora', 'GrischoSchluesi', 'quazanga', 'Iceskiff_Limeoh', '_Cap_22', 'MaddyQuerulator', 'BrunsRainer', 'janusPrime', 'Matze0767', 'netrowdy', 'MarkusHoeher', 'dw_wirtschaft', 'spahn_thomas', 'jstackmann', 'Fastned', 'Willy_Penner', 'TorstThe', 'rbbabendschau', 'berlin', 'r2g', 'sascha_p', 'WolfgangMoch', 'MengxMarco', 'Iceskiff_Limeoh', 'MaddyQuerulator', 'Matze0767', '_Cap_22', 'netrowdy', 'janusPrime', 'MarkusHoeher', 'Hagen', 'dw_wirtschaft', 'spahn_thomas', 'jstackmann', 'SWP_Potsdam', 'emobileticker', '_Cap_22', '434Italo', 'Naturschuetzen', 'der_bienenonkel', 'stadt_kiel', 'hannover', 'mathildareno', 'Brennpunkt6', 'EnBW', 'LadeEngel', 'dklaes_astro', 'igembb', 'razerrath', 'insanelygreat', 'timohetzel', 'timohetzel', 'DirkJes', 'CheckYourInfo', 'Karl_Lauterbach', 'razerrath', 'EDIS_AG', 'ThomasVerheugen', 'Karl_Lauterbach', 'chris_pyak', 'VQuaschning', 'HaraldLinden', 'Chris_Electric', 'ambitux', 'Karl_Lauterbach', 'VQuaschning', 'Alexand23573402', 'Naturschuetzen', 'DowJoes', 'Balelt41', 'coach_end', 'lupos_lusatiae', 'Naturschuetzen', 'DowJoes', 'Balelt41', 'coach_end', 'Kematef', 'Karl_Lauterbach', 'VQuaschning', 'Capone2412', 'Karl_Lauterbach', 'VQuaschning', 'MatthiasR09', 'Denniste8', 'northkap', 'axel_gutmann', 'ceo_plus_ch', 'TilmanWinkler', 'nextmove_de', 'MaingauEnergie', 'Bellatina691', 'danielreitzig', 'Balelt41', 'dk_tsl', 'Alexand23573402', 'Oliver_Krischer', 'bandee_de', 'VQuaschning', 'der_bienenonkel', 'Oliver_Krischer', 'bandee_de', 'VQuaschning', 'Alexand23573402', 'Oliver_Krischer', 'bandee_de', 'VQuaschning', 'maxi_muell', 'Karl_Lauterbach', 'VQuaschning', 'Naturschuetzen', 'DowJoes', 'Balelt41', 'Alexand23573402', 'DowJoes', 'Balelt41', 'Naturschuetzen', 'DowJoes', 'Balelt41', 'Karl_Lauterbach', 'VQuaschning', 'nextmove_de', 'RobertBoni6', 'MaingauEnergie', 'IONITY_EU', 'EV_Stevee', 'bikes_cars_beer', 'kumasasa_', 'sueddeutsche_de', 'oberursel', 'oberursel', 'Elektro_Robin', 'MaingauEnergie', 'zeitonline', 'chris_bac0', 'allelectric_de', 'nextmove_de', 'MaingauEnergie', 'Nasobem_lyricum', 'iwonalaub', 'Elektro_Robin', 'tilsteff', 'kinderdok', 'technikjuli', 'Elektro_Robin', 'tilsteff', 'acurus', 'systemstig', 'nextmove_de', 'MaingauEnergie', 'MaingauEnergie', 'gitterkind', '_Cap_22', 'telefon_abi', 'petschi89', 'MrProcess', 'ergroovt', 'DrakardNSW', 'LSEnews', 'Mingiam10', 'RobsMeinung', 'publictorsten', 'DonDahlmann', 'LukTBrand', 'HannoSettele', 'BarbaraRuhsmann', 'HannoSettele', 'BarbaraRuhsmann', 'HannoSettele', 'BarbaraRuhsmann', 'AstroSven', 'Oliver_Krischer', 'bandee_de', 'VQuaschning', 'janusPrime', 'BlakesWort', '_Cap_22', 'Oliver_Krischer', 'bandee_de', 'VQuaschning', 'EDIS_AG', 'igembb', 'fahrIehrer', '_Cap_22', 'JPulkes', 'fahrradfrei', 'architektausber', 'fel_iix', 'Melissenfee', 'kisumxes', 'Rundfunkbeitra2', 'TWCheckerBerlin', 'MarkusMiklas', 'kieliscalling', 'stadt_kiel', 'danielasgedanke', 'jess_kordouni', 'PoterHairy', 'LukTBrand', 'DonDahlmann', '_Cap_22', 'fahrradfrei', 'JPulkes', 'architektausber', 'kisumxes', 'Rundfunkbeitra2', 'TWCheckerBerlin', 'MarkusMiklas', 'Melissenfee', '_Cap_22', 'JPulkes', 'architektausber', 'kisumxes', 'Flupsipupsi', 'Rundfunkbeitra2', 'TWCheckerBerlin', 'MarkusMiklas', 'Melissenfee', 'Duricell2013', 'JVos63', 'energisch_', 'architektausber', '_Cap_22', 'JPulkes', 'fahrradfrei', 'Flupsipupsi', 'kisumxes', 'Rundfunkbeitra2', 'TWCheckerBerlin', 'MarkusMiklas', 'Melissenfee', 'technikjuli', 'Mingiam10', 'teslamag', 'Tesla', 'PolestarCars', 'Mingiam10', 'GoogleNews', 'opencreeker', 'zeitonline', 'Uhuxxl93', 'SchottJuergen', 'nextmove_de', 'Tesla', 'unixtippse', 'mgoetzke', 'BGatterbauer', 'Naturschuetzen', 'elemob_de', 'electrodocs', 'elektrokarre', 'electrodocs', 'Alexand23573402', 'FelixGeibel', 'Balelt41', 'zeitonline', 'x7franny', 'GerdKebschull', 'BGatterbauer', 'Naturschuetzen', 'elemob_de', 'Naturschuetzen', 'Bugspriet', 'Balelt41', 'Naturschuetzen', 'grumpyplauze', 'riftgood', 'DuncanBlues42', 'littlewisehen', 'Elektro_Robin', 'planwerk', 'jottes', 'Wayne49252139', 'Naturschuetzen', 'zeitonline', 'peterunfried', 'Jens7berlin', 'VQuaschning', 'taz_FUTURZWEI', 'zeitonline', 'SteffenHoX', 'FamilieZoe', 'Naturschuetzen', 'StadtLeipzig', 'teilAuto?', 'Naturschuetzen', 'Balelt41', 'Naturschuetzen', 'Balelt41', 'AirElectricApp', 'VQuaschning', 'HerbertvonPfalz', 'Asolution89', 'electrodocs', 'VQuaschning', 'joel_aktuell', 'HerrmannPierre', 'CoalDead', 'SacStahl', 'StaLeop', 'JVos63', 'agentsinaction', 'SacStahl', 'StaLeop', 'JVos63', 'agentsinaction', 'janusPrime', 'janusPrime', 'SacStahl', 'HerrmannPierre', 'StaLeop', 'JVos63', 'agentsinaction', 'HumanKoala', 'janusPrime', 'thestanceman1', '_Cap_22', 'pottaus', 'VQuaschning', 'klimareport', 'felltomate', 'sascha_p', 'StadtOstfildern', 'Jens_Mander_', 'TeslaSchweiz', 'planwerk', 'helmi', 'mariowitte', 'unixtippse', 'goetz_girke', 'HannoKlausmeier', 'technikjuli', 'Model3GER', 'Naturschuetzen', 'derspiegel', 'BMVI', 'corwin42', 'BlakesWort', 'jal3kost4rrr', 'VQuaschning', 'andizgl', 'planwerk', 'Flohlaus', 'ZoePionierin', 'EnBW', 'RouteBetter.', 'djbeetee', 'Hamburg397', 'Stefan_Hajek', 'TRdel', 'technikjuli', 'VQuaschning', 'TouchBenny', 'Wohnwirtschaft', 'sascha_p', 'eautonews', 'benbx2', 'kineyDE', 'hauwech3', 'Wohnwirtschaft', 'technikjuli', 'r34r47', 'michaelmaass', 'kkklawitter', 'packmichnichtan', '_Cap_22', 'MaddyQuerulator', 'TichysEinblick', 'packmichnichtan', '_Cap_22', 'TichysEinblick', 'Hamburg397', 'Laminatic', 'soinsgesamt', 'Umwelthilfe', 'Daimler', 'Laminatic', 'Laminatic', 'soinsgesamt', 'Umwelthilfe', 'Daimler', 'packmichnichtan', 'Bauchnabelzwerg', '_Cap_22', 'TichysEinblick', 'kielkontrovers', 'kn_online', 'WolfmannotJack', 'cem_oezdemir', 'muskpiration', 'nextmove_de', 'Hagen', 'robintvtv', 'Wohnwirtschaft', 'BoeltM', 'Wohnwirtschaft', 'nextmove_de', 'sf1893', 'tschelle', 'EnBW', 'dan_roedding', '', 'Afebriwyn', 'EcoCarer1', 'EcoCarer1', 'HalleVerkehrt', 'kkklawitter', 'DerGraslutscher', 'Stefan_Hajek', 'CKemfert', 'Hamburg397', 'MaxFichtner', 'energy_charts_d', 'FraunhoferISI', 'AmtVom', 'VQuaschning', 'RealSunu', 'Stefan_Hajek', 'erlangen_de', 'ladeverbundplus', 'IKEA_Presse', 'omikron99', 'andreasliewen', 'RealDonDenito', 'c_schwarzer', 'EnBW', 'Tesla', 'Janzwitschert', 'StromschlagYT', '7VAMPIR', 'nextmove_de', 'Tesla', 'c_schwarzer', 'Opel', 'GroupeRenaultDE', 'MaingauEnergie', 'lightningn1ck', 'Karl_Lauterbach', 'FabianLaasch', 'BerndRae', 'wilddueck', 'janusPrime', 'doktorhulk', 'elonmusk', 'Tesla', 'tschelle', 'BerndRae', 'doktorhulk', 'wilddueck', 'polenz_r', 'Grnfink2', 'MaSchu112', 'omikron99', 'andreasliewen', 'RealDonDenito', 'c_schwarzer', 'EnBW', 'Tesla', 'omikron99', 'andreasliewen', 'RealDonDenito', 'c_schwarzer', 'EnBW', 'Tesla', 'ZDFheute', 'HellmannTim', 'Elektro_Robin', 'Hagen', 'meg_gyver', 'Solid_Snail', 'nextmove_de', 'JayDo80121244', 'MainovaAG', 'dussmann_group', 'HugoEV3', 'MainovaAG', 'dussmann_group', 'igembb', 'gerritvanaaken', 'stang2k', 'elemob_de', 'marcel_lehmann1', 'nextmove_de', 'Tesla', 'Tom11880', 'AndiScheuer', 'peteraltmaier', 'bzberlin', 'wiwo', 'TobiasDirking', 'news_nowgmbh', 'ulm_donau', 'SWUStadtwerke', 'KITKarlsruhe', 'uni_ulm', 'dklaes_astro', 'stang2k', 'DSchrombgens', 'tschelle', 'Kia_Deutschland', 'DSchrombgens', 'tschelle', 'Kia_Deutschland', 'tobwias', 'TobiasDirking', 'PhillipGoik', 'EmderZeitung', 'andreasliewen', 'i_Peter', 'RealDonDenito', 'c_schwarzer', 'EnBW', 'Tesla', 'Stoewhase', 'deutschetelekom', 'BerndRae', 'RuisingerR', 'Engineer4F', 'denkbeteiligung', 'BMWi_Bund', 'pvbuero', 'EEnergiewende', 'carla_reemtsma', 'CKemfert', 'FridayForFuture', 'georgrestle', 'JanineClimate', 'Luisamneubauer', 'TiloJung', 'Volksverpetzer', 'spdbt', 'Afelia', 'JVos63', 'VQuaschning', 'thestanceman1', 'MineCooky', 'nextmove_de', 'WeShare_DE', 'RealDonDenito', 'thestanceman1', 'EnBW', 'Tesla).', 'ChrisEbner_FM', 'ulfposh', 'POTUS', 'JoeBiden', 'micha06de', 'YouTube', 'Werner_Mo', 'VWGroup', 'MoritzDiethelm', 'sepp_reitberger', 'VW', 'thomsen_jp', 'bicipues', 'KohlmeierSPD', 'SenUVKBerlin', 'dooberlin', 'KohlmeierSPD', 'SenUVKBerlin', 'SenUVKBerlin.', 'ShareNow_global', 'wdwarncke', 'M_Hundhausen', 'BMW', 'wdwarncke', 'zweiem', 'bzberlin', 'Mrivan4you', 'Jay5244', 'RealDonDenito', '_Cap_22', 'Mingiam10', 'MaddyQuerulator', 'NYnober', 'TouchBenny', 'plkleister', 'plkleister', 'Jay5244', 'frischfuettern', '_Cap_22', 'MaddyQuerulator', 'RealDonDenito', 'Mingiam10', 'NYnober', '_Cap_22', 'MaddyQuerulator', 'fragger911', 'WernerFuchs_CH', 'ADAC', 'AccountNr479', 'b_friederike', 'ADAC', 'Jay5244', '_Cap_22', 'RealDonDenito', 'Mingiam10', 'MaddyQuerulator', 'NYnober', 'Jay5244', 'RealDonDenito', '_Cap_22', 'Mingiam10', 'MaddyQuerulator', 'NYnober', 'Kartellamt', 'MortiK', 'nextmove_de', 'eugen707', 'kramkr', 'DerClue', 'Energyboy_72', 'SciFFHannover', 'Spanni11', 'VeroWendland', 'fwieschollek', 'An_di_Arbeit', 'ChristophBeisl1', 'trebronbo', 'MoormannRainer', 'AntiAtomKA', 'IPPNWgermany', 'ausgestrahlt', 'HJFell', 'franzalt', 'jdoeschner', 'AndreasWinckler', 'Unplugnukes', 'castor_stoppen', 'Jochen_Stay', 'solarpapst', 'HeinzSmital', 'IPPNW', 'SimeonPreuss', 'dmncbrl', 'BjrnPeters3', 'ChristianOnRE', 'VQuaschning', 'NikolaiOrgland', 'flaunaz', 'morten_hannesbo', 'BFEenergeia', 'csch42', 'roddi', 'twittlik', 'loredo', 'roddi', 'clemisan', 'DerGraslutscher', 'BILD', 'nextmove_de', 'felixba', 'Tesla', 'PolestarCars', 'Dianaownz100', 'MarieDMeier', 'Nuklearia', 'BigGayAl_93', 'Birki47', 'FSHornschild', 'tagesschau', '_tho_', 'GeorgKonjovic', 'emobicon', 'torschtl', 'twibarth', 'GeorgKonjovic', 'heutejournal', 'raffaeru', 'PolestarCars', 'kramkr', 'DudenhofferAUTO', 'GeorgKonjovic', 'umrath', 'heutejournal', 'penninger', 'roddi', 'MaddyQuerulator', 'StadtLuenen', 'thestanceman1', 'StadtLuenen', 'EnBW', 'roddi', 'EnBw', 'StadtLuenen', 'tesla', 'zeitonline', 'Der_Gali', 'roddi', 'EnBW', 'EnBW,', 'AGPSBC', 'MFabricius', 'welt', 'nextstepmobil', '_Cap_22', 'Naturschuetzen', 'innogy_emob', 'innogy', 'nextmove_de', 'Porsche', 'PorscheNewsroom', 'littlestanna', 'DennisWitthus', '163Grad', 'mariowitte', 'unixtippse', 'acurus', 'stang2k', 'Saving_Volt', 'Plugsurfing', 'NewMotionDE', 'ladeverbundplus', 'nergie_de', 'ladeverbundplus', 'BMW', 'MercedesBenz_DE', 'VWGroup', 'OpelDE', '_Cap_22', 'maxOLAR1', 'Not_givn_awayV8', 'maxi_muell', 'Apfelfunk', 'r34r47', 'innogy_emob', 'AllegoCharging', '163Grad', 'innogy_emob', 'nido009', 'svenkessler', 'Localiser', 'StfnMllr.', 'zusatzstoff', 'NicoSchurr', 'Daimler', 'NicoSchurr', 'Daimler', 'AllegoCharging', '_mobility_', 'MarcelM3p', 'VauEssTri', 'DiedrichLeander', 'dan_roedding', 'Georg_Pazderski', 'Foobarimquadrat', 'umrath', 'Fridgeir9', 'NikolausNordpol', 'GeorgKonjovic', 'araldeutschland', 'troy_mc_clure', 'alles_fliesset', 'NoseBIG', 'schlabonski', 'holimuk', 'LentzFlorian', 'elemob_de', 'NikolausNordpol', 'umrath', 'GeorgKonjovic', 'araldeutschland', 'NikolausNordpol', 'GeorgKonjovic', 'araldeutschland', 'umrath', 'hinten_mit_O', 'EAutoPionier', 'araldeutschland', 'enercity', 'trader_53', 'Steinfireflint', 'cfrey1977', 'stang2k', 'Hagen', '_tho_', 'ShareNow_global', 'nfkampf', 'SZ', 'BNN_BaNeuNa', 'An_di_Arbeit', 'kindofmagic4u', 'VeroWendland', 'EricDanielski', 'HShumanist', 'SimeonPreuss', 'MoormannRainer', 'tachy_', 'OliverHaas19', 'pjanik_otm', 's04paps', 'janusPrime', 'rossreiter', 'HerrmannPierre', 'BjrnPeters3', 'dpomondi', 'HajoDekhuijzen', 'AntiAtomKA', 'Kids_CoKG', 'Preso32', 'FeynmansMethod', 'Rainer_Klute', 'DerClue', 'ForchheimEka', 'SebastianWetz', 'Klima_Mahner', 'FridayForFuture', 'Ecosia', 'HJFell', 'tonyseba', 'MetropolSolarRN', 'VQuaschning', 'energy_charts_d', 'ausgestrahlt', 'MycleSchneider', 'EIAgov', 'Nuklearia', 'felixloe', 'ReinhardPreuk', 'Toyota_DE', 't3n', 'goetzingert', 'JVos63', 'Elektro_Robin', 'Mingiam10', 'FewoBoerner', 'landsalat', 'ProfRieck', 'umrath', 'Stefan_Hajek', 'Hagen', 'Stefan_Hajek', 'tm_nrmn', 'weh_oh', 'technikjuli', 'focusonline', 'GZickenheiner', 'grueneloerrach', 'fffloerrach', 'GJ_Loerrach', 'mnowak_wob', 'JulianMarchl', 'Hagen', 'ShareNow_global', 'kkklawitter', 'SZ', 'electrodocs', 'Naturschuetzen', 'EnBW', 'Nitramek1', 'mgoetzke', 'Hagen', 'mgoetzke', 'bruno_wissing', '_Cap_22', 'nextmove_de', 'MercedesBenz', 'Tesla', '1S3GR1M', 'zeitonline', 'kuhn_reinhard', 'VorundNachnahme', 'san_dra_ki_', 'AlexFreisinger', 'zeitonline', 'Preso32', 'rosenbaumg0', 'c_schwarzer', 'Tesla', 'ADAC', 'AnnaMariaBoss1', 'zeitonline', 'nextstepmobil', 'CoffeeProsecuto', 'Quasselette', 'LenzGrimmer', 'nextstepmobil', 'zeitonline', 'rogoering1', 'nextstepmobil', 'tagesanzeiger', 'kkklawitter', 'SZ', 'kkklawitter', 'SZ', 'TilmanWinkler', 'nextmove_de', 'JonLumis', 'Tesla', 'zeitonline', 'ipinky77', 'technikblog_ch', 'lelei', 'deutschetelekom', 'zeitonline', 'RRechsteiner', 'JustElex', 'SimonBredemeier', 'Hinkowski', 'ennolenze', 'nextmove_de', 'eMOVEwiesbaden', 'MercedesBenz', 'Tesla', 'Stadt_Wiesbaden', 'FinanzenHessen', 'elektromob_nrw', 'Ger_neu', 'kuhn_reinhard', 'zeitonline', 'DeinGewissen11', 'elonmusk', 'AlexFreisinger', 'kuhn_reinhard', 'zeitonline', 'zeitonline', 'ennolenze', 'carbon_compound', 'VQuaschning', 'DerGraslutscher', 'f_stiebeling', 'ZwitscherRobbie', 'SZ', 'MatthiasVogt75', 'ElectriveNet', 'ADAC', 'Kia_Deutschland', 'carbon_compound', 'VQuaschning', 'c_schwarzer', 'intermobility_b', 'Stefan_Hajek', 'systemstig', 'SEOTom', 'MelanieBergma18', 'sixtus', 'TechShareYT', 'EskenSaskia', '_Cap_22', 'Xus1Ba', 'smittysue1', 'NYnober', 'TechShareYT', 'roddi', 'TouchBenny', 'HerrPignats', 'Hallo_Rollo', 'Fischwaffel_', 'chris__riemer', 'RailyRick', 'c_schwarzer', 'EV_Stevee', 'volkswagen', 'ElectriveNet', 'Tesla', 'andreas_esch', 'SZ', 'SZ', 'SZ', '99jb99jbk', 'Karl_Lauterbach', 'EnBW', 'smatrics_com', 'Macintosh1968', 'k4ii_', 'ADAC', 'sascha_p', 'mmeidl78', 'VBruttel', 'Uli_Pflanz', 'stekkerauto', 'elemob_de', 'derspiegel', 'kramkr', 'frankfeil', 'mats1235', 'felixba', 'FelixKruemel', 'dieserSpeCs', 'KohlmeierSPD', 'SenUVKBerlin', 'thomsen_jp', 'TspLeute', 'IngoSalmen', 'Berlin_MaHe', 'KohlmeierSPD', 'Hagen', 'GeorgKonjovic', 'ZoePionierin', 'MrRational14', 'jstackmann', 'decider148', 'YouTube', 'EnBW', 'ADAC-Karte:', 'HelgeBruhn', 'mherger', 'wilddueck', 'dew21', 'YogicCEO', 'mgns', 'volkswagen_de', 'emobly', 'umrath', 'tagesschau', 'kkklawitter', 'thoughtcatcher', 'frankfeil', 'Tim70105470', 'felixba', 'felixba', 'VollzeitJonas', 'welt', 'kkklawitter', 'wdwarncke', 'cem_oezdemir', 'CKemfert', 'jstackmann', 'olewin', 'kfz_betrieb', 'DOeliger', 'TilmanWinkler', 'mobility_gmbh', 'energisch_', 'robert_we', 'stefan', 'peteraltmaier', 'HeilmannFelix', 'esistrico', 'Koeln', 'arztvongniere', 'frankfeil', 'MediaMarkt_de', 'ReneHesse', 'achisto', 'frankfeil', 'frankfeil', 'ReneHesse', 'kramkr', 'frankfeil', 'frankfeil', 'FlashMueller', 'kramkr', 'Ranzenburg', 'peter_simone', 'Bugspriet', 'deBaer', 'MaulendeMirthe', 'justthore', 'robvegas', 'chorherr', 'MarkusS18532449', 'Karl_Lauterbach', 'SarzioStefan', 'Elektro_Robin', 'log42', '_Henryk', 'mnemo', 'swb_online', 'Moin_EWE', 'nextmove_de', 'NIOGlobal', 'memory0four', 'nextmove_de', 'BotzenMike', 'vwmanufaktur_de', 'VWGroup_DE', 'wdwarncke', 'thorsten_jorg', 'derspiegel', 'Hagen', 'StromschlagYT', 'Mingiam10', 'MSeitl', 'ADAC', 'Hagen', 'StromschlagYT', 'kramkr', 'NorbertRoettger', 'Mobilegeeksde', 'Polizei_Ffm', 'PolizeiMuenchen', 'TylerNDurden', 'MMittermeier', 'MENNEKES_tweets-Ladesäule', 'NorbertRoettger', 'Mobilegeeksde', 'WSWWuppertal', 'thestanceman1', 'igembb', 'electreon1', 'LukTBrand', 'kekek4685438', 'YogicCEO', 'RockwellStefhan', 'nextmove_de', 'IONITY_EU', 'Papabasti85', 'MMittermeier', 'BMW', 'AudiOfficial', 'MMittermeier', 'BMW', 'AudiOfficial', 'MMittermeier', 'kkklawitter', 'BMW', 'AudiOfficial', 'nextmove_de', 'IONITY_EU', 'Sedios1', 'Philip_at_web', 'RealDonDenito', 'SamdneyTweet', 'RonanOrb', 'Hellinvernel', 'VQuaschning', 'BR_Presse', 'Markus_Soeder', 'CSU', 'Rueschkamp,', 'StadtLuenen', 'dirkfroescher', 'nextmove_de', 'NIOGlobal', 'dirkfroescher', 'nextmove_de', 'NIOGlobal', 'JackBauregad', 'VQuaschning', 'AndiScheuer', 'SvenjaSchulze68', 'Dirk_Behrendt', 'sebibrux', 'heiko70', 'Hagen', 'ARDde', 'dieter_over', 'VQuaschning', 'AndiScheuer', 'SvenjaSchulze68', 'nextmove_de', 'NIOGlobal', 'SiHi91', 'VQuaschning', 'AndiScheuer', 'SvenjaSchulze68', 'thebowmen', 'nicoduck', 'PeterWe79565374', 'joergi1963', 'cem_oezdemir', 'cem_oezdemir', 'Liberalalala', 'Leon_Bergmann', 'T4JP4N', 'kkklawitter', 'nextstepmobil', 'BuckN444', 'JanBunnemann', 'KohlmeierSPD', 'dodgecy1', 'solarpapst', 'ChristianOnRE', 'SebastianWetz', 'stang2k', 'Kril_Josef', 'MikeNixda', 'teslamag', 'KoenigHotep', 'Bugspriet', 'HelgeBruhn', 'iMarioR', 'jaayjayAT', '_wfrank', 'StromschlagYT', 'eCaroos', 'HreRudolf', 'welt', 'Markenseologe', 'igt_matti', 'TerliWetter', 'Die_Gruenen', 'TouchBenny', 'BrunsRainer', 'igembb', 'SWagenknecht', 'sboccuzzo', 'maxOLAR1', '_Cap_22', 'thestanceman1', 'a_braxes', 'vogttho', 'kramkr', 'casi242', 'unzensuriert', 'HolgerEwald1', 'Elektro_Robin', 'kkklawitter', 'Titanium70RD', 'OlafStorbeck', 'kkklawitter', 'Titanium70RD', 'OlafStorbeck', 'ghsa7ne', 'WirtschaftNRW', 'bodoloettgen', 'a_pinkwart', 'landnrw', 'IN4climateNRW', 'ghsa7ne', 'Pete_RCH', 'WirtschaftNRW', 'bodoloettgen', 'a_pinkwart', 'landnrw', 'IN4climateNRW', 'ghsa7ne', 'WirtschaftNRW', 'bodoloettgen', 'a_pinkwart', 'landnrw', 'IN4climateNRW', 'WirtschaftNRW', 'bodoloettgen', 'a_pinkwart', 'landnrw', 'IN4climateNRW', 'WienEnergie', 'emobicon', 'lidl', 'Lidl', '_Cap_22', 'igembb', 'SWagenknecht', 'fluepke', 'fluepke', 'fluepke', 'warker', 'spiderbug', 'nblr', 'warker', 'spiderbug', 'DC4LW', 'Polizei_Ffm', 'GuzmuzA', 'frankfeil', 'ReneHesse', 'felixloe', 'EichholtzAlex', 'Kl_Stone', 'ergroovt', 'Luisamneubauer', 'DIW_Berlin', 'CKemfert', 'ReneHesse', 'chstummvoll', 'spdde', 'alexpetring', 'cfrey1977', 'ReneHesse', 'ReneHesse', 'GeorgKonjovic', 'ReneHesse', 'Shell_Germany', 'EnBW', 'electrodocs', 'MannGlory', 'Mo5351', 'KroegerOve', 'focusonline', 'GoogleNews', 'CaptainTesla3', 'electrodocs', 'wolpertinger42', 'electrodocs', 'danielleupi', 'stadtzuerich', 'ewz_energie', 'EKZenergie', 'ladeverbundplus', 'electrodocs', 'kineyDE', 'hausinger_ihk', 'StephanParlow', 'woelpke', 'Elektro_Robin', 'kkklawitter', 'KroegerOve', 'Stefan_Hajek', 'emobility_news', 'emobility_net', 'SlapJackNpNp', 'bu22dee', 'Ein_Thomas_85', 'MartinSonneborn', 'Polizei_Ffm', 'cducsubt', 'CDU', 'spdde', 'Die_Gruenen', 'Steffen32801885', 'AsaSei66', 'EngelmannLydia', 'GPlay97_', 'Ekki161', 'Polizei_Ffm', 'VA5fXVLSgEROKiL', 'Polizei_Ffm', 'DJM4dM4x', 'Polizei_Ffm', 'Roland_84_E', 'gruenewien', 'BirgitHebein', 'VA5fXVLSgEROKiL', 'Polizei_Ffm', 'Polizei_Ffm', 'Polizei_Ffm,', 'Polizei_Ffm', 'Polizei_Ffm', 'Polizei_Ffm', 'blauohrfuchs', 'golem', 'EnBW', 'HeikeRibke', 'heikojakob', 'BMWi_Bund', 'peteraltmaier', 'BAFA_Bund', 'danjol_lupardo', 'Canstatt93', 'Poveretto', 'BMWi_Bund', 'peteraltmaier', 'BAFA_Bund']\n"
     ]
    }
   ],
   "source": [
    "print(mentions_1_flat)"
   ]
  },
  {
   "cell_type": "code",
   "execution_count": 109,
   "id": "8dde06a8",
   "metadata": {},
   "outputs": [],
   "source": [
    "mention_0_occurences = {i:mentions_0_flat.count(i) for i in mentions_0_flat}\n",
    "mention_1_occurences = {i:mentions_1_flat.count(i) for i in mentions_1_flat}\n",
    "mention_2_occurences = {i:mentions_2_flat.count(i) for i in mentions_2_flat}"
   ]
  },
  {
   "cell_type": "code",
   "execution_count": 110,
   "id": "b9e2f49b",
   "metadata": {},
   "outputs": [],
   "source": [
    "mentions_0_df = pd.DataFrame(list(mention_0_occurences.items()), columns = ['Mention','Count'])\n",
    "mentions_1_df = pd.DataFrame(list(mention_1_occurences.items()), columns = ['Mention','Count'])\n",
    "mentions_2_df = pd.DataFrame(list(mention_2_occurences.items()), columns = ['Mention','Count'])"
   ]
  },
  {
   "cell_type": "code",
   "execution_count": 111,
   "id": "05a523a8",
   "metadata": {},
   "outputs": [],
   "source": [
    "sorted_0_df = mentions_0_df.sort_values(by=['Count'], ascending=False)\n",
    "sorted_1_df = mentions_1_df.sort_values(by=['Count'], ascending=False)\n",
    "sorted_2_df = mentions_2_df.sort_values(by=['Count'], ascending=False)\n",
    "\n",
    "sorted_0_df.to_csv(\"topic_0-mention_occurence.csv\")\n",
    "sorted_1_df.to_csv(\"topic_1-mention_occurence.csv\")\n",
    "sorted_2_df.to_csv(\"topic_2-mention_occurence.csv\")"
   ]
  },
  {
   "cell_type": "code",
   "execution_count": 114,
   "id": "528d62de",
   "metadata": {},
   "outputs": [],
   "source": [
    "df_0_10 = sorted_0_df.loc[sorted_0_df['Count'] >= 10]\n",
    "df_1_10 = sorted_1_df.loc[sorted_1_df['Count'] >= 10]\n",
    "df_2_10 = sorted_2_df.loc[sorted_2_df['Count'] >= 10]"
   ]
  },
  {
   "cell_type": "code",
   "execution_count": 118,
   "id": "e5bacae0",
   "metadata": {},
   "outputs": [
    {
     "name": "stdout",
     "output_type": "stream",
     "text": [
      "122\n",
      "BMVI 148\n",
      "Enter user type: Federal Ministry of Transport and Digital Infrastructure\n",
      "kkklawitter 118\n",
      "Enter user type: Book author\n",
      "Elektro_Robin 100\n",
      "Enter user type: Influencer\n",
      "VDA_online 88\n",
      "Enter user type: German Association of the Automotive Industry (VDA)\n",
      "news_nowgmbh 88\n",
      "Enter user type: Company\n",
      "EnBW 86\n",
      "Enter user type: Energy provider\n",
      "Stefan_Hajek 67\n",
      "Enter user type: Author\n",
      "nextmove_de 62\n",
      "Enter user type: YouTube\n",
      "VQuaschning 51\n",
      "Enter user type: Scientist \n",
      "Tesla 50\n",
      "Enter user type: Company\n",
      "bdew_ev 45\n",
      "Enter user type: Energy lobby\n",
      "Die_Gruenen 44\n",
      "Enter user type: Political party\n",
      "Hagen 44\n",
      "Enter user type: Influencer\n",
      "stang2k 44\n",
      "Enter user type: Influencer\n",
      "AndiScheuer 43\n",
      "Enter user type: Politician\n",
      "welt 41\n",
      "Enter user type: News\n",
      "peteraltmaier 40\n",
      "Enter user type: Politician\n",
      "faznet 39\n",
      "Enter user type: News\n",
      "andreasscheuer 34\n",
      "Enter user type: Politician\n",
      "cem_oezdemir 34\n",
      "Enter user type: Politician\n",
      "CKemfert 33\n",
      "Enter user type: Scientist\n",
      "BMWi_Bund 33\n",
      "Enter user type: Federal Ministry of Economics and Technology\n",
      "Knobelsdorff 32\n",
      "Enter user type: Influencer\n",
      "Wissing 32\n",
      "Enter user type: Politician\n",
      "Karl_Lauterbach 31\n",
      "Enter user type: Politician\n",
      "ElectriveNet 31\n",
      "Enter user type: E-News\n",
      "tagesschau 30\n",
      "Enter user type: News\n",
      "thestanceman1 30\n",
      "Enter user type: Influencer\n",
      "zeitonline 29\n",
      "Enter user type: News\n",
      "BMDV_bund 28\n",
      "Enter user type: Federal Ministry of Transport and Digital Infrastructure\n",
      "handelsblatt 27\n",
      "Enter user type: News\n",
      "Fastned 27\n",
      "Enter user type: Infrastructure provider\n",
      "DudenhofferAUTO 26\n",
      "Enter user type: Scientist\n",
      "Herbert_Diess 26\n",
      "Enter user type: Businessman\n",
      "bmu 26\n",
      "Enter user type: The Federal Ministry for the Environment, Nature Conservation, Nuclear Safety and Consumer Protection\n",
      "fdp 25\n",
      "Enter user type: Political party\n",
      "Hamburg397 25\n",
      "Enter user type: Businessman\n",
      "IONITY_EU 24\n",
      "Enter user type: Charging infrastructure provider\n",
      "c_lindner 24\n",
      "Enter user type: Politician\n",
      "DerGraslutscher 23\n",
      "Enter user type: Influencer\n",
      "StromschlagYT 23\n",
      "Enter user type: YouTube\n",
      "KfW 23\n",
      "Enter user type: Government funding\n",
      "AllegoCharging 23\n",
      "Enter user type: Charging infrastructure provider\n",
      "VWGroup 23\n",
      "Enter user type: Company\n",
      "araldeutschland 22\n",
      "Enter user type: Charging infrastructure provider\n",
      "ABaerbock 22\n",
      "Enter user type: Politician\n",
      "ElectriveNet: 22\n",
      "Enter user type: E-News\n",
      "derspiegel 21\n",
      "Enter user type: News\n",
      "janusPrime 21\n",
      "Enter user type: Influencer\n",
      "eautonews 21\n",
      "Enter user type: E-News\n",
      "OlafScholz 21\n",
      "Enter user type: Politicians\n",
      "RheinEnergie 21\n",
      "Enter user type: Charging infrastructure provider\n",
      "technikjuli 20\n",
      "Enter user type: Influencer\n",
      "frankfeil 20\n",
      "Enter user type: Influencer\n",
      "elonmusk 20\n",
      "Enter user type: Businessman\n",
      "RedaktionNews 20\n",
      "Enter user type: News\n",
      "Naturschuetzen 19\n",
      "Enter user type: Influencer\n",
      "Mingiam10 19\n",
      "Enter user type: Influencer\n",
      "golem 19\n",
      "Enter user type: News\n",
      "RL_Institut 19\n",
      "Enter user type: Scientific Organization\n",
      "t3n 19\n",
      "Enter user type: News\n",
      "VWGroup_DE 17\n",
      "Enter user type: Company\n",
      "cducsubt 17\n",
      "Enter user type: Political party\n",
      "EON_de 17\n",
      "Enter user type: Charging infrastructure provider\n",
      "SZ 17\n",
      "Enter user type: News\n",
      "ADAC 16\n",
      "Enter user type: Automotive club\n",
      "Luisamneubauer 16\n",
      "Enter user type: Influencer\n",
      "_tho_ 16\n",
      "Enter user type: -\n",
      "ArminLaschet 15\n",
      "Enter user type: Politician\n",
      "Markus_Soeder 15\n",
      "Enter user type: Politician\n",
      "technikblog_ch 15\n",
      "Enter user type: Influencer\n",
      "wiwo 15\n",
      "Enter user type: News\n",
      "AudiOfficial 15\n",
      "Enter user type: Company\n",
      "elektrokarre 15\n",
      "Enter user type: Influencer\n",
      "markusdd5 14\n",
      "Enter user type: Influencer\n",
      "GeorgKonjovic 14\n",
      "Enter user type: Businessman\n",
      "volkswagen 14\n",
      "Enter user type: Company\n",
      "Oliver_Krischer 14\n",
      "Enter user type: Politician\n",
      "YouTube 14\n",
      "Enter user type: Company\n",
      "Vattenfall_De 14\n",
      "Enter user type: Charging infrastructure provider\n",
      "N_Heisterhagen 14\n",
      "Enter user type: Influencer\n",
      "c_schwarzer 14\n",
      "Enter user type: E-Journalist\n",
      "MMittermeier 13\n",
      "Enter user type: Actor\n",
      "spdbt 13\n",
      "Enter user type: Political party\n",
      "CMDRArchadder 13\n",
      "Enter user type: -\n",
      "BMWK 13\n",
      "Enter user type: Federal Ministry of Economics and Technology\n",
      "ZDFheute 13\n",
      "Enter user type: News\n",
      "Shell_Germany 13\n",
      "Enter user type: Charging infrastructure provider\n",
      "eMObilityBerlin 12\n",
      "Enter user type: Company\n",
      "Touni 12\n",
      "Enter user type: Influencer\n",
      "TilmanWinkler 12\n",
      "Enter user type: Influencer\n",
      "HalleVerkehrt 12\n",
      "Enter user type: Influencer\n",
      "twittlik 12\n",
      "Enter user type: Influencer\n",
      "agoraverkehr 12\n",
      "Enter user type: Social initiative\n",
      "Koeln 12\n",
      "Enter user type: City\n",
      "igembb 11\n",
      "Enter user type: -\n",
      "parents4future 11\n",
      "Enter user type: Social initiative\n",
      "simonimous 11\n",
      "Enter user type: Influencer\n",
      "FabianLaasch 11\n",
      "Enter user type: Businessman\n",
      "GerdKebschull 11\n",
      "Enter user type: Journalist\n",
      "SenWiEnBe 11\n",
      "Enter user type: State institution\n",
      "ubitricity 11\n",
      "Enter user type: Charging infrastructure provider\n",
      "HolzheuStefan 11\n",
      "Enter user type: Scientist\n",
      "Storch_i 10\n",
      "Enter user type: Influencer\n",
      "ChristophBeisl1 10\n",
      "Enter user type: -\n",
      "KerstinAndreae 10\n",
      "Enter user type: State institution representative\n",
      "DIN_Norm 10\n",
      "Enter user type: Standardization organization\n",
      "ecomento_de 10\n",
      "Enter user type: E-News\n",
      "spdde 10\n",
      "Enter user type: Political Party\n",
      "GdWWohnen 10\n",
      "Enter user type: Social initiative\n",
      "ZVEIorg 10\n",
      "Enter user type: Lobby\n",
      "GernotDreher 10\n",
      "Enter user type: Influencer\n",
      "wdwarncke 10\n",
      "Enter user type: Businessman\n",
      "verkehrswendeb2 10\n",
      "Enter user type: Influencer\n",
      "sixtus 10\n",
      "Enter user type: Author\n",
      "RamonaPop 10\n",
      "Enter user type: Politician\n",
      "CSU 10\n",
      "Enter user type: Political party\n",
      "volkswagen_de 10\n",
      "Enter user type: Company\n",
      "M_Hundhausen 10\n",
      "Enter user type: Scientist\n",
      "_Cap_22 10\n",
      "Enter user type: -\n",
      "VKUonline 10\n",
      "Enter user type: Lobby\n",
      "NetzeBW 10\n",
      "Enter user type: Energy provider\n"
     ]
    }
   ],
   "source": [
    "print(len(df_0_10))\n",
    "df_0_user = []\n",
    "for index, row in df_0_10.iterrows():\n",
    "    print(row['Mention'], row['Count'])\n",
    "    user_type = input(\"Enter user type: \")\n",
    "    df_0_user.append(user_type)"
   ]
  },
  {
   "cell_type": "code",
   "execution_count": 119,
   "id": "0dfa52f3",
   "metadata": {},
   "outputs": [
    {
     "name": "stdout",
     "output_type": "stream",
     "text": [
      "['Federal Ministry of Transport and Digital Infrastructure', 'Book author', 'Influencer', 'German Association of the Automotive Industry (VDA)', 'Company', 'Energy provider', 'Author', 'YouTube', 'Scientist ', 'Company', 'Energy lobby', 'Political party', 'Influencer', 'Influencer', 'Politician', 'News', 'Politician', 'News', 'Politician', 'Politician', 'Scientist', 'Federal Ministry of Economics and Technology', 'Influencer', 'Politician', 'Politician', 'E-News', 'News', 'Influencer', 'News', 'Federal Ministry of Transport and Digital Infrastructure', 'News', 'Infrastructure provider', 'Scientist', 'Businessman', 'The Federal Ministry for the Environment, Nature Conservation, Nuclear Safety and Consumer Protection', 'Political party', 'Businessman', 'Charging infrastructure provider', 'Politician', 'Influencer', 'YouTube', 'Government funding', 'Charging infrastructure provider', 'Company', 'Charging infrastructure provider', 'Politician', 'E-News', 'News', 'Influencer', 'E-News', 'Politicians', 'Charging infrastructure provider', 'Influencer', 'Influencer', 'Businessman', 'News', 'Influencer', 'Influencer', 'News', 'Scientific Organization', 'News', 'Company', 'Political party', 'Charging infrastructure provider', 'News', 'Automotive club', 'Influencer', '-', 'Politician', 'Politician', 'Influencer', 'News', 'Company', 'Influencer', 'Influencer', 'Businessman', 'Company', 'Politician', 'Company', 'Charging infrastructure provider', 'Influencer', 'E-Journalist', 'Actor', 'Political party', '-', 'Federal Ministry of Economics and Technology', 'News', 'Charging infrastructure provider', 'Company', 'Influencer', 'Influencer', 'Influencer', 'Influencer', 'Social initiative', 'City', '-', 'Social initiative', 'Influencer', 'Businessman', 'Journalist', 'State institution', 'Charging infrastructure provider', 'Scientist', 'Influencer', '-', 'State institution representative', 'Standardization organization', 'E-News', 'Political Party', 'Social initiative', 'Lobby', 'Influencer', 'Businessman', 'Influencer', 'Author', 'Politician', 'Political party', 'Company', 'Scientist', '-', 'Lobby', 'Energy provider']\n"
     ]
    }
   ],
   "source": [
    "print(df_0_user)"
   ]
  },
  {
   "cell_type": "code",
   "execution_count": 120,
   "id": "f757da85",
   "metadata": {},
   "outputs": [
    {
     "name": "stdout",
     "output_type": "stream",
     "text": [
      "            Mention  Count                                          user_type\n",
      "1181           BMVI    148  Federal Ministry of Transport and Digital Infr...\n",
      "0       kkklawitter    118                                        Book author\n",
      "35    Elektro_Robin    100                                         Influencer\n",
      "117      VDA_online     88  German Association of the Automotive Industry ...\n",
      "71     news_nowgmbh     88                                            Company\n",
      "...             ...    ...                                                ...\n",
      "2284  volkswagen_de     10                                            Company\n",
      "424    M_Hundhausen     10                                          Scientist\n",
      "3668        _Cap_22     10                                                  -\n",
      "855       VKUonline     10                                              Lobby\n",
      "1105        NetzeBW     10                                    Energy provider\n",
      "\n",
      "[122 rows x 3 columns]\n"
     ]
    },
    {
     "name": "stderr",
     "output_type": "stream",
     "text": [
      "C:\\Users\\fabia\\AppData\\Local\\Temp\\ipykernel_4864\\1919425395.py:1: SettingWithCopyWarning: \n",
      "A value is trying to be set on a copy of a slice from a DataFrame.\n",
      "Try using .loc[row_indexer,col_indexer] = value instead\n",
      "\n",
      "See the caveats in the documentation: https://pandas.pydata.org/pandas-docs/stable/user_guide/indexing.html#returning-a-view-versus-a-copy\n",
      "  df_0_10['user_type'] = df_0_user\n"
     ]
    }
   ],
   "source": [
    "df_0_10['user_type'] = df_0_user\n",
    "\n",
    "print(df_0_10)"
   ]
  },
  {
   "cell_type": "code",
   "execution_count": 131,
   "id": "89fbbd09",
   "metadata": {},
   "outputs": [],
   "source": [
    "df_0_10.to_csv('topic_0-with_user_type.csv', index=False)"
   ]
  },
  {
   "cell_type": "code",
   "execution_count": 126,
   "id": "92a8bafc",
   "metadata": {},
   "outputs": [
    {
     "name": "stdout",
     "output_type": "stream",
     "text": [
      "Elektro_Robin 318\n",
      "Enter user type: Influencer\n",
      "kkklawitter 290\n",
      "Enter user type: Author\n",
      "EnBW 225\n",
      "Enter user type: Charging infrastructure provider\n",
      "nextmove_de 206\n",
      "Enter user type: Charging infrastructure provider\n",
      "thestanceman1 157\n",
      "Enter user type: Influencer\n",
      "Stefan_Hajek 146\n",
      "Enter user type: Author\n",
      "Hagen 143\n",
      "Enter user type: E-News\n",
      "stang2k 140\n",
      "Enter user type: Influencer\n",
      "VQuaschning 127\n",
      "Enter user type: Scientist\n",
      "tagesschau 122\n",
      "Enter user type: News\n",
      "janusPrime 115\n",
      "Enter user type: Influencer\n",
      "Mingiam10 99\n",
      "Enter user type: Influencer\n",
      "frankfeil 95\n",
      "Enter user type: Businessman\n",
      "CMDRArchadder 91\n",
      "Enter user type: -\n",
      "Tesla 90\n",
      "Enter user type: Company\n",
      "ABaerbock 78\n",
      "Enter user type: Politician\n",
      "FabianLaasch 77\n",
      "Enter user type: Businessman\n",
      "Karl_Lauterbach 76\n",
      "Enter user type: Politician\n",
      "_Cap_22 69\n",
      "Enter user type: -\n",
      "welt 67\n",
      "Enter user type: News\n",
      "volkswagen 67\n",
      "Enter user type: Company\n",
      "HerrPhteven 67\n",
      "Enter user type: Influencer\n",
      "technikjuli 63\n",
      "Enter user type: Influencer\n",
      "Die_Gruenen 63\n",
      "Enter user type: Political party\n",
      "derspiegel 62\n",
      "Enter user type: News\n",
      "StromschlagYT 59\n",
      "Enter user type: YouTube\n",
      "cem_oezdemir 57\n",
      "Enter user type: Politician\n",
      "M_Hundhausen 57\n",
      "Enter user type: Scientist\n",
      "IONITY_EU 57\n",
      "Enter user type: Charging infrastructure provider\n",
      "VDA_online 56\n",
      "Enter user type: German Association of the Automotive Industry (VDA)\n",
      "Naturschuetzen 55\n",
      "Enter user type: Influencer\n",
      "fdp 55\n",
      "Enter user type: Political party\n",
      "Hamburg397 51\n",
      "Enter user type: Businessman\n",
      "DerGraslutscher 51\n",
      "Enter user type: Influencer\n",
      "andreasscheuer 50\n",
      "Enter user type: Politician\n",
      "OlafScholz 48\n",
      "Enter user type: Politician\n",
      "c_lindner 48\n",
      "Enter user type: Politician\n",
      "zeitonline 46\n",
      "Enter user type: News\n",
      "Herbert_Diess 46\n",
      "Enter user type: Businessman\n",
      "electrodocs 45\n",
      "Enter user type: Influencer\n",
      "VWGroup 44\n",
      "Enter user type: Company\n",
      "Wissing 44\n",
      "Enter user type: Politician\n",
      "wdwarncke 43\n",
      "Enter user type: Businessman\n",
      "araldeutschland 41\n",
      "Enter user type: Charging infrastructure provider\n",
      "polenz_r 41\n",
      "Enter user type: Politician\n",
      "BMWi_Bund 41\n",
      "Enter user type: Federal Ministry of Economics and Technology\n",
      "technikblog_ch 40\n",
      "Enter user type: Influencer\n",
      "KathaSchulze 39\n",
      "Enter user type: Politician\n",
      "_tho_ 39\n",
      "Enter user type: -\n",
      "SZ 38\n",
      "Enter user type: News\n",
      "TilmanWinkler 38\n",
      "Enter user type: Influencer\n",
      "markusdd5 37\n",
      "Enter user type: Influencer\n",
      "c_schwarzer 37\n",
      "Enter user type: E-Journalist\n",
      "MineCooky 37\n",
      "Enter user type: Influencer\n",
      "ADAC 37\n",
      "Enter user type: Automotive club\n",
      "AndiScheuer 36\n",
      "Enter user type: Politician\n",
      "RealDonDenito 36\n",
      "Enter user type: Influencer\n",
      "HalleVerkehrt 36\n",
      "Enter user type: Influencer\n",
      "planwerk 35\n",
      "Enter user type: Businessman\n",
      "ArminLaschet 35\n",
      "Enter user type: Politician\n",
      "Schrottie 35\n",
      "Enter user type: Influencer\n",
      "CKemfert 33\n",
      "Enter user type: Scientist\n",
      "DudenhofferAUTO 33\n",
      "Enter user type: Scientist\n",
      "peteraltmaier 33\n",
      "Enter user type: Politician\n",
      "ZDFheute 33\n",
      "Enter user type: News\n",
      "CptKrustenkaese 32\n",
      "Enter user type: Influencer\n",
      "verkehrswendeb2 32\n",
      "Enter user type: Influencer\n",
      "umrath 31\n",
      "Enter user type: Influencer\n",
      "BMVI 31\n",
      "Enter user type: Federal Ministry of Transport and Digital Infrastructure\n",
      "Luisamneubauer 31\n",
      "Enter user type: Influencer\n",
      "GernotDreher 30\n",
      "Enter user type: Influencer\n",
      "janboehm 30\n",
      "Enter user type: Influencer\n",
      "AllegoCharging 29\n",
      "Enter user type: Charging infrastructure provider\n",
      "GeorgKonjovic 29\n",
      "Enter user type: Businessman\n",
      "Fastned 29\n",
      "Enter user type: Charging infrastructure provider\n",
      "handelsblatt 29\n",
      "Enter user type: News\n",
      "martineberle 29\n",
      "Enter user type: Politician\n",
      "MMittermeier 29\n",
      "Enter user type: Actor\n",
      "ZoePionierin 28\n",
      "Enter user type: Social initiative\n",
      "twittlik 28\n",
      "Enter user type: Influencer\n",
      "GillyBerlin 28\n",
      "Enter user type: Influencer\n",
      "JVos63 27\n",
      "Enter user type: Author\n",
      "simonimous 27\n",
      "Enter user type: Influencer\n",
      "EON_de 27\n",
      "Enter user type: Charging infrastructure provider\n",
      "BILD 27\n",
      "Enter user type: News\n",
      "MercedesBenz_DE 27\n",
      "Enter user type: Company\n",
      "ChristophBeisl1 27\n",
      "Enter user type: -\n",
      "kaufland 27\n",
      "Enter user type: Company\n",
      "RobertBoni6 26\n",
      "Enter user type: Influencer\n",
      "Markus_Soeder 26\n",
      "Enter user type: Politician\n",
      "TomFragt 26\n",
      "Enter user type: Influencer\n",
      "HolzheuStefan 26\n",
      "Enter user type: Scientist\n",
      "VeroWendland 25\n",
      "Enter user type: Influencer\n",
      "GerdKebschull 24\n",
      "Enter user type: Influencer\n",
      "CoalDead 24\n",
      "Enter user type: Influencer\n",
      "Porsche 24\n",
      "Enter user type: Company\n",
      "MaingauEnergie 24\n",
      "Enter user type: Charging infrastructure provider \n",
      "elonmusk 24\n",
      "Enter user type: Businessman \n",
      "heiseonline 24\n",
      "Enter user type: News\n",
      "Storch_i 23\n",
      "Enter user type: Influencer\n",
      "greenpeace_de 23\n",
      "Enter user type: Social initiative\n",
      "MarieDMeier 23\n",
      "Enter user type: Influencer\n",
      "CSU 23\n",
      "Enter user type: Political party\n",
      "MoormannRainer 23\n",
      "Enter user type: Scientist\n",
      "MarkusHoeher 22\n",
      "Enter user type: Influencer\n",
      "BMWK 22\n",
      "Enter user type: Federal Ministry of Economics and Technology\n",
      "faznet 22\n",
      "Enter user type: News\n",
      "YouTube 22\n",
      "Enter user type: company\n",
      "_mtiemann 22\n",
      "Enter user type: Influencer\n",
      "ElectriveNet 21\n",
      "Enter user type: E-News\n",
      "sixtus 21\n",
      "Enter user type: Author\n",
      "the_new_Toni85 21\n",
      "Enter user type: Influencer\n",
      "florianaigner 21\n",
      "Enter user type: Author\n",
      "Touni 21\n",
      "Enter user type: Influencer\n",
      "Tagesspiegel 21\n",
      "Enter user type: News\n",
      "peter_simone 20\n",
      "Enter user type: Scientist\n",
      "WeShare_DE 20\n",
      "Enter user type: Company\n",
      "djbeetee 20\n",
      "Enter user type: Influencer\n",
      "sepp_reitberger 20\n",
      "Enter user type: Journalist\n",
      "i_am_apriliaa 20\n",
      "Enter user type: Influencer\n",
      "anwaltsgelaber 20\n",
      "Enter user type: Company\n",
      "CDU 20\n",
      "Enter user type: Political party\n",
      "RheinEnergie 20\n",
      "Enter user type: Charging infrastructure provider\n",
      "DerClue 20\n",
      "Enter user type: Influencer\n",
      "davepermen 20\n",
      "Enter user type: Influencer\n",
      "TouchBenny 20\n",
      "Enter user type: YouTube\n",
      "MaddyQuerulator 19\n",
      "Enter user type: Influencer\n",
      "spahn_thomas 19\n",
      "Enter user type: Journalist\n",
      "jxn_simp 19\n",
      "Enter user type: Politician\n",
      "FridayForFuture 19\n",
      "Enter user type: Social initiative\n",
      "razerrath 19\n",
      "Enter user type: Journalist\n",
      "OliverHeim 18\n",
      "Enter user type: Influencer\n",
      "elektrokarre 18\n",
      "Enter user type: Influencer\n",
      "s04paps 18\n",
      "Enter user type: Influencer\n",
      "_FriedrichMerz 18\n",
      "Enter user type: Politician\n",
      "FeynmansMethod 18\n",
      "Enter user type: Scientist\n",
      "SenUVKBerlin 18\n",
      "Enter user type: State institution\n",
      "wiwo 18\n",
      "Enter user type: News\n",
      "Kosmopolit7 17\n",
      "Enter user type: Influencer\n",
      "KroegerOve 17\n",
      "Enter user type: YouTube\n",
      "englisch98 17\n",
      "Enter user type: Influencer\n",
      "sascha_p 17\n",
      "Enter user type: Journalist\n",
      "ladefuchs 17\n",
      "Enter user type: Company\n",
      "nikitheblogger 17\n",
      "Enter user type: YouTube\n",
      "BMW 17\n",
      "Enter user type: Company\n",
      "LenzGrimmer 17\n",
      "Enter user type: Influencer\n",
      "SchaferCorinna 17\n",
      "Enter user type: Influencer\n",
      "a_braxes 17\n",
      "Enter user type: Influencer\n",
      "BlakesWort 17\n",
      "Enter user type: Influencer\n",
      "kramkr 16\n",
      "Enter user type: Businessman\n",
      "TerliWetter 16\n",
      "Enter user type: Journalist\n",
      "real_mos 16\n",
      "Enter user type: Influencer\n",
      "_MaxDev_ 16\n",
      "Enter user type: Influencer\n",
      "Rainer_Klute 16\n",
      "Enter user type: Influencer\n",
      "eautonews 16\n",
      "Enter user type: E-News\n",
      "Koeln 16\n",
      "Enter user type: City\n",
      "heuteshow 16\n",
      "Enter user type: News\n",
      "BMDV_bund 16\n",
      "Enter user type: Federal Ministry of Transport and Digital Infrastructure\n",
      "cooliopenguin 16\n",
      "Enter user type: Influencer\n",
      "FischwaffeI 16\n",
      "Enter user type: Influencer\n",
      "lidl 16\n",
      "Enter user type: Company \n",
      "golem 15\n",
      "Enter user type: News\n",
      "Berndte3 15\n",
      "Enter user type: Influencer\n",
      "MonikaHerrmann1 15\n",
      "Enter user type: Influencer\n",
      "elemob_de 15\n",
      "Enter user type: Influencer\n",
      "GenerationStrom 15\n",
      "Enter user type: Journalist\n",
      "SilvaAtTwitta 15\n",
      "Enter user type: Influencer\n",
      "nextstepmobil 15\n",
      "Enter user type: Charging infrastructure provider\n",
      "tschelle 15\n",
      "Enter user type: -\n",
      "SimeonPreuss 15\n",
      "Enter user type: YouTube\n",
      "pjanik_otm 15\n",
      "Enter user type: Influencer\n",
      "Balelt41 15\n",
      "Enter user type: Influencer\n",
      "solarpapst 15\n",
      "Enter user type: Scientist\n",
      "dw_wirtschaft 15\n",
      "Enter user type: News\n",
      "mastafotygo 15\n",
      "Enter user type: Influencer\n",
      "Stvedie 15\n",
      "Enter user type: Influencer\n",
      "HerrRain 15\n",
      "Enter user type: Influencer\n",
      "igembb 15\n",
      "Enter user type: -\n",
      "agentsinaction 15\n",
      "Enter user type: Influencer\n",
      "SteveFi04457564 14\n",
      "Enter user type: Influencer\n",
      "cihansugur 14\n",
      "Enter user type: Influencer\n",
      "VCDeV 14\n",
      "Enter user type: Social initiative\n",
      "fwieschollek 14\n",
      "Enter user type: Scientist\n",
      "t3n 14\n",
      "Enter user type: News\n",
      "TichysEinblick 14\n",
      "Enter user type: News\n",
      "MarcMath5 14\n",
      "Enter user type: Influencer\n",
      "SixtDE 14\n",
      "Enter user type: Company\n",
      "_donalphonso 14\n",
      "Enter user type: Journalist\n",
      "AndreasMemmer 14\n",
      "Enter user type: Influencer\n",
      "kindofmagic4u 14\n"
     ]
    },
    {
     "name": "stdout",
     "output_type": "stream",
     "text": [
      "Enter user type: Influencer\n",
      "DOeliger 14\n",
      "Enter user type: Influencer\n",
      "stekkerauto 14\n",
      "Enter user type: Influencer\n",
      "Sedios1 14\n",
      "Enter user type: Influencer\n",
      "DerWirkungsgrad 14\n",
      "Enter user type: Influencer\n",
      "bmu 14\n",
      "Enter user type: The Federal Ministry for the Environment, Nature Conservation, Nuclear Safety and Consumer Protection\n",
      "DerNicoA 13\n",
      "Enter user type: Influencer\n",
      "Nuklearia 13\n",
      "Enter user type: Influencer\n",
      "SWM_Muenchen 13\n",
      "Enter user type: Charging infrastructure provider\n",
      "bdew_ev 13\n",
      "Enter user type: Energy lobby\n",
      "Umwelthilfe 13\n",
      "Enter user type: Social initiative\n",
      "Shell_Germany 13\n",
      "Enter user type: Charging infrastructure provider\n",
      "Alexand23573402 13\n",
      "Enter user type: Influencer\n",
      "ThorstenRinne 13\n",
      "Enter user type: Influencer\n",
      "HShumanist 13\n",
      "Enter user type: Politician\n",
      "Schwunkvoll 13\n",
      "Enter user type: YouTube\n",
      "CleanElectrCast 13\n",
      "Enter user type: Influencer\n",
      "timohetzel 13\n",
      "Enter user type: Influencer\n",
      "WienEnergie 13\n",
      "Enter user type: Charging infrastructure provider\n",
      "PeugeotDE 13\n",
      "Enter user type: Company \n",
      "HerrmannPierre 13\n",
      "Enter user type: Influencer\n",
      "emobly 13\n",
      "Enter user type: E-News\n",
      "EV_Stevee 13\n",
      "Enter user type: Influencer\n",
      "ShareNow_global 13\n",
      "Enter user type: Company\n",
      "ntvde 13\n",
      "Enter user type: News\n",
      "innogy_emob 13\n",
      "Enter user type: Charging infrastructure provider\n",
      "teslamag 13\n",
      "Enter user type: News\n",
      "micha_bloss 13\n",
      "Enter user type: Politician\n",
      "Daimler 13\n",
      "Enter user type: Company\n",
      "energy_charts_d 13\n",
      "Enter user type: Scientist\n",
      "erzaehlmirnix 13\n",
      "Enter user type: Influencer\n",
      "vwschweiz 13\n",
      "Enter user type: Company\n",
      "VWGroup_DE 13\n",
      "Enter user type: Company\n",
      "spdbt 13\n",
      "Enter user type: Political party\n",
      "Toyota_DE 13\n",
      "Enter user type: Company\n",
      "OliverHaas19 13\n",
      "Enter user type: Political party\n",
      "JuleStinkesocke 13\n",
      "Enter user type: Influencer\n",
      "ennolenze 13\n",
      "Enter user type: Influencer\n",
      "RenaultDE 12\n",
      "Enter user type: Company\n",
      "_Kittypunk 12\n",
      "Enter user type: Influencer\n",
      "Michael56986218 12\n",
      "Enter user type: Influencer\n",
      "Oliver_Krischer 12\n",
      "Enter user type: Politician\n",
      "acv_de 12\n",
      "Enter user type: Automotive club\n",
      "jcfrick 12\n",
      "Enter user type: Journalist\n",
      "ulfposh 12\n",
      "Enter user type: Journalist\n",
      "Iceskiff_Limeoh 12\n",
      "Enter user type: Influencer\n",
      "AudiOfficial 12\n",
      "Enter user type: Company\n",
      "systemstig 12\n",
      "Enter user type: Influencer\n",
      "Werdet_Gesund 12\n",
      "Enter user type: Influencer\n",
      "DerOetzmann 12\n",
      "Enter user type: Influencer\n",
      "schlingel 12\n",
      "Enter user type: Influencer\n",
      "frank_thelen 12\n",
      "Enter user type: Businessman\n",
      "mbvans 12\n",
      "Enter user type: Company\n",
      "___n2k1 12\n",
      "Enter user type: Influencer\n",
      "news_nowgmbh 12\n",
      "Enter user type: Company\n",
      "HIThomasFranke 12\n",
      "Enter user type: Scientist\n",
      "alextv 12\n",
      "Enter user type: YouTube\n",
      "BrunsRainer 12\n",
      "Enter user type: Influencer\n",
      "germanenginee10 12\n",
      "Enter user type: -\n",
      "radiermann 12\n",
      "Enter user type: Journalist\n",
      "Werktaetiger_ 12\n",
      "Enter user type: Influencer\n",
      "LukTBrand 12\n",
      "Enter user type: Influencer\n",
      "tomueko 11\n",
      "Enter user type: Influencer\n",
      "lgewessler 11\n",
      "Enter user type: Politician\n",
      "Polizei_Ffm 11\n",
      "Enter user type: Police Frankfurt\n",
      "IngmarStadelman 11\n",
      "Enter user type: Influencer\n",
      "urwumpe 11\n",
      "Enter user type: Influencer\n",
      "SonoMotors 11\n",
      "Enter user type: Company\n",
      "mrcockpit 11\n",
      "Enter user type: Influencer\n",
      "Klima_Mahner 11\n",
      "Enter user type: Influencer\n",
      "Gert_Woellmann 11\n",
      "Enter user type: Politician\n",
      "GrueneBundestag 11\n",
      "Enter user type: Political party\n",
      "drumheadberlin 11\n",
      "Enter user type: Journalist\n",
      "Bettina_Jarasch 11\n",
      "Enter user type: Politician\n",
      "LosWochos 11\n",
      "Enter user type: -\n",
      "Juergen_Kaiser 11\n",
      "Enter user type: Influencer\n",
      "OpelDE 11\n",
      "Enter user type: Company\n",
      "MarcusWadsak 11\n",
      "Enter user type: Influencer\n",
      "ecomento_de 11\n",
      "Enter user type: E-News\n",
      "IngoHeinscher 11\n",
      "Enter user type: Author\n",
      "frischfuettern 11\n",
      "Enter user type: Influencer \n",
      "xileffff 11\n",
      "Enter user type: Journalist\n",
      "EAutoPionier 11\n",
      "Enter user type: Influencer\n",
      "philippvetter 11\n",
      "Enter user type: Journalist\n",
      "N_Schmid 11\n",
      "Enter user type: Businessman\n",
      "rosenbaumg0 10\n",
      "Enter user type: Influencer \n",
      "Marius_Raabe 10\n",
      "Enter user type: Influencer\n",
      "RuisingerR 10\n",
      "Enter user type: Influencer\n",
      "N_Heisterhagen 10\n",
      "Enter user type: Influencer\n",
      "franzalt 10\n",
      "Enter user type: E-News\n",
      "RegineGuenther 10\n",
      "Enter user type: Politician\n",
      "ardmoma 10\n",
      "Enter user type: News\n",
      "ReneHesse 10\n",
      "Enter user type: Influencer\n",
      "WernerderChamp 10\n",
      "Enter user type: Influencer\n",
      "SoerenLorensen 10\n",
      "Enter user type: Influencer\n",
      "tuedelkopp 10\n",
      "Enter user type: Influencer\n",
      "micha06de 10\n",
      "Enter user type: Influencer\n",
      "SebastianWetz 10\n",
      "Enter user type: Influencer\n",
      "doktorhulk 10\n",
      "Enter user type: Influencer\n",
      "HJFell 10\n",
      "Enter user type: Social initiative\n",
      "KurtHuwig 10\n",
      "Enter user type: Influencer\n",
      "spdde 10\n",
      "Enter user type: Political party\n",
      "hccd007 10\n",
      "Enter user type: Influencer\n",
      "Hornschild 10\n",
      "Enter user type: Politician\n",
      "ZDF 10\n",
      "Enter user type: News\n",
      "parents4future 10\n",
      "Enter user type: Social initiative\n",
      "DieroteZora3 10\n",
      "Enter user type: Influencer\n",
      "heiseautos 10\n",
      "Enter user type: News\n",
      "Ottostadt 10\n",
      "Enter user type: City\n",
      "AstroSven 10\n",
      "Enter user type: -\n",
      "Labonitamascota 10\n",
      "Enter user type: Influencer\n",
      "ReichelJonas 10\n",
      "Enter user type: Politician\n",
      "olewin 10\n",
      "Enter user type: Scientist\n",
      "DonDahlmann 10\n",
      "Enter user type: Author\n",
      "felixba 10\n",
      "Enter user type: YouTube\n",
      "_HelloPunk 10\n",
      "Enter user type: -\n",
      "electricfelix 10\n",
      "Enter user type: YouTube\n",
      "VBruttel 10\n",
      "Enter user type: Scientist\n",
      "PolizeiMuenchen 10\n",
      "Enter user type: Police munich\n",
      "Joerg_Meuthen 10\n",
      "Enter user type: Politician\n",
      "radkolumne 10\n",
      "Enter user type: Social initiative\n",
      "alwayssimifuzi 10\n",
      "Enter user type: Influencer\n",
      "vzbv 10\n",
      "Enter user type: Consumer center\n",
      "wegeheld 10\n",
      "Enter user type: Influencer\n",
      "ChristianOnRE 10\n",
      "Enter user type: Scientist\n"
     ]
    }
   ],
   "source": [
    "df_1_user = []\n",
    "for index, row in df_1_10.iterrows():\n",
    "    print(row['Mention'], row['Count'])\n",
    "    user_type = input(\"Enter user type: \")\n",
    "    df_1_user.append(user_type)"
   ]
  },
  {
   "cell_type": "code",
   "execution_count": 127,
   "id": "012f9d08",
   "metadata": {},
   "outputs": [
    {
     "name": "stdout",
     "output_type": "stream",
     "text": [
      "['Influencer', 'Author', 'Charging infrastructure provider', 'Charging infrastructure provider', 'Influencer', 'Author', 'E-News', 'Influencer', 'Scientist', 'News', 'Influencer', 'Influencer', 'Businessman', '-', 'Company', 'Politician', 'Businessman', 'Politician', '-', 'News', 'Company', 'Influencer', 'Influencer', 'Political party', 'News', 'YouTube', 'Politician', 'Scientist', 'Charging infrastructure provider', 'German Association of the Automotive Industry (VDA)', 'Influencer', 'Political party', 'Businessman', 'Influencer', 'Politician', 'Politician', 'Politician', 'News', 'Businessman', 'Influencer', 'Company', 'Politician', 'Businessman', 'Charging infrastructure provider', 'Politician', 'Federal Ministry of Economics and Technology', 'Influencer', 'Politician', '-', 'News', 'Influencer', 'Influencer', 'E-Journalist', 'Influencer', 'Automotive club', 'Politician', 'Influencer', 'Influencer', 'Businessman', 'Politician', 'Influencer', 'Scientist', 'Scientist', 'Politician', 'News', 'Influencer', 'Influencer', 'Influencer', 'Federal Ministry of Transport and Digital Infrastructure', 'Influencer', 'Influencer', 'Influencer', 'Charging infrastructure provider', 'Businessman', 'Charging infrastructure provider', 'News', 'Politician', 'Actor', 'Social initiative', 'Influencer', 'Influencer', 'Author', 'Influencer', 'Charging infrastructure provider', 'News', 'Company', '-', 'Company', 'Influencer', 'Politician', 'Influencer', 'Scientist', 'Influencer', 'Influencer', 'Influencer', 'Company', 'Charging infrastructure provider ', 'Businessman ', 'News', 'Influencer', 'Social initiative', 'Influencer', 'Political party', 'Scientist', 'Influencer', 'Federal Ministry of Economics and Technology', 'News', 'company', 'Influencer', 'E-News', 'Author', 'Influencer', 'Author', 'Influencer', 'News', 'Scientist', 'Company', 'Influencer', 'Journalist', 'Influencer', 'Company', 'Political party', 'Charging infrastructure provider', 'Influencer', 'Influencer', 'YouTube', 'Influencer', 'Journalist', 'Politician', 'Social initiative', 'Journalist', 'Influencer', 'Influencer', 'Influencer', 'Politician', 'Scientist', 'State institution', 'News', 'Influencer', 'YouTube', 'Influencer', 'Journalist', 'Company', 'YouTube', 'Company', 'Influencer', 'Influencer', 'Influencer', 'Influencer', 'Businessman', 'Journalist', 'Influencer', 'Influencer', 'Influencer', 'E-News', 'City', 'News', 'Federal Ministry of Transport and Digital Infrastructure', 'Influencer', 'Influencer', 'Company ', 'News', 'Influencer', 'Influencer', 'Influencer', 'Journalist', 'Influencer', 'Charging infrastructure provider', '-', 'YouTube', 'Influencer', 'Influencer', 'Scientist', 'News', 'Influencer', 'Influencer', 'Influencer', '-', 'Influencer', 'Influencer', 'Influencer', 'Social initiative', 'Scientist', 'News', 'News', 'Influencer', 'Company', 'Journalist', 'Influencer', 'Influencer', 'Influencer', 'Influencer', 'Influencer', 'Influencer', 'The Federal Ministry for the Environment, Nature Conservation, Nuclear Safety and Consumer Protection', 'Influencer', 'Influencer', 'Charging infrastructure provider', 'Energy lobby', 'Social initiative', 'Charging infrastructure provider', 'Influencer', 'Influencer', 'Politician', 'YouTube', 'Influencer', 'Influencer', 'Charging infrastructure provider', 'Company ', 'Influencer', 'E-News', 'Influencer', 'Company', 'News', 'Charging infrastructure provider', 'News', 'Politician', 'Company', 'Scientist', 'Influencer', 'Company', 'Company', 'Political party', 'Company', 'Political party', 'Influencer', 'Influencer', 'Company', 'Influencer', 'Influencer', 'Politician', 'Automotive club', 'Journalist', 'Journalist', 'Influencer', 'Company', 'Influencer', 'Influencer', 'Influencer', 'Influencer', 'Businessman', 'Company', 'Influencer', 'Company', 'Scientist', 'YouTube', 'Influencer', '-', 'Journalist', 'Influencer', 'Influencer', 'Influencer', 'Politician', 'Police Frankfurt', 'Influencer', 'Influencer', 'Company', 'Influencer', 'Influencer', 'Politician', 'Political party', 'Journalist', 'Politician', '-', 'Influencer', 'Company', 'Influencer', 'E-News', 'Author', 'Influencer ', 'Journalist', 'Influencer', 'Journalist', 'Businessman', 'Influencer ', 'Influencer', 'Influencer', 'Influencer', 'E-News', 'Politician', 'News', 'Influencer', 'Influencer', 'Influencer', 'Influencer', 'Influencer', 'Influencer', 'Influencer', 'Social initiative', 'Influencer', 'Political party', 'Influencer', 'Politician', 'News', 'Social initiative', 'Influencer', 'News', 'City', '-', 'Influencer', 'Politician', 'Scientist', 'Author', 'YouTube', '-', 'YouTube', 'Scientist', 'Police munich', 'Politician', 'Social initiative', 'Influencer', 'Consumer center', 'Influencer', 'Scientist']\n"
     ]
    }
   ],
   "source": [
    "print(df_1_user)"
   ]
  },
  {
   "cell_type": "code",
   "execution_count": 135,
   "id": "072d4383",
   "metadata": {},
   "outputs": [
    {
     "name": "stdout",
     "output_type": "stream",
     "text": [
      "             Mention  Count                         user_type\n",
      "420    Elektro_Robin    318                        Influencer\n",
      "0        kkklawitter    290                            Author\n",
      "44              EnBW    225  Charging infrastructure provider\n",
      "374      nextmove_de    206  Charging infrastructure provider\n",
      "578    thestanceman1    157                        Influencer\n",
      "...              ...    ...                               ...\n",
      "646       radkolumne     10                 Social initiative\n",
      "1932  alwayssimifuzi     10                        Influencer\n",
      "2350            vzbv     10                   Consumer center\n",
      "1579        wegeheld     10                        Influencer\n",
      "4172   ChristianOnRE     10                         Scientist\n",
      "\n",
      "[314 rows x 3 columns]\n"
     ]
    },
    {
     "name": "stderr",
     "output_type": "stream",
     "text": [
      "C:\\Users\\fabia\\AppData\\Local\\Temp\\ipykernel_4864\\1991351792.py:1: SettingWithCopyWarning: \n",
      "A value is trying to be set on a copy of a slice from a DataFrame.\n",
      "Try using .loc[row_indexer,col_indexer] = value instead\n",
      "\n",
      "See the caveats in the documentation: https://pandas.pydata.org/pandas-docs/stable/user_guide/indexing.html#returning-a-view-versus-a-copy\n",
      "  df_1_10['user_type'] = df_1_user\n"
     ]
    }
   ],
   "source": [
    "df_1_10['user_type'] = df_1_user\n",
    "\n",
    "print(df_1_10)"
   ]
  },
  {
   "cell_type": "code",
   "execution_count": 136,
   "id": "5193ff38",
   "metadata": {},
   "outputs": [],
   "source": [
    "df_1_10.to_csv('topic_1-with_user_type.csv', index=False)"
   ]
  },
  {
   "cell_type": "code",
   "execution_count": 137,
   "id": "55023ece",
   "metadata": {},
   "outputs": [
    {
     "name": "stdout",
     "output_type": "stream",
     "text": [
      "BMVI 16\n",
      "Enter user type: Federal Ministry of Transport and Digital Infrastructure\n",
      "glsbank 14\n",
      "Enter user type: Company\n",
      "peteraltmaier 13\n",
      "Enter user type: Politician\n"
     ]
    }
   ],
   "source": [
    "df_2_user = []\n",
    "for index, row in df_2_10.iterrows():\n",
    "    print(row['Mention'], row['Count'])\n",
    "    user_type = input(\"Enter user type: \")\n",
    "    df_2_user.append(user_type)"
   ]
  },
  {
   "cell_type": "code",
   "execution_count": 163,
   "id": "52240b38",
   "metadata": {},
   "outputs": [],
   "source": [
    "topic_0_negative_sentiment = topic_0_with_sentiment.loc[topic_0_with_sentiment['sentiment'] == 'Negative']\n",
    "topic_1_negative_sentiment = topic_1_with_sentiment.loc[topic_1_with_sentiment['sentiment'] == 'Negative']\n",
    "topic_2_negative_sentiment = topic_2_with_sentiment.loc[topic_2_with_sentiment['sentiment'] == 'Negative']"
   ]
  },
  {
   "cell_type": "code",
   "execution_count": 164,
   "id": "f1960326",
   "metadata": {},
   "outputs": [],
   "source": [
    "hashtags = []\n",
    "topic_0_negative_sentiment.apply(lambda x: get_hashtags(x), axis=1)\n",
    "topic_0_negative_hashtags = hashtags\n",
    "hashtags = []\n",
    "topic_1_negative_sentiment.apply(lambda x: get_hashtags(x), axis=1)\n",
    "topic_1_negative_hashtags = hashtags\n",
    "hashtags = []\n",
    "topic_2_negative_sentiment.apply(lambda x: get_hashtags(x), axis=1)\n",
    "topic_2_negative_hashtags = hashtags"
   ]
  },
  {
   "cell_type": "code",
   "execution_count": 166,
   "id": "a944cdc0",
   "metadata": {},
   "outputs": [
    {
     "name": "stdout",
     "output_type": "stream",
     "text": [
      "6604\n",
      "2682\n",
      "683\n"
     ]
    }
   ],
   "source": [
    "hashtags_0_negative_flat = [item for sublist in topic_0_negative_hashtags for item in sublist]\n",
    "print(len(hashtags_0_negative_flat))\n",
    "hashtags_1_negative_flat = [item for sublist in topic_1_negative_hashtags for item in sublist]\n",
    "print(len(hashtags_1_negative_flat))\n",
    "hashtags_2_negative_flat = [item for sublist in topic_2_negative_hashtags for item in sublist]\n",
    "print(len(hashtags_2_negative_flat))"
   ]
  },
  {
   "cell_type": "code",
   "execution_count": 167,
   "id": "d496b60b",
   "metadata": {},
   "outputs": [],
   "source": [
    "hashtag_0_negative_occurences = {i:hashtags_0_negative_flat.count(i) for i in hashtags_0_negative_flat}\n",
    "hashtag_1_negative_occurences = {i:hashtags_1_negative_flat.count(i) for i in hashtags_1_negative_flat}\n",
    "hashtag_2_negative_occurences = {i:hashtags_2_negative_flat.count(i) for i in hashtags_2_negative_flat}"
   ]
  },
  {
   "cell_type": "code",
   "execution_count": 168,
   "id": "51e6ec2b",
   "metadata": {},
   "outputs": [],
   "source": [
    "hashtag_0_negative_df = pd.DataFrame(list(hashtag_0_negative_occurences.items()), columns = ['Hashtag','Count'])\n",
    "hashtag_1_negative_df = pd.DataFrame(list(hashtag_1_negative_occurences.items()), columns = ['Hashtag','Count'])\n",
    "hashtag_2_negative_df = pd.DataFrame(list(hashtag_2_negative_occurences.items()), columns = ['Hashtag','Count'])"
   ]
  },
  {
   "cell_type": "code",
   "execution_count": 169,
   "id": "12ac6308",
   "metadata": {},
   "outputs": [],
   "source": [
    "sorted_0_negative_df = hashtag_0_negative_df.sort_values(by=['Count'], ascending=False)\n",
    "sorted_1_negative_df = hashtag_1_negative_df.sort_values(by=['Count'], ascending=False)\n",
    "sorted_2_negative_df = hashtag_2_negative_df.sort_values(by=['Count'], ascending=False)\n",
    "\n",
    "sorted_0_negative_df.to_csv(\"topic_0_negative-hashtag_occurence.csv\", index = False)\n",
    "sorted_1_negative_df.to_csv(\"topic_1_negative-hashtag_occurence.csv\", index = False)\n",
    "sorted_2_negative_df.to_csv(\"topic_2_negative-hashtag_occurence.csv\", index = False)"
   ]
  },
  {
   "cell_type": "code",
   "execution_count": 171,
   "id": "5704fa5e",
   "metadata": {},
   "outputs": [],
   "source": [
    "mentions = []\n",
    "topic_0_negative_sentiment.apply(lambda x: get_mentions(x), axis=1)\n",
    "topic_0_negative_mentions = mentions\n",
    "mentions = []\n",
    "topic_1_negative_sentiment.apply(lambda x: get_mentions(x), axis=1)\n",
    "topic_1_negative_mentions = mentions\n",
    "mentions = []\n",
    "topic_2_negative_sentiment.apply(lambda x: get_mentions(x), axis=1)\n",
    "topic_2_negative_mentions = mentions"
   ]
  },
  {
   "cell_type": "code",
   "execution_count": 172,
   "id": "db86314b",
   "metadata": {},
   "outputs": [],
   "source": [
    "mentions_0_negative_flat = [item for sublist in topic_0_negative_mentions for item in sublist]\n",
    "mentions_1_negative_flat = [item for sublist in topic_1_negative_mentions for item in sublist]\n",
    "mentions_2_negative_flat = [item for sublist in topic_2_negative_mentions for item in sublist]"
   ]
  },
  {
   "cell_type": "code",
   "execution_count": 173,
   "id": "744c6f3d",
   "metadata": {},
   "outputs": [],
   "source": [
    "mention_0_negative_occurences = {i:mentions_0_negative_flat.count(i) for i in mentions_0_negative_flat}\n",
    "mention_1_negative_occurences = {i:mentions_1_negative_flat.count(i) for i in mentions_1_negative_flat}\n",
    "mention_2_negative_occurences = {i:mentions_2_negative_flat.count(i) for i in mentions_2_negative_flat}"
   ]
  },
  {
   "cell_type": "code",
   "execution_count": 174,
   "id": "81ee1957",
   "metadata": {},
   "outputs": [],
   "source": [
    "mentions_0_negative_df = pd.DataFrame(list(mention_0_negative_occurences.items()), columns = ['Mention','Count'])\n",
    "mentions_1_negative_df = pd.DataFrame(list(mention_1_negative_occurences.items()), columns = ['Mention','Count'])\n",
    "mentions_2_negative_df = pd.DataFrame(list(mention_2_negative_occurences.items()), columns = ['Mention','Count'])"
   ]
  },
  {
   "cell_type": "code",
   "execution_count": 176,
   "id": "980012b7",
   "metadata": {},
   "outputs": [
    {
     "name": "stdout",
     "output_type": "stream",
     "text": [
      "                Mention  Count\n",
      "0               footils      1\n",
      "1            radiermann      4\n",
      "2                ohoerl      3\n",
      "3           kkklawitter     77\n",
      "4        Henrik30595432      1\n",
      "...                 ...    ...\n",
      "2859  Bundeskartellamts      1\n",
      "2860            hachtl1      1\n",
      "2861    thorstenbruns70      1\n",
      "2862        monnemfirst      1\n",
      "2863       MangaVenaqui      1\n",
      "\n",
      "[2864 rows x 2 columns]\n"
     ]
    }
   ],
   "source": [
    "print(mentions_0_negative_df)"
   ]
  },
  {
   "cell_type": "code",
   "execution_count": 178,
   "id": "29a50f18",
   "metadata": {},
   "outputs": [],
   "source": [
    "sorted_0_negative_df = mentions_0_negative_df.sort_values(by=['Count'], ascending=False)\n",
    "sorted_1_negative_df = mentions_1_negative_df.sort_values(by=['Count'], ascending=False)\n",
    "sorted_2_negative_df = mentions_2_negative_df.sort_values(by=['Count'], ascending=False)\n",
    "\n",
    "sorted_0_negative_df.to_csv(\"topic_0_negative-mention_occurence.csv\", index = False)\n",
    "sorted_1_negative_df.to_csv(\"topic_1_negative-mention_occurence.csv\", index = False)\n",
    "sorted_2_negative_df.to_csv(\"topic_2_negative-mention_occurence.csv\", index = False)"
   ]
  },
  {
   "cell_type": "code",
   "execution_count": 180,
   "id": "a8d6565f",
   "metadata": {},
   "outputs": [
    {
     "name": "stdout",
     "output_type": "stream",
     "text": [
      "            Mention  Count\n",
      "0       kkklawitter    186\n",
      "262   Elektro_Robin    184\n",
      "401            EnBW    138\n",
      "230     nextmove_de    126\n",
      "366   thestanceman1     89\n",
      "...             ...    ...\n",
      "2785  Leaving_Orbit      1\n",
      "838          DrBimi      1\n",
      "2787           rrho      1\n",
      "837         uds2019      1\n",
      "5369      Poveretto      1\n",
      "\n",
      "[5370 rows x 2 columns]\n",
      "              Mention  Count\n",
      "420     Elektro_Robin    318\n",
      "0         kkklawitter    290\n",
      "44               EnBW    225\n",
      "374       nextmove_de    206\n",
      "578     thestanceman1    157\n",
      "...               ...    ...\n",
      "3419  peter1974bayern      1\n",
      "3418       Taru_Tuomi      1\n",
      "3413     PapkeGerhard      1\n",
      "3412  AusDerUckermark      1\n",
      "7661        Poveretto      1\n",
      "\n",
      "[7662 rows x 2 columns]\n"
     ]
    }
   ],
   "source": [
    "print(sorted_1_negative_df)\n",
    "print(sorted_1_df)"
   ]
  },
  {
   "cell_type": "code",
   "execution_count": 144,
   "id": "d28975a9",
   "metadata": {},
   "outputs": [],
   "source": [
    "follower = pd.read_csv(work_dir + \"/users_with_followers.csv\")\n",
    "merged_user = pd.read_csv(work_dir + \"/merged_user.csv\")"
   ]
  },
  {
   "cell_type": "code",
   "execution_count": 156,
   "id": "da633c8c",
   "metadata": {},
   "outputs": [
    {
     "name": "stdout",
     "output_type": "stream",
     "text": [
      "(3766194, 4)\n",
      "(6319, 4)\n"
     ]
    }
   ],
   "source": [
    "print(follower.shape)\n",
    "follower_wo_duplicates = follower.drop_duplicates(subset=['username'])\n",
    "print(follower_wo_duplicates.shape)"
   ]
  },
  {
   "cell_type": "code",
   "execution_count": 157,
   "id": "6de631da",
   "metadata": {},
   "outputs": [],
   "source": [
    "inner_join = pd.merge(follower_wo_duplicates, merged_user, left_on = 'username', right_on = 'user_name', how='inner')\n"
   ]
  },
  {
   "cell_type": "code",
   "execution_count": 158,
   "id": "cbd79958",
   "metadata": {},
   "outputs": [
    {
     "name": "stdout",
     "output_type": "stream",
     "text": [
      "27\n"
     ]
    }
   ],
   "source": [
    "na_sum = inner_join['username'].isna().sum()\n",
    "print(na_sum)"
   ]
  },
  {
   "cell_type": "code",
   "execution_count": 159,
   "id": "ba26dd6a",
   "metadata": {},
   "outputs": [
    {
     "name": "stdout",
     "output_type": "stream",
     "text": [
      "      follower_id follower_username         username     user_id_x  \\\n",
      "0             NaN               NaN              NaN           NaN   \n",
      "1             NaN               NaN              NaN           NaN   \n",
      "2             NaN               NaN              NaN           NaN   \n",
      "3             NaN               NaN              NaN           NaN   \n",
      "4             NaN               NaN              NaN           NaN   \n",
      "..            ...               ...              ...           ...   \n",
      "259  8.363598e+07    tv_mittelrhein          gAndy84  5.067431e+07   \n",
      "260  1.242779e+18    EducationTrans  Fahrzeug_Bogner  1.067369e+18   \n",
      "261  1.260553e+18     verbandsbuero   handelsverband  5.523661e+07   \n",
      "262  1.514192e+09           BuschBu    Leon_Bergmann  2.569354e+08   \n",
      "263  1.498587e+18    GeraldFreitag9      zenner_news  3.677095e+09   \n",
      "\n",
      "     Unnamed: 0  follower_count     user_id_y        user_name  \n",
      "0           102             NaN           NaN              NaN  \n",
      "1           140             NaN           NaN              NaN  \n",
      "2           530             NaN           NaN              NaN  \n",
      "3          1171             NaN           NaN              NaN  \n",
      "4          2060             NaN           NaN              NaN  \n",
      "..          ...             ...           ...              ...  \n",
      "259        1667           578.0  5.067431e+07          gAndy84  \n",
      "260        9150             3.0  1.067369e+18  Fahrzeug_Bogner  \n",
      "261        8460          6459.0  5.523661e+07   handelsverband  \n",
      "262        8340          3711.0  2.569354e+08    Leon_Bergmann  \n",
      "263        8436           407.0  3.677095e+09      zenner_news  \n",
      "\n",
      "[264 rows x 8 columns]\n"
     ]
    }
   ],
   "source": [
    "# Follower collection might have failed for some reason\n",
    "print(inner_join)"
   ]
  },
  {
   "cell_type": "code",
   "execution_count": 120,
   "id": "62cdcbee",
   "metadata": {},
   "outputs": [],
   "source": [
    "work_dir = \"C:/Users/fabia/OneDrive - Otto-Friedrich-Universität Bamberg/Master/Masterarbeit/Data/Twitter\"\n",
    "\n",
    "topic_0_df = pd.read_csv(work_dir + \"/topic_0-with_sentiment.csv\")\n",
    "topic_1_df = pd.read_csv(work_dir + \"/topic_1-with_sentiment.csv\")\n",
    "topic_2_df = pd.read_csv(work_dir + \"/topic_2-with_sentiment.csv\")"
   ]
  },
  {
   "cell_type": "code",
   "execution_count": 121,
   "id": "783b7ec3",
   "metadata": {},
   "outputs": [],
   "source": [
    "topic_0_df['date'] = pd.to_datetime(topic_0_df['date'], errors='coerce')\n",
    "topic_1_df['date'] = pd.to_datetime(topic_1_df['date'], errors='coerce')\n",
    "topic_2_df['date'] = pd.to_datetime(topic_2_df['date'], errors='coerce')\n",
    "\n",
    "topic_0_df['date'] = topic_0_df['date'].dt.date\n",
    "topic_1_df['date'] = topic_1_df['date'].dt.date\n",
    "topic_2_df['date'] = topic_2_df['date'].dt.date"
   ]
  },
  {
   "cell_type": "code",
   "execution_count": 122,
   "id": "3be66a9e",
   "metadata": {},
   "outputs": [],
   "source": [
    "topic_0_df = topic_0_df.groupby('date', as_index=False, sort=True)['compound'].mean()\n",
    "topic_1_df = topic_1_df.groupby('date', as_index=False, sort=True)['compound'].mean()\n",
    "topic_2_df = topic_2_df.groupby('date', as_index=False, sort=True)['compound'].mean()\n",
    "\n",
    "start = datetime.datetime.strptime('07-01-2020', '%m-%d-%Y')\n",
    "end = datetime.datetime.strptime('04-01-2022', '%m-%d-%Y')\n",
    "\n",
    "topic_0_df = topic_0_df.loc[(topic_0_df['date']>=start.date()) & (topic_0_df['date']<= end.date())]"
   ]
  },
  {
   "cell_type": "code",
   "execution_count": 123,
   "id": "310f803d",
   "metadata": {},
   "outputs": [
    {
     "name": "stdout",
     "output_type": "stream",
     "text": [
      "0     -0.312514\n",
      "1     -0.360665\n",
      "2     -0.248603\n",
      "3     -0.200267\n",
      "4     -0.400580\n",
      "         ...   \n",
      "627   -0.254041\n",
      "628   -0.301142\n",
      "629   -0.217720\n",
      "630   -0.301037\n",
      "631   -0.351475\n",
      "Name: compound, Length: 632, dtype: float64\n"
     ]
    },
    {
     "data": {
      "image/png": "[encoded data removed]",
      "text/plain": [
       "<Figure size 432x288 with 1 Axes>"
      ]
     },
     "metadata": {},
     "output_type": "display_data"
    },
    {
     "name": "stdout",
     "output_type": "stream",
     "text": [
      "(-10.697492733089733, 3.5934211828655096e-19, 4, 627, {'1%': -3.440822526288827, '5%': -2.8661606613087542, '10%': -2.5692307337540603}, -738.7671597026379)\n",
      "-0.3158173714104576\n"
     ]
    }
   ],
   "source": [
    "print(topic_0_df[\"compound\"])\n",
    "plot = sns.lineplot(x=\"date\", y=\"compound\", data=topic_0_df)\n",
    "plt.xticks(rotation=90)\n",
    "plt.title('Average Comment Compound Sentiment: Topic 1 - 2020-2022')\n",
    "plt.xlabel('Date')\n",
    "plt.ylabel('Compound Sentiment')\n",
    "plot.xaxis.set_major_locator(md.MonthLocator())\n",
    "plot.xaxis.set_major_formatter(md.DateFormatter('%d-%m'))\n",
    "plot.xaxis.set_minor_locator(md.DayLocator(interval = 1))\n",
    "\n",
    "plt.show()\n",
    "\n",
    "print(adfuller(topic_0_df[\"compound\"]))\n",
    "print(mean(topic_0_df[\"compound\"]))"
   ]
  },
  {
   "cell_type": "code",
   "execution_count": 124,
   "id": "52333b3e",
   "metadata": {},
   "outputs": [
    {
     "name": "stdout",
     "output_type": "stream",
     "text": [
      "0     -0.347986\n",
      "1     -0.390744\n",
      "2     -0.244425\n",
      "3     -0.276300\n",
      "4     -0.245163\n",
      "         ...   \n",
      "653   -0.127311\n",
      "654   -0.217853\n",
      "655   -0.245475\n",
      "656   -0.418439\n",
      "657   -0.259525\n",
      "Name: compound, Length: 658, dtype: float64\n"
     ]
    },
    {
     "data": {
      "image/png": "[encoded data removed]",
      "text/plain": [
       "<Figure size 432x288 with 1 Axes>"
      ]
     },
     "metadata": {},
     "output_type": "display_data"
    },
    {
     "name": "stdout",
     "output_type": "stream",
     "text": [
      "(-25.854717136397817, 0.0, 0, 657, {'1%': -3.440342440623255, '5%': -2.8659491890487026, '10%': -2.569118060113657}, -1028.417586748659)\n",
      "-0.34551430995065263\n"
     ]
    }
   ],
   "source": [
    "print(topic_1_df[\"compound\"])\n",
    "plot = sns.lineplot(x=\"date\", y=\"compound\", data=topic_1_df)\n",
    "plt.xticks(rotation=90)\n",
    "plt.title('Average Comment Compound Sentiment: Topic 2 - 2020-2022')\n",
    "plt.xlabel('Date')\n",
    "plt.ylabel('Compound Sentiment')\n",
    "plot.xaxis.set_major_locator(md.MonthLocator())\n",
    "plot.xaxis.set_major_formatter(md.DateFormatter('%d-%m'))\n",
    "plot.xaxis.set_minor_locator(md.DayLocator(interval = 1))\n",
    "\n",
    "plt.show()\n",
    "\n",
    "print(adfuller(topic_1_df[\"compound\"]))\n",
    "print(mean(topic_1_df[\"compound\"]))"
   ]
  },
  {
   "cell_type": "code",
   "execution_count": 125,
   "id": "9624f9e9",
   "metadata": {},
   "outputs": [
    {
     "name": "stdout",
     "output_type": "stream",
     "text": [
      "0     -0.160367\n",
      "1      0.000000\n",
      "2     -0.217964\n",
      "3     -0.149850\n",
      "4      0.000000\n",
      "         ...   \n",
      "507   -0.477000\n",
      "508   -0.199800\n",
      "509   -0.500650\n",
      "510    0.000000\n",
      "511   -0.166320\n",
      "Name: compound, Length: 512, dtype: float64\n"
     ]
    },
    {
     "data": {
      "image/png": "[encoded data removed]",
      "text/plain": [
       "<Figure size 432x288 with 1 Axes>"
      ]
     },
     "metadata": {},
     "output_type": "display_data"
    },
    {
     "name": "stdout",
     "output_type": "stream",
     "text": [
      "(-22.11169552017725, 0.0, 0, 511, {'1%': -3.4432119442564324, '5%': -2.8672126791646955, '10%': -2.569791324979607}, -95.10778954934915)\n",
      "-0.13883144376562087\n"
     ]
    }
   ],
   "source": [
    "print(topic_2_df[\"compound\"])\n",
    "plot = sns.lineplot(x=\"date\", y=\"compound\", data=topic_2_df)\n",
    "plt.xticks(rotation=90)\n",
    "plt.title('Average Comment Compound Sentiment: Topic 2 - 2020-2022')\n",
    "plt.xlabel('Date')\n",
    "plt.ylabel('Compound Sentiment')\n",
    "plot.xaxis.set_major_locator(md.MonthLocator())\n",
    "plot.xaxis.set_major_formatter(md.DateFormatter('%d-%m'))\n",
    "plot.xaxis.set_minor_locator(md.DayLocator(interval = 1))\n",
    "\n",
    "plt.show()\n",
    "\n",
    "print(adfuller(topic_2_df[\"compound\"]))\n",
    "print(mean(topic_2_df[\"compound\"]))"
   ]
  }
 ],
 "metadata": {
  "kernelspec": {
   "display_name": "Python 3 (ipykernel)",
   "language": "python",
   "name": "python3"
  },
  "language_info": {
   "codemirror_mode": {
    "name": "ipython",
    "version": 3
   },
   "file_extension": ".py",
   "mimetype": "text/x-python",
   "name": "python",
   "nbconvert_exporter": "python",
   "pygments_lexer": "ipython3",
   "version": "3.8.12"
  }
 },
 "nbformat": 4,
 "nbformat_minor": 5
}
